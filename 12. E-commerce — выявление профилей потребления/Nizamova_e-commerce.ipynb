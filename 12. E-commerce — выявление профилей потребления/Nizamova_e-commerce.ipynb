{
 "cells": [
  {
   "cell_type": "markdown",
   "metadata": {},
   "source": [
    "# Материалы\n",
    "* [Презентация](https://disk.yandex.ru/i/hCZRVc5BILGqIA) \n",
    "* [Дашборд](https://public.tableau.com/app/profile/liliya5413/viz/E-commerce_16591737906080/Dashboard1)"
   ]
  },
  {
   "cell_type": "markdown",
   "metadata": {},
   "source": [
    "# E-commerce — Выявление профилей потребления\n",
    "### Задача:\n",
    "\n",
    "Сегментировать покупателей по профилю потребления\n",
    "\n",
    "- Проведите исследовательский анализ данных\n",
    "- Сегментируйте покупателей на основе истории их покупок\n",
    "\n",
    "Как сегментация может помочь в разработке более персонализированных предложений для покупателей?\n",
    "Попробуйте сформировать сегменты на основе того, что покупают пользователи. Для этого вы можете проанализировать их покупки и сегментировать товары на основе принадлежности к той или иной товарной категории.\n",
    "- Сформулируйте и проверьте статистические гипотезы\n",
    "\n",
    "### **Описание данных:**\n",
    "\n",
    "Датасет описывает транзакции интернет-магазина товаров для дома и быта «Пока все ещё тут».\n",
    "\n",
    "Колонки в  *ecommerce_dataset.csv* :\n",
    "\n",
    "- `date` — дата заказа;\n",
    "- `customer_id` — идентификатор покупателя;\n",
    "- `order_id` — идентификатор заказа;\n",
    "- `product` — наименование товара;\n",
    "- `quantity` — количество товара в заказе;\n",
    "- `price` — цена товара.\n",
    "\n",
    "## Декомпозиция \n",
    "\n",
    "### Предобработка данных\n",
    "- Оформление столбцов (тип написания, ширина столбцов, вывод длины строк)\n",
    "- Проверка на пропуски \n",
    "- Проверка дубликатов\n",
    "- Заполнение или удаление пропусков (если необходимо)\n",
    "- Удаление дубликатов\n",
    "- Преобразование типов данных (если необходимо)\n",
    "- Проработка выбросов\n",
    "\n",
    "### Исследовательский анализ\n",
    "- Категоризация товаров. Разбивка продукции по категориям.\n",
    "- даты совершения покупки. Выделить месяцы покупок\n",
    "\n",
    "\n",
    "### Построить модель прогнозирования покупок\n",
    "С помощью дерева разбить на кластеры (количественные значения по покупке -по столбцам price, quantity и т.д). K-means провести кластеризацию.\n",
    "На графиках посмотреть зависимости.\n",
    "\n",
    "#### Сегментация покупателей на основе:\n",
    "- категории товаров\n",
    "\n",
    "- сезонности (по месяцам)\n",
    "\n",
    "- по сумме заказа. Посмотреть прибыльность\n",
    "\n",
    "### Проверить гипотезы \n",
    "    - 1- `между кластерами есть статистическая значимая разница по количеству товара`\n",
    "    - 2- `между кластерами есть статистическая значимая разница по общей стоимости`"
   ]
  },
  {
   "cell_type": "markdown",
   "metadata": {},
   "source": [
    "## Загрузка библиотек"
   ]
  },
  {
   "cell_type": "code",
   "execution_count": 1,
   "metadata": {},
   "outputs": [],
   "source": [
    "import pandas as pd\n",
    "import numpy as np\n",
    "\n",
    "import matplotlib.pyplot as plt\n",
    "import seaborn as sns\n",
    "sns.set()\n",
    "import plotly.express as px\n",
    "from plotly import graph_objects as go\n",
    "\n",
    "from sklearn.preprocessing import StandardScaler\n",
    "from sklearn.linear_model import LogisticRegression\n",
    "from sklearn.ensemble import RandomForestClassifier\n",
    "from sklearn.cluster import KMeans\n",
    "\n",
    "from scipy.cluster.hierarchy import dendrogram, linkage\n",
    "from scipy import stats as st"
   ]
  },
  {
   "cell_type": "markdown",
   "metadata": {},
   "source": [
    "## Загрузка файла"
   ]
  },
  {
   "cell_type": "code",
   "execution_count": 2,
   "metadata": {},
   "outputs": [
    {
     "data": {
      "text/html": [
       "<div>\n",
       "<style scoped>\n",
       "    .dataframe tbody tr th:only-of-type {\n",
       "        vertical-align: middle;\n",
       "    }\n",
       "\n",
       "    .dataframe tbody tr th {\n",
       "        vertical-align: top;\n",
       "    }\n",
       "\n",
       "    .dataframe thead th {\n",
       "        text-align: right;\n",
       "    }\n",
       "</style>\n",
       "<table border=\"1\" class=\"dataframe\">\n",
       "  <thead>\n",
       "    <tr style=\"text-align: right;\">\n",
       "      <th></th>\n",
       "      <th>date</th>\n",
       "      <th>customer_id</th>\n",
       "      <th>order_id</th>\n",
       "      <th>product</th>\n",
       "      <th>quantity</th>\n",
       "      <th>price</th>\n",
       "    </tr>\n",
       "  </thead>\n",
       "  <tbody>\n",
       "    <tr>\n",
       "      <th>0</th>\n",
       "      <td>2018100100</td>\n",
       "      <td>ee47d746-6d2f-4d3c-9622-c31412542920</td>\n",
       "      <td>68477</td>\n",
       "      <td>Комнатное растение в горшке Алое Вера, d12, h30</td>\n",
       "      <td>1</td>\n",
       "      <td>142.0</td>\n",
       "    </tr>\n",
       "    <tr>\n",
       "      <th>1</th>\n",
       "      <td>2018100100</td>\n",
       "      <td>ee47d746-6d2f-4d3c-9622-c31412542920</td>\n",
       "      <td>68477</td>\n",
       "      <td>Комнатное растение в горшке Кофе Арабика, d12,...</td>\n",
       "      <td>1</td>\n",
       "      <td>194.0</td>\n",
       "    </tr>\n",
       "    <tr>\n",
       "      <th>2</th>\n",
       "      <td>2018100100</td>\n",
       "      <td>ee47d746-6d2f-4d3c-9622-c31412542920</td>\n",
       "      <td>68477</td>\n",
       "      <td>Радермахера d-12 см h-20 см</td>\n",
       "      <td>1</td>\n",
       "      <td>112.0</td>\n",
       "    </tr>\n",
       "    <tr>\n",
       "      <th>3</th>\n",
       "      <td>2018100100</td>\n",
       "      <td>ee47d746-6d2f-4d3c-9622-c31412542920</td>\n",
       "      <td>68477</td>\n",
       "      <td>Хризолидокарпус Лутесценс d-9 см</td>\n",
       "      <td>1</td>\n",
       "      <td>179.0</td>\n",
       "    </tr>\n",
       "    <tr>\n",
       "      <th>4</th>\n",
       "      <td>2018100100</td>\n",
       "      <td>ee47d746-6d2f-4d3c-9622-c31412542920</td>\n",
       "      <td>68477</td>\n",
       "      <td>Циперус Зумула d-12 см h-25 см</td>\n",
       "      <td>1</td>\n",
       "      <td>112.0</td>\n",
       "    </tr>\n",
       "  </tbody>\n",
       "</table>\n",
       "</div>"
      ],
      "text/plain": [
       "         date                           customer_id  order_id  \\\n",
       "0  2018100100  ee47d746-6d2f-4d3c-9622-c31412542920     68477   \n",
       "1  2018100100  ee47d746-6d2f-4d3c-9622-c31412542920     68477   \n",
       "2  2018100100  ee47d746-6d2f-4d3c-9622-c31412542920     68477   \n",
       "3  2018100100  ee47d746-6d2f-4d3c-9622-c31412542920     68477   \n",
       "4  2018100100  ee47d746-6d2f-4d3c-9622-c31412542920     68477   \n",
       "\n",
       "                                             product  quantity  price  \n",
       "0    Комнатное растение в горшке Алое Вера, d12, h30         1  142.0  \n",
       "1  Комнатное растение в горшке Кофе Арабика, d12,...         1  194.0  \n",
       "2                        Радермахера d-12 см h-20 см         1  112.0  \n",
       "3                   Хризолидокарпус Лутесценс d-9 см         1  179.0  \n",
       "4                     Циперус Зумула d-12 см h-25 см         1  112.0  "
      ]
     },
     "metadata": {},
     "output_type": "display_data"
    },
    {
     "name": "stdout",
     "output_type": "stream",
     "text": [
      "<class 'pandas.core.frame.DataFrame'>\n",
      "RangeIndex: 6737 entries, 0 to 6736\n",
      "Data columns (total 6 columns):\n",
      " #   Column       Non-Null Count  Dtype  \n",
      "---  ------       --------------  -----  \n",
      " 0   date         6737 non-null   int64  \n",
      " 1   customer_id  6737 non-null   object \n",
      " 2   order_id     6737 non-null   int64  \n",
      " 3   product      6737 non-null   object \n",
      " 4   quantity     6737 non-null   int64  \n",
      " 5   price        6737 non-null   float64\n",
      "dtypes: float64(1), int64(3), object(2)\n",
      "memory usage: 315.9+ KB\n",
      "----------------------\n",
      "Количество дубликатов: 0\n",
      "----------------------\n",
      "Количество уникальных имен:\n",
      " date           2606\n",
      "customer_id    2451\n",
      "order_id       2784\n",
      "product        2343\n",
      "quantity         49\n",
      "price           360\n",
      "dtype: int64\n"
     ]
    }
   ],
   "source": [
    "try:\n",
    "    # Открыли файл https://docs.google.com/spreadsheets/d/1ew-6mVtQ8lbh3EZg3eE63dHyWV_-iMOtFSFxyzoUd64/edit#gid=1270656379\n",
    "    url = 'https://docs.google.com/spreadsheets/d/1ew-6mVtQ8lbh3EZg3eE63dHyWV_-iMOtFSFxyzoUd64/edit?usp=sharing'\n",
    "    url.split('/')\n",
    "    id = url.split('/')[5]\n",
    "    df = pd.read_csv(f'https://docs.google.com/spreadsheets/d/{id}/export?format=csv')\n",
    "    display(df.head())\n",
    "except:\n",
    "    df= pd.read_csv('D:\\IT\\courses Python\\yandex_practicum\\\\12_last_project\\ecommerce_dataset.csv')\n",
    "\n",
    "    \n",
    "df.info()\n",
    "print('----------------------')\n",
    "print('Количество дубликатов:', df.duplicated().sum())\n",
    "print('----------------------')\n",
    "print('Количество уникальных имен:\\n', df.nunique())"
   ]
  },
  {
   "cell_type": "markdown",
   "metadata": {},
   "source": [
    "## Предобработка данных"
   ]
  },
  {
   "cell_type": "code",
   "execution_count": 3,
   "metadata": {
    "scrolled": true
   },
   "outputs": [
    {
     "data": {
      "text/html": [
       "<div>\n",
       "<style scoped>\n",
       "    .dataframe tbody tr th:only-of-type {\n",
       "        vertical-align: middle;\n",
       "    }\n",
       "\n",
       "    .dataframe tbody tr th {\n",
       "        vertical-align: top;\n",
       "    }\n",
       "\n",
       "    .dataframe thead th {\n",
       "        text-align: right;\n",
       "    }\n",
       "</style>\n",
       "<table border=\"1\" class=\"dataframe\">\n",
       "  <thead>\n",
       "    <tr style=\"text-align: right;\">\n",
       "      <th></th>\n",
       "      <th>customer_id</th>\n",
       "      <th>order_id</th>\n",
       "      <th>product</th>\n",
       "      <th>quantity</th>\n",
       "      <th>price</th>\n",
       "    </tr>\n",
       "  </thead>\n",
       "  <tbody>\n",
       "    <tr>\n",
       "      <th>0</th>\n",
       "      <td>ee47d746-6d2f-4d3c-9622-c31412542920</td>\n",
       "      <td>68477</td>\n",
       "      <td>Комнатное растение в горшке Алое Вера, d12, h30</td>\n",
       "      <td>1</td>\n",
       "      <td>142.0</td>\n",
       "    </tr>\n",
       "    <tr>\n",
       "      <th>1</th>\n",
       "      <td>ee47d746-6d2f-4d3c-9622-c31412542920</td>\n",
       "      <td>68477</td>\n",
       "      <td>Комнатное растение в горшке Кофе Арабика, d12, h25</td>\n",
       "      <td>1</td>\n",
       "      <td>194.0</td>\n",
       "    </tr>\n",
       "  </tbody>\n",
       "</table>\n",
       "</div>"
      ],
      "text/plain": [
       "                            customer_id  order_id  \\\n",
       "0  ee47d746-6d2f-4d3c-9622-c31412542920     68477   \n",
       "1  ee47d746-6d2f-4d3c-9622-c31412542920     68477   \n",
       "\n",
       "                                              product  quantity  price  \n",
       "0     Комнатное растение в горшке Алое Вера, d12, h30         1  142.0  \n",
       "1  Комнатное растение в горшке Кофе Арабика, d12, h25         1  194.0  "
      ]
     },
     "metadata": {},
     "output_type": "display_data"
    },
    {
     "name": "stdout",
     "output_type": "stream",
     "text": [
      "Количество дубликатов: 1864, что составляет 27.7%\n"
     ]
    }
   ],
   "source": [
    "# Установим максимальную ширину столбца = 100\n",
    "pd.options.display.max_colwidth = 100\n",
    "\n",
    "#Привели тип данных даты с оключением контроля формата\n",
    "df['date'] = pd.to_datetime(df['date'], format='%Y%m%d', exact=False)\n",
    "\n",
    "#Проверили количество дубликатов удалением столбца date\n",
    "df_drop= df.drop('date', axis=1)\n",
    "display(df_drop.head(2))\n",
    "print(f'Количество дубликатов: {df_drop.duplicated().sum()}, \\\n",
    "что составляет {round(df_drop.duplicated().sum() / len(df) *100, 1)}%')"
   ]
  },
  {
   "cell_type": "code",
   "execution_count": 4,
   "metadata": {},
   "outputs": [
    {
     "data": {
      "text/html": [
       "<div>\n",
       "<style scoped>\n",
       "    .dataframe tbody tr th:only-of-type {\n",
       "        vertical-align: middle;\n",
       "    }\n",
       "\n",
       "    .dataframe tbody tr th {\n",
       "        vertical-align: top;\n",
       "    }\n",
       "\n",
       "    .dataframe thead th {\n",
       "        text-align: right;\n",
       "    }\n",
       "</style>\n",
       "<table border=\"1\" class=\"dataframe\">\n",
       "  <thead>\n",
       "    <tr style=\"text-align: right;\">\n",
       "      <th></th>\n",
       "      <th>date</th>\n",
       "      <th>customer_id</th>\n",
       "      <th>order_id</th>\n",
       "      <th>product</th>\n",
       "      <th>quantity</th>\n",
       "      <th>price</th>\n",
       "    </tr>\n",
       "  </thead>\n",
       "  <tbody>\n",
       "    <tr>\n",
       "      <th>376</th>\n",
       "      <td>2018-10-23</td>\n",
       "      <td>b80e4826-7218-4bf9-ac08-eb2c81ab3f62</td>\n",
       "      <td>13547</td>\n",
       "      <td>Рассада зелени для кухни Лаванды в кассете по 6 шт</td>\n",
       "      <td>1</td>\n",
       "      <td>315.0</td>\n",
       "    </tr>\n",
       "    <tr>\n",
       "      <th>509</th>\n",
       "      <td>2018-10-28</td>\n",
       "      <td>b80e4826-7218-4bf9-ac08-eb2c81ab3f62</td>\n",
       "      <td>13547</td>\n",
       "      <td>Рассада зелени для кухни Лаванды в кассете по 6 шт</td>\n",
       "      <td>1</td>\n",
       "      <td>315.0</td>\n",
       "    </tr>\n",
       "    <tr>\n",
       "      <th>588</th>\n",
       "      <td>2018-11-02</td>\n",
       "      <td>b80e4826-7218-4bf9-ac08-eb2c81ab3f62</td>\n",
       "      <td>13547</td>\n",
       "      <td>Рассада зелени для кухни Лаванды в кассете по 6 шт</td>\n",
       "      <td>1</td>\n",
       "      <td>315.0</td>\n",
       "    </tr>\n",
       "    <tr>\n",
       "      <th>758</th>\n",
       "      <td>2018-11-10</td>\n",
       "      <td>b80e4826-7218-4bf9-ac08-eb2c81ab3f62</td>\n",
       "      <td>13547</td>\n",
       "      <td>Рассада зелени для кухни Лаванды в кассете по 6 шт</td>\n",
       "      <td>1</td>\n",
       "      <td>315.0</td>\n",
       "    </tr>\n",
       "    <tr>\n",
       "      <th>816</th>\n",
       "      <td>2018-11-15</td>\n",
       "      <td>b80e4826-7218-4bf9-ac08-eb2c81ab3f62</td>\n",
       "      <td>13547</td>\n",
       "      <td>Рассада зелени для кухни Лаванды в кассете по 6 шт</td>\n",
       "      <td>1</td>\n",
       "      <td>315.0</td>\n",
       "    </tr>\n",
       "    <tr>\n",
       "      <th>827</th>\n",
       "      <td>2018-11-16</td>\n",
       "      <td>b80e4826-7218-4bf9-ac08-eb2c81ab3f62</td>\n",
       "      <td>13547</td>\n",
       "      <td>Рассада зелени для кухни Лаванды в кассете по 6 шт</td>\n",
       "      <td>1</td>\n",
       "      <td>315.0</td>\n",
       "    </tr>\n",
       "  </tbody>\n",
       "</table>\n",
       "</div>"
      ],
      "text/plain": [
       "          date                           customer_id  order_id  \\\n",
       "376 2018-10-23  b80e4826-7218-4bf9-ac08-eb2c81ab3f62     13547   \n",
       "509 2018-10-28  b80e4826-7218-4bf9-ac08-eb2c81ab3f62     13547   \n",
       "588 2018-11-02  b80e4826-7218-4bf9-ac08-eb2c81ab3f62     13547   \n",
       "758 2018-11-10  b80e4826-7218-4bf9-ac08-eb2c81ab3f62     13547   \n",
       "816 2018-11-15  b80e4826-7218-4bf9-ac08-eb2c81ab3f62     13547   \n",
       "827 2018-11-16  b80e4826-7218-4bf9-ac08-eb2c81ab3f62     13547   \n",
       "\n",
       "                                                product  quantity  price  \n",
       "376  Рассада зелени для кухни Лаванды в кассете по 6 шт         1  315.0  \n",
       "509  Рассада зелени для кухни Лаванды в кассете по 6 шт         1  315.0  \n",
       "588  Рассада зелени для кухни Лаванды в кассете по 6 шт         1  315.0  \n",
       "758  Рассада зелени для кухни Лаванды в кассете по 6 шт         1  315.0  \n",
       "816  Рассада зелени для кухни Лаванды в кассете по 6 шт         1  315.0  \n",
       "827  Рассада зелени для кухни Лаванды в кассете по 6 шт         1  315.0  "
      ]
     },
     "metadata": {},
     "output_type": "display_data"
    },
    {
     "name": "stdout",
     "output_type": "stream",
     "text": [
      "Количество дубликатов: \n",
      "customer_id    0.0\n",
      "order_id       0.0\n",
      "product        0.0\n",
      "quantity       0.0\n",
      "price          0.0\n",
      "dtype: float64\n",
      "\n",
      "----------------------\n",
      "<class 'pandas.core.frame.DataFrame'>\n",
      "Int64Index: 4851 entries, 0 to 6736\n",
      "Data columns (total 6 columns):\n",
      " #   Column       Non-Null Count  Dtype         \n",
      "---  ------       --------------  -----         \n",
      " 0   date         4851 non-null   datetime64[ns]\n",
      " 1   customer_id  4851 non-null   object        \n",
      " 2   order_id     4851 non-null   int64         \n",
      " 3   product      4851 non-null   object        \n",
      " 4   quantity     4851 non-null   int64         \n",
      " 5   price        4851 non-null   float64       \n",
      "dtypes: datetime64[ns](1), float64(1), int64(2), object(2)\n",
      "memory usage: 265.3+ KB\n",
      "----------------------\n",
      "\n",
      " Количество уникальных имен:\n",
      " date            393\n",
      "customer_id    2451\n",
      "order_id       2784\n",
      "product        2343\n",
      "quantity         49\n",
      "price           360\n",
      "dtype: int64\n"
     ]
    },
    {
     "name": "stderr",
     "output_type": "stream",
     "text": [
      "C:\\Users\\nikit\\AppData\\Local\\Temp\\ipykernel_2692\\2251236081.py:8: FutureWarning: Dropping of nuisance columns in DataFrame reductions (with 'numeric_only=None') is deprecated; in a future version this will raise TypeError.  Select only valid columns before calling the reduction.\n",
      "  print(f'Количество дубликатов: \\n{df[df.duplicated()].sum()}\\n')\n"
     ]
    },
    {
     "data": {
      "text/html": [
       "<div>\n",
       "<style scoped>\n",
       "    .dataframe tbody tr th:only-of-type {\n",
       "        vertical-align: middle;\n",
       "    }\n",
       "\n",
       "    .dataframe tbody tr th {\n",
       "        vertical-align: top;\n",
       "    }\n",
       "\n",
       "    .dataframe thead th {\n",
       "        text-align: right;\n",
       "    }\n",
       "</style>\n",
       "<table border=\"1\" class=\"dataframe\">\n",
       "  <thead>\n",
       "    <tr style=\"text-align: right;\">\n",
       "      <th></th>\n",
       "      <th>date</th>\n",
       "      <th>customer_id</th>\n",
       "      <th>order_id</th>\n",
       "      <th>product</th>\n",
       "      <th>quantity</th>\n",
       "      <th>price</th>\n",
       "    </tr>\n",
       "  </thead>\n",
       "  <tbody>\n",
       "    <tr>\n",
       "      <th>6734</th>\n",
       "      <td>2019-10-31</td>\n",
       "      <td>25df96a7-c453-4708-9cea-a3dfc7c342ea</td>\n",
       "      <td>73162</td>\n",
       "      <td>Герань домашняя (пеларгония зональная) цветущая D12, H25-30, малиновая с красным, полумахровая</td>\n",
       "      <td>1</td>\n",
       "      <td>157.0</td>\n",
       "    </tr>\n",
       "    <tr>\n",
       "      <th>6735</th>\n",
       "      <td>2019-10-31</td>\n",
       "      <td>73d1cd35-5e5f-4629-8cf2-3fda829d4e58</td>\n",
       "      <td>73164</td>\n",
       "      <td>Таз пластмассовый со стиральной доской (Иж), 1404021</td>\n",
       "      <td>1</td>\n",
       "      <td>397.0</td>\n",
       "    </tr>\n",
       "    <tr>\n",
       "      <th>6736</th>\n",
       "      <td>2019-10-31</td>\n",
       "      <td>344aa778-e436-419e-a9c6-9b8f37b7c1df</td>\n",
       "      <td>73137</td>\n",
       "      <td>Сумка-тележка 2-х колесная Gimi Argo синяя</td>\n",
       "      <td>1</td>\n",
       "      <td>1087.0</td>\n",
       "    </tr>\n",
       "  </tbody>\n",
       "</table>\n",
       "</div>"
      ],
      "text/plain": [
       "           date                           customer_id  order_id  \\\n",
       "6734 2019-10-31  25df96a7-c453-4708-9cea-a3dfc7c342ea     73162   \n",
       "6735 2019-10-31  73d1cd35-5e5f-4629-8cf2-3fda829d4e58     73164   \n",
       "6736 2019-10-31  344aa778-e436-419e-a9c6-9b8f37b7c1df     73137   \n",
       "\n",
       "                                                                                             product  \\\n",
       "6734  Герань домашняя (пеларгония зональная) цветущая D12, H25-30, малиновая с красным, полумахровая   \n",
       "6735                                            Таз пластмассовый со стиральной доской (Иж), 1404021   \n",
       "6736                                                      Сумка-тележка 2-х колесная Gimi Argo синяя   \n",
       "\n",
       "      quantity   price  \n",
       "6734         1   157.0  \n",
       "6735         1   397.0  \n",
       "6736         1  1087.0  "
      ]
     },
     "execution_count": 4,
     "metadata": {},
     "output_type": "execute_result"
    }
   ],
   "source": [
    "# Посмотрим дубликаты с учетом только 'customer_id', 'order_id', 'product'\n",
    "display(df[df.duplicated(subset=['customer_id', 'order_id', 'product'])]\\\n",
    "        .sort_values(by=['order_id', 'product'], ascending=False).tail(6))\n",
    "\n",
    "# Оставим последную запись, остальное удалим\n",
    "df.drop_duplicates(subset=['customer_id', 'order_id', 'product'], keep='last', inplace=True)\n",
    "\n",
    "print(f'Количество дубликатов: \\n{df[df.duplicated()].sum()}\\n')\n",
    "print('----------------------')\n",
    "df.info()\n",
    "print('----------------------')\n",
    "print('\\n Количество уникальных имен:\\n', df.nunique())\n",
    "df.tail(3)"
   ]
  },
  {
   "cell_type": "code",
   "execution_count": 5,
   "metadata": {
    "scrolled": true
   },
   "outputs": [
    {
     "data": {
      "text/html": [
       "<div>\n",
       "<style scoped>\n",
       "    .dataframe tbody tr th:only-of-type {\n",
       "        vertical-align: middle;\n",
       "    }\n",
       "\n",
       "    .dataframe tbody tr th {\n",
       "        vertical-align: top;\n",
       "    }\n",
       "\n",
       "    .dataframe thead th {\n",
       "        text-align: right;\n",
       "    }\n",
       "</style>\n",
       "<table border=\"1\" class=\"dataframe\">\n",
       "  <thead>\n",
       "    <tr style=\"text-align: right;\">\n",
       "      <th></th>\n",
       "      <th>order_id</th>\n",
       "      <th>quantity</th>\n",
       "      <th>price</th>\n",
       "    </tr>\n",
       "  </thead>\n",
       "  <tbody>\n",
       "    <tr>\n",
       "      <th>count</th>\n",
       "      <td>4851.000000</td>\n",
       "      <td>4851.000000</td>\n",
       "      <td>4851.000000</td>\n",
       "    </tr>\n",
       "    <tr>\n",
       "      <th>mean</th>\n",
       "      <td>48267.589981</td>\n",
       "      <td>2.835910</td>\n",
       "      <td>516.092971</td>\n",
       "    </tr>\n",
       "    <tr>\n",
       "      <th>std</th>\n",
       "      <td>27333.809628</td>\n",
       "      <td>17.642155</td>\n",
       "      <td>946.085142</td>\n",
       "    </tr>\n",
       "    <tr>\n",
       "      <th>min</th>\n",
       "      <td>12624.000000</td>\n",
       "      <td>1.000000</td>\n",
       "      <td>9.000000</td>\n",
       "    </tr>\n",
       "    <tr>\n",
       "      <th>25%</th>\n",
       "      <td>14774.000000</td>\n",
       "      <td>1.000000</td>\n",
       "      <td>90.000000</td>\n",
       "    </tr>\n",
       "    <tr>\n",
       "      <th>50%</th>\n",
       "      <td>68860.000000</td>\n",
       "      <td>1.000000</td>\n",
       "      <td>150.000000</td>\n",
       "    </tr>\n",
       "    <tr>\n",
       "      <th>75%</th>\n",
       "      <td>70835.500000</td>\n",
       "      <td>1.000000</td>\n",
       "      <td>502.000000</td>\n",
       "    </tr>\n",
       "    <tr>\n",
       "      <th>max</th>\n",
       "      <td>73164.000000</td>\n",
       "      <td>1000.000000</td>\n",
       "      <td>14917.000000</td>\n",
       "    </tr>\n",
       "  </tbody>\n",
       "</table>\n",
       "</div>"
      ],
      "text/plain": [
       "           order_id     quantity         price\n",
       "count   4851.000000  4851.000000   4851.000000\n",
       "mean   48267.589981     2.835910    516.092971\n",
       "std    27333.809628    17.642155    946.085142\n",
       "min    12624.000000     1.000000      9.000000\n",
       "25%    14774.000000     1.000000     90.000000\n",
       "50%    68860.000000     1.000000    150.000000\n",
       "75%    70835.500000     1.000000    502.000000\n",
       "max    73164.000000  1000.000000  14917.000000"
      ]
     },
     "execution_count": 5,
     "metadata": {},
     "output_type": "execute_result"
    }
   ],
   "source": [
    "# Посмотрим характеристики данных.\n",
    "df.describe()"
   ]
  },
  {
   "cell_type": "markdown",
   "metadata": {},
   "source": [
    "**`В количестве товаров в заказе есть выбросы`**"
   ]
  },
  {
   "cell_type": "code",
   "execution_count": 6,
   "metadata": {
    "scrolled": false
   },
   "outputs": [
    {
     "data": {
      "image/png": "[encoded data removed]",
      "text/plain": [
       "<Figure size 504x504 with 1 Axes>"
      ]
     },
     "metadata": {},
     "output_type": "display_data"
    }
   ],
   "source": [
    "# Посмотрим соотношение покупателей и количество заказов\n",
    "df_quantity = (\n",
    "    df.groupby('customer_id')\n",
    "    .agg({'customer_id': 'count', 'quantity': 'median'})\n",
    "    .rename(columns={'customer_id': 'id_count'})\n",
    "    .reset_index()\n",
    ")\n",
    "df_quantity.head(2)\n",
    "\n",
    "plt.figure(figsize=(7,7))\n",
    "plt.scatter(df_quantity['quantity'], df_quantity['id_count'])\n",
    "plt.xlabel('Количество товара в заказе, шт')\n",
    "plt.ylabel('Количество покупателей, шт')\n",
    "plt.title('Соотношение количества покупателей \\nи их медианного количества товара в заказе', fontsize=13)\n",
    "plt.axhline(np.percentile(df_quantity['id_count'], 95), linestyle='--', color='red')\n",
    "plt.axvline(np.percentile(df_quantity['quantity'], 95), linestyle='--', color='blue')\n",
    "plt.text(30,10, '95% покупателей ниже этой линии', color='red')\n",
    "plt.text(20,20, '95% товаров в заказе левее этой линии', color='blue')\n",
    "plt.axis([0, 150, 0, 40])\n",
    "plt.show()"
   ]
  },
  {
   "cell_type": "markdown",
   "metadata": {},
   "source": [
    "Основные заказы с количеством товара (95%)- 10 шт, а основное количество покупателей (95%) - 7. Для анализа оставим заказы с количеством товара 20 шт."
   ]
  },
  {
   "cell_type": "code",
   "execution_count": 7,
   "metadata": {
    "scrolled": false
   },
   "outputs": [
    {
     "name": "stdout",
     "output_type": "stream",
     "text": [
      "<class 'pandas.core.frame.DataFrame'>\n",
      "RangeIndex: 4769 entries, 0 to 4768\n",
      "Data columns (total 6 columns):\n",
      " #   Column       Non-Null Count  Dtype         \n",
      "---  ------       --------------  -----         \n",
      " 0   date         4769 non-null   datetime64[ns]\n",
      " 1   customer_id  4769 non-null   object        \n",
      " 2   order_id     4769 non-null   int64         \n",
      " 3   product      4769 non-null   object        \n",
      " 4   quantity     4769 non-null   int64         \n",
      " 5   price        4769 non-null   float64       \n",
      "dtypes: datetime64[ns](1), float64(1), int64(2), object(2)\n",
      "memory usage: 223.7+ KB\n",
      "------------------------------------------------------\n",
      "Осталось 4769 данных, что составляет от очищенных 98.3%,    удалили 1.7%\n",
      "------------------------------------------------------\n",
      "\n",
      " Количество уникальных имен:\n",
      " date            393\n",
      "customer_id    2385\n",
      "order_id       2713\n",
      "product        2308\n",
      "quantity         19\n",
      "price           347\n",
      "dtype: int64\n"
     ]
    },
    {
     "data": {
      "text/html": [
       "<div>\n",
       "<style scoped>\n",
       "    .dataframe tbody tr th:only-of-type {\n",
       "        vertical-align: middle;\n",
       "    }\n",
       "\n",
       "    .dataframe tbody tr th {\n",
       "        vertical-align: top;\n",
       "    }\n",
       "\n",
       "    .dataframe thead th {\n",
       "        text-align: right;\n",
       "    }\n",
       "</style>\n",
       "<table border=\"1\" class=\"dataframe\">\n",
       "  <thead>\n",
       "    <tr style=\"text-align: right;\">\n",
       "      <th></th>\n",
       "      <th>order_id</th>\n",
       "      <th>quantity</th>\n",
       "      <th>price</th>\n",
       "    </tr>\n",
       "  </thead>\n",
       "  <tbody>\n",
       "    <tr>\n",
       "      <th>count</th>\n",
       "      <td>4769.000000</td>\n",
       "      <td>4769.000000</td>\n",
       "      <td>4769.000000</td>\n",
       "    </tr>\n",
       "    <tr>\n",
       "      <th>mean</th>\n",
       "      <td>47893.978822</td>\n",
       "      <td>1.716502</td>\n",
       "      <td>523.129377</td>\n",
       "    </tr>\n",
       "    <tr>\n",
       "      <th>std</th>\n",
       "      <td>27405.109835</td>\n",
       "      <td>2.251245</td>\n",
       "      <td>952.236938</td>\n",
       "    </tr>\n",
       "    <tr>\n",
       "      <th>min</th>\n",
       "      <td>12624.000000</td>\n",
       "      <td>1.000000</td>\n",
       "      <td>9.000000</td>\n",
       "    </tr>\n",
       "    <tr>\n",
       "      <th>25%</th>\n",
       "      <td>14770.000000</td>\n",
       "      <td>1.000000</td>\n",
       "      <td>97.000000</td>\n",
       "    </tr>\n",
       "    <tr>\n",
       "      <th>50%</th>\n",
       "      <td>68844.000000</td>\n",
       "      <td>1.000000</td>\n",
       "      <td>150.000000</td>\n",
       "    </tr>\n",
       "    <tr>\n",
       "      <th>75%</th>\n",
       "      <td>70799.000000</td>\n",
       "      <td>1.000000</td>\n",
       "      <td>524.000000</td>\n",
       "    </tr>\n",
       "    <tr>\n",
       "      <th>max</th>\n",
       "      <td>73164.000000</td>\n",
       "      <td>20.000000</td>\n",
       "      <td>14917.000000</td>\n",
       "    </tr>\n",
       "  </tbody>\n",
       "</table>\n",
       "</div>"
      ],
      "text/plain": [
       "           order_id     quantity         price\n",
       "count   4769.000000  4769.000000   4769.000000\n",
       "mean   47893.978822     1.716502    523.129377\n",
       "std    27405.109835     2.251245    952.236938\n",
       "min    12624.000000     1.000000      9.000000\n",
       "25%    14770.000000     1.000000     97.000000\n",
       "50%    68844.000000     1.000000    150.000000\n",
       "75%    70799.000000     1.000000    524.000000\n",
       "max    73164.000000    20.000000  14917.000000"
      ]
     },
     "execution_count": 7,
     "metadata": {},
     "output_type": "execute_result"
    }
   ],
   "source": [
    "df = df.loc[df['quantity'] <= 20].reset_index(drop=True)\n",
    "df.info()\n",
    "print('------------------------------------------------------')\n",
    "print(f'Осталось {len(df)} данных, что составляет от очищенных {round(len(df) / 4851 *100, 1)}%,\\\n",
    "    удалили {round((100 - len(df) / 4851 *100), 1)}%')\n",
    "print('------------------------------------------------------')\n",
    "print('\\n Количество уникальных имен:\\n', df.nunique())\n",
    "df.describe()"
   ]
  },
  {
   "cell_type": "code",
   "execution_count": 8,
   "metadata": {},
   "outputs": [
    {
     "data": {
      "text/html": [
       "<div>\n",
       "<style scoped>\n",
       "    .dataframe tbody tr th:only-of-type {\n",
       "        vertical-align: middle;\n",
       "    }\n",
       "\n",
       "    .dataframe tbody tr th {\n",
       "        vertical-align: top;\n",
       "    }\n",
       "\n",
       "    .dataframe thead th {\n",
       "        text-align: right;\n",
       "    }\n",
       "</style>\n",
       "<table border=\"1\" class=\"dataframe\">\n",
       "  <thead>\n",
       "    <tr style=\"text-align: right;\">\n",
       "      <th></th>\n",
       "      <th>order_id</th>\n",
       "      <th>customer_id</th>\n",
       "    </tr>\n",
       "  </thead>\n",
       "  <tbody>\n",
       "    <tr>\n",
       "      <th>136</th>\n",
       "      <td>14698</td>\n",
       "      <td>51</td>\n",
       "    </tr>\n",
       "    <tr>\n",
       "      <th>144</th>\n",
       "      <td>14715</td>\n",
       "      <td>36</td>\n",
       "    </tr>\n",
       "    <tr>\n",
       "      <th>129</th>\n",
       "      <td>14688</td>\n",
       "      <td>31</td>\n",
       "    </tr>\n",
       "    <tr>\n",
       "      <th>163</th>\n",
       "      <td>14753</td>\n",
       "      <td>30</td>\n",
       "    </tr>\n",
       "    <tr>\n",
       "      <th>140</th>\n",
       "      <td>14705</td>\n",
       "      <td>29</td>\n",
       "    </tr>\n",
       "  </tbody>\n",
       "</table>\n",
       "</div>"
      ],
      "text/plain": [
       "     order_id  customer_id\n",
       "136     14698           51\n",
       "144     14715           36\n",
       "129     14688           31\n",
       "163     14753           30\n",
       "140     14705           29"
      ]
     },
     "execution_count": 8,
     "metadata": {},
     "output_type": "execute_result"
    }
   ],
   "source": [
    "# Проверим наличие заказов, совершенных более чем одним покупателем.\n",
    "df_abnormal_orders = (\n",
    "    df.groupby('order_id', as_index=False)['customer_id'].count()\n",
    "    .sort_values(by='customer_id', ascending=False)\n",
    "    .query('customer_id != 1')\n",
    ")\n",
    "df_abnormal_orders.head()"
   ]
  },
  {
   "cell_type": "markdown",
   "metadata": {},
   "source": [
    "`424 заказа совершено более чем 1 покупателем`. \n",
    "Могли руками номер заказа поменять или слили две разные базы, где нумерация шла независимо, а может еще как-то. Эты данные надо однозначно удалять, т.к. это противоречит логике продаж - у одного покупателя может быть много заказов но не может быть много покупателей у одного заказа."
   ]
  },
  {
   "cell_type": "code",
   "execution_count": 9,
   "metadata": {
    "scrolled": true
   },
   "outputs": [
    {
     "data": {
      "text/html": [
       "<div>\n",
       "<style scoped>\n",
       "    .dataframe tbody tr th:only-of-type {\n",
       "        vertical-align: middle;\n",
       "    }\n",
       "\n",
       "    .dataframe tbody tr th {\n",
       "        vertical-align: top;\n",
       "    }\n",
       "\n",
       "    .dataframe thead th {\n",
       "        text-align: right;\n",
       "    }\n",
       "</style>\n",
       "<table border=\"1\" class=\"dataframe\">\n",
       "  <thead>\n",
       "    <tr style=\"text-align: right;\">\n",
       "      <th></th>\n",
       "      <th>order_id</th>\n",
       "      <th>customer_id</th>\n",
       "    </tr>\n",
       "  </thead>\n",
       "  <tbody>\n",
       "  </tbody>\n",
       "</table>\n",
       "</div>"
      ],
      "text/plain": [
       "Empty DataFrame\n",
       "Columns: [order_id, customer_id]\n",
       "Index: []"
      ]
     },
     "execution_count": 9,
     "metadata": {},
     "output_type": "execute_result"
    }
   ],
   "source": [
    "# Удалим аномальные заказы-покупатели.\n",
    "df = (pd.merge(df, df_abnormal_orders, on='order_id', how='outer', indicator=True)\n",
    "      .query(\"_merge != 'both'\")\n",
    "      .drop(['_merge', 'customer_id_y'], axis=1)\n",
    "      .reset_index(drop=True)\n",
    "      .rename(columns={'customer_id_x': 'customer_id'})\n",
    "     )\n",
    "# Проверяем, не остались ли аномальных данных.\n",
    "(df.groupby('order_id', as_index=False)['customer_id'].count()\n",
    " .sort_values(by='customer_id', ascending=False)\n",
    " .query('customer_id != 1'))"
   ]
  },
  {
   "cell_type": "code",
   "execution_count": 10,
   "metadata": {
    "scrolled": false
   },
   "outputs": [
    {
     "data": {
      "text/html": [
       "<div>\n",
       "<style scoped>\n",
       "    .dataframe tbody tr th:only-of-type {\n",
       "        vertical-align: middle;\n",
       "    }\n",
       "\n",
       "    .dataframe tbody tr th {\n",
       "        vertical-align: top;\n",
       "    }\n",
       "\n",
       "    .dataframe thead th {\n",
       "        text-align: right;\n",
       "    }\n",
       "</style>\n",
       "<table border=\"1\" class=\"dataframe\">\n",
       "  <thead>\n",
       "    <tr style=\"text-align: right;\">\n",
       "      <th></th>\n",
       "      <th>date</th>\n",
       "      <th>customer_id</th>\n",
       "      <th>order_id</th>\n",
       "      <th>product</th>\n",
       "      <th>quantity</th>\n",
       "      <th>price</th>\n",
       "      <th>total_price</th>\n",
       "    </tr>\n",
       "  </thead>\n",
       "  <tbody>\n",
       "    <tr>\n",
       "      <th>1132</th>\n",
       "      <td>2019-03-23</td>\n",
       "      <td>e4c28c40-6e1c-4eff-a619-f468aff914ff</td>\n",
       "      <td>70845</td>\n",
       "      <td>Тарелка обеденная КОТОН ФЛАУЭР 25 см H2776 Luminarc</td>\n",
       "      <td>6</td>\n",
       "      <td>92.0</td>\n",
       "      <td>552.0</td>\n",
       "    </tr>\n",
       "    <tr>\n",
       "      <th>1813</th>\n",
       "      <td>2019-08-06</td>\n",
       "      <td>a0ce9b81-dad7-48f6-a28a-bb671c05166f</td>\n",
       "      <td>72220</td>\n",
       "      <td>Чайная ложка TRENDY сталь 2 мм 3 шт Attribute ACT033</td>\n",
       "      <td>7</td>\n",
       "      <td>172.0</td>\n",
       "      <td>1204.0</td>\n",
       "    </tr>\n",
       "    <tr>\n",
       "      <th>1864</th>\n",
       "      <td>2019-08-17</td>\n",
       "      <td>648a9e74-c254-45f4-9f80-f551dbe6fe22</td>\n",
       "      <td>72323</td>\n",
       "      <td>Бидон пластмассовый 5,0 л (Иж) 1401119</td>\n",
       "      <td>2</td>\n",
       "      <td>142.0</td>\n",
       "      <td>284.0</td>\n",
       "    </tr>\n",
       "  </tbody>\n",
       "</table>\n",
       "</div>"
      ],
      "text/plain": [
       "           date                           customer_id  order_id  \\\n",
       "1132 2019-03-23  e4c28c40-6e1c-4eff-a619-f468aff914ff     70845   \n",
       "1813 2019-08-06  a0ce9b81-dad7-48f6-a28a-bb671c05166f     72220   \n",
       "1864 2019-08-17  648a9e74-c254-45f4-9f80-f551dbe6fe22     72323   \n",
       "\n",
       "                                                   product  quantity  price  \\\n",
       "1132   Тарелка обеденная КОТОН ФЛАУЭР 25 см H2776 Luminarc         6   92.0   \n",
       "1813  Чайная ложка TRENDY сталь 2 мм 3 шт Attribute ACT033         7  172.0   \n",
       "1864                Бидон пластмассовый 5,0 л (Иж) 1401119         2  142.0   \n",
       "\n",
       "      total_price  \n",
       "1132        552.0  \n",
       "1813       1204.0  \n",
       "1864        284.0  "
      ]
     },
     "metadata": {},
     "output_type": "display_data"
    },
    {
     "name": "stdout",
     "output_type": "stream",
     "text": [
      "<class 'pandas.core.frame.DataFrame'>\n",
      "Int64Index: 2160 entries, 0 to 2288\n",
      "Data columns (total 7 columns):\n",
      " #   Column       Non-Null Count  Dtype         \n",
      "---  ------       --------------  -----         \n",
      " 0   date         2160 non-null   datetime64[ns]\n",
      " 1   customer_id  2160 non-null   object        \n",
      " 2   order_id     2160 non-null   int64         \n",
      " 3   product      2160 non-null   object        \n",
      " 4   quantity     2160 non-null   int64         \n",
      " 5   price        2160 non-null   float64       \n",
      " 6   total_price  2160 non-null   float64       \n",
      "dtypes: datetime64[ns](1), float64(2), int64(2), object(2)\n",
      "memory usage: 135.0+ KB\n",
      "------------------------------------------------------\n",
      "Осталось 2160 данных, что составляет от очищенных 45.3%, удалили 54.7%\n"
     ]
    }
   ],
   "source": [
    "# Найдем общую стоимость заказа\n",
    "df['total_price'] = df['price'] * df['quantity']\n",
    "\n",
    "# Посмотрим, остались ли покупатели с аномальным количеством заказов\n",
    "df_customer_order = df.groupby('customer_id', as_index=False)['order_id'].count().sort_values(by='order_id')\n",
    "df_customer_order.tail()\n",
    "df = df.query('customer_id != \"c971fb21-d54c-4134-938f-16b62ee86d3b\"')\n",
    "\n",
    "# Содадим списки аномальных данных\n",
    "abnormal_orders = df_customer_order[df_customer_order['order_id'] > np.percentile(df_customer_order['order_id'], 99)].index.to_list()\n",
    "abnormal_total_price = df[df['total_price'] > np.percentile(df['total_price'], 99)].index.to_list()\n",
    "abnormal_customers = pd.concat([pd.Series(abnormal_orders), pd.Series(abnormal_total_price)]).to_list()\n",
    "\n",
    "#Удалим выбросы\n",
    "df = df.query('customer_id != @abnormal_customers and total_price != @abnormal_total_price and order_id != @abnormal_orders')\n",
    "display(df.sample(n=3, weights='quantity'))\n",
    "df.info()\n",
    "print('------------------------------------------------------')\n",
    "print(f'Осталось {len(df)} данных, что составляет от очищенных {round(len(df) / 4769 *100, 1)}%,\\\n",
    " удалили {round((100 - len(df) / 4769 *100), 1)}%')"
   ]
  },
  {
   "cell_type": "markdown",
   "metadata": {},
   "source": [
    "### Вывод\n",
    "- оформление столбцов соответствует. Увеличила ширину, чтобы все данные влезали,\n",
    "- дата приведена в соответствующий формат,\n",
    "- пропусков нет,\n",
    "- дубликаты выявлены после игнорирования столбца даты. Удалены, оставлены только последние записи.\n",
    "- Количество уникальных имен продуктов, заказов и покупателей осталось неизменным после удаления дубликатов.\n",
    "- Убрали заказы, которые сделали больше одного покупателя.\n",
    "- Добавила общую стоимость заказа\n",
    "- Убрали выбросы по количеству товаров, общей стоимости, по покупателям. "
   ]
  },
  {
   "cell_type": "markdown",
   "metadata": {},
   "source": [
    "## Исследовательский анализ\n",
    "### Сегментация покупок по категориям"
   ]
  },
  {
   "cell_type": "code",
   "execution_count": 11,
   "metadata": {
    "scrolled": true
   },
   "outputs": [
    {
     "data": {
      "text/plain": [
       "1637                         ваза маскарад 24 см g5541 luminarc франция\n",
       "1898    крышка оцинкованная для стерилизации банок (на 3 банки) 1514008\n",
       "579                   чайник эмалированный со свистком 2,5л ем-25001/17\n",
       "2114           коробка для хранения бамбук 30х40х25 см attribute asb425\n",
       "1820              пеларгония розебудная red pandora укорененный черенок\n",
       "Name: product, dtype: object"
      ]
     },
     "execution_count": 11,
     "metadata": {},
     "output_type": "execute_result"
    }
   ],
   "source": [
    "# Применить дополнительную настройку, которая позволяет выводить бесконечное количество строк\n",
    "#pd.set_option('display.max_rows', None)\n",
    "\n",
    "# Посмотрим покупки. Приведем к строчным буквам\n",
    "df['product'] = df['product'].str.lower()\n",
    "df['product'].sample(5)"
   ]
  },
  {
   "cell_type": "code",
   "execution_count": 12,
   "metadata": {
    "scrolled": false
   },
   "outputs": [
    {
     "data": {
      "text/html": [
       "<div>\n",
       "<style scoped>\n",
       "    .dataframe tbody tr th:only-of-type {\n",
       "        vertical-align: middle;\n",
       "    }\n",
       "\n",
       "    .dataframe tbody tr th {\n",
       "        vertical-align: top;\n",
       "    }\n",
       "\n",
       "    .dataframe thead th {\n",
       "        text-align: right;\n",
       "    }\n",
       "</style>\n",
       "<table border=\"1\" class=\"dataframe\">\n",
       "  <thead>\n",
       "    <tr style=\"text-align: right;\">\n",
       "      <th></th>\n",
       "      <th>date</th>\n",
       "      <th>customer_id</th>\n",
       "      <th>order_id</th>\n",
       "      <th>product</th>\n",
       "      <th>quantity</th>\n",
       "      <th>price</th>\n",
       "      <th>total_price</th>\n",
       "      <th>category</th>\n",
       "    </tr>\n",
       "  </thead>\n",
       "  <tbody>\n",
       "    <tr>\n",
       "      <th>0</th>\n",
       "      <td>2018-10-01</td>\n",
       "      <td>375e0724-f033-4c76-b579-84969cf38ee2</td>\n",
       "      <td>68479</td>\n",
       "      <td>настенная сушилка для белья gimi brio super 100</td>\n",
       "      <td>1</td>\n",
       "      <td>824.0</td>\n",
       "      <td>824.0</td>\n",
       "      <td>товары для дома</td>\n",
       "    </tr>\n",
       "    <tr>\n",
       "      <th>1</th>\n",
       "      <td>2018-10-01</td>\n",
       "      <td>6644e5b4-9934-4863-9778-aaa125207701</td>\n",
       "      <td>68478</td>\n",
       "      <td>таз пластмассовый 21,0 л круглый \"водолей\" с614, 1404056</td>\n",
       "      <td>1</td>\n",
       "      <td>269.0</td>\n",
       "      <td>269.0</td>\n",
       "      <td>товары для дома</td>\n",
       "    </tr>\n",
       "    <tr>\n",
       "      <th>3</th>\n",
       "      <td>2018-10-01</td>\n",
       "      <td>161e1b98-45ba-4b4e-8236-e6e3e70f6f7c</td>\n",
       "      <td>68483</td>\n",
       "      <td>вешалка для брюк металлическая с резиновым покрытием 26 см цвет: синяя, attribute, ahs331</td>\n",
       "      <td>10</td>\n",
       "      <td>82.0</td>\n",
       "      <td>820.0</td>\n",
       "      <td>товары для дома</td>\n",
       "    </tr>\n",
       "    <tr>\n",
       "      <th>4</th>\n",
       "      <td>2018-10-01</td>\n",
       "      <td>86432d8d-b706-463b-bd5d-6a9e170daee3</td>\n",
       "      <td>68484</td>\n",
       "      <td>сушилка для белья потолочная zalger lift basic 1520 200 см, 10 м</td>\n",
       "      <td>1</td>\n",
       "      <td>614.0</td>\n",
       "      <td>614.0</td>\n",
       "      <td>товары для дома</td>\n",
       "    </tr>\n",
       "    <tr>\n",
       "      <th>5</th>\n",
       "      <td>2018-10-01</td>\n",
       "      <td>4d93d3f6-8b24-403b-a74b-f5173e40d7db</td>\n",
       "      <td>68485</td>\n",
       "      <td>чехол eurogold clean basic хлопок для досок 120х38-120х42 см c42</td>\n",
       "      <td>1</td>\n",
       "      <td>187.0</td>\n",
       "      <td>187.0</td>\n",
       "      <td>товары для дома</td>\n",
       "    </tr>\n",
       "  </tbody>\n",
       "</table>\n",
       "</div>"
      ],
      "text/plain": [
       "        date                           customer_id  order_id  \\\n",
       "0 2018-10-01  375e0724-f033-4c76-b579-84969cf38ee2     68479   \n",
       "1 2018-10-01  6644e5b4-9934-4863-9778-aaa125207701     68478   \n",
       "3 2018-10-01  161e1b98-45ba-4b4e-8236-e6e3e70f6f7c     68483   \n",
       "4 2018-10-01  86432d8d-b706-463b-bd5d-6a9e170daee3     68484   \n",
       "5 2018-10-01  4d93d3f6-8b24-403b-a74b-f5173e40d7db     68485   \n",
       "\n",
       "                                                                                     product  \\\n",
       "0                                            настенная сушилка для белья gimi brio super 100   \n",
       "1                                   таз пластмассовый 21,0 л круглый \"водолей\" с614, 1404056   \n",
       "3  вешалка для брюк металлическая с резиновым покрытием 26 см цвет: синяя, attribute, ahs331   \n",
       "4                           сушилка для белья потолочная zalger lift basic 1520 200 см, 10 м   \n",
       "5                           чехол eurogold clean basic хлопок для досок 120х38-120х42 см c42   \n",
       "\n",
       "   quantity  price  total_price         category  \n",
       "0         1  824.0        824.0  товары для дома  \n",
       "1         1  269.0        269.0  товары для дома  \n",
       "3        10   82.0        820.0  товары для дома  \n",
       "4         1  614.0        614.0  товары для дома  \n",
       "5         1  187.0        187.0  товары для дома  "
      ]
     },
     "execution_count": 12,
     "metadata": {},
     "output_type": "execute_result"
    }
   ],
   "source": [
    "# Для сегментации товаров из истории покупок, выделим списки\n",
    "# Растения\n",
    "plant = ['растение', 'рассада', 'герань', 'пеларгония', 'радермахера', 'хризолидокарпус', 'юкка', 'шеффлера', \n",
    "         'суккулент', 'эхеверия', 'кампанула', 'хлорофитум', 'цикламен', 'глоксиния', 'азалия', 'альбука',\n",
    "         'гортензия', 'хризантема', 'иссоп', 'сантолина', 'роза', 'душица','гербера', 'мелисса', 'калоцефалус',\n",
    "         'аспарагус', 'молодило', 'фиалка', 'каллуна', 'капсикум', 'мирт', 'афеляндра', 'антуриум', 'розмарин',\n",
    "         'бальзамин', 'артемизия', 'лаванда', 'мята', 'каланхое', 'циперус', 'эвкалипт', 'адиантум', 'калатея',\n",
    "         'нолина', 'кориандр', 'бегония', 'крассула', 'примула', 'дендробиум', 'мимоза', 'соланум', 'бархатцы',\n",
    "         'космея', 'морковь', 'настурция', 'огурец', 'алиссум', 'петуния', 'гвоздика', 'годеция', 'капуста',\n",
    "         'календула', 'кореопсис', 'лапчатка', 'флокс', 'цинерария', 'эшшольция', 'фаленопсис', 'подсолнечник',\n",
    "         'гиностемма', 'ель', 'кипарисовик', 'аптения', 'пуансет', 'скиммия', 'фиттония', 'тимьян', 'алоэ',\n",
    "         'фикус', 'кодонанта', 'гимнокалициум', 'кофе', 'крокус', 'спатифиллум', 'гипсофила', 'тюльпан',\n",
    "         'гиацинт', 'томат', 'калибрахоа', 'эпипремнум', 'аквилегия', 'базилик', 'горох', 'земляника', 'гардения',\n",
    "         'незабудка', 'седум', 'укроп', 'нефролепис', 'калла', 'декабрист', 'чабер', 'ранункулус', 'эхин',\n",
    "         'овсянница', 'георгина', 'смолевка', 'цинния', 'базилик', 'лавр', 'вербейник', 'котовник', 'колокольчик',\n",
    "         'ясколка', 'виола', 'лилейник', 'папоротник', 'платикодон', 'энотера', 'вербена', 'фуксия', 'дыня',\n",
    "         'цитрофортунелла', 'пеперомия', 'виноград', 'лобелия', 'мускари', 'пиретрум', 'лобелия', 'муррайя',\n",
    "         'вероника', 'арбуз', 'баклажан', 'клубника', 'патиссон', 'джункус', 'драцена', 'фатсия', 'хоста',\n",
    "         'гайлардия', 'монарда', 'ромашка', 'рудбекия', 'осина', 'сциндапсус', 'трав', 'астра', 'бузульник',\n",
    "         'камнеломка', 'солидаго', 'физостегия', 'бадан', 'лен', 'барвинок', 'лантана', 'лаватера', 'анемона',\n",
    "         'валериана', 'буддлея', 'змееголовник', 'любисток', 'петрушка', 'табак', 'шалфей', 'вигна', 'кабачок',\n",
    "         'тыква', 'хамедорея', 'мединилла', 'импатиенс', 'замиокулькас', 'салат', 'амариллис', 'пахира', 'литопс']\n",
    "# Товары для дома\n",
    "household_goods = ['сушилка', 'таз', 'чехол', 'ешал', 'щетка-сметка', 'ерш', 'доск', 'прищеп', 'корзина', \n",
    "                   'дозатор', 'контейнер', 'подрукавник', 'сверел', 'сверло-фреза', 'веник', 'вешалка-плечики',\n",
    "                   'кувшин', 'перчатки', 'стремянк', 'лестница-стремянка', 'для ванн', 'туалет', 'плечики', \n",
    "                   'сиденье', 'холодная сварка', 'шнур резиновый', 'угольник', 'линейка', 'швабра', 'урна',\n",
    "                   'короб стеллажный', 'ножеточка', 'насадка', 'сметка с совком', 'петля-стрела', 'стяжка',\n",
    "                   'подголовник', 'вешалка-стойка', 'щетка', 'ведро', 'губка', 'фен', 'ролик', 'термометр',\n",
    "                   'ящик', 'шило', 'сетка', 'мыльница', 'инструмент', 'петля', 'кольца', 'вантуз', 'крепеж',\n",
    "                   'фал', 'штангенциркуль', 'напильник', 'ёрш', 'отжим', 'фиксатор', 'сверло', 'шпагат', \n",
    "                   'окномойка', 'ванна', 'шнур', 'мешок', 'решетка', 'пакет', 'тряпка', 'совок', 'основание']\n",
    "# Декор\n",
    "decor = ['муляж', 'плед', 'скатерть', 'простыня', 'штора', 'подушка', 'полотенце', 'салфетка', 'кофр', 'светильник', \n",
    "         'кашпо', 'карниз', 'ящик для хранения', 'ковёр', 'коврик', 'коробка', 'халат', 'полотенце', 'наматра',\n",
    "         'наматрицник-чехол', 'искусственн', 'салфет', 'ковер', 'полк', 'крючок', 'искуственн', 'ткань',\n",
    "         'полотенец', 'комод', 'покрывало', 'подставка', 'одеяло', 'новогодн', 'фоторамка', 'этажерка', 'ключница',\n",
    "         'хлебница', 'обувниц', 'пододеяльник', 'наволочка', 'стеллаж', 'пуф']\n",
    "# Сумки\n",
    "bag = ['сумка', 'сумка-тележка', 'тележка', 'для тележки']\n",
    "# Посуда и бытовая техника\n",
    "dishes = ['тарелка', 'вилка', 'ложка', 'нож', 'котел', 'круж', 'фужер', 'толкушка', 'чайник', 'банка', 'противень', \n",
    "          'крышка', 'посуд', 'миксер', 'тepмокружка', 'сковорода', 'контейнер для овощей', 'масленка', 'утюг',\n",
    "          'набор эмалированных салатников', 'терка', 'лопатка', 'стакан', 'мини-сковорода', 'корыто', 'рыбочистка',\n",
    "          'овощеварка', 'салатник', 'салфетница', 'овощечистка', 'лоток', 'мантоварка', 'бокал', 'ковш', 'кисточка',\n",
    "          'скребок', 'картофелемялка', 'рассекатель', 'набор форм', 'весы', 'миска', 'пресс', 'набор столов', 'термос',\n",
    "          'электроштопор', 'чайный набор', 'бульонница', 'для соус', 'кастрюля', 'свч', 'блюдце', 'пылесос', 'для выпеч',\n",
    "          'орехоколка', 'сито', 'скалка', 'венчик', 'тортница', 'блюдо', 'сотейник', 'бидон', 'сахарница', 'соков',\n",
    "          'пьезозажигалка', 'кипятильник', 'половник']\n",
    "# Бытовая химия\n",
    "household_chemicals = ['стиральный', 'крем', 'зубная паста', 'пена для ванн', 'средство для удаления', 'бензин', \n",
    "                        'паста', 'мыло', 'антижир', 'чистки', 'мытья пол', 'гель', 'маска', 'антизасор']\n",
    "# Функция присваивания категории к товару\n",
    "# Для поиска в сортировке \n",
    "df['category'] = 0\n",
    "def categorizer(name_list, word):\n",
    "    list = '|'.join(name_list)\n",
    "    df.loc[df['product'].str.contains(list, regex=True), 'category'] = word\n",
    "\n",
    "categorizer(plant, 'растение')\n",
    "categorizer(household_goods, 'товары для дома')\n",
    "categorizer(decor, 'декор')\n",
    "categorizer(bag, 'сумки')\n",
    "categorizer(dishes, 'посуда и бытовая техника')\n",
    "categorizer(household_chemicals, 'бытовая химия')\n",
    "df.head()"
   ]
  },
  {
   "cell_type": "code",
   "execution_count": 13,
   "metadata": {},
   "outputs": [
    {
     "data": {
      "text/html": [
       "<div>\n",
       "<style scoped>\n",
       "    .dataframe tbody tr th:only-of-type {\n",
       "        vertical-align: middle;\n",
       "    }\n",
       "\n",
       "    .dataframe tbody tr th {\n",
       "        vertical-align: top;\n",
       "    }\n",
       "\n",
       "    .dataframe thead th {\n",
       "        text-align: right;\n",
       "    }\n",
       "</style>\n",
       "<table border=\"1\" class=\"dataframe\">\n",
       "  <thead>\n",
       "    <tr style=\"text-align: right;\">\n",
       "      <th></th>\n",
       "      <th>date</th>\n",
       "      <th>customer_id</th>\n",
       "      <th>order_id</th>\n",
       "      <th>quantity</th>\n",
       "      <th>price</th>\n",
       "      <th>total_price</th>\n",
       "      <th>category</th>\n",
       "    </tr>\n",
       "  </thead>\n",
       "  <tbody>\n",
       "  </tbody>\n",
       "</table>\n",
       "</div>"
      ],
      "text/plain": [
       "Empty DataFrame\n",
       "Columns: [date, customer_id, order_id, quantity, price, total_price, category]\n",
       "Index: []"
      ]
     },
     "execution_count": 13,
     "metadata": {},
     "output_type": "execute_result"
    }
   ],
   "source": [
    "# Удалим продукты, они нам больше не пригодятся\n",
    "df.drop('product', axis=1, inplace=True)\n",
    "# Проверяем, есть ли еще продукты без категории\n",
    "df.query('category == 0')"
   ]
  },
  {
   "cell_type": "markdown",
   "metadata": {},
   "source": [
    "Все товары получили категорию.\n",
    "### Какие категории лучше всего продаются"
   ]
  },
  {
   "cell_type": "code",
   "execution_count": 14,
   "metadata": {},
   "outputs": [
    {
     "data": {
      "application/vnd.plotly.v1+json": {
       "config": {
        "plotlyServerURL": "https://plot.ly"
       },
       "data": [
        {
         "alignmentgroup": "True",
         "hovertemplate": "category=%{y}<br>total_price=%{text}<extra></extra>",
         "legendgroup": "товары для дома",
         "marker": {
          "color": "#3366CC",
          "pattern": {
           "shape": ""
          }
         },
         "name": "товары для дома",
         "offsetgroup": "товары для дома",
         "orientation": "h",
         "showlegend": true,
         "text": [
          919143
         ],
         "textposition": "auto",
         "type": "bar",
         "x": [
          919143
         ],
         "xaxis": "x",
         "y": [
          "товары для дома"
         ],
         "yaxis": "y"
        },
        {
         "alignmentgroup": "True",
         "hovertemplate": "category=%{y}<br>total_price=%{text}<extra></extra>",
         "legendgroup": "сумки",
         "marker": {
          "color": "#DC3912",
          "pattern": {
           "shape": ""
          }
         },
         "name": "сумки",
         "offsetgroup": "сумки",
         "orientation": "h",
         "showlegend": true,
         "text": [
          599412
         ],
         "textposition": "auto",
         "type": "bar",
         "x": [
          599412
         ],
         "xaxis": "x",
         "y": [
          "сумки"
         ],
         "yaxis": "y"
        },
        {
         "alignmentgroup": "True",
         "hovertemplate": "category=%{y}<br>total_price=%{text}<extra></extra>",
         "legendgroup": "декор",
         "marker": {
          "color": "#FF9900",
          "pattern": {
           "shape": ""
          }
         },
         "name": "декор",
         "offsetgroup": "декор",
         "orientation": "h",
         "showlegend": true,
         "text": [
          478793
         ],
         "textposition": "auto",
         "type": "bar",
         "x": [
          478793
         ],
         "xaxis": "x",
         "y": [
          "декор"
         ],
         "yaxis": "y"
        },
        {
         "alignmentgroup": "True",
         "hovertemplate": "category=%{y}<br>total_price=%{text}<extra></extra>",
         "legendgroup": "посуда и бытовая техника",
         "marker": {
          "color": "#109618",
          "pattern": {
           "shape": ""
          }
         },
         "name": "посуда и бытовая техника",
         "offsetgroup": "посуда и бытовая техника",
         "orientation": "h",
         "showlegend": true,
         "text": [
          179847
         ],
         "textposition": "auto",
         "type": "bar",
         "x": [
          179847
         ],
         "xaxis": "x",
         "y": [
          "посуда и бытовая техника"
         ],
         "yaxis": "y"
        },
        {
         "alignmentgroup": "True",
         "hovertemplate": "category=%{y}<br>total_price=%{text}<extra></extra>",
         "legendgroup": "растение",
         "marker": {
          "color": "#990099",
          "pattern": {
           "shape": ""
          }
         },
         "name": "растение",
         "offsetgroup": "растение",
         "orientation": "h",
         "showlegend": true,
         "text": [
          148747
         ],
         "textposition": "auto",
         "type": "bar",
         "x": [
          148747
         ],
         "xaxis": "x",
         "y": [
          "растение"
         ],
         "yaxis": "y"
        },
        {
         "alignmentgroup": "True",
         "hovertemplate": "category=%{y}<br>total_price=%{text}<extra></extra>",
         "legendgroup": "бытовая химия",
         "marker": {
          "color": "#0099C6",
          "pattern": {
           "shape": ""
          }
         },
         "name": "бытовая химия",
         "offsetgroup": "бытовая химия",
         "orientation": "h",
         "showlegend": true,
         "text": [
          23982
         ],
         "textposition": "auto",
         "type": "bar",
         "x": [
          23982
         ],
         "xaxis": "x",
         "y": [
          "бытовая химия"
         ],
         "yaxis": "y"
        }
       ],
       "layout": {
        "barmode": "relative",
        "height": 500,
        "legend": {
         "title": {
          "text": "Обозначение категорий"
         },
         "tracegroupgap": 0
        },
        "margin": {
         "t": 60
        },
        "template": {
         "data": {
          "bar": [
           {
            "error_x": {
             "color": "#2a3f5f"
            },
            "error_y": {
             "color": "#2a3f5f"
            },
            "marker": {
             "line": {
              "color": "#E5ECF6",
              "width": 0.5
             },
             "pattern": {
              "fillmode": "overlay",
              "size": 10,
              "solidity": 0.2
             }
            },
            "type": "bar"
           }
          ],
          "barpolar": [
           {
            "marker": {
             "line": {
              "color": "#E5ECF6",
              "width": 0.5
             },
             "pattern": {
              "fillmode": "overlay",
              "size": 10,
              "solidity": 0.2
             }
            },
            "type": "barpolar"
           }
          ],
          "carpet": [
           {
            "aaxis": {
             "endlinecolor": "#2a3f5f",
             "gridcolor": "white",
             "linecolor": "white",
             "minorgridcolor": "white",
             "startlinecolor": "#2a3f5f"
            },
            "baxis": {
             "endlinecolor": "#2a3f5f",
             "gridcolor": "white",
             "linecolor": "white",
             "minorgridcolor": "white",
             "startlinecolor": "#2a3f5f"
            },
            "type": "carpet"
           }
          ],
          "choropleth": [
           {
            "colorbar": {
             "outlinewidth": 0,
             "ticks": ""
            },
            "type": "choropleth"
           }
          ],
          "contour": [
           {
            "colorbar": {
             "outlinewidth": 0,
             "ticks": ""
            },
            "colorscale": [
             [
              0,
              "#0d0887"
             ],
             [
              0.1111111111111111,
              "#46039f"
             ],
             [
              0.2222222222222222,
              "#7201a8"
             ],
             [
              0.3333333333333333,
              "#9c179e"
             ],
             [
              0.4444444444444444,
              "#bd3786"
             ],
             [
              0.5555555555555556,
              "#d8576b"
             ],
             [
              0.6666666666666666,
              "#ed7953"
             ],
             [
              0.7777777777777778,
              "#fb9f3a"
             ],
             [
              0.8888888888888888,
              "#fdca26"
             ],
             [
              1,
              "#f0f921"
             ]
            ],
            "type": "contour"
           }
          ],
          "contourcarpet": [
           {
            "colorbar": {
             "outlinewidth": 0,
             "ticks": ""
            },
            "type": "contourcarpet"
           }
          ],
          "heatmap": [
           {
            "colorbar": {
             "outlinewidth": 0,
             "ticks": ""
            },
            "colorscale": [
             [
              0,
              "#0d0887"
             ],
             [
              0.1111111111111111,
              "#46039f"
             ],
             [
              0.2222222222222222,
              "#7201a8"
             ],
             [
              0.3333333333333333,
              "#9c179e"
             ],
             [
              0.4444444444444444,
              "#bd3786"
             ],
             [
              0.5555555555555556,
              "#d8576b"
             ],
             [
              0.6666666666666666,
              "#ed7953"
             ],
             [
              0.7777777777777778,
              "#fb9f3a"
             ],
             [
              0.8888888888888888,
              "#fdca26"
             ],
             [
              1,
              "#f0f921"
             ]
            ],
            "type": "heatmap"
           }
          ],
          "heatmapgl": [
           {
            "colorbar": {
             "outlinewidth": 0,
             "ticks": ""
            },
            "colorscale": [
             [
              0,
              "#0d0887"
             ],
             [
              0.1111111111111111,
              "#46039f"
             ],
             [
              0.2222222222222222,
              "#7201a8"
             ],
             [
              0.3333333333333333,
              "#9c179e"
             ],
             [
              0.4444444444444444,
              "#bd3786"
             ],
             [
              0.5555555555555556,
              "#d8576b"
             ],
             [
              0.6666666666666666,
              "#ed7953"
             ],
             [
              0.7777777777777778,
              "#fb9f3a"
             ],
             [
              0.8888888888888888,
              "#fdca26"
             ],
             [
              1,
              "#f0f921"
             ]
            ],
            "type": "heatmapgl"
           }
          ],
          "histogram": [
           {
            "marker": {
             "pattern": {
              "fillmode": "overlay",
              "size": 10,
              "solidity": 0.2
             }
            },
            "type": "histogram"
           }
          ],
          "histogram2d": [
           {
            "colorbar": {
             "outlinewidth": 0,
             "ticks": ""
            },
            "colorscale": [
             [
              0,
              "#0d0887"
             ],
             [
              0.1111111111111111,
              "#46039f"
             ],
             [
              0.2222222222222222,
              "#7201a8"
             ],
             [
              0.3333333333333333,
              "#9c179e"
             ],
             [
              0.4444444444444444,
              "#bd3786"
             ],
             [
              0.5555555555555556,
              "#d8576b"
             ],
             [
              0.6666666666666666,
              "#ed7953"
             ],
             [
              0.7777777777777778,
              "#fb9f3a"
             ],
             [
              0.8888888888888888,
              "#fdca26"
             ],
             [
              1,
              "#f0f921"
             ]
            ],
            "type": "histogram2d"
           }
          ],
          "histogram2dcontour": [
           {
            "colorbar": {
             "outlinewidth": 0,
             "ticks": ""
            },
            "colorscale": [
             [
              0,
              "#0d0887"
             ],
             [
              0.1111111111111111,
              "#46039f"
             ],
             [
              0.2222222222222222,
              "#7201a8"
             ],
             [
              0.3333333333333333,
              "#9c179e"
             ],
             [
              0.4444444444444444,
              "#bd3786"
             ],
             [
              0.5555555555555556,
              "#d8576b"
             ],
             [
              0.6666666666666666,
              "#ed7953"
             ],
             [
              0.7777777777777778,
              "#fb9f3a"
             ],
             [
              0.8888888888888888,
              "#fdca26"
             ],
             [
              1,
              "#f0f921"
             ]
            ],
            "type": "histogram2dcontour"
           }
          ],
          "mesh3d": [
           {
            "colorbar": {
             "outlinewidth": 0,
             "ticks": ""
            },
            "type": "mesh3d"
           }
          ],
          "parcoords": [
           {
            "line": {
             "colorbar": {
              "outlinewidth": 0,
              "ticks": ""
             }
            },
            "type": "parcoords"
           }
          ],
          "pie": [
           {
            "automargin": true,
            "type": "pie"
           }
          ],
          "scatter": [
           {
            "marker": {
             "colorbar": {
              "outlinewidth": 0,
              "ticks": ""
             }
            },
            "type": "scatter"
           }
          ],
          "scatter3d": [
           {
            "line": {
             "colorbar": {
              "outlinewidth": 0,
              "ticks": ""
             }
            },
            "marker": {
             "colorbar": {
              "outlinewidth": 0,
              "ticks": ""
             }
            },
            "type": "scatter3d"
           }
          ],
          "scattercarpet": [
           {
            "marker": {
             "colorbar": {
              "outlinewidth": 0,
              "ticks": ""
             }
            },
            "type": "scattercarpet"
           }
          ],
          "scattergeo": [
           {
            "marker": {
             "colorbar": {
              "outlinewidth": 0,
              "ticks": ""
             }
            },
            "type": "scattergeo"
           }
          ],
          "scattergl": [
           {
            "marker": {
             "colorbar": {
              "outlinewidth": 0,
              "ticks": ""
             }
            },
            "type": "scattergl"
           }
          ],
          "scattermapbox": [
           {
            "marker": {
             "colorbar": {
              "outlinewidth": 0,
              "ticks": ""
             }
            },
            "type": "scattermapbox"
           }
          ],
          "scatterpolar": [
           {
            "marker": {
             "colorbar": {
              "outlinewidth": 0,
              "ticks": ""
             }
            },
            "type": "scatterpolar"
           }
          ],
          "scatterpolargl": [
           {
            "marker": {
             "colorbar": {
              "outlinewidth": 0,
              "ticks": ""
             }
            },
            "type": "scatterpolargl"
           }
          ],
          "scatterternary": [
           {
            "marker": {
             "colorbar": {
              "outlinewidth": 0,
              "ticks": ""
             }
            },
            "type": "scatterternary"
           }
          ],
          "surface": [
           {
            "colorbar": {
             "outlinewidth": 0,
             "ticks": ""
            },
            "colorscale": [
             [
              0,
              "#0d0887"
             ],
             [
              0.1111111111111111,
              "#46039f"
             ],
             [
              0.2222222222222222,
              "#7201a8"
             ],
             [
              0.3333333333333333,
              "#9c179e"
             ],
             [
              0.4444444444444444,
              "#bd3786"
             ],
             [
              0.5555555555555556,
              "#d8576b"
             ],
             [
              0.6666666666666666,
              "#ed7953"
             ],
             [
              0.7777777777777778,
              "#fb9f3a"
             ],
             [
              0.8888888888888888,
              "#fdca26"
             ],
             [
              1,
              "#f0f921"
             ]
            ],
            "type": "surface"
           }
          ],
          "table": [
           {
            "cells": {
             "fill": {
              "color": "#EBF0F8"
             },
             "line": {
              "color": "white"
             }
            },
            "header": {
             "fill": {
              "color": "#C8D4E3"
             },
             "line": {
              "color": "white"
             }
            },
            "type": "table"
           }
          ]
         },
         "layout": {
          "annotationdefaults": {
           "arrowcolor": "#2a3f5f",
           "arrowhead": 0,
           "arrowwidth": 1
          },
          "autotypenumbers": "strict",
          "coloraxis": {
           "colorbar": {
            "outlinewidth": 0,
            "ticks": ""
           }
          },
          "colorscale": {
           "diverging": [
            [
             0,
             "#8e0152"
            ],
            [
             0.1,
             "#c51b7d"
            ],
            [
             0.2,
             "#de77ae"
            ],
            [
             0.3,
             "#f1b6da"
            ],
            [
             0.4,
             "#fde0ef"
            ],
            [
             0.5,
             "#f7f7f7"
            ],
            [
             0.6,
             "#e6f5d0"
            ],
            [
             0.7,
             "#b8e186"
            ],
            [
             0.8,
             "#7fbc41"
            ],
            [
             0.9,
             "#4d9221"
            ],
            [
             1,
             "#276419"
            ]
           ],
           "sequential": [
            [
             0,
             "#0d0887"
            ],
            [
             0.1111111111111111,
             "#46039f"
            ],
            [
             0.2222222222222222,
             "#7201a8"
            ],
            [
             0.3333333333333333,
             "#9c179e"
            ],
            [
             0.4444444444444444,
             "#bd3786"
            ],
            [
             0.5555555555555556,
             "#d8576b"
            ],
            [
             0.6666666666666666,
             "#ed7953"
            ],
            [
             0.7777777777777778,
             "#fb9f3a"
            ],
            [
             0.8888888888888888,
             "#fdca26"
            ],
            [
             1,
             "#f0f921"
            ]
           ],
           "sequentialminus": [
            [
             0,
             "#0d0887"
            ],
            [
             0.1111111111111111,
             "#46039f"
            ],
            [
             0.2222222222222222,
             "#7201a8"
            ],
            [
             0.3333333333333333,
             "#9c179e"
            ],
            [
             0.4444444444444444,
             "#bd3786"
            ],
            [
             0.5555555555555556,
             "#d8576b"
            ],
            [
             0.6666666666666666,
             "#ed7953"
            ],
            [
             0.7777777777777778,
             "#fb9f3a"
            ],
            [
             0.8888888888888888,
             "#fdca26"
            ],
            [
             1,
             "#f0f921"
            ]
           ]
          },
          "colorway": [
           "#636efa",
           "#EF553B",
           "#00cc96",
           "#ab63fa",
           "#FFA15A",
           "#19d3f3",
           "#FF6692",
           "#B6E880",
           "#FF97FF",
           "#FECB52"
          ],
          "font": {
           "color": "#2a3f5f"
          },
          "geo": {
           "bgcolor": "white",
           "lakecolor": "white",
           "landcolor": "#E5ECF6",
           "showlakes": true,
           "showland": true,
           "subunitcolor": "white"
          },
          "hoverlabel": {
           "align": "left"
          },
          "hovermode": "closest",
          "mapbox": {
           "style": "light"
          },
          "paper_bgcolor": "white",
          "plot_bgcolor": "#E5ECF6",
          "polar": {
           "angularaxis": {
            "gridcolor": "white",
            "linecolor": "white",
            "ticks": ""
           },
           "bgcolor": "#E5ECF6",
           "radialaxis": {
            "gridcolor": "white",
            "linecolor": "white",
            "ticks": ""
           }
          },
          "scene": {
           "xaxis": {
            "backgroundcolor": "#E5ECF6",
            "gridcolor": "white",
            "gridwidth": 2,
            "linecolor": "white",
            "showbackground": true,
            "ticks": "",
            "zerolinecolor": "white"
           },
           "yaxis": {
            "backgroundcolor": "#E5ECF6",
            "gridcolor": "white",
            "gridwidth": 2,
            "linecolor": "white",
            "showbackground": true,
            "ticks": "",
            "zerolinecolor": "white"
           },
           "zaxis": {
            "backgroundcolor": "#E5ECF6",
            "gridcolor": "white",
            "gridwidth": 2,
            "linecolor": "white",
            "showbackground": true,
            "ticks": "",
            "zerolinecolor": "white"
           }
          },
          "shapedefaults": {
           "line": {
            "color": "#2a3f5f"
           }
          },
          "ternary": {
           "aaxis": {
            "gridcolor": "white",
            "linecolor": "white",
            "ticks": ""
           },
           "baxis": {
            "gridcolor": "white",
            "linecolor": "white",
            "ticks": ""
           },
           "bgcolor": "#E5ECF6",
           "caxis": {
            "gridcolor": "white",
            "linecolor": "white",
            "ticks": ""
           }
          },
          "title": {
           "x": 0.05
          },
          "xaxis": {
           "automargin": true,
           "gridcolor": "white",
           "linecolor": "white",
           "ticks": "",
           "title": {
            "standoff": 15
           },
           "zerolinecolor": "white",
           "zerolinewidth": 2
          },
          "yaxis": {
           "automargin": true,
           "gridcolor": "white",
           "linecolor": "white",
           "ticks": "",
           "title": {
            "standoff": 15
           },
           "zerolinecolor": "white",
           "zerolinewidth": 2
          }
         }
        },
        "title": {
         "text": "Сумма продаж в категориях",
         "x": 0.5
        },
        "width": 900,
        "xaxis": {
         "anchor": "y",
         "domain": [
          0,
          1
         ],
         "title": {
          "text": "Сумма продаж, у.е."
         }
        },
        "yaxis": {
         "anchor": "x",
         "categoryarray": [
          "бытовая химия",
          "растение",
          "посуда и бытовая техника",
          "декор",
          "сумки",
          "товары для дома"
         ],
         "categoryorder": "array",
         "domain": [
          0,
          1
         ],
         "title": {
          "text": "Категории"
         }
        }
       }
      }
     },
     "metadata": {},
     "output_type": "display_data"
    },
    {
     "name": "stdout",
     "output_type": "stream",
     "text": [
      "По сумме продаж лидирует категория - \"товары для дома\" на 919143.0 у.е., на втором месте- \"сумки\" на 599412.0 у.е., минимум у категории \"бытовая химия\" на 23982.0 у.е.\n"
     ]
    }
   ],
   "source": [
    "df_price = (df\n",
    "      .pivot_table(index='category', values='total_price', aggfunc='sum')\n",
    "      .sort_values(by='total_price', ascending=False)\n",
    "      .reset_index())\n",
    "#display(df_product)\n",
    "fig = px.bar(df_price, y='category', x='total_price', width=900, height=500, color='category', \n",
    "            color_discrete_sequence=px.colors.qualitative.G10, text='total_price')\n",
    "fig.update_layout(title='Сумма продаж в категориях', title_x=0.5,\n",
    "                  xaxis_title ='Сумма продаж, у.е.', yaxis_title='Категории',\n",
    "                 legend_title='Обозначение категорий')\n",
    "fig.show()\n",
    "\n",
    "print('По сумме продаж лидирует категория - \"{}\" на {} у.е., на втором месте- \"{}\" на {} у.е., минимум у категории \"{}\" на {} у.е.'\n",
    "      .format(df_price.iloc[0]['category'], df_price['total_price'].max(), \n",
    "              df_price.iloc[1]['category'], df_price.iloc[1]['total_price'],\n",
    "              df_price.iloc[5]['category'], df_price['total_price'].min(),))"
   ]
  },
  {
   "cell_type": "code",
   "execution_count": 15,
   "metadata": {},
   "outputs": [
    {
     "data": {
      "application/vnd.plotly.v1+json": {
       "config": {
        "plotlyServerURL": "https://plot.ly"
       },
       "data": [
        {
         "alignmentgroup": "True",
         "hovertemplate": "category=%{y}<br>quantity=%{text}<extra></extra>",
         "legendgroup": "декор",
         "marker": {
          "color": "#3366CC",
          "pattern": {
           "shape": ""
          }
         },
         "name": "декор",
         "offsetgroup": "декор",
         "orientation": "h",
         "showlegend": true,
         "text": [
          1381
         ],
         "textposition": "auto",
         "type": "bar",
         "x": [
          1381
         ],
         "xaxis": "x",
         "y": [
          "декор"
         ],
         "yaxis": "y"
        },
        {
         "alignmentgroup": "True",
         "hovertemplate": "category=%{y}<br>quantity=%{text}<extra></extra>",
         "legendgroup": "товары для дома",
         "marker": {
          "color": "#DC3912",
          "pattern": {
           "shape": ""
          }
         },
         "name": "товары для дома",
         "offsetgroup": "товары для дома",
         "orientation": "h",
         "showlegend": true,
         "text": [
          1263
         ],
         "textposition": "auto",
         "type": "bar",
         "x": [
          1263
         ],
         "xaxis": "x",
         "y": [
          "товары для дома"
         ],
         "yaxis": "y"
        },
        {
         "alignmentgroup": "True",
         "hovertemplate": "category=%{y}<br>quantity=%{text}<extra></extra>",
         "legendgroup": "растение",
         "marker": {
          "color": "#FF9900",
          "pattern": {
           "shape": ""
          }
         },
         "name": "растение",
         "offsetgroup": "растение",
         "orientation": "h",
         "showlegend": true,
         "text": [
          725
         ],
         "textposition": "auto",
         "type": "bar",
         "x": [
          725
         ],
         "xaxis": "x",
         "y": [
          "растение"
         ],
         "yaxis": "y"
        },
        {
         "alignmentgroup": "True",
         "hovertemplate": "category=%{y}<br>quantity=%{text}<extra></extra>",
         "legendgroup": "посуда и бытовая техника",
         "marker": {
          "color": "#109618",
          "pattern": {
           "shape": ""
          }
         },
         "name": "посуда и бытовая техника",
         "offsetgroup": "посуда и бытовая техника",
         "orientation": "h",
         "showlegend": true,
         "text": [
          576
         ],
         "textposition": "auto",
         "type": "bar",
         "x": [
          576
         ],
         "xaxis": "x",
         "y": [
          "посуда и бытовая техника"
         ],
         "yaxis": "y"
        },
        {
         "alignmentgroup": "True",
         "hovertemplate": "category=%{y}<br>quantity=%{text}<extra></extra>",
         "legendgroup": "сумки",
         "marker": {
          "color": "#990099",
          "pattern": {
           "shape": ""
          }
         },
         "name": "сумки",
         "offsetgroup": "сумки",
         "orientation": "h",
         "showlegend": true,
         "text": [
          316
         ],
         "textposition": "auto",
         "type": "bar",
         "x": [
          316
         ],
         "xaxis": "x",
         "y": [
          "сумки"
         ],
         "yaxis": "y"
        },
        {
         "alignmentgroup": "True",
         "hovertemplate": "category=%{y}<br>quantity=%{text}<extra></extra>",
         "legendgroup": "бытовая химия",
         "marker": {
          "color": "#0099C6",
          "pattern": {
           "shape": ""
          }
         },
         "name": "бытовая химия",
         "offsetgroup": "бытовая химия",
         "orientation": "h",
         "showlegend": true,
         "text": [
          76
         ],
         "textposition": "auto",
         "type": "bar",
         "x": [
          76
         ],
         "xaxis": "x",
         "y": [
          "бытовая химия"
         ],
         "yaxis": "y"
        }
       ],
       "layout": {
        "barmode": "relative",
        "height": 500,
        "legend": {
         "title": {
          "text": "Обозначение категорий"
         },
         "tracegroupgap": 0
        },
        "margin": {
         "t": 60
        },
        "template": {
         "data": {
          "bar": [
           {
            "error_x": {
             "color": "#2a3f5f"
            },
            "error_y": {
             "color": "#2a3f5f"
            },
            "marker": {
             "line": {
              "color": "#E5ECF6",
              "width": 0.5
             },
             "pattern": {
              "fillmode": "overlay",
              "size": 10,
              "solidity": 0.2
             }
            },
            "type": "bar"
           }
          ],
          "barpolar": [
           {
            "marker": {
             "line": {
              "color": "#E5ECF6",
              "width": 0.5
             },
             "pattern": {
              "fillmode": "overlay",
              "size": 10,
              "solidity": 0.2
             }
            },
            "type": "barpolar"
           }
          ],
          "carpet": [
           {
            "aaxis": {
             "endlinecolor": "#2a3f5f",
             "gridcolor": "white",
             "linecolor": "white",
             "minorgridcolor": "white",
             "startlinecolor": "#2a3f5f"
            },
            "baxis": {
             "endlinecolor": "#2a3f5f",
             "gridcolor": "white",
             "linecolor": "white",
             "minorgridcolor": "white",
             "startlinecolor": "#2a3f5f"
            },
            "type": "carpet"
           }
          ],
          "choropleth": [
           {
            "colorbar": {
             "outlinewidth": 0,
             "ticks": ""
            },
            "type": "choropleth"
           }
          ],
          "contour": [
           {
            "colorbar": {
             "outlinewidth": 0,
             "ticks": ""
            },
            "colorscale": [
             [
              0,
              "#0d0887"
             ],
             [
              0.1111111111111111,
              "#46039f"
             ],
             [
              0.2222222222222222,
              "#7201a8"
             ],
             [
              0.3333333333333333,
              "#9c179e"
             ],
             [
              0.4444444444444444,
              "#bd3786"
             ],
             [
              0.5555555555555556,
              "#d8576b"
             ],
             [
              0.6666666666666666,
              "#ed7953"
             ],
             [
              0.7777777777777778,
              "#fb9f3a"
             ],
             [
              0.8888888888888888,
              "#fdca26"
             ],
             [
              1,
              "#f0f921"
             ]
            ],
            "type": "contour"
           }
          ],
          "contourcarpet": [
           {
            "colorbar": {
             "outlinewidth": 0,
             "ticks": ""
            },
            "type": "contourcarpet"
           }
          ],
          "heatmap": [
           {
            "colorbar": {
             "outlinewidth": 0,
             "ticks": ""
            },
            "colorscale": [
             [
              0,
              "#0d0887"
             ],
             [
              0.1111111111111111,
              "#46039f"
             ],
             [
              0.2222222222222222,
              "#7201a8"
             ],
             [
              0.3333333333333333,
              "#9c179e"
             ],
             [
              0.4444444444444444,
              "#bd3786"
             ],
             [
              0.5555555555555556,
              "#d8576b"
             ],
             [
              0.6666666666666666,
              "#ed7953"
             ],
             [
              0.7777777777777778,
              "#fb9f3a"
             ],
             [
              0.8888888888888888,
              "#fdca26"
             ],
             [
              1,
              "#f0f921"
             ]
            ],
            "type": "heatmap"
           }
          ],
          "heatmapgl": [
           {
            "colorbar": {
             "outlinewidth": 0,
             "ticks": ""
            },
            "colorscale": [
             [
              0,
              "#0d0887"
             ],
             [
              0.1111111111111111,
              "#46039f"
             ],
             [
              0.2222222222222222,
              "#7201a8"
             ],
             [
              0.3333333333333333,
              "#9c179e"
             ],
             [
              0.4444444444444444,
              "#bd3786"
             ],
             [
              0.5555555555555556,
              "#d8576b"
             ],
             [
              0.6666666666666666,
              "#ed7953"
             ],
             [
              0.7777777777777778,
              "#fb9f3a"
             ],
             [
              0.8888888888888888,
              "#fdca26"
             ],
             [
              1,
              "#f0f921"
             ]
            ],
            "type": "heatmapgl"
           }
          ],
          "histogram": [
           {
            "marker": {
             "pattern": {
              "fillmode": "overlay",
              "size": 10,
              "solidity": 0.2
             }
            },
            "type": "histogram"
           }
          ],
          "histogram2d": [
           {
            "colorbar": {
             "outlinewidth": 0,
             "ticks": ""
            },
            "colorscale": [
             [
              0,
              "#0d0887"
             ],
             [
              0.1111111111111111,
              "#46039f"
             ],
             [
              0.2222222222222222,
              "#7201a8"
             ],
             [
              0.3333333333333333,
              "#9c179e"
             ],
             [
              0.4444444444444444,
              "#bd3786"
             ],
             [
              0.5555555555555556,
              "#d8576b"
             ],
             [
              0.6666666666666666,
              "#ed7953"
             ],
             [
              0.7777777777777778,
              "#fb9f3a"
             ],
             [
              0.8888888888888888,
              "#fdca26"
             ],
             [
              1,
              "#f0f921"
             ]
            ],
            "type": "histogram2d"
           }
          ],
          "histogram2dcontour": [
           {
            "colorbar": {
             "outlinewidth": 0,
             "ticks": ""
            },
            "colorscale": [
             [
              0,
              "#0d0887"
             ],
             [
              0.1111111111111111,
              "#46039f"
             ],
             [
              0.2222222222222222,
              "#7201a8"
             ],
             [
              0.3333333333333333,
              "#9c179e"
             ],
             [
              0.4444444444444444,
              "#bd3786"
             ],
             [
              0.5555555555555556,
              "#d8576b"
             ],
             [
              0.6666666666666666,
              "#ed7953"
             ],
             [
              0.7777777777777778,
              "#fb9f3a"
             ],
             [
              0.8888888888888888,
              "#fdca26"
             ],
             [
              1,
              "#f0f921"
             ]
            ],
            "type": "histogram2dcontour"
           }
          ],
          "mesh3d": [
           {
            "colorbar": {
             "outlinewidth": 0,
             "ticks": ""
            },
            "type": "mesh3d"
           }
          ],
          "parcoords": [
           {
            "line": {
             "colorbar": {
              "outlinewidth": 0,
              "ticks": ""
             }
            },
            "type": "parcoords"
           }
          ],
          "pie": [
           {
            "automargin": true,
            "type": "pie"
           }
          ],
          "scatter": [
           {
            "marker": {
             "colorbar": {
              "outlinewidth": 0,
              "ticks": ""
             }
            },
            "type": "scatter"
           }
          ],
          "scatter3d": [
           {
            "line": {
             "colorbar": {
              "outlinewidth": 0,
              "ticks": ""
             }
            },
            "marker": {
             "colorbar": {
              "outlinewidth": 0,
              "ticks": ""
             }
            },
            "type": "scatter3d"
           }
          ],
          "scattercarpet": [
           {
            "marker": {
             "colorbar": {
              "outlinewidth": 0,
              "ticks": ""
             }
            },
            "type": "scattercarpet"
           }
          ],
          "scattergeo": [
           {
            "marker": {
             "colorbar": {
              "outlinewidth": 0,
              "ticks": ""
             }
            },
            "type": "scattergeo"
           }
          ],
          "scattergl": [
           {
            "marker": {
             "colorbar": {
              "outlinewidth": 0,
              "ticks": ""
             }
            },
            "type": "scattergl"
           }
          ],
          "scattermapbox": [
           {
            "marker": {
             "colorbar": {
              "outlinewidth": 0,
              "ticks": ""
             }
            },
            "type": "scattermapbox"
           }
          ],
          "scatterpolar": [
           {
            "marker": {
             "colorbar": {
              "outlinewidth": 0,
              "ticks": ""
             }
            },
            "type": "scatterpolar"
           }
          ],
          "scatterpolargl": [
           {
            "marker": {
             "colorbar": {
              "outlinewidth": 0,
              "ticks": ""
             }
            },
            "type": "scatterpolargl"
           }
          ],
          "scatterternary": [
           {
            "marker": {
             "colorbar": {
              "outlinewidth": 0,
              "ticks": ""
             }
            },
            "type": "scatterternary"
           }
          ],
          "surface": [
           {
            "colorbar": {
             "outlinewidth": 0,
             "ticks": ""
            },
            "colorscale": [
             [
              0,
              "#0d0887"
             ],
             [
              0.1111111111111111,
              "#46039f"
             ],
             [
              0.2222222222222222,
              "#7201a8"
             ],
             [
              0.3333333333333333,
              "#9c179e"
             ],
             [
              0.4444444444444444,
              "#bd3786"
             ],
             [
              0.5555555555555556,
              "#d8576b"
             ],
             [
              0.6666666666666666,
              "#ed7953"
             ],
             [
              0.7777777777777778,
              "#fb9f3a"
             ],
             [
              0.8888888888888888,
              "#fdca26"
             ],
             [
              1,
              "#f0f921"
             ]
            ],
            "type": "surface"
           }
          ],
          "table": [
           {
            "cells": {
             "fill": {
              "color": "#EBF0F8"
             },
             "line": {
              "color": "white"
             }
            },
            "header": {
             "fill": {
              "color": "#C8D4E3"
             },
             "line": {
              "color": "white"
             }
            },
            "type": "table"
           }
          ]
         },
         "layout": {
          "annotationdefaults": {
           "arrowcolor": "#2a3f5f",
           "arrowhead": 0,
           "arrowwidth": 1
          },
          "autotypenumbers": "strict",
          "coloraxis": {
           "colorbar": {
            "outlinewidth": 0,
            "ticks": ""
           }
          },
          "colorscale": {
           "diverging": [
            [
             0,
             "#8e0152"
            ],
            [
             0.1,
             "#c51b7d"
            ],
            [
             0.2,
             "#de77ae"
            ],
            [
             0.3,
             "#f1b6da"
            ],
            [
             0.4,
             "#fde0ef"
            ],
            [
             0.5,
             "#f7f7f7"
            ],
            [
             0.6,
             "#e6f5d0"
            ],
            [
             0.7,
             "#b8e186"
            ],
            [
             0.8,
             "#7fbc41"
            ],
            [
             0.9,
             "#4d9221"
            ],
            [
             1,
             "#276419"
            ]
           ],
           "sequential": [
            [
             0,
             "#0d0887"
            ],
            [
             0.1111111111111111,
             "#46039f"
            ],
            [
             0.2222222222222222,
             "#7201a8"
            ],
            [
             0.3333333333333333,
             "#9c179e"
            ],
            [
             0.4444444444444444,
             "#bd3786"
            ],
            [
             0.5555555555555556,
             "#d8576b"
            ],
            [
             0.6666666666666666,
             "#ed7953"
            ],
            [
             0.7777777777777778,
             "#fb9f3a"
            ],
            [
             0.8888888888888888,
             "#fdca26"
            ],
            [
             1,
             "#f0f921"
            ]
           ],
           "sequentialminus": [
            [
             0,
             "#0d0887"
            ],
            [
             0.1111111111111111,
             "#46039f"
            ],
            [
             0.2222222222222222,
             "#7201a8"
            ],
            [
             0.3333333333333333,
             "#9c179e"
            ],
            [
             0.4444444444444444,
             "#bd3786"
            ],
            [
             0.5555555555555556,
             "#d8576b"
            ],
            [
             0.6666666666666666,
             "#ed7953"
            ],
            [
             0.7777777777777778,
             "#fb9f3a"
            ],
            [
             0.8888888888888888,
             "#fdca26"
            ],
            [
             1,
             "#f0f921"
            ]
           ]
          },
          "colorway": [
           "#636efa",
           "#EF553B",
           "#00cc96",
           "#ab63fa",
           "#FFA15A",
           "#19d3f3",
           "#FF6692",
           "#B6E880",
           "#FF97FF",
           "#FECB52"
          ],
          "font": {
           "color": "#2a3f5f"
          },
          "geo": {
           "bgcolor": "white",
           "lakecolor": "white",
           "landcolor": "#E5ECF6",
           "showlakes": true,
           "showland": true,
           "subunitcolor": "white"
          },
          "hoverlabel": {
           "align": "left"
          },
          "hovermode": "closest",
          "mapbox": {
           "style": "light"
          },
          "paper_bgcolor": "white",
          "plot_bgcolor": "#E5ECF6",
          "polar": {
           "angularaxis": {
            "gridcolor": "white",
            "linecolor": "white",
            "ticks": ""
           },
           "bgcolor": "#E5ECF6",
           "radialaxis": {
            "gridcolor": "white",
            "linecolor": "white",
            "ticks": ""
           }
          },
          "scene": {
           "xaxis": {
            "backgroundcolor": "#E5ECF6",
            "gridcolor": "white",
            "gridwidth": 2,
            "linecolor": "white",
            "showbackground": true,
            "ticks": "",
            "zerolinecolor": "white"
           },
           "yaxis": {
            "backgroundcolor": "#E5ECF6",
            "gridcolor": "white",
            "gridwidth": 2,
            "linecolor": "white",
            "showbackground": true,
            "ticks": "",
            "zerolinecolor": "white"
           },
           "zaxis": {
            "backgroundcolor": "#E5ECF6",
            "gridcolor": "white",
            "gridwidth": 2,
            "linecolor": "white",
            "showbackground": true,
            "ticks": "",
            "zerolinecolor": "white"
           }
          },
          "shapedefaults": {
           "line": {
            "color": "#2a3f5f"
           }
          },
          "ternary": {
           "aaxis": {
            "gridcolor": "white",
            "linecolor": "white",
            "ticks": ""
           },
           "baxis": {
            "gridcolor": "white",
            "linecolor": "white",
            "ticks": ""
           },
           "bgcolor": "#E5ECF6",
           "caxis": {
            "gridcolor": "white",
            "linecolor": "white",
            "ticks": ""
           }
          },
          "title": {
           "x": 0.05
          },
          "xaxis": {
           "automargin": true,
           "gridcolor": "white",
           "linecolor": "white",
           "ticks": "",
           "title": {
            "standoff": 15
           },
           "zerolinecolor": "white",
           "zerolinewidth": 2
          },
          "yaxis": {
           "automargin": true,
           "gridcolor": "white",
           "linecolor": "white",
           "ticks": "",
           "title": {
            "standoff": 15
           },
           "zerolinecolor": "white",
           "zerolinewidth": 2
          }
         }
        },
        "title": {
         "text": "Количество продаж в категориях",
         "x": 0.5
        },
        "width": 900,
        "xaxis": {
         "anchor": "y",
         "domain": [
          0,
          1
         ],
         "title": {
          "text": "Количество продаж, шт."
         }
        },
        "yaxis": {
         "anchor": "x",
         "categoryarray": [
          "бытовая химия",
          "сумки",
          "посуда и бытовая техника",
          "растение",
          "товары для дома",
          "декор"
         ],
         "categoryorder": "array",
         "domain": [
          0,
          1
         ],
         "title": {
          "text": "Категории"
         }
        }
       }
      }
     },
     "metadata": {},
     "output_type": "display_data"
    },
    {
     "name": "stdout",
     "output_type": "stream",
     "text": [
      "По количеству продаж лидирует категория - \"декор\" на 1381 шт., на втором месте- \"товары для дома\" на 1263 шт., минимум у категории \"бытовая химия\" на 76 шт.\n"
     ]
    }
   ],
   "source": [
    "# Посмотрим по чуслу проданных продуктов в категориях\n",
    "df_quantity = df.pivot_table(index='category', values='quantity', aggfunc='sum').sort_values(by='quantity', ascending=False).reset_index()\n",
    "#display(df_product)\n",
    "fig = px.bar(df_quantity, y='category', x='quantity', width=900, height=500, color='category', \n",
    "            color_discrete_sequence=px.colors.qualitative.G10, text='quantity')\n",
    "fig.update_layout(title='Количество продаж в категориях', title_x=0.5,\n",
    "                  xaxis_title ='Количество продаж, шт.', yaxis_title='Категории',\n",
    "                 legend_title='Обозначение категорий')\n",
    "fig.show()\n",
    "print('По количеству продаж лидирует категория - \"{}\" на {} шт., на втором месте- \"{}\" на {} шт., минимум у категории \"{}\" на {} шт.'\n",
    "      .format(df_quantity.iloc[0]['category'], df_quantity['quantity'].max(), \n",
    "              df_quantity.iloc[1]['category'], df_quantity.iloc[1]['quantity'],\n",
    "              df_quantity.iloc[5]['category'], df_quantity['quantity'].min(),))"
   ]
  },
  {
   "cell_type": "markdown",
   "metadata": {},
   "source": [
    "### Вывод\n",
    "- разделили товары на категории\n",
    "- По сумме продаж лидирует категория - \"товары для дома\" на 919143.0 у.е., на втором месте- \"сумки\" на 599412.0 у.е., минимум у категории \"бытовая химия\" на 23982.0 у.е.\n",
    "- По количеству продаж лидирует категория - \"декор\" на 1381 шт., на втором месте- \"товары для дома\" на 1263 шт., минимум у категории \"бытовая химия\" на 76 шт."
   ]
  },
  {
   "cell_type": "markdown",
   "metadata": {},
   "source": [
    "### Сегментация по времени покупок\n"
   ]
  },
  {
   "cell_type": "code",
   "execution_count": 16,
   "metadata": {},
   "outputs": [
    {
     "name": "stdout",
     "output_type": "stream",
     "text": [
      "Минимальная дата выгрузки: 2018-10-01 00:00:00\n",
      "Максимальная дата выгрузки: 2019-10-31 00:00:00\n",
      "За какой период данными распологаем? 395 days 00:00:00\n"
     ]
    },
    {
     "data": {
      "text/plain": [
       "1567    2019-06\n",
       "1192    2019-04\n",
       "Name: month, dtype: object"
      ]
     },
     "execution_count": 16,
     "metadata": {},
     "output_type": "execute_result"
    }
   ],
   "source": [
    "print('Минимальная дата выгрузки:', df['date'].min())\n",
    "print('Максимальная дата выгрузки:', df['date'].max())\n",
    "print('За какой период данными распологаем?', (df['date'].max()-df['date'].min()))\n",
    "#Выделим по месяцам\n",
    "df['month'] = df['date'].dt.strftime('%Y-%m')\n",
    "df['month'].sample(2)"
   ]
  },
  {
   "cell_type": "markdown",
   "metadata": {},
   "source": [
    "\n",
    "## Построить модель прогнозирования покупок\n",
    "С помощью дерева разбить на кластеры (количественные значения по покупке -по столбцам price, quantity и т.д), провести K-means кластеризацию. На графиках посмотреть зависимости."
   ]
  },
  {
   "cell_type": "markdown",
   "metadata": {},
   "source": [
    "### Сегментируем покупателей по покупкам"
   ]
  },
  {
   "cell_type": "code",
   "execution_count": 17,
   "metadata": {
    "scrolled": true
   },
   "outputs": [
    {
     "data": {
      "text/html": [
       "<div>\n",
       "<style scoped>\n",
       "    .dataframe tbody tr th:only-of-type {\n",
       "        vertical-align: middle;\n",
       "    }\n",
       "\n",
       "    .dataframe tbody tr th {\n",
       "        vertical-align: top;\n",
       "    }\n",
       "\n",
       "    .dataframe thead th {\n",
       "        text-align: right;\n",
       "    }\n",
       "</style>\n",
       "<table border=\"1\" class=\"dataframe\">\n",
       "  <thead>\n",
       "    <tr style=\"text-align: right;\">\n",
       "      <th></th>\n",
       "      <th>order_id</th>\n",
       "      <th>final_sum</th>\n",
       "    </tr>\n",
       "  </thead>\n",
       "  <tbody>\n",
       "    <tr>\n",
       "      <th>0</th>\n",
       "      <td>14510</td>\n",
       "      <td>573.0</td>\n",
       "    </tr>\n",
       "    <tr>\n",
       "      <th>1</th>\n",
       "      <td>14538</td>\n",
       "      <td>90.0</td>\n",
       "    </tr>\n",
       "  </tbody>\n",
       "</table>\n",
       "</div>"
      ],
      "text/plain": [
       "   order_id  final_sum\n",
       "0     14510      573.0\n",
       "1     14538       90.0"
      ]
     },
     "metadata": {},
     "output_type": "display_data"
    },
    {
     "data": {
      "text/html": [
       "<div>\n",
       "<style scoped>\n",
       "    .dataframe tbody tr th:only-of-type {\n",
       "        vertical-align: middle;\n",
       "    }\n",
       "\n",
       "    .dataframe tbody tr th {\n",
       "        vertical-align: top;\n",
       "    }\n",
       "\n",
       "    .dataframe thead th {\n",
       "        text-align: right;\n",
       "    }\n",
       "</style>\n",
       "<table border=\"1\" class=\"dataframe\">\n",
       "  <thead>\n",
       "    <tr style=\"text-align: right;\">\n",
       "      <th></th>\n",
       "      <th>customer_id</th>\n",
       "      <th>orders_count</th>\n",
       "    </tr>\n",
       "  </thead>\n",
       "  <tbody>\n",
       "    <tr>\n",
       "      <th>0</th>\n",
       "      <td>001cee7f-0b29-4716-b202-0042213ab038</td>\n",
       "      <td>1</td>\n",
       "    </tr>\n",
       "    <tr>\n",
       "      <th>1</th>\n",
       "      <td>002d4d3a-4a59-406b-86ec-c3314357e498</td>\n",
       "      <td>1</td>\n",
       "    </tr>\n",
       "  </tbody>\n",
       "</table>\n",
       "</div>"
      ],
      "text/plain": [
       "                            customer_id  orders_count\n",
       "0  001cee7f-0b29-4716-b202-0042213ab038             1\n",
       "1  002d4d3a-4a59-406b-86ec-c3314357e498             1"
      ]
     },
     "execution_count": 17,
     "metadata": {},
     "output_type": "execute_result"
    }
   ],
   "source": [
    "# Выделим данные по заказам\n",
    "df_orders = (\n",
    "    df\n",
    "    .groupby('order_id', as_index=False)\n",
    "    .agg({'total_price': 'sum'})\n",
    "    .rename({'total_price': 'final_sum'}, axis=1)\n",
    ")\n",
    "display(df_orders.head(2))\n",
    "\n",
    "# Количество заказов на покупателя\n",
    "orders_count = (\n",
    "    df.groupby('customer_id', as_index=False)['order_id'].count()\n",
    "    .rename({'order_id': 'orders_count'}, axis=1)\n",
    ")\n",
    "orders_count.head(2)"
   ]
  },
  {
   "cell_type": "code",
   "execution_count": 18,
   "metadata": {},
   "outputs": [
    {
     "data": {
      "text/html": [
       "<div>\n",
       "<style scoped>\n",
       "    .dataframe tbody tr th:only-of-type {\n",
       "        vertical-align: middle;\n",
       "    }\n",
       "\n",
       "    .dataframe tbody tr th {\n",
       "        vertical-align: top;\n",
       "    }\n",
       "\n",
       "    .dataframe thead th {\n",
       "        text-align: right;\n",
       "    }\n",
       "</style>\n",
       "<table border=\"1\" class=\"dataframe\">\n",
       "  <thead>\n",
       "    <tr style=\"text-align: right;\">\n",
       "      <th></th>\n",
       "      <th>customer_id</th>\n",
       "      <th>price</th>\n",
       "      <th>quantity</th>\n",
       "      <th>final_sum</th>\n",
       "      <th>orders_count</th>\n",
       "      <th>revenue</th>\n",
       "    </tr>\n",
       "  </thead>\n",
       "  <tbody>\n",
       "    <tr>\n",
       "      <th>0</th>\n",
       "      <td>375e0724-f033-4c76-b579-84969cf38ee2</td>\n",
       "      <td>824.0</td>\n",
       "      <td>1</td>\n",
       "      <td>824.0</td>\n",
       "      <td>1</td>\n",
       "      <td>824.0</td>\n",
       "    </tr>\n",
       "    <tr>\n",
       "      <th>1</th>\n",
       "      <td>6644e5b4-9934-4863-9778-aaa125207701</td>\n",
       "      <td>269.0</td>\n",
       "      <td>1</td>\n",
       "      <td>269.0</td>\n",
       "      <td>1</td>\n",
       "      <td>269.0</td>\n",
       "    </tr>\n",
       "  </tbody>\n",
       "</table>\n",
       "</div>"
      ],
      "text/plain": [
       "                            customer_id  price  quantity  final_sum  \\\n",
       "0  375e0724-f033-4c76-b579-84969cf38ee2  824.0         1      824.0   \n",
       "1  6644e5b4-9934-4863-9778-aaa125207701  269.0         1      269.0   \n",
       "\n",
       "   orders_count  revenue  \n",
       "0             1    824.0  \n",
       "1             1    269.0  "
      ]
     },
     "execution_count": 18,
     "metadata": {},
     "output_type": "execute_result"
    }
   ],
   "source": [
    "# Все объединим и найдем общую сумму\n",
    "df_customer = (\n",
    "    df[['customer_id', 'order_id', 'price', 'quantity']]\n",
    "    .merge(df_orders, how='left', on='order_id')\n",
    "    .merge(orders_count, how='left', on='customer_id')\n",
    "    .query('customer_id not in @abnormal_customers')\n",
    "    .drop('order_id', axis=1)\n",
    ")\n",
    "df_customer['revenue'] = df_customer['final_sum'] * df_customer['orders_count']\n",
    "df_customer.head(2)"
   ]
  },
  {
   "cell_type": "code",
   "execution_count": 19,
   "metadata": {},
   "outputs": [
    {
     "data": {
      "image/png": "[encoded data removed]",
      "text/plain": [
       "<Figure size 720x720 with 2 Axes>"
      ]
     },
     "metadata": {},
     "output_type": "display_data"
    }
   ],
   "source": [
    "#Постройте матрицу корреляций и отобразите её.\n",
    "plt.figure(figsize=(10,10))\n",
    "sns.heatmap(data = df_customer.corr(), annot=True, square=True, linewidths=.5, linecolor='gray', cmap='gnuplot') #fmt='.1%'\n",
    "plt.title('Матрица корреляций', fontsize=14)\n",
    "plt.show()"
   ]
  },
  {
   "cell_type": "markdown",
   "metadata": {},
   "source": [
    "На 80% видна зависимость price от final_sum. Думаю из-за того, что большинство заказов единичны. \n",
    "\n",
    "Можно проводить кластеризацию покупателей с использованием машинного обучения. Предварительно построим дендрограмму и выберем оптимальное число кластеров"
   ]
  },
  {
   "cell_type": "code",
   "execution_count": 20,
   "metadata": {},
   "outputs": [
    {
     "data": {
      "image/png": "[encoded data removed]",
      "text/plain": [
       "<Figure size 1080x648 with 1 Axes>"
      ]
     },
     "metadata": {},
     "output_type": "display_data"
    }
   ],
   "source": [
    "#Стандартизируйте данные.\n",
    "sc = StandardScaler()\n",
    "X_sc = sc.fit_transform(df_customer.drop(columns='customer_id'))\n",
    "\n",
    "#Постройте матрицу расстояний функцией linkage() на стандартизованной матрице признаков и нарисуйте дендрограмму\n",
    "linked = linkage(X_sc, method = 'ward')\n",
    "plt.figure(figsize=(15, 9))  \n",
    "dendrogram(linked, orientation='top')\n",
    "plt.title('Иерархическая кластеризация- дендрограмма', fontsize=14)\n",
    "plt.show()"
   ]
  },
  {
   "cell_type": "markdown",
   "metadata": {},
   "source": [
    "Видно 4 кластера. "
   ]
  },
  {
   "cell_type": "code",
   "execution_count": 21,
   "metadata": {
    "scrolled": false
   },
   "outputs": [
    {
     "data": {
      "text/html": [
       "<div>\n",
       "<style scoped>\n",
       "    .dataframe tbody tr th:only-of-type {\n",
       "        vertical-align: middle;\n",
       "    }\n",
       "\n",
       "    .dataframe tbody tr th {\n",
       "        vertical-align: top;\n",
       "    }\n",
       "\n",
       "    .dataframe thead th {\n",
       "        text-align: right;\n",
       "    }\n",
       "</style>\n",
       "<table border=\"1\" class=\"dataframe\">\n",
       "  <thead>\n",
       "    <tr style=\"text-align: right;\">\n",
       "      <th></th>\n",
       "      <th>customer_id</th>\n",
       "      <th>price</th>\n",
       "      <th>quantity</th>\n",
       "      <th>final_sum</th>\n",
       "      <th>orders_count</th>\n",
       "      <th>revenue</th>\n",
       "      <th>cluster_km</th>\n",
       "    </tr>\n",
       "  </thead>\n",
       "  <tbody>\n",
       "    <tr>\n",
       "      <th>2158</th>\n",
       "      <td>73d1cd35-5e5f-4629-8cf2-3fda829d4e58</td>\n",
       "      <td>397.0</td>\n",
       "      <td>1</td>\n",
       "      <td>397.0</td>\n",
       "      <td>17</td>\n",
       "      <td>6749.0</td>\n",
       "      <td>2</td>\n",
       "    </tr>\n",
       "    <tr>\n",
       "      <th>2159</th>\n",
       "      <td>344aa778-e436-419e-a9c6-9b8f37b7c1df</td>\n",
       "      <td>1087.0</td>\n",
       "      <td>1</td>\n",
       "      <td>1087.0</td>\n",
       "      <td>1</td>\n",
       "      <td>1087.0</td>\n",
       "      <td>0</td>\n",
       "    </tr>\n",
       "  </tbody>\n",
       "</table>\n",
       "</div>"
      ],
      "text/plain": [
       "                               customer_id   price  quantity  final_sum  \\\n",
       "2158  73d1cd35-5e5f-4629-8cf2-3fda829d4e58   397.0         1      397.0   \n",
       "2159  344aa778-e436-419e-a9c6-9b8f37b7c1df  1087.0         1     1087.0   \n",
       "\n",
       "      orders_count  revenue  cluster_km  \n",
       "2158            17   6749.0           2  \n",
       "2159             1   1087.0           0  "
      ]
     },
     "metadata": {},
     "output_type": "display_data"
    },
    {
     "data": {
      "text/html": [
       "<div>\n",
       "<style scoped>\n",
       "    .dataframe tbody tr th:only-of-type {\n",
       "        vertical-align: middle;\n",
       "    }\n",
       "\n",
       "    .dataframe tbody tr th {\n",
       "        vertical-align: top;\n",
       "    }\n",
       "\n",
       "    .dataframe thead th {\n",
       "        text-align: right;\n",
       "    }\n",
       "</style>\n",
       "<table border=\"1\" class=\"dataframe\">\n",
       "  <thead>\n",
       "    <tr style=\"text-align: right;\">\n",
       "      <th>cluster_km</th>\n",
       "      <th>0</th>\n",
       "      <th>1</th>\n",
       "      <th>2</th>\n",
       "      <th>3</th>\n",
       "    </tr>\n",
       "  </thead>\n",
       "  <tbody>\n",
       "    <tr>\n",
       "      <th>price</th>\n",
       "      <td>580.7</td>\n",
       "      <td>3725.5</td>\n",
       "      <td>1056.9</td>\n",
       "      <td>110.0</td>\n",
       "    </tr>\n",
       "    <tr>\n",
       "      <th>quantity</th>\n",
       "      <td>1.4</td>\n",
       "      <td>1.4</td>\n",
       "      <td>2.5</td>\n",
       "      <td>11.7</td>\n",
       "    </tr>\n",
       "    <tr>\n",
       "      <th>final_sum</th>\n",
       "      <td>655.2</td>\n",
       "      <td>4348.1</td>\n",
       "      <td>1455.5</td>\n",
       "      <td>1277.7</td>\n",
       "    </tr>\n",
       "    <tr>\n",
       "      <th>orders_count</th>\n",
       "      <td>1.1</td>\n",
       "      <td>1.1</td>\n",
       "      <td>23.1</td>\n",
       "      <td>1.2</td>\n",
       "    </tr>\n",
       "    <tr>\n",
       "      <th>revenue</th>\n",
       "      <td>724.7</td>\n",
       "      <td>5144.7</td>\n",
       "      <td>34442.5</td>\n",
       "      <td>1386.6</td>\n",
       "    </tr>\n",
       "  </tbody>\n",
       "</table>\n",
       "</div>"
      ],
      "text/plain": [
       "cluster_km        0       1        2       3\n",
       "price         580.7  3725.5   1056.9   110.0\n",
       "quantity        1.4     1.4      2.5    11.7\n",
       "final_sum     655.2  4348.1   1455.5  1277.7\n",
       "orders_count    1.1     1.1     23.1     1.2\n",
       "revenue       724.7  5144.7  34442.5  1386.6"
      ]
     },
     "execution_count": 21,
     "metadata": {},
     "output_type": "execute_result"
    }
   ],
   "source": [
    "km = KMeans(n_clusters = 4, random_state = 0)\n",
    "labels = km.fit_predict(X_sc)\n",
    "df_customer['cluster_km'] = labels\n",
    "display(df_customer.tail(2))\n",
    "round(df_customer.groupby('cluster_km').mean(), 1).T"
   ]
  },
  {
   "cell_type": "markdown",
   "metadata": {},
   "source": [
    "По средним значениям:\n",
    "- **0 кластер:**\n",
    "    * цена -580.7,\n",
    "    * количество товара - 1.4,\n",
    "    * количество заказов - 1,\n",
    "    * выручка - 724.7\n",
    "- **1 кластер:**\n",
    "    * цена товара максимальная - 3725.5,\n",
    "    * количество товара - 1.4,\n",
    "    * количество заказов - 1,\n",
    "    * выручка - 5144.7\n",
    "- **2 кластер:**\n",
    "    * цена - 1056.9,\n",
    "    * количество товара - 2.5,\n",
    "    * количество заказов - 23,\n",
    "    * выручка - 34442.5\n",
    "- **3 кластер:**\n",
    "    * минимальная цена товара - 110,\n",
    "    * количество товара - 11.7,\n",
    "    * количество заказов - 1.2,\n",
    "    * выручка - 1386.6"
   ]
  },
  {
   "cell_type": "code",
   "execution_count": 22,
   "metadata": {
    "scrolled": true
   },
   "outputs": [
    {
     "data": {
      "text/html": [
       "<div>\n",
       "<style scoped>\n",
       "    .dataframe tbody tr th:only-of-type {\n",
       "        vertical-align: middle;\n",
       "    }\n",
       "\n",
       "    .dataframe tbody tr th {\n",
       "        vertical-align: top;\n",
       "    }\n",
       "\n",
       "    .dataframe thead th {\n",
       "        text-align: right;\n",
       "    }\n",
       "</style>\n",
       "<table border=\"1\" class=\"dataframe\">\n",
       "  <thead>\n",
       "    <tr style=\"text-align: right;\">\n",
       "      <th></th>\n",
       "      <th>date</th>\n",
       "      <th>customer_id</th>\n",
       "      <th>order_id</th>\n",
       "      <th>quantity</th>\n",
       "      <th>price</th>\n",
       "      <th>total_price</th>\n",
       "      <th>category</th>\n",
       "      <th>month</th>\n",
       "      <th>cluster_km</th>\n",
       "      <th>revenue</th>\n",
       "    </tr>\n",
       "  </thead>\n",
       "  <tbody>\n",
       "    <tr>\n",
       "      <th>0</th>\n",
       "      <td>2018-10-01</td>\n",
       "      <td>375e0724-f033-4c76-b579-84969cf38ee2</td>\n",
       "      <td>68479</td>\n",
       "      <td>1</td>\n",
       "      <td>824.0</td>\n",
       "      <td>824.0</td>\n",
       "      <td>товары для дома</td>\n",
       "      <td>2018-10</td>\n",
       "      <td>0</td>\n",
       "      <td>824.0</td>\n",
       "    </tr>\n",
       "    <tr>\n",
       "      <th>1</th>\n",
       "      <td>2018-10-01</td>\n",
       "      <td>6644e5b4-9934-4863-9778-aaa125207701</td>\n",
       "      <td>68478</td>\n",
       "      <td>1</td>\n",
       "      <td>269.0</td>\n",
       "      <td>269.0</td>\n",
       "      <td>товары для дома</td>\n",
       "      <td>2018-10</td>\n",
       "      <td>0</td>\n",
       "      <td>269.0</td>\n",
       "    </tr>\n",
       "  </tbody>\n",
       "</table>\n",
       "</div>"
      ],
      "text/plain": [
       "        date                           customer_id  order_id  quantity  price  \\\n",
       "0 2018-10-01  375e0724-f033-4c76-b579-84969cf38ee2     68479         1  824.0   \n",
       "1 2018-10-01  6644e5b4-9934-4863-9778-aaa125207701     68478         1  269.0   \n",
       "\n",
       "   total_price         category    month  cluster_km  revenue  \n",
       "0        824.0  товары для дома  2018-10           0    824.0  \n",
       "1        269.0  товары для дома  2018-10           0    269.0  "
      ]
     },
     "execution_count": 22,
     "metadata": {},
     "output_type": "execute_result"
    }
   ],
   "source": [
    "df = df.merge(df_customer[['customer_id', 'cluster_km', 'revenue']] , how='left', on='customer_id')\n",
    "df.head(2)"
   ]
  },
  {
   "cell_type": "markdown",
   "metadata": {},
   "source": [
    "### Сегментация покупателей по категориям товаров"
   ]
  },
  {
   "cell_type": "code",
   "execution_count": 23,
   "metadata": {
    "scrolled": false
   },
   "outputs": [
    {
     "name": "stdout",
     "output_type": "stream",
     "text": [
      "\n",
      "В КЛАСТЕРЕ \"0\"\n"
     ]
    },
    {
     "data": {
      "application/vnd.plotly.v1+json": {
       "config": {
        "plotlyServerURL": "https://plot.ly"
       },
       "data": [
        {
         "alignmentgroup": "True",
         "hovertemplate": "revenue=%{marker.color}<br>category=%{y}<extra></extra>",
         "legendgroup": "",
         "marker": {
          "color": [
           11364,
           337576,
           163300,
           189233,
           277906,
           575391
          ],
          "coloraxis": "coloraxis",
          "pattern": {
           "shape": ""
          }
         },
         "name": "",
         "offsetgroup": "",
         "orientation": "h",
         "showlegend": false,
         "text": [
          11364,
          337576,
          163300,
          189233,
          277906,
          575391
         ],
         "textposition": "auto",
         "type": "bar",
         "x": [
          11364,
          337576,
          163300,
          189233,
          277906,
          575391
         ],
         "xaxis": "x",
         "y": [
          "бытовая химия",
          "декор",
          "посуда и бытовая техника",
          "растение",
          "сумки",
          "товары для дома"
         ],
         "yaxis": "y"
        }
       ],
       "layout": {
        "barmode": "relative",
        "coloraxis": {
         "colorbar": {
          "title": {
           "text": "revenue"
          }
         },
         "colorscale": [
          [
           0,
           "#0d0887"
          ],
          [
           0.1111111111111111,
           "#46039f"
          ],
          [
           0.2222222222222222,
           "#7201a8"
          ],
          [
           0.3333333333333333,
           "#9c179e"
          ],
          [
           0.4444444444444444,
           "#bd3786"
          ],
          [
           0.5555555555555556,
           "#d8576b"
          ],
          [
           0.6666666666666666,
           "#ed7953"
          ],
          [
           0.7777777777777778,
           "#fb9f3a"
          ],
          [
           0.8888888888888888,
           "#fdca26"
          ],
          [
           1,
           "#f0f921"
          ]
         ]
        },
        "height": 400,
        "legend": {
         "tracegroupgap": 0
        },
        "margin": {
         "t": 60
        },
        "template": {
         "data": {
          "bar": [
           {
            "error_x": {
             "color": "#2a3f5f"
            },
            "error_y": {
             "color": "#2a3f5f"
            },
            "marker": {
             "line": {
              "color": "#E5ECF6",
              "width": 0.5
             },
             "pattern": {
              "fillmode": "overlay",
              "size": 10,
              "solidity": 0.2
             }
            },
            "type": "bar"
           }
          ],
          "barpolar": [
           {
            "marker": {
             "line": {
              "color": "#E5ECF6",
              "width": 0.5
             },
             "pattern": {
              "fillmode": "overlay",
              "size": 10,
              "solidity": 0.2
             }
            },
            "type": "barpolar"
           }
          ],
          "carpet": [
           {
            "aaxis": {
             "endlinecolor": "#2a3f5f",
             "gridcolor": "white",
             "linecolor": "white",
             "minorgridcolor": "white",
             "startlinecolor": "#2a3f5f"
            },
            "baxis": {
             "endlinecolor": "#2a3f5f",
             "gridcolor": "white",
             "linecolor": "white",
             "minorgridcolor": "white",
             "startlinecolor": "#2a3f5f"
            },
            "type": "carpet"
           }
          ],
          "choropleth": [
           {
            "colorbar": {
             "outlinewidth": 0,
             "ticks": ""
            },
            "type": "choropleth"
           }
          ],
          "contour": [
           {
            "colorbar": {
             "outlinewidth": 0,
             "ticks": ""
            },
            "colorscale": [
             [
              0,
              "#0d0887"
             ],
             [
              0.1111111111111111,
              "#46039f"
             ],
             [
              0.2222222222222222,
              "#7201a8"
             ],
             [
              0.3333333333333333,
              "#9c179e"
             ],
             [
              0.4444444444444444,
              "#bd3786"
             ],
             [
              0.5555555555555556,
              "#d8576b"
             ],
             [
              0.6666666666666666,
              "#ed7953"
             ],
             [
              0.7777777777777778,
              "#fb9f3a"
             ],
             [
              0.8888888888888888,
              "#fdca26"
             ],
             [
              1,
              "#f0f921"
             ]
            ],
            "type": "contour"
           }
          ],
          "contourcarpet": [
           {
            "colorbar": {
             "outlinewidth": 0,
             "ticks": ""
            },
            "type": "contourcarpet"
           }
          ],
          "heatmap": [
           {
            "colorbar": {
             "outlinewidth": 0,
             "ticks": ""
            },
            "colorscale": [
             [
              0,
              "#0d0887"
             ],
             [
              0.1111111111111111,
              "#46039f"
             ],
             [
              0.2222222222222222,
              "#7201a8"
             ],
             [
              0.3333333333333333,
              "#9c179e"
             ],
             [
              0.4444444444444444,
              "#bd3786"
             ],
             [
              0.5555555555555556,
              "#d8576b"
             ],
             [
              0.6666666666666666,
              "#ed7953"
             ],
             [
              0.7777777777777778,
              "#fb9f3a"
             ],
             [
              0.8888888888888888,
              "#fdca26"
             ],
             [
              1,
              "#f0f921"
             ]
            ],
            "type": "heatmap"
           }
          ],
          "heatmapgl": [
           {
            "colorbar": {
             "outlinewidth": 0,
             "ticks": ""
            },
            "colorscale": [
             [
              0,
              "#0d0887"
             ],
             [
              0.1111111111111111,
              "#46039f"
             ],
             [
              0.2222222222222222,
              "#7201a8"
             ],
             [
              0.3333333333333333,
              "#9c179e"
             ],
             [
              0.4444444444444444,
              "#bd3786"
             ],
             [
              0.5555555555555556,
              "#d8576b"
             ],
             [
              0.6666666666666666,
              "#ed7953"
             ],
             [
              0.7777777777777778,
              "#fb9f3a"
             ],
             [
              0.8888888888888888,
              "#fdca26"
             ],
             [
              1,
              "#f0f921"
             ]
            ],
            "type": "heatmapgl"
           }
          ],
          "histogram": [
           {
            "marker": {
             "pattern": {
              "fillmode": "overlay",
              "size": 10,
              "solidity": 0.2
             }
            },
            "type": "histogram"
           }
          ],
          "histogram2d": [
           {
            "colorbar": {
             "outlinewidth": 0,
             "ticks": ""
            },
            "colorscale": [
             [
              0,
              "#0d0887"
             ],
             [
              0.1111111111111111,
              "#46039f"
             ],
             [
              0.2222222222222222,
              "#7201a8"
             ],
             [
              0.3333333333333333,
              "#9c179e"
             ],
             [
              0.4444444444444444,
              "#bd3786"
             ],
             [
              0.5555555555555556,
              "#d8576b"
             ],
             [
              0.6666666666666666,
              "#ed7953"
             ],
             [
              0.7777777777777778,
              "#fb9f3a"
             ],
             [
              0.8888888888888888,
              "#fdca26"
             ],
             [
              1,
              "#f0f921"
             ]
            ],
            "type": "histogram2d"
           }
          ],
          "histogram2dcontour": [
           {
            "colorbar": {
             "outlinewidth": 0,
             "ticks": ""
            },
            "colorscale": [
             [
              0,
              "#0d0887"
             ],
             [
              0.1111111111111111,
              "#46039f"
             ],
             [
              0.2222222222222222,
              "#7201a8"
             ],
             [
              0.3333333333333333,
              "#9c179e"
             ],
             [
              0.4444444444444444,
              "#bd3786"
             ],
             [
              0.5555555555555556,
              "#d8576b"
             ],
             [
              0.6666666666666666,
              "#ed7953"
             ],
             [
              0.7777777777777778,
              "#fb9f3a"
             ],
             [
              0.8888888888888888,
              "#fdca26"
             ],
             [
              1,
              "#f0f921"
             ]
            ],
            "type": "histogram2dcontour"
           }
          ],
          "mesh3d": [
           {
            "colorbar": {
             "outlinewidth": 0,
             "ticks": ""
            },
            "type": "mesh3d"
           }
          ],
          "parcoords": [
           {
            "line": {
             "colorbar": {
              "outlinewidth": 0,
              "ticks": ""
             }
            },
            "type": "parcoords"
           }
          ],
          "pie": [
           {
            "automargin": true,
            "type": "pie"
           }
          ],
          "scatter": [
           {
            "marker": {
             "colorbar": {
              "outlinewidth": 0,
              "ticks": ""
             }
            },
            "type": "scatter"
           }
          ],
          "scatter3d": [
           {
            "line": {
             "colorbar": {
              "outlinewidth": 0,
              "ticks": ""
             }
            },
            "marker": {
             "colorbar": {
              "outlinewidth": 0,
              "ticks": ""
             }
            },
            "type": "scatter3d"
           }
          ],
          "scattercarpet": [
           {
            "marker": {
             "colorbar": {
              "outlinewidth": 0,
              "ticks": ""
             }
            },
            "type": "scattercarpet"
           }
          ],
          "scattergeo": [
           {
            "marker": {
             "colorbar": {
              "outlinewidth": 0,
              "ticks": ""
             }
            },
            "type": "scattergeo"
           }
          ],
          "scattergl": [
           {
            "marker": {
             "colorbar": {
              "outlinewidth": 0,
              "ticks": ""
             }
            },
            "type": "scattergl"
           }
          ],
          "scattermapbox": [
           {
            "marker": {
             "colorbar": {
              "outlinewidth": 0,
              "ticks": ""
             }
            },
            "type": "scattermapbox"
           }
          ],
          "scatterpolar": [
           {
            "marker": {
             "colorbar": {
              "outlinewidth": 0,
              "ticks": ""
             }
            },
            "type": "scatterpolar"
           }
          ],
          "scatterpolargl": [
           {
            "marker": {
             "colorbar": {
              "outlinewidth": 0,
              "ticks": ""
             }
            },
            "type": "scatterpolargl"
           }
          ],
          "scatterternary": [
           {
            "marker": {
             "colorbar": {
              "outlinewidth": 0,
              "ticks": ""
             }
            },
            "type": "scatterternary"
           }
          ],
          "surface": [
           {
            "colorbar": {
             "outlinewidth": 0,
             "ticks": ""
            },
            "colorscale": [
             [
              0,
              "#0d0887"
             ],
             [
              0.1111111111111111,
              "#46039f"
             ],
             [
              0.2222222222222222,
              "#7201a8"
             ],
             [
              0.3333333333333333,
              "#9c179e"
             ],
             [
              0.4444444444444444,
              "#bd3786"
             ],
             [
              0.5555555555555556,
              "#d8576b"
             ],
             [
              0.6666666666666666,
              "#ed7953"
             ],
             [
              0.7777777777777778,
              "#fb9f3a"
             ],
             [
              0.8888888888888888,
              "#fdca26"
             ],
             [
              1,
              "#f0f921"
             ]
            ],
            "type": "surface"
           }
          ],
          "table": [
           {
            "cells": {
             "fill": {
              "color": "#EBF0F8"
             },
             "line": {
              "color": "white"
             }
            },
            "header": {
             "fill": {
              "color": "#C8D4E3"
             },
             "line": {
              "color": "white"
             }
            },
            "type": "table"
           }
          ]
         },
         "layout": {
          "annotationdefaults": {
           "arrowcolor": "#2a3f5f",
           "arrowhead": 0,
           "arrowwidth": 1
          },
          "autotypenumbers": "strict",
          "coloraxis": {
           "colorbar": {
            "outlinewidth": 0,
            "ticks": ""
           }
          },
          "colorscale": {
           "diverging": [
            [
             0,
             "#8e0152"
            ],
            [
             0.1,
             "#c51b7d"
            ],
            [
             0.2,
             "#de77ae"
            ],
            [
             0.3,
             "#f1b6da"
            ],
            [
             0.4,
             "#fde0ef"
            ],
            [
             0.5,
             "#f7f7f7"
            ],
            [
             0.6,
             "#e6f5d0"
            ],
            [
             0.7,
             "#b8e186"
            ],
            [
             0.8,
             "#7fbc41"
            ],
            [
             0.9,
             "#4d9221"
            ],
            [
             1,
             "#276419"
            ]
           ],
           "sequential": [
            [
             0,
             "#0d0887"
            ],
            [
             0.1111111111111111,
             "#46039f"
            ],
            [
             0.2222222222222222,
             "#7201a8"
            ],
            [
             0.3333333333333333,
             "#9c179e"
            ],
            [
             0.4444444444444444,
             "#bd3786"
            ],
            [
             0.5555555555555556,
             "#d8576b"
            ],
            [
             0.6666666666666666,
             "#ed7953"
            ],
            [
             0.7777777777777778,
             "#fb9f3a"
            ],
            [
             0.8888888888888888,
             "#fdca26"
            ],
            [
             1,
             "#f0f921"
            ]
           ],
           "sequentialminus": [
            [
             0,
             "#0d0887"
            ],
            [
             0.1111111111111111,
             "#46039f"
            ],
            [
             0.2222222222222222,
             "#7201a8"
            ],
            [
             0.3333333333333333,
             "#9c179e"
            ],
            [
             0.4444444444444444,
             "#bd3786"
            ],
            [
             0.5555555555555556,
             "#d8576b"
            ],
            [
             0.6666666666666666,
             "#ed7953"
            ],
            [
             0.7777777777777778,
             "#fb9f3a"
            ],
            [
             0.8888888888888888,
             "#fdca26"
            ],
            [
             1,
             "#f0f921"
            ]
           ]
          },
          "colorway": [
           "#636efa",
           "#EF553B",
           "#00cc96",
           "#ab63fa",
           "#FFA15A",
           "#19d3f3",
           "#FF6692",
           "#B6E880",
           "#FF97FF",
           "#FECB52"
          ],
          "font": {
           "color": "#2a3f5f"
          },
          "geo": {
           "bgcolor": "white",
           "lakecolor": "white",
           "landcolor": "#E5ECF6",
           "showlakes": true,
           "showland": true,
           "subunitcolor": "white"
          },
          "hoverlabel": {
           "align": "left"
          },
          "hovermode": "closest",
          "mapbox": {
           "style": "light"
          },
          "paper_bgcolor": "white",
          "plot_bgcolor": "#E5ECF6",
          "polar": {
           "angularaxis": {
            "gridcolor": "white",
            "linecolor": "white",
            "ticks": ""
           },
           "bgcolor": "#E5ECF6",
           "radialaxis": {
            "gridcolor": "white",
            "linecolor": "white",
            "ticks": ""
           }
          },
          "scene": {
           "xaxis": {
            "backgroundcolor": "#E5ECF6",
            "gridcolor": "white",
            "gridwidth": 2,
            "linecolor": "white",
            "showbackground": true,
            "ticks": "",
            "zerolinecolor": "white"
           },
           "yaxis": {
            "backgroundcolor": "#E5ECF6",
            "gridcolor": "white",
            "gridwidth": 2,
            "linecolor": "white",
            "showbackground": true,
            "ticks": "",
            "zerolinecolor": "white"
           },
           "zaxis": {
            "backgroundcolor": "#E5ECF6",
            "gridcolor": "white",
            "gridwidth": 2,
            "linecolor": "white",
            "showbackground": true,
            "ticks": "",
            "zerolinecolor": "white"
           }
          },
          "shapedefaults": {
           "line": {
            "color": "#2a3f5f"
           }
          },
          "ternary": {
           "aaxis": {
            "gridcolor": "white",
            "linecolor": "white",
            "ticks": ""
           },
           "baxis": {
            "gridcolor": "white",
            "linecolor": "white",
            "ticks": ""
           },
           "bgcolor": "#E5ECF6",
           "caxis": {
            "gridcolor": "white",
            "linecolor": "white",
            "ticks": ""
           }
          },
          "title": {
           "x": 0.05
          },
          "xaxis": {
           "automargin": true,
           "gridcolor": "white",
           "linecolor": "white",
           "ticks": "",
           "title": {
            "standoff": 15
           },
           "zerolinecolor": "white",
           "zerolinewidth": 2
          },
          "yaxis": {
           "automargin": true,
           "gridcolor": "white",
           "linecolor": "white",
           "ticks": "",
           "title": {
            "standoff": 15
           },
           "zerolinecolor": "white",
           "zerolinewidth": 2
          }
         }
        },
        "title": {
         "text": "Общие суммы покупок по категориям",
         "x": 0.5
        },
        "width": 700,
        "xaxis": {
         "anchor": "y",
         "domain": [
          0,
          1
         ],
         "title": {
          "text": "Сумма покупок, у.е."
         }
        },
        "yaxis": {
         "anchor": "x",
         "domain": [
          0,
          1
         ],
         "title": {
          "text": "Категории"
         }
        }
       }
      }
     },
     "metadata": {},
     "output_type": "display_data"
    },
    {
     "name": "stdout",
     "output_type": "stream",
     "text": [
      "У кластера \"0\" по общей сумме покупок лидирует категория - \"товары для дома\" на 575391.0 у.е., убыточная категория \"бытовая химия\" на 11364.0 у.е.\n",
      "------------------------------------------------------\n",
      "\n",
      "\n",
      "В КЛАСТЕРЕ \"1\"\n"
     ]
    },
    {
     "data": {
      "application/vnd.plotly.v1+json": {
       "config": {
        "plotlyServerURL": "https://plot.ly"
       },
       "data": [
        {
         "alignmentgroup": "True",
         "hovertemplate": "revenue=%{marker.color}<br>category=%{y}<extra></extra>",
         "legendgroup": "",
         "marker": {
          "color": [
           9894,
           401746,
           18670,
           21480,
           582047,
           544738
          ],
          "coloraxis": "coloraxis",
          "pattern": {
           "shape": ""
          }
         },
         "name": "",
         "offsetgroup": "",
         "orientation": "h",
         "showlegend": false,
         "text": [
          9894,
          401746,
          18670,
          21480,
          582047,
          544738
         ],
         "textposition": "auto",
         "type": "bar",
         "x": [
          9894,
          401746,
          18670,
          21480,
          582047,
          544738
         ],
         "xaxis": "x",
         "y": [
          "бытовая химия",
          "декор",
          "посуда и бытовая техника",
          "растение",
          "сумки",
          "товары для дома"
         ],
         "yaxis": "y"
        }
       ],
       "layout": {
        "barmode": "relative",
        "coloraxis": {
         "colorbar": {
          "title": {
           "text": "revenue"
          }
         },
         "colorscale": [
          [
           0,
           "#0d0887"
          ],
          [
           0.1111111111111111,
           "#46039f"
          ],
          [
           0.2222222222222222,
           "#7201a8"
          ],
          [
           0.3333333333333333,
           "#9c179e"
          ],
          [
           0.4444444444444444,
           "#bd3786"
          ],
          [
           0.5555555555555556,
           "#d8576b"
          ],
          [
           0.6666666666666666,
           "#ed7953"
          ],
          [
           0.7777777777777778,
           "#fb9f3a"
          ],
          [
           0.8888888888888888,
           "#fdca26"
          ],
          [
           1,
           "#f0f921"
          ]
         ]
        },
        "height": 400,
        "legend": {
         "tracegroupgap": 0
        },
        "margin": {
         "t": 60
        },
        "template": {
         "data": {
          "bar": [
           {
            "error_x": {
             "color": "#2a3f5f"
            },
            "error_y": {
             "color": "#2a3f5f"
            },
            "marker": {
             "line": {
              "color": "#E5ECF6",
              "width": 0.5
             },
             "pattern": {
              "fillmode": "overlay",
              "size": 10,
              "solidity": 0.2
             }
            },
            "type": "bar"
           }
          ],
          "barpolar": [
           {
            "marker": {
             "line": {
              "color": "#E5ECF6",
              "width": 0.5
             },
             "pattern": {
              "fillmode": "overlay",
              "size": 10,
              "solidity": 0.2
             }
            },
            "type": "barpolar"
           }
          ],
          "carpet": [
           {
            "aaxis": {
             "endlinecolor": "#2a3f5f",
             "gridcolor": "white",
             "linecolor": "white",
             "minorgridcolor": "white",
             "startlinecolor": "#2a3f5f"
            },
            "baxis": {
             "endlinecolor": "#2a3f5f",
             "gridcolor": "white",
             "linecolor": "white",
             "minorgridcolor": "white",
             "startlinecolor": "#2a3f5f"
            },
            "type": "carpet"
           }
          ],
          "choropleth": [
           {
            "colorbar": {
             "outlinewidth": 0,
             "ticks": ""
            },
            "type": "choropleth"
           }
          ],
          "contour": [
           {
            "colorbar": {
             "outlinewidth": 0,
             "ticks": ""
            },
            "colorscale": [
             [
              0,
              "#0d0887"
             ],
             [
              0.1111111111111111,
              "#46039f"
             ],
             [
              0.2222222222222222,
              "#7201a8"
             ],
             [
              0.3333333333333333,
              "#9c179e"
             ],
             [
              0.4444444444444444,
              "#bd3786"
             ],
             [
              0.5555555555555556,
              "#d8576b"
             ],
             [
              0.6666666666666666,
              "#ed7953"
             ],
             [
              0.7777777777777778,
              "#fb9f3a"
             ],
             [
              0.8888888888888888,
              "#fdca26"
             ],
             [
              1,
              "#f0f921"
             ]
            ],
            "type": "contour"
           }
          ],
          "contourcarpet": [
           {
            "colorbar": {
             "outlinewidth": 0,
             "ticks": ""
            },
            "type": "contourcarpet"
           }
          ],
          "heatmap": [
           {
            "colorbar": {
             "outlinewidth": 0,
             "ticks": ""
            },
            "colorscale": [
             [
              0,
              "#0d0887"
             ],
             [
              0.1111111111111111,
              "#46039f"
             ],
             [
              0.2222222222222222,
              "#7201a8"
             ],
             [
              0.3333333333333333,
              "#9c179e"
             ],
             [
              0.4444444444444444,
              "#bd3786"
             ],
             [
              0.5555555555555556,
              "#d8576b"
             ],
             [
              0.6666666666666666,
              "#ed7953"
             ],
             [
              0.7777777777777778,
              "#fb9f3a"
             ],
             [
              0.8888888888888888,
              "#fdca26"
             ],
             [
              1,
              "#f0f921"
             ]
            ],
            "type": "heatmap"
           }
          ],
          "heatmapgl": [
           {
            "colorbar": {
             "outlinewidth": 0,
             "ticks": ""
            },
            "colorscale": [
             [
              0,
              "#0d0887"
             ],
             [
              0.1111111111111111,
              "#46039f"
             ],
             [
              0.2222222222222222,
              "#7201a8"
             ],
             [
              0.3333333333333333,
              "#9c179e"
             ],
             [
              0.4444444444444444,
              "#bd3786"
             ],
             [
              0.5555555555555556,
              "#d8576b"
             ],
             [
              0.6666666666666666,
              "#ed7953"
             ],
             [
              0.7777777777777778,
              "#fb9f3a"
             ],
             [
              0.8888888888888888,
              "#fdca26"
             ],
             [
              1,
              "#f0f921"
             ]
            ],
            "type": "heatmapgl"
           }
          ],
          "histogram": [
           {
            "marker": {
             "pattern": {
              "fillmode": "overlay",
              "size": 10,
              "solidity": 0.2
             }
            },
            "type": "histogram"
           }
          ],
          "histogram2d": [
           {
            "colorbar": {
             "outlinewidth": 0,
             "ticks": ""
            },
            "colorscale": [
             [
              0,
              "#0d0887"
             ],
             [
              0.1111111111111111,
              "#46039f"
             ],
             [
              0.2222222222222222,
              "#7201a8"
             ],
             [
              0.3333333333333333,
              "#9c179e"
             ],
             [
              0.4444444444444444,
              "#bd3786"
             ],
             [
              0.5555555555555556,
              "#d8576b"
             ],
             [
              0.6666666666666666,
              "#ed7953"
             ],
             [
              0.7777777777777778,
              "#fb9f3a"
             ],
             [
              0.8888888888888888,
              "#fdca26"
             ],
             [
              1,
              "#f0f921"
             ]
            ],
            "type": "histogram2d"
           }
          ],
          "histogram2dcontour": [
           {
            "colorbar": {
             "outlinewidth": 0,
             "ticks": ""
            },
            "colorscale": [
             [
              0,
              "#0d0887"
             ],
             [
              0.1111111111111111,
              "#46039f"
             ],
             [
              0.2222222222222222,
              "#7201a8"
             ],
             [
              0.3333333333333333,
              "#9c179e"
             ],
             [
              0.4444444444444444,
              "#bd3786"
             ],
             [
              0.5555555555555556,
              "#d8576b"
             ],
             [
              0.6666666666666666,
              "#ed7953"
             ],
             [
              0.7777777777777778,
              "#fb9f3a"
             ],
             [
              0.8888888888888888,
              "#fdca26"
             ],
             [
              1,
              "#f0f921"
             ]
            ],
            "type": "histogram2dcontour"
           }
          ],
          "mesh3d": [
           {
            "colorbar": {
             "outlinewidth": 0,
             "ticks": ""
            },
            "type": "mesh3d"
           }
          ],
          "parcoords": [
           {
            "line": {
             "colorbar": {
              "outlinewidth": 0,
              "ticks": ""
             }
            },
            "type": "parcoords"
           }
          ],
          "pie": [
           {
            "automargin": true,
            "type": "pie"
           }
          ],
          "scatter": [
           {
            "marker": {
             "colorbar": {
              "outlinewidth": 0,
              "ticks": ""
             }
            },
            "type": "scatter"
           }
          ],
          "scatter3d": [
           {
            "line": {
             "colorbar": {
              "outlinewidth": 0,
              "ticks": ""
             }
            },
            "marker": {
             "colorbar": {
              "outlinewidth": 0,
              "ticks": ""
             }
            },
            "type": "scatter3d"
           }
          ],
          "scattercarpet": [
           {
            "marker": {
             "colorbar": {
              "outlinewidth": 0,
              "ticks": ""
             }
            },
            "type": "scattercarpet"
           }
          ],
          "scattergeo": [
           {
            "marker": {
             "colorbar": {
              "outlinewidth": 0,
              "ticks": ""
             }
            },
            "type": "scattergeo"
           }
          ],
          "scattergl": [
           {
            "marker": {
             "colorbar": {
              "outlinewidth": 0,
              "ticks": ""
             }
            },
            "type": "scattergl"
           }
          ],
          "scattermapbox": [
           {
            "marker": {
             "colorbar": {
              "outlinewidth": 0,
              "ticks": ""
             }
            },
            "type": "scattermapbox"
           }
          ],
          "scatterpolar": [
           {
            "marker": {
             "colorbar": {
              "outlinewidth": 0,
              "ticks": ""
             }
            },
            "type": "scatterpolar"
           }
          ],
          "scatterpolargl": [
           {
            "marker": {
             "colorbar": {
              "outlinewidth": 0,
              "ticks": ""
             }
            },
            "type": "scatterpolargl"
           }
          ],
          "scatterternary": [
           {
            "marker": {
             "colorbar": {
              "outlinewidth": 0,
              "ticks": ""
             }
            },
            "type": "scatterternary"
           }
          ],
          "surface": [
           {
            "colorbar": {
             "outlinewidth": 0,
             "ticks": ""
            },
            "colorscale": [
             [
              0,
              "#0d0887"
             ],
             [
              0.1111111111111111,
              "#46039f"
             ],
             [
              0.2222222222222222,
              "#7201a8"
             ],
             [
              0.3333333333333333,
              "#9c179e"
             ],
             [
              0.4444444444444444,
              "#bd3786"
             ],
             [
              0.5555555555555556,
              "#d8576b"
             ],
             [
              0.6666666666666666,
              "#ed7953"
             ],
             [
              0.7777777777777778,
              "#fb9f3a"
             ],
             [
              0.8888888888888888,
              "#fdca26"
             ],
             [
              1,
              "#f0f921"
             ]
            ],
            "type": "surface"
           }
          ],
          "table": [
           {
            "cells": {
             "fill": {
              "color": "#EBF0F8"
             },
             "line": {
              "color": "white"
             }
            },
            "header": {
             "fill": {
              "color": "#C8D4E3"
             },
             "line": {
              "color": "white"
             }
            },
            "type": "table"
           }
          ]
         },
         "layout": {
          "annotationdefaults": {
           "arrowcolor": "#2a3f5f",
           "arrowhead": 0,
           "arrowwidth": 1
          },
          "autotypenumbers": "strict",
          "coloraxis": {
           "colorbar": {
            "outlinewidth": 0,
            "ticks": ""
           }
          },
          "colorscale": {
           "diverging": [
            [
             0,
             "#8e0152"
            ],
            [
             0.1,
             "#c51b7d"
            ],
            [
             0.2,
             "#de77ae"
            ],
            [
             0.3,
             "#f1b6da"
            ],
            [
             0.4,
             "#fde0ef"
            ],
            [
             0.5,
             "#f7f7f7"
            ],
            [
             0.6,
             "#e6f5d0"
            ],
            [
             0.7,
             "#b8e186"
            ],
            [
             0.8,
             "#7fbc41"
            ],
            [
             0.9,
             "#4d9221"
            ],
            [
             1,
             "#276419"
            ]
           ],
           "sequential": [
            [
             0,
             "#0d0887"
            ],
            [
             0.1111111111111111,
             "#46039f"
            ],
            [
             0.2222222222222222,
             "#7201a8"
            ],
            [
             0.3333333333333333,
             "#9c179e"
            ],
            [
             0.4444444444444444,
             "#bd3786"
            ],
            [
             0.5555555555555556,
             "#d8576b"
            ],
            [
             0.6666666666666666,
             "#ed7953"
            ],
            [
             0.7777777777777778,
             "#fb9f3a"
            ],
            [
             0.8888888888888888,
             "#fdca26"
            ],
            [
             1,
             "#f0f921"
            ]
           ],
           "sequentialminus": [
            [
             0,
             "#0d0887"
            ],
            [
             0.1111111111111111,
             "#46039f"
            ],
            [
             0.2222222222222222,
             "#7201a8"
            ],
            [
             0.3333333333333333,
             "#9c179e"
            ],
            [
             0.4444444444444444,
             "#bd3786"
            ],
            [
             0.5555555555555556,
             "#d8576b"
            ],
            [
             0.6666666666666666,
             "#ed7953"
            ],
            [
             0.7777777777777778,
             "#fb9f3a"
            ],
            [
             0.8888888888888888,
             "#fdca26"
            ],
            [
             1,
             "#f0f921"
            ]
           ]
          },
          "colorway": [
           "#636efa",
           "#EF553B",
           "#00cc96",
           "#ab63fa",
           "#FFA15A",
           "#19d3f3",
           "#FF6692",
           "#B6E880",
           "#FF97FF",
           "#FECB52"
          ],
          "font": {
           "color": "#2a3f5f"
          },
          "geo": {
           "bgcolor": "white",
           "lakecolor": "white",
           "landcolor": "#E5ECF6",
           "showlakes": true,
           "showland": true,
           "subunitcolor": "white"
          },
          "hoverlabel": {
           "align": "left"
          },
          "hovermode": "closest",
          "mapbox": {
           "style": "light"
          },
          "paper_bgcolor": "white",
          "plot_bgcolor": "#E5ECF6",
          "polar": {
           "angularaxis": {
            "gridcolor": "white",
            "linecolor": "white",
            "ticks": ""
           },
           "bgcolor": "#E5ECF6",
           "radialaxis": {
            "gridcolor": "white",
            "linecolor": "white",
            "ticks": ""
           }
          },
          "scene": {
           "xaxis": {
            "backgroundcolor": "#E5ECF6",
            "gridcolor": "white",
            "gridwidth": 2,
            "linecolor": "white",
            "showbackground": true,
            "ticks": "",
            "zerolinecolor": "white"
           },
           "yaxis": {
            "backgroundcolor": "#E5ECF6",
            "gridcolor": "white",
            "gridwidth": 2,
            "linecolor": "white",
            "showbackground": true,
            "ticks": "",
            "zerolinecolor": "white"
           },
           "zaxis": {
            "backgroundcolor": "#E5ECF6",
            "gridcolor": "white",
            "gridwidth": 2,
            "linecolor": "white",
            "showbackground": true,
            "ticks": "",
            "zerolinecolor": "white"
           }
          },
          "shapedefaults": {
           "line": {
            "color": "#2a3f5f"
           }
          },
          "ternary": {
           "aaxis": {
            "gridcolor": "white",
            "linecolor": "white",
            "ticks": ""
           },
           "baxis": {
            "gridcolor": "white",
            "linecolor": "white",
            "ticks": ""
           },
           "bgcolor": "#E5ECF6",
           "caxis": {
            "gridcolor": "white",
            "linecolor": "white",
            "ticks": ""
           }
          },
          "title": {
           "x": 0.05
          },
          "xaxis": {
           "automargin": true,
           "gridcolor": "white",
           "linecolor": "white",
           "ticks": "",
           "title": {
            "standoff": 15
           },
           "zerolinecolor": "white",
           "zerolinewidth": 2
          },
          "yaxis": {
           "automargin": true,
           "gridcolor": "white",
           "linecolor": "white",
           "ticks": "",
           "title": {
            "standoff": 15
           },
           "zerolinecolor": "white",
           "zerolinewidth": 2
          }
         }
        },
        "title": {
         "text": "Общие суммы покупок по категориям",
         "x": 0.5
        },
        "width": 700,
        "xaxis": {
         "anchor": "y",
         "domain": [
          0,
          1
         ],
         "title": {
          "text": "Сумма покупок, у.е."
         }
        },
        "yaxis": {
         "anchor": "x",
         "domain": [
          0,
          1
         ],
         "title": {
          "text": "Категории"
         }
        }
       }
      }
     },
     "metadata": {},
     "output_type": "display_data"
    },
    {
     "name": "stdout",
     "output_type": "stream",
     "text": [
      "У кластера \"1\" по общей сумме покупок лидирует категория - \"сумки\" на 582047.0 у.е., убыточная категория \"бытовая химия\" на 9894.0 у.е.\n",
      "------------------------------------------------------\n",
      "\n",
      "\n",
      "В КЛАСТЕРЕ \"2\"\n"
     ]
    },
    {
     "data": {
      "application/vnd.plotly.v1+json": {
       "config": {
        "plotlyServerURL": "https://plot.ly"
       },
       "data": [
        {
         "alignmentgroup": "True",
         "hovertemplate": "revenue=%{marker.color}<br>category=%{y}<extra></extra>",
         "legendgroup": "",
         "marker": {
          "color": [
           5761665,
           2604881,
           1515470,
           6061880,
           21342424
          ],
          "coloraxis": "coloraxis",
          "pattern": {
           "shape": ""
          }
         },
         "name": "",
         "offsetgroup": "",
         "orientation": "h",
         "showlegend": false,
         "text": [
          5761665,
          2604881,
          1515470,
          6061880,
          21342424
         ],
         "textposition": "auto",
         "type": "bar",
         "x": [
          5761665,
          2604881,
          1515470,
          6061880,
          21342424
         ],
         "xaxis": "x",
         "y": [
          "декор",
          "посуда и бытовая техника",
          "растение",
          "сумки",
          "товары для дома"
         ],
         "yaxis": "y"
        }
       ],
       "layout": {
        "barmode": "relative",
        "coloraxis": {
         "colorbar": {
          "title": {
           "text": "revenue"
          }
         },
         "colorscale": [
          [
           0,
           "#0d0887"
          ],
          [
           0.1111111111111111,
           "#46039f"
          ],
          [
           0.2222222222222222,
           "#7201a8"
          ],
          [
           0.3333333333333333,
           "#9c179e"
          ],
          [
           0.4444444444444444,
           "#bd3786"
          ],
          [
           0.5555555555555556,
           "#d8576b"
          ],
          [
           0.6666666666666666,
           "#ed7953"
          ],
          [
           0.7777777777777778,
           "#fb9f3a"
          ],
          [
           0.8888888888888888,
           "#fdca26"
          ],
          [
           1,
           "#f0f921"
          ]
         ]
        },
        "height": 400,
        "legend": {
         "tracegroupgap": 0
        },
        "margin": {
         "t": 60
        },
        "template": {
         "data": {
          "bar": [
           {
            "error_x": {
             "color": "#2a3f5f"
            },
            "error_y": {
             "color": "#2a3f5f"
            },
            "marker": {
             "line": {
              "color": "#E5ECF6",
              "width": 0.5
             },
             "pattern": {
              "fillmode": "overlay",
              "size": 10,
              "solidity": 0.2
             }
            },
            "type": "bar"
           }
          ],
          "barpolar": [
           {
            "marker": {
             "line": {
              "color": "#E5ECF6",
              "width": 0.5
             },
             "pattern": {
              "fillmode": "overlay",
              "size": 10,
              "solidity": 0.2
             }
            },
            "type": "barpolar"
           }
          ],
          "carpet": [
           {
            "aaxis": {
             "endlinecolor": "#2a3f5f",
             "gridcolor": "white",
             "linecolor": "white",
             "minorgridcolor": "white",
             "startlinecolor": "#2a3f5f"
            },
            "baxis": {
             "endlinecolor": "#2a3f5f",
             "gridcolor": "white",
             "linecolor": "white",
             "minorgridcolor": "white",
             "startlinecolor": "#2a3f5f"
            },
            "type": "carpet"
           }
          ],
          "choropleth": [
           {
            "colorbar": {
             "outlinewidth": 0,
             "ticks": ""
            },
            "type": "choropleth"
           }
          ],
          "contour": [
           {
            "colorbar": {
             "outlinewidth": 0,
             "ticks": ""
            },
            "colorscale": [
             [
              0,
              "#0d0887"
             ],
             [
              0.1111111111111111,
              "#46039f"
             ],
             [
              0.2222222222222222,
              "#7201a8"
             ],
             [
              0.3333333333333333,
              "#9c179e"
             ],
             [
              0.4444444444444444,
              "#bd3786"
             ],
             [
              0.5555555555555556,
              "#d8576b"
             ],
             [
              0.6666666666666666,
              "#ed7953"
             ],
             [
              0.7777777777777778,
              "#fb9f3a"
             ],
             [
              0.8888888888888888,
              "#fdca26"
             ],
             [
              1,
              "#f0f921"
             ]
            ],
            "type": "contour"
           }
          ],
          "contourcarpet": [
           {
            "colorbar": {
             "outlinewidth": 0,
             "ticks": ""
            },
            "type": "contourcarpet"
           }
          ],
          "heatmap": [
           {
            "colorbar": {
             "outlinewidth": 0,
             "ticks": ""
            },
            "colorscale": [
             [
              0,
              "#0d0887"
             ],
             [
              0.1111111111111111,
              "#46039f"
             ],
             [
              0.2222222222222222,
              "#7201a8"
             ],
             [
              0.3333333333333333,
              "#9c179e"
             ],
             [
              0.4444444444444444,
              "#bd3786"
             ],
             [
              0.5555555555555556,
              "#d8576b"
             ],
             [
              0.6666666666666666,
              "#ed7953"
             ],
             [
              0.7777777777777778,
              "#fb9f3a"
             ],
             [
              0.8888888888888888,
              "#fdca26"
             ],
             [
              1,
              "#f0f921"
             ]
            ],
            "type": "heatmap"
           }
          ],
          "heatmapgl": [
           {
            "colorbar": {
             "outlinewidth": 0,
             "ticks": ""
            },
            "colorscale": [
             [
              0,
              "#0d0887"
             ],
             [
              0.1111111111111111,
              "#46039f"
             ],
             [
              0.2222222222222222,
              "#7201a8"
             ],
             [
              0.3333333333333333,
              "#9c179e"
             ],
             [
              0.4444444444444444,
              "#bd3786"
             ],
             [
              0.5555555555555556,
              "#d8576b"
             ],
             [
              0.6666666666666666,
              "#ed7953"
             ],
             [
              0.7777777777777778,
              "#fb9f3a"
             ],
             [
              0.8888888888888888,
              "#fdca26"
             ],
             [
              1,
              "#f0f921"
             ]
            ],
            "type": "heatmapgl"
           }
          ],
          "histogram": [
           {
            "marker": {
             "pattern": {
              "fillmode": "overlay",
              "size": 10,
              "solidity": 0.2
             }
            },
            "type": "histogram"
           }
          ],
          "histogram2d": [
           {
            "colorbar": {
             "outlinewidth": 0,
             "ticks": ""
            },
            "colorscale": [
             [
              0,
              "#0d0887"
             ],
             [
              0.1111111111111111,
              "#46039f"
             ],
             [
              0.2222222222222222,
              "#7201a8"
             ],
             [
              0.3333333333333333,
              "#9c179e"
             ],
             [
              0.4444444444444444,
              "#bd3786"
             ],
             [
              0.5555555555555556,
              "#d8576b"
             ],
             [
              0.6666666666666666,
              "#ed7953"
             ],
             [
              0.7777777777777778,
              "#fb9f3a"
             ],
             [
              0.8888888888888888,
              "#fdca26"
             ],
             [
              1,
              "#f0f921"
             ]
            ],
            "type": "histogram2d"
           }
          ],
          "histogram2dcontour": [
           {
            "colorbar": {
             "outlinewidth": 0,
             "ticks": ""
            },
            "colorscale": [
             [
              0,
              "#0d0887"
             ],
             [
              0.1111111111111111,
              "#46039f"
             ],
             [
              0.2222222222222222,
              "#7201a8"
             ],
             [
              0.3333333333333333,
              "#9c179e"
             ],
             [
              0.4444444444444444,
              "#bd3786"
             ],
             [
              0.5555555555555556,
              "#d8576b"
             ],
             [
              0.6666666666666666,
              "#ed7953"
             ],
             [
              0.7777777777777778,
              "#fb9f3a"
             ],
             [
              0.8888888888888888,
              "#fdca26"
             ],
             [
              1,
              "#f0f921"
             ]
            ],
            "type": "histogram2dcontour"
           }
          ],
          "mesh3d": [
           {
            "colorbar": {
             "outlinewidth": 0,
             "ticks": ""
            },
            "type": "mesh3d"
           }
          ],
          "parcoords": [
           {
            "line": {
             "colorbar": {
              "outlinewidth": 0,
              "ticks": ""
             }
            },
            "type": "parcoords"
           }
          ],
          "pie": [
           {
            "automargin": true,
            "type": "pie"
           }
          ],
          "scatter": [
           {
            "marker": {
             "colorbar": {
              "outlinewidth": 0,
              "ticks": ""
             }
            },
            "type": "scatter"
           }
          ],
          "scatter3d": [
           {
            "line": {
             "colorbar": {
              "outlinewidth": 0,
              "ticks": ""
             }
            },
            "marker": {
             "colorbar": {
              "outlinewidth": 0,
              "ticks": ""
             }
            },
            "type": "scatter3d"
           }
          ],
          "scattercarpet": [
           {
            "marker": {
             "colorbar": {
              "outlinewidth": 0,
              "ticks": ""
             }
            },
            "type": "scattercarpet"
           }
          ],
          "scattergeo": [
           {
            "marker": {
             "colorbar": {
              "outlinewidth": 0,
              "ticks": ""
             }
            },
            "type": "scattergeo"
           }
          ],
          "scattergl": [
           {
            "marker": {
             "colorbar": {
              "outlinewidth": 0,
              "ticks": ""
             }
            },
            "type": "scattergl"
           }
          ],
          "scattermapbox": [
           {
            "marker": {
             "colorbar": {
              "outlinewidth": 0,
              "ticks": ""
             }
            },
            "type": "scattermapbox"
           }
          ],
          "scatterpolar": [
           {
            "marker": {
             "colorbar": {
              "outlinewidth": 0,
              "ticks": ""
             }
            },
            "type": "scatterpolar"
           }
          ],
          "scatterpolargl": [
           {
            "marker": {
             "colorbar": {
              "outlinewidth": 0,
              "ticks": ""
             }
            },
            "type": "scatterpolargl"
           }
          ],
          "scatterternary": [
           {
            "marker": {
             "colorbar": {
              "outlinewidth": 0,
              "ticks": ""
             }
            },
            "type": "scatterternary"
           }
          ],
          "surface": [
           {
            "colorbar": {
             "outlinewidth": 0,
             "ticks": ""
            },
            "colorscale": [
             [
              0,
              "#0d0887"
             ],
             [
              0.1111111111111111,
              "#46039f"
             ],
             [
              0.2222222222222222,
              "#7201a8"
             ],
             [
              0.3333333333333333,
              "#9c179e"
             ],
             [
              0.4444444444444444,
              "#bd3786"
             ],
             [
              0.5555555555555556,
              "#d8576b"
             ],
             [
              0.6666666666666666,
              "#ed7953"
             ],
             [
              0.7777777777777778,
              "#fb9f3a"
             ],
             [
              0.8888888888888888,
              "#fdca26"
             ],
             [
              1,
              "#f0f921"
             ]
            ],
            "type": "surface"
           }
          ],
          "table": [
           {
            "cells": {
             "fill": {
              "color": "#EBF0F8"
             },
             "line": {
              "color": "white"
             }
            },
            "header": {
             "fill": {
              "color": "#C8D4E3"
             },
             "line": {
              "color": "white"
             }
            },
            "type": "table"
           }
          ]
         },
         "layout": {
          "annotationdefaults": {
           "arrowcolor": "#2a3f5f",
           "arrowhead": 0,
           "arrowwidth": 1
          },
          "autotypenumbers": "strict",
          "coloraxis": {
           "colorbar": {
            "outlinewidth": 0,
            "ticks": ""
           }
          },
          "colorscale": {
           "diverging": [
            [
             0,
             "#8e0152"
            ],
            [
             0.1,
             "#c51b7d"
            ],
            [
             0.2,
             "#de77ae"
            ],
            [
             0.3,
             "#f1b6da"
            ],
            [
             0.4,
             "#fde0ef"
            ],
            [
             0.5,
             "#f7f7f7"
            ],
            [
             0.6,
             "#e6f5d0"
            ],
            [
             0.7,
             "#b8e186"
            ],
            [
             0.8,
             "#7fbc41"
            ],
            [
             0.9,
             "#4d9221"
            ],
            [
             1,
             "#276419"
            ]
           ],
           "sequential": [
            [
             0,
             "#0d0887"
            ],
            [
             0.1111111111111111,
             "#46039f"
            ],
            [
             0.2222222222222222,
             "#7201a8"
            ],
            [
             0.3333333333333333,
             "#9c179e"
            ],
            [
             0.4444444444444444,
             "#bd3786"
            ],
            [
             0.5555555555555556,
             "#d8576b"
            ],
            [
             0.6666666666666666,
             "#ed7953"
            ],
            [
             0.7777777777777778,
             "#fb9f3a"
            ],
            [
             0.8888888888888888,
             "#fdca26"
            ],
            [
             1,
             "#f0f921"
            ]
           ],
           "sequentialminus": [
            [
             0,
             "#0d0887"
            ],
            [
             0.1111111111111111,
             "#46039f"
            ],
            [
             0.2222222222222222,
             "#7201a8"
            ],
            [
             0.3333333333333333,
             "#9c179e"
            ],
            [
             0.4444444444444444,
             "#bd3786"
            ],
            [
             0.5555555555555556,
             "#d8576b"
            ],
            [
             0.6666666666666666,
             "#ed7953"
            ],
            [
             0.7777777777777778,
             "#fb9f3a"
            ],
            [
             0.8888888888888888,
             "#fdca26"
            ],
            [
             1,
             "#f0f921"
            ]
           ]
          },
          "colorway": [
           "#636efa",
           "#EF553B",
           "#00cc96",
           "#ab63fa",
           "#FFA15A",
           "#19d3f3",
           "#FF6692",
           "#B6E880",
           "#FF97FF",
           "#FECB52"
          ],
          "font": {
           "color": "#2a3f5f"
          },
          "geo": {
           "bgcolor": "white",
           "lakecolor": "white",
           "landcolor": "#E5ECF6",
           "showlakes": true,
           "showland": true,
           "subunitcolor": "white"
          },
          "hoverlabel": {
           "align": "left"
          },
          "hovermode": "closest",
          "mapbox": {
           "style": "light"
          },
          "paper_bgcolor": "white",
          "plot_bgcolor": "#E5ECF6",
          "polar": {
           "angularaxis": {
            "gridcolor": "white",
            "linecolor": "white",
            "ticks": ""
           },
           "bgcolor": "#E5ECF6",
           "radialaxis": {
            "gridcolor": "white",
            "linecolor": "white",
            "ticks": ""
           }
          },
          "scene": {
           "xaxis": {
            "backgroundcolor": "#E5ECF6",
            "gridcolor": "white",
            "gridwidth": 2,
            "linecolor": "white",
            "showbackground": true,
            "ticks": "",
            "zerolinecolor": "white"
           },
           "yaxis": {
            "backgroundcolor": "#E5ECF6",
            "gridcolor": "white",
            "gridwidth": 2,
            "linecolor": "white",
            "showbackground": true,
            "ticks": "",
            "zerolinecolor": "white"
           },
           "zaxis": {
            "backgroundcolor": "#E5ECF6",
            "gridcolor": "white",
            "gridwidth": 2,
            "linecolor": "white",
            "showbackground": true,
            "ticks": "",
            "zerolinecolor": "white"
           }
          },
          "shapedefaults": {
           "line": {
            "color": "#2a3f5f"
           }
          },
          "ternary": {
           "aaxis": {
            "gridcolor": "white",
            "linecolor": "white",
            "ticks": ""
           },
           "baxis": {
            "gridcolor": "white",
            "linecolor": "white",
            "ticks": ""
           },
           "bgcolor": "#E5ECF6",
           "caxis": {
            "gridcolor": "white",
            "linecolor": "white",
            "ticks": ""
           }
          },
          "title": {
           "x": 0.05
          },
          "xaxis": {
           "automargin": true,
           "gridcolor": "white",
           "linecolor": "white",
           "ticks": "",
           "title": {
            "standoff": 15
           },
           "zerolinecolor": "white",
           "zerolinewidth": 2
          },
          "yaxis": {
           "automargin": true,
           "gridcolor": "white",
           "linecolor": "white",
           "ticks": "",
           "title": {
            "standoff": 15
           },
           "zerolinecolor": "white",
           "zerolinewidth": 2
          }
         }
        },
        "title": {
         "text": "Общие суммы покупок по категориям",
         "x": 0.5
        },
        "width": 700,
        "xaxis": {
         "anchor": "y",
         "domain": [
          0,
          1
         ],
         "title": {
          "text": "Сумма покупок, у.е."
         }
        },
        "yaxis": {
         "anchor": "x",
         "domain": [
          0,
          1
         ],
         "title": {
          "text": "Категории"
         }
        }
       }
      }
     },
     "metadata": {},
     "output_type": "display_data"
    },
    {
     "name": "stdout",
     "output_type": "stream",
     "text": [
      "У кластера \"2\" по общей сумме покупок лидирует категория - \"товары для дома\" на 21342424.0 у.е., убыточная категория \"растение\" на 1515470.0 у.е.\n",
      "------------------------------------------------------\n",
      "\n",
      "\n",
      "В КЛАСТЕРЕ \"3\"\n"
     ]
    },
    {
     "data": {
      "application/vnd.plotly.v1+json": {
       "config": {
        "plotlyServerURL": "https://plot.ly"
       },
       "data": [
        {
         "alignmentgroup": "True",
         "hovertemplate": "revenue=%{marker.color}<br>category=%{y}<extra></extra>",
         "legendgroup": "",
         "marker": {
          "color": [
           2724,
           74079,
           29371,
           25593,
           76617
          ],
          "coloraxis": "coloraxis",
          "pattern": {
           "shape": ""
          }
         },
         "name": "",
         "offsetgroup": "",
         "orientation": "h",
         "showlegend": false,
         "text": [
          2724,
          74079,
          29371,
          25593,
          76617
         ],
         "textposition": "auto",
         "type": "bar",
         "x": [
          2724,
          74079,
          29371,
          25593,
          76617
         ],
         "xaxis": "x",
         "y": [
          "бытовая химия",
          "декор",
          "посуда и бытовая техника",
          "растение",
          "товары для дома"
         ],
         "yaxis": "y"
        }
       ],
       "layout": {
        "barmode": "relative",
        "coloraxis": {
         "colorbar": {
          "title": {
           "text": "revenue"
          }
         },
         "colorscale": [
          [
           0,
           "#0d0887"
          ],
          [
           0.1111111111111111,
           "#46039f"
          ],
          [
           0.2222222222222222,
           "#7201a8"
          ],
          [
           0.3333333333333333,
           "#9c179e"
          ],
          [
           0.4444444444444444,
           "#bd3786"
          ],
          [
           0.5555555555555556,
           "#d8576b"
          ],
          [
           0.6666666666666666,
           "#ed7953"
          ],
          [
           0.7777777777777778,
           "#fb9f3a"
          ],
          [
           0.8888888888888888,
           "#fdca26"
          ],
          [
           1,
           "#f0f921"
          ]
         ]
        },
        "height": 400,
        "legend": {
         "tracegroupgap": 0
        },
        "margin": {
         "t": 60
        },
        "template": {
         "data": {
          "bar": [
           {
            "error_x": {
             "color": "#2a3f5f"
            },
            "error_y": {
             "color": "#2a3f5f"
            },
            "marker": {
             "line": {
              "color": "#E5ECF6",
              "width": 0.5
             },
             "pattern": {
              "fillmode": "overlay",
              "size": 10,
              "solidity": 0.2
             }
            },
            "type": "bar"
           }
          ],
          "barpolar": [
           {
            "marker": {
             "line": {
              "color": "#E5ECF6",
              "width": 0.5
             },
             "pattern": {
              "fillmode": "overlay",
              "size": 10,
              "solidity": 0.2
             }
            },
            "type": "barpolar"
           }
          ],
          "carpet": [
           {
            "aaxis": {
             "endlinecolor": "#2a3f5f",
             "gridcolor": "white",
             "linecolor": "white",
             "minorgridcolor": "white",
             "startlinecolor": "#2a3f5f"
            },
            "baxis": {
             "endlinecolor": "#2a3f5f",
             "gridcolor": "white",
             "linecolor": "white",
             "minorgridcolor": "white",
             "startlinecolor": "#2a3f5f"
            },
            "type": "carpet"
           }
          ],
          "choropleth": [
           {
            "colorbar": {
             "outlinewidth": 0,
             "ticks": ""
            },
            "type": "choropleth"
           }
          ],
          "contour": [
           {
            "colorbar": {
             "outlinewidth": 0,
             "ticks": ""
            },
            "colorscale": [
             [
              0,
              "#0d0887"
             ],
             [
              0.1111111111111111,
              "#46039f"
             ],
             [
              0.2222222222222222,
              "#7201a8"
             ],
             [
              0.3333333333333333,
              "#9c179e"
             ],
             [
              0.4444444444444444,
              "#bd3786"
             ],
             [
              0.5555555555555556,
              "#d8576b"
             ],
             [
              0.6666666666666666,
              "#ed7953"
             ],
             [
              0.7777777777777778,
              "#fb9f3a"
             ],
             [
              0.8888888888888888,
              "#fdca26"
             ],
             [
              1,
              "#f0f921"
             ]
            ],
            "type": "contour"
           }
          ],
          "contourcarpet": [
           {
            "colorbar": {
             "outlinewidth": 0,
             "ticks": ""
            },
            "type": "contourcarpet"
           }
          ],
          "heatmap": [
           {
            "colorbar": {
             "outlinewidth": 0,
             "ticks": ""
            },
            "colorscale": [
             [
              0,
              "#0d0887"
             ],
             [
              0.1111111111111111,
              "#46039f"
             ],
             [
              0.2222222222222222,
              "#7201a8"
             ],
             [
              0.3333333333333333,
              "#9c179e"
             ],
             [
              0.4444444444444444,
              "#bd3786"
             ],
             [
              0.5555555555555556,
              "#d8576b"
             ],
             [
              0.6666666666666666,
              "#ed7953"
             ],
             [
              0.7777777777777778,
              "#fb9f3a"
             ],
             [
              0.8888888888888888,
              "#fdca26"
             ],
             [
              1,
              "#f0f921"
             ]
            ],
            "type": "heatmap"
           }
          ],
          "heatmapgl": [
           {
            "colorbar": {
             "outlinewidth": 0,
             "ticks": ""
            },
            "colorscale": [
             [
              0,
              "#0d0887"
             ],
             [
              0.1111111111111111,
              "#46039f"
             ],
             [
              0.2222222222222222,
              "#7201a8"
             ],
             [
              0.3333333333333333,
              "#9c179e"
             ],
             [
              0.4444444444444444,
              "#bd3786"
             ],
             [
              0.5555555555555556,
              "#d8576b"
             ],
             [
              0.6666666666666666,
              "#ed7953"
             ],
             [
              0.7777777777777778,
              "#fb9f3a"
             ],
             [
              0.8888888888888888,
              "#fdca26"
             ],
             [
              1,
              "#f0f921"
             ]
            ],
            "type": "heatmapgl"
           }
          ],
          "histogram": [
           {
            "marker": {
             "pattern": {
              "fillmode": "overlay",
              "size": 10,
              "solidity": 0.2
             }
            },
            "type": "histogram"
           }
          ],
          "histogram2d": [
           {
            "colorbar": {
             "outlinewidth": 0,
             "ticks": ""
            },
            "colorscale": [
             [
              0,
              "#0d0887"
             ],
             [
              0.1111111111111111,
              "#46039f"
             ],
             [
              0.2222222222222222,
              "#7201a8"
             ],
             [
              0.3333333333333333,
              "#9c179e"
             ],
             [
              0.4444444444444444,
              "#bd3786"
             ],
             [
              0.5555555555555556,
              "#d8576b"
             ],
             [
              0.6666666666666666,
              "#ed7953"
             ],
             [
              0.7777777777777778,
              "#fb9f3a"
             ],
             [
              0.8888888888888888,
              "#fdca26"
             ],
             [
              1,
              "#f0f921"
             ]
            ],
            "type": "histogram2d"
           }
          ],
          "histogram2dcontour": [
           {
            "colorbar": {
             "outlinewidth": 0,
             "ticks": ""
            },
            "colorscale": [
             [
              0,
              "#0d0887"
             ],
             [
              0.1111111111111111,
              "#46039f"
             ],
             [
              0.2222222222222222,
              "#7201a8"
             ],
             [
              0.3333333333333333,
              "#9c179e"
             ],
             [
              0.4444444444444444,
              "#bd3786"
             ],
             [
              0.5555555555555556,
              "#d8576b"
             ],
             [
              0.6666666666666666,
              "#ed7953"
             ],
             [
              0.7777777777777778,
              "#fb9f3a"
             ],
             [
              0.8888888888888888,
              "#fdca26"
             ],
             [
              1,
              "#f0f921"
             ]
            ],
            "type": "histogram2dcontour"
           }
          ],
          "mesh3d": [
           {
            "colorbar": {
             "outlinewidth": 0,
             "ticks": ""
            },
            "type": "mesh3d"
           }
          ],
          "parcoords": [
           {
            "line": {
             "colorbar": {
              "outlinewidth": 0,
              "ticks": ""
             }
            },
            "type": "parcoords"
           }
          ],
          "pie": [
           {
            "automargin": true,
            "type": "pie"
           }
          ],
          "scatter": [
           {
            "marker": {
             "colorbar": {
              "outlinewidth": 0,
              "ticks": ""
             }
            },
            "type": "scatter"
           }
          ],
          "scatter3d": [
           {
            "line": {
             "colorbar": {
              "outlinewidth": 0,
              "ticks": ""
             }
            },
            "marker": {
             "colorbar": {
              "outlinewidth": 0,
              "ticks": ""
             }
            },
            "type": "scatter3d"
           }
          ],
          "scattercarpet": [
           {
            "marker": {
             "colorbar": {
              "outlinewidth": 0,
              "ticks": ""
             }
            },
            "type": "scattercarpet"
           }
          ],
          "scattergeo": [
           {
            "marker": {
             "colorbar": {
              "outlinewidth": 0,
              "ticks": ""
             }
            },
            "type": "scattergeo"
           }
          ],
          "scattergl": [
           {
            "marker": {
             "colorbar": {
              "outlinewidth": 0,
              "ticks": ""
             }
            },
            "type": "scattergl"
           }
          ],
          "scattermapbox": [
           {
            "marker": {
             "colorbar": {
              "outlinewidth": 0,
              "ticks": ""
             }
            },
            "type": "scattermapbox"
           }
          ],
          "scatterpolar": [
           {
            "marker": {
             "colorbar": {
              "outlinewidth": 0,
              "ticks": ""
             }
            },
            "type": "scatterpolar"
           }
          ],
          "scatterpolargl": [
           {
            "marker": {
             "colorbar": {
              "outlinewidth": 0,
              "ticks": ""
             }
            },
            "type": "scatterpolargl"
           }
          ],
          "scatterternary": [
           {
            "marker": {
             "colorbar": {
              "outlinewidth": 0,
              "ticks": ""
             }
            },
            "type": "scatterternary"
           }
          ],
          "surface": [
           {
            "colorbar": {
             "outlinewidth": 0,
             "ticks": ""
            },
            "colorscale": [
             [
              0,
              "#0d0887"
             ],
             [
              0.1111111111111111,
              "#46039f"
             ],
             [
              0.2222222222222222,
              "#7201a8"
             ],
             [
              0.3333333333333333,
              "#9c179e"
             ],
             [
              0.4444444444444444,
              "#bd3786"
             ],
             [
              0.5555555555555556,
              "#d8576b"
             ],
             [
              0.6666666666666666,
              "#ed7953"
             ],
             [
              0.7777777777777778,
              "#fb9f3a"
             ],
             [
              0.8888888888888888,
              "#fdca26"
             ],
             [
              1,
              "#f0f921"
             ]
            ],
            "type": "surface"
           }
          ],
          "table": [
           {
            "cells": {
             "fill": {
              "color": "#EBF0F8"
             },
             "line": {
              "color": "white"
             }
            },
            "header": {
             "fill": {
              "color": "#C8D4E3"
             },
             "line": {
              "color": "white"
             }
            },
            "type": "table"
           }
          ]
         },
         "layout": {
          "annotationdefaults": {
           "arrowcolor": "#2a3f5f",
           "arrowhead": 0,
           "arrowwidth": 1
          },
          "autotypenumbers": "strict",
          "coloraxis": {
           "colorbar": {
            "outlinewidth": 0,
            "ticks": ""
           }
          },
          "colorscale": {
           "diverging": [
            [
             0,
             "#8e0152"
            ],
            [
             0.1,
             "#c51b7d"
            ],
            [
             0.2,
             "#de77ae"
            ],
            [
             0.3,
             "#f1b6da"
            ],
            [
             0.4,
             "#fde0ef"
            ],
            [
             0.5,
             "#f7f7f7"
            ],
            [
             0.6,
             "#e6f5d0"
            ],
            [
             0.7,
             "#b8e186"
            ],
            [
             0.8,
             "#7fbc41"
            ],
            [
             0.9,
             "#4d9221"
            ],
            [
             1,
             "#276419"
            ]
           ],
           "sequential": [
            [
             0,
             "#0d0887"
            ],
            [
             0.1111111111111111,
             "#46039f"
            ],
            [
             0.2222222222222222,
             "#7201a8"
            ],
            [
             0.3333333333333333,
             "#9c179e"
            ],
            [
             0.4444444444444444,
             "#bd3786"
            ],
            [
             0.5555555555555556,
             "#d8576b"
            ],
            [
             0.6666666666666666,
             "#ed7953"
            ],
            [
             0.7777777777777778,
             "#fb9f3a"
            ],
            [
             0.8888888888888888,
             "#fdca26"
            ],
            [
             1,
             "#f0f921"
            ]
           ],
           "sequentialminus": [
            [
             0,
             "#0d0887"
            ],
            [
             0.1111111111111111,
             "#46039f"
            ],
            [
             0.2222222222222222,
             "#7201a8"
            ],
            [
             0.3333333333333333,
             "#9c179e"
            ],
            [
             0.4444444444444444,
             "#bd3786"
            ],
            [
             0.5555555555555556,
             "#d8576b"
            ],
            [
             0.6666666666666666,
             "#ed7953"
            ],
            [
             0.7777777777777778,
             "#fb9f3a"
            ],
            [
             0.8888888888888888,
             "#fdca26"
            ],
            [
             1,
             "#f0f921"
            ]
           ]
          },
          "colorway": [
           "#636efa",
           "#EF553B",
           "#00cc96",
           "#ab63fa",
           "#FFA15A",
           "#19d3f3",
           "#FF6692",
           "#B6E880",
           "#FF97FF",
           "#FECB52"
          ],
          "font": {
           "color": "#2a3f5f"
          },
          "geo": {
           "bgcolor": "white",
           "lakecolor": "white",
           "landcolor": "#E5ECF6",
           "showlakes": true,
           "showland": true,
           "subunitcolor": "white"
          },
          "hoverlabel": {
           "align": "left"
          },
          "hovermode": "closest",
          "mapbox": {
           "style": "light"
          },
          "paper_bgcolor": "white",
          "plot_bgcolor": "#E5ECF6",
          "polar": {
           "angularaxis": {
            "gridcolor": "white",
            "linecolor": "white",
            "ticks": ""
           },
           "bgcolor": "#E5ECF6",
           "radialaxis": {
            "gridcolor": "white",
            "linecolor": "white",
            "ticks": ""
           }
          },
          "scene": {
           "xaxis": {
            "backgroundcolor": "#E5ECF6",
            "gridcolor": "white",
            "gridwidth": 2,
            "linecolor": "white",
            "showbackground": true,
            "ticks": "",
            "zerolinecolor": "white"
           },
           "yaxis": {
            "backgroundcolor": "#E5ECF6",
            "gridcolor": "white",
            "gridwidth": 2,
            "linecolor": "white",
            "showbackground": true,
            "ticks": "",
            "zerolinecolor": "white"
           },
           "zaxis": {
            "backgroundcolor": "#E5ECF6",
            "gridcolor": "white",
            "gridwidth": 2,
            "linecolor": "white",
            "showbackground": true,
            "ticks": "",
            "zerolinecolor": "white"
           }
          },
          "shapedefaults": {
           "line": {
            "color": "#2a3f5f"
           }
          },
          "ternary": {
           "aaxis": {
            "gridcolor": "white",
            "linecolor": "white",
            "ticks": ""
           },
           "baxis": {
            "gridcolor": "white",
            "linecolor": "white",
            "ticks": ""
           },
           "bgcolor": "#E5ECF6",
           "caxis": {
            "gridcolor": "white",
            "linecolor": "white",
            "ticks": ""
           }
          },
          "title": {
           "x": 0.05
          },
          "xaxis": {
           "automargin": true,
           "gridcolor": "white",
           "linecolor": "white",
           "ticks": "",
           "title": {
            "standoff": 15
           },
           "zerolinecolor": "white",
           "zerolinewidth": 2
          },
          "yaxis": {
           "automargin": true,
           "gridcolor": "white",
           "linecolor": "white",
           "ticks": "",
           "title": {
            "standoff": 15
           },
           "zerolinecolor": "white",
           "zerolinewidth": 2
          }
         }
        },
        "title": {
         "text": "Общие суммы покупок по категориям",
         "x": 0.5
        },
        "width": 700,
        "xaxis": {
         "anchor": "y",
         "domain": [
          0,
          1
         ],
         "title": {
          "text": "Сумма покупок, у.е."
         }
        },
        "yaxis": {
         "anchor": "x",
         "domain": [
          0,
          1
         ],
         "title": {
          "text": "Категории"
         }
        }
       }
      }
     },
     "metadata": {},
     "output_type": "display_data"
    },
    {
     "name": "stdout",
     "output_type": "stream",
     "text": [
      "У кластера \"3\" по общей сумме покупок лидирует категория - \"товары для дома\" на 76617.0 у.е., убыточная категория \"бытовая химия\" на 2724.0 у.е.\n",
      "------------------------------------------------------\n",
      "\n"
     ]
    }
   ],
   "source": [
    "#Посмотрим распределение общие суммы покупок в кластерах в каждой категории\n",
    "def clusterer_category_profit(cluster):\n",
    "        data = (df.query('cluster_km == @cluster')\n",
    "            .groupby('category')\n",
    "            .agg({'revenue': 'sum'})\n",
    "            .reset_index())\n",
    "        print(f'\\nВ КЛАСТЕРЕ \"{cluster}\"')\n",
    "        fig = px.bar(data, y='category', x='revenue', color_discrete_sequence=px.colors.qualitative.G10,\n",
    "             color='revenue', width=700, height=400, text='revenue')\n",
    "        fig.update_layout(title='Общие суммы покупок по категориям', title_x=0.5,\n",
    "                  xaxis_title ='Сумма покупок, у.е.', yaxis_title='Категории')\n",
    "        fig.show()\n",
    "        print('У кластера \"{}\" по общей сумме покупок лидирует категория - \"{}\" на {} у.е., убыточная категория \"{}\" на {} у.е.'\n",
    "                  .format(cluster, data.iloc[data['revenue'].idxmax()]['category'], data['revenue'].max(), \n",
    "                          data.iloc[data['revenue'].idxmin()]['category'], data['revenue'].min(),))\n",
    "        print('------------------------------------------------------\\n')\n",
    "\n",
    "clusterer_category_profit(0)\n",
    "clusterer_category_profit(1)\n",
    "clusterer_category_profit(2)\n",
    "clusterer_category_profit(3)"
   ]
  },
  {
   "cell_type": "markdown",
   "metadata": {},
   "source": [
    "### Сегментация покупателей по сезонности (по месяцам)"
   ]
  },
  {
   "cell_type": "code",
   "execution_count": 24,
   "metadata": {
    "scrolled": false
   },
   "outputs": [
    {
     "name": "stdout",
     "output_type": "stream",
     "text": [
      "\n",
      "В КЛАСТЕРЕ \"0\"\n"
     ]
    },
    {
     "data": {
      "application/vnd.plotly.v1+json": {
       "config": {
        "plotlyServerURL": "https://plot.ly"
       },
       "data": [
        {
         "alignmentgroup": "True",
         "hovertemplate": "revenue=%{marker.color}<br>month=%{y}<extra></extra>",
         "legendgroup": "",
         "marker": {
          "color": [
           73744,
           95383,
           162565,
           116879,
           142028,
           137693,
           145764,
           74690,
           84177,
           127012,
           135921,
           138916,
           119998
          ],
          "coloraxis": "coloraxis",
          "pattern": {
           "shape": ""
          }
         },
         "name": "",
         "offsetgroup": "",
         "orientation": "h",
         "showlegend": false,
         "text": [
          73744,
          95383,
          162565,
          116879,
          142028,
          137693,
          145764,
          74690,
          84177,
          127012,
          135921,
          138916,
          119998
         ],
         "textposition": "auto",
         "type": "bar",
         "x": [
          73744,
          95383,
          162565,
          116879,
          142028,
          137693,
          145764,
          74690,
          84177,
          127012,
          135921,
          138916,
          119998
         ],
         "xaxis": "x",
         "y": [
          "2018-10",
          "2018-11",
          "2018-12",
          "2019-01",
          "2019-02",
          "2019-03",
          "2019-04",
          "2019-05",
          "2019-06",
          "2019-07",
          "2019-08",
          "2019-09",
          "2019-10"
         ],
         "yaxis": "y"
        }
       ],
       "layout": {
        "barmode": "relative",
        "coloraxis": {
         "colorbar": {
          "title": {
           "text": "revenue"
          }
         },
         "colorscale": [
          [
           0,
           "#0d0887"
          ],
          [
           0.1111111111111111,
           "#46039f"
          ],
          [
           0.2222222222222222,
           "#7201a8"
          ],
          [
           0.3333333333333333,
           "#9c179e"
          ],
          [
           0.4444444444444444,
           "#bd3786"
          ],
          [
           0.5555555555555556,
           "#d8576b"
          ],
          [
           0.6666666666666666,
           "#ed7953"
          ],
          [
           0.7777777777777778,
           "#fb9f3a"
          ],
          [
           0.8888888888888888,
           "#fdca26"
          ],
          [
           1,
           "#f0f921"
          ]
         ]
        },
        "height": 600,
        "legend": {
         "tracegroupgap": 0
        },
        "margin": {
         "t": 60
        },
        "template": {
         "data": {
          "bar": [
           {
            "error_x": {
             "color": "#2a3f5f"
            },
            "error_y": {
             "color": "#2a3f5f"
            },
            "marker": {
             "line": {
              "color": "#E5ECF6",
              "width": 0.5
             },
             "pattern": {
              "fillmode": "overlay",
              "size": 10,
              "solidity": 0.2
             }
            },
            "type": "bar"
           }
          ],
          "barpolar": [
           {
            "marker": {
             "line": {
              "color": "#E5ECF6",
              "width": 0.5
             },
             "pattern": {
              "fillmode": "overlay",
              "size": 10,
              "solidity": 0.2
             }
            },
            "type": "barpolar"
           }
          ],
          "carpet": [
           {
            "aaxis": {
             "endlinecolor": "#2a3f5f",
             "gridcolor": "white",
             "linecolor": "white",
             "minorgridcolor": "white",
             "startlinecolor": "#2a3f5f"
            },
            "baxis": {
             "endlinecolor": "#2a3f5f",
             "gridcolor": "white",
             "linecolor": "white",
             "minorgridcolor": "white",
             "startlinecolor": "#2a3f5f"
            },
            "type": "carpet"
           }
          ],
          "choropleth": [
           {
            "colorbar": {
             "outlinewidth": 0,
             "ticks": ""
            },
            "type": "choropleth"
           }
          ],
          "contour": [
           {
            "colorbar": {
             "outlinewidth": 0,
             "ticks": ""
            },
            "colorscale": [
             [
              0,
              "#0d0887"
             ],
             [
              0.1111111111111111,
              "#46039f"
             ],
             [
              0.2222222222222222,
              "#7201a8"
             ],
             [
              0.3333333333333333,
              "#9c179e"
             ],
             [
              0.4444444444444444,
              "#bd3786"
             ],
             [
              0.5555555555555556,
              "#d8576b"
             ],
             [
              0.6666666666666666,
              "#ed7953"
             ],
             [
              0.7777777777777778,
              "#fb9f3a"
             ],
             [
              0.8888888888888888,
              "#fdca26"
             ],
             [
              1,
              "#f0f921"
             ]
            ],
            "type": "contour"
           }
          ],
          "contourcarpet": [
           {
            "colorbar": {
             "outlinewidth": 0,
             "ticks": ""
            },
            "type": "contourcarpet"
           }
          ],
          "heatmap": [
           {
            "colorbar": {
             "outlinewidth": 0,
             "ticks": ""
            },
            "colorscale": [
             [
              0,
              "#0d0887"
             ],
             [
              0.1111111111111111,
              "#46039f"
             ],
             [
              0.2222222222222222,
              "#7201a8"
             ],
             [
              0.3333333333333333,
              "#9c179e"
             ],
             [
              0.4444444444444444,
              "#bd3786"
             ],
             [
              0.5555555555555556,
              "#d8576b"
             ],
             [
              0.6666666666666666,
              "#ed7953"
             ],
             [
              0.7777777777777778,
              "#fb9f3a"
             ],
             [
              0.8888888888888888,
              "#fdca26"
             ],
             [
              1,
              "#f0f921"
             ]
            ],
            "type": "heatmap"
           }
          ],
          "heatmapgl": [
           {
            "colorbar": {
             "outlinewidth": 0,
             "ticks": ""
            },
            "colorscale": [
             [
              0,
              "#0d0887"
             ],
             [
              0.1111111111111111,
              "#46039f"
             ],
             [
              0.2222222222222222,
              "#7201a8"
             ],
             [
              0.3333333333333333,
              "#9c179e"
             ],
             [
              0.4444444444444444,
              "#bd3786"
             ],
             [
              0.5555555555555556,
              "#d8576b"
             ],
             [
              0.6666666666666666,
              "#ed7953"
             ],
             [
              0.7777777777777778,
              "#fb9f3a"
             ],
             [
              0.8888888888888888,
              "#fdca26"
             ],
             [
              1,
              "#f0f921"
             ]
            ],
            "type": "heatmapgl"
           }
          ],
          "histogram": [
           {
            "marker": {
             "pattern": {
              "fillmode": "overlay",
              "size": 10,
              "solidity": 0.2
             }
            },
            "type": "histogram"
           }
          ],
          "histogram2d": [
           {
            "colorbar": {
             "outlinewidth": 0,
             "ticks": ""
            },
            "colorscale": [
             [
              0,
              "#0d0887"
             ],
             [
              0.1111111111111111,
              "#46039f"
             ],
             [
              0.2222222222222222,
              "#7201a8"
             ],
             [
              0.3333333333333333,
              "#9c179e"
             ],
             [
              0.4444444444444444,
              "#bd3786"
             ],
             [
              0.5555555555555556,
              "#d8576b"
             ],
             [
              0.6666666666666666,
              "#ed7953"
             ],
             [
              0.7777777777777778,
              "#fb9f3a"
             ],
             [
              0.8888888888888888,
              "#fdca26"
             ],
             [
              1,
              "#f0f921"
             ]
            ],
            "type": "histogram2d"
           }
          ],
          "histogram2dcontour": [
           {
            "colorbar": {
             "outlinewidth": 0,
             "ticks": ""
            },
            "colorscale": [
             [
              0,
              "#0d0887"
             ],
             [
              0.1111111111111111,
              "#46039f"
             ],
             [
              0.2222222222222222,
              "#7201a8"
             ],
             [
              0.3333333333333333,
              "#9c179e"
             ],
             [
              0.4444444444444444,
              "#bd3786"
             ],
             [
              0.5555555555555556,
              "#d8576b"
             ],
             [
              0.6666666666666666,
              "#ed7953"
             ],
             [
              0.7777777777777778,
              "#fb9f3a"
             ],
             [
              0.8888888888888888,
              "#fdca26"
             ],
             [
              1,
              "#f0f921"
             ]
            ],
            "type": "histogram2dcontour"
           }
          ],
          "mesh3d": [
           {
            "colorbar": {
             "outlinewidth": 0,
             "ticks": ""
            },
            "type": "mesh3d"
           }
          ],
          "parcoords": [
           {
            "line": {
             "colorbar": {
              "outlinewidth": 0,
              "ticks": ""
             }
            },
            "type": "parcoords"
           }
          ],
          "pie": [
           {
            "automargin": true,
            "type": "pie"
           }
          ],
          "scatter": [
           {
            "marker": {
             "colorbar": {
              "outlinewidth": 0,
              "ticks": ""
             }
            },
            "type": "scatter"
           }
          ],
          "scatter3d": [
           {
            "line": {
             "colorbar": {
              "outlinewidth": 0,
              "ticks": ""
             }
            },
            "marker": {
             "colorbar": {
              "outlinewidth": 0,
              "ticks": ""
             }
            },
            "type": "scatter3d"
           }
          ],
          "scattercarpet": [
           {
            "marker": {
             "colorbar": {
              "outlinewidth": 0,
              "ticks": ""
             }
            },
            "type": "scattercarpet"
           }
          ],
          "scattergeo": [
           {
            "marker": {
             "colorbar": {
              "outlinewidth": 0,
              "ticks": ""
             }
            },
            "type": "scattergeo"
           }
          ],
          "scattergl": [
           {
            "marker": {
             "colorbar": {
              "outlinewidth": 0,
              "ticks": ""
             }
            },
            "type": "scattergl"
           }
          ],
          "scattermapbox": [
           {
            "marker": {
             "colorbar": {
              "outlinewidth": 0,
              "ticks": ""
             }
            },
            "type": "scattermapbox"
           }
          ],
          "scatterpolar": [
           {
            "marker": {
             "colorbar": {
              "outlinewidth": 0,
              "ticks": ""
             }
            },
            "type": "scatterpolar"
           }
          ],
          "scatterpolargl": [
           {
            "marker": {
             "colorbar": {
              "outlinewidth": 0,
              "ticks": ""
             }
            },
            "type": "scatterpolargl"
           }
          ],
          "scatterternary": [
           {
            "marker": {
             "colorbar": {
              "outlinewidth": 0,
              "ticks": ""
             }
            },
            "type": "scatterternary"
           }
          ],
          "surface": [
           {
            "colorbar": {
             "outlinewidth": 0,
             "ticks": ""
            },
            "colorscale": [
             [
              0,
              "#0d0887"
             ],
             [
              0.1111111111111111,
              "#46039f"
             ],
             [
              0.2222222222222222,
              "#7201a8"
             ],
             [
              0.3333333333333333,
              "#9c179e"
             ],
             [
              0.4444444444444444,
              "#bd3786"
             ],
             [
              0.5555555555555556,
              "#d8576b"
             ],
             [
              0.6666666666666666,
              "#ed7953"
             ],
             [
              0.7777777777777778,
              "#fb9f3a"
             ],
             [
              0.8888888888888888,
              "#fdca26"
             ],
             [
              1,
              "#f0f921"
             ]
            ],
            "type": "surface"
           }
          ],
          "table": [
           {
            "cells": {
             "fill": {
              "color": "#EBF0F8"
             },
             "line": {
              "color": "white"
             }
            },
            "header": {
             "fill": {
              "color": "#C8D4E3"
             },
             "line": {
              "color": "white"
             }
            },
            "type": "table"
           }
          ]
         },
         "layout": {
          "annotationdefaults": {
           "arrowcolor": "#2a3f5f",
           "arrowhead": 0,
           "arrowwidth": 1
          },
          "autotypenumbers": "strict",
          "coloraxis": {
           "colorbar": {
            "outlinewidth": 0,
            "ticks": ""
           }
          },
          "colorscale": {
           "diverging": [
            [
             0,
             "#8e0152"
            ],
            [
             0.1,
             "#c51b7d"
            ],
            [
             0.2,
             "#de77ae"
            ],
            [
             0.3,
             "#f1b6da"
            ],
            [
             0.4,
             "#fde0ef"
            ],
            [
             0.5,
             "#f7f7f7"
            ],
            [
             0.6,
             "#e6f5d0"
            ],
            [
             0.7,
             "#b8e186"
            ],
            [
             0.8,
             "#7fbc41"
            ],
            [
             0.9,
             "#4d9221"
            ],
            [
             1,
             "#276419"
            ]
           ],
           "sequential": [
            [
             0,
             "#0d0887"
            ],
            [
             0.1111111111111111,
             "#46039f"
            ],
            [
             0.2222222222222222,
             "#7201a8"
            ],
            [
             0.3333333333333333,
             "#9c179e"
            ],
            [
             0.4444444444444444,
             "#bd3786"
            ],
            [
             0.5555555555555556,
             "#d8576b"
            ],
            [
             0.6666666666666666,
             "#ed7953"
            ],
            [
             0.7777777777777778,
             "#fb9f3a"
            ],
            [
             0.8888888888888888,
             "#fdca26"
            ],
            [
             1,
             "#f0f921"
            ]
           ],
           "sequentialminus": [
            [
             0,
             "#0d0887"
            ],
            [
             0.1111111111111111,
             "#46039f"
            ],
            [
             0.2222222222222222,
             "#7201a8"
            ],
            [
             0.3333333333333333,
             "#9c179e"
            ],
            [
             0.4444444444444444,
             "#bd3786"
            ],
            [
             0.5555555555555556,
             "#d8576b"
            ],
            [
             0.6666666666666666,
             "#ed7953"
            ],
            [
             0.7777777777777778,
             "#fb9f3a"
            ],
            [
             0.8888888888888888,
             "#fdca26"
            ],
            [
             1,
             "#f0f921"
            ]
           ]
          },
          "colorway": [
           "#636efa",
           "#EF553B",
           "#00cc96",
           "#ab63fa",
           "#FFA15A",
           "#19d3f3",
           "#FF6692",
           "#B6E880",
           "#FF97FF",
           "#FECB52"
          ],
          "font": {
           "color": "#2a3f5f"
          },
          "geo": {
           "bgcolor": "white",
           "lakecolor": "white",
           "landcolor": "#E5ECF6",
           "showlakes": true,
           "showland": true,
           "subunitcolor": "white"
          },
          "hoverlabel": {
           "align": "left"
          },
          "hovermode": "closest",
          "mapbox": {
           "style": "light"
          },
          "paper_bgcolor": "white",
          "plot_bgcolor": "#E5ECF6",
          "polar": {
           "angularaxis": {
            "gridcolor": "white",
            "linecolor": "white",
            "ticks": ""
           },
           "bgcolor": "#E5ECF6",
           "radialaxis": {
            "gridcolor": "white",
            "linecolor": "white",
            "ticks": ""
           }
          },
          "scene": {
           "xaxis": {
            "backgroundcolor": "#E5ECF6",
            "gridcolor": "white",
            "gridwidth": 2,
            "linecolor": "white",
            "showbackground": true,
            "ticks": "",
            "zerolinecolor": "white"
           },
           "yaxis": {
            "backgroundcolor": "#E5ECF6",
            "gridcolor": "white",
            "gridwidth": 2,
            "linecolor": "white",
            "showbackground": true,
            "ticks": "",
            "zerolinecolor": "white"
           },
           "zaxis": {
            "backgroundcolor": "#E5ECF6",
            "gridcolor": "white",
            "gridwidth": 2,
            "linecolor": "white",
            "showbackground": true,
            "ticks": "",
            "zerolinecolor": "white"
           }
          },
          "shapedefaults": {
           "line": {
            "color": "#2a3f5f"
           }
          },
          "ternary": {
           "aaxis": {
            "gridcolor": "white",
            "linecolor": "white",
            "ticks": ""
           },
           "baxis": {
            "gridcolor": "white",
            "linecolor": "white",
            "ticks": ""
           },
           "bgcolor": "#E5ECF6",
           "caxis": {
            "gridcolor": "white",
            "linecolor": "white",
            "ticks": ""
           }
          },
          "title": {
           "x": 0.05
          },
          "xaxis": {
           "automargin": true,
           "gridcolor": "white",
           "linecolor": "white",
           "ticks": "",
           "title": {
            "standoff": 15
           },
           "zerolinecolor": "white",
           "zerolinewidth": 2
          },
          "yaxis": {
           "automargin": true,
           "gridcolor": "white",
           "linecolor": "white",
           "ticks": "",
           "title": {
            "standoff": 15
           },
           "zerolinecolor": "white",
           "zerolinewidth": 2
          }
         }
        },
        "title": {
         "text": "Общие суммы покупок по месяцам",
         "x": 0.5
        },
        "width": 700,
        "xaxis": {
         "anchor": "y",
         "domain": [
          0,
          1
         ],
         "title": {
          "text": "Cуммы покупок, у.е."
         }
        },
        "yaxis": {
         "anchor": "x",
         "domain": [
          0,
          1
         ],
         "title": {
          "text": "Месяцы"
         }
        }
       }
      }
     },
     "metadata": {},
     "output_type": "display_data"
    },
    {
     "name": "stdout",
     "output_type": "stream",
     "text": [
      "У кластера \"0\" по общей сумме покупок лидирует месяц - \"2018-12\" на 162565.0 у.е., убыточный месяц \"2018-10\" на 73744.0 у.е.\n",
      "------------------------------------------------------\n",
      "\n",
      "\n",
      "В КЛАСТЕРЕ \"1\"\n"
     ]
    },
    {
     "data": {
      "application/vnd.plotly.v1+json": {
       "config": {
        "plotlyServerURL": "https://plot.ly"
       },
       "data": [
        {
         "alignmentgroup": "True",
         "hovertemplate": "revenue=%{marker.color}<br>month=%{y}<extra></extra>",
         "legendgroup": "",
         "marker": {
          "color": [
           44026,
           141136,
           127452,
           42866,
           78936,
           79688,
           456517,
           85009,
           132344,
           111806,
           128341,
           56952,
           93502
          ],
          "coloraxis": "coloraxis",
          "pattern": {
           "shape": ""
          }
         },
         "name": "",
         "offsetgroup": "",
         "orientation": "h",
         "showlegend": false,
         "text": [
          44026,
          141136,
          127452,
          42866,
          78936,
          79688,
          456517,
          85009,
          132344,
          111806,
          128341,
          56952,
          93502
         ],
         "textposition": "auto",
         "type": "bar",
         "x": [
          44026,
          141136,
          127452,
          42866,
          78936,
          79688,
          456517,
          85009,
          132344,
          111806,
          128341,
          56952,
          93502
         ],
         "xaxis": "x",
         "y": [
          "2018-10",
          "2018-11",
          "2018-12",
          "2019-01",
          "2019-02",
          "2019-03",
          "2019-04",
          "2019-05",
          "2019-06",
          "2019-07",
          "2019-08",
          "2019-09",
          "2019-10"
         ],
         "yaxis": "y"
        }
       ],
       "layout": {
        "barmode": "relative",
        "coloraxis": {
         "colorbar": {
          "title": {
           "text": "revenue"
          }
         },
         "colorscale": [
          [
           0,
           "#0d0887"
          ],
          [
           0.1111111111111111,
           "#46039f"
          ],
          [
           0.2222222222222222,
           "#7201a8"
          ],
          [
           0.3333333333333333,
           "#9c179e"
          ],
          [
           0.4444444444444444,
           "#bd3786"
          ],
          [
           0.5555555555555556,
           "#d8576b"
          ],
          [
           0.6666666666666666,
           "#ed7953"
          ],
          [
           0.7777777777777778,
           "#fb9f3a"
          ],
          [
           0.8888888888888888,
           "#fdca26"
          ],
          [
           1,
           "#f0f921"
          ]
         ]
        },
        "height": 600,
        "legend": {
         "tracegroupgap": 0
        },
        "margin": {
         "t": 60
        },
        "template": {
         "data": {
          "bar": [
           {
            "error_x": {
             "color": "#2a3f5f"
            },
            "error_y": {
             "color": "#2a3f5f"
            },
            "marker": {
             "line": {
              "color": "#E5ECF6",
              "width": 0.5
             },
             "pattern": {
              "fillmode": "overlay",
              "size": 10,
              "solidity": 0.2
             }
            },
            "type": "bar"
           }
          ],
          "barpolar": [
           {
            "marker": {
             "line": {
              "color": "#E5ECF6",
              "width": 0.5
             },
             "pattern": {
              "fillmode": "overlay",
              "size": 10,
              "solidity": 0.2
             }
            },
            "type": "barpolar"
           }
          ],
          "carpet": [
           {
            "aaxis": {
             "endlinecolor": "#2a3f5f",
             "gridcolor": "white",
             "linecolor": "white",
             "minorgridcolor": "white",
             "startlinecolor": "#2a3f5f"
            },
            "baxis": {
             "endlinecolor": "#2a3f5f",
             "gridcolor": "white",
             "linecolor": "white",
             "minorgridcolor": "white",
             "startlinecolor": "#2a3f5f"
            },
            "type": "carpet"
           }
          ],
          "choropleth": [
           {
            "colorbar": {
             "outlinewidth": 0,
             "ticks": ""
            },
            "type": "choropleth"
           }
          ],
          "contour": [
           {
            "colorbar": {
             "outlinewidth": 0,
             "ticks": ""
            },
            "colorscale": [
             [
              0,
              "#0d0887"
             ],
             [
              0.1111111111111111,
              "#46039f"
             ],
             [
              0.2222222222222222,
              "#7201a8"
             ],
             [
              0.3333333333333333,
              "#9c179e"
             ],
             [
              0.4444444444444444,
              "#bd3786"
             ],
             [
              0.5555555555555556,
              "#d8576b"
             ],
             [
              0.6666666666666666,
              "#ed7953"
             ],
             [
              0.7777777777777778,
              "#fb9f3a"
             ],
             [
              0.8888888888888888,
              "#fdca26"
             ],
             [
              1,
              "#f0f921"
             ]
            ],
            "type": "contour"
           }
          ],
          "contourcarpet": [
           {
            "colorbar": {
             "outlinewidth": 0,
             "ticks": ""
            },
            "type": "contourcarpet"
           }
          ],
          "heatmap": [
           {
            "colorbar": {
             "outlinewidth": 0,
             "ticks": ""
            },
            "colorscale": [
             [
              0,
              "#0d0887"
             ],
             [
              0.1111111111111111,
              "#46039f"
             ],
             [
              0.2222222222222222,
              "#7201a8"
             ],
             [
              0.3333333333333333,
              "#9c179e"
             ],
             [
              0.4444444444444444,
              "#bd3786"
             ],
             [
              0.5555555555555556,
              "#d8576b"
             ],
             [
              0.6666666666666666,
              "#ed7953"
             ],
             [
              0.7777777777777778,
              "#fb9f3a"
             ],
             [
              0.8888888888888888,
              "#fdca26"
             ],
             [
              1,
              "#f0f921"
             ]
            ],
            "type": "heatmap"
           }
          ],
          "heatmapgl": [
           {
            "colorbar": {
             "outlinewidth": 0,
             "ticks": ""
            },
            "colorscale": [
             [
              0,
              "#0d0887"
             ],
             [
              0.1111111111111111,
              "#46039f"
             ],
             [
              0.2222222222222222,
              "#7201a8"
             ],
             [
              0.3333333333333333,
              "#9c179e"
             ],
             [
              0.4444444444444444,
              "#bd3786"
             ],
             [
              0.5555555555555556,
              "#d8576b"
             ],
             [
              0.6666666666666666,
              "#ed7953"
             ],
             [
              0.7777777777777778,
              "#fb9f3a"
             ],
             [
              0.8888888888888888,
              "#fdca26"
             ],
             [
              1,
              "#f0f921"
             ]
            ],
            "type": "heatmapgl"
           }
          ],
          "histogram": [
           {
            "marker": {
             "pattern": {
              "fillmode": "overlay",
              "size": 10,
              "solidity": 0.2
             }
            },
            "type": "histogram"
           }
          ],
          "histogram2d": [
           {
            "colorbar": {
             "outlinewidth": 0,
             "ticks": ""
            },
            "colorscale": [
             [
              0,
              "#0d0887"
             ],
             [
              0.1111111111111111,
              "#46039f"
             ],
             [
              0.2222222222222222,
              "#7201a8"
             ],
             [
              0.3333333333333333,
              "#9c179e"
             ],
             [
              0.4444444444444444,
              "#bd3786"
             ],
             [
              0.5555555555555556,
              "#d8576b"
             ],
             [
              0.6666666666666666,
              "#ed7953"
             ],
             [
              0.7777777777777778,
              "#fb9f3a"
             ],
             [
              0.8888888888888888,
              "#fdca26"
             ],
             [
              1,
              "#f0f921"
             ]
            ],
            "type": "histogram2d"
           }
          ],
          "histogram2dcontour": [
           {
            "colorbar": {
             "outlinewidth": 0,
             "ticks": ""
            },
            "colorscale": [
             [
              0,
              "#0d0887"
             ],
             [
              0.1111111111111111,
              "#46039f"
             ],
             [
              0.2222222222222222,
              "#7201a8"
             ],
             [
              0.3333333333333333,
              "#9c179e"
             ],
             [
              0.4444444444444444,
              "#bd3786"
             ],
             [
              0.5555555555555556,
              "#d8576b"
             ],
             [
              0.6666666666666666,
              "#ed7953"
             ],
             [
              0.7777777777777778,
              "#fb9f3a"
             ],
             [
              0.8888888888888888,
              "#fdca26"
             ],
             [
              1,
              "#f0f921"
             ]
            ],
            "type": "histogram2dcontour"
           }
          ],
          "mesh3d": [
           {
            "colorbar": {
             "outlinewidth": 0,
             "ticks": ""
            },
            "type": "mesh3d"
           }
          ],
          "parcoords": [
           {
            "line": {
             "colorbar": {
              "outlinewidth": 0,
              "ticks": ""
             }
            },
            "type": "parcoords"
           }
          ],
          "pie": [
           {
            "automargin": true,
            "type": "pie"
           }
          ],
          "scatter": [
           {
            "marker": {
             "colorbar": {
              "outlinewidth": 0,
              "ticks": ""
             }
            },
            "type": "scatter"
           }
          ],
          "scatter3d": [
           {
            "line": {
             "colorbar": {
              "outlinewidth": 0,
              "ticks": ""
             }
            },
            "marker": {
             "colorbar": {
              "outlinewidth": 0,
              "ticks": ""
             }
            },
            "type": "scatter3d"
           }
          ],
          "scattercarpet": [
           {
            "marker": {
             "colorbar": {
              "outlinewidth": 0,
              "ticks": ""
             }
            },
            "type": "scattercarpet"
           }
          ],
          "scattergeo": [
           {
            "marker": {
             "colorbar": {
              "outlinewidth": 0,
              "ticks": ""
             }
            },
            "type": "scattergeo"
           }
          ],
          "scattergl": [
           {
            "marker": {
             "colorbar": {
              "outlinewidth": 0,
              "ticks": ""
             }
            },
            "type": "scattergl"
           }
          ],
          "scattermapbox": [
           {
            "marker": {
             "colorbar": {
              "outlinewidth": 0,
              "ticks": ""
             }
            },
            "type": "scattermapbox"
           }
          ],
          "scatterpolar": [
           {
            "marker": {
             "colorbar": {
              "outlinewidth": 0,
              "ticks": ""
             }
            },
            "type": "scatterpolar"
           }
          ],
          "scatterpolargl": [
           {
            "marker": {
             "colorbar": {
              "outlinewidth": 0,
              "ticks": ""
             }
            },
            "type": "scatterpolargl"
           }
          ],
          "scatterternary": [
           {
            "marker": {
             "colorbar": {
              "outlinewidth": 0,
              "ticks": ""
             }
            },
            "type": "scatterternary"
           }
          ],
          "surface": [
           {
            "colorbar": {
             "outlinewidth": 0,
             "ticks": ""
            },
            "colorscale": [
             [
              0,
              "#0d0887"
             ],
             [
              0.1111111111111111,
              "#46039f"
             ],
             [
              0.2222222222222222,
              "#7201a8"
             ],
             [
              0.3333333333333333,
              "#9c179e"
             ],
             [
              0.4444444444444444,
              "#bd3786"
             ],
             [
              0.5555555555555556,
              "#d8576b"
             ],
             [
              0.6666666666666666,
              "#ed7953"
             ],
             [
              0.7777777777777778,
              "#fb9f3a"
             ],
             [
              0.8888888888888888,
              "#fdca26"
             ],
             [
              1,
              "#f0f921"
             ]
            ],
            "type": "surface"
           }
          ],
          "table": [
           {
            "cells": {
             "fill": {
              "color": "#EBF0F8"
             },
             "line": {
              "color": "white"
             }
            },
            "header": {
             "fill": {
              "color": "#C8D4E3"
             },
             "line": {
              "color": "white"
             }
            },
            "type": "table"
           }
          ]
         },
         "layout": {
          "annotationdefaults": {
           "arrowcolor": "#2a3f5f",
           "arrowhead": 0,
           "arrowwidth": 1
          },
          "autotypenumbers": "strict",
          "coloraxis": {
           "colorbar": {
            "outlinewidth": 0,
            "ticks": ""
           }
          },
          "colorscale": {
           "diverging": [
            [
             0,
             "#8e0152"
            ],
            [
             0.1,
             "#c51b7d"
            ],
            [
             0.2,
             "#de77ae"
            ],
            [
             0.3,
             "#f1b6da"
            ],
            [
             0.4,
             "#fde0ef"
            ],
            [
             0.5,
             "#f7f7f7"
            ],
            [
             0.6,
             "#e6f5d0"
            ],
            [
             0.7,
             "#b8e186"
            ],
            [
             0.8,
             "#7fbc41"
            ],
            [
             0.9,
             "#4d9221"
            ],
            [
             1,
             "#276419"
            ]
           ],
           "sequential": [
            [
             0,
             "#0d0887"
            ],
            [
             0.1111111111111111,
             "#46039f"
            ],
            [
             0.2222222222222222,
             "#7201a8"
            ],
            [
             0.3333333333333333,
             "#9c179e"
            ],
            [
             0.4444444444444444,
             "#bd3786"
            ],
            [
             0.5555555555555556,
             "#d8576b"
            ],
            [
             0.6666666666666666,
             "#ed7953"
            ],
            [
             0.7777777777777778,
             "#fb9f3a"
            ],
            [
             0.8888888888888888,
             "#fdca26"
            ],
            [
             1,
             "#f0f921"
            ]
           ],
           "sequentialminus": [
            [
             0,
             "#0d0887"
            ],
            [
             0.1111111111111111,
             "#46039f"
            ],
            [
             0.2222222222222222,
             "#7201a8"
            ],
            [
             0.3333333333333333,
             "#9c179e"
            ],
            [
             0.4444444444444444,
             "#bd3786"
            ],
            [
             0.5555555555555556,
             "#d8576b"
            ],
            [
             0.6666666666666666,
             "#ed7953"
            ],
            [
             0.7777777777777778,
             "#fb9f3a"
            ],
            [
             0.8888888888888888,
             "#fdca26"
            ],
            [
             1,
             "#f0f921"
            ]
           ]
          },
          "colorway": [
           "#636efa",
           "#EF553B",
           "#00cc96",
           "#ab63fa",
           "#FFA15A",
           "#19d3f3",
           "#FF6692",
           "#B6E880",
           "#FF97FF",
           "#FECB52"
          ],
          "font": {
           "color": "#2a3f5f"
          },
          "geo": {
           "bgcolor": "white",
           "lakecolor": "white",
           "landcolor": "#E5ECF6",
           "showlakes": true,
           "showland": true,
           "subunitcolor": "white"
          },
          "hoverlabel": {
           "align": "left"
          },
          "hovermode": "closest",
          "mapbox": {
           "style": "light"
          },
          "paper_bgcolor": "white",
          "plot_bgcolor": "#E5ECF6",
          "polar": {
           "angularaxis": {
            "gridcolor": "white",
            "linecolor": "white",
            "ticks": ""
           },
           "bgcolor": "#E5ECF6",
           "radialaxis": {
            "gridcolor": "white",
            "linecolor": "white",
            "ticks": ""
           }
          },
          "scene": {
           "xaxis": {
            "backgroundcolor": "#E5ECF6",
            "gridcolor": "white",
            "gridwidth": 2,
            "linecolor": "white",
            "showbackground": true,
            "ticks": "",
            "zerolinecolor": "white"
           },
           "yaxis": {
            "backgroundcolor": "#E5ECF6",
            "gridcolor": "white",
            "gridwidth": 2,
            "linecolor": "white",
            "showbackground": true,
            "ticks": "",
            "zerolinecolor": "white"
           },
           "zaxis": {
            "backgroundcolor": "#E5ECF6",
            "gridcolor": "white",
            "gridwidth": 2,
            "linecolor": "white",
            "showbackground": true,
            "ticks": "",
            "zerolinecolor": "white"
           }
          },
          "shapedefaults": {
           "line": {
            "color": "#2a3f5f"
           }
          },
          "ternary": {
           "aaxis": {
            "gridcolor": "white",
            "linecolor": "white",
            "ticks": ""
           },
           "baxis": {
            "gridcolor": "white",
            "linecolor": "white",
            "ticks": ""
           },
           "bgcolor": "#E5ECF6",
           "caxis": {
            "gridcolor": "white",
            "linecolor": "white",
            "ticks": ""
           }
          },
          "title": {
           "x": 0.05
          },
          "xaxis": {
           "automargin": true,
           "gridcolor": "white",
           "linecolor": "white",
           "ticks": "",
           "title": {
            "standoff": 15
           },
           "zerolinecolor": "white",
           "zerolinewidth": 2
          },
          "yaxis": {
           "automargin": true,
           "gridcolor": "white",
           "linecolor": "white",
           "ticks": "",
           "title": {
            "standoff": 15
           },
           "zerolinecolor": "white",
           "zerolinewidth": 2
          }
         }
        },
        "title": {
         "text": "Общие суммы покупок по месяцам",
         "x": 0.5
        },
        "width": 700,
        "xaxis": {
         "anchor": "y",
         "domain": [
          0,
          1
         ],
         "title": {
          "text": "Cуммы покупок, у.е."
         }
        },
        "yaxis": {
         "anchor": "x",
         "domain": [
          0,
          1
         ],
         "title": {
          "text": "Месяцы"
         }
        }
       }
      }
     },
     "metadata": {},
     "output_type": "display_data"
    },
    {
     "name": "stdout",
     "output_type": "stream",
     "text": [
      "У кластера \"1\" по общей сумме покупок лидирует месяц - \"2019-04\" на 456517.0 у.е., убыточный месяц \"2019-01\" на 42866.0 у.е.\n",
      "------------------------------------------------------\n",
      "\n",
      "\n",
      "В КЛАСТЕРЕ \"2\"\n"
     ]
    },
    {
     "data": {
      "application/vnd.plotly.v1+json": {
       "config": {
        "plotlyServerURL": "https://plot.ly"
       },
       "data": [
        {
         "alignmentgroup": "True",
         "hovertemplate": "revenue=%{marker.color}<br>month=%{y}<extra></extra>",
         "legendgroup": "",
         "marker": {
          "color": [
           31112991,
           6173329
          ],
          "coloraxis": "coloraxis",
          "pattern": {
           "shape": ""
          }
         },
         "name": "",
         "offsetgroup": "",
         "orientation": "h",
         "showlegend": false,
         "text": [
          31112991,
          6173329
         ],
         "textposition": "auto",
         "type": "bar",
         "x": [
          31112991,
          6173329
         ],
         "xaxis": "x",
         "y": [
          "2018-10",
          "2019-10"
         ],
         "yaxis": "y"
        }
       ],
       "layout": {
        "barmode": "relative",
        "coloraxis": {
         "colorbar": {
          "title": {
           "text": "revenue"
          }
         },
         "colorscale": [
          [
           0,
           "#0d0887"
          ],
          [
           0.1111111111111111,
           "#46039f"
          ],
          [
           0.2222222222222222,
           "#7201a8"
          ],
          [
           0.3333333333333333,
           "#9c179e"
          ],
          [
           0.4444444444444444,
           "#bd3786"
          ],
          [
           0.5555555555555556,
           "#d8576b"
          ],
          [
           0.6666666666666666,
           "#ed7953"
          ],
          [
           0.7777777777777778,
           "#fb9f3a"
          ],
          [
           0.8888888888888888,
           "#fdca26"
          ],
          [
           1,
           "#f0f921"
          ]
         ]
        },
        "height": 600,
        "legend": {
         "tracegroupgap": 0
        },
        "margin": {
         "t": 60
        },
        "template": {
         "data": {
          "bar": [
           {
            "error_x": {
             "color": "#2a3f5f"
            },
            "error_y": {
             "color": "#2a3f5f"
            },
            "marker": {
             "line": {
              "color": "#E5ECF6",
              "width": 0.5
             },
             "pattern": {
              "fillmode": "overlay",
              "size": 10,
              "solidity": 0.2
             }
            },
            "type": "bar"
           }
          ],
          "barpolar": [
           {
            "marker": {
             "line": {
              "color": "#E5ECF6",
              "width": 0.5
             },
             "pattern": {
              "fillmode": "overlay",
              "size": 10,
              "solidity": 0.2
             }
            },
            "type": "barpolar"
           }
          ],
          "carpet": [
           {
            "aaxis": {
             "endlinecolor": "#2a3f5f",
             "gridcolor": "white",
             "linecolor": "white",
             "minorgridcolor": "white",
             "startlinecolor": "#2a3f5f"
            },
            "baxis": {
             "endlinecolor": "#2a3f5f",
             "gridcolor": "white",
             "linecolor": "white",
             "minorgridcolor": "white",
             "startlinecolor": "#2a3f5f"
            },
            "type": "carpet"
           }
          ],
          "choropleth": [
           {
            "colorbar": {
             "outlinewidth": 0,
             "ticks": ""
            },
            "type": "choropleth"
           }
          ],
          "contour": [
           {
            "colorbar": {
             "outlinewidth": 0,
             "ticks": ""
            },
            "colorscale": [
             [
              0,
              "#0d0887"
             ],
             [
              0.1111111111111111,
              "#46039f"
             ],
             [
              0.2222222222222222,
              "#7201a8"
             ],
             [
              0.3333333333333333,
              "#9c179e"
             ],
             [
              0.4444444444444444,
              "#bd3786"
             ],
             [
              0.5555555555555556,
              "#d8576b"
             ],
             [
              0.6666666666666666,
              "#ed7953"
             ],
             [
              0.7777777777777778,
              "#fb9f3a"
             ],
             [
              0.8888888888888888,
              "#fdca26"
             ],
             [
              1,
              "#f0f921"
             ]
            ],
            "type": "contour"
           }
          ],
          "contourcarpet": [
           {
            "colorbar": {
             "outlinewidth": 0,
             "ticks": ""
            },
            "type": "contourcarpet"
           }
          ],
          "heatmap": [
           {
            "colorbar": {
             "outlinewidth": 0,
             "ticks": ""
            },
            "colorscale": [
             [
              0,
              "#0d0887"
             ],
             [
              0.1111111111111111,
              "#46039f"
             ],
             [
              0.2222222222222222,
              "#7201a8"
             ],
             [
              0.3333333333333333,
              "#9c179e"
             ],
             [
              0.4444444444444444,
              "#bd3786"
             ],
             [
              0.5555555555555556,
              "#d8576b"
             ],
             [
              0.6666666666666666,
              "#ed7953"
             ],
             [
              0.7777777777777778,
              "#fb9f3a"
             ],
             [
              0.8888888888888888,
              "#fdca26"
             ],
             [
              1,
              "#f0f921"
             ]
            ],
            "type": "heatmap"
           }
          ],
          "heatmapgl": [
           {
            "colorbar": {
             "outlinewidth": 0,
             "ticks": ""
            },
            "colorscale": [
             [
              0,
              "#0d0887"
             ],
             [
              0.1111111111111111,
              "#46039f"
             ],
             [
              0.2222222222222222,
              "#7201a8"
             ],
             [
              0.3333333333333333,
              "#9c179e"
             ],
             [
              0.4444444444444444,
              "#bd3786"
             ],
             [
              0.5555555555555556,
              "#d8576b"
             ],
             [
              0.6666666666666666,
              "#ed7953"
             ],
             [
              0.7777777777777778,
              "#fb9f3a"
             ],
             [
              0.8888888888888888,
              "#fdca26"
             ],
             [
              1,
              "#f0f921"
             ]
            ],
            "type": "heatmapgl"
           }
          ],
          "histogram": [
           {
            "marker": {
             "pattern": {
              "fillmode": "overlay",
              "size": 10,
              "solidity": 0.2
             }
            },
            "type": "histogram"
           }
          ],
          "histogram2d": [
           {
            "colorbar": {
             "outlinewidth": 0,
             "ticks": ""
            },
            "colorscale": [
             [
              0,
              "#0d0887"
             ],
             [
              0.1111111111111111,
              "#46039f"
             ],
             [
              0.2222222222222222,
              "#7201a8"
             ],
             [
              0.3333333333333333,
              "#9c179e"
             ],
             [
              0.4444444444444444,
              "#bd3786"
             ],
             [
              0.5555555555555556,
              "#d8576b"
             ],
             [
              0.6666666666666666,
              "#ed7953"
             ],
             [
              0.7777777777777778,
              "#fb9f3a"
             ],
             [
              0.8888888888888888,
              "#fdca26"
             ],
             [
              1,
              "#f0f921"
             ]
            ],
            "type": "histogram2d"
           }
          ],
          "histogram2dcontour": [
           {
            "colorbar": {
             "outlinewidth": 0,
             "ticks": ""
            },
            "colorscale": [
             [
              0,
              "#0d0887"
             ],
             [
              0.1111111111111111,
              "#46039f"
             ],
             [
              0.2222222222222222,
              "#7201a8"
             ],
             [
              0.3333333333333333,
              "#9c179e"
             ],
             [
              0.4444444444444444,
              "#bd3786"
             ],
             [
              0.5555555555555556,
              "#d8576b"
             ],
             [
              0.6666666666666666,
              "#ed7953"
             ],
             [
              0.7777777777777778,
              "#fb9f3a"
             ],
             [
              0.8888888888888888,
              "#fdca26"
             ],
             [
              1,
              "#f0f921"
             ]
            ],
            "type": "histogram2dcontour"
           }
          ],
          "mesh3d": [
           {
            "colorbar": {
             "outlinewidth": 0,
             "ticks": ""
            },
            "type": "mesh3d"
           }
          ],
          "parcoords": [
           {
            "line": {
             "colorbar": {
              "outlinewidth": 0,
              "ticks": ""
             }
            },
            "type": "parcoords"
           }
          ],
          "pie": [
           {
            "automargin": true,
            "type": "pie"
           }
          ],
          "scatter": [
           {
            "marker": {
             "colorbar": {
              "outlinewidth": 0,
              "ticks": ""
             }
            },
            "type": "scatter"
           }
          ],
          "scatter3d": [
           {
            "line": {
             "colorbar": {
              "outlinewidth": 0,
              "ticks": ""
             }
            },
            "marker": {
             "colorbar": {
              "outlinewidth": 0,
              "ticks": ""
             }
            },
            "type": "scatter3d"
           }
          ],
          "scattercarpet": [
           {
            "marker": {
             "colorbar": {
              "outlinewidth": 0,
              "ticks": ""
             }
            },
            "type": "scattercarpet"
           }
          ],
          "scattergeo": [
           {
            "marker": {
             "colorbar": {
              "outlinewidth": 0,
              "ticks": ""
             }
            },
            "type": "scattergeo"
           }
          ],
          "scattergl": [
           {
            "marker": {
             "colorbar": {
              "outlinewidth": 0,
              "ticks": ""
             }
            },
            "type": "scattergl"
           }
          ],
          "scattermapbox": [
           {
            "marker": {
             "colorbar": {
              "outlinewidth": 0,
              "ticks": ""
             }
            },
            "type": "scattermapbox"
           }
          ],
          "scatterpolar": [
           {
            "marker": {
             "colorbar": {
              "outlinewidth": 0,
              "ticks": ""
             }
            },
            "type": "scatterpolar"
           }
          ],
          "scatterpolargl": [
           {
            "marker": {
             "colorbar": {
              "outlinewidth": 0,
              "ticks": ""
             }
            },
            "type": "scatterpolargl"
           }
          ],
          "scatterternary": [
           {
            "marker": {
             "colorbar": {
              "outlinewidth": 0,
              "ticks": ""
             }
            },
            "type": "scatterternary"
           }
          ],
          "surface": [
           {
            "colorbar": {
             "outlinewidth": 0,
             "ticks": ""
            },
            "colorscale": [
             [
              0,
              "#0d0887"
             ],
             [
              0.1111111111111111,
              "#46039f"
             ],
             [
              0.2222222222222222,
              "#7201a8"
             ],
             [
              0.3333333333333333,
              "#9c179e"
             ],
             [
              0.4444444444444444,
              "#bd3786"
             ],
             [
              0.5555555555555556,
              "#d8576b"
             ],
             [
              0.6666666666666666,
              "#ed7953"
             ],
             [
              0.7777777777777778,
              "#fb9f3a"
             ],
             [
              0.8888888888888888,
              "#fdca26"
             ],
             [
              1,
              "#f0f921"
             ]
            ],
            "type": "surface"
           }
          ],
          "table": [
           {
            "cells": {
             "fill": {
              "color": "#EBF0F8"
             },
             "line": {
              "color": "white"
             }
            },
            "header": {
             "fill": {
              "color": "#C8D4E3"
             },
             "line": {
              "color": "white"
             }
            },
            "type": "table"
           }
          ]
         },
         "layout": {
          "annotationdefaults": {
           "arrowcolor": "#2a3f5f",
           "arrowhead": 0,
           "arrowwidth": 1
          },
          "autotypenumbers": "strict",
          "coloraxis": {
           "colorbar": {
            "outlinewidth": 0,
            "ticks": ""
           }
          },
          "colorscale": {
           "diverging": [
            [
             0,
             "#8e0152"
            ],
            [
             0.1,
             "#c51b7d"
            ],
            [
             0.2,
             "#de77ae"
            ],
            [
             0.3,
             "#f1b6da"
            ],
            [
             0.4,
             "#fde0ef"
            ],
            [
             0.5,
             "#f7f7f7"
            ],
            [
             0.6,
             "#e6f5d0"
            ],
            [
             0.7,
             "#b8e186"
            ],
            [
             0.8,
             "#7fbc41"
            ],
            [
             0.9,
             "#4d9221"
            ],
            [
             1,
             "#276419"
            ]
           ],
           "sequential": [
            [
             0,
             "#0d0887"
            ],
            [
             0.1111111111111111,
             "#46039f"
            ],
            [
             0.2222222222222222,
             "#7201a8"
            ],
            [
             0.3333333333333333,
             "#9c179e"
            ],
            [
             0.4444444444444444,
             "#bd3786"
            ],
            [
             0.5555555555555556,
             "#d8576b"
            ],
            [
             0.6666666666666666,
             "#ed7953"
            ],
            [
             0.7777777777777778,
             "#fb9f3a"
            ],
            [
             0.8888888888888888,
             "#fdca26"
            ],
            [
             1,
             "#f0f921"
            ]
           ],
           "sequentialminus": [
            [
             0,
             "#0d0887"
            ],
            [
             0.1111111111111111,
             "#46039f"
            ],
            [
             0.2222222222222222,
             "#7201a8"
            ],
            [
             0.3333333333333333,
             "#9c179e"
            ],
            [
             0.4444444444444444,
             "#bd3786"
            ],
            [
             0.5555555555555556,
             "#d8576b"
            ],
            [
             0.6666666666666666,
             "#ed7953"
            ],
            [
             0.7777777777777778,
             "#fb9f3a"
            ],
            [
             0.8888888888888888,
             "#fdca26"
            ],
            [
             1,
             "#f0f921"
            ]
           ]
          },
          "colorway": [
           "#636efa",
           "#EF553B",
           "#00cc96",
           "#ab63fa",
           "#FFA15A",
           "#19d3f3",
           "#FF6692",
           "#B6E880",
           "#FF97FF",
           "#FECB52"
          ],
          "font": {
           "color": "#2a3f5f"
          },
          "geo": {
           "bgcolor": "white",
           "lakecolor": "white",
           "landcolor": "#E5ECF6",
           "showlakes": true,
           "showland": true,
           "subunitcolor": "white"
          },
          "hoverlabel": {
           "align": "left"
          },
          "hovermode": "closest",
          "mapbox": {
           "style": "light"
          },
          "paper_bgcolor": "white",
          "plot_bgcolor": "#E5ECF6",
          "polar": {
           "angularaxis": {
            "gridcolor": "white",
            "linecolor": "white",
            "ticks": ""
           },
           "bgcolor": "#E5ECF6",
           "radialaxis": {
            "gridcolor": "white",
            "linecolor": "white",
            "ticks": ""
           }
          },
          "scene": {
           "xaxis": {
            "backgroundcolor": "#E5ECF6",
            "gridcolor": "white",
            "gridwidth": 2,
            "linecolor": "white",
            "showbackground": true,
            "ticks": "",
            "zerolinecolor": "white"
           },
           "yaxis": {
            "backgroundcolor": "#E5ECF6",
            "gridcolor": "white",
            "gridwidth": 2,
            "linecolor": "white",
            "showbackground": true,
            "ticks": "",
            "zerolinecolor": "white"
           },
           "zaxis": {
            "backgroundcolor": "#E5ECF6",
            "gridcolor": "white",
            "gridwidth": 2,
            "linecolor": "white",
            "showbackground": true,
            "ticks": "",
            "zerolinecolor": "white"
           }
          },
          "shapedefaults": {
           "line": {
            "color": "#2a3f5f"
           }
          },
          "ternary": {
           "aaxis": {
            "gridcolor": "white",
            "linecolor": "white",
            "ticks": ""
           },
           "baxis": {
            "gridcolor": "white",
            "linecolor": "white",
            "ticks": ""
           },
           "bgcolor": "#E5ECF6",
           "caxis": {
            "gridcolor": "white",
            "linecolor": "white",
            "ticks": ""
           }
          },
          "title": {
           "x": 0.05
          },
          "xaxis": {
           "automargin": true,
           "gridcolor": "white",
           "linecolor": "white",
           "ticks": "",
           "title": {
            "standoff": 15
           },
           "zerolinecolor": "white",
           "zerolinewidth": 2
          },
          "yaxis": {
           "automargin": true,
           "gridcolor": "white",
           "linecolor": "white",
           "ticks": "",
           "title": {
            "standoff": 15
           },
           "zerolinecolor": "white",
           "zerolinewidth": 2
          }
         }
        },
        "title": {
         "text": "Общие суммы покупок по месяцам",
         "x": 0.5
        },
        "width": 700,
        "xaxis": {
         "anchor": "y",
         "domain": [
          0,
          1
         ],
         "title": {
          "text": "Cуммы покупок, у.е."
         }
        },
        "yaxis": {
         "anchor": "x",
         "domain": [
          0,
          1
         ],
         "title": {
          "text": "Месяцы"
         }
        }
       }
      }
     },
     "metadata": {},
     "output_type": "display_data"
    },
    {
     "name": "stdout",
     "output_type": "stream",
     "text": [
      "У кластера \"2\" по общей сумме покупок лидирует месяц - \"2018-10\" на 31112991.0 у.е., убыточный месяц \"2019-10\" на 6173329.0 у.е.\n",
      "------------------------------------------------------\n",
      "\n",
      "\n",
      "В КЛАСТЕРЕ \"3\"\n"
     ]
    },
    {
     "data": {
      "application/vnd.plotly.v1+json": {
       "config": {
        "plotlyServerURL": "https://plot.ly"
       },
       "data": [
        {
         "alignmentgroup": "True",
         "hovertemplate": "revenue=%{marker.color}<br>month=%{y}<extra></extra>",
         "legendgroup": "",
         "marker": {
          "color": [
           7435,
           13944,
           19854,
           14700,
           29362,
           25935,
           18777,
           7424,
           11920,
           26975,
           3928,
           17180,
           10950
          ],
          "coloraxis": "coloraxis",
          "pattern": {
           "shape": ""
          }
         },
         "name": "",
         "offsetgroup": "",
         "orientation": "h",
         "showlegend": false,
         "text": [
          7435,
          13944,
          19854,
          14700,
          29362,
          25935,
          18777,
          7424,
          11920,
          26975,
          3928,
          17180,
          10950
         ],
         "textposition": "auto",
         "type": "bar",
         "x": [
          7435,
          13944,
          19854,
          14700,
          29362,
          25935,
          18777,
          7424,
          11920,
          26975,
          3928,
          17180,
          10950
         ],
         "xaxis": "x",
         "y": [
          "2018-10",
          "2018-11",
          "2018-12",
          "2019-01",
          "2019-02",
          "2019-03",
          "2019-04",
          "2019-05",
          "2019-06",
          "2019-07",
          "2019-08",
          "2019-09",
          "2019-10"
         ],
         "yaxis": "y"
        }
       ],
       "layout": {
        "barmode": "relative",
        "coloraxis": {
         "colorbar": {
          "title": {
           "text": "revenue"
          }
         },
         "colorscale": [
          [
           0,
           "#0d0887"
          ],
          [
           0.1111111111111111,
           "#46039f"
          ],
          [
           0.2222222222222222,
           "#7201a8"
          ],
          [
           0.3333333333333333,
           "#9c179e"
          ],
          [
           0.4444444444444444,
           "#bd3786"
          ],
          [
           0.5555555555555556,
           "#d8576b"
          ],
          [
           0.6666666666666666,
           "#ed7953"
          ],
          [
           0.7777777777777778,
           "#fb9f3a"
          ],
          [
           0.8888888888888888,
           "#fdca26"
          ],
          [
           1,
           "#f0f921"
          ]
         ]
        },
        "height": 600,
        "legend": {
         "tracegroupgap": 0
        },
        "margin": {
         "t": 60
        },
        "template": {
         "data": {
          "bar": [
           {
            "error_x": {
             "color": "#2a3f5f"
            },
            "error_y": {
             "color": "#2a3f5f"
            },
            "marker": {
             "line": {
              "color": "#E5ECF6",
              "width": 0.5
             },
             "pattern": {
              "fillmode": "overlay",
              "size": 10,
              "solidity": 0.2
             }
            },
            "type": "bar"
           }
          ],
          "barpolar": [
           {
            "marker": {
             "line": {
              "color": "#E5ECF6",
              "width": 0.5
             },
             "pattern": {
              "fillmode": "overlay",
              "size": 10,
              "solidity": 0.2
             }
            },
            "type": "barpolar"
           }
          ],
          "carpet": [
           {
            "aaxis": {
             "endlinecolor": "#2a3f5f",
             "gridcolor": "white",
             "linecolor": "white",
             "minorgridcolor": "white",
             "startlinecolor": "#2a3f5f"
            },
            "baxis": {
             "endlinecolor": "#2a3f5f",
             "gridcolor": "white",
             "linecolor": "white",
             "minorgridcolor": "white",
             "startlinecolor": "#2a3f5f"
            },
            "type": "carpet"
           }
          ],
          "choropleth": [
           {
            "colorbar": {
             "outlinewidth": 0,
             "ticks": ""
            },
            "type": "choropleth"
           }
          ],
          "contour": [
           {
            "colorbar": {
             "outlinewidth": 0,
             "ticks": ""
            },
            "colorscale": [
             [
              0,
              "#0d0887"
             ],
             [
              0.1111111111111111,
              "#46039f"
             ],
             [
              0.2222222222222222,
              "#7201a8"
             ],
             [
              0.3333333333333333,
              "#9c179e"
             ],
             [
              0.4444444444444444,
              "#bd3786"
             ],
             [
              0.5555555555555556,
              "#d8576b"
             ],
             [
              0.6666666666666666,
              "#ed7953"
             ],
             [
              0.7777777777777778,
              "#fb9f3a"
             ],
             [
              0.8888888888888888,
              "#fdca26"
             ],
             [
              1,
              "#f0f921"
             ]
            ],
            "type": "contour"
           }
          ],
          "contourcarpet": [
           {
            "colorbar": {
             "outlinewidth": 0,
             "ticks": ""
            },
            "type": "contourcarpet"
           }
          ],
          "heatmap": [
           {
            "colorbar": {
             "outlinewidth": 0,
             "ticks": ""
            },
            "colorscale": [
             [
              0,
              "#0d0887"
             ],
             [
              0.1111111111111111,
              "#46039f"
             ],
             [
              0.2222222222222222,
              "#7201a8"
             ],
             [
              0.3333333333333333,
              "#9c179e"
             ],
             [
              0.4444444444444444,
              "#bd3786"
             ],
             [
              0.5555555555555556,
              "#d8576b"
             ],
             [
              0.6666666666666666,
              "#ed7953"
             ],
             [
              0.7777777777777778,
              "#fb9f3a"
             ],
             [
              0.8888888888888888,
              "#fdca26"
             ],
             [
              1,
              "#f0f921"
             ]
            ],
            "type": "heatmap"
           }
          ],
          "heatmapgl": [
           {
            "colorbar": {
             "outlinewidth": 0,
             "ticks": ""
            },
            "colorscale": [
             [
              0,
              "#0d0887"
             ],
             [
              0.1111111111111111,
              "#46039f"
             ],
             [
              0.2222222222222222,
              "#7201a8"
             ],
             [
              0.3333333333333333,
              "#9c179e"
             ],
             [
              0.4444444444444444,
              "#bd3786"
             ],
             [
              0.5555555555555556,
              "#d8576b"
             ],
             [
              0.6666666666666666,
              "#ed7953"
             ],
             [
              0.7777777777777778,
              "#fb9f3a"
             ],
             [
              0.8888888888888888,
              "#fdca26"
             ],
             [
              1,
              "#f0f921"
             ]
            ],
            "type": "heatmapgl"
           }
          ],
          "histogram": [
           {
            "marker": {
             "pattern": {
              "fillmode": "overlay",
              "size": 10,
              "solidity": 0.2
             }
            },
            "type": "histogram"
           }
          ],
          "histogram2d": [
           {
            "colorbar": {
             "outlinewidth": 0,
             "ticks": ""
            },
            "colorscale": [
             [
              0,
              "#0d0887"
             ],
             [
              0.1111111111111111,
              "#46039f"
             ],
             [
              0.2222222222222222,
              "#7201a8"
             ],
             [
              0.3333333333333333,
              "#9c179e"
             ],
             [
              0.4444444444444444,
              "#bd3786"
             ],
             [
              0.5555555555555556,
              "#d8576b"
             ],
             [
              0.6666666666666666,
              "#ed7953"
             ],
             [
              0.7777777777777778,
              "#fb9f3a"
             ],
             [
              0.8888888888888888,
              "#fdca26"
             ],
             [
              1,
              "#f0f921"
             ]
            ],
            "type": "histogram2d"
           }
          ],
          "histogram2dcontour": [
           {
            "colorbar": {
             "outlinewidth": 0,
             "ticks": ""
            },
            "colorscale": [
             [
              0,
              "#0d0887"
             ],
             [
              0.1111111111111111,
              "#46039f"
             ],
             [
              0.2222222222222222,
              "#7201a8"
             ],
             [
              0.3333333333333333,
              "#9c179e"
             ],
             [
              0.4444444444444444,
              "#bd3786"
             ],
             [
              0.5555555555555556,
              "#d8576b"
             ],
             [
              0.6666666666666666,
              "#ed7953"
             ],
             [
              0.7777777777777778,
              "#fb9f3a"
             ],
             [
              0.8888888888888888,
              "#fdca26"
             ],
             [
              1,
              "#f0f921"
             ]
            ],
            "type": "histogram2dcontour"
           }
          ],
          "mesh3d": [
           {
            "colorbar": {
             "outlinewidth": 0,
             "ticks": ""
            },
            "type": "mesh3d"
           }
          ],
          "parcoords": [
           {
            "line": {
             "colorbar": {
              "outlinewidth": 0,
              "ticks": ""
             }
            },
            "type": "parcoords"
           }
          ],
          "pie": [
           {
            "automargin": true,
            "type": "pie"
           }
          ],
          "scatter": [
           {
            "marker": {
             "colorbar": {
              "outlinewidth": 0,
              "ticks": ""
             }
            },
            "type": "scatter"
           }
          ],
          "scatter3d": [
           {
            "line": {
             "colorbar": {
              "outlinewidth": 0,
              "ticks": ""
             }
            },
            "marker": {
             "colorbar": {
              "outlinewidth": 0,
              "ticks": ""
             }
            },
            "type": "scatter3d"
           }
          ],
          "scattercarpet": [
           {
            "marker": {
             "colorbar": {
              "outlinewidth": 0,
              "ticks": ""
             }
            },
            "type": "scattercarpet"
           }
          ],
          "scattergeo": [
           {
            "marker": {
             "colorbar": {
              "outlinewidth": 0,
              "ticks": ""
             }
            },
            "type": "scattergeo"
           }
          ],
          "scattergl": [
           {
            "marker": {
             "colorbar": {
              "outlinewidth": 0,
              "ticks": ""
             }
            },
            "type": "scattergl"
           }
          ],
          "scattermapbox": [
           {
            "marker": {
             "colorbar": {
              "outlinewidth": 0,
              "ticks": ""
             }
            },
            "type": "scattermapbox"
           }
          ],
          "scatterpolar": [
           {
            "marker": {
             "colorbar": {
              "outlinewidth": 0,
              "ticks": ""
             }
            },
            "type": "scatterpolar"
           }
          ],
          "scatterpolargl": [
           {
            "marker": {
             "colorbar": {
              "outlinewidth": 0,
              "ticks": ""
             }
            },
            "type": "scatterpolargl"
           }
          ],
          "scatterternary": [
           {
            "marker": {
             "colorbar": {
              "outlinewidth": 0,
              "ticks": ""
             }
            },
            "type": "scatterternary"
           }
          ],
          "surface": [
           {
            "colorbar": {
             "outlinewidth": 0,
             "ticks": ""
            },
            "colorscale": [
             [
              0,
              "#0d0887"
             ],
             [
              0.1111111111111111,
              "#46039f"
             ],
             [
              0.2222222222222222,
              "#7201a8"
             ],
             [
              0.3333333333333333,
              "#9c179e"
             ],
             [
              0.4444444444444444,
              "#bd3786"
             ],
             [
              0.5555555555555556,
              "#d8576b"
             ],
             [
              0.6666666666666666,
              "#ed7953"
             ],
             [
              0.7777777777777778,
              "#fb9f3a"
             ],
             [
              0.8888888888888888,
              "#fdca26"
             ],
             [
              1,
              "#f0f921"
             ]
            ],
            "type": "surface"
           }
          ],
          "table": [
           {
            "cells": {
             "fill": {
              "color": "#EBF0F8"
             },
             "line": {
              "color": "white"
             }
            },
            "header": {
             "fill": {
              "color": "#C8D4E3"
             },
             "line": {
              "color": "white"
             }
            },
            "type": "table"
           }
          ]
         },
         "layout": {
          "annotationdefaults": {
           "arrowcolor": "#2a3f5f",
           "arrowhead": 0,
           "arrowwidth": 1
          },
          "autotypenumbers": "strict",
          "coloraxis": {
           "colorbar": {
            "outlinewidth": 0,
            "ticks": ""
           }
          },
          "colorscale": {
           "diverging": [
            [
             0,
             "#8e0152"
            ],
            [
             0.1,
             "#c51b7d"
            ],
            [
             0.2,
             "#de77ae"
            ],
            [
             0.3,
             "#f1b6da"
            ],
            [
             0.4,
             "#fde0ef"
            ],
            [
             0.5,
             "#f7f7f7"
            ],
            [
             0.6,
             "#e6f5d0"
            ],
            [
             0.7,
             "#b8e186"
            ],
            [
             0.8,
             "#7fbc41"
            ],
            [
             0.9,
             "#4d9221"
            ],
            [
             1,
             "#276419"
            ]
           ],
           "sequential": [
            [
             0,
             "#0d0887"
            ],
            [
             0.1111111111111111,
             "#46039f"
            ],
            [
             0.2222222222222222,
             "#7201a8"
            ],
            [
             0.3333333333333333,
             "#9c179e"
            ],
            [
             0.4444444444444444,
             "#bd3786"
            ],
            [
             0.5555555555555556,
             "#d8576b"
            ],
            [
             0.6666666666666666,
             "#ed7953"
            ],
            [
             0.7777777777777778,
             "#fb9f3a"
            ],
            [
             0.8888888888888888,
             "#fdca26"
            ],
            [
             1,
             "#f0f921"
            ]
           ],
           "sequentialminus": [
            [
             0,
             "#0d0887"
            ],
            [
             0.1111111111111111,
             "#46039f"
            ],
            [
             0.2222222222222222,
             "#7201a8"
            ],
            [
             0.3333333333333333,
             "#9c179e"
            ],
            [
             0.4444444444444444,
             "#bd3786"
            ],
            [
             0.5555555555555556,
             "#d8576b"
            ],
            [
             0.6666666666666666,
             "#ed7953"
            ],
            [
             0.7777777777777778,
             "#fb9f3a"
            ],
            [
             0.8888888888888888,
             "#fdca26"
            ],
            [
             1,
             "#f0f921"
            ]
           ]
          },
          "colorway": [
           "#636efa",
           "#EF553B",
           "#00cc96",
           "#ab63fa",
           "#FFA15A",
           "#19d3f3",
           "#FF6692",
           "#B6E880",
           "#FF97FF",
           "#FECB52"
          ],
          "font": {
           "color": "#2a3f5f"
          },
          "geo": {
           "bgcolor": "white",
           "lakecolor": "white",
           "landcolor": "#E5ECF6",
           "showlakes": true,
           "showland": true,
           "subunitcolor": "white"
          },
          "hoverlabel": {
           "align": "left"
          },
          "hovermode": "closest",
          "mapbox": {
           "style": "light"
          },
          "paper_bgcolor": "white",
          "plot_bgcolor": "#E5ECF6",
          "polar": {
           "angularaxis": {
            "gridcolor": "white",
            "linecolor": "white",
            "ticks": ""
           },
           "bgcolor": "#E5ECF6",
           "radialaxis": {
            "gridcolor": "white",
            "linecolor": "white",
            "ticks": ""
           }
          },
          "scene": {
           "xaxis": {
            "backgroundcolor": "#E5ECF6",
            "gridcolor": "white",
            "gridwidth": 2,
            "linecolor": "white",
            "showbackground": true,
            "ticks": "",
            "zerolinecolor": "white"
           },
           "yaxis": {
            "backgroundcolor": "#E5ECF6",
            "gridcolor": "white",
            "gridwidth": 2,
            "linecolor": "white",
            "showbackground": true,
            "ticks": "",
            "zerolinecolor": "white"
           },
           "zaxis": {
            "backgroundcolor": "#E5ECF6",
            "gridcolor": "white",
            "gridwidth": 2,
            "linecolor": "white",
            "showbackground": true,
            "ticks": "",
            "zerolinecolor": "white"
           }
          },
          "shapedefaults": {
           "line": {
            "color": "#2a3f5f"
           }
          },
          "ternary": {
           "aaxis": {
            "gridcolor": "white",
            "linecolor": "white",
            "ticks": ""
           },
           "baxis": {
            "gridcolor": "white",
            "linecolor": "white",
            "ticks": ""
           },
           "bgcolor": "#E5ECF6",
           "caxis": {
            "gridcolor": "white",
            "linecolor": "white",
            "ticks": ""
           }
          },
          "title": {
           "x": 0.05
          },
          "xaxis": {
           "automargin": true,
           "gridcolor": "white",
           "linecolor": "white",
           "ticks": "",
           "title": {
            "standoff": 15
           },
           "zerolinecolor": "white",
           "zerolinewidth": 2
          },
          "yaxis": {
           "automargin": true,
           "gridcolor": "white",
           "linecolor": "white",
           "ticks": "",
           "title": {
            "standoff": 15
           },
           "zerolinecolor": "white",
           "zerolinewidth": 2
          }
         }
        },
        "title": {
         "text": "Общие суммы покупок по месяцам",
         "x": 0.5
        },
        "width": 700,
        "xaxis": {
         "anchor": "y",
         "domain": [
          0,
          1
         ],
         "title": {
          "text": "Cуммы покупок, у.е."
         }
        },
        "yaxis": {
         "anchor": "x",
         "domain": [
          0,
          1
         ],
         "title": {
          "text": "Месяцы"
         }
        }
       }
      }
     },
     "metadata": {},
     "output_type": "display_data"
    },
    {
     "name": "stdout",
     "output_type": "stream",
     "text": [
      "У кластера \"3\" по общей сумме покупок лидирует месяц - \"2019-02\" на 29362.0 у.е., убыточный месяц \"2019-08\" на 3928.0 у.е.\n",
      "------------------------------------------------------\n",
      "\n"
     ]
    }
   ],
   "source": [
    "#Посмотрим распределение количества покупок по месяцам в каждом кластере\n",
    "def clusterer_month(cluster):\n",
    "        data = (df.query('cluster_km == @cluster')\n",
    "            .groupby('month')\n",
    "            .agg({'revenue': 'sum'})\n",
    "            .reset_index())\n",
    "        print(f'\\nВ КЛАСТЕРЕ \"{cluster}\"')\n",
    "        fig = px.bar(data, y='month', x='revenue', color_discrete_sequence=px.colors.qualitative.G10,\n",
    "             color='revenue', width=700, height=600, text='revenue')\n",
    "        #fig.update_xaxes(tickangle=30)\n",
    "        fig.update_layout(title='Общие суммы покупок по месяцам', title_x=0.5,\n",
    "                  xaxis_title ='Cуммы покупок, у.е.', yaxis_title='Месяцы')\n",
    "        fig.show()\n",
    "        print('У кластера \"{}\" по общей сумме покупок лидирует месяц - \"{}\" на {} у.е., убыточный месяц \"{}\" на {} у.е.'\n",
    "                  .format(cluster, data.iloc[data['revenue'].idxmax()]['month'], data['revenue'].max(), \n",
    "                          data.iloc[data['revenue'].idxmin()]['month'], data['revenue'].min(),))\n",
    "        print('------------------------------------------------------\\n')\n",
    "\n",
    "clusterer_month(0)\n",
    "clusterer_month(1)\n",
    "clusterer_month(2)\n",
    "clusterer_month(3)"
   ]
  },
  {
   "cell_type": "markdown",
   "metadata": {},
   "source": [
    "## Проверка гипотез\n"
   ]
  },
  {
   "cell_type": "markdown",
   "metadata": {},
   "source": [
    "### Первая гипотеза\n",
    "Нулевая гипотеза: `между кластерами Есть статистическая значимая разница по количеству товара`\n",
    "\n",
    "Альтернативная: `между кластерами Нет статистически значимой разницы по количеству товара`"
   ]
  },
  {
   "cell_type": "code",
   "execution_count": 25,
   "metadata": {
    "scrolled": true
   },
   "outputs": [
    {
     "name": "stdout",
     "output_type": "stream",
     "text": [
      "Между кластерами 0 и 1, p-value: 0.027- ЕСТЬ стат. значимая разница по количеству товара\n",
      "\n",
      "\n",
      "Между кластерами 0 и 2, p-value: 0.76- НЕТ стат. значимой разницы- разбивка прошла НЕ корректно\n",
      "\n",
      "\n",
      "Между кластерами 0 и 3, p-value: 0.0- ЕСТЬ стат. значимая разница по количеству товара\n",
      "\n",
      "\n",
      "Между кластерами 1 и 2, p-value: 0.199- НЕТ стат. значимой разницы- разбивка прошла НЕ корректно\n",
      "\n",
      "\n",
      "Между кластерами 1 и 3, p-value: 0.0- ЕСТЬ стат. значимая разница по количеству товара\n",
      "\n",
      "\n",
      "Между кластерами 2 и 3, p-value: 0.0- ЕСТЬ стат. значимая разница по количеству товара\n",
      "\n",
      "\n"
     ]
    }
   ],
   "source": [
    "# Применим непараметрический тест Уилкоксона-Манна-Уитни для проверки стат.значимости различия в размере групп по количеству товара\n",
    "def test_cluster(cluster1, cluster2):\n",
    "    results = st.mannwhitneyu(df_customer[df_customer['cluster_km']==cluster1]['quantity'], \n",
    "                              df_customer[df_customer['cluster_km']==cluster2]['quantity'])\n",
    "    alpha = 0.05 # критический уровень статистической значимости\n",
    "    #print('P-value:{0:.4f}'.format(results.pvalue))\n",
    "    if results.pvalue < alpha:\n",
    "        print(f'Между кластерами {cluster1} и {cluster2}, p-value: {results.pvalue.round(3)}- ЕСТЬ стат. значимая разница по количеству товара\\n')\n",
    "    else:\n",
    "        print(f'Между кластерами {cluster1} и {cluster2}, p-value: {results.pvalue.round(3)}- НЕТ стат. значимой разницы- разбивка прошла НЕ корректно\\n')\n",
    "    print('')\n",
    "test_cluster(0, 1)\n",
    "test_cluster(0, 2)\n",
    "test_cluster(0, 3)\n",
    "test_cluster(1, 2)\n",
    "test_cluster(1, 3)\n",
    "test_cluster(2, 3)\n"
   ]
  },
  {
   "cell_type": "markdown",
   "metadata": {},
   "source": [
    "По количеству товара, между кластерами 0-2 и 1-2 нет статистически значимой разницы- разбивка прошла не корректно."
   ]
  },
  {
   "cell_type": "markdown",
   "metadata": {},
   "source": [
    "### Гипотеза вторая\n",
    "Нулевая гипотеза: `между кластерами Есть статистическая значимая разница по общей стоимости`\n",
    "\n",
    "Альтернативная: `между кластерами Нет статистически значимой разницы по общей стоимости`"
   ]
  },
  {
   "cell_type": "code",
   "execution_count": 26,
   "metadata": {},
   "outputs": [
    {
     "name": "stdout",
     "output_type": "stream",
     "text": [
      "Между кластерами 0 и 1, p-value: 0.0-  ЕСТЬ стат. значимая разница по общей стоимости\n",
      "\n",
      "\n",
      "Между кластерами 0 и 2, p-value: 0.0-  ЕСТЬ стат. значимая разница по общей стоимости\n",
      "\n",
      "\n",
      "Между кластерами 0 и 3, p-value: 0.0-  ЕСТЬ стат. значимая разница по общей стоимости\n",
      "\n",
      "\n",
      "Между кластерами 1 и 2, p-value: 0.0-  ЕСТЬ стат. значимая разница по общей стоимости\n",
      "\n",
      "\n",
      "Между кластерами 1 и 3, p-value: 0.0-  ЕСТЬ стат. значимая разница по общей стоимости\n",
      "\n",
      "\n",
      "Между кластерами 2 и 3, p-value: 0.0-  ЕСТЬ стат. значимая разница по общей стоимости\n",
      "\n",
      "\n"
     ]
    }
   ],
   "source": [
    "# Применим непараметрический тест Уилкоксона-Манна-Уитни для проверки стат.значимости различия в размере групп по общей стоимости\n",
    "def test_cluster(cluster1, cluster2):\n",
    "    results = st.mannwhitneyu(df_customer[df_customer['cluster_km']==cluster1]['revenue'], \n",
    "                              df_customer[df_customer['cluster_km']==cluster2]['revenue'])\n",
    "    alpha = 0.05 # критический уровень статистической значимости\n",
    "    if results.pvalue < alpha:\n",
    "        print(f'Между кластерами {cluster1} и {cluster2}, p-value: {results.pvalue.round(3)}-  ЕСТЬ стат. значимая разница по общей стоимости\\n')\n",
    "    else:\n",
    "        print(f'Между кластерами {cluster1} и {cluster2}, p-value: {results.pvalue.round(3)}-  НЕТ стат. значимой разницы- разбивка прошла НЕ корректно\\n')\n",
    "    print('')\n",
    "test_cluster(0, 1)\n",
    "test_cluster(0, 2)\n",
    "test_cluster(0, 3)\n",
    "test_cluster(1, 2)\n",
    "test_cluster(1, 3)\n",
    "test_cluster(2, 3)"
   ]
  },
  {
   "cell_type": "markdown",
   "metadata": {},
   "source": [
    "При проверке размера групп по общей стоимости у всех есть статистическая значимая разница. Разбивка прошла корректно."
   ]
  },
  {
   "cell_type": "markdown",
   "metadata": {},
   "source": [
    "## Выводы по исследованию:\n",
    "\n",
    "**1) Сегментация покупок**\n",
    "- разделили товары на категории\n",
    "- По сумме продаж лидирует категория - \"товары для дома\" на 919143.0 у.е., на втором месте- \"сумки\" на 599412.0 у.е., минимум у категории \"бытовая химия\" на 23982.0 у.е.\n",
    "- По количеству продаж лидирует категория - \"декор\" на 1381 шт., на втором месте- \"товары для дома\" на 1263 шт., минимум у категории \"бытовая химия\" на 76 шт.\n",
    "\n",
    "**2) Разбили покупателей по кластерам, средние значения данных:**\n",
    "- 0 кластер:\n",
    "    * цена -580.7,\n",
    "    * количество товара - 1.4,\n",
    "    * количество заказов - 1,\n",
    "    * выручка - 724.7\n",
    "- 1 кластер:\n",
    "    * цена товара максимальная - 3725.5,\n",
    "    * количество товара - 1.4,\n",
    "    * количество заказов - 1,\n",
    "    * выручка - 5144.7\n",
    "- 2 кластер:\n",
    "    * цена - 1056.9,\n",
    "    * количество товара - 2.5,\n",
    "    * количество заказов - 23,\n",
    "    * выручка - 34442.5\n",
    "- 3 кластер:\n",
    "    * минимальная цена товара - 110,\n",
    "    * количество товара - 11.7,\n",
    "    * количество заказов - 1.2,\n",
    "    * выручка - 1386.6\n",
    "\n",
    "**3) Сегментация покупателей по кластерам**\n",
    "\n",
    "По суммам покупок убыточная категория \"бытовая химия\" у всех кластеров. \n",
    "\n",
    "По общей сумме покупок:\n",
    "\n",
    "    - У кластера \"0\" лидирует категория - \"декор\" и \"товары для дома\". Пик продаж в декабре 2018.\n",
    "    - У кластера \"1\" лидирует категория - \"товары для дома\" и \"сумки\". Пик продаж в апреле.\n",
    "    - У кластера \"2\" лидирует категория - \"товары для дома\" и \"декор\". Пик продаж в июле, октябре, январе.\n",
    "    - У кластера \"3\" лидирует категория - \"товары для дома\" и \"декор\". Пик продаж в феврале.\n",
    "\n",
    "**4) Проверили гипотезы:**\n",
    "\n",
    "    - 1- По количеству товара, нулевая гипотеза не подтвердилась- между кластерами 0-2 и 1-2 нет статистически значимой разницы\n",
    "    - 2- При проверке размера групп по общей стоимости, нулевая гипотеза подтвердилась-  у всех есть статистическая значимая разница. Разбивка прошла корректно."
   ]
  },
  {
   "cell_type": "markdown",
   "metadata": {},
   "source": [
    "**Рекомендации:**\n",
    "\n",
    "- 1- `Группе клиентов кластера \"0\" и \"2\"` можно дать рекламу в сезонные празники для категорий \"декор\" и \"посуда и бытовая техника\", для увеличения продаж в этих категориях, не только в успешно продающем \"товары для дома\". \n",
    "- 2- `Группе клиентов кластера \"1\"`- \"товары для дома\", \"сумки\" и \"декор\" успешно продаются только в апреле. Рекомендуется давать периодическую рассылку раз в месяц для увеличения продаж в другие месяцы.\n",
    "- 3- `Группе клиентов кластера \"3\"` \"товары для дома\" и \"декор\" хорошо продаются на праздники. Нужна реклама на сезонную распродажу. Эта группа предпочитает дешевую продукцию.\n",
    "- 4- Как по суммам, так и по количеству продаж категория товаров- \"бытовая химия\"- самая не выгодная. \n",
    "Предлагаю удалить эти товары с продажи."
   ]
  },
  {
   "cell_type": "code",
   "execution_count": null,
   "metadata": {},
   "outputs": [],
   "source": [
    "# Для дашборда сохраним отредактированный файл.\n",
    "df.to_csv('df.csv', sep='\\t', encoding='utf-8', index=False)"
   ]
  }
 ],
 "metadata": {
  "ExecuteTimeLog": [
   {
    "duration": 364,
    "start_time": "2022-07-18T08:46:57.192Z"
   },
   {
    "duration": 1648,
    "start_time": "2022-07-18T08:46:57.558Z"
   },
   {
    "duration": 44,
    "start_time": "2022-07-18T08:46:59.208Z"
   },
   {
    "duration": 41,
    "start_time": "2022-07-18T08:46:59.255Z"
   },
   {
    "duration": 29,
    "start_time": "2022-07-18T08:47:43.111Z"
   },
   {
    "duration": 31,
    "start_time": "2022-07-18T08:47:56.703Z"
   },
   {
    "duration": 33,
    "start_time": "2022-07-18T08:48:21.785Z"
   },
   {
    "duration": 37,
    "start_time": "2022-07-18T08:49:15.634Z"
   },
   {
    "duration": 48,
    "start_time": "2022-07-18T08:52:46.309Z"
   },
   {
    "duration": 18,
    "start_time": "2022-07-18T08:56:38.319Z"
   },
   {
    "duration": 6,
    "start_time": "2022-07-18T09:13:30.200Z"
   },
   {
    "duration": 92,
    "start_time": "2022-07-18T09:18:54.947Z"
   },
   {
    "duration": 17,
    "start_time": "2022-07-18T09:19:09.259Z"
   },
   {
    "duration": 12,
    "start_time": "2022-07-18T09:20:33.489Z"
   },
   {
    "duration": 15,
    "start_time": "2022-07-18T09:20:57.669Z"
   },
   {
    "duration": 12,
    "start_time": "2022-07-18T09:26:19.278Z"
   },
   {
    "duration": 25,
    "start_time": "2022-07-18T09:27:17.964Z"
   },
   {
    "duration": 24,
    "start_time": "2022-07-18T09:27:36.090Z"
   },
   {
    "duration": 22,
    "start_time": "2022-07-18T09:27:43.461Z"
   },
   {
    "duration": 18,
    "start_time": "2022-07-18T09:27:48.101Z"
   },
   {
    "duration": 350,
    "start_time": "2022-07-18T09:27:56.474Z"
   },
   {
    "duration": 1824,
    "start_time": "2022-07-18T09:27:56.826Z"
   },
   {
    "duration": 36,
    "start_time": "2022-07-18T09:27:58.651Z"
   },
   {
    "duration": 42,
    "start_time": "2022-07-18T09:27:58.688Z"
   },
   {
    "duration": 28,
    "start_time": "2022-07-18T09:27:58.732Z"
   },
   {
    "duration": 20,
    "start_time": "2022-07-18T09:27:58.762Z"
   },
   {
    "duration": 16,
    "start_time": "2022-07-18T09:28:52.047Z"
   },
   {
    "duration": 28,
    "start_time": "2022-07-18T09:29:06.207Z"
   },
   {
    "duration": 39,
    "start_time": "2022-07-18T09:32:00.520Z"
   },
   {
    "duration": 36,
    "start_time": "2022-07-18T09:35:14.582Z"
   },
   {
    "duration": 11,
    "start_time": "2022-07-18T09:35:47.573Z"
   },
   {
    "duration": 14,
    "start_time": "2022-07-18T09:38:01.833Z"
   },
   {
    "duration": 13,
    "start_time": "2022-07-18T09:38:27.391Z"
   },
   {
    "duration": 6,
    "start_time": "2022-07-18T09:41:55.137Z"
   },
   {
    "duration": 383,
    "start_time": "2022-07-18T09:42:02.884Z"
   },
   {
    "duration": 1648,
    "start_time": "2022-07-18T09:42:03.272Z"
   },
   {
    "duration": 47,
    "start_time": "2022-07-18T09:42:04.922Z"
   },
   {
    "duration": 49,
    "start_time": "2022-07-18T09:42:04.972Z"
   },
   {
    "duration": 45,
    "start_time": "2022-07-18T09:42:05.023Z"
   },
   {
    "duration": 31,
    "start_time": "2022-07-18T09:42:05.070Z"
   },
   {
    "duration": 27,
    "start_time": "2022-07-18T09:42:05.103Z"
   },
   {
    "duration": 7,
    "start_time": "2022-07-18T09:42:52.155Z"
   },
   {
    "duration": 9,
    "start_time": "2022-07-18T09:43:22.134Z"
   },
   {
    "duration": 6,
    "start_time": "2022-07-18T09:43:50.875Z"
   },
   {
    "duration": 9,
    "start_time": "2022-07-18T09:45:05.002Z"
   },
   {
    "duration": 28,
    "start_time": "2022-07-18T09:46:19.070Z"
   },
   {
    "duration": 27,
    "start_time": "2022-07-18T09:46:41.797Z"
   },
   {
    "duration": 30,
    "start_time": "2022-07-18T09:46:53.147Z"
   },
   {
    "duration": 97,
    "start_time": "2022-07-18T09:54:31.933Z"
   },
   {
    "duration": 18,
    "start_time": "2022-07-18T09:54:56.942Z"
   },
   {
    "duration": 25,
    "start_time": "2022-07-18T09:58:33.142Z"
   },
   {
    "duration": 91,
    "start_time": "2022-07-18T10:01:08.589Z"
   },
   {
    "duration": 144,
    "start_time": "2022-07-18T10:01:44.444Z"
   },
   {
    "duration": 318,
    "start_time": "2022-07-18T10:02:07.318Z"
   },
   {
    "duration": 210,
    "start_time": "2022-07-18T10:02:18.714Z"
   },
   {
    "duration": 10,
    "start_time": "2022-07-18T10:03:08.476Z"
   },
   {
    "duration": 349,
    "start_time": "2022-07-18T10:03:14.767Z"
   },
   {
    "duration": 678,
    "start_time": "2022-07-18T10:03:39.168Z"
   },
   {
    "duration": 1626,
    "start_time": "2022-07-18T10:03:39.848Z"
   },
   {
    "duration": 32,
    "start_time": "2022-07-18T10:03:41.476Z"
   },
   {
    "duration": 69,
    "start_time": "2022-07-18T10:03:41.511Z"
   },
   {
    "duration": 17,
    "start_time": "2022-07-18T10:03:41.582Z"
   },
   {
    "duration": 272,
    "start_time": "2022-07-18T10:03:41.601Z"
   },
   {
    "duration": 28,
    "start_time": "2022-07-18T10:03:41.878Z"
   },
   {
    "duration": 275,
    "start_time": "2022-07-18T10:05:15.210Z"
   },
   {
    "duration": 377,
    "start_time": "2022-07-18T10:06:08.032Z"
   },
   {
    "duration": 331,
    "start_time": "2022-07-18T10:06:52.244Z"
   },
   {
    "duration": 344,
    "start_time": "2022-07-18T10:07:57.644Z"
   },
   {
    "duration": 300,
    "start_time": "2022-07-18T10:14:39.876Z"
   },
   {
    "duration": 271,
    "start_time": "2022-07-18T10:15:46.574Z"
   },
   {
    "duration": 391,
    "start_time": "2022-07-18T10:17:11.928Z"
   },
   {
    "duration": 431,
    "start_time": "2022-07-18T10:22:25.131Z"
   },
   {
    "duration": 293,
    "start_time": "2022-07-18T10:23:03.777Z"
   },
   {
    "duration": 341,
    "start_time": "2022-07-18T10:23:37.728Z"
   },
   {
    "duration": 290,
    "start_time": "2022-07-18T10:23:57.267Z"
   },
   {
    "duration": 24,
    "start_time": "2022-07-18T10:36:22.498Z"
   },
   {
    "duration": 24,
    "start_time": "2022-07-18T10:36:41.630Z"
   },
   {
    "duration": 21,
    "start_time": "2022-07-18T10:40:17.679Z"
   },
   {
    "duration": 28,
    "start_time": "2022-07-18T10:41:12.440Z"
   },
   {
    "duration": 82,
    "start_time": "2022-07-18T10:41:35.608Z"
   },
   {
    "duration": 69,
    "start_time": "2022-07-18T10:41:52.466Z"
   },
   {
    "duration": 35,
    "start_time": "2022-07-18T10:42:19.126Z"
   },
   {
    "duration": 35,
    "start_time": "2022-07-18T10:42:43.159Z"
   },
   {
    "duration": 26,
    "start_time": "2022-07-18T10:43:02.916Z"
   },
   {
    "duration": 43,
    "start_time": "2022-07-18T13:53:05.388Z"
   },
   {
    "duration": 935,
    "start_time": "2022-07-18T13:53:15.835Z"
   },
   {
    "duration": 1884,
    "start_time": "2022-07-18T13:53:16.772Z"
   },
   {
    "duration": 34,
    "start_time": "2022-07-18T13:53:18.657Z"
   },
   {
    "duration": 75,
    "start_time": "2022-07-18T13:53:18.693Z"
   },
   {
    "duration": 17,
    "start_time": "2022-07-18T13:53:18.770Z"
   },
   {
    "duration": 394,
    "start_time": "2022-07-18T13:53:18.789Z"
   },
   {
    "duration": 26,
    "start_time": "2022-07-18T13:53:19.184Z"
   },
   {
    "duration": 81,
    "start_time": "2022-07-18T13:53:19.211Z"
   },
   {
    "duration": 7,
    "start_time": "2022-07-18T13:53:31.461Z"
   },
   {
    "duration": 5,
    "start_time": "2022-07-18T13:57:30.029Z"
   },
   {
    "duration": 5,
    "start_time": "2022-07-18T14:02:07.533Z"
   },
   {
    "duration": 5,
    "start_time": "2022-07-18T14:02:20.871Z"
   },
   {
    "duration": 25,
    "start_time": "2022-07-18T14:02:27.441Z"
   },
   {
    "duration": 4,
    "start_time": "2022-07-18T14:02:30.834Z"
   },
   {
    "duration": 4,
    "start_time": "2022-07-18T14:03:57.520Z"
   },
   {
    "duration": 5,
    "start_time": "2022-07-18T14:04:00.613Z"
   },
   {
    "duration": 604,
    "start_time": "2022-07-18T14:04:29.533Z"
   },
   {
    "duration": 1681,
    "start_time": "2022-07-18T14:04:30.139Z"
   },
   {
    "duration": 24,
    "start_time": "2022-07-18T14:04:31.821Z"
   },
   {
    "duration": 42,
    "start_time": "2022-07-18T14:04:31.847Z"
   },
   {
    "duration": 15,
    "start_time": "2022-07-18T14:04:31.891Z"
   },
   {
    "duration": 327,
    "start_time": "2022-07-18T14:04:31.908Z"
   },
   {
    "duration": 35,
    "start_time": "2022-07-18T14:04:32.236Z"
   },
   {
    "duration": 5,
    "start_time": "2022-07-18T14:04:32.273Z"
   },
   {
    "duration": 104,
    "start_time": "2022-07-18T14:04:46.978Z"
   },
   {
    "duration": 3,
    "start_time": "2022-07-18T14:37:28.364Z"
   },
   {
    "duration": 81,
    "start_time": "2022-07-18T14:38:28.539Z"
   },
   {
    "duration": 299,
    "start_time": "2022-07-18T14:38:42.606Z"
   },
   {
    "duration": 7,
    "start_time": "2022-07-18T15:32:32.221Z"
   },
   {
    "duration": 77,
    "start_time": "2022-07-18T15:32:42.992Z"
   },
   {
    "duration": 1009,
    "start_time": "2022-07-19T07:46:59.619Z"
   },
   {
    "duration": 2719,
    "start_time": "2022-07-19T07:47:00.630Z"
   },
   {
    "duration": 30,
    "start_time": "2022-07-19T07:47:03.351Z"
   },
   {
    "duration": 81,
    "start_time": "2022-07-19T07:47:03.383Z"
   },
   {
    "duration": 40,
    "start_time": "2022-07-19T07:47:03.466Z"
   },
   {
    "duration": 401,
    "start_time": "2022-07-19T07:47:03.508Z"
   },
   {
    "duration": 45,
    "start_time": "2022-07-19T07:47:03.912Z"
   },
   {
    "duration": 173,
    "start_time": "2022-07-19T07:47:03.959Z"
   },
   {
    "duration": 119,
    "start_time": "2022-07-19T07:47:04.135Z"
   },
   {
    "duration": 46,
    "start_time": "2022-07-25T07:05:54.982Z"
   },
   {
    "duration": 2368,
    "start_time": "2022-07-25T07:05:59.896Z"
   },
   {
    "duration": 1556,
    "start_time": "2022-07-25T07:06:02.266Z"
   },
   {
    "duration": 27,
    "start_time": "2022-07-25T07:06:03.824Z"
   },
   {
    "duration": 52,
    "start_time": "2022-07-25T07:06:03.853Z"
   },
   {
    "duration": 17,
    "start_time": "2022-07-25T07:06:03.907Z"
   },
   {
    "duration": 382,
    "start_time": "2022-07-25T07:06:03.926Z"
   },
   {
    "duration": 32,
    "start_time": "2022-07-25T07:06:04.310Z"
   },
   {
    "duration": 19,
    "start_time": "2022-07-25T07:06:04.344Z"
   },
   {
    "duration": 210,
    "start_time": "2022-07-25T07:06:04.365Z"
   },
   {
    "duration": 530,
    "start_time": "2022-07-25T07:06:04.578Z"
   },
   {
    "duration": 152,
    "start_time": "2022-07-25T07:06:05.109Z"
   },
   {
    "duration": 29,
    "start_time": "2022-07-25T07:06:05.263Z"
   },
   {
    "duration": 87,
    "start_time": "2022-07-25T07:06:05.293Z"
   },
   {
    "duration": 341,
    "start_time": "2022-07-25T07:06:05.381Z"
   },
   {
    "duration": 401,
    "start_time": "2022-07-25T07:06:05.724Z"
   },
   {
    "duration": 13,
    "start_time": "2022-07-25T07:06:06.127Z"
   },
   {
    "duration": 65523,
    "start_time": "2022-07-25T07:06:06.142Z"
   },
   {
    "duration": 506,
    "start_time": "2022-07-25T07:07:11.667Z"
   },
   {
    "duration": 452,
    "start_time": "2022-07-25T07:07:12.260Z"
   },
   {
    "duration": 610,
    "start_time": "2022-07-25T07:07:12.713Z"
   },
   {
    "duration": 220,
    "start_time": "2022-07-25T07:07:13.324Z"
   },
   {
    "duration": 63,
    "start_time": "2022-07-25T07:07:13.546Z"
   },
   {
    "duration": 12,
    "start_time": "2022-07-25T07:07:13.611Z"
   },
   {
    "duration": 1761,
    "start_time": "2022-07-25T07:49:04.887Z"
   },
   {
    "duration": 1914,
    "start_time": "2022-07-25T07:49:06.650Z"
   },
   {
    "duration": 28,
    "start_time": "2022-07-25T07:49:08.565Z"
   },
   {
    "duration": 74,
    "start_time": "2022-07-25T07:49:08.595Z"
   },
   {
    "duration": 17,
    "start_time": "2022-07-25T07:49:08.670Z"
   },
   {
    "duration": 439,
    "start_time": "2022-07-25T07:49:08.688Z"
   },
   {
    "duration": 37,
    "start_time": "2022-07-25T07:49:09.133Z"
   },
   {
    "duration": 10,
    "start_time": "2022-07-25T07:49:09.172Z"
   },
   {
    "duration": 230,
    "start_time": "2022-07-25T07:49:09.184Z"
   },
   {
    "duration": 525,
    "start_time": "2022-07-25T07:49:09.416Z"
   },
   {
    "duration": 128,
    "start_time": "2022-07-25T07:49:09.943Z"
   },
   {
    "duration": 73,
    "start_time": "2022-07-25T07:49:10.073Z"
   },
   {
    "duration": 59,
    "start_time": "2022-07-25T07:49:10.148Z"
   },
   {
    "duration": 360,
    "start_time": "2022-07-25T07:49:10.209Z"
   },
   {
    "duration": 395,
    "start_time": "2022-07-25T07:49:10.571Z"
   },
   {
    "duration": 69725,
    "start_time": "2022-07-25T07:49:10.968Z"
   },
   {
    "duration": 448,
    "start_time": "2022-07-25T07:50:20.695Z"
   },
   {
    "duration": 473,
    "start_time": "2022-07-25T07:50:21.225Z"
   },
   {
    "duration": 692,
    "start_time": "2022-07-25T07:50:21.700Z"
   },
   {
    "duration": 244,
    "start_time": "2022-07-25T07:50:22.394Z"
   },
   {
    "duration": 59,
    "start_time": "2022-07-25T07:50:22.640Z"
   },
   {
    "duration": 14,
    "start_time": "2022-07-25T07:50:22.700Z"
   },
   {
    "duration": 9,
    "start_time": "2022-07-25T07:56:24.714Z"
   },
   {
    "duration": 6,
    "start_time": "2022-07-25T07:58:53.943Z"
   },
   {
    "duration": 8,
    "start_time": "2022-07-25T07:59:24.408Z"
   },
   {
    "duration": 171,
    "start_time": "2022-07-25T08:02:24.669Z"
   },
   {
    "duration": 7,
    "start_time": "2022-07-25T08:02:34.136Z"
   },
   {
    "duration": 11,
    "start_time": "2022-07-25T08:02:43.491Z"
   },
   {
    "duration": 15,
    "start_time": "2022-07-25T08:03:49.593Z"
   },
   {
    "duration": 20,
    "start_time": "2022-07-25T08:04:05.125Z"
   },
   {
    "duration": 10,
    "start_time": "2022-07-25T08:05:12.210Z"
   },
   {
    "duration": 20,
    "start_time": "2022-07-25T08:50:37.043Z"
   },
   {
    "duration": 23,
    "start_time": "2022-07-25T08:52:25.714Z"
   },
   {
    "duration": 33,
    "start_time": "2022-07-25T08:55:28.018Z"
   },
   {
    "duration": 1613,
    "start_time": "2022-07-25T08:56:24.503Z"
   },
   {
    "duration": 1487,
    "start_time": "2022-07-25T08:56:26.117Z"
   },
   {
    "duration": 38,
    "start_time": "2022-07-25T08:56:27.606Z"
   },
   {
    "duration": 53,
    "start_time": "2022-07-25T08:56:27.648Z"
   },
   {
    "duration": 16,
    "start_time": "2022-07-25T08:56:27.702Z"
   },
   {
    "duration": 366,
    "start_time": "2022-07-25T08:56:27.720Z"
   },
   {
    "duration": 44,
    "start_time": "2022-07-25T08:56:28.087Z"
   },
   {
    "duration": 19,
    "start_time": "2022-07-25T08:56:28.133Z"
   },
   {
    "duration": 14,
    "start_time": "2022-07-25T08:56:28.154Z"
   },
   {
    "duration": 12,
    "start_time": "2022-07-25T08:56:28.170Z"
   },
   {
    "duration": 259,
    "start_time": "2022-07-25T08:56:28.184Z"
   },
   {
    "duration": 519,
    "start_time": "2022-07-25T08:56:28.452Z"
   },
   {
    "duration": 152,
    "start_time": "2022-07-25T08:56:28.973Z"
   },
   {
    "duration": 40,
    "start_time": "2022-07-25T08:56:29.127Z"
   },
   {
    "duration": 87,
    "start_time": "2022-07-25T08:56:29.168Z"
   },
   {
    "duration": 355,
    "start_time": "2022-07-25T08:56:29.259Z"
   },
   {
    "duration": 371,
    "start_time": "2022-07-25T08:56:29.616Z"
   },
   {
    "duration": 68259,
    "start_time": "2022-07-25T08:56:29.989Z"
   },
   {
    "duration": 391,
    "start_time": "2022-07-25T08:57:38.249Z"
   },
   {
    "duration": 494,
    "start_time": "2022-07-25T08:57:38.723Z"
   },
   {
    "duration": 652,
    "start_time": "2022-07-25T08:57:39.219Z"
   },
   {
    "duration": 239,
    "start_time": "2022-07-25T08:57:39.873Z"
   },
   {
    "duration": 68,
    "start_time": "2022-07-25T08:57:40.114Z"
   },
   {
    "duration": 14,
    "start_time": "2022-07-25T08:57:40.183Z"
   },
   {
    "duration": 13,
    "start_time": "2022-07-25T08:57:55.462Z"
   },
   {
    "duration": 13,
    "start_time": "2022-07-25T08:59:10.641Z"
   },
   {
    "duration": 24,
    "start_time": "2022-07-25T09:10:16.165Z"
   },
   {
    "duration": 23,
    "start_time": "2022-07-25T09:11:48.939Z"
   },
   {
    "duration": 14,
    "start_time": "2022-07-25T09:13:08.496Z"
   },
   {
    "duration": 14,
    "start_time": "2022-07-25T09:13:28.341Z"
   },
   {
    "duration": 10,
    "start_time": "2022-07-25T09:27:00.859Z"
   },
   {
    "duration": 227,
    "start_time": "2022-07-25T09:28:03.981Z"
   },
   {
    "duration": 10,
    "start_time": "2022-07-25T09:28:05.361Z"
   },
   {
    "duration": 16,
    "start_time": "2022-07-25T09:28:31.317Z"
   },
   {
    "duration": 26,
    "start_time": "2022-07-25T10:02:51.044Z"
   },
   {
    "duration": 435,
    "start_time": "2022-07-25T11:13:11.999Z"
   },
   {
    "duration": 266,
    "start_time": "2022-07-25T11:14:32.600Z"
   },
   {
    "duration": 52,
    "start_time": "2022-07-25T11:15:33.289Z"
   },
   {
    "duration": 357,
    "start_time": "2022-07-25T11:15:39.652Z"
   },
   {
    "duration": 359,
    "start_time": "2022-07-25T11:20:33.098Z"
   },
   {
    "duration": 26,
    "start_time": "2022-07-25T11:21:55.473Z"
   },
   {
    "duration": 27,
    "start_time": "2022-07-25T11:22:11.743Z"
   },
   {
    "duration": 27,
    "start_time": "2022-07-25T11:22:45.223Z"
   },
   {
    "duration": 34,
    "start_time": "2022-07-25T11:22:52.012Z"
   },
   {
    "duration": 35,
    "start_time": "2022-07-25T11:23:31.193Z"
   },
   {
    "duration": 272,
    "start_time": "2022-07-25T11:24:21.714Z"
   },
   {
    "duration": 28,
    "start_time": "2022-07-25T11:24:32.358Z"
   },
   {
    "duration": 61,
    "start_time": "2022-07-25T11:25:15.245Z"
   },
   {
    "duration": 24,
    "start_time": "2022-07-25T11:25:24.271Z"
   },
   {
    "duration": 532,
    "start_time": "2022-07-25T11:26:51.476Z"
   },
   {
    "duration": 26,
    "start_time": "2022-07-25T11:29:59.860Z"
   },
   {
    "duration": 537,
    "start_time": "2022-07-25T11:30:07.576Z"
   },
   {
    "duration": 32,
    "start_time": "2022-07-25T11:30:30.303Z"
   },
   {
    "duration": 624,
    "start_time": "2022-07-25T11:30:34.110Z"
   },
   {
    "duration": 357,
    "start_time": "2022-07-25T11:33:12.460Z"
   },
   {
    "duration": 29,
    "start_time": "2022-07-25T11:39:39.862Z"
   },
   {
    "duration": 1230,
    "start_time": "2022-07-25T11:45:46.171Z"
   },
   {
    "duration": 63,
    "start_time": "2022-07-25T11:46:13.600Z"
   },
   {
    "duration": 57,
    "start_time": "2022-07-25T11:50:36.694Z"
   },
   {
    "duration": 512,
    "start_time": "2022-07-25T11:50:39.865Z"
   },
   {
    "duration": 70544,
    "start_time": "2022-07-25T11:53:09.963Z"
   },
   {
    "duration": 963,
    "start_time": "2022-07-25T11:58:34.970Z"
   },
   {
    "duration": 758,
    "start_time": "2022-07-25T11:58:47.977Z"
   },
   {
    "duration": 792,
    "start_time": "2022-07-25T12:03:12.543Z"
   },
   {
    "duration": 485,
    "start_time": "2022-07-25T12:05:28.753Z"
   },
   {
    "duration": 757,
    "start_time": "2022-07-25T12:14:46.752Z"
   },
   {
    "duration": 6379,
    "start_time": "2022-07-25T12:15:35.091Z"
   },
   {
    "duration": 1494,
    "start_time": "2022-07-25T12:17:08.260Z"
   },
   {
    "duration": 190,
    "start_time": "2022-07-25T12:27:01.802Z"
   },
   {
    "duration": 47,
    "start_time": "2022-07-25T12:28:30.555Z"
   },
   {
    "duration": 29,
    "start_time": "2022-07-25T12:29:19.965Z"
   },
   {
    "duration": 1576,
    "start_time": "2022-07-25T12:30:13.567Z"
   },
   {
    "duration": 1437,
    "start_time": "2022-07-25T12:30:15.145Z"
   },
   {
    "duration": 40,
    "start_time": "2022-07-25T12:30:16.584Z"
   },
   {
    "duration": 57,
    "start_time": "2022-07-25T12:30:16.628Z"
   },
   {
    "duration": 45,
    "start_time": "2022-07-25T12:30:16.687Z"
   },
   {
    "duration": 379,
    "start_time": "2022-07-25T12:30:16.734Z"
   },
   {
    "duration": 54,
    "start_time": "2022-07-25T12:30:17.116Z"
   },
   {
    "duration": 54,
    "start_time": "2022-07-25T12:30:17.173Z"
   },
   {
    "duration": 21,
    "start_time": "2022-07-25T12:30:17.229Z"
   },
   {
    "duration": 19,
    "start_time": "2022-07-25T12:30:17.254Z"
   },
   {
    "duration": 305,
    "start_time": "2022-07-25T12:30:17.276Z"
   },
   {
    "duration": 10,
    "start_time": "2022-07-25T12:30:17.584Z"
   },
   {
    "duration": 573,
    "start_time": "2022-07-25T12:30:17.596Z"
   },
   {
    "duration": 98,
    "start_time": "2022-07-25T12:30:18.171Z"
   },
   {
    "duration": 71,
    "start_time": "2022-07-25T12:30:18.271Z"
   },
   {
    "duration": 90,
    "start_time": "2022-07-25T12:30:18.344Z"
   },
   {
    "duration": 371,
    "start_time": "2022-07-25T12:30:18.439Z"
   },
   {
    "duration": 184,
    "start_time": "2022-07-25T12:30:18.823Z"
   },
   {
    "duration": 0,
    "start_time": "2022-07-25T12:30:19.008Z"
   },
   {
    "duration": 0,
    "start_time": "2022-07-25T12:30:19.010Z"
   },
   {
    "duration": 0,
    "start_time": "2022-07-25T12:30:19.011Z"
   },
   {
    "duration": 0,
    "start_time": "2022-07-25T12:30:19.027Z"
   },
   {
    "duration": 0,
    "start_time": "2022-07-25T12:30:19.031Z"
   },
   {
    "duration": 0,
    "start_time": "2022-07-25T12:30:19.032Z"
   },
   {
    "duration": 0,
    "start_time": "2022-07-25T12:30:19.033Z"
   },
   {
    "duration": 0,
    "start_time": "2022-07-25T12:30:19.039Z"
   },
   {
    "duration": 0,
    "start_time": "2022-07-25T12:30:19.041Z"
   },
   {
    "duration": 0,
    "start_time": "2022-07-25T12:30:19.043Z"
   },
   {
    "duration": 1583,
    "start_time": "2022-07-25T12:31:16.197Z"
   },
   {
    "duration": 1179,
    "start_time": "2022-07-25T12:31:17.782Z"
   },
   {
    "duration": 27,
    "start_time": "2022-07-25T12:31:18.963Z"
   },
   {
    "duration": 74,
    "start_time": "2022-07-25T12:31:18.992Z"
   },
   {
    "duration": 17,
    "start_time": "2022-07-25T12:31:19.068Z"
   },
   {
    "duration": 398,
    "start_time": "2022-07-25T12:31:19.086Z"
   },
   {
    "duration": 49,
    "start_time": "2022-07-25T12:31:19.485Z"
   },
   {
    "duration": 24,
    "start_time": "2022-07-25T12:31:19.536Z"
   },
   {
    "duration": 20,
    "start_time": "2022-07-25T12:31:19.562Z"
   },
   {
    "duration": 11,
    "start_time": "2022-07-25T12:31:19.585Z"
   },
   {
    "duration": 236,
    "start_time": "2022-07-25T12:31:19.597Z"
   },
   {
    "duration": 11,
    "start_time": "2022-07-25T12:31:19.835Z"
   },
   {
    "duration": 509,
    "start_time": "2022-07-25T12:31:19.847Z"
   },
   {
    "duration": 112,
    "start_time": "2022-07-25T12:31:20.358Z"
   },
   {
    "duration": 69,
    "start_time": "2022-07-25T12:31:20.472Z"
   },
   {
    "duration": 60,
    "start_time": "2022-07-25T12:31:20.542Z"
   },
   {
    "duration": 366,
    "start_time": "2022-07-25T12:31:20.604Z"
   },
   {
    "duration": 685,
    "start_time": "2022-07-25T12:31:20.971Z"
   },
   {
    "duration": 69854,
    "start_time": "2022-07-25T12:31:21.658Z"
   },
   {
    "duration": 725,
    "start_time": "2022-07-25T12:32:31.514Z"
   },
   {
    "duration": 103,
    "start_time": "2022-07-25T12:32:32.247Z"
   },
   {
    "duration": 230,
    "start_time": "2022-07-25T12:32:32.352Z"
   },
   {
    "duration": 0,
    "start_time": "2022-07-25T12:32:32.584Z"
   },
   {
    "duration": 0,
    "start_time": "2022-07-25T12:32:32.586Z"
   },
   {
    "duration": 0,
    "start_time": "2022-07-25T12:32:32.587Z"
   },
   {
    "duration": 83,
    "start_time": "2022-07-25T12:34:04.814Z"
   },
   {
    "duration": 173,
    "start_time": "2022-07-25T12:34:29.323Z"
   },
   {
    "duration": 179,
    "start_time": "2022-07-25T12:40:09.545Z"
   },
   {
    "duration": 43,
    "start_time": "2022-07-25T12:43:27.425Z"
   },
   {
    "duration": 36,
    "start_time": "2022-07-25T12:44:29.889Z"
   },
   {
    "duration": 29,
    "start_time": "2022-07-25T12:45:19.627Z"
   },
   {
    "duration": 30,
    "start_time": "2022-07-25T12:45:47.721Z"
   },
   {
    "duration": 35,
    "start_time": "2022-07-25T12:46:47.014Z"
   },
   {
    "duration": 28,
    "start_time": "2022-07-25T12:48:16.564Z"
   },
   {
    "duration": 37,
    "start_time": "2022-07-25T12:52:15.878Z"
   },
   {
    "duration": 344,
    "start_time": "2022-07-25T12:54:04.568Z"
   },
   {
    "duration": 192,
    "start_time": "2022-07-25T12:55:29.664Z"
   },
   {
    "duration": 175,
    "start_time": "2022-07-25T12:56:43.885Z"
   },
   {
    "duration": 1585,
    "start_time": "2022-07-25T12:56:53.995Z"
   },
   {
    "duration": 1825,
    "start_time": "2022-07-25T12:56:55.582Z"
   },
   {
    "duration": 37,
    "start_time": "2022-07-25T12:56:57.409Z"
   },
   {
    "duration": 51,
    "start_time": "2022-07-25T12:56:57.448Z"
   },
   {
    "duration": 41,
    "start_time": "2022-07-25T12:56:57.501Z"
   },
   {
    "duration": 350,
    "start_time": "2022-07-25T12:56:57.544Z"
   },
   {
    "duration": 49,
    "start_time": "2022-07-25T12:56:57.896Z"
   },
   {
    "duration": 23,
    "start_time": "2022-07-25T12:56:57.947Z"
   },
   {
    "duration": 12,
    "start_time": "2022-07-25T12:56:57.971Z"
   },
   {
    "duration": 14,
    "start_time": "2022-07-25T12:56:57.985Z"
   },
   {
    "duration": 223,
    "start_time": "2022-07-25T12:56:58.025Z"
   },
   {
    "duration": 10,
    "start_time": "2022-07-25T12:56:58.250Z"
   },
   {
    "duration": 510,
    "start_time": "2022-07-25T12:56:58.262Z"
   },
   {
    "duration": 152,
    "start_time": "2022-07-25T12:56:58.775Z"
   },
   {
    "duration": 30,
    "start_time": "2022-07-25T12:56:58.929Z"
   },
   {
    "duration": 85,
    "start_time": "2022-07-25T12:56:58.961Z"
   },
   {
    "duration": 597,
    "start_time": "2022-07-25T12:56:59.047Z"
   },
   {
    "duration": 70122,
    "start_time": "2022-07-25T12:56:59.646Z"
   },
   {
    "duration": 456,
    "start_time": "2022-07-25T12:58:09.770Z"
   },
   {
    "duration": 24,
    "start_time": "2022-07-25T12:58:10.229Z"
   },
   {
    "duration": 197,
    "start_time": "2022-07-25T12:58:10.254Z"
   },
   {
    "duration": 194,
    "start_time": "2022-07-25T12:58:10.452Z"
   },
   {
    "duration": 236,
    "start_time": "2022-07-25T12:58:10.648Z"
   },
   {
    "duration": 76,
    "start_time": "2022-07-25T12:58:10.885Z"
   },
   {
    "duration": 14,
    "start_time": "2022-07-25T12:58:10.963Z"
   },
   {
    "duration": 158,
    "start_time": "2022-07-25T13:00:37.654Z"
   },
   {
    "duration": 183,
    "start_time": "2022-07-25T13:01:28.483Z"
   },
   {
    "duration": 181,
    "start_time": "2022-07-25T14:16:43.197Z"
   },
   {
    "duration": 1621,
    "start_time": "2022-07-25T14:31:10.994Z"
   },
   {
    "duration": 194,
    "start_time": "2022-07-25T14:31:34.308Z"
   },
   {
    "duration": 647,
    "start_time": "2022-07-25T14:33:09.785Z"
   },
   {
    "duration": 1524,
    "start_time": "2022-07-25T14:36:27.966Z"
   },
   {
    "duration": 1694,
    "start_time": "2022-07-25T14:36:29.492Z"
   },
   {
    "duration": 28,
    "start_time": "2022-07-25T14:36:31.188Z"
   },
   {
    "duration": 61,
    "start_time": "2022-07-25T14:36:31.217Z"
   },
   {
    "duration": 16,
    "start_time": "2022-07-25T14:36:31.280Z"
   },
   {
    "duration": 390,
    "start_time": "2022-07-25T14:36:31.298Z"
   },
   {
    "duration": 56,
    "start_time": "2022-07-25T14:36:31.689Z"
   },
   {
    "duration": 22,
    "start_time": "2022-07-25T14:36:31.746Z"
   },
   {
    "duration": 14,
    "start_time": "2022-07-25T14:36:31.770Z"
   },
   {
    "duration": 24,
    "start_time": "2022-07-25T14:36:31.785Z"
   },
   {
    "duration": 239,
    "start_time": "2022-07-25T14:36:31.811Z"
   },
   {
    "duration": 10,
    "start_time": "2022-07-25T14:36:32.052Z"
   },
   {
    "duration": 481,
    "start_time": "2022-07-25T14:36:32.063Z"
   },
   {
    "duration": 132,
    "start_time": "2022-07-25T14:36:32.547Z"
   },
   {
    "duration": 86,
    "start_time": "2022-07-25T14:36:32.681Z"
   },
   {
    "duration": 89,
    "start_time": "2022-07-25T14:36:32.769Z"
   },
   {
    "duration": 611,
    "start_time": "2022-07-25T14:36:32.860Z"
   },
   {
    "duration": 73934,
    "start_time": "2022-07-25T14:36:33.472Z"
   },
   {
    "duration": 635,
    "start_time": "2022-07-25T14:37:47.408Z"
   },
   {
    "duration": 104,
    "start_time": "2022-07-25T14:37:48.047Z"
   },
   {
    "duration": 188,
    "start_time": "2022-07-25T14:37:48.153Z"
   },
   {
    "duration": 203,
    "start_time": "2022-07-25T14:37:48.344Z"
   },
   {
    "duration": 195,
    "start_time": "2022-07-25T14:37:48.549Z"
   },
   {
    "duration": 245,
    "start_time": "2022-07-25T14:37:48.746Z"
   },
   {
    "duration": 77,
    "start_time": "2022-07-25T14:37:48.993Z"
   },
   {
    "duration": 16,
    "start_time": "2022-07-25T14:37:49.072Z"
   },
   {
    "duration": 699,
    "start_time": "2022-07-25T14:40:50.959Z"
   },
   {
    "duration": 527,
    "start_time": "2022-07-25T14:41:33.506Z"
   },
   {
    "duration": 572,
    "start_time": "2022-07-25T14:42:26.879Z"
   },
   {
    "duration": 603,
    "start_time": "2022-07-25T14:50:37.200Z"
   },
   {
    "duration": 584,
    "start_time": "2022-07-25T14:50:50.921Z"
   },
   {
    "duration": 435,
    "start_time": "2022-07-25T14:54:08.648Z"
   },
   {
    "duration": 667,
    "start_time": "2022-07-25T14:54:42.470Z"
   },
   {
    "duration": 883,
    "start_time": "2022-07-25T14:55:30.713Z"
   },
   {
    "duration": 751,
    "start_time": "2022-07-25T14:56:22.752Z"
   },
   {
    "duration": 452,
    "start_time": "2022-07-25T14:56:36.422Z"
   },
   {
    "duration": 646,
    "start_time": "2022-07-25T14:56:46.957Z"
   },
   {
    "duration": 14,
    "start_time": "2022-07-25T14:59:12.842Z"
   },
   {
    "duration": 37,
    "start_time": "2022-07-25T15:00:13.381Z"
   },
   {
    "duration": 20,
    "start_time": "2022-07-25T15:00:22.578Z"
   },
   {
    "duration": 346,
    "start_time": "2022-07-25T15:05:00.833Z"
   },
   {
    "duration": 1494,
    "start_time": "2022-07-25T15:05:12.300Z"
   },
   {
    "duration": 1374,
    "start_time": "2022-07-25T15:05:13.796Z"
   },
   {
    "duration": 26,
    "start_time": "2022-07-25T15:05:15.172Z"
   },
   {
    "duration": 65,
    "start_time": "2022-07-25T15:05:15.200Z"
   },
   {
    "duration": 15,
    "start_time": "2022-07-25T15:05:15.267Z"
   },
   {
    "duration": 391,
    "start_time": "2022-07-25T15:05:15.284Z"
   },
   {
    "duration": 32,
    "start_time": "2022-07-25T15:05:15.677Z"
   },
   {
    "duration": 35,
    "start_time": "2022-07-25T15:05:15.710Z"
   },
   {
    "duration": 12,
    "start_time": "2022-07-25T15:05:15.747Z"
   },
   {
    "duration": 13,
    "start_time": "2022-07-25T15:05:15.762Z"
   },
   {
    "duration": 230,
    "start_time": "2022-07-25T15:05:15.776Z"
   },
   {
    "duration": 23,
    "start_time": "2022-07-25T15:05:16.008Z"
   },
   {
    "duration": 499,
    "start_time": "2022-07-25T15:05:16.033Z"
   },
   {
    "duration": 136,
    "start_time": "2022-07-25T15:05:16.539Z"
   },
   {
    "duration": 69,
    "start_time": "2022-07-25T15:05:16.677Z"
   },
   {
    "duration": 56,
    "start_time": "2022-07-25T15:05:16.748Z"
   },
   {
    "duration": 681,
    "start_time": "2022-07-25T15:05:16.806Z"
   },
   {
    "duration": 8389,
    "start_time": "2022-07-25T15:05:17.489Z"
   },
   {
    "duration": 0,
    "start_time": "2022-07-25T15:05:25.880Z"
   },
   {
    "duration": 0,
    "start_time": "2022-07-25T15:05:25.881Z"
   },
   {
    "duration": 0,
    "start_time": "2022-07-25T15:05:25.882Z"
   },
   {
    "duration": 0,
    "start_time": "2022-07-25T15:05:25.883Z"
   },
   {
    "duration": 0,
    "start_time": "2022-07-25T15:05:25.884Z"
   },
   {
    "duration": 0,
    "start_time": "2022-07-25T15:05:25.885Z"
   },
   {
    "duration": 0,
    "start_time": "2022-07-25T15:05:25.886Z"
   },
   {
    "duration": 0,
    "start_time": "2022-07-25T15:05:25.887Z"
   },
   {
    "duration": 0,
    "start_time": "2022-07-25T15:05:25.888Z"
   },
   {
    "duration": 552,
    "start_time": "2022-07-25T15:08:38.224Z"
   },
   {
    "duration": 5,
    "start_time": "2022-07-25T15:08:56.999Z"
   },
   {
    "duration": 1116,
    "start_time": "2022-07-25T15:08:58.590Z"
   },
   {
    "duration": 30,
    "start_time": "2022-07-25T15:09:04.134Z"
   },
   {
    "duration": 60,
    "start_time": "2022-07-25T15:09:09.022Z"
   },
   {
    "duration": 17,
    "start_time": "2022-07-25T15:09:14.888Z"
   },
   {
    "duration": 333,
    "start_time": "2022-07-25T15:09:17.656Z"
   },
   {
    "duration": 366,
    "start_time": "2022-07-25T15:13:54.342Z"
   },
   {
    "duration": 360,
    "start_time": "2022-07-25T15:14:15.802Z"
   },
   {
    "duration": 14,
    "start_time": "2022-07-25T15:14:36.587Z"
   },
   {
    "duration": 21,
    "start_time": "2022-07-25T15:14:53.857Z"
   },
   {
    "duration": 330,
    "start_time": "2022-07-25T15:15:39.445Z"
   },
   {
    "duration": 1566,
    "start_time": "2022-07-25T15:16:03.777Z"
   },
   {
    "duration": 30,
    "start_time": "2022-07-25T15:16:08.987Z"
   },
   {
    "duration": 56,
    "start_time": "2022-07-25T15:16:11.397Z"
   },
   {
    "duration": 19,
    "start_time": "2022-07-25T15:16:25.133Z"
   },
   {
    "duration": 313,
    "start_time": "2022-07-25T15:16:30.266Z"
   },
   {
    "duration": 1161,
    "start_time": "2022-07-25T15:25:48.152Z"
   },
   {
    "duration": 55865,
    "start_time": "2022-07-25T15:26:15.644Z"
   },
   {
    "duration": 0,
    "start_time": "2022-07-25T15:27:11.511Z"
   },
   {
    "duration": 20,
    "start_time": "2022-07-25T15:27:19.385Z"
   },
   {
    "duration": 15,
    "start_time": "2022-07-25T15:27:23.045Z"
   },
   {
    "duration": 16,
    "start_time": "2022-07-25T15:27:44.615Z"
   },
   {
    "duration": 0,
    "start_time": "2022-07-25T15:29:00.453Z"
   },
   {
    "duration": 15,
    "start_time": "2022-07-25T15:29:29.238Z"
   },
   {
    "duration": 3593,
    "start_time": "2022-07-25T15:29:55.722Z"
   },
   {
    "duration": 388,
    "start_time": "2022-07-25T15:31:42.783Z"
   },
   {
    "duration": 330,
    "start_time": "2022-07-25T15:37:59.097Z"
   },
   {
    "duration": 323,
    "start_time": "2022-07-25T15:38:10.688Z"
   },
   {
    "duration": 26,
    "start_time": "2022-07-25T15:38:59.815Z"
   },
   {
    "duration": 310,
    "start_time": "2022-07-25T15:39:04.476Z"
   },
   {
    "duration": 10,
    "start_time": "2022-07-25T15:41:48.525Z"
   },
   {
    "duration": 5,
    "start_time": "2022-07-25T15:42:07.189Z"
   },
   {
    "duration": 70,
    "start_time": "2022-07-25T15:45:23.272Z"
   },
   {
    "duration": 5,
    "start_time": "2022-07-25T15:46:06.914Z"
   },
   {
    "duration": 57,
    "start_time": "2022-07-25T15:46:31.003Z"
   },
   {
    "duration": 53,
    "start_time": "2022-07-25T15:47:29.161Z"
   },
   {
    "duration": 8,
    "start_time": "2022-07-25T15:50:36.652Z"
   },
   {
    "duration": 8,
    "start_time": "2022-07-25T15:51:38.965Z"
   },
   {
    "duration": 30,
    "start_time": "2022-07-25T15:52:19.065Z"
   },
   {
    "duration": 27,
    "start_time": "2022-07-25T15:52:33.744Z"
   },
   {
    "duration": 24,
    "start_time": "2022-07-25T15:57:12.386Z"
   },
   {
    "duration": 23,
    "start_time": "2022-07-25T16:00:24.874Z"
   },
   {
    "duration": 26,
    "start_time": "2022-07-25T16:00:37.674Z"
   },
   {
    "duration": 1366,
    "start_time": "2022-07-25T16:00:44.915Z"
   },
   {
    "duration": 29,
    "start_time": "2022-07-25T16:00:51.835Z"
   },
   {
    "duration": 53,
    "start_time": "2022-07-25T16:00:53.645Z"
   },
   {
    "duration": 17,
    "start_time": "2022-07-25T16:00:59.792Z"
   },
   {
    "duration": 317,
    "start_time": "2022-07-25T16:01:04.060Z"
   },
   {
    "duration": 34,
    "start_time": "2022-07-25T16:01:07.965Z"
   },
   {
    "duration": 24,
    "start_time": "2022-07-25T16:01:13.143Z"
   },
   {
    "duration": 25,
    "start_time": "2022-07-25T16:01:20.238Z"
   },
   {
    "duration": 15,
    "start_time": "2022-07-25T16:08:16.434Z"
   },
   {
    "duration": 15,
    "start_time": "2022-07-25T16:08:28.834Z"
   },
   {
    "duration": 16,
    "start_time": "2022-07-25T16:09:01.351Z"
   },
   {
    "duration": 18,
    "start_time": "2022-07-25T16:11:22.673Z"
   },
   {
    "duration": 4,
    "start_time": "2022-07-25T16:14:48.534Z"
   },
   {
    "duration": 1519,
    "start_time": "2022-07-25T16:14:50.560Z"
   },
   {
    "duration": 27,
    "start_time": "2022-07-25T16:14:59.560Z"
   },
   {
    "duration": 56,
    "start_time": "2022-07-25T16:15:03.590Z"
   },
   {
    "duration": 19,
    "start_time": "2022-07-25T16:15:09.060Z"
   },
   {
    "duration": 337,
    "start_time": "2022-07-25T16:15:18.848Z"
   },
   {
    "duration": 36,
    "start_time": "2022-07-25T16:15:31.918Z"
   },
   {
    "duration": 25,
    "start_time": "2022-07-25T16:16:14.569Z"
   },
   {
    "duration": 19,
    "start_time": "2022-07-25T16:19:47.205Z"
   },
   {
    "duration": 23,
    "start_time": "2022-07-25T16:20:46.899Z"
   },
   {
    "duration": 18,
    "start_time": "2022-07-25T16:21:55.482Z"
   },
   {
    "duration": 13,
    "start_time": "2022-07-25T16:25:05.847Z"
   },
   {
    "duration": 23,
    "start_time": "2022-07-25T16:25:08.638Z"
   },
   {
    "duration": 12,
    "start_time": "2022-07-25T16:25:11.962Z"
   },
   {
    "duration": 15,
    "start_time": "2022-07-25T16:25:36.079Z"
   },
   {
    "duration": 23149,
    "start_time": "2022-07-25T16:25:59.639Z"
   },
   {
    "duration": 23,
    "start_time": "2022-07-25T16:27:02.319Z"
   },
   {
    "duration": 157,
    "start_time": "2022-07-25T16:27:31.134Z"
   },
   {
    "duration": 348,
    "start_time": "2022-07-25T16:27:43.325Z"
   },
   {
    "duration": 175,
    "start_time": "2022-07-25T16:27:51.014Z"
   },
   {
    "duration": 186,
    "start_time": "2022-07-25T16:28:33.946Z"
   },
   {
    "duration": 306,
    "start_time": "2022-07-25T16:29:43.550Z"
   },
   {
    "duration": 1615,
    "start_time": "2022-07-25T16:34:55.892Z"
   },
   {
    "duration": 1483,
    "start_time": "2022-07-25T16:34:57.509Z"
   },
   {
    "duration": 27,
    "start_time": "2022-07-25T16:34:58.994Z"
   },
   {
    "duration": 49,
    "start_time": "2022-07-25T16:34:59.023Z"
   },
   {
    "duration": 17,
    "start_time": "2022-07-25T16:34:59.074Z"
   },
   {
    "duration": 387,
    "start_time": "2022-07-25T16:34:59.093Z"
   },
   {
    "duration": 55,
    "start_time": "2022-07-25T16:34:59.482Z"
   },
   {
    "duration": 22,
    "start_time": "2022-07-25T16:34:59.540Z"
   },
   {
    "duration": 13,
    "start_time": "2022-07-25T16:34:59.564Z"
   },
   {
    "duration": 14,
    "start_time": "2022-07-25T16:34:59.578Z"
   },
   {
    "duration": 223,
    "start_time": "2022-07-25T16:34:59.593Z"
   },
   {
    "duration": 21,
    "start_time": "2022-07-25T16:34:59.818Z"
   },
   {
    "duration": 471,
    "start_time": "2022-07-25T16:34:59.841Z"
   },
   {
    "duration": 141,
    "start_time": "2022-07-25T16:35:00.315Z"
   },
   {
    "duration": 28,
    "start_time": "2022-07-25T16:35:00.458Z"
   },
   {
    "duration": 600,
    "start_time": "2022-07-25T16:35:00.488Z"
   },
   {
    "duration": 70004,
    "start_time": "2022-07-25T16:35:01.090Z"
   },
   {
    "duration": 758,
    "start_time": "2022-07-25T16:36:11.095Z"
   },
   {
    "duration": 24,
    "start_time": "2022-07-25T16:36:11.855Z"
   },
   {
    "duration": 17,
    "start_time": "2022-07-25T16:36:11.881Z"
   },
   {
    "duration": 202,
    "start_time": "2022-07-25T16:36:11.899Z"
   },
   {
    "duration": 195,
    "start_time": "2022-07-25T16:36:12.103Z"
   },
   {
    "duration": 203,
    "start_time": "2022-07-25T16:36:12.300Z"
   },
   {
    "duration": 259,
    "start_time": "2022-07-25T16:36:12.505Z"
   },
   {
    "duration": 78,
    "start_time": "2022-07-25T16:36:12.765Z"
   },
   {
    "duration": 16,
    "start_time": "2022-07-25T16:36:12.845Z"
   },
   {
    "duration": 9,
    "start_time": "2022-07-25T17:05:09.466Z"
   },
   {
    "duration": 9,
    "start_time": "2022-07-25T17:05:27.864Z"
   },
   {
    "duration": 54485,
    "start_time": "2022-07-25T17:13:05.262Z"
   },
   {
    "duration": 0,
    "start_time": "2022-07-25T17:13:59.749Z"
   },
   {
    "duration": 7,
    "start_time": "2022-07-25T17:14:06.417Z"
   },
   {
    "duration": 102476,
    "start_time": "2022-07-25T17:14:11.977Z"
   },
   {
    "duration": 0,
    "start_time": "2022-07-25T17:15:54.456Z"
   },
   {
    "duration": 15,
    "start_time": "2022-07-25T17:16:14.884Z"
   },
   {
    "duration": 4,
    "start_time": "2022-07-25T17:16:48.205Z"
   },
   {
    "duration": 38,
    "start_time": "2022-07-25T17:17:05.553Z"
   },
   {
    "duration": 10,
    "start_time": "2022-07-25T17:21:50.549Z"
   },
   {
    "duration": 17,
    "start_time": "2022-07-25T17:24:22.931Z"
   },
   {
    "duration": 12,
    "start_time": "2022-07-25T17:24:29.689Z"
   },
   {
    "duration": 15,
    "start_time": "2022-07-25T17:25:00.412Z"
   },
   {
    "duration": 11,
    "start_time": "2022-07-25T17:25:21.668Z"
   },
   {
    "duration": 12,
    "start_time": "2022-07-25T17:25:47.979Z"
   },
   {
    "duration": 13,
    "start_time": "2022-07-25T17:26:36.305Z"
   },
   {
    "duration": 1603,
    "start_time": "2022-07-25T17:26:42.187Z"
   },
   {
    "duration": 29,
    "start_time": "2022-07-25T17:26:48.592Z"
   },
   {
    "duration": 56,
    "start_time": "2022-07-25T17:26:49.584Z"
   },
   {
    "duration": 20,
    "start_time": "2022-07-25T17:26:55.534Z"
   },
   {
    "duration": 377,
    "start_time": "2022-07-25T17:26:58.638Z"
   },
   {
    "duration": 52,
    "start_time": "2022-07-25T17:27:02.152Z"
   },
   {
    "duration": 29,
    "start_time": "2022-07-25T17:27:06.182Z"
   },
   {
    "duration": 12,
    "start_time": "2022-07-25T17:28:37.706Z"
   },
   {
    "duration": 17,
    "start_time": "2022-07-25T17:28:52.944Z"
   },
   {
    "duration": 16,
    "start_time": "2022-07-25T17:29:41.973Z"
   },
   {
    "duration": 27,
    "start_time": "2022-07-25T17:29:56.704Z"
   },
   {
    "duration": 23,
    "start_time": "2022-07-25T17:30:19.065Z"
   },
   {
    "duration": 21,
    "start_time": "2022-07-25T17:30:36.952Z"
   },
   {
    "duration": 14,
    "start_time": "2022-07-25T17:31:43.979Z"
   },
   {
    "duration": 16,
    "start_time": "2022-07-25T17:32:38.125Z"
   },
   {
    "duration": 1525,
    "start_time": "2022-07-25T17:33:43.785Z"
   },
   {
    "duration": 1375,
    "start_time": "2022-07-25T17:33:45.312Z"
   },
   {
    "duration": 27,
    "start_time": "2022-07-25T17:33:46.689Z"
   },
   {
    "duration": 54,
    "start_time": "2022-07-25T17:33:46.718Z"
   },
   {
    "duration": 16,
    "start_time": "2022-07-25T17:33:46.774Z"
   },
   {
    "duration": 398,
    "start_time": "2022-07-25T17:33:46.791Z"
   },
   {
    "duration": 51,
    "start_time": "2022-07-25T17:33:47.192Z"
   },
   {
    "duration": 31,
    "start_time": "2022-07-25T17:33:47.245Z"
   },
   {
    "duration": 11,
    "start_time": "2022-07-25T17:33:47.278Z"
   },
   {
    "duration": 44,
    "start_time": "2022-07-25T17:33:47.291Z"
   },
   {
    "duration": 29,
    "start_time": "2022-07-25T17:33:47.338Z"
   },
   {
    "duration": 227,
    "start_time": "2022-07-25T17:33:47.370Z"
   },
   {
    "duration": 10,
    "start_time": "2022-07-25T17:33:47.599Z"
   },
   {
    "duration": 499,
    "start_time": "2022-07-25T17:33:47.612Z"
   },
   {
    "duration": 131,
    "start_time": "2022-07-25T17:33:48.113Z"
   },
   {
    "duration": 25,
    "start_time": "2022-07-25T17:33:48.246Z"
   },
   {
    "duration": 622,
    "start_time": "2022-07-25T17:33:48.272Z"
   },
   {
    "duration": 74345,
    "start_time": "2022-07-25T17:33:48.896Z"
   },
   {
    "duration": 546,
    "start_time": "2022-07-25T17:35:03.242Z"
   },
   {
    "duration": 17,
    "start_time": "2022-07-25T17:35:03.789Z"
   },
   {
    "duration": 199,
    "start_time": "2022-07-25T17:35:03.807Z"
   },
   {
    "duration": 193,
    "start_time": "2022-07-25T17:35:04.007Z"
   },
   {
    "duration": 198,
    "start_time": "2022-07-25T17:35:04.202Z"
   },
   {
    "duration": 31,
    "start_time": "2022-07-25T17:35:04.401Z"
   },
   {
    "duration": 147277,
    "start_time": "2022-07-25T17:35:04.434Z"
   },
   {
    "duration": 181,
    "start_time": "2022-07-25T17:37:31.713Z"
   },
   {
    "duration": 0,
    "start_time": "2022-07-25T17:37:31.896Z"
   },
   {
    "duration": 0,
    "start_time": "2022-07-25T17:37:31.898Z"
   },
   {
    "duration": 0,
    "start_time": "2022-07-25T17:37:31.899Z"
   },
   {
    "duration": 747,
    "start_time": "2022-07-25T17:39:01.106Z"
   },
   {
    "duration": 934,
    "start_time": "2022-07-25T17:39:18.109Z"
   },
   {
    "duration": 689,
    "start_time": "2022-07-25T17:40:41.238Z"
   },
   {
    "duration": 8,
    "start_time": "2022-07-25T18:02:02.878Z"
   },
   {
    "duration": 1604,
    "start_time": "2022-07-25T18:05:51.769Z"
   },
   {
    "duration": 1852,
    "start_time": "2022-07-25T18:05:53.375Z"
   },
   {
    "duration": 36,
    "start_time": "2022-07-25T18:05:55.229Z"
   },
   {
    "duration": 73,
    "start_time": "2022-07-25T18:05:55.268Z"
   },
   {
    "duration": 18,
    "start_time": "2022-07-25T18:05:55.343Z"
   },
   {
    "duration": 353,
    "start_time": "2022-07-25T18:05:55.363Z"
   },
   {
    "duration": 54,
    "start_time": "2022-07-25T18:05:55.718Z"
   },
   {
    "duration": 25,
    "start_time": "2022-07-25T18:05:55.774Z"
   },
   {
    "duration": 14,
    "start_time": "2022-07-25T18:05:55.826Z"
   },
   {
    "duration": 24,
    "start_time": "2022-07-25T18:05:55.843Z"
   },
   {
    "duration": 15,
    "start_time": "2022-07-25T18:05:55.869Z"
   },
   {
    "duration": 223,
    "start_time": "2022-07-25T18:05:55.886Z"
   },
   {
    "duration": 29,
    "start_time": "2022-07-25T18:05:56.112Z"
   },
   {
    "duration": 576,
    "start_time": "2022-07-25T18:05:56.144Z"
   },
   {
    "duration": 158,
    "start_time": "2022-07-25T18:05:56.721Z"
   },
   {
    "duration": 74,
    "start_time": "2022-07-25T18:05:56.881Z"
   },
   {
    "duration": 9,
    "start_time": "2022-07-25T18:05:56.957Z"
   },
   {
    "duration": 725,
    "start_time": "2022-07-25T18:05:56.968Z"
   },
   {
    "duration": 73291,
    "start_time": "2022-07-25T18:05:57.695Z"
   },
   {
    "duration": 647,
    "start_time": "2022-07-25T18:07:10.987Z"
   },
   {
    "duration": 17,
    "start_time": "2022-07-25T18:07:11.636Z"
   },
   {
    "duration": 192,
    "start_time": "2022-07-25T18:07:11.655Z"
   },
   {
    "duration": 183,
    "start_time": "2022-07-25T18:07:11.848Z"
   },
   {
    "duration": 198,
    "start_time": "2022-07-25T18:07:12.034Z"
   },
   {
    "duration": 8,
    "start_time": "2022-07-25T18:07:12.234Z"
   },
   {
    "duration": 131113,
    "start_time": "2022-07-25T18:07:12.244Z"
   },
   {
    "duration": 187,
    "start_time": "2022-07-25T18:09:23.359Z"
   },
   {
    "duration": 0,
    "start_time": "2022-07-25T18:09:23.547Z"
   },
   {
    "duration": 0,
    "start_time": "2022-07-25T18:09:23.549Z"
   },
   {
    "duration": 0,
    "start_time": "2022-07-25T18:09:23.550Z"
   },
   {
    "duration": 0,
    "start_time": "2022-07-25T18:09:23.551Z"
   },
   {
    "duration": 535,
    "start_time": "2022-07-25T18:10:24.800Z"
   },
   {
    "duration": 19,
    "start_time": "2022-07-25T18:22:40.835Z"
   },
   {
    "duration": 9,
    "start_time": "2022-07-25T18:22:50.473Z"
   },
   {
    "duration": 19,
    "start_time": "2022-07-25T18:25:14.466Z"
   },
   {
    "duration": 40,
    "start_time": "2022-07-25T18:25:15.865Z"
   },
   {
    "duration": 1747,
    "start_time": "2022-07-25T18:25:37.695Z"
   },
   {
    "duration": 1518,
    "start_time": "2022-07-25T18:25:39.444Z"
   },
   {
    "duration": 30,
    "start_time": "2022-07-25T18:25:40.964Z"
   },
   {
    "duration": 67,
    "start_time": "2022-07-25T18:25:40.996Z"
   },
   {
    "duration": 16,
    "start_time": "2022-07-25T18:25:41.064Z"
   },
   {
    "duration": 408,
    "start_time": "2022-07-25T18:25:41.082Z"
   },
   {
    "duration": 50,
    "start_time": "2022-07-25T18:25:41.492Z"
   },
   {
    "duration": 31,
    "start_time": "2022-07-25T18:25:41.550Z"
   },
   {
    "duration": 9,
    "start_time": "2022-07-25T18:25:41.583Z"
   },
   {
    "duration": 13,
    "start_time": "2022-07-25T18:25:41.595Z"
   },
   {
    "duration": 33,
    "start_time": "2022-07-25T18:25:41.610Z"
   },
   {
    "duration": 234,
    "start_time": "2022-07-25T18:25:41.645Z"
   },
   {
    "duration": 10,
    "start_time": "2022-07-25T18:25:41.881Z"
   },
   {
    "duration": 1600,
    "start_time": "2022-07-25T18:26:28.892Z"
   },
   {
    "duration": 976,
    "start_time": "2022-07-25T18:26:30.494Z"
   },
   {
    "duration": 30,
    "start_time": "2022-07-25T18:26:31.471Z"
   },
   {
    "duration": 76,
    "start_time": "2022-07-25T18:26:31.503Z"
   },
   {
    "duration": 18,
    "start_time": "2022-07-25T18:26:31.581Z"
   },
   {
    "duration": 409,
    "start_time": "2022-07-25T18:26:31.600Z"
   },
   {
    "duration": 55,
    "start_time": "2022-07-25T18:26:32.011Z"
   },
   {
    "duration": 40,
    "start_time": "2022-07-25T18:26:32.068Z"
   },
   {
    "duration": 33,
    "start_time": "2022-07-25T18:26:32.110Z"
   },
   {
    "duration": 45,
    "start_time": "2022-07-25T18:26:32.147Z"
   },
   {
    "duration": 48,
    "start_time": "2022-07-25T18:26:32.194Z"
   },
   {
    "duration": 243,
    "start_time": "2022-07-25T18:26:32.245Z"
   },
   {
    "duration": 10,
    "start_time": "2022-07-25T18:26:32.489Z"
   },
   {
    "duration": 621,
    "start_time": "2022-07-25T18:26:32.501Z"
   },
   {
    "duration": 200,
    "start_time": "2022-07-25T18:26:33.135Z"
   },
   {
    "duration": 47,
    "start_time": "2022-07-25T18:26:33.339Z"
   },
   {
    "duration": 11,
    "start_time": "2022-07-25T18:26:33.387Z"
   },
   {
    "duration": 699,
    "start_time": "2022-07-25T18:26:33.400Z"
   },
   {
    "duration": 80241,
    "start_time": "2022-07-25T18:26:34.101Z"
   },
   {
    "duration": 805,
    "start_time": "2022-07-25T18:27:54.344Z"
   },
   {
    "duration": 26,
    "start_time": "2022-07-25T18:27:55.151Z"
   },
   {
    "duration": 263,
    "start_time": "2022-07-25T18:27:55.179Z"
   },
   {
    "duration": 259,
    "start_time": "2022-07-25T18:27:55.452Z"
   },
   {
    "duration": 273,
    "start_time": "2022-07-25T18:27:55.724Z"
   },
   {
    "duration": 79550,
    "start_time": "2022-07-25T18:27:55.998Z"
   },
   {
    "duration": 0,
    "start_time": "2022-07-25T18:29:15.556Z"
   },
   {
    "duration": 0,
    "start_time": "2022-07-25T18:29:15.556Z"
   },
   {
    "duration": 0,
    "start_time": "2022-07-25T18:29:15.558Z"
   },
   {
    "duration": 0,
    "start_time": "2022-07-25T18:29:15.559Z"
   },
   {
    "duration": 25,
    "start_time": "2022-07-25T18:29:19.774Z"
   },
   {
    "duration": 1583,
    "start_time": "2022-07-26T07:50:14.809Z"
   },
   {
    "duration": 1630,
    "start_time": "2022-07-26T07:50:16.394Z"
   },
   {
    "duration": 26,
    "start_time": "2022-07-26T07:50:18.026Z"
   },
   {
    "duration": 41,
    "start_time": "2022-07-26T07:50:18.054Z"
   },
   {
    "duration": 14,
    "start_time": "2022-07-26T07:50:18.097Z"
   },
   {
    "duration": 407,
    "start_time": "2022-07-26T07:50:18.112Z"
   },
   {
    "duration": 37,
    "start_time": "2022-07-26T07:50:18.520Z"
   },
   {
    "duration": 103,
    "start_time": "2022-07-26T07:50:18.559Z"
   },
   {
    "duration": 9,
    "start_time": "2022-07-26T07:50:18.663Z"
   },
   {
    "duration": 12,
    "start_time": "2022-07-26T07:50:18.675Z"
   },
   {
    "duration": 10,
    "start_time": "2022-07-26T07:50:18.689Z"
   },
   {
    "duration": 212,
    "start_time": "2022-07-26T07:50:18.701Z"
   },
   {
    "duration": 10,
    "start_time": "2022-07-26T07:50:18.915Z"
   },
   {
    "duration": 396,
    "start_time": "2022-07-26T07:50:18.927Z"
   },
   {
    "duration": 132,
    "start_time": "2022-07-26T07:50:19.325Z"
   },
   {
    "duration": 26,
    "start_time": "2022-07-26T07:50:19.459Z"
   },
   {
    "duration": 7,
    "start_time": "2022-07-26T07:50:19.486Z"
   },
   {
    "duration": 581,
    "start_time": "2022-07-26T07:50:19.495Z"
   },
   {
    "duration": 65028,
    "start_time": "2022-07-26T07:50:20.077Z"
   },
   {
    "duration": 654,
    "start_time": "2022-07-26T07:51:25.106Z"
   },
   {
    "duration": 18,
    "start_time": "2022-07-26T07:51:25.762Z"
   },
   {
    "duration": 243,
    "start_time": "2022-07-26T07:51:25.781Z"
   },
   {
    "duration": 311,
    "start_time": "2022-07-26T07:51:26.027Z"
   },
   {
    "duration": 237,
    "start_time": "2022-07-26T07:51:26.340Z"
   },
   {
    "duration": 204,
    "start_time": "2022-07-26T07:51:26.579Z"
   },
   {
    "duration": 0,
    "start_time": "2022-07-26T07:51:26.785Z"
   },
   {
    "duration": 0,
    "start_time": "2022-07-26T07:51:26.786Z"
   },
   {
    "duration": 1,
    "start_time": "2022-07-26T07:51:26.786Z"
   },
   {
    "duration": 14,
    "start_time": "2022-07-26T08:11:02.994Z"
   },
   {
    "duration": 14,
    "start_time": "2022-07-26T08:28:48.568Z"
   },
   {
    "duration": 21,
    "start_time": "2022-07-26T08:29:10.697Z"
   },
   {
    "duration": 23,
    "start_time": "2022-07-26T08:29:25.230Z"
   },
   {
    "duration": 14,
    "start_time": "2022-07-26T08:29:58.152Z"
   },
   {
    "duration": 11,
    "start_time": "2022-07-26T08:32:44.313Z"
   },
   {
    "duration": 21681,
    "start_time": "2022-07-26T08:42:41.006Z"
   },
   {
    "duration": 23,
    "start_time": "2022-07-26T08:43:12.616Z"
   },
   {
    "duration": 96,
    "start_time": "2022-07-26T08:44:24.571Z"
   },
   {
    "duration": 13,
    "start_time": "2022-07-26T08:44:29.886Z"
   },
   {
    "duration": 24,
    "start_time": "2022-07-26T08:45:06.926Z"
   },
   {
    "duration": 23,
    "start_time": "2022-07-26T08:46:02.548Z"
   },
   {
    "duration": 29,
    "start_time": "2022-07-26T08:46:11.388Z"
   },
   {
    "duration": 23,
    "start_time": "2022-07-26T08:46:23.961Z"
   },
   {
    "duration": 30,
    "start_time": "2022-07-26T09:17:56.090Z"
   },
   {
    "duration": 2652,
    "start_time": "2022-07-26T09:21:37.714Z"
   },
   {
    "duration": 40,
    "start_time": "2022-07-26T09:21:44.235Z"
   },
   {
    "duration": 42,
    "start_time": "2022-07-26T09:21:46.863Z"
   },
   {
    "duration": 18,
    "start_time": "2022-07-26T09:21:50.667Z"
   },
   {
    "duration": 294,
    "start_time": "2022-07-26T09:21:54.997Z"
   },
   {
    "duration": 30,
    "start_time": "2022-07-26T09:21:58.793Z"
   },
   {
    "duration": 28,
    "start_time": "2022-07-26T09:22:03.717Z"
   },
   {
    "duration": 1291,
    "start_time": "2022-07-26T09:22:07.142Z"
   },
   {
    "duration": 42,
    "start_time": "2022-07-26T09:22:28.148Z"
   },
   {
    "duration": 14,
    "start_time": "2022-07-26T09:23:34.877Z"
   },
   {
    "duration": 202,
    "start_time": "2022-07-26T09:23:36.667Z"
   },
   {
    "duration": 10,
    "start_time": "2022-07-26T09:24:33.425Z"
   },
   {
    "duration": 109,
    "start_time": "2022-07-26T09:25:09.771Z"
   },
   {
    "duration": 79,
    "start_time": "2022-07-26T09:25:24.807Z"
   },
   {
    "duration": 27,
    "start_time": "2022-07-26T09:26:45.698Z"
   },
   {
    "duration": 558,
    "start_time": "2022-07-26T09:27:03.675Z"
   },
   {
    "duration": 66603,
    "start_time": "2022-07-26T09:27:18.723Z"
   },
   {
    "duration": 520,
    "start_time": "2022-07-26T09:28:57.635Z"
   },
   {
    "duration": 802,
    "start_time": "2022-07-26T09:29:37.768Z"
   },
   {
    "duration": 13,
    "start_time": "2022-07-26T09:32:15.648Z"
   },
   {
    "duration": 12,
    "start_time": "2022-07-26T09:32:27.945Z"
   },
   {
    "duration": 11,
    "start_time": "2022-07-26T09:33:02.770Z"
   },
   {
    "duration": 41,
    "start_time": "2022-07-26T09:35:20.851Z"
   },
   {
    "duration": 1583,
    "start_time": "2022-07-26T09:35:48.263Z"
   },
   {
    "duration": 2189,
    "start_time": "2022-07-26T09:35:49.847Z"
   },
   {
    "duration": 42,
    "start_time": "2022-07-26T09:35:52.038Z"
   },
   {
    "duration": 51,
    "start_time": "2022-07-26T09:35:52.082Z"
   },
   {
    "duration": 33,
    "start_time": "2022-07-26T09:35:52.135Z"
   },
   {
    "duration": 351,
    "start_time": "2022-07-26T09:35:52.169Z"
   },
   {
    "duration": 44,
    "start_time": "2022-07-26T09:35:52.521Z"
   },
   {
    "duration": 24,
    "start_time": "2022-07-26T09:35:52.566Z"
   },
   {
    "duration": 136,
    "start_time": "2022-07-26T09:35:52.592Z"
   },
   {
    "duration": 0,
    "start_time": "2022-07-26T09:35:52.730Z"
   },
   {
    "duration": 0,
    "start_time": "2022-07-26T09:35:52.731Z"
   },
   {
    "duration": 0,
    "start_time": "2022-07-26T09:35:52.733Z"
   },
   {
    "duration": 0,
    "start_time": "2022-07-26T09:35:52.734Z"
   },
   {
    "duration": 0,
    "start_time": "2022-07-26T09:35:52.735Z"
   },
   {
    "duration": 0,
    "start_time": "2022-07-26T09:35:52.736Z"
   },
   {
    "duration": 0,
    "start_time": "2022-07-26T09:35:52.737Z"
   },
   {
    "duration": 0,
    "start_time": "2022-07-26T09:35:52.738Z"
   },
   {
    "duration": 0,
    "start_time": "2022-07-26T09:35:52.739Z"
   },
   {
    "duration": 0,
    "start_time": "2022-07-26T09:35:52.755Z"
   },
   {
    "duration": 0,
    "start_time": "2022-07-26T09:35:52.756Z"
   },
   {
    "duration": 0,
    "start_time": "2022-07-26T09:35:52.757Z"
   },
   {
    "duration": 0,
    "start_time": "2022-07-26T09:35:52.757Z"
   },
   {
    "duration": 0,
    "start_time": "2022-07-26T09:35:52.758Z"
   },
   {
    "duration": 1455,
    "start_time": "2022-07-26T09:39:06.541Z"
   },
   {
    "duration": 1433,
    "start_time": "2022-07-26T09:39:07.999Z"
   },
   {
    "duration": 38,
    "start_time": "2022-07-26T09:39:09.434Z"
   },
   {
    "duration": 46,
    "start_time": "2022-07-26T09:39:09.474Z"
   },
   {
    "duration": 16,
    "start_time": "2022-07-26T09:39:09.522Z"
   },
   {
    "duration": 392,
    "start_time": "2022-07-26T09:39:09.540Z"
   },
   {
    "duration": 44,
    "start_time": "2022-07-26T09:39:09.934Z"
   },
   {
    "duration": 24,
    "start_time": "2022-07-26T09:39:09.980Z"
   },
   {
    "duration": 1375,
    "start_time": "2022-07-26T09:39:10.006Z"
   },
   {
    "duration": 0,
    "start_time": "2022-07-26T09:39:11.383Z"
   },
   {
    "duration": 0,
    "start_time": "2022-07-26T09:39:11.384Z"
   },
   {
    "duration": 0,
    "start_time": "2022-07-26T09:39:11.385Z"
   },
   {
    "duration": 0,
    "start_time": "2022-07-26T09:39:11.386Z"
   },
   {
    "duration": 0,
    "start_time": "2022-07-26T09:39:11.387Z"
   },
   {
    "duration": 0,
    "start_time": "2022-07-26T09:39:11.390Z"
   },
   {
    "duration": 0,
    "start_time": "2022-07-26T09:39:11.391Z"
   },
   {
    "duration": 0,
    "start_time": "2022-07-26T09:39:11.392Z"
   },
   {
    "duration": 0,
    "start_time": "2022-07-26T09:39:11.393Z"
   },
   {
    "duration": 0,
    "start_time": "2022-07-26T09:39:11.394Z"
   },
   {
    "duration": 0,
    "start_time": "2022-07-26T09:39:11.395Z"
   },
   {
    "duration": 0,
    "start_time": "2022-07-26T09:39:11.396Z"
   },
   {
    "duration": 0,
    "start_time": "2022-07-26T09:39:11.397Z"
   },
   {
    "duration": 0,
    "start_time": "2022-07-26T09:39:11.398Z"
   },
   {
    "duration": 21,
    "start_time": "2022-07-26T09:40:10.351Z"
   },
   {
    "duration": 44,
    "start_time": "2022-07-26T09:40:26.948Z"
   },
   {
    "duration": 2079,
    "start_time": "2022-07-26T09:40:42.966Z"
   },
   {
    "duration": 2288,
    "start_time": "2022-07-26T09:40:45.047Z"
   },
   {
    "duration": 37,
    "start_time": "2022-07-26T09:40:47.336Z"
   },
   {
    "duration": 41,
    "start_time": "2022-07-26T09:40:47.375Z"
   },
   {
    "duration": 16,
    "start_time": "2022-07-26T09:40:47.417Z"
   },
   {
    "duration": 371,
    "start_time": "2022-07-26T09:40:47.435Z"
   },
   {
    "duration": 30,
    "start_time": "2022-07-26T09:40:47.808Z"
   },
   {
    "duration": 41,
    "start_time": "2022-07-26T09:40:47.839Z"
   },
   {
    "duration": 40,
    "start_time": "2022-07-26T09:40:47.882Z"
   },
   {
    "duration": 40,
    "start_time": "2022-07-26T09:40:47.924Z"
   },
   {
    "duration": 196,
    "start_time": "2022-07-26T09:40:47.965Z"
   },
   {
    "duration": 9,
    "start_time": "2022-07-26T09:40:48.166Z"
   },
   {
    "duration": 495,
    "start_time": "2022-07-26T09:40:48.177Z"
   },
   {
    "duration": 204,
    "start_time": "2022-07-26T09:40:48.674Z"
   },
   {
    "duration": 37,
    "start_time": "2022-07-26T09:40:48.880Z"
   },
   {
    "duration": 723,
    "start_time": "2022-07-26T09:40:48.919Z"
   },
   {
    "duration": 69879,
    "start_time": "2022-07-26T09:40:49.643Z"
   },
   {
    "duration": 789,
    "start_time": "2022-07-26T09:41:59.524Z"
   },
   {
    "duration": 20,
    "start_time": "2022-07-26T09:42:00.315Z"
   },
   {
    "duration": 428,
    "start_time": "2022-07-26T09:42:00.337Z"
   },
   {
    "duration": 0,
    "start_time": "2022-07-26T09:42:00.767Z"
   },
   {
    "duration": 0,
    "start_time": "2022-07-26T09:42:00.770Z"
   },
   {
    "duration": 0,
    "start_time": "2022-07-26T09:42:00.771Z"
   },
   {
    "duration": 515,
    "start_time": "2022-07-26T09:43:17.451Z"
   },
   {
    "duration": 225,
    "start_time": "2022-07-26T09:48:54.378Z"
   },
   {
    "duration": 40,
    "start_time": "2022-07-26T09:50:02.142Z"
   },
   {
    "duration": 897,
    "start_time": "2022-07-26T09:50:25.298Z"
   },
   {
    "duration": 26,
    "start_time": "2022-07-26T09:50:35.578Z"
   },
   {
    "duration": 227,
    "start_time": "2022-07-26T09:50:45.642Z"
   },
   {
    "duration": 211,
    "start_time": "2022-07-26T09:51:04.041Z"
   },
   {
    "duration": 233,
    "start_time": "2022-07-26T09:51:08.870Z"
   },
   {
    "duration": 27,
    "start_time": "2022-07-26T09:51:14.657Z"
   },
   {
    "duration": 1474,
    "start_time": "2022-07-26T09:56:13.732Z"
   },
   {
    "duration": 1387,
    "start_time": "2022-07-26T09:56:15.208Z"
   },
   {
    "duration": 29,
    "start_time": "2022-07-26T09:56:16.597Z"
   },
   {
    "duration": 66,
    "start_time": "2022-07-26T09:56:16.628Z"
   },
   {
    "duration": 15,
    "start_time": "2022-07-26T09:56:16.695Z"
   },
   {
    "duration": 371,
    "start_time": "2022-07-26T09:56:16.712Z"
   },
   {
    "duration": 30,
    "start_time": "2022-07-26T09:56:17.084Z"
   },
   {
    "duration": 41,
    "start_time": "2022-07-26T09:56:17.115Z"
   },
   {
    "duration": 44,
    "start_time": "2022-07-26T09:56:17.158Z"
   },
   {
    "duration": 9,
    "start_time": "2022-07-26T09:56:17.204Z"
   },
   {
    "duration": 213,
    "start_time": "2022-07-26T09:56:17.215Z"
   },
   {
    "duration": 9,
    "start_time": "2022-07-26T09:56:17.430Z"
   },
   {
    "duration": 434,
    "start_time": "2022-07-26T09:56:17.440Z"
   },
   {
    "duration": 113,
    "start_time": "2022-07-26T09:56:17.876Z"
   },
   {
    "duration": 26,
    "start_time": "2022-07-26T09:56:17.990Z"
   },
   {
    "duration": 594,
    "start_time": "2022-07-26T09:56:18.017Z"
   },
   {
    "duration": 66516,
    "start_time": "2022-07-26T09:56:18.613Z"
   },
   {
    "duration": 426,
    "start_time": "2022-07-26T09:57:25.131Z"
   },
   {
    "duration": 21,
    "start_time": "2022-07-26T09:57:25.562Z"
   },
   {
    "duration": 241,
    "start_time": "2022-07-26T09:57:25.585Z"
   },
   {
    "duration": 292,
    "start_time": "2022-07-26T09:57:25.828Z"
   },
   {
    "duration": 279,
    "start_time": "2022-07-26T09:57:26.122Z"
   },
   {
    "duration": 21,
    "start_time": "2022-07-26T09:57:26.403Z"
   },
   {
    "duration": 162,
    "start_time": "2022-07-26T10:51:07.915Z"
   },
   {
    "duration": 200,
    "start_time": "2022-07-26T10:52:19.724Z"
   },
   {
    "duration": 222,
    "start_time": "2022-07-26T10:55:05.184Z"
   },
   {
    "duration": 199,
    "start_time": "2022-07-26T10:55:41.793Z"
   },
   {
    "duration": 25,
    "start_time": "2022-07-26T11:30:42.693Z"
   },
   {
    "duration": 48,
    "start_time": "2022-07-26T11:30:56.770Z"
   },
   {
    "duration": 1499,
    "start_time": "2022-07-26T11:32:26.349Z"
   },
   {
    "duration": 1574,
    "start_time": "2022-07-26T11:32:27.851Z"
   },
   {
    "duration": 34,
    "start_time": "2022-07-26T11:32:29.427Z"
   },
   {
    "duration": 52,
    "start_time": "2022-07-26T11:32:29.464Z"
   },
   {
    "duration": 48,
    "start_time": "2022-07-26T11:32:29.518Z"
   },
   {
    "duration": 356,
    "start_time": "2022-07-26T11:32:29.569Z"
   },
   {
    "duration": 48,
    "start_time": "2022-07-26T11:32:29.927Z"
   },
   {
    "duration": 25,
    "start_time": "2022-07-26T11:32:29.977Z"
   },
   {
    "duration": 60,
    "start_time": "2022-07-26T11:32:30.004Z"
   },
   {
    "duration": 10,
    "start_time": "2022-07-26T11:32:30.067Z"
   },
   {
    "duration": 215,
    "start_time": "2022-07-26T11:32:30.079Z"
   },
   {
    "duration": 11,
    "start_time": "2022-07-26T11:32:30.295Z"
   },
   {
    "duration": 499,
    "start_time": "2022-07-26T11:32:30.308Z"
   },
   {
    "duration": 94,
    "start_time": "2022-07-26T11:32:30.809Z"
   },
   {
    "duration": 72,
    "start_time": "2022-07-26T11:32:30.905Z"
   },
   {
    "duration": 581,
    "start_time": "2022-07-26T11:32:30.979Z"
   },
   {
    "duration": 64980,
    "start_time": "2022-07-26T11:32:31.562Z"
   },
   {
    "duration": 521,
    "start_time": "2022-07-26T11:33:36.543Z"
   },
   {
    "duration": 17,
    "start_time": "2022-07-26T11:33:37.066Z"
   },
   {
    "duration": 217,
    "start_time": "2022-07-26T11:33:37.085Z"
   },
   {
    "duration": 232,
    "start_time": "2022-07-26T11:33:37.304Z"
   },
   {
    "duration": 208,
    "start_time": "2022-07-26T11:33:37.552Z"
   },
   {
    "duration": 21,
    "start_time": "2022-07-26T11:33:37.761Z"
   },
   {
    "duration": 1522,
    "start_time": "2022-07-26T12:13:43.111Z"
   },
   {
    "duration": 1783,
    "start_time": "2022-07-26T12:13:44.635Z"
   },
   {
    "duration": 28,
    "start_time": "2022-07-26T12:13:46.420Z"
   },
   {
    "duration": 47,
    "start_time": "2022-07-26T12:13:46.450Z"
   },
   {
    "duration": 17,
    "start_time": "2022-07-26T12:13:46.499Z"
   },
   {
    "duration": 388,
    "start_time": "2022-07-26T12:13:46.518Z"
   },
   {
    "duration": 45,
    "start_time": "2022-07-26T12:13:46.908Z"
   },
   {
    "duration": 23,
    "start_time": "2022-07-26T12:13:46.954Z"
   },
   {
    "duration": 35,
    "start_time": "2022-07-26T12:13:46.979Z"
   },
   {
    "duration": 37,
    "start_time": "2022-07-26T12:13:47.017Z"
   },
   {
    "duration": 222,
    "start_time": "2022-07-26T12:13:47.056Z"
   },
   {
    "duration": 13,
    "start_time": "2022-07-26T12:13:47.280Z"
   },
   {
    "duration": 472,
    "start_time": "2022-07-26T12:13:47.295Z"
   },
   {
    "duration": 132,
    "start_time": "2022-07-26T12:13:47.769Z"
   },
   {
    "duration": 88,
    "start_time": "2022-07-26T12:13:47.903Z"
   },
   {
    "duration": 604,
    "start_time": "2022-07-26T12:13:47.993Z"
   },
   {
    "duration": 64068,
    "start_time": "2022-07-26T12:13:48.599Z"
   },
   {
    "duration": 897,
    "start_time": "2022-07-26T12:14:52.668Z"
   },
   {
    "duration": 18,
    "start_time": "2022-07-26T12:14:53.566Z"
   },
   {
    "duration": 237,
    "start_time": "2022-07-26T12:14:53.586Z"
   },
   {
    "duration": 243,
    "start_time": "2022-07-26T12:14:53.824Z"
   },
   {
    "duration": 22,
    "start_time": "2022-07-26T12:14:54.068Z"
   },
   {
    "duration": 1955,
    "start_time": "2022-07-27T06:28:31.196Z"
   },
   {
    "duration": 1453,
    "start_time": "2022-07-27T06:28:33.153Z"
   },
   {
    "duration": 26,
    "start_time": "2022-07-27T06:28:34.608Z"
   },
   {
    "duration": 65,
    "start_time": "2022-07-27T06:28:34.636Z"
   },
   {
    "duration": 16,
    "start_time": "2022-07-27T06:28:34.703Z"
   },
   {
    "duration": 418,
    "start_time": "2022-07-27T06:28:34.720Z"
   },
   {
    "duration": 35,
    "start_time": "2022-07-27T06:28:35.140Z"
   },
   {
    "duration": 20,
    "start_time": "2022-07-27T06:28:35.177Z"
   },
   {
    "duration": 30,
    "start_time": "2022-07-27T06:28:35.198Z"
   },
   {
    "duration": 34,
    "start_time": "2022-07-27T06:28:35.230Z"
   },
   {
    "duration": 206,
    "start_time": "2022-07-27T06:28:35.265Z"
   },
   {
    "duration": 9,
    "start_time": "2022-07-27T06:28:35.473Z"
   },
   {
    "duration": 520,
    "start_time": "2022-07-27T06:28:35.483Z"
   },
   {
    "duration": 94,
    "start_time": "2022-07-27T06:28:36.005Z"
   },
   {
    "duration": 73,
    "start_time": "2022-07-27T06:28:36.100Z"
   },
   {
    "duration": 569,
    "start_time": "2022-07-27T06:28:36.175Z"
   },
   {
    "duration": 63111,
    "start_time": "2022-07-27T06:28:36.746Z"
   },
   {
    "duration": 714,
    "start_time": "2022-07-27T06:29:39.860Z"
   },
   {
    "duration": 16,
    "start_time": "2022-07-27T06:29:40.576Z"
   },
   {
    "duration": 228,
    "start_time": "2022-07-27T06:29:40.593Z"
   },
   {
    "duration": 210,
    "start_time": "2022-07-27T06:29:40.822Z"
   },
   {
    "duration": 38,
    "start_time": "2022-07-27T06:29:41.033Z"
   },
   {
    "duration": 7,
    "start_time": "2022-07-27T06:34:06.397Z"
   },
   {
    "duration": 9,
    "start_time": "2022-07-27T06:34:43.640Z"
   },
   {
    "duration": 5,
    "start_time": "2022-07-27T06:40:41.578Z"
   },
   {
    "duration": 1927,
    "start_time": "2022-07-27T07:50:23.040Z"
   },
   {
    "duration": 1472,
    "start_time": "2022-07-27T07:50:24.969Z"
   },
   {
    "duration": 34,
    "start_time": "2022-07-27T07:50:26.443Z"
   },
   {
    "duration": 72,
    "start_time": "2022-07-27T07:50:26.504Z"
   },
   {
    "duration": 41,
    "start_time": "2022-07-27T07:50:26.578Z"
   },
   {
    "duration": 437,
    "start_time": "2022-07-27T07:50:26.621Z"
   },
   {
    "duration": 46,
    "start_time": "2022-07-27T07:50:27.061Z"
   },
   {
    "duration": 28,
    "start_time": "2022-07-27T07:50:27.109Z"
   },
   {
    "duration": 70,
    "start_time": "2022-07-27T07:50:27.139Z"
   },
   {
    "duration": 11,
    "start_time": "2022-07-27T07:50:27.212Z"
   },
   {
    "duration": 240,
    "start_time": "2022-07-27T07:50:27.225Z"
   },
   {
    "duration": 12,
    "start_time": "2022-07-27T07:50:27.467Z"
   },
   {
    "duration": 554,
    "start_time": "2022-07-27T07:50:27.480Z"
   },
   {
    "duration": 118,
    "start_time": "2022-07-27T07:50:28.036Z"
   },
   {
    "duration": 31,
    "start_time": "2022-07-27T07:50:28.203Z"
   },
   {
    "duration": 643,
    "start_time": "2022-07-27T07:50:28.235Z"
   },
   {
    "duration": 74169,
    "start_time": "2022-07-27T07:50:28.880Z"
   },
   {
    "duration": 473,
    "start_time": "2022-07-27T07:51:43.050Z"
   },
   {
    "duration": 21,
    "start_time": "2022-07-27T07:51:43.525Z"
   },
   {
    "duration": 329,
    "start_time": "2022-07-27T07:51:43.548Z"
   },
   {
    "duration": 303,
    "start_time": "2022-07-27T07:51:43.880Z"
   },
   {
    "duration": 42,
    "start_time": "2022-07-27T07:51:44.185Z"
   },
   {
    "duration": 5,
    "start_time": "2022-07-27T08:04:45.165Z"
   },
   {
    "duration": 6,
    "start_time": "2022-07-27T08:04:59.156Z"
   },
   {
    "duration": 1702,
    "start_time": "2022-07-27T08:05:08.305Z"
   },
   {
    "duration": 31,
    "start_time": "2022-07-27T08:05:13.721Z"
   },
   {
    "duration": 379,
    "start_time": "2022-07-27T08:05:20.980Z"
   },
   {
    "duration": 39,
    "start_time": "2022-07-27T08:05:24.169Z"
   },
   {
    "duration": 6,
    "start_time": "2022-07-27T08:05:30.050Z"
   },
   {
    "duration": 21,
    "start_time": "2022-07-27T08:06:33.766Z"
   },
   {
    "duration": 15,
    "start_time": "2022-07-27T08:07:57.562Z"
   },
   {
    "duration": 77,
    "start_time": "2022-07-27T08:07:59.430Z"
   },
   {
    "duration": 175,
    "start_time": "2022-07-27T08:08:54.326Z"
   },
   {
    "duration": 31,
    "start_time": "2022-07-27T08:09:32.945Z"
   },
   {
    "duration": 42,
    "start_time": "2022-07-27T08:10:14.769Z"
   },
   {
    "duration": 18,
    "start_time": "2022-07-27T08:11:04.991Z"
   },
   {
    "duration": 16,
    "start_time": "2022-07-27T08:11:11.921Z"
   },
   {
    "duration": 15,
    "start_time": "2022-07-27T08:11:32.341Z"
   },
   {
    "duration": 2004,
    "start_time": "2022-07-27T08:12:01.993Z"
   },
   {
    "duration": 31,
    "start_time": "2022-07-27T08:12:08.111Z"
   },
   {
    "duration": 56,
    "start_time": "2022-07-27T08:12:11.241Z"
   },
   {
    "duration": 381,
    "start_time": "2022-07-27T08:12:15.889Z"
   },
   {
    "duration": 35,
    "start_time": "2022-07-27T08:12:19.350Z"
   },
   {
    "duration": 20,
    "start_time": "2022-07-27T08:12:31.886Z"
   },
   {
    "duration": 47,
    "start_time": "2022-07-27T08:12:36.461Z"
   },
   {
    "duration": 16,
    "start_time": "2022-07-27T08:15:02.350Z"
   },
   {
    "duration": 1476,
    "start_time": "2022-07-27T08:15:14.960Z"
   },
   {
    "duration": 29,
    "start_time": "2022-07-27T08:15:19.520Z"
   },
   {
    "duration": 52,
    "start_time": "2022-07-27T08:15:24.340Z"
   },
   {
    "duration": 366,
    "start_time": "2022-07-27T08:15:30.883Z"
   },
   {
    "duration": 35,
    "start_time": "2022-07-27T08:15:39.902Z"
   },
   {
    "duration": 13,
    "start_time": "2022-07-27T08:15:47.118Z"
   },
   {
    "duration": 46,
    "start_time": "2022-07-27T08:15:50.145Z"
   },
   {
    "duration": 6,
    "start_time": "2022-07-27T08:17:34.356Z"
   },
   {
    "duration": 22,
    "start_time": "2022-07-27T08:18:40.950Z"
   },
   {
    "duration": 14,
    "start_time": "2022-07-27T08:18:53.401Z"
   },
   {
    "duration": 1465,
    "start_time": "2022-07-27T08:19:57.889Z"
   },
   {
    "duration": 30,
    "start_time": "2022-07-27T08:20:01.089Z"
   },
   {
    "duration": 58,
    "start_time": "2022-07-27T08:20:02.271Z"
   },
   {
    "duration": 38,
    "start_time": "2022-07-27T08:20:07.742Z"
   },
   {
    "duration": 35,
    "start_time": "2022-07-27T08:20:12.410Z"
   },
   {
    "duration": 21,
    "start_time": "2022-07-27T08:20:18.569Z"
   },
   {
    "duration": 7,
    "start_time": "2022-07-27T08:20:26.529Z"
   },
   {
    "duration": 11,
    "start_time": "2022-07-27T08:20:32.241Z"
   },
   {
    "duration": 1898,
    "start_time": "2022-07-27T08:30:10.585Z"
   },
   {
    "duration": 36,
    "start_time": "2022-07-27T08:30:15.784Z"
   },
   {
    "duration": 54,
    "start_time": "2022-07-27T08:30:17.330Z"
   },
   {
    "duration": 37,
    "start_time": "2022-07-27T08:30:25.425Z"
   },
   {
    "duration": 14,
    "start_time": "2022-07-27T08:30:30.650Z"
   },
   {
    "duration": 82,
    "start_time": "2022-07-27T08:30:34.787Z"
   },
   {
    "duration": 30,
    "start_time": "2022-07-27T08:32:04.423Z"
   },
   {
    "duration": 40,
    "start_time": "2022-07-27T08:36:06.202Z"
   },
   {
    "duration": 39,
    "start_time": "2022-07-27T08:55:40.609Z"
   },
   {
    "duration": 34,
    "start_time": "2022-07-27T08:55:55.127Z"
   },
   {
    "duration": 58,
    "start_time": "2022-07-27T08:56:16.603Z"
   },
   {
    "duration": 33,
    "start_time": "2022-07-27T08:56:43.609Z"
   },
   {
    "duration": 33,
    "start_time": "2022-07-27T09:01:48.868Z"
   },
   {
    "duration": 134,
    "start_time": "2022-07-27T09:02:30.664Z"
   },
   {
    "duration": 33,
    "start_time": "2022-07-27T09:02:58.605Z"
   },
   {
    "duration": 43,
    "start_time": "2022-07-27T09:03:22.963Z"
   },
   {
    "duration": 42,
    "start_time": "2022-07-27T09:03:29.941Z"
   },
   {
    "duration": 51,
    "start_time": "2022-07-27T09:04:08.763Z"
   },
   {
    "duration": 42,
    "start_time": "2022-07-27T09:04:23.402Z"
   },
   {
    "duration": 40,
    "start_time": "2022-07-27T09:04:54.199Z"
   },
   {
    "duration": 27,
    "start_time": "2022-07-27T09:13:49.562Z"
   },
   {
    "duration": 18,
    "start_time": "2022-07-27T09:34:17.111Z"
   },
   {
    "duration": 29,
    "start_time": "2022-07-27T09:35:11.316Z"
   },
   {
    "duration": 22,
    "start_time": "2022-07-27T09:35:39.517Z"
   },
   {
    "duration": 16,
    "start_time": "2022-07-27T09:37:11.193Z"
   },
   {
    "duration": 81,
    "start_time": "2022-07-27T09:38:00.272Z"
   },
   {
    "duration": 349,
    "start_time": "2022-07-27T09:38:44.939Z"
   },
   {
    "duration": 21,
    "start_time": "2022-07-27T09:38:58.365Z"
   },
   {
    "duration": 23,
    "start_time": "2022-07-27T09:41:29.695Z"
   },
   {
    "duration": 60,
    "start_time": "2022-07-27T09:42:17.095Z"
   },
   {
    "duration": 50,
    "start_time": "2022-07-27T09:42:27.563Z"
   },
   {
    "duration": 28,
    "start_time": "2022-07-27T09:42:46.484Z"
   },
   {
    "duration": 22,
    "start_time": "2022-07-27T09:43:15.537Z"
   },
   {
    "duration": 44,
    "start_time": "2022-07-27T09:43:26.318Z"
   },
   {
    "duration": 55,
    "start_time": "2022-07-27T09:44:00.277Z"
   },
   {
    "duration": 26,
    "start_time": "2022-07-27T09:46:43.881Z"
   },
   {
    "duration": 33,
    "start_time": "2022-07-27T09:46:54.796Z"
   },
   {
    "duration": 17,
    "start_time": "2022-07-27T09:47:41.395Z"
   },
   {
    "duration": 23,
    "start_time": "2022-07-27T09:51:14.674Z"
   },
   {
    "duration": 27,
    "start_time": "2022-07-27T09:51:37.440Z"
   },
   {
    "duration": 21,
    "start_time": "2022-07-27T09:52:01.738Z"
   },
   {
    "duration": 21,
    "start_time": "2022-07-27T09:52:23.438Z"
   },
   {
    "duration": 21,
    "start_time": "2022-07-27T09:53:37.322Z"
   },
   {
    "duration": 27,
    "start_time": "2022-07-27T09:54:07.148Z"
   },
   {
    "duration": 486,
    "start_time": "2022-07-27T09:56:51.441Z"
   },
   {
    "duration": 46,
    "start_time": "2022-07-27T10:03:00.847Z"
   },
   {
    "duration": 42,
    "start_time": "2022-07-27T10:04:20.725Z"
   },
   {
    "duration": 44,
    "start_time": "2022-07-27T10:04:36.678Z"
   },
   {
    "duration": 12,
    "start_time": "2022-07-27T10:06:31.437Z"
   },
   {
    "duration": 23,
    "start_time": "2022-07-27T10:06:47.637Z"
   },
   {
    "duration": 10,
    "start_time": "2022-07-27T10:07:28.719Z"
   },
   {
    "duration": 42,
    "start_time": "2022-07-27T10:08:51.644Z"
   },
   {
    "duration": 498,
    "start_time": "2022-07-27T10:08:54.793Z"
   },
   {
    "duration": 39,
    "start_time": "2022-07-27T10:12:11.671Z"
   },
   {
    "duration": 49,
    "start_time": "2022-07-27T10:12:57.312Z"
   },
   {
    "duration": 42,
    "start_time": "2022-07-27T10:13:05.520Z"
   },
   {
    "duration": 142,
    "start_time": "2022-07-27T10:14:08.189Z"
   },
   {
    "duration": 36,
    "start_time": "2022-07-27T10:14:13.950Z"
   },
   {
    "duration": 21,
    "start_time": "2022-07-27T10:17:39.717Z"
   },
   {
    "duration": 23,
    "start_time": "2022-07-27T10:21:14.233Z"
   },
   {
    "duration": 81,
    "start_time": "2022-07-27T10:22:15.039Z"
   },
   {
    "duration": 85,
    "start_time": "2022-07-27T10:22:20.187Z"
   },
   {
    "duration": 29,
    "start_time": "2022-07-27T10:22:30.237Z"
   },
   {
    "duration": 9,
    "start_time": "2022-07-27T10:22:53.278Z"
   },
   {
    "duration": 17,
    "start_time": "2022-07-27T10:23:01.960Z"
   },
   {
    "duration": 22,
    "start_time": "2022-07-27T10:23:28.103Z"
   },
   {
    "duration": 25,
    "start_time": "2022-07-27T10:23:44.761Z"
   },
   {
    "duration": 1659,
    "start_time": "2022-07-27T11:47:19.087Z"
   },
   {
    "duration": 1746,
    "start_time": "2022-07-27T11:47:20.748Z"
   },
   {
    "duration": 39,
    "start_time": "2022-07-27T11:47:22.495Z"
   },
   {
    "duration": 61,
    "start_time": "2022-07-27T11:47:22.536Z"
   },
   {
    "duration": 45,
    "start_time": "2022-07-27T11:47:22.598Z"
   },
   {
    "duration": 363,
    "start_time": "2022-07-27T11:47:22.645Z"
   },
   {
    "duration": 38,
    "start_time": "2022-07-27T11:47:23.009Z"
   },
   {
    "duration": 13,
    "start_time": "2022-07-27T11:47:23.048Z"
   },
   {
    "duration": 26,
    "start_time": "2022-07-27T11:47:23.062Z"
   },
   {
    "duration": 72,
    "start_time": "2022-07-27T11:47:23.091Z"
   },
   {
    "duration": 12,
    "start_time": "2022-07-27T11:47:23.165Z"
   },
   {
    "duration": 155,
    "start_time": "2022-07-27T11:47:23.179Z"
   },
   {
    "duration": 10,
    "start_time": "2022-07-27T11:47:23.336Z"
   },
   {
    "duration": 477,
    "start_time": "2022-07-27T11:47:23.348Z"
   },
   {
    "duration": 120,
    "start_time": "2022-07-27T11:47:23.827Z"
   },
   {
    "duration": 18,
    "start_time": "2022-07-27T11:47:23.948Z"
   },
   {
    "duration": 25,
    "start_time": "2022-07-27T11:47:23.968Z"
   },
   {
    "duration": 63,
    "start_time": "2022-07-27T11:47:23.995Z"
   },
   {
    "duration": 281,
    "start_time": "2022-07-27T11:47:24.060Z"
   },
   {
    "duration": 48595,
    "start_time": "2022-07-27T11:47:24.343Z"
   },
   {
    "duration": 31,
    "start_time": "2022-07-27T11:48:12.940Z"
   },
   {
    "duration": 16,
    "start_time": "2022-07-27T11:48:12.973Z"
   },
   {
    "duration": 249,
    "start_time": "2022-07-27T11:48:12.991Z"
   },
   {
    "duration": 232,
    "start_time": "2022-07-27T11:48:13.242Z"
   },
   {
    "duration": 19,
    "start_time": "2022-07-27T11:48:13.476Z"
   },
   {
    "duration": 12,
    "start_time": "2022-07-27T11:52:22.438Z"
   },
   {
    "duration": 23,
    "start_time": "2022-07-27T11:52:31.759Z"
   },
   {
    "duration": 27,
    "start_time": "2022-07-27T11:54:13.238Z"
   },
   {
    "duration": 23,
    "start_time": "2022-07-27T11:56:41.524Z"
   },
   {
    "duration": 20,
    "start_time": "2022-07-27T11:57:18.763Z"
   },
   {
    "duration": 12,
    "start_time": "2022-07-27T11:59:43.326Z"
   },
   {
    "duration": 24,
    "start_time": "2022-07-27T12:00:10.299Z"
   },
   {
    "duration": 21,
    "start_time": "2022-07-27T12:05:39.163Z"
   },
   {
    "duration": 600,
    "start_time": "2022-07-27T12:05:52.182Z"
   },
   {
    "duration": 31,
    "start_time": "2022-07-27T12:06:52.546Z"
   },
   {
    "duration": 20,
    "start_time": "2022-07-27T12:06:55.459Z"
   },
   {
    "duration": 439,
    "start_time": "2022-07-27T12:06:58.180Z"
   },
   {
    "duration": 22778,
    "start_time": "2022-07-27T12:11:26.502Z"
   },
   {
    "duration": 29896,
    "start_time": "2022-07-27T12:12:17.628Z"
   },
   {
    "duration": 23,
    "start_time": "2022-07-27T12:13:39.767Z"
   },
   {
    "duration": 367,
    "start_time": "2022-07-27T12:13:46.293Z"
   },
   {
    "duration": 20,
    "start_time": "2022-07-27T12:14:05.670Z"
   },
   {
    "duration": 52338,
    "start_time": "2022-07-27T12:14:15.924Z"
   },
   {
    "duration": 467,
    "start_time": "2022-07-27T12:17:11.873Z"
   },
   {
    "duration": 506,
    "start_time": "2022-07-27T12:17:45.033Z"
   },
   {
    "duration": 363,
    "start_time": "2022-07-27T12:18:01.680Z"
   },
   {
    "duration": 18,
    "start_time": "2022-07-27T12:18:43.496Z"
   },
   {
    "duration": 38,
    "start_time": "2022-07-27T12:18:48.499Z"
   },
   {
    "duration": 860,
    "start_time": "2022-07-27T12:19:46.592Z"
   },
   {
    "duration": 29,
    "start_time": "2022-07-27T12:19:58.366Z"
   },
   {
    "duration": 225,
    "start_time": "2022-07-27T12:20:02.851Z"
   },
   {
    "duration": 215,
    "start_time": "2022-07-27T12:20:10.670Z"
   },
   {
    "duration": 36,
    "start_time": "2022-07-27T12:22:25.689Z"
   },
   {
    "duration": 183,
    "start_time": "2022-07-27T12:22:32.880Z"
   },
   {
    "duration": 356,
    "start_time": "2022-07-27T12:22:38.184Z"
   },
   {
    "duration": 4790,
    "start_time": "2022-07-27T12:22:43.295Z"
   },
   {
    "duration": 402,
    "start_time": "2022-07-27T12:22:53.833Z"
   },
   {
    "duration": 1544,
    "start_time": "2022-07-27T12:23:42.926Z"
   },
   {
    "duration": 1389,
    "start_time": "2022-07-27T12:23:44.472Z"
   },
   {
    "duration": 31,
    "start_time": "2022-07-27T12:23:45.862Z"
   },
   {
    "duration": 50,
    "start_time": "2022-07-27T12:23:45.895Z"
   },
   {
    "duration": 15,
    "start_time": "2022-07-27T12:23:45.947Z"
   },
   {
    "duration": 510,
    "start_time": "2022-07-27T12:23:45.964Z"
   },
   {
    "duration": 32,
    "start_time": "2022-07-27T12:23:46.476Z"
   },
   {
    "duration": 13,
    "start_time": "2022-07-27T12:23:46.509Z"
   },
   {
    "duration": 33,
    "start_time": "2022-07-27T12:23:46.523Z"
   },
   {
    "duration": 96,
    "start_time": "2022-07-27T12:23:46.558Z"
   },
   {
    "duration": 8,
    "start_time": "2022-07-27T12:23:46.655Z"
   },
   {
    "duration": 212,
    "start_time": "2022-07-27T12:23:46.665Z"
   },
   {
    "duration": 10,
    "start_time": "2022-07-27T12:23:46.878Z"
   },
   {
    "duration": 523,
    "start_time": "2022-07-27T12:23:46.889Z"
   },
   {
    "duration": 78,
    "start_time": "2022-07-27T12:23:47.413Z"
   },
   {
    "duration": 60,
    "start_time": "2022-07-27T12:23:47.492Z"
   },
   {
    "duration": 20,
    "start_time": "2022-07-27T12:23:47.553Z"
   },
   {
    "duration": 22,
    "start_time": "2022-07-27T12:23:47.574Z"
   },
   {
    "duration": 401,
    "start_time": "2022-07-27T12:23:47.597Z"
   },
   {
    "duration": 52966,
    "start_time": "2022-07-27T12:23:48.000Z"
   },
   {
    "duration": 365,
    "start_time": "2022-07-27T12:24:40.968Z"
   },
   {
    "duration": 27,
    "start_time": "2022-07-27T12:24:41.335Z"
   },
   {
    "duration": 293,
    "start_time": "2022-07-27T12:24:41.364Z"
   },
   {
    "duration": 260,
    "start_time": "2022-07-27T12:24:41.659Z"
   },
   {
    "duration": 26,
    "start_time": "2022-07-27T12:24:41.933Z"
   },
   {
    "duration": 27,
    "start_time": "2022-07-27T12:24:41.961Z"
   },
   {
    "duration": 17,
    "start_time": "2022-07-27T12:26:08.966Z"
   },
   {
    "duration": 1470,
    "start_time": "2022-07-27T12:29:40.791Z"
   },
   {
    "duration": 1484,
    "start_time": "2022-07-27T12:29:42.263Z"
   },
   {
    "duration": 31,
    "start_time": "2022-07-27T12:29:43.748Z"
   },
   {
    "duration": 71,
    "start_time": "2022-07-27T12:29:43.781Z"
   },
   {
    "duration": 18,
    "start_time": "2022-07-27T12:29:43.853Z"
   },
   {
    "duration": 327,
    "start_time": "2022-07-27T12:29:43.872Z"
   },
   {
    "duration": 50,
    "start_time": "2022-07-27T12:29:44.201Z"
   },
   {
    "duration": 12,
    "start_time": "2022-07-27T12:29:44.253Z"
   },
   {
    "duration": 29,
    "start_time": "2022-07-27T12:29:44.267Z"
   },
   {
    "duration": 57,
    "start_time": "2022-07-27T12:29:44.299Z"
   },
   {
    "duration": 7,
    "start_time": "2022-07-27T12:29:44.358Z"
   },
   {
    "duration": 156,
    "start_time": "2022-07-27T12:29:44.367Z"
   },
   {
    "duration": 17,
    "start_time": "2022-07-27T12:29:44.524Z"
   },
   {
    "duration": 454,
    "start_time": "2022-07-27T12:29:44.543Z"
   },
   {
    "duration": 153,
    "start_time": "2022-07-27T12:29:44.998Z"
   },
   {
    "duration": 20,
    "start_time": "2022-07-27T12:29:45.153Z"
   },
   {
    "duration": 60,
    "start_time": "2022-07-27T12:29:45.175Z"
   },
   {
    "duration": 24,
    "start_time": "2022-07-27T12:29:45.236Z"
   },
   {
    "duration": 358,
    "start_time": "2022-07-27T12:29:45.262Z"
   },
   {
    "duration": 52923,
    "start_time": "2022-07-27T12:29:45.621Z"
   },
   {
    "duration": 807,
    "start_time": "2022-07-27T12:30:38.546Z"
   },
   {
    "duration": 17,
    "start_time": "2022-07-27T12:30:39.355Z"
   },
   {
    "duration": 267,
    "start_time": "2022-07-27T12:30:39.374Z"
   },
   {
    "duration": 260,
    "start_time": "2022-07-27T12:30:39.643Z"
   },
   {
    "duration": 44,
    "start_time": "2022-07-27T12:30:39.906Z"
   },
   {
    "duration": 30,
    "start_time": "2022-07-27T12:30:39.952Z"
   },
   {
    "duration": 1582,
    "start_time": "2022-07-28T07:56:29.363Z"
   },
   {
    "duration": 1764,
    "start_time": "2022-07-28T07:56:30.946Z"
   },
   {
    "duration": 29,
    "start_time": "2022-07-28T07:56:32.712Z"
   },
   {
    "duration": 51,
    "start_time": "2022-07-28T07:56:32.751Z"
   },
   {
    "duration": 17,
    "start_time": "2022-07-28T07:56:32.804Z"
   },
   {
    "duration": 404,
    "start_time": "2022-07-28T07:56:32.823Z"
   },
   {
    "duration": 43,
    "start_time": "2022-07-28T07:56:33.229Z"
   },
   {
    "duration": 11,
    "start_time": "2022-07-28T07:56:33.273Z"
   },
   {
    "duration": 35,
    "start_time": "2022-07-28T07:56:33.285Z"
   },
   {
    "duration": 65,
    "start_time": "2022-07-28T07:56:33.324Z"
   },
   {
    "duration": 9,
    "start_time": "2022-07-28T07:56:33.391Z"
   },
   {
    "duration": 139,
    "start_time": "2022-07-28T07:56:33.401Z"
   },
   {
    "duration": 14,
    "start_time": "2022-07-28T07:56:33.541Z"
   },
   {
    "duration": 478,
    "start_time": "2022-07-28T07:56:33.557Z"
   },
   {
    "duration": 116,
    "start_time": "2022-07-28T07:56:34.037Z"
   },
   {
    "duration": 25,
    "start_time": "2022-07-28T07:56:34.155Z"
   },
   {
    "duration": 22,
    "start_time": "2022-07-28T07:56:34.182Z"
   },
   {
    "duration": 52,
    "start_time": "2022-07-28T07:56:34.206Z"
   },
   {
    "duration": 402,
    "start_time": "2022-07-28T07:56:34.260Z"
   },
   {
    "duration": 57737,
    "start_time": "2022-07-28T07:56:34.664Z"
   },
   {
    "duration": 659,
    "start_time": "2022-07-28T07:57:32.403Z"
   },
   {
    "duration": 18,
    "start_time": "2022-07-28T07:57:33.064Z"
   },
   {
    "duration": 244,
    "start_time": "2022-07-28T07:57:33.083Z"
   },
   {
    "duration": 253,
    "start_time": "2022-07-28T07:57:33.329Z"
   },
   {
    "duration": 28,
    "start_time": "2022-07-28T07:57:33.584Z"
   },
   {
    "duration": 43,
    "start_time": "2022-07-28T07:57:33.614Z"
   },
   {
    "duration": 179,
    "start_time": "2022-07-28T08:13:26.984Z"
   },
   {
    "duration": 13,
    "start_time": "2022-07-28T08:14:15.488Z"
   },
   {
    "duration": 11,
    "start_time": "2022-07-28T08:19:50.555Z"
   },
   {
    "duration": 10,
    "start_time": "2022-07-28T08:21:18.169Z"
   },
   {
    "duration": 16,
    "start_time": "2022-07-28T08:21:40.285Z"
   },
   {
    "duration": 21,
    "start_time": "2022-07-28T08:34:11.985Z"
   },
   {
    "duration": 29,
    "start_time": "2022-07-28T08:40:09.439Z"
   },
   {
    "duration": 21,
    "start_time": "2022-07-28T08:48:03.997Z"
   },
   {
    "duration": 26,
    "start_time": "2022-07-28T08:52:49.836Z"
   },
   {
    "duration": 20,
    "start_time": "2022-07-28T08:53:43.579Z"
   },
   {
    "duration": 17,
    "start_time": "2022-07-28T08:55:31.575Z"
   },
   {
    "duration": 21,
    "start_time": "2022-07-28T08:55:56.314Z"
   },
   {
    "duration": 19,
    "start_time": "2022-07-28T08:57:01.532Z"
   },
   {
    "duration": 30,
    "start_time": "2022-07-28T08:59:17.862Z"
   },
   {
    "duration": 94,
    "start_time": "2022-07-28T08:59:47.052Z"
   },
   {
    "duration": 28,
    "start_time": "2022-07-28T09:00:16.678Z"
   },
   {
    "duration": 23,
    "start_time": "2022-07-28T09:03:25.487Z"
   },
   {
    "duration": 27,
    "start_time": "2022-07-28T09:04:00.269Z"
   },
   {
    "duration": 21,
    "start_time": "2022-07-28T09:04:21.830Z"
   },
   {
    "duration": 25,
    "start_time": "2022-07-28T09:09:58.185Z"
   },
   {
    "duration": 26,
    "start_time": "2022-07-28T09:11:39.941Z"
   },
   {
    "duration": 27,
    "start_time": "2022-07-28T09:12:31.660Z"
   },
   {
    "duration": 1356,
    "start_time": "2022-07-28T10:05:22.297Z"
   },
   {
    "duration": 1624,
    "start_time": "2022-07-28T10:05:23.655Z"
   },
   {
    "duration": 29,
    "start_time": "2022-07-28T10:05:25.281Z"
   },
   {
    "duration": 76,
    "start_time": "2022-07-28T10:05:25.312Z"
   },
   {
    "duration": 20,
    "start_time": "2022-07-28T10:05:25.390Z"
   },
   {
    "duration": 391,
    "start_time": "2022-07-28T10:05:25.411Z"
   },
   {
    "duration": 32,
    "start_time": "2022-07-28T10:05:25.804Z"
   },
   {
    "duration": 24,
    "start_time": "2022-07-28T10:05:25.838Z"
   },
   {
    "duration": 27,
    "start_time": "2022-07-28T10:05:25.863Z"
   },
   {
    "duration": 65,
    "start_time": "2022-07-28T10:05:25.892Z"
   },
   {
    "duration": 8,
    "start_time": "2022-07-28T10:05:25.958Z"
   },
   {
    "duration": 159,
    "start_time": "2022-07-28T10:05:25.968Z"
   },
   {
    "duration": 26,
    "start_time": "2022-07-28T10:05:26.130Z"
   },
   {
    "duration": 457,
    "start_time": "2022-07-28T10:05:26.157Z"
   },
   {
    "duration": 150,
    "start_time": "2022-07-28T10:05:26.615Z"
   },
   {
    "duration": 18,
    "start_time": "2022-07-28T10:05:26.767Z"
   },
   {
    "duration": 77,
    "start_time": "2022-07-28T10:05:26.787Z"
   },
   {
    "duration": 20,
    "start_time": "2022-07-28T10:05:26.866Z"
   },
   {
    "duration": 344,
    "start_time": "2022-07-28T10:05:26.888Z"
   },
   {
    "duration": 56943,
    "start_time": "2022-07-28T10:05:27.234Z"
   },
   {
    "duration": 484,
    "start_time": "2022-07-28T10:06:24.179Z"
   },
   {
    "duration": 23,
    "start_time": "2022-07-28T10:06:24.668Z"
   },
   {
    "duration": 90,
    "start_time": "2022-07-28T10:06:24.694Z"
   },
   {
    "duration": 0,
    "start_time": "2022-07-28T10:06:24.786Z"
   },
   {
    "duration": 0,
    "start_time": "2022-07-28T10:06:24.788Z"
   },
   {
    "duration": 0,
    "start_time": "2022-07-28T10:06:24.790Z"
   },
   {
    "duration": 141,
    "start_time": "2022-07-28T10:09:15.158Z"
   },
   {
    "duration": 5,
    "start_time": "2022-07-28T10:09:24.469Z"
   },
   {
    "duration": 300,
    "start_time": "2022-07-28T10:10:05.952Z"
   },
   {
    "duration": 199,
    "start_time": "2022-07-28T10:10:15.227Z"
   },
   {
    "duration": 27,
    "start_time": "2022-07-28T10:10:20.835Z"
   },
   {
    "duration": 27,
    "start_time": "2022-07-28T10:10:27.610Z"
   },
   {
    "duration": 2236,
    "start_time": "2022-07-28T13:09:29.208Z"
   },
   {
    "duration": 1687,
    "start_time": "2022-07-28T13:09:31.446Z"
   },
   {
    "duration": 31,
    "start_time": "2022-07-28T13:09:33.134Z"
   },
   {
    "duration": 71,
    "start_time": "2022-07-28T13:09:33.166Z"
   },
   {
    "duration": 20,
    "start_time": "2022-07-28T13:09:33.239Z"
   },
   {
    "duration": 425,
    "start_time": "2022-07-28T13:09:33.261Z"
   },
   {
    "duration": 41,
    "start_time": "2022-07-28T13:09:33.687Z"
   },
   {
    "duration": 12,
    "start_time": "2022-07-28T13:09:33.730Z"
   },
   {
    "duration": 29,
    "start_time": "2022-07-28T13:09:33.744Z"
   },
   {
    "duration": 48,
    "start_time": "2022-07-28T13:09:33.805Z"
   },
   {
    "duration": 9,
    "start_time": "2022-07-28T13:09:33.855Z"
   },
   {
    "duration": 172,
    "start_time": "2022-07-28T13:09:33.865Z"
   },
   {
    "duration": 11,
    "start_time": "2022-07-28T13:09:34.039Z"
   },
   {
    "duration": 671,
    "start_time": "2022-07-28T13:09:34.051Z"
   },
   {
    "duration": 134,
    "start_time": "2022-07-28T13:09:34.724Z"
   },
   {
    "duration": 59,
    "start_time": "2022-07-28T13:09:34.860Z"
   },
   {
    "duration": 19,
    "start_time": "2022-07-28T13:09:34.921Z"
   },
   {
    "duration": 25,
    "start_time": "2022-07-28T13:09:34.941Z"
   },
   {
    "duration": 404,
    "start_time": "2022-07-28T13:09:34.968Z"
   },
   {
    "duration": 57444,
    "start_time": "2022-07-28T13:09:35.374Z"
   },
   {
    "duration": 380,
    "start_time": "2022-07-28T13:10:32.820Z"
   },
   {
    "duration": 20,
    "start_time": "2022-07-28T13:10:33.205Z"
   },
   {
    "duration": 259,
    "start_time": "2022-07-28T13:10:33.226Z"
   },
   {
    "duration": 282,
    "start_time": "2022-07-28T13:10:33.498Z"
   },
   {
    "duration": 50,
    "start_time": "2022-07-28T13:10:33.782Z"
   },
   {
    "duration": 27,
    "start_time": "2022-07-28T13:10:33.834Z"
   },
   {
    "duration": 12,
    "start_time": "2022-07-28T13:10:33.863Z"
   },
   {
    "duration": 13,
    "start_time": "2022-07-28T13:10:37.617Z"
   },
   {
    "duration": 6,
    "start_time": "2022-07-28T13:12:56.046Z"
   },
   {
    "duration": 6,
    "start_time": "2022-07-28T13:14:50.333Z"
   },
   {
    "duration": 193,
    "start_time": "2022-07-28T13:18:43.144Z"
   },
   {
    "duration": 7,
    "start_time": "2022-07-28T13:18:50.887Z"
   },
   {
    "duration": 46,
    "start_time": "2022-07-28T14:36:04.260Z"
   },
   {
    "duration": 1627,
    "start_time": "2022-07-28T14:36:15.880Z"
   },
   {
    "duration": 1597,
    "start_time": "2022-07-29T08:22:57.072Z"
   },
   {
    "duration": 1738,
    "start_time": "2022-07-29T08:22:58.671Z"
   },
   {
    "duration": 31,
    "start_time": "2022-07-29T08:23:00.411Z"
   },
   {
    "duration": 43,
    "start_time": "2022-07-29T08:23:00.444Z"
   },
   {
    "duration": 16,
    "start_time": "2022-07-29T08:23:00.488Z"
   },
   {
    "duration": 404,
    "start_time": "2022-07-29T08:23:00.505Z"
   },
   {
    "duration": 40,
    "start_time": "2022-07-29T08:23:00.910Z"
   },
   {
    "duration": 10,
    "start_time": "2022-07-29T08:23:00.951Z"
   },
   {
    "duration": 32,
    "start_time": "2022-07-29T08:23:00.963Z"
   },
   {
    "duration": 45,
    "start_time": "2022-07-29T08:23:00.998Z"
   },
   {
    "duration": 8,
    "start_time": "2022-07-29T08:23:01.044Z"
   },
   {
    "duration": 130,
    "start_time": "2022-07-29T08:23:01.053Z"
   },
   {
    "duration": 9,
    "start_time": "2022-07-29T08:23:01.185Z"
   },
   {
    "duration": 496,
    "start_time": "2022-07-29T08:23:01.195Z"
   },
   {
    "duration": 89,
    "start_time": "2022-07-29T08:23:01.692Z"
   },
   {
    "duration": 19,
    "start_time": "2022-07-29T08:23:01.837Z"
   },
   {
    "duration": 23,
    "start_time": "2022-07-29T08:23:01.857Z"
   },
   {
    "duration": 27,
    "start_time": "2022-07-29T08:23:01.882Z"
   },
   {
    "duration": 393,
    "start_time": "2022-07-29T08:23:01.937Z"
   },
   {
    "duration": 59745,
    "start_time": "2022-07-29T08:23:02.336Z"
   },
   {
    "duration": 568,
    "start_time": "2022-07-29T08:24:02.083Z"
   },
   {
    "duration": 87,
    "start_time": "2022-07-29T08:24:02.652Z"
   },
   {
    "duration": 238,
    "start_time": "2022-07-29T08:24:02.741Z"
   },
   {
    "duration": 185,
    "start_time": "2022-07-29T08:24:02.980Z"
   },
   {
    "duration": 0,
    "start_time": "2022-07-29T08:24:03.167Z"
   },
   {
    "duration": 0,
    "start_time": "2022-07-29T08:24:03.168Z"
   },
   {
    "duration": 236,
    "start_time": "2022-07-29T08:43:25.446Z"
   },
   {
    "duration": 269,
    "start_time": "2022-07-29T08:50:13.788Z"
   },
   {
    "duration": 219,
    "start_time": "2022-07-29T08:51:22.288Z"
   },
   {
    "duration": 210,
    "start_time": "2022-07-29T08:52:41.027Z"
   },
   {
    "duration": 224,
    "start_time": "2022-07-29T08:52:52.753Z"
   },
   {
    "duration": 1944,
    "start_time": "2022-07-29T14:23:56.243Z"
   },
   {
    "duration": 1830,
    "start_time": "2022-07-29T14:23:58.192Z"
   },
   {
    "duration": 34,
    "start_time": "2022-07-29T14:24:00.027Z"
   },
   {
    "duration": 64,
    "start_time": "2022-07-29T14:24:00.063Z"
   },
   {
    "duration": 21,
    "start_time": "2022-07-29T14:24:00.129Z"
   },
   {
    "duration": 433,
    "start_time": "2022-07-29T14:24:00.151Z"
   },
   {
    "duration": 52,
    "start_time": "2022-07-29T14:24:00.586Z"
   },
   {
    "duration": 13,
    "start_time": "2022-07-29T14:24:00.640Z"
   },
   {
    "duration": 28,
    "start_time": "2022-07-29T14:24:00.655Z"
   },
   {
    "duration": 76,
    "start_time": "2022-07-29T14:24:00.686Z"
   },
   {
    "duration": 10,
    "start_time": "2022-07-29T14:24:00.763Z"
   },
   {
    "duration": 170,
    "start_time": "2022-07-29T14:24:00.774Z"
   },
   {
    "duration": 13,
    "start_time": "2022-07-29T14:24:00.946Z"
   },
   {
    "duration": 3076,
    "start_time": "2022-07-29T14:24:00.961Z"
   },
   {
    "duration": 175,
    "start_time": "2022-07-29T14:24:04.039Z"
   },
   {
    "duration": 22,
    "start_time": "2022-07-29T14:24:04.218Z"
   },
   {
    "duration": 22,
    "start_time": "2022-07-29T14:24:04.242Z"
   },
   {
    "duration": 29,
    "start_time": "2022-07-29T14:24:04.309Z"
   },
   {
    "duration": 421,
    "start_time": "2022-07-29T14:24:04.339Z"
   },
   {
    "duration": 70752,
    "start_time": "2022-07-29T14:24:04.762Z"
   },
   {
    "duration": 413,
    "start_time": "2022-07-29T14:25:15.517Z"
   },
   {
    "duration": 92,
    "start_time": "2022-07-29T14:25:15.932Z"
   },
   {
    "duration": 302,
    "start_time": "2022-07-29T14:25:16.027Z"
   },
   {
    "duration": 292,
    "start_time": "2022-07-29T14:25:16.333Z"
   },
   {
    "duration": 28,
    "start_time": "2022-07-29T14:25:16.627Z"
   },
   {
    "duration": 44,
    "start_time": "2022-07-29T14:25:16.658Z"
   },
   {
    "duration": 1733,
    "start_time": "2022-07-29T17:21:26.465Z"
   },
   {
    "duration": 2541,
    "start_time": "2022-07-29T17:21:28.200Z"
   },
   {
    "duration": 30,
    "start_time": "2022-07-29T17:21:30.743Z"
   },
   {
    "duration": 65,
    "start_time": "2022-07-29T17:21:30.775Z"
   },
   {
    "duration": 16,
    "start_time": "2022-07-29T17:21:30.841Z"
   },
   {
    "duration": 327,
    "start_time": "2022-07-29T17:21:30.859Z"
   },
   {
    "duration": 32,
    "start_time": "2022-07-29T17:21:31.188Z"
   },
   {
    "duration": 13,
    "start_time": "2022-07-29T17:21:31.234Z"
   },
   {
    "duration": 29,
    "start_time": "2022-07-29T17:21:31.251Z"
   },
   {
    "duration": 33,
    "start_time": "2022-07-29T17:21:31.282Z"
   },
   {
    "duration": 11,
    "start_time": "2022-07-29T17:21:31.332Z"
   },
   {
    "duration": 140,
    "start_time": "2022-07-29T17:21:31.345Z"
   },
   {
    "duration": 10,
    "start_time": "2022-07-29T17:21:31.487Z"
   },
   {
    "duration": 516,
    "start_time": "2022-07-29T17:21:31.499Z"
   },
   {
    "duration": 165,
    "start_time": "2022-07-29T17:21:32.017Z"
   },
   {
    "duration": 58,
    "start_time": "2022-07-29T17:21:32.184Z"
   },
   {
    "duration": 41,
    "start_time": "2022-07-29T17:21:32.248Z"
   },
   {
    "duration": 31,
    "start_time": "2022-07-29T17:21:32.291Z"
   },
   {
    "duration": 441,
    "start_time": "2022-07-29T17:21:32.324Z"
   },
   {
    "duration": 58882,
    "start_time": "2022-07-29T17:21:32.767Z"
   },
   {
    "duration": 201,
    "start_time": "2022-07-29T17:22:31.655Z"
   },
   {
    "duration": 89,
    "start_time": "2022-07-29T17:22:31.857Z"
   },
   {
    "duration": 253,
    "start_time": "2022-07-29T17:22:31.948Z"
   },
   {
    "duration": 307,
    "start_time": "2022-07-29T17:22:32.203Z"
   },
   {
    "duration": 43,
    "start_time": "2022-07-29T17:22:32.512Z"
   },
   {
    "duration": 31,
    "start_time": "2022-07-29T17:22:32.558Z"
   }
  ],
  "kernelspec": {
   "display_name": "Python 3.10.1 64-bit",
   "language": "python",
   "name": "python3"
  },
  "language_info": {
   "codemirror_mode": {
    "name": "ipython",
    "version": 3
   },
   "file_extension": ".py",
   "mimetype": "text/x-python",
   "name": "python",
   "nbconvert_exporter": "python",
   "pygments_lexer": "ipython3",
   "version": "3.10.1"
  },
  "toc": {
   "base_numbering": 1,
   "nav_menu": {},
   "number_sections": true,
   "sideBar": true,
   "skip_h1_title": true,
   "title_cell": "Table of Contents",
   "title_sidebar": "Contents",
   "toc_cell": false,
   "toc_position": {
    "height": "calc(100% - 180px)",
    "left": "10px",
    "top": "150px",
    "width": "302.391px"
   },
   "toc_section_display": true,
   "toc_window_display": true
  },
  "vscode": {
   "interpreter": {
    "hash": "e7d4d1fdefab968d87dae697830712be305784682ed311731942beb8000e292d"
   }
  }
 },
 "nbformat": 4,
 "nbformat_minor": 2
}
