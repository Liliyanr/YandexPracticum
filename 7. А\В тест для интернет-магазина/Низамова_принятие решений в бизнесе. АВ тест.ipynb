{
 "cells": [
  {
   "cell_type": "markdown",
   "metadata": {},
   "source": [
    "# Описание проекта\n",
    "Контекст\n",
    "Вы — аналитик крупного интернет-магазина. Вместе с отделом маркетинга вы подготовили список гипотез для увеличения выручки.\n",
    "Приоритизируйте гипотезы, запустите A/B-тест и проанализируйте результаты."
   ]
  },
  {
   "cell_type": "code",
   "execution_count": 31,
   "metadata": {},
   "outputs": [],
   "source": [
    "import pandas as pd\n",
    "import datetime as dt\n",
    "import numpy as np\n",
    "from matplotlib import pyplot as plt\n",
    "from scipy import stats as st"
   ]
  },
  {
   "cell_type": "code",
   "execution_count": 32,
   "metadata": {
    "scrolled": false
   },
   "outputs": [
    {
     "name": "stdout",
     "output_type": "stream",
     "text": [
      "Дубликатов в hypothesis: 0\n",
      "<class 'pandas.core.frame.DataFrame'>\n",
      "RangeIndex: 9 entries, 0 to 8\n",
      "Data columns (total 5 columns):\n",
      " #   Column      Non-Null Count  Dtype \n",
      "---  ------      --------------  ----- \n",
      " 0   Hypothesis  9 non-null      object\n",
      " 1   Reach       9 non-null      int64 \n",
      " 2   Impact      9 non-null      int64 \n",
      " 3   Confidence  9 non-null      int64 \n",
      " 4   Efforts     9 non-null      int64 \n",
      "dtypes: int64(4), object(1)\n",
      "memory usage: 488.0+ bytes\n"
     ]
    },
    {
     "data": {
      "text/html": [
       "<div>\n",
       "<style scoped>\n",
       "    .dataframe tbody tr th:only-of-type {\n",
       "        vertical-align: middle;\n",
       "    }\n",
       "\n",
       "    .dataframe tbody tr th {\n",
       "        vertical-align: top;\n",
       "    }\n",
       "\n",
       "    .dataframe thead th {\n",
       "        text-align: right;\n",
       "    }\n",
       "</style>\n",
       "<table border=\"1\" class=\"dataframe\">\n",
       "  <thead>\n",
       "    <tr style=\"text-align: right;\">\n",
       "      <th></th>\n",
       "      <th>Hypothesis</th>\n",
       "      <th>Reach</th>\n",
       "      <th>Impact</th>\n",
       "      <th>Confidence</th>\n",
       "      <th>Efforts</th>\n",
       "    </tr>\n",
       "  </thead>\n",
       "  <tbody>\n",
       "    <tr>\n",
       "      <th>0</th>\n",
       "      <td>Добавить два новых канала привлечения трафика, что позволит привлекать на 30% больше пользователей</td>\n",
       "      <td>3</td>\n",
       "      <td>10</td>\n",
       "      <td>8</td>\n",
       "      <td>6</td>\n",
       "    </tr>\n",
       "    <tr>\n",
       "      <th>1</th>\n",
       "      <td>Запустить собственную службу доставки, что сократит срок доставки заказов</td>\n",
       "      <td>2</td>\n",
       "      <td>5</td>\n",
       "      <td>4</td>\n",
       "      <td>10</td>\n",
       "    </tr>\n",
       "  </tbody>\n",
       "</table>\n",
       "</div>"
      ],
      "text/plain": [
       "                                                                                           Hypothesis  \\\n",
       "0  Добавить два новых канала привлечения трафика, что позволит привлекать на 30% больше пользователей   \n",
       "1                           Запустить собственную службу доставки, что сократит срок доставки заказов   \n",
       "\n",
       "   Reach  Impact  Confidence  Efforts  \n",
       "0      3      10           8        6  \n",
       "1      2       5           4       10  "
      ]
     },
     "metadata": {},
     "output_type": "display_data"
    },
    {
     "name": "stdout",
     "output_type": "stream",
     "text": [
      "\n",
      "Дубликатов в orders: 0\n",
      "<class 'pandas.core.frame.DataFrame'>\n",
      "RangeIndex: 1197 entries, 0 to 1196\n",
      "Data columns (total 5 columns):\n",
      " #   Column         Non-Null Count  Dtype \n",
      "---  ------         --------------  ----- \n",
      " 0   transactionId  1197 non-null   int64 \n",
      " 1   visitorId      1197 non-null   int64 \n",
      " 2   date           1197 non-null   object\n",
      " 3   revenue        1197 non-null   int64 \n",
      " 4   group          1197 non-null   object\n",
      "dtypes: int64(3), object(2)\n",
      "memory usage: 46.9+ KB\n"
     ]
    },
    {
     "data": {
      "text/html": [
       "<div>\n",
       "<style scoped>\n",
       "    .dataframe tbody tr th:only-of-type {\n",
       "        vertical-align: middle;\n",
       "    }\n",
       "\n",
       "    .dataframe tbody tr th {\n",
       "        vertical-align: top;\n",
       "    }\n",
       "\n",
       "    .dataframe thead th {\n",
       "        text-align: right;\n",
       "    }\n",
       "</style>\n",
       "<table border=\"1\" class=\"dataframe\">\n",
       "  <thead>\n",
       "    <tr style=\"text-align: right;\">\n",
       "      <th></th>\n",
       "      <th>transactionId</th>\n",
       "      <th>visitorId</th>\n",
       "      <th>date</th>\n",
       "      <th>revenue</th>\n",
       "      <th>group</th>\n",
       "    </tr>\n",
       "  </thead>\n",
       "  <tbody>\n",
       "    <tr>\n",
       "      <th>0</th>\n",
       "      <td>3667963787</td>\n",
       "      <td>3312258926</td>\n",
       "      <td>2019-08-15</td>\n",
       "      <td>1650</td>\n",
       "      <td>B</td>\n",
       "    </tr>\n",
       "    <tr>\n",
       "      <th>1</th>\n",
       "      <td>2804400009</td>\n",
       "      <td>3642806036</td>\n",
       "      <td>2019-08-15</td>\n",
       "      <td>730</td>\n",
       "      <td>B</td>\n",
       "    </tr>\n",
       "  </tbody>\n",
       "</table>\n",
       "</div>"
      ],
      "text/plain": [
       "   transactionId   visitorId        date  revenue group\n",
       "0     3667963787  3312258926  2019-08-15     1650     B\n",
       "1     2804400009  3642806036  2019-08-15      730     B"
      ]
     },
     "metadata": {},
     "output_type": "display_data"
    },
    {
     "name": "stdout",
     "output_type": "stream",
     "text": [
      "\n",
      "Дубликатов в visitors: 0\n",
      "<class 'pandas.core.frame.DataFrame'>\n",
      "RangeIndex: 62 entries, 0 to 61\n",
      "Data columns (total 3 columns):\n",
      " #   Column    Non-Null Count  Dtype \n",
      "---  ------    --------------  ----- \n",
      " 0   date      62 non-null     object\n",
      " 1   group     62 non-null     object\n",
      " 2   visitors  62 non-null     int64 \n",
      "dtypes: int64(1), object(2)\n",
      "memory usage: 1.6+ KB\n"
     ]
    },
    {
     "data": {
      "text/html": [
       "<div>\n",
       "<style scoped>\n",
       "    .dataframe tbody tr th:only-of-type {\n",
       "        vertical-align: middle;\n",
       "    }\n",
       "\n",
       "    .dataframe tbody tr th {\n",
       "        vertical-align: top;\n",
       "    }\n",
       "\n",
       "    .dataframe thead th {\n",
       "        text-align: right;\n",
       "    }\n",
       "</style>\n",
       "<table border=\"1\" class=\"dataframe\">\n",
       "  <thead>\n",
       "    <tr style=\"text-align: right;\">\n",
       "      <th></th>\n",
       "      <th>date</th>\n",
       "      <th>group</th>\n",
       "      <th>visitors</th>\n",
       "    </tr>\n",
       "  </thead>\n",
       "  <tbody>\n",
       "    <tr>\n",
       "      <th>0</th>\n",
       "      <td>2019-08-01</td>\n",
       "      <td>A</td>\n",
       "      <td>719</td>\n",
       "    </tr>\n",
       "    <tr>\n",
       "      <th>1</th>\n",
       "      <td>2019-08-02</td>\n",
       "      <td>A</td>\n",
       "      <td>619</td>\n",
       "    </tr>\n",
       "  </tbody>\n",
       "</table>\n",
       "</div>"
      ],
      "text/plain": [
       "         date group  visitors\n",
       "0  2019-08-01     A       719\n",
       "1  2019-08-02     A       619"
      ]
     },
     "metadata": {},
     "output_type": "display_data"
    }
   ],
   "source": [
    "try:\n",
    "    hypothesis, orders, visitors = (\n",
    "        pd.read_csv('/datasets/hypothesis.csv'),\n",
    "        pd.read_csv('/datasets/orders.csv'),\n",
    "        pd.read_csv('/datasets/visitors.csv')\n",
    "    )\n",
    "except:\n",
    "    hypothesis, orders, visitors = (\n",
    "        pd.read_csv('D:\\IT\\courses Python\\yandex_practicum\\\\7_\\hypothesis.csv'),\n",
    "        pd.read_csv('D:\\IT\\courses Python\\yandex_practicum\\\\7_\\orders.csv'),\n",
    "        pd.read_csv('D:\\IT\\courses Python\\yandex_practicum\\\\7_\\\\visitors.csv')\n",
    "    )\n",
    "\n",
    "print('Дубликатов в hypothesis:', hypothesis.duplicated().sum())\n",
    "hypothesis.info()\n",
    "display(hypothesis.head(2))\n",
    "print()\n",
    "print('Дубликатов в orders:', orders.duplicated().sum())\n",
    "orders.info()\n",
    "display(orders.head(2))\n",
    "print()\n",
    "print('Дубликатов в visitors:', visitors.duplicated().sum())\n",
    "visitors.info()\n",
    "display(visitors.head(2))"
   ]
  },
  {
   "cell_type": "markdown",
   "metadata": {},
   "source": [
    "## Описание данных\n",
    "### Данные для первой части\n",
    "#### Файл /datasets/hypothesis.csv. Скачать датасет\n",
    "- Hypothesis — краткое описание гипотезы;\n",
    "- Reach — охват пользователей по 10-балльной шкале;\n",
    "- Impact — влияние на пользователей по 10-балльной шкале;\n",
    "- Confidence — уверенность в гипотезе по 10-балльной шкале;\n",
    "- Efforts — затраты ресурсов на проверку гипотезы по 10-балльной шкале. Чем больше значение Efforts, тем дороже проверка гипотезы.\n",
    "### Данные для второй части\n",
    "#### Файл /datasets/orders.csv. Скачать датасет\n",
    "- transactionId — идентификатор заказа;\n",
    "- visitorId — идентификатор пользователя, совершившего заказ;\n",
    "- date — дата, когда был совершён заказ;\n",
    "- revenue — выручка заказа;\n",
    "- group — группа A/B-теста, в которую попал заказ.\n",
    "#### Файл /datasets/visitors.csv. Скачать датасет\n",
    "- date — дата;\n",
    "- group — группа A/B-теста;\n",
    "- visitors — количество пользователей в указанную дату в указанной группе A/B-теста"
   ]
  },
  {
   "cell_type": "code",
   "execution_count": 33,
   "metadata": {},
   "outputs": [
    {
     "data": {
      "text/html": [
       "<div>\n",
       "<style scoped>\n",
       "    .dataframe tbody tr th:only-of-type {\n",
       "        vertical-align: middle;\n",
       "    }\n",
       "\n",
       "    .dataframe tbody tr th {\n",
       "        vertical-align: top;\n",
       "    }\n",
       "\n",
       "    .dataframe thead th {\n",
       "        text-align: right;\n",
       "    }\n",
       "</style>\n",
       "<table border=\"1\" class=\"dataframe\">\n",
       "  <thead>\n",
       "    <tr style=\"text-align: right;\">\n",
       "      <th></th>\n",
       "      <th>hypothesis</th>\n",
       "      <th>reach</th>\n",
       "      <th>impact</th>\n",
       "      <th>confidence</th>\n",
       "      <th>efforts</th>\n",
       "    </tr>\n",
       "  </thead>\n",
       "  <tbody>\n",
       "    <tr>\n",
       "      <th>0</th>\n",
       "      <td>Добавить два новых канала привлечения трафика, что позволит привлекать на 30% больше пользователей</td>\n",
       "      <td>3</td>\n",
       "      <td>10</td>\n",
       "      <td>8</td>\n",
       "      <td>6</td>\n",
       "    </tr>\n",
       "    <tr>\n",
       "      <th>1</th>\n",
       "      <td>Запустить собственную службу доставки, что сократит срок доставки заказов</td>\n",
       "      <td>2</td>\n",
       "      <td>5</td>\n",
       "      <td>4</td>\n",
       "      <td>10</td>\n",
       "    </tr>\n",
       "    <tr>\n",
       "      <th>2</th>\n",
       "      <td>Добавить блоки рекомендаций товаров на сайт интернет магазина, чтобы повысить конверсию и средний чек заказа</td>\n",
       "      <td>8</td>\n",
       "      <td>3</td>\n",
       "      <td>7</td>\n",
       "      <td>3</td>\n",
       "    </tr>\n",
       "    <tr>\n",
       "      <th>3</th>\n",
       "      <td>Изменить структура категорий, что увеличит конверсию, т.к. пользователи быстрее найдут нужный товар</td>\n",
       "      <td>8</td>\n",
       "      <td>3</td>\n",
       "      <td>3</td>\n",
       "      <td>8</td>\n",
       "    </tr>\n",
       "    <tr>\n",
       "      <th>4</th>\n",
       "      <td>Изменить цвет фона главной страницы, чтобы увеличить вовлеченность пользователей</td>\n",
       "      <td>3</td>\n",
       "      <td>1</td>\n",
       "      <td>1</td>\n",
       "      <td>1</td>\n",
       "    </tr>\n",
       "    <tr>\n",
       "      <th>5</th>\n",
       "      <td>Добавить страницу отзывов клиентов о магазине, что позволит увеличить количество заказов</td>\n",
       "      <td>3</td>\n",
       "      <td>2</td>\n",
       "      <td>2</td>\n",
       "      <td>3</td>\n",
       "    </tr>\n",
       "    <tr>\n",
       "      <th>6</th>\n",
       "      <td>Показать на главной странице баннеры с актуальными акциями и распродажами, чтобы увеличить конверсию</td>\n",
       "      <td>5</td>\n",
       "      <td>3</td>\n",
       "      <td>8</td>\n",
       "      <td>3</td>\n",
       "    </tr>\n",
       "    <tr>\n",
       "      <th>7</th>\n",
       "      <td>Добавить форму подписки на все основные страницы, чтобы собрать базу клиентов для email-рассылок</td>\n",
       "      <td>10</td>\n",
       "      <td>7</td>\n",
       "      <td>8</td>\n",
       "      <td>5</td>\n",
       "    </tr>\n",
       "    <tr>\n",
       "      <th>8</th>\n",
       "      <td>Запустить акцию, дающую скидку на товар в день рождения</td>\n",
       "      <td>1</td>\n",
       "      <td>9</td>\n",
       "      <td>9</td>\n",
       "      <td>5</td>\n",
       "    </tr>\n",
       "  </tbody>\n",
       "</table>\n",
       "</div>"
      ],
      "text/plain": [
       "                                                                                                     hypothesis  \\\n",
       "0            Добавить два новых канала привлечения трафика, что позволит привлекать на 30% больше пользователей   \n",
       "1                                     Запустить собственную службу доставки, что сократит срок доставки заказов   \n",
       "2  Добавить блоки рекомендаций товаров на сайт интернет магазина, чтобы повысить конверсию и средний чек заказа   \n",
       "3           Изменить структура категорий, что увеличит конверсию, т.к. пользователи быстрее найдут нужный товар   \n",
       "4                              Изменить цвет фона главной страницы, чтобы увеличить вовлеченность пользователей   \n",
       "5                      Добавить страницу отзывов клиентов о магазине, что позволит увеличить количество заказов   \n",
       "6          Показать на главной странице баннеры с актуальными акциями и распродажами, чтобы увеличить конверсию   \n",
       "7              Добавить форму подписки на все основные страницы, чтобы собрать базу клиентов для email-рассылок   \n",
       "8                                                       Запустить акцию, дающую скидку на товар в день рождения   \n",
       "\n",
       "   reach  impact  confidence  efforts  \n",
       "0      3      10           8        6  \n",
       "1      2       5           4       10  \n",
       "2      8       3           7        3  \n",
       "3      8       3           3        8  \n",
       "4      3       1           1        1  \n",
       "5      3       2           2        3  \n",
       "6      5       3           8        3  \n",
       "7     10       7           8        5  \n",
       "8      1       9           9        5  "
      ]
     },
     "execution_count": 33,
     "metadata": {},
     "output_type": "execute_result"
    }
   ],
   "source": [
    "# Применить дополнительную настройку, которая позволяет выводить бесконечное количество столбцов\n",
    "pd.set_option('display.max_columns', None)\n",
    "\n",
    "# Установим максимальную ширину столбца = 150\n",
    "pd.options.display.max_colwidth = 150\n",
    "\n",
    "# Приведем дату к нужному типу\n",
    "orders['date'] = orders['date'].map(lambda x: dt.datetime.strptime(x, '%Y-%m-%d'))\n",
    "visitors['date'] = visitors['date'].map(lambda x: dt.datetime.strptime(x, '%Y-%m-%d'))\n",
    "\n",
    "# Приведем к нижнему регистру названия столбцов\n",
    "hypothesis.columns = hypothesis.columns.str.lower()\n",
    "hypothesis"
   ]
  },
  {
   "cell_type": "markdown",
   "metadata": {},
   "source": [
    "### Вывод\n",
    "- Пропусков нет, дубликатов нет.\n",
    "- в таблице hypothesis привели к нижнему регистру\n",
    "- дату привели к типу дейттайм"
   ]
  },
  {
   "cell_type": "markdown",
   "metadata": {},
   "source": [
    "## Часть 1. Приоритизация гипотез.\n",
    "В файле /datasets/hypothesis.csv 9 гипотез по увеличению выручки интернет-магазина с указанными параметрами Reach, Impact, Confidence, Effort."
   ]
  },
  {
   "cell_type": "code",
   "execution_count": 34,
   "metadata": {},
   "outputs": [
    {
     "data": {
      "text/html": [
       "<div>\n",
       "<style scoped>\n",
       "    .dataframe tbody tr th:only-of-type {\n",
       "        vertical-align: middle;\n",
       "    }\n",
       "\n",
       "    .dataframe tbody tr th {\n",
       "        vertical-align: top;\n",
       "    }\n",
       "\n",
       "    .dataframe thead th {\n",
       "        text-align: right;\n",
       "    }\n",
       "</style>\n",
       "<table border=\"1\" class=\"dataframe\">\n",
       "  <thead>\n",
       "    <tr style=\"text-align: right;\">\n",
       "      <th></th>\n",
       "      <th>hypothesis</th>\n",
       "      <th>ICE</th>\n",
       "    </tr>\n",
       "    <tr>\n",
       "      <th>id</th>\n",
       "      <th></th>\n",
       "      <th></th>\n",
       "    </tr>\n",
       "  </thead>\n",
       "  <tbody>\n",
       "    <tr>\n",
       "      <th>8</th>\n",
       "      <td>Запустить акцию, дающую скидку на товар в день рождения</td>\n",
       "      <td>16.2</td>\n",
       "    </tr>\n",
       "    <tr>\n",
       "      <th>0</th>\n",
       "      <td>Добавить два новых канала привлечения трафика, что позволит привлекать на 30% больше пользователей</td>\n",
       "      <td>13.3</td>\n",
       "    </tr>\n",
       "    <tr>\n",
       "      <th>7</th>\n",
       "      <td>Добавить форму подписки на все основные страницы, чтобы собрать базу клиентов для email-рассылок</td>\n",
       "      <td>11.2</td>\n",
       "    </tr>\n",
       "    <tr>\n",
       "      <th>6</th>\n",
       "      <td>Показать на главной странице баннеры с актуальными акциями и распродажами, чтобы увеличить конверсию</td>\n",
       "      <td>8.0</td>\n",
       "    </tr>\n",
       "    <tr>\n",
       "      <th>2</th>\n",
       "      <td>Добавить блоки рекомендаций товаров на сайт интернет магазина, чтобы повысить конверсию и средний чек заказа</td>\n",
       "      <td>7.0</td>\n",
       "    </tr>\n",
       "    <tr>\n",
       "      <th>1</th>\n",
       "      <td>Запустить собственную службу доставки, что сократит срок доставки заказов</td>\n",
       "      <td>2.0</td>\n",
       "    </tr>\n",
       "    <tr>\n",
       "      <th>5</th>\n",
       "      <td>Добавить страницу отзывов клиентов о магазине, что позволит увеличить количество заказов</td>\n",
       "      <td>1.3</td>\n",
       "    </tr>\n",
       "    <tr>\n",
       "      <th>3</th>\n",
       "      <td>Изменить структура категорий, что увеличит конверсию, т.к. пользователи быстрее найдут нужный товар</td>\n",
       "      <td>1.1</td>\n",
       "    </tr>\n",
       "    <tr>\n",
       "      <th>4</th>\n",
       "      <td>Изменить цвет фона главной страницы, чтобы увеличить вовлеченность пользователей</td>\n",
       "      <td>1.0</td>\n",
       "    </tr>\n",
       "  </tbody>\n",
       "</table>\n",
       "</div>"
      ],
      "text/plain": [
       "                                                                                                      hypothesis  \\\n",
       "id                                                                                                                 \n",
       "8                                                        Запустить акцию, дающую скидку на товар в день рождения   \n",
       "0             Добавить два новых канала привлечения трафика, что позволит привлекать на 30% больше пользователей   \n",
       "7               Добавить форму подписки на все основные страницы, чтобы собрать базу клиентов для email-рассылок   \n",
       "6           Показать на главной странице баннеры с актуальными акциями и распродажами, чтобы увеличить конверсию   \n",
       "2   Добавить блоки рекомендаций товаров на сайт интернет магазина, чтобы повысить конверсию и средний чек заказа   \n",
       "1                                      Запустить собственную службу доставки, что сократит срок доставки заказов   \n",
       "5                       Добавить страницу отзывов клиентов о магазине, что позволит увеличить количество заказов   \n",
       "3            Изменить структура категорий, что увеличит конверсию, т.к. пользователи быстрее найдут нужный товар   \n",
       "4                               Изменить цвет фона главной страницы, чтобы увеличить вовлеченность пользователей   \n",
       "\n",
       "     ICE  \n",
       "id        \n",
       "8   16.2  \n",
       "0   13.3  \n",
       "7   11.2  \n",
       "6    8.0  \n",
       "2    7.0  \n",
       "1    2.0  \n",
       "5    1.3  \n",
       "3    1.1  \n",
       "4    1.0  "
      ]
     },
     "execution_count": 34,
     "metadata": {},
     "output_type": "execute_result"
    }
   ],
   "source": [
    "# Примените фреймворк ICE для приоритизации гипотез. Отсортируйте их по убыванию приоритета.\n",
    "hypothesis['ICE'] = hypothesis['impact'] * hypothesis['confidence'] / hypothesis['efforts']\n",
    "hypothesis_ice = hypothesis[['hypothesis', 'ICE']].sort_values(by='ICE', ascending=False).round(1)\n",
    "hypothesis_ice.index.name = 'id' # Добавим название столбца с индексами\n",
    "hypothesis_ice"
   ]
  },
  {
   "cell_type": "code",
   "execution_count": 35,
   "metadata": {},
   "outputs": [
    {
     "data": {
      "text/html": [
       "<div>\n",
       "<style scoped>\n",
       "    .dataframe tbody tr th:only-of-type {\n",
       "        vertical-align: middle;\n",
       "    }\n",
       "\n",
       "    .dataframe tbody tr th {\n",
       "        vertical-align: top;\n",
       "    }\n",
       "\n",
       "    .dataframe thead th {\n",
       "        text-align: right;\n",
       "    }\n",
       "</style>\n",
       "<table border=\"1\" class=\"dataframe\">\n",
       "  <thead>\n",
       "    <tr style=\"text-align: right;\">\n",
       "      <th></th>\n",
       "      <th>hypothesis</th>\n",
       "      <th>RICE</th>\n",
       "    </tr>\n",
       "    <tr>\n",
       "      <th>id</th>\n",
       "      <th></th>\n",
       "      <th></th>\n",
       "    </tr>\n",
       "  </thead>\n",
       "  <tbody>\n",
       "    <tr>\n",
       "      <th>7</th>\n",
       "      <td>Добавить форму подписки на все основные страницы, чтобы собрать базу клиентов для email-рассылок</td>\n",
       "      <td>112.0</td>\n",
       "    </tr>\n",
       "    <tr>\n",
       "      <th>2</th>\n",
       "      <td>Добавить блоки рекомендаций товаров на сайт интернет магазина, чтобы повысить конверсию и средний чек заказа</td>\n",
       "      <td>56.0</td>\n",
       "    </tr>\n",
       "    <tr>\n",
       "      <th>0</th>\n",
       "      <td>Добавить два новых канала привлечения трафика, что позволит привлекать на 30% больше пользователей</td>\n",
       "      <td>40.0</td>\n",
       "    </tr>\n",
       "    <tr>\n",
       "      <th>6</th>\n",
       "      <td>Показать на главной странице баннеры с актуальными акциями и распродажами, чтобы увеличить конверсию</td>\n",
       "      <td>40.0</td>\n",
       "    </tr>\n",
       "    <tr>\n",
       "      <th>8</th>\n",
       "      <td>Запустить акцию, дающую скидку на товар в день рождения</td>\n",
       "      <td>16.2</td>\n",
       "    </tr>\n",
       "    <tr>\n",
       "      <th>3</th>\n",
       "      <td>Изменить структура категорий, что увеличит конверсию, т.к. пользователи быстрее найдут нужный товар</td>\n",
       "      <td>9.0</td>\n",
       "    </tr>\n",
       "    <tr>\n",
       "      <th>1</th>\n",
       "      <td>Запустить собственную службу доставки, что сократит срок доставки заказов</td>\n",
       "      <td>4.0</td>\n",
       "    </tr>\n",
       "    <tr>\n",
       "      <th>5</th>\n",
       "      <td>Добавить страницу отзывов клиентов о магазине, что позволит увеличить количество заказов</td>\n",
       "      <td>4.0</td>\n",
       "    </tr>\n",
       "    <tr>\n",
       "      <th>4</th>\n",
       "      <td>Изменить цвет фона главной страницы, чтобы увеличить вовлеченность пользователей</td>\n",
       "      <td>3.0</td>\n",
       "    </tr>\n",
       "  </tbody>\n",
       "</table>\n",
       "</div>"
      ],
      "text/plain": [
       "                                                                                                      hypothesis  \\\n",
       "id                                                                                                                 \n",
       "7               Добавить форму подписки на все основные страницы, чтобы собрать базу клиентов для email-рассылок   \n",
       "2   Добавить блоки рекомендаций товаров на сайт интернет магазина, чтобы повысить конверсию и средний чек заказа   \n",
       "0             Добавить два новых канала привлечения трафика, что позволит привлекать на 30% больше пользователей   \n",
       "6           Показать на главной странице баннеры с актуальными акциями и распродажами, чтобы увеличить конверсию   \n",
       "8                                                        Запустить акцию, дающую скидку на товар в день рождения   \n",
       "3            Изменить структура категорий, что увеличит конверсию, т.к. пользователи быстрее найдут нужный товар   \n",
       "1                                      Запустить собственную службу доставки, что сократит срок доставки заказов   \n",
       "5                       Добавить страницу отзывов клиентов о магазине, что позволит увеличить количество заказов   \n",
       "4                               Изменить цвет фона главной страницы, чтобы увеличить вовлеченность пользователей   \n",
       "\n",
       "     RICE  \n",
       "id         \n",
       "7   112.0  \n",
       "2    56.0  \n",
       "0    40.0  \n",
       "6    40.0  \n",
       "8    16.2  \n",
       "3     9.0  \n",
       "1     4.0  \n",
       "5     4.0  \n",
       "4     3.0  "
      ]
     },
     "execution_count": 35,
     "metadata": {},
     "output_type": "execute_result"
    }
   ],
   "source": [
    "# Примените фреймворк RICE для приоритизации гипотез. Отсортируйте их по убыванию приоритета. \n",
    "hypothesis['RICE'] = hypothesis['reach'] * hypothesis['impact'] * hypothesis['confidence'] / hypothesis['efforts']\n",
    "hypothesis_rice = hypothesis[['hypothesis', 'RICE']].sort_values(by='RICE', ascending=False)\n",
    "hypothesis_rice.index.name = 'id'\n",
    "hypothesis_rice"
   ]
  },
  {
   "cell_type": "code",
   "execution_count": 36,
   "metadata": {
    "scrolled": false
   },
   "outputs": [
    {
     "data": {
      "text/html": [
       "<div>\n",
       "<style scoped>\n",
       "    .dataframe tbody tr th:only-of-type {\n",
       "        vertical-align: middle;\n",
       "    }\n",
       "\n",
       "    .dataframe tbody tr th {\n",
       "        vertical-align: top;\n",
       "    }\n",
       "\n",
       "    .dataframe thead th {\n",
       "        text-align: right;\n",
       "    }\n",
       "</style>\n",
       "<table border=\"1\" class=\"dataframe\">\n",
       "  <thead>\n",
       "    <tr style=\"text-align: right;\">\n",
       "      <th></th>\n",
       "      <th>hypothesis_x</th>\n",
       "      <th>ICE</th>\n",
       "      <th>hypothesis_y</th>\n",
       "      <th>RICE</th>\n",
       "    </tr>\n",
       "    <tr>\n",
       "      <th>id</th>\n",
       "      <th></th>\n",
       "      <th></th>\n",
       "      <th></th>\n",
       "      <th></th>\n",
       "    </tr>\n",
       "  </thead>\n",
       "  <tbody>\n",
       "    <tr>\n",
       "      <th>7</th>\n",
       "      <td>Добавить форму подписки на все основные страницы, чтобы собрать базу клиентов для email-рассылок</td>\n",
       "      <td>11.2</td>\n",
       "      <td>Добавить форму подписки на все основные страницы, чтобы собрать базу клиентов для email-рассылок</td>\n",
       "      <td>112.0</td>\n",
       "    </tr>\n",
       "    <tr>\n",
       "      <th>2</th>\n",
       "      <td>Добавить блоки рекомендаций товаров на сайт интернет магазина, чтобы повысить конверсию и средний чек заказа</td>\n",
       "      <td>7.0</td>\n",
       "      <td>Добавить блоки рекомендаций товаров на сайт интернет магазина, чтобы повысить конверсию и средний чек заказа</td>\n",
       "      <td>56.0</td>\n",
       "    </tr>\n",
       "    <tr>\n",
       "      <th>0</th>\n",
       "      <td>Добавить два новых канала привлечения трафика, что позволит привлекать на 30% больше пользователей</td>\n",
       "      <td>13.3</td>\n",
       "      <td>Добавить два новых канала привлечения трафика, что позволит привлекать на 30% больше пользователей</td>\n",
       "      <td>40.0</td>\n",
       "    </tr>\n",
       "    <tr>\n",
       "      <th>6</th>\n",
       "      <td>Показать на главной странице баннеры с актуальными акциями и распродажами, чтобы увеличить конверсию</td>\n",
       "      <td>8.0</td>\n",
       "      <td>Показать на главной странице баннеры с актуальными акциями и распродажами, чтобы увеличить конверсию</td>\n",
       "      <td>40.0</td>\n",
       "    </tr>\n",
       "    <tr>\n",
       "      <th>8</th>\n",
       "      <td>Запустить акцию, дающую скидку на товар в день рождения</td>\n",
       "      <td>16.2</td>\n",
       "      <td>Запустить акцию, дающую скидку на товар в день рождения</td>\n",
       "      <td>16.2</td>\n",
       "    </tr>\n",
       "    <tr>\n",
       "      <th>3</th>\n",
       "      <td>Изменить структура категорий, что увеличит конверсию, т.к. пользователи быстрее найдут нужный товар</td>\n",
       "      <td>1.1</td>\n",
       "      <td>Изменить структура категорий, что увеличит конверсию, т.к. пользователи быстрее найдут нужный товар</td>\n",
       "      <td>9.0</td>\n",
       "    </tr>\n",
       "    <tr>\n",
       "      <th>1</th>\n",
       "      <td>Запустить собственную службу доставки, что сократит срок доставки заказов</td>\n",
       "      <td>2.0</td>\n",
       "      <td>Запустить собственную службу доставки, что сократит срок доставки заказов</td>\n",
       "      <td>4.0</td>\n",
       "    </tr>\n",
       "    <tr>\n",
       "      <th>5</th>\n",
       "      <td>Добавить страницу отзывов клиентов о магазине, что позволит увеличить количество заказов</td>\n",
       "      <td>1.3</td>\n",
       "      <td>Добавить страницу отзывов клиентов о магазине, что позволит увеличить количество заказов</td>\n",
       "      <td>4.0</td>\n",
       "    </tr>\n",
       "    <tr>\n",
       "      <th>4</th>\n",
       "      <td>Изменить цвет фона главной страницы, чтобы увеличить вовлеченность пользователей</td>\n",
       "      <td>1.0</td>\n",
       "      <td>Изменить цвет фона главной страницы, чтобы увеличить вовлеченность пользователей</td>\n",
       "      <td>3.0</td>\n",
       "    </tr>\n",
       "  </tbody>\n",
       "</table>\n",
       "</div>"
      ],
      "text/plain": [
       "                                                                                                    hypothesis_x  \\\n",
       "id                                                                                                                 \n",
       "7               Добавить форму подписки на все основные страницы, чтобы собрать базу клиентов для email-рассылок   \n",
       "2   Добавить блоки рекомендаций товаров на сайт интернет магазина, чтобы повысить конверсию и средний чек заказа   \n",
       "0             Добавить два новых канала привлечения трафика, что позволит привлекать на 30% больше пользователей   \n",
       "6           Показать на главной странице баннеры с актуальными акциями и распродажами, чтобы увеличить конверсию   \n",
       "8                                                        Запустить акцию, дающую скидку на товар в день рождения   \n",
       "3            Изменить структура категорий, что увеличит конверсию, т.к. пользователи быстрее найдут нужный товар   \n",
       "1                                      Запустить собственную службу доставки, что сократит срок доставки заказов   \n",
       "5                       Добавить страницу отзывов клиентов о магазине, что позволит увеличить количество заказов   \n",
       "4                               Изменить цвет фона главной страницы, чтобы увеличить вовлеченность пользователей   \n",
       "\n",
       "     ICE  \\\n",
       "id         \n",
       "7   11.2   \n",
       "2    7.0   \n",
       "0   13.3   \n",
       "6    8.0   \n",
       "8   16.2   \n",
       "3    1.1   \n",
       "1    2.0   \n",
       "5    1.3   \n",
       "4    1.0   \n",
       "\n",
       "                                                                                                    hypothesis_y  \\\n",
       "id                                                                                                                 \n",
       "7               Добавить форму подписки на все основные страницы, чтобы собрать базу клиентов для email-рассылок   \n",
       "2   Добавить блоки рекомендаций товаров на сайт интернет магазина, чтобы повысить конверсию и средний чек заказа   \n",
       "0             Добавить два новых канала привлечения трафика, что позволит привлекать на 30% больше пользователей   \n",
       "6           Показать на главной странице баннеры с актуальными акциями и распродажами, чтобы увеличить конверсию   \n",
       "8                                                        Запустить акцию, дающую скидку на товар в день рождения   \n",
       "3            Изменить структура категорий, что увеличит конверсию, т.к. пользователи быстрее найдут нужный товар   \n",
       "1                                      Запустить собственную службу доставки, что сократит срок доставки заказов   \n",
       "5                       Добавить страницу отзывов клиентов о магазине, что позволит увеличить количество заказов   \n",
       "4                               Изменить цвет фона главной страницы, чтобы увеличить вовлеченность пользователей   \n",
       "\n",
       "     RICE  \n",
       "id         \n",
       "7   112.0  \n",
       "2    56.0  \n",
       "0    40.0  \n",
       "6    40.0  \n",
       "8    16.2  \n",
       "3     9.0  \n",
       "1     4.0  \n",
       "5     4.0  \n",
       "4     3.0  "
      ]
     },
     "execution_count": 36,
     "metadata": {},
     "output_type": "execute_result"
    }
   ],
   "source": [
    "# Объединим таблицы и отсортируем по убыванию RICE\n",
    "hypothesis_ice.merge(hypothesis_rice, on='id', how='outer').sort_values(by='RICE', ascending=False)"
   ]
  },
  {
   "cell_type": "markdown",
   "metadata": {},
   "source": [
    "### Вывод\n",
    "\n",
    "#### В фреймворк ICE наиболее перспективные гипотезы по убыванию:\n",
    "- 8\t-Запустить акцию, дающую скидку на товар в день рождения, \n",
    "- 0\t-Добавить два новых канала привлечения трафика, что позволит привлекать на 30% больше пользователей, \n",
    "- 7\t-Добавить форму подписки на все основные страницы, чтобы собрать базу клиентов для email-рассылок, \n",
    "- 6\t-Показать на главной странице баннеры с актуальными акциями и распродажами, чтобы увеличить конверсию.\n",
    "\n",
    "#### В фреймворк RICE наиболее перспективные гипотезы по убыванию: \n",
    "- 7\t-Добавить форму подписки на все основные страницы, чтобы собрать базу клиентов для email-рассылок, \n",
    "- 2\t-Добавить блоки рекомендаций товаров на сайт интернет магазина, чтобы повысить конверсию и средний чек заказа, \n",
    "- 0\t-Добавить два новых канала привлечения трафика, что позволит привлекать на 30% больше пользователей, \n",
    "- 6\t-Показать на главной странице баннеры с актуальными акциями и распродажами, чтобы увеличить конверсию.\n",
    "\n",
    " 8 гипотеза ушла на пятое место в фреймворк RICE, а 2 гипотеза вышла на второе место с пятого. Потому что у 2 гипотезы охват пользователей (reach) =8, а у 8 гипотезы охват (reach) =1."
   ]
  },
  {
   "cell_type": "markdown",
   "metadata": {},
   "source": [
    "## Часть 2. Анализ A/B-теста\n",
    "Вы провели A/B-тест и получили результаты, которые описаны в файлах /datasets/orders.csv и /datasets/visitors.csv"
   ]
  },
  {
   "cell_type": "code",
   "execution_count": 37,
   "metadata": {},
   "outputs": [
    {
     "name": "stdout",
     "output_type": "stream",
     "text": [
      "В таблице orders:\n",
      "B    640\n",
      "A    557\n",
      "Name: group, dtype: int64\n",
      "\n",
      "В таблице visitors:\n",
      "A    31\n",
      "B    31\n",
      "Name: group, dtype: int64\n"
     ]
    }
   ],
   "source": [
    "# Проверим сколько у нас групп в АВ-тесте и количество пользователей в каждой группе\n",
    "print('В таблице orders:')\n",
    "print(orders['group'].value_counts())\n",
    "print()\n",
    "print('В таблице visitors:')\n",
    "print(visitors['group'].value_counts())"
   ]
  },
  {
   "cell_type": "markdown",
   "metadata": {},
   "source": [
    "В каждой таблице у нас по две группы.\n",
    "В таблице заказов orders количество пользователей в группах не совпадает."
   ]
  },
  {
   "cell_type": "code",
   "execution_count": 38,
   "metadata": {},
   "outputs": [
    {
     "data": {
      "text/plain": [
       "group    58\n",
       "dtype: int64"
      ]
     },
     "execution_count": 38,
     "metadata": {},
     "output_type": "execute_result"
    }
   ],
   "source": [
    "# Сколько пользователей в двух группах одновременно (по таблице с заказами)\n",
    "orders.pivot_table(index='visitorId', values='group', aggfunc='nunique').query('group > 1').count()"
   ]
  },
  {
   "cell_type": "code",
   "execution_count": 39,
   "metadata": {},
   "outputs": [
    {
     "data": {
      "image/png": "[encoded data removed]",
      "text/plain": [
       "<Figure size 432x288 with 1 Axes>"
      ]
     },
     "metadata": {
      "needs_background": "light"
     },
     "output_type": "display_data"
    },
    {
     "name": "stdout",
     "output_type": "stream",
     "text": [
      "P-value:0.7777251763611774\n",
      "Разница в количестве посетителей в группах A и B статистически НЕ значима\n",
      "\n",
      "Базовая конверсия: 0.030\n",
      "Измененная конверсия: 0.034\n",
      "Минимальный обнаруживаемый эффект: 0.121\n"
     ]
    }
   ],
   "source": [
    "# Построим гистограмму \n",
    "plt.hist(orders[orders['group']=='A']['visitorId'], alpha = 0.8, label='A', bins = 30)\n",
    "plt.hist(orders[orders['group']=='B']['visitorId'], alpha = 0.8, label='B', bins = 30)\n",
    "plt.legend()\n",
    "plt.title('Гистограммы кол-ва пользователей по группам A и B')\n",
    "plt.show()\n",
    "#Видны пики в большими заказами.\n",
    " \n",
    "# Применим непараметрический тест Уилкоксона-Манна-Уитни для проверки стат.значимости различия в размере групп\n",
    "results = st.mannwhitneyu(orders[orders['group']=='A']['visitorId'], orders[orders['group']=='B']['visitorId'])\n",
    "\n",
    "alpha = 0.05 # критический уровень статистической значимости\n",
    "print('P-value:{}'.format(results.pvalue))\n",
    "if results.pvalue < alpha:\n",
    "    print('Разница в количестве посетителей в группах A и B статистически значима\\n')\n",
    "else:\n",
    "    print('Разница в количестве посетителей в группах A и B статистически НЕ значима\\n')\n",
    "\n",
    "# Определим минимальный размер выборки для определения относительного различия между группами теста\n",
    "baseline_conversion_rate = len(orders[orders['group']=='A']) / visitors[visitors['group']=='A']['visitors'].sum()\n",
    "print('Базовая конверсия: {:.3f}'.format(baseline_conversion_rate))\n",
    "\n",
    "changed_conversion = len(orders[orders['group']=='B']) / visitors[visitors['group']=='B']['visitors'].sum()\n",
    "print('Измененная конверсия: {:.3f}'.format(changed_conversion))\n",
    "\n",
    "minimum_detectable_effect = abs(1- baseline_conversion_rate / changed_conversion)\n",
    "print('Минимальный обнаруживаемый эффект: {:.3f}'.format(minimum_detectable_effect))"
   ]
  },
  {
   "cell_type": "markdown",
   "metadata": {},
   "source": [
    "Вводим базовую конверсию и полученный минимальный обнаруживаемый эффект в калькулятор.\n",
    "Сайт калькулятора: https://www.evanmiller.org/ab-testing/sample-size.html\n",
    "Получаем необходимое количество выборки 35855 для корректного проведения тестирования."
   ]
  },
  {
   "cell_type": "code",
   "execution_count": 40,
   "metadata": {},
   "outputs": [
    {
     "name": "stdout",
     "output_type": "stream",
     "text": [
      "Общая сумма пользователей в группах: 37652\n"
     ]
    }
   ],
   "source": [
    "print('Общая сумма пользователей в группах: {}'.format(visitors['visitors'].sum()))"
   ]
  },
  {
   "cell_type": "markdown",
   "metadata": {},
   "source": [
    "37652 пользователя > 35855 в калькуляторе.\n",
    "Количество выборки для A/B тестирования корректно подобрано, статистически значимой разницы в количестве пользователей между группами нет"
   ]
  },
  {
   "cell_type": "code",
   "execution_count": 41,
   "metadata": {
    "scrolled": false
   },
   "outputs": [
    {
     "name": "stdout",
     "output_type": "stream",
     "text": [
      "2019-08-01 00:00:00 \n",
      " 2019-08-31 00:00:00\n"
     ]
    },
    {
     "name": "stderr",
     "output_type": "stream",
     "text": [
      "C:\\Users\\nikit\\AppData\\Local\\Temp\\ipykernel_624\\1753074706.py:6: FutureWarning: Treating datetime data as categorical rather than numeric in `.describe` is deprecated and will be removed in a future version of pandas. Specify `datetime_is_numeric=True` to silence this warning and adopt the future behavior now.\n",
      "  visitors['date'].describe()\n"
     ]
    },
    {
     "data": {
      "text/plain": [
       "count                      62\n",
       "unique                     31\n",
       "top       2019-08-01 00:00:00\n",
       "freq                        2\n",
       "first     2019-08-01 00:00:00\n",
       "last      2019-08-31 00:00:00\n",
       "Name: date, dtype: object"
      ]
     },
     "execution_count": 41,
     "metadata": {},
     "output_type": "execute_result"
    }
   ],
   "source": [
    "# Найдем даты начала и окончания теста\n",
    "min_date = orders['date'].min()\n",
    "max_date = orders['date'].max() \n",
    "print(min_date, \"\\n\", max_date)\n",
    "\n",
    "visitors['date'].describe()"
   ]
  },
  {
   "cell_type": "markdown",
   "metadata": {},
   "source": [
    "Даты начала и окончания теста совпадают."
   ]
  },
  {
   "cell_type": "markdown",
   "metadata": {},
   "source": [
    "### Постройте график кумулятивной выручки по группам."
   ]
  },
  {
   "cell_type": "code",
   "execution_count": 42,
   "metadata": {},
   "outputs": [],
   "source": [
    "# Создаем массив уникальных пар значений дат и групп теста\n",
    "date_group = orders[['date','group']].drop_duplicates()\n",
    "\n",
    "# Соберём агрегированные кумулятивные по дням данные о заказах \n",
    "orders_agg = date_group.apply(\n",
    "    lambda x: orders[np.logical_and(orders['date'] <= x['date'], orders['group'] == x['group'])].agg(\n",
    "        {'date' : 'max', 'group' : 'max', 'transactionId' : 'nunique', 'visitorId' : 'nunique', 'revenue' : 'sum'}\n",
    "    ), axis=1).sort_values(by=['date','group'])"
   ]
  },
  {
   "cell_type": "code",
   "execution_count": 43,
   "metadata": {},
   "outputs": [],
   "source": [
    "# Получим агрегированные кумулятивные по дням данные о посетителях интернет-магазина\n",
    "visitors_agg = date_group.apply(\n",
    "    lambda x: visitors[np.logical_and(visitors['date'] <= x['date'], visitors['group'] == x['group'])].agg(\n",
    "        {'date' : 'max', 'group' : 'max', 'visitors' : 'sum'}\n",
    "    ), axis=1).sort_values(by=['date','group'])"
   ]
  },
  {
   "cell_type": "code",
   "execution_count": 44,
   "metadata": {
    "scrolled": false
   },
   "outputs": [
    {
     "data": {
      "text/html": [
       "<div>\n",
       "<style scoped>\n",
       "    .dataframe tbody tr th:only-of-type {\n",
       "        vertical-align: middle;\n",
       "    }\n",
       "\n",
       "    .dataframe tbody tr th {\n",
       "        vertical-align: top;\n",
       "    }\n",
       "\n",
       "    .dataframe thead th {\n",
       "        text-align: right;\n",
       "    }\n",
       "</style>\n",
       "<table border=\"1\" class=\"dataframe\">\n",
       "  <thead>\n",
       "    <tr style=\"text-align: right;\">\n",
       "      <th></th>\n",
       "      <th>date</th>\n",
       "      <th>group</th>\n",
       "      <th>orders</th>\n",
       "      <th>buyers</th>\n",
       "      <th>revenue</th>\n",
       "      <th>visitors</th>\n",
       "    </tr>\n",
       "  </thead>\n",
       "  <tbody>\n",
       "    <tr>\n",
       "      <th>0</th>\n",
       "      <td>2019-08-01</td>\n",
       "      <td>A</td>\n",
       "      <td>24</td>\n",
       "      <td>20</td>\n",
       "      <td>148579</td>\n",
       "      <td>719</td>\n",
       "    </tr>\n",
       "    <tr>\n",
       "      <th>1</th>\n",
       "      <td>2019-08-01</td>\n",
       "      <td>B</td>\n",
       "      <td>21</td>\n",
       "      <td>20</td>\n",
       "      <td>101217</td>\n",
       "      <td>713</td>\n",
       "    </tr>\n",
       "    <tr>\n",
       "      <th>2</th>\n",
       "      <td>2019-08-02</td>\n",
       "      <td>A</td>\n",
       "      <td>44</td>\n",
       "      <td>38</td>\n",
       "      <td>242401</td>\n",
       "      <td>1338</td>\n",
       "    </tr>\n",
       "    <tr>\n",
       "      <th>3</th>\n",
       "      <td>2019-08-02</td>\n",
       "      <td>B</td>\n",
       "      <td>45</td>\n",
       "      <td>43</td>\n",
       "      <td>266748</td>\n",
       "      <td>1294</td>\n",
       "    </tr>\n",
       "    <tr>\n",
       "      <th>4</th>\n",
       "      <td>2019-08-03</td>\n",
       "      <td>A</td>\n",
       "      <td>68</td>\n",
       "      <td>62</td>\n",
       "      <td>354874</td>\n",
       "      <td>1845</td>\n",
       "    </tr>\n",
       "  </tbody>\n",
       "</table>\n",
       "</div>"
      ],
      "text/plain": [
       "        date group  orders  buyers  revenue  visitors\n",
       "0 2019-08-01     A      24      20   148579       719\n",
       "1 2019-08-01     B      21      20   101217       713\n",
       "2 2019-08-02     A      44      38   242401      1338\n",
       "3 2019-08-02     B      45      43   266748      1294\n",
       "4 2019-08-03     A      68      62   354874      1845"
      ]
     },
     "execution_count": 44,
     "metadata": {},
     "output_type": "execute_result"
    }
   ],
   "source": [
    "# объединяем кумулятивные данные в одной таблице и присваиваем ее столбцам понятные названия\n",
    "cumulative = orders_agg.merge(visitors_agg, left_on=['date', 'group'], right_on=['date', 'group'])\n",
    "cumulative.columns = ['date', 'group', 'orders', 'buyers', 'revenue', 'visitors']\n",
    "cumulative.head(5)"
   ]
  },
  {
   "cell_type": "code",
   "execution_count": 45,
   "metadata": {},
   "outputs": [
    {
     "data": {
      "image/png": "[encoded data removed]",
      "text/plain": [
       "<Figure size 504x288 with 1 Axes>"
      ]
     },
     "metadata": {
      "needs_background": "light"
     },
     "output_type": "display_data"
    }
   ],
   "source": [
    "# датафрейм с кумулятивным количеством заказов и кумулятивной выручкой по дням в группе А\n",
    "cumulativeRevenueA = cumulative[cumulative['group']=='A'][['date','revenue', 'orders']]\n",
    "\n",
    "# датафрейм с кумулятивным количеством заказов и кумулятивной выручкой по дням в группе B\n",
    "cumulativeRevenueB = cumulative[cumulative['group']=='B'][['date','revenue', 'orders']]\n",
    "\n",
    "# Изменим размер графика\n",
    "plt.figure(figsize=(7,4))\n",
    "\n",
    "# Строим график выручки группы А\n",
    "plt.plot(cumulativeRevenueA['date'], cumulativeRevenueA['revenue'], label='A')\n",
    "\n",
    "# Строим график выручки группы B\n",
    "plt.plot(cumulativeRevenueB['date'], cumulativeRevenueB['revenue'], label='B')\n",
    "\n",
    "# Повернем записи по оси х на 45 градусов\n",
    "plt.xticks(rotation=45)\n",
    "plt.legend()\n",
    "plt.title('График кумулятивной выручки по группам A/B')\n",
    "plt.xlabel('Дата')\n",
    "plt.ylabel('Выручка, у.е.')\n",
    "plt.show()"
   ]
  },
  {
   "cell_type": "markdown",
   "metadata": {},
   "source": [
    "Линия В на графике имеет резкий скачек, скорее всего связан с выбросом в заказах (возможно есть крупный заказ)\n",
    "### Постройте график кумулятивного среднего чека по группам."
   ]
  },
  {
   "cell_type": "code",
   "execution_count": 46,
   "metadata": {},
   "outputs": [
    {
     "data": {
      "image/png": "[encoded data removed]",
      "text/plain": [
       "<Figure size 504x288 with 1 Axes>"
      ]
     },
     "metadata": {
      "needs_background": "light"
     },
     "output_type": "display_data"
    }
   ],
   "source": [
    "# разделим кумулятивную выручку на кумулятивное число заказов\n",
    "plt.figure(figsize=(7,4))\n",
    "plt.plot(cumulativeRevenueA['date'], cumulativeRevenueA['revenue']/cumulativeRevenueA['orders'], label='A')\n",
    "plt.plot(cumulativeRevenueB['date'], cumulativeRevenueB['revenue']/cumulativeRevenueB['orders'], label='B')\n",
    "plt.legend()\n",
    "plt.xticks(rotation=45)\n",
    "plt.title('График кумулятивного среднего чека по группам A/B')\n",
    "plt.xlabel('Дата')\n",
    "plt.ylabel('Средний чек, у.е.')\n",
    "plt.show()"
   ]
  },
  {
   "cell_type": "markdown",
   "metadata": {},
   "source": [
    "Если линия группы А усреднилась с небольшими скачками с тенденцией вверх, то линия группы В после 17 числа имеет резкий скачек в среднем чеке, а потом идет на спад.\n",
    "    \n",
    "### Постройте график относительного изменения кумулятивного среднего чека группы B к группе A."
   ]
  },
  {
   "cell_type": "code",
   "execution_count": 47,
   "metadata": {
    "scrolled": false
   },
   "outputs": [
    {
     "data": {
      "image/png": "[encoded data removed]",
      "text/plain": [
       "<Figure size 504x288 with 1 Axes>"
      ]
     },
     "metadata": {
      "needs_background": "light"
     },
     "output_type": "display_data"
    }
   ],
   "source": [
    "# собираем данные в одном датафрейме\n",
    "mergedCumulativeRevenue = cumulativeRevenueA.merge(cumulativeRevenueB, left_on='date', right_on='date', how='left', suffixes=['A', 'B'])\n",
    "plt.figure(figsize=(7,4))\n",
    "\n",
    "# cтроим отношение средних чеков\n",
    "plt.plot(mergedCumulativeRevenue['date'], (mergedCumulativeRevenue['revenueB']/mergedCumulativeRevenue['ordersB'])/(mergedCumulativeRevenue['revenueA']/mergedCumulativeRevenue['ordersA'])-1)\n",
    "\n",
    "# добавляем ось X\n",
    "plt.axhline(y=0, color='black', linestyle='--')\n",
    "plt.xticks(rotation=45)\n",
    "plt.title('График относительного изменения куммулятивного среднего чека гр.В к гр.А')\n",
    "plt.xlabel('Дата')\n",
    "plt.show()"
   ]
  },
  {
   "cell_type": "markdown",
   "metadata": {},
   "source": [
    "Стабильности тут нет. Виден тот же скачёк после 17 числа и спад.\n",
    "\n",
    "### Постройте график кумулятивной конверсии по группам."
   ]
  },
  {
   "cell_type": "code",
   "execution_count": 48,
   "metadata": {},
   "outputs": [
    {
     "data": {
      "image/png": "[encoded data removed]",
      "text/plain": [
       "<Figure size 504x288 with 1 Axes>"
      ]
     },
     "metadata": {
      "needs_background": "light"
     },
     "output_type": "display_data"
    }
   ],
   "source": [
    "# считаем кумулятивную конверсию\n",
    "cumulative['conversion'] = cumulative['orders']/cumulative['visitors']\n",
    "\n",
    "# отделяем данные по группе A\n",
    "cumulativeA = cumulative[cumulative['group']=='A']\n",
    "\n",
    "# отделяем данные по группе B\n",
    "cumulativeB = cumulative[cumulative['group']=='B']\n",
    "\n",
    "# строим графики\n",
    "plt.figure(figsize=(7,4))\n",
    "plt.plot(cumulativeA['date'], cumulativeA['conversion'], label='A')\n",
    "plt.plot(cumulativeB['date'], cumulativeB['conversion'], label='B')\n",
    "plt.legend()\n",
    "\n",
    "# задаем масштаб осей\n",
    "plt.axis([dt.datetime(2019, 8, 1), dt.datetime(2019, 9, 2), 0.025, 0.040])\n",
    "plt.xticks(rotation=45)\n",
    "plt.title('График кумулятивной конверсии по группам A/B')\n",
    "plt.xlabel('Дата')\n",
    "plt.ylabel('Кумулятивная конверсия')\n",
    "plt.show()"
   ]
  },
  {
   "cell_type": "markdown",
   "metadata": {},
   "source": [
    "С увеличением масштаба линии стали более рельефные. Сначала линии идут резкими скачками, а потом линия А пошла вниз и стабилизировалась. Линия В пошла вверх и к концу тоже стабилизировалась.\n",
    "\n",
    "### Постройте график относительного изменения кумулятивной конверсии группы B к группе A."
   ]
  },
  {
   "cell_type": "code",
   "execution_count": 49,
   "metadata": {},
   "outputs": [
    {
     "data": {
      "image/png": "[encoded data removed]",
      "text/plain": [
       "<Figure size 504x288 with 1 Axes>"
      ]
     },
     "metadata": {
      "needs_background": "light"
     },
     "output_type": "display_data"
    }
   ],
   "source": [
    "# Объединим таблицы\n",
    "mergedCumulativeConversions = cumulativeA[['date','conversion']].merge(\n",
    "    cumulativeB[['date','conversion']], left_on='date', right_on='date', how='left', suffixes=['A', 'B'])\n",
    "\n",
    "plt.figure(figsize=(7,4))\n",
    "plt.plot(mergedCumulativeConversions['date'], mergedCumulativeConversions['conversionB']\n",
    "         /mergedCumulativeConversions['conversionA']-1, \n",
    "         label=\"Относительный прирост конверсии группы B относительно группы A\")\n",
    "\n",
    "plt.axhline(y=0, color='black', linestyle='--')\n",
    "plt.axhline(y=0.15, color='grey', linestyle='--')\n",
    "plt.axis([dt.datetime(2019, 8, 1), dt.datetime(2019, 9, 1), -0.10, 0.24])\n",
    "plt.xticks(rotation=45)\n",
    "plt.title('График относительного изменения кумулятивной конверсии гр.В к гр.А')\n",
    "plt.xlabel('Дата')\n",
    "plt.show()"
   ]
  },
  {
   "cell_type": "markdown",
   "metadata": {},
   "source": [
    "Вначале конверсия группы В резкий подъем и спад, потом все-таки поднялась и теперь идет на поъеме в районе 15%.\n",
    "### Постройте точечный график количества заказов по пользователям."
   ]
  },
  {
   "cell_type": "code",
   "execution_count": 50,
   "metadata": {},
   "outputs": [
    {
     "name": "stdout",
     "output_type": "stream",
     "text": [
      "          userId  orders\n",
      "1023  4256040402      11\n",
      "591   2458001652      11\n",
      "569   2378935119       9\n",
      "487   2038680547       8\n",
      "44     199603092       5\n"
     ]
    },
    {
     "data": {
      "image/png": "[encoded data removed]",
      "text/plain": [
       "<Figure size 432x288 with 1 Axes>"
      ]
     },
     "metadata": {
      "needs_background": "light"
     },
     "output_type": "display_data"
    }
   ],
   "source": [
    "ordersByUsers = (\n",
    "    orders.groupby('visitorId', as_index=False)\n",
    "    .agg({'transactionId': 'nunique'})\n",
    ")\n",
    "ordersByUsers.columns = ['userId', 'orders']\n",
    "print(ordersByUsers.sort_values(by='orders', ascending=False).head(5)) \n",
    "\n",
    "x_values = pd.Series(range(0,len(ordersByUsers)))\n",
    "plt.scatter(x_values, ordersByUsers['orders'])\n",
    "plt.title('Точечный график количества заказов по пользователям')\n",
    "plt.xlabel('Сумма заказов, у.е.')\n",
    "plt.ylabel('Количество заказов, шт')\n",
    "plt.show()"
   ]
  },
  {
   "cell_type": "markdown",
   "metadata": {},
   "source": [
    "Большинство пользователей совершают разовые покупки. И два пользователя делают по 11 заказов.\n",
    "### Посчитайте 95-й и 99-й перцентили количества заказов на пользователя. "
   ]
  },
  {
   "cell_type": "code",
   "execution_count": 51,
   "metadata": {},
   "outputs": [
    {
     "data": {
      "text/plain": [
       "array([2., 4.])"
      ]
     },
     "execution_count": 51,
     "metadata": {},
     "output_type": "execute_result"
    }
   ],
   "source": [
    "# Выберите границу для определения аномальных пользователей.\n",
    "np.percentile(ordersByUsers['orders'], [95, 99])"
   ]
  },
  {
   "cell_type": "markdown",
   "metadata": {},
   "source": [
    "5% пользователей сделали по два заказа, 1% - по 4 заказа. Выберем 2-3 заказа на одного пользователя за нижнюю границу числа заказов, и отсеем аномальных пользователей по ней.\n",
    "### Постройте точечный график стоимостей заказов. "
   ]
  },
  {
   "cell_type": "code",
   "execution_count": 52,
   "metadata": {
    "scrolled": true
   },
   "outputs": [
    {
     "data": {
      "image/png": "[encoded data removed]",
      "text/plain": [
       "<Figure size 432x288 with 1 Axes>"
      ]
     },
     "metadata": {
      "needs_background": "light"
     },
     "output_type": "display_data"
    }
   ],
   "source": [
    "x_values = pd.Series(range(0, len(orders['revenue'])))\n",
    "plt.scatter(x_values, orders['revenue'])\n",
    "plt.title('Точечный график стоимостей заказов')\n",
    "plt.xlabel('Количество заказов, шт')\n",
    "plt.ylabel('Сумма заказов, у.е.')\n",
    "plt.show()"
   ]
  },
  {
   "cell_type": "markdown",
   "metadata": {},
   "source": [
    "На графике есть выбросы аномально больших, крупных заказов. Сделаем срез графика, чтобы посмотреть без выбросов."
   ]
  },
  {
   "cell_type": "code",
   "execution_count": 53,
   "metadata": {
    "scrolled": true
   },
   "outputs": [
    {
     "data": {
      "image/png": "[encoded data removed]",
      "text/plain": [
       "<Figure size 432x288 with 1 Axes>"
      ]
     },
     "metadata": {
      "needs_background": "light"
     },
     "output_type": "display_data"
    }
   ],
   "source": [
    "x_values = pd.Series(range(0, len(orders['revenue'])))\n",
    "\n",
    "plt.axis([0, 1200, 0, 100000])\n",
    "plt.scatter(x_values, orders['revenue'])\n",
    "plt.title('Точечный график стоимостей заказов')\n",
    "plt.xlabel('Количество заказов, шт')\n",
    "plt.ylabel('Сумма заказов, у.е.')\n",
    "plt.show()"
   ]
  },
  {
   "cell_type": "markdown",
   "metadata": {},
   "source": [
    "Большинство пользователей совершают покупки от 15000 до 30000 у.е."
   ]
  },
  {
   "cell_type": "markdown",
   "metadata": {},
   "source": [
    "\n",
    "### Посчитайте 95-й и 99-й перцентили стоимости заказов. "
   ]
  },
  {
   "cell_type": "code",
   "execution_count": 54,
   "metadata": {},
   "outputs": [
    {
     "data": {
      "text/plain": [
       "array([28000. , 58233.2])"
      ]
     },
     "execution_count": 54,
     "metadata": {},
     "output_type": "execute_result"
    }
   ],
   "source": [
    "# Выберите границу для определения аномальных заказов.\n",
    "np.percentile(orders['revenue'], [95, 99])"
   ]
  },
  {
   "cell_type": "markdown",
   "metadata": {},
   "source": [
    "Не более, чем у 5% заказов чек больше 28000 рублей, а у 1% больше 58233 рублей. Пусть 28000 рублей и будут нижней границей.\n",
    "\n",
    "### Посчитайте статистическую значимость различий в конверсии между группами по «сырым» данным. "
   ]
  },
  {
   "cell_type": "code",
   "execution_count": 55,
   "metadata": {
    "scrolled": true
   },
   "outputs": [
    {
     "name": "stdout",
     "output_type": "stream",
     "text": [
      "\n",
      " p-value: 0.017\n",
      "Относительный прирост конверсии по \"сырым\" данным группы В к конверсии группы А: 0.138 \n",
      "\n"
     ]
    }
   ],
   "source": [
    "# В них для пользователей, которые заказывали хотя бы 1 раз, укажем число совершённых заказов.\n",
    "ordersByUsersA = (\n",
    "    orders[orders['group'] == 'A']\n",
    "    .groupby('visitorId', as_index=False)\n",
    "    .agg({'transactionId': pd.Series.nunique})\n",
    ")\n",
    "ordersByUsersA.columns = ['userId', 'orders']\n",
    "\n",
    "ordersByUsersB = (\n",
    "    orders[orders['group'] == 'B']\n",
    "    .groupby('visitorId', as_index=False)\n",
    "    .agg({'transactionId': pd.Series.nunique})\n",
    ")\n",
    "ordersByUsersB.columns = ['userId', 'orders']\n",
    "\n",
    "# Пользователям из разных групп соответствует количество заказов. Тем, кто ничего не заказал, будут соответствовать нули. \n",
    "sampleA = pd.concat([ordersByUsersA['orders'], \n",
    "                     pd.Series(0, index=np.arange(visitors[visitors['group'] == 'A']['visitors'].sum() - \n",
    "                                                  len(ordersByUsersA['orders'])), name='orders')],axis=0)\n",
    "\n",
    "sampleB = pd.concat([ordersByUsersB['orders'],\n",
    "                     pd.Series(0, index=np.arange(visitors[visitors['group'] == 'B']['visitors'].sum() - \n",
    "                                                  len(ordersByUsersB['orders'])), name='orders')],axis=0)\n",
    "\n",
    "# Сформулируем гипотезы. Нулевая: различий в конверсии между группами нет. \n",
    "# Альтернативная: различия в конверсии между группами есть.\n",
    "# Применим тест Манна-Уитни\n",
    "print('\\n p-value: {0:.3f}'.format(st.mannwhitneyu(sampleA, sampleB)[1]))\n",
    "print('Относительный прирост конверсии по \"сырым\" данным группы В к конверсии группы А: {0:.3f} \\n'.format(sampleB.mean() / sampleA.mean() - 1))"
   ]
  },
  {
   "cell_type": "markdown",
   "metadata": {},
   "source": [
    "p-value < 0.05. Нулевая гипотеза опроверглась, есть различия в конверсии между группами. Относительный прирост конверсии группы В к конверсии группы А равен 14%\n",
    "    \n",
    "### Посчитайте статистическую значимость различий в среднем чеке заказа между группами по «сырым» данным."
   ]
  },
  {
   "cell_type": "code",
   "execution_count": 56,
   "metadata": {
    "scrolled": true
   },
   "outputs": [
    {
     "name": "stdout",
     "output_type": "stream",
     "text": [
      "\n",
      " p-value: 0.729\n",
      "Относительные различия в среднем чеке по \"сырым\" данным между группами В и А: 0.259 \n",
      "\n"
     ]
    }
   ],
   "source": [
    "# Передадим критерию mannwhitneyu() данные о выручке с заказов.\n",
    "print('\\n p-value: {0:.3f}'.format(\n",
    "    st.mannwhitneyu(orders[orders['group']=='A']['revenue'], orders[orders['group']=='B']['revenue'])[1]))\n",
    "\n",
    "# Найдём относительные различия в среднем чеке между группами\n",
    "print('Относительные различия в среднем чеке по \"сырым\" данным между группами В и А: {0:.3f} \\n'.format(\n",
    "    orders[orders['group']=='B']['revenue'].mean()/orders[orders['group']=='A']['revenue'].mean()-1))"
   ]
  },
  {
   "cell_type": "markdown",
   "metadata": {},
   "source": [
    "P-value > 0.05, следовательно между группами нет статистически значимого различия по среднему чеку по \"сырым\" данным, несмотря на относительную разницу почти в 26%\n",
    "\n",
    "### Посчитайте статистическую значимость различий в конверсии между группами по «очищенным» данным.   "
   ]
  },
  {
   "cell_type": "code",
   "execution_count": 57,
   "metadata": {},
   "outputs": [],
   "source": [
    "# Для формирования списка аномальных пользователей примем тех, кто совершил от 2 заказов- это 95 перцентиль в заказах\n",
    "limit_orders = np.percentile(ordersByUsers['orders'], 95)\n",
    "\n",
    "# или совершил заказ дороже 28 000 рублей-  это 95 перцентиль в выручке. \n",
    "# Так мы уберём 5% пользователей с наибольшим числом заказов и от 1% до 5% пользователей с дорогими заказами. \n",
    "limit_revenue = np.percentile(orders['revenue'], 95)"
   ]
  },
  {
   "cell_type": "code",
   "execution_count": 58,
   "metadata": {},
   "outputs": [
    {
     "name": "stdout",
     "output_type": "stream",
     "text": [
      "1099    148427295\n",
      "18      199603092\n",
      "928     204675465\n",
      "23      237748145\n",
      "37      249864742\n",
      "dtype: int64\n"
     ]
    },
    {
     "data": {
      "text/plain": [
       "74"
      ]
     },
     "execution_count": 58,
     "metadata": {},
     "output_type": "execute_result"
    }
   ],
   "source": [
    "# Сделаем срезы аномальных пользователей\n",
    "usersWithManyOrders = pd.concat(\n",
    "    [\n",
    "        ordersByUsersA[ordersByUsersA['orders'] > limit_orders]['userId'],\n",
    "        ordersByUsersB[ordersByUsersB['orders'] > limit_orders]['userId'],\n",
    "    ],\n",
    "    axis=0,\n",
    ")\n",
    "usersWithExpensiveOrders = orders[orders['revenue'] > limit_revenue]['visitorId']\n",
    "\n",
    "# Объединим срезы в таблице abnormalUsers\n",
    "abnormalUsers = (\n",
    "    pd.concat([usersWithManyOrders, usersWithExpensiveOrders], axis=0)\n",
    "    .drop_duplicates()\n",
    "    .sort_values()\n",
    ")\n",
    "print(abnormalUsers.head(5))\n",
    "abnormalUsers.shape[0] # Посчитаем сколько аномальных пользователей повлияли на результат теста"
   ]
  },
  {
   "cell_type": "code",
   "execution_count": 59,
   "metadata": {},
   "outputs": [
    {
     "name": "stdout",
     "output_type": "stream",
     "text": [
      "\n",
      " p-value: 0.013\n",
      "Относительный прирост конверсии по «очищенным» данным группы В к конверсии группы А: 0.173 \n",
      "\n"
     ]
    }
   ],
   "source": [
    "# Выборки количества заказов по пользователям по группам теста\n",
    "sampleAFiltered = pd.concat([ordersByUsersA[np.logical_not(ordersByUsersA['userId'].isin(abnormalUsers))]['orders'], \n",
    "                             pd.Series(0, index=np.arange(\n",
    "                                 visitors[visitors['group'] == 'A']['visitors'].sum() - len(ordersByUsersA['orders'])), name='orders')], axis=0\n",
    "                           )\n",
    "\n",
    "sampleBFiltered = pd.concat([ordersByUsersB[np.logical_not(ordersByUsersB['userId'].isin(abnormalUsers))]['orders'], \n",
    "                             pd.Series(0, index=np.arange(\n",
    "                                 visitors[visitors['group'] == 'B']['visitors'].sum() - len(ordersByUsersB['orders'])), name='orders')], axis=0\n",
    "                           )\n",
    "\n",
    "# Применим статистический критерий Манна-Уитни\n",
    "print('\\n p-value: {0:.3f}'.format(st.mannwhitneyu(sampleAFiltered, sampleBFiltered)[1]))\n",
    "print('Относительный прирост конверсии по «очищенным» данным группы В к конверсии группы А: {0:.3f} \\n'.format(\n",
    "    sampleBFiltered.mean()/sampleAFiltered.mean()-1))"
   ]
  },
  {
   "cell_type": "markdown",
   "metadata": {},
   "source": [
    "Как и в случае с сырыми данными, p-value < 0.05 статистической значимости, различия в конверсии между группами есть. Cегмент группы В на 17% лучше, сегмента группы А. Разница между данными не большая 13.8% и 17.3%.\n",
    "\n",
    "### Посчитайте статистическую значимость различий в среднем чеке заказа между группами по «очищенным» данным. "
   ]
  },
  {
   "cell_type": "code",
   "execution_count": 60,
   "metadata": {},
   "outputs": [
    {
     "name": "stdout",
     "output_type": "stream",
     "text": [
      "\n",
      " p-value: 0.738\n",
      "Относительные различия в среднем чеке между группами А и В по «очищенным» данным: -0.020 \n",
      "\n"
     ]
    }
   ],
   "source": [
    "print('\\n p-value: {0:.3f}'.format(st.mannwhitneyu(orders[np.logical_and(orders['group'] == 'A',\n",
    "        np.logical_not(orders['visitorId'].isin(abnormalUsers)))]['revenue'],\n",
    "                                       orders[np.logical_and(orders['group'] == 'B',\n",
    "                                           np.logical_not(orders['visitorId'].isin(abnormalUsers)))]['revenue'])[1])\n",
    "     )\n",
    "\n",
    "print('Относительные различия в среднем чеке между группами А и В по «очищенным» данным: {0:.3f} \\n'.format(orders[\n",
    "    np.logical_and(\n",
    "        orders['group'] == 'B',\n",
    "        np.logical_not(orders['visitorId'].isin(abnormalUsers)))]['revenue'].mean()\n",
    "                       / orders[np.logical_and(\n",
    "                           orders['group'] == 'A',\n",
    "                           np.logical_not(orders['visitorId'].isin(abnormalUsers)))]['revenue'].mean() - 1)\n",
    "     )\n"
   ]
  },
  {
   "cell_type": "markdown",
   "metadata": {},
   "source": [
    "Тест показал, что статистически не значимо различие в среднем чеке между группами, а влияние выбросов как раз оказалось очень значимое - по очищенным данным (без выбросов) средний чек в группе В меньше на 2%, а по неочищенным (с выбросами) - больше на 26%. Очень существенное влияние. Но это выборосы, то есть случайности, и по ним нельзя судить о среднем чеке в целом."
   ]
  },
  {
   "cell_type": "markdown",
   "metadata": {},
   "source": [
    "## Вывод\n",
    "- p-value: 0.017. Относительный прирост конверсии по \"сырым\" данным группы В к конверсии группы А: 0.138. Нулевая гипотеза опроверглась, есть различия в конверсии между группами. \n",
    "- p-value: 0.729. Относительные различия в среднем чеке по \"сырым\" данным между группами В и А: 0.259. Между группами нет статистически значимого различия по среднему чеку по \"сырым\" данным, несмотря на относительную разницу почти в 26%\n",
    "- Как и в случае с сырыми данными, p-value < 0.05 статистической значимости, различия в конверсии между группами есть. Cегмент группы В на 17% лучше, сегмента группы А. Разница между данными не большая 13.8% и 17.3%.\n",
    "- Тест показал, что статистически не значимо различие в среднем чеке между группами, а влияние выбросов как раз оказалось очень значимое - по очищенным данным (без выбросов) средний чек в группе В меньше на 2%, а по неочищенным (с выбросами) - больше на 26%. Очень существенное влияние. "
   ]
  },
  {
   "cell_type": "code",
   "execution_count": null,
   "metadata": {},
   "outputs": [],
   "source": []
  }
 ],
 "metadata": {
  "ExecuteTimeLog": [
   {
    "duration": 1201,
    "start_time": "2022-04-29T08:41:04.821Z"
   },
   {
    "duration": 88,
    "start_time": "2022-04-29T08:41:06.993Z"
   },
   {
    "duration": 74,
    "start_time": "2022-04-29T08:42:24.132Z"
   },
   {
    "duration": 91,
    "start_time": "2022-04-29T08:44:07.935Z"
   },
   {
    "duration": 4,
    "start_time": "2022-04-29T08:44:32.861Z"
   },
   {
    "duration": 9,
    "start_time": "2022-04-29T08:46:46.368Z"
   },
   {
    "duration": 9,
    "start_time": "2022-04-29T08:47:07.927Z"
   },
   {
    "duration": 8,
    "start_time": "2022-04-29T08:47:32.291Z"
   },
   {
    "duration": 40,
    "start_time": "2022-04-29T08:47:55.397Z"
   },
   {
    "duration": 18,
    "start_time": "2022-04-29T08:49:43.994Z"
   },
   {
    "duration": 9,
    "start_time": "2022-04-29T09:09:15.856Z"
   },
   {
    "duration": 20,
    "start_time": "2022-04-29T09:10:04.600Z"
   },
   {
    "duration": 3,
    "start_time": "2022-04-29T09:50:27.238Z"
   },
   {
    "duration": 79,
    "start_time": "2022-04-29T09:50:27.941Z"
   },
   {
    "duration": 11,
    "start_time": "2022-04-29T09:50:28.942Z"
   },
   {
    "duration": 3,
    "start_time": "2022-04-29T09:50:52.366Z"
   },
   {
    "duration": 7,
    "start_time": "2022-04-29T09:51:08.603Z"
   },
   {
    "duration": 6,
    "start_time": "2022-04-29T09:54:00.839Z"
   },
   {
    "duration": 10,
    "start_time": "2022-04-29T09:55:55.535Z"
   },
   {
    "duration": 12,
    "start_time": "2022-04-29T09:56:40.519Z"
   },
   {
    "duration": 11,
    "start_time": "2022-04-29T10:00:06.745Z"
   },
   {
    "duration": 72,
    "start_time": "2022-04-29T10:01:57.809Z"
   },
   {
    "duration": 8,
    "start_time": "2022-04-29T10:02:07.919Z"
   },
   {
    "duration": 1637,
    "start_time": "2022-04-30T08:12:09.967Z"
   },
   {
    "duration": 102,
    "start_time": "2022-04-30T08:12:11.607Z"
   },
   {
    "duration": 12,
    "start_time": "2022-04-30T08:12:11.711Z"
   },
   {
    "duration": 17,
    "start_time": "2022-04-30T08:12:11.753Z"
   },
   {
    "duration": 16,
    "start_time": "2022-04-30T08:12:11.772Z"
   },
   {
    "duration": 4,
    "start_time": "2022-04-30T08:12:11.790Z"
   },
   {
    "duration": 34,
    "start_time": "2022-04-30T08:17:53.782Z"
   },
   {
    "duration": 127,
    "start_time": "2022-04-30T08:31:16.657Z"
   },
   {
    "duration": 172,
    "start_time": "2022-04-30T08:31:25.964Z"
   },
   {
    "duration": 280,
    "start_time": "2022-04-30T08:35:01.317Z"
   },
   {
    "duration": 215,
    "start_time": "2022-04-30T08:35:15.002Z"
   },
   {
    "duration": 15,
    "start_time": "2022-04-30T08:35:17.117Z"
   },
   {
    "duration": 117,
    "start_time": "2022-04-30T08:38:12.161Z"
   },
   {
    "duration": 125,
    "start_time": "2022-04-30T08:41:38.548Z"
   },
   {
    "duration": 120,
    "start_time": "2022-04-30T08:42:05.157Z"
   },
   {
    "duration": 272,
    "start_time": "2022-04-30T08:42:10.897Z"
   },
   {
    "duration": 23,
    "start_time": "2022-04-30T08:42:42.650Z"
   },
   {
    "duration": 317,
    "start_time": "2022-04-30T08:45:02.051Z"
   },
   {
    "duration": 127,
    "start_time": "2022-04-30T08:45:24.651Z"
   },
   {
    "duration": 402,
    "start_time": "2022-04-30T08:45:47.435Z"
   },
   {
    "duration": 440,
    "start_time": "2022-04-30T09:00:28.985Z"
   },
   {
    "duration": 318,
    "start_time": "2022-04-30T09:01:34.627Z"
   },
   {
    "duration": 279,
    "start_time": "2022-04-30T09:04:23.081Z"
   },
   {
    "duration": 387,
    "start_time": "2022-04-30T09:04:41.228Z"
   },
   {
    "duration": 323,
    "start_time": "2022-04-30T09:05:25.185Z"
   },
   {
    "duration": 309,
    "start_time": "2022-04-30T09:06:19.311Z"
   },
   {
    "duration": 298,
    "start_time": "2022-04-30T09:06:41.361Z"
   },
   {
    "duration": 309,
    "start_time": "2022-04-30T09:08:50.911Z"
   },
   {
    "duration": 368,
    "start_time": "2022-04-30T09:13:03.006Z"
   },
   {
    "duration": 297,
    "start_time": "2022-04-30T09:13:24.148Z"
   },
   {
    "duration": 275,
    "start_time": "2022-04-30T09:15:24.493Z"
   },
   {
    "duration": 277,
    "start_time": "2022-04-30T09:20:06.621Z"
   },
   {
    "duration": 279,
    "start_time": "2022-04-30T09:20:21.810Z"
   },
   {
    "duration": 263,
    "start_time": "2022-04-30T09:21:07.272Z"
   },
   {
    "duration": 271,
    "start_time": "2022-04-30T09:23:41.928Z"
   },
   {
    "duration": 19,
    "start_time": "2022-04-30T09:33:16.970Z"
   },
   {
    "duration": 1926,
    "start_time": "2022-04-30T09:33:30.568Z"
   },
   {
    "duration": 110,
    "start_time": "2022-04-30T09:33:32.497Z"
   },
   {
    "duration": 46,
    "start_time": "2022-04-30T09:33:32.609Z"
   },
   {
    "duration": 35,
    "start_time": "2022-04-30T09:33:32.658Z"
   },
   {
    "duration": 16,
    "start_time": "2022-04-30T09:33:32.696Z"
   },
   {
    "duration": 291,
    "start_time": "2022-04-30T09:33:32.714Z"
   },
   {
    "duration": 224,
    "start_time": "2022-04-30T09:33:33.007Z"
   },
   {
    "duration": 16,
    "start_time": "2022-04-30T09:33:33.253Z"
   },
   {
    "duration": 442,
    "start_time": "2022-04-30T09:33:33.272Z"
   },
   {
    "duration": 286,
    "start_time": "2022-04-30T09:33:33.718Z"
   },
   {
    "duration": 409,
    "start_time": "2022-04-30T09:33:34.007Z"
   },
   {
    "duration": 422,
    "start_time": "2022-04-30T09:33:34.419Z"
   },
   {
    "duration": 150,
    "start_time": "2022-04-30T09:38:43.553Z"
   },
   {
    "duration": 412,
    "start_time": "2022-04-30T09:40:28.742Z"
   },
   {
    "duration": 393,
    "start_time": "2022-04-30T09:40:38.472Z"
   },
   {
    "duration": 445,
    "start_time": "2022-04-30T09:42:49.619Z"
   },
   {
    "duration": 404,
    "start_time": "2022-04-30T09:42:57.785Z"
   },
   {
    "duration": 465,
    "start_time": "2022-04-30T09:43:07.503Z"
   },
   {
    "duration": 524,
    "start_time": "2022-04-30T09:47:14.531Z"
   },
   {
    "duration": 403,
    "start_time": "2022-04-30T09:47:34.479Z"
   },
   {
    "duration": 319,
    "start_time": "2022-04-30T09:50:43.779Z"
   },
   {
    "duration": 219,
    "start_time": "2022-04-30T09:52:46.695Z"
   },
   {
    "duration": 175,
    "start_time": "2022-04-30T10:01:49.683Z"
   },
   {
    "duration": 8,
    "start_time": "2022-04-30T10:08:54.419Z"
   },
   {
    "duration": 206,
    "start_time": "2022-04-30T11:09:16.144Z"
   },
   {
    "duration": 212,
    "start_time": "2022-04-30T11:09:55.456Z"
   },
   {
    "duration": 197,
    "start_time": "2022-04-30T11:10:05.145Z"
   },
   {
    "duration": 84,
    "start_time": "2022-04-30T11:30:04.241Z"
   },
   {
    "duration": 83,
    "start_time": "2022-04-30T11:32:36.629Z"
   },
   {
    "duration": 178,
    "start_time": "2022-04-30T11:44:12.292Z"
   },
   {
    "duration": 368,
    "start_time": "2022-04-30T11:53:34.034Z"
   },
   {
    "duration": 493,
    "start_time": "2022-04-30T11:53:51.747Z"
   },
   {
    "duration": 354,
    "start_time": "2022-04-30T11:54:11.329Z"
   },
   {
    "duration": 1338,
    "start_time": "2022-04-30T12:47:03.457Z"
   },
   {
    "duration": 103,
    "start_time": "2022-04-30T12:47:04.798Z"
   },
   {
    "duration": 48,
    "start_time": "2022-04-30T12:47:04.903Z"
   },
   {
    "duration": 17,
    "start_time": "2022-04-30T12:47:04.954Z"
   },
   {
    "duration": 16,
    "start_time": "2022-04-30T12:47:04.973Z"
   },
   {
    "duration": 298,
    "start_time": "2022-04-30T12:47:04.991Z"
   },
   {
    "duration": 219,
    "start_time": "2022-04-30T12:47:05.291Z"
   },
   {
    "duration": 21,
    "start_time": "2022-04-30T12:47:05.513Z"
   },
   {
    "duration": 527,
    "start_time": "2022-04-30T12:47:05.552Z"
   },
   {
    "duration": 299,
    "start_time": "2022-04-30T12:47:06.083Z"
   },
   {
    "duration": 386,
    "start_time": "2022-04-30T12:47:06.384Z"
   },
   {
    "duration": 316,
    "start_time": "2022-04-30T12:47:06.772Z"
   },
   {
    "duration": 479,
    "start_time": "2022-04-30T12:47:07.091Z"
   },
   {
    "duration": 208,
    "start_time": "2022-04-30T12:47:07.573Z"
   },
   {
    "duration": 6,
    "start_time": "2022-04-30T12:47:07.783Z"
   },
   {
    "duration": 212,
    "start_time": "2022-04-30T12:47:07.791Z"
   },
   {
    "duration": 390,
    "start_time": "2022-04-30T12:47:08.006Z"
   },
   {
    "duration": 3,
    "start_time": "2022-04-30T12:47:08.398Z"
   },
   {
    "duration": 302,
    "start_time": "2022-04-30T12:49:02.765Z"
   },
   {
    "duration": 267,
    "start_time": "2022-04-30T12:54:40.747Z"
   },
   {
    "duration": 7,
    "start_time": "2022-04-30T12:56:02.740Z"
   },
   {
    "duration": 8,
    "start_time": "2022-04-30T12:56:22.233Z"
   },
   {
    "duration": 261,
    "start_time": "2022-04-30T13:02:36.772Z"
   },
   {
    "duration": 279,
    "start_time": "2022-04-30T13:07:26.273Z"
   },
   {
    "duration": 510,
    "start_time": "2022-04-30T13:17:15.805Z"
   },
   {
    "duration": 308,
    "start_time": "2022-04-30T13:17:46.568Z"
   },
   {
    "duration": 295,
    "start_time": "2022-04-30T13:18:04.445Z"
   },
   {
    "duration": 329,
    "start_time": "2022-04-30T13:18:12.698Z"
   },
   {
    "duration": 524,
    "start_time": "2022-04-30T13:18:43.588Z"
   },
   {
    "duration": 13,
    "start_time": "2022-04-30T13:26:51.163Z"
   },
   {
    "duration": 14,
    "start_time": "2022-04-30T13:27:00.995Z"
   },
   {
    "duration": 188,
    "start_time": "2022-04-30T13:28:19.109Z"
   },
   {
    "duration": 312,
    "start_time": "2022-04-30T13:28:35.078Z"
   },
   {
    "duration": 2025,
    "start_time": "2022-04-30T13:36:47.326Z"
   },
   {
    "duration": 1884,
    "start_time": "2022-05-01T07:31:18.047Z"
   },
   {
    "duration": 121,
    "start_time": "2022-05-01T07:31:19.934Z"
   },
   {
    "duration": 32,
    "start_time": "2022-05-01T07:31:20.057Z"
   },
   {
    "duration": 45,
    "start_time": "2022-05-01T07:31:20.092Z"
   },
   {
    "duration": 18,
    "start_time": "2022-05-01T07:31:20.139Z"
   },
   {
    "duration": 465,
    "start_time": "2022-05-01T07:31:20.159Z"
   },
   {
    "duration": 247,
    "start_time": "2022-05-01T07:31:20.627Z"
   },
   {
    "duration": 15,
    "start_time": "2022-05-01T07:31:20.876Z"
   },
   {
    "duration": 441,
    "start_time": "2022-05-01T07:31:20.894Z"
   },
   {
    "duration": 292,
    "start_time": "2022-05-01T07:31:21.339Z"
   },
   {
    "duration": 472,
    "start_time": "2022-05-01T07:31:21.634Z"
   },
   {
    "duration": 310,
    "start_time": "2022-05-01T07:31:22.108Z"
   },
   {
    "duration": 403,
    "start_time": "2022-05-01T07:31:22.426Z"
   },
   {
    "duration": 226,
    "start_time": "2022-05-01T07:31:22.832Z"
   },
   {
    "duration": 7,
    "start_time": "2022-05-01T07:31:23.061Z"
   },
   {
    "duration": 238,
    "start_time": "2022-05-01T07:31:23.071Z"
   },
   {
    "duration": 13,
    "start_time": "2022-05-01T07:31:23.311Z"
   },
   {
    "duration": 397,
    "start_time": "2022-05-01T07:31:23.327Z"
   },
   {
    "duration": 341,
    "start_time": "2022-05-01T07:31:23.727Z"
   },
   {
    "duration": 15,
    "start_time": "2022-05-01T07:31:24.070Z"
   },
   {
    "duration": 2203,
    "start_time": "2022-05-01T07:31:24.087Z"
   },
   {
    "duration": 2041,
    "start_time": "2022-05-01T07:32:56.217Z"
   },
   {
    "duration": 332,
    "start_time": "2022-05-01T07:33:40.192Z"
   },
   {
    "duration": 2119,
    "start_time": "2022-05-01T07:33:45.648Z"
   },
   {
    "duration": 12,
    "start_time": "2022-05-01T07:34:19.088Z"
   },
   {
    "duration": 12,
    "start_time": "2022-05-01T07:34:30.992Z"
   },
   {
    "duration": 2140,
    "start_time": "2022-05-01T07:37:59.578Z"
   },
   {
    "duration": 1484,
    "start_time": "2022-05-01T07:38:11.600Z"
   },
   {
    "duration": 114,
    "start_time": "2022-05-01T07:38:13.087Z"
   },
   {
    "duration": 43,
    "start_time": "2022-05-01T07:38:13.204Z"
   },
   {
    "duration": 28,
    "start_time": "2022-05-01T07:38:13.250Z"
   },
   {
    "duration": 17,
    "start_time": "2022-05-01T07:38:13.281Z"
   },
   {
    "duration": 314,
    "start_time": "2022-05-01T07:38:13.300Z"
   },
   {
    "duration": 228,
    "start_time": "2022-05-01T07:38:13.617Z"
   },
   {
    "duration": 13,
    "start_time": "2022-05-01T07:38:13.848Z"
   },
   {
    "duration": 479,
    "start_time": "2022-05-01T07:38:13.864Z"
   },
   {
    "duration": 359,
    "start_time": "2022-05-01T07:38:14.345Z"
   },
   {
    "duration": 394,
    "start_time": "2022-05-01T07:38:14.706Z"
   },
   {
    "duration": 322,
    "start_time": "2022-05-01T07:38:15.102Z"
   },
   {
    "duration": 413,
    "start_time": "2022-05-01T07:38:15.428Z"
   },
   {
    "duration": 246,
    "start_time": "2022-05-01T07:38:15.848Z"
   },
   {
    "duration": 7,
    "start_time": "2022-05-01T07:38:16.097Z"
   },
   {
    "duration": 293,
    "start_time": "2022-05-01T07:38:16.106Z"
   },
   {
    "duration": 7,
    "start_time": "2022-05-01T07:38:16.402Z"
   },
   {
    "duration": 465,
    "start_time": "2022-05-01T07:38:16.425Z"
   },
   {
    "duration": 318,
    "start_time": "2022-05-01T07:38:16.893Z"
   },
   {
    "duration": 28,
    "start_time": "2022-05-01T07:38:17.214Z"
   },
   {
    "duration": 2316,
    "start_time": "2022-05-01T07:38:17.245Z"
   },
   {
    "duration": 0,
    "start_time": "2022-05-01T07:38:19.565Z"
   },
   {
    "duration": 2059,
    "start_time": "2022-05-01T07:51:03.958Z"
   },
   {
    "duration": 14,
    "start_time": "2022-05-01T07:54:31.196Z"
   },
   {
    "duration": 13,
    "start_time": "2022-05-01T07:54:57.077Z"
   },
   {
    "duration": 2137,
    "start_time": "2022-05-01T07:55:42.120Z"
   },
   {
    "duration": 5,
    "start_time": "2022-05-01T07:56:22.598Z"
   },
   {
    "duration": 7,
    "start_time": "2022-05-01T07:56:27.167Z"
   },
   {
    "duration": 13,
    "start_time": "2022-05-01T07:58:37.592Z"
   },
   {
    "duration": 13,
    "start_time": "2022-05-01T07:59:15.007Z"
   },
   {
    "duration": 19,
    "start_time": "2022-05-01T08:00:26.059Z"
   },
   {
    "duration": 13,
    "start_time": "2022-05-01T08:01:21.862Z"
   },
   {
    "duration": 22,
    "start_time": "2022-05-01T08:02:01.163Z"
   },
   {
    "duration": 42,
    "start_time": "2022-05-01T08:02:08.766Z"
   },
   {
    "duration": 20,
    "start_time": "2022-05-01T08:19:18.894Z"
   },
   {
    "duration": 18,
    "start_time": "2022-05-01T08:46:19.427Z"
   },
   {
    "duration": 21,
    "start_time": "2022-05-01T08:46:48.948Z"
   },
   {
    "duration": 145,
    "start_time": "2022-05-01T08:48:31.108Z"
   },
   {
    "duration": 22,
    "start_time": "2022-05-01T08:48:50.428Z"
   },
   {
    "duration": 307,
    "start_time": "2022-05-01T08:53:55.319Z"
   },
   {
    "duration": 1539,
    "start_time": "2022-05-01T09:50:13.404Z"
   },
   {
    "duration": 120,
    "start_time": "2022-05-01T09:50:14.946Z"
   },
   {
    "duration": 31,
    "start_time": "2022-05-01T09:50:15.069Z"
   },
   {
    "duration": 42,
    "start_time": "2022-05-01T09:50:15.103Z"
   },
   {
    "duration": 17,
    "start_time": "2022-05-01T09:50:15.148Z"
   },
   {
    "duration": 319,
    "start_time": "2022-05-01T09:50:15.167Z"
   },
   {
    "duration": 246,
    "start_time": "2022-05-01T09:50:15.489Z"
   },
   {
    "duration": 23,
    "start_time": "2022-05-01T09:50:15.738Z"
   },
   {
    "duration": 467,
    "start_time": "2022-05-01T09:50:15.763Z"
   },
   {
    "duration": 312,
    "start_time": "2022-05-01T09:50:16.235Z"
   },
   {
    "duration": 384,
    "start_time": "2022-05-01T09:50:16.549Z"
   },
   {
    "duration": 333,
    "start_time": "2022-05-01T09:50:16.936Z"
   },
   {
    "duration": 488,
    "start_time": "2022-05-01T09:50:17.271Z"
   },
   {
    "duration": 218,
    "start_time": "2022-05-01T09:50:17.762Z"
   },
   {
    "duration": 7,
    "start_time": "2022-05-01T09:50:17.982Z"
   },
   {
    "duration": 233,
    "start_time": "2022-05-01T09:50:17.991Z"
   },
   {
    "duration": 9,
    "start_time": "2022-05-01T09:50:18.228Z"
   },
   {
    "duration": 420,
    "start_time": "2022-05-01T09:50:18.241Z"
   },
   {
    "duration": 345,
    "start_time": "2022-05-01T09:50:18.663Z"
   },
   {
    "duration": 28,
    "start_time": "2022-05-01T09:50:19.010Z"
   },
   {
    "duration": 24,
    "start_time": "2022-05-01T09:50:19.040Z"
   },
   {
    "duration": 60,
    "start_time": "2022-05-01T09:50:19.067Z"
   },
   {
    "duration": 24,
    "start_time": "2022-05-01T09:50:19.130Z"
   },
   {
    "duration": 291,
    "start_time": "2022-05-01T10:09:09.743Z"
   },
   {
    "duration": 383,
    "start_time": "2022-05-01T10:09:33.062Z"
   },
   {
    "duration": 284,
    "start_time": "2022-05-01T10:09:39.447Z"
   },
   {
    "duration": 1469,
    "start_time": "2022-05-01T10:20:47.123Z"
   },
   {
    "duration": 105,
    "start_time": "2022-05-01T10:20:48.594Z"
   },
   {
    "duration": 41,
    "start_time": "2022-05-01T10:20:48.701Z"
   },
   {
    "duration": 20,
    "start_time": "2022-05-01T10:20:48.745Z"
   },
   {
    "duration": 18,
    "start_time": "2022-05-01T10:20:48.767Z"
   },
   {
    "duration": 321,
    "start_time": "2022-05-01T10:20:48.787Z"
   },
   {
    "duration": 230,
    "start_time": "2022-05-01T10:20:49.110Z"
   },
   {
    "duration": 23,
    "start_time": "2022-05-01T10:20:49.342Z"
   },
   {
    "duration": 445,
    "start_time": "2022-05-01T10:20:49.367Z"
   },
   {
    "duration": 295,
    "start_time": "2022-05-01T10:20:49.815Z"
   },
   {
    "duration": 392,
    "start_time": "2022-05-01T10:20:50.112Z"
   },
   {
    "duration": 320,
    "start_time": "2022-05-01T10:20:50.507Z"
   },
   {
    "duration": 429,
    "start_time": "2022-05-01T10:20:50.829Z"
   },
   {
    "duration": 204,
    "start_time": "2022-05-01T10:20:51.261Z"
   },
   {
    "duration": 7,
    "start_time": "2022-05-01T10:20:51.467Z"
   },
   {
    "duration": 218,
    "start_time": "2022-05-01T10:20:51.476Z"
   },
   {
    "duration": 6,
    "start_time": "2022-05-01T10:20:51.696Z"
   },
   {
    "duration": 386,
    "start_time": "2022-05-01T10:20:51.705Z"
   },
   {
    "duration": 333,
    "start_time": "2022-05-01T10:20:52.093Z"
   },
   {
    "duration": 15,
    "start_time": "2022-05-01T10:20:52.429Z"
   },
   {
    "duration": 16,
    "start_time": "2022-05-01T10:20:52.447Z"
   },
   {
    "duration": 81,
    "start_time": "2022-05-01T10:20:52.466Z"
   },
   {
    "duration": 20,
    "start_time": "2022-05-01T10:20:52.549Z"
   },
   {
    "duration": 1822,
    "start_time": "2022-05-01T19:09:33.534Z"
   },
   {
    "duration": 134,
    "start_time": "2022-05-01T19:09:35.360Z"
   },
   {
    "duration": 31,
    "start_time": "2022-05-01T19:09:35.497Z"
   },
   {
    "duration": 25,
    "start_time": "2022-05-01T19:09:35.552Z"
   },
   {
    "duration": 20,
    "start_time": "2022-05-01T19:09:35.581Z"
   },
   {
    "duration": 397,
    "start_time": "2022-05-01T19:09:35.603Z"
   },
   {
    "duration": 571,
    "start_time": "2022-05-01T19:09:36.003Z"
   },
   {
    "duration": 89,
    "start_time": "2022-05-01T19:09:36.578Z"
   },
   {
    "duration": 1091,
    "start_time": "2022-05-01T19:09:36.670Z"
   },
   {
    "duration": 788,
    "start_time": "2022-05-01T19:09:37.764Z"
   },
   {
    "duration": 733,
    "start_time": "2022-05-01T19:09:38.555Z"
   },
   {
    "duration": 319,
    "start_time": "2022-05-01T19:09:39.291Z"
   },
   {
    "duration": 464,
    "start_time": "2022-05-01T19:09:39.613Z"
   },
   {
    "duration": 224,
    "start_time": "2022-05-01T19:09:40.082Z"
   },
   {
    "duration": 6,
    "start_time": "2022-05-01T19:09:40.308Z"
   },
   {
    "duration": 231,
    "start_time": "2022-05-01T19:09:40.317Z"
   },
   {
    "duration": 6,
    "start_time": "2022-05-01T19:09:40.550Z"
   },
   {
    "duration": 494,
    "start_time": "2022-05-01T19:09:40.558Z"
   },
   {
    "duration": 384,
    "start_time": "2022-05-01T19:09:41.055Z"
   },
   {
    "duration": 14,
    "start_time": "2022-05-01T19:09:41.451Z"
   },
   {
    "duration": 26,
    "start_time": "2022-05-01T19:09:41.467Z"
   },
   {
    "duration": 62,
    "start_time": "2022-05-01T19:09:41.495Z"
   },
   {
    "duration": 21,
    "start_time": "2022-05-01T19:09:41.559Z"
   },
   {
    "duration": 377,
    "start_time": "2022-05-01T19:21:18.578Z"
   },
   {
    "duration": 463,
    "start_time": "2022-05-01T19:21:23.338Z"
   },
   {
    "duration": 1426,
    "start_time": "2022-05-05T14:16:56.690Z"
   },
   {
    "duration": 123,
    "start_time": "2022-05-05T14:16:58.118Z"
   },
   {
    "duration": 23,
    "start_time": "2022-05-05T14:16:58.243Z"
   },
   {
    "duration": 16,
    "start_time": "2022-05-05T14:16:58.268Z"
   },
   {
    "duration": 14,
    "start_time": "2022-05-05T14:16:58.286Z"
   },
   {
    "duration": 200,
    "start_time": "2022-05-05T14:16:58.322Z"
   },
   {
    "duration": 145,
    "start_time": "2022-05-05T14:16:58.524Z"
   },
   {
    "duration": 15,
    "start_time": "2022-05-05T14:16:58.671Z"
   },
   {
    "duration": 308,
    "start_time": "2022-05-05T14:16:58.688Z"
   },
   {
    "duration": 194,
    "start_time": "2022-05-05T14:16:58.999Z"
   },
   {
    "duration": 348,
    "start_time": "2022-05-05T14:16:59.194Z"
   },
   {
    "duration": 190,
    "start_time": "2022-05-05T14:16:59.544Z"
   },
   {
    "duration": 330,
    "start_time": "2022-05-05T14:16:59.735Z"
   },
   {
    "duration": 138,
    "start_time": "2022-05-05T14:17:00.067Z"
   },
   {
    "duration": 6,
    "start_time": "2022-05-05T14:17:00.206Z"
   },
   {
    "duration": 160,
    "start_time": "2022-05-05T14:17:00.223Z"
   },
   {
    "duration": 6,
    "start_time": "2022-05-05T14:17:00.385Z"
   },
   {
    "duration": 278,
    "start_time": "2022-05-05T14:17:00.393Z"
   },
   {
    "duration": 193,
    "start_time": "2022-05-05T14:17:00.674Z"
   },
   {
    "duration": 11,
    "start_time": "2022-05-05T14:17:00.869Z"
   },
   {
    "duration": 50,
    "start_time": "2022-05-05T14:17:00.882Z"
   },
   {
    "duration": 44,
    "start_time": "2022-05-05T14:17:00.935Z"
   },
   {
    "duration": 16,
    "start_time": "2022-05-05T14:17:00.981Z"
   },
   {
    "duration": 6,
    "start_time": "2022-05-05T14:18:32.145Z"
   },
   {
    "duration": 8,
    "start_time": "2022-05-05T14:18:41.720Z"
   },
   {
    "duration": 7,
    "start_time": "2022-05-05T14:18:46.320Z"
   },
   {
    "duration": 12,
    "start_time": "2022-05-05T14:19:11.233Z"
   },
   {
    "duration": 117,
    "start_time": "2022-05-05T14:26:01.908Z"
   },
   {
    "duration": 20,
    "start_time": "2022-05-05T14:26:13.781Z"
   },
   {
    "duration": 12,
    "start_time": "2022-05-05T14:26:24.625Z"
   },
   {
    "duration": 4,
    "start_time": "2022-05-05T14:29:47.240Z"
   },
   {
    "duration": 121,
    "start_time": "2022-05-05T14:29:48.175Z"
   },
   {
    "duration": 24,
    "start_time": "2022-05-05T14:29:57.906Z"
   },
   {
    "duration": 1283,
    "start_time": "2022-05-05T14:30:08.824Z"
   },
   {
    "duration": 120,
    "start_time": "2022-05-05T14:30:10.109Z"
   },
   {
    "duration": 25,
    "start_time": "2022-05-05T14:30:10.231Z"
   },
   {
    "duration": 14,
    "start_time": "2022-05-05T14:30:10.259Z"
   },
   {
    "duration": 12,
    "start_time": "2022-05-05T14:30:10.275Z"
   },
   {
    "duration": 218,
    "start_time": "2022-05-05T14:30:10.289Z"
   },
   {
    "duration": 175,
    "start_time": "2022-05-05T14:30:10.509Z"
   },
   {
    "duration": 22,
    "start_time": "2022-05-05T14:30:10.686Z"
   },
   {
    "duration": 342,
    "start_time": "2022-05-05T14:30:10.711Z"
   },
   {
    "duration": 201,
    "start_time": "2022-05-05T14:30:11.057Z"
   },
   {
    "duration": 298,
    "start_time": "2022-05-05T14:30:11.260Z"
   },
   {
    "duration": 219,
    "start_time": "2022-05-05T14:30:11.560Z"
   },
   {
    "duration": 366,
    "start_time": "2022-05-05T14:30:11.782Z"
   },
   {
    "duration": 145,
    "start_time": "2022-05-05T14:30:12.150Z"
   },
   {
    "duration": 7,
    "start_time": "2022-05-05T14:30:12.297Z"
   },
   {
    "duration": 212,
    "start_time": "2022-05-05T14:30:12.306Z"
   },
   {
    "duration": 10,
    "start_time": "2022-05-05T14:30:12.522Z"
   },
   {
    "duration": 324,
    "start_time": "2022-05-05T14:30:12.534Z"
   },
   {
    "duration": 259,
    "start_time": "2022-05-05T14:30:12.860Z"
   },
   {
    "duration": 14,
    "start_time": "2022-05-05T14:30:13.124Z"
   },
   {
    "duration": 20,
    "start_time": "2022-05-05T14:30:13.140Z"
   },
   {
    "duration": 78,
    "start_time": "2022-05-05T14:30:13.163Z"
   },
   {
    "duration": 22,
    "start_time": "2022-05-05T14:30:13.244Z"
   },
   {
    "duration": 958,
    "start_time": "2022-05-05T14:35:00.164Z"
   },
   {
    "duration": 1631,
    "start_time": "2022-05-05T14:35:50.591Z"
   },
   {
    "duration": 13,
    "start_time": "2022-05-05T14:36:12.064Z"
   },
   {
    "duration": 4,
    "start_time": "2022-05-05T14:36:22.306Z"
   },
   {
    "duration": 116,
    "start_time": "2022-05-05T14:36:26.634Z"
   },
   {
    "duration": 30,
    "start_time": "2022-05-05T14:36:36.121Z"
   },
   {
    "duration": 11,
    "start_time": "2022-05-05T14:36:57.592Z"
   },
   {
    "duration": 19,
    "start_time": "2022-05-05T14:38:33.135Z"
   },
   {
    "duration": 7,
    "start_time": "2022-05-05T14:46:48.703Z"
   },
   {
    "duration": 15,
    "start_time": "2022-05-05T14:46:54.525Z"
   },
   {
    "duration": 16,
    "start_time": "2022-05-05T14:47:50.576Z"
   },
   {
    "duration": 19,
    "start_time": "2022-05-05T14:48:19.124Z"
   },
   {
    "duration": 19,
    "start_time": "2022-05-05T14:48:27.421Z"
   },
   {
    "duration": 14,
    "start_time": "2022-05-05T14:49:13.395Z"
   },
   {
    "duration": 13,
    "start_time": "2022-05-05T14:49:29.381Z"
   },
   {
    "duration": 17,
    "start_time": "2022-05-05T14:49:49.773Z"
   },
   {
    "duration": 15,
    "start_time": "2022-05-05T14:50:55.294Z"
   },
   {
    "duration": 17,
    "start_time": "2022-05-05T14:51:34.722Z"
   },
   {
    "duration": 13,
    "start_time": "2022-05-05T16:07:29.232Z"
   },
   {
    "duration": 14,
    "start_time": "2022-05-05T16:08:24.348Z"
   },
   {
    "duration": 15,
    "start_time": "2022-05-05T16:25:25.306Z"
   },
   {
    "duration": 2613,
    "start_time": "2022-05-05T16:50:45.228Z"
   },
   {
    "duration": 7,
    "start_time": "2022-05-05T16:51:40.687Z"
   },
   {
    "duration": 13,
    "start_time": "2022-05-05T16:51:48.896Z"
   },
   {
    "duration": 17,
    "start_time": "2022-05-05T16:52:12.827Z"
   },
   {
    "duration": 22,
    "start_time": "2022-05-05T16:52:19.992Z"
   },
   {
    "duration": 14,
    "start_time": "2022-05-05T16:53:25.753Z"
   },
   {
    "duration": 14,
    "start_time": "2022-05-05T16:56:35.254Z"
   },
   {
    "duration": 7,
    "start_time": "2022-05-05T17:29:43.762Z"
   },
   {
    "duration": 9,
    "start_time": "2022-05-05T17:29:58.384Z"
   },
   {
    "duration": 8,
    "start_time": "2022-05-05T17:31:58.233Z"
   },
   {
    "duration": 7,
    "start_time": "2022-05-05T17:32:29.929Z"
   },
   {
    "duration": 184,
    "start_time": "2022-05-05T17:32:38.436Z"
   },
   {
    "duration": 7,
    "start_time": "2022-05-05T17:32:48.834Z"
   },
   {
    "duration": 7,
    "start_time": "2022-05-05T17:33:59.824Z"
   },
   {
    "duration": 8,
    "start_time": "2022-05-05T17:34:11.694Z"
   },
   {
    "duration": 9,
    "start_time": "2022-05-05T18:26:30.592Z"
   },
   {
    "duration": 10,
    "start_time": "2022-05-05T18:26:43.131Z"
   },
   {
    "duration": 6,
    "start_time": "2022-05-05T18:29:49.969Z"
   },
   {
    "duration": 10,
    "start_time": "2022-05-05T18:30:54.206Z"
   },
   {
    "duration": 11,
    "start_time": "2022-05-05T18:31:20.465Z"
   },
   {
    "duration": 17,
    "start_time": "2022-05-05T18:33:50.345Z"
   },
   {
    "duration": 10,
    "start_time": "2022-05-05T18:34:30.091Z"
   },
   {
    "duration": 29,
    "start_time": "2022-05-05T18:39:12.382Z"
   },
   {
    "duration": 24,
    "start_time": "2022-05-05T18:40:14.683Z"
   },
   {
    "duration": 22,
    "start_time": "2022-05-05T18:40:58.208Z"
   },
   {
    "duration": 24,
    "start_time": "2022-05-05T18:41:11.936Z"
   },
   {
    "duration": 16,
    "start_time": "2022-05-05T18:41:34.802Z"
   },
   {
    "duration": 23,
    "start_time": "2022-05-05T18:41:52.714Z"
   },
   {
    "duration": 15,
    "start_time": "2022-05-05T18:47:04.765Z"
   },
   {
    "duration": 675,
    "start_time": "2022-05-05T18:47:39.443Z"
   },
   {
    "duration": 679,
    "start_time": "2022-05-05T18:47:51.038Z"
   },
   {
    "duration": 663,
    "start_time": "2022-05-05T18:47:59.798Z"
   },
   {
    "duration": 40,
    "start_time": "2022-05-05T18:49:05.522Z"
   },
   {
    "duration": 19,
    "start_time": "2022-05-05T18:49:14.922Z"
   },
   {
    "duration": 15,
    "start_time": "2022-05-05T18:49:22.346Z"
   },
   {
    "duration": 20,
    "start_time": "2022-05-05T18:49:37.647Z"
   },
   {
    "duration": 15,
    "start_time": "2022-05-05T18:50:02.899Z"
   },
   {
    "duration": 690,
    "start_time": "2022-05-05T18:50:18.362Z"
   },
   {
    "duration": 17,
    "start_time": "2022-05-05T18:51:52.104Z"
   },
   {
    "duration": 18,
    "start_time": "2022-05-05T18:52:41.140Z"
   },
   {
    "duration": 16,
    "start_time": "2022-05-05T18:52:48.387Z"
   },
   {
    "duration": 15,
    "start_time": "2022-05-05T18:56:18.381Z"
   },
   {
    "duration": 1255,
    "start_time": "2022-05-06T07:18:33.102Z"
   },
   {
    "duration": 84,
    "start_time": "2022-05-06T07:18:34.359Z"
   },
   {
    "duration": 20,
    "start_time": "2022-05-06T07:18:34.445Z"
   },
   {
    "duration": 17,
    "start_time": "2022-05-06T07:18:34.468Z"
   },
   {
    "duration": 30,
    "start_time": "2022-05-06T07:18:34.487Z"
   },
   {
    "duration": 17,
    "start_time": "2022-05-06T07:18:34.519Z"
   },
   {
    "duration": 8,
    "start_time": "2022-05-06T07:18:34.538Z"
   },
   {
    "duration": 20,
    "start_time": "2022-05-06T07:18:34.548Z"
   },
   {
    "duration": 45,
    "start_time": "2022-05-06T07:18:34.570Z"
   },
   {
    "duration": 183,
    "start_time": "2022-05-06T07:18:34.620Z"
   },
   {
    "duration": 131,
    "start_time": "2022-05-06T07:18:34.806Z"
   },
   {
    "duration": 9,
    "start_time": "2022-05-06T07:18:34.938Z"
   },
   {
    "duration": 275,
    "start_time": "2022-05-06T07:18:34.950Z"
   },
   {
    "duration": 180,
    "start_time": "2022-05-06T07:18:35.227Z"
   },
   {
    "duration": 330,
    "start_time": "2022-05-06T07:18:35.409Z"
   },
   {
    "duration": 196,
    "start_time": "2022-05-06T07:18:35.741Z"
   },
   {
    "duration": 287,
    "start_time": "2022-05-06T07:18:35.938Z"
   },
   {
    "duration": 130,
    "start_time": "2022-05-06T07:18:36.227Z"
   },
   {
    "duration": 5,
    "start_time": "2022-05-06T07:18:36.360Z"
   },
   {
    "duration": 144,
    "start_time": "2022-05-06T07:18:36.367Z"
   },
   {
    "duration": 5,
    "start_time": "2022-05-06T07:18:36.513Z"
   },
   {
    "duration": 243,
    "start_time": "2022-05-06T07:18:36.520Z"
   },
   {
    "duration": 169,
    "start_time": "2022-05-06T07:18:36.764Z"
   },
   {
    "duration": 10,
    "start_time": "2022-05-06T07:18:36.935Z"
   },
   {
    "duration": 10,
    "start_time": "2022-05-06T07:18:36.947Z"
   },
   {
    "duration": 55,
    "start_time": "2022-05-06T07:18:36.959Z"
   },
   {
    "duration": 13,
    "start_time": "2022-05-06T07:18:37.016Z"
   },
   {
    "duration": 337,
    "start_time": "2022-05-06T07:29:04.861Z"
   },
   {
    "duration": 316,
    "start_time": "2022-05-06T07:29:17.483Z"
   },
   {
    "duration": 279,
    "start_time": "2022-05-06T08:25:15.809Z"
   },
   {
    "duration": 279,
    "start_time": "2022-05-06T08:25:58.995Z"
   },
   {
    "duration": 272,
    "start_time": "2022-05-06T09:54:31.641Z"
   },
   {
    "duration": 265,
    "start_time": "2022-05-06T09:55:07.933Z"
   },
   {
    "duration": 6,
    "start_time": "2022-05-06T10:01:30.890Z"
   },
   {
    "duration": 7,
    "start_time": "2022-05-06T10:06:14.538Z"
   },
   {
    "duration": 6,
    "start_time": "2022-05-06T10:06:48.929Z"
   },
   {
    "duration": 3,
    "start_time": "2022-05-06T10:12:36.096Z"
   },
   {
    "duration": 5,
    "start_time": "2022-05-06T10:23:39.218Z"
   },
   {
    "duration": 233,
    "start_time": "2022-05-06T10:34:23.485Z"
   },
   {
    "duration": 317,
    "start_time": "2022-05-06T10:38:55.673Z"
   },
   {
    "duration": 223,
    "start_time": "2022-05-06T10:39:15.943Z"
   },
   {
    "duration": 219,
    "start_time": "2022-05-06T10:39:31.841Z"
   },
   {
    "duration": 238,
    "start_time": "2022-05-06T10:39:37.801Z"
   },
   {
    "duration": 220,
    "start_time": "2022-05-06T10:39:44.460Z"
   },
   {
    "duration": 244,
    "start_time": "2022-05-06T10:39:59.032Z"
   },
   {
    "duration": 250,
    "start_time": "2022-05-06T10:40:20.209Z"
   },
   {
    "duration": 3,
    "start_time": "2022-05-06T10:40:47.651Z"
   },
   {
    "duration": 235,
    "start_time": "2022-05-06T10:41:13.265Z"
   },
   {
    "duration": 309,
    "start_time": "2022-05-06T10:43:17.221Z"
   },
   {
    "duration": 232,
    "start_time": "2022-05-06T10:43:22.854Z"
   },
   {
    "duration": 1308,
    "start_time": "2022-05-06T10:43:38.604Z"
   },
   {
    "duration": 87,
    "start_time": "2022-05-06T10:43:39.915Z"
   },
   {
    "duration": 33,
    "start_time": "2022-05-06T10:43:40.003Z"
   },
   {
    "duration": 280,
    "start_time": "2022-05-06T10:43:40.038Z"
   },
   {
    "duration": 19,
    "start_time": "2022-05-06T10:43:40.321Z"
   },
   {
    "duration": 21,
    "start_time": "2022-05-06T10:43:40.342Z"
   },
   {
    "duration": 8,
    "start_time": "2022-05-06T10:43:40.365Z"
   },
   {
    "duration": 43,
    "start_time": "2022-05-06T10:43:40.375Z"
   },
   {
    "duration": 350,
    "start_time": "2022-05-06T10:43:40.425Z"
   },
   {
    "duration": 5,
    "start_time": "2022-05-06T10:43:40.777Z"
   },
   {
    "duration": 26,
    "start_time": "2022-05-06T10:43:40.784Z"
   },
   {
    "duration": 223,
    "start_time": "2022-05-06T10:43:40.818Z"
   },
   {
    "duration": 146,
    "start_time": "2022-05-06T10:43:41.043Z"
   },
   {
    "duration": 164,
    "start_time": "2022-05-06T10:43:41.192Z"
   },
   {
    "duration": 318,
    "start_time": "2022-05-06T10:43:41.358Z"
   },
   {
    "duration": 226,
    "start_time": "2022-05-06T10:43:41.678Z"
   },
   {
    "duration": 338,
    "start_time": "2022-05-06T10:43:41.906Z"
   },
   {
    "duration": 252,
    "start_time": "2022-05-06T10:43:42.246Z"
   },
   {
    "duration": 360,
    "start_time": "2022-05-06T10:43:42.507Z"
   },
   {
    "duration": 168,
    "start_time": "2022-05-06T10:43:42.869Z"
   },
   {
    "duration": 8,
    "start_time": "2022-05-06T10:43:43.038Z"
   },
   {
    "duration": 198,
    "start_time": "2022-05-06T10:43:43.048Z"
   },
   {
    "duration": 5,
    "start_time": "2022-05-06T10:43:43.248Z"
   },
   {
    "duration": 350,
    "start_time": "2022-05-06T10:43:43.255Z"
   },
   {
    "duration": 239,
    "start_time": "2022-05-06T10:43:43.608Z"
   },
   {
    "duration": 12,
    "start_time": "2022-05-06T10:43:43.850Z"
   },
   {
    "duration": 12,
    "start_time": "2022-05-06T10:43:43.865Z"
   },
   {
    "duration": 49,
    "start_time": "2022-05-06T10:43:43.907Z"
   },
   {
    "duration": 16,
    "start_time": "2022-05-06T10:43:43.957Z"
   },
   {
    "duration": 288,
    "start_time": "2022-05-06T10:45:23.470Z"
   },
   {
    "duration": 275,
    "start_time": "2022-05-06T10:45:32.593Z"
   },
   {
    "duration": 242,
    "start_time": "2022-05-06T10:46:01.955Z"
   },
   {
    "duration": 250,
    "start_time": "2022-05-06T10:46:13.379Z"
   },
   {
    "duration": 242,
    "start_time": "2022-05-06T10:46:34.995Z"
   },
   {
    "duration": 241,
    "start_time": "2022-05-06T10:48:44.218Z"
   },
   {
    "duration": 306,
    "start_time": "2022-05-06T10:53:38.450Z"
   },
   {
    "duration": 468,
    "start_time": "2022-05-06T10:54:41.301Z"
   },
   {
    "duration": 351,
    "start_time": "2022-05-06T10:55:07.100Z"
   },
   {
    "duration": 345,
    "start_time": "2022-05-06T10:55:30.076Z"
   },
   {
    "duration": 417,
    "start_time": "2022-05-06T10:56:12.521Z"
   },
   {
    "duration": 221,
    "start_time": "2022-05-06T11:00:40.248Z"
   },
   {
    "duration": 317,
    "start_time": "2022-05-06T11:02:31.158Z"
   },
   {
    "duration": 467,
    "start_time": "2022-05-06T11:02:53.790Z"
   },
   {
    "duration": 119,
    "start_time": "2022-05-06T11:03:38.017Z"
   },
   {
    "duration": 353,
    "start_time": "2022-05-06T11:03:52.319Z"
   },
   {
    "duration": 320,
    "start_time": "2022-05-06T11:04:42.837Z"
   },
   {
    "duration": 242,
    "start_time": "2022-05-06T11:05:13.834Z"
   },
   {
    "duration": 244,
    "start_time": "2022-05-06T11:05:41.356Z"
   },
   {
    "duration": 231,
    "start_time": "2022-05-06T11:05:57.260Z"
   },
   {
    "duration": 270,
    "start_time": "2022-05-06T11:06:04.982Z"
   },
   {
    "duration": 243,
    "start_time": "2022-05-06T11:06:10.165Z"
   },
   {
    "duration": 260,
    "start_time": "2022-05-06T11:07:05.822Z"
   },
   {
    "duration": 373,
    "start_time": "2022-05-06T11:07:18.297Z"
   },
   {
    "duration": 241,
    "start_time": "2022-05-06T11:07:37.757Z"
   },
   {
    "duration": 417,
    "start_time": "2022-05-06T11:07:50.139Z"
   },
   {
    "duration": 336,
    "start_time": "2022-05-06T11:07:59.154Z"
   },
   {
    "duration": 334,
    "start_time": "2022-05-06T11:08:09.829Z"
   },
   {
    "duration": 337,
    "start_time": "2022-05-06T11:09:07.521Z"
   },
   {
    "duration": 344,
    "start_time": "2022-05-06T11:09:20.412Z"
   },
   {
    "duration": 153,
    "start_time": "2022-05-06T11:16:36.377Z"
   },
   {
    "duration": 151,
    "start_time": "2022-05-06T11:19:43.348Z"
   },
   {
    "duration": 191,
    "start_time": "2022-05-06T11:25:09.903Z"
   },
   {
    "duration": 169,
    "start_time": "2022-05-06T11:27:46.427Z"
   },
   {
    "duration": 276,
    "start_time": "2022-05-06T11:29:22.369Z"
   },
   {
    "duration": 162,
    "start_time": "2022-05-06T11:31:12.651Z"
   },
   {
    "duration": 168,
    "start_time": "2022-05-06T11:31:23.682Z"
   },
   {
    "duration": 238,
    "start_time": "2022-05-06T11:31:38.444Z"
   },
   {
    "duration": 170,
    "start_time": "2022-05-06T11:31:43.451Z"
   },
   {
    "duration": 181,
    "start_time": "2022-05-06T11:32:17.994Z"
   },
   {
    "duration": 162,
    "start_time": "2022-05-06T11:32:45.534Z"
   },
   {
    "duration": 173,
    "start_time": "2022-05-06T11:34:11.930Z"
   },
   {
    "duration": 1162,
    "start_time": "2022-05-06T11:34:32.309Z"
   },
   {
    "duration": 88,
    "start_time": "2022-05-06T11:34:33.473Z"
   },
   {
    "duration": 19,
    "start_time": "2022-05-06T11:34:33.563Z"
   },
   {
    "duration": 26,
    "start_time": "2022-05-06T11:34:33.584Z"
   },
   {
    "duration": 19,
    "start_time": "2022-05-06T11:34:33.612Z"
   },
   {
    "duration": 18,
    "start_time": "2022-05-06T11:34:33.633Z"
   },
   {
    "duration": 6,
    "start_time": "2022-05-06T11:34:33.652Z"
   },
   {
    "duration": 16,
    "start_time": "2022-05-06T11:34:33.659Z"
   },
   {
    "duration": 311,
    "start_time": "2022-05-06T11:34:33.676Z"
   },
   {
    "duration": 4,
    "start_time": "2022-05-06T11:34:33.989Z"
   },
   {
    "duration": 17,
    "start_time": "2022-05-06T11:34:34.011Z"
   },
   {
    "duration": 173,
    "start_time": "2022-05-06T11:34:34.030Z"
   },
   {
    "duration": 133,
    "start_time": "2022-05-06T11:34:34.205Z"
   },
   {
    "duration": 10,
    "start_time": "2022-05-06T11:34:34.339Z"
   },
   {
    "duration": 310,
    "start_time": "2022-05-06T11:34:34.351Z"
   },
   {
    "duration": 221,
    "start_time": "2022-05-06T11:34:34.663Z"
   },
   {
    "duration": 366,
    "start_time": "2022-05-06T11:34:34.887Z"
   },
   {
    "duration": 225,
    "start_time": "2022-05-06T11:34:35.255Z"
   },
   {
    "duration": 325,
    "start_time": "2022-05-06T11:34:35.482Z"
   },
   {
    "duration": 154,
    "start_time": "2022-05-06T11:34:35.809Z"
   },
   {
    "duration": 5,
    "start_time": "2022-05-06T11:34:35.964Z"
   },
   {
    "duration": 178,
    "start_time": "2022-05-06T11:34:35.971Z"
   },
   {
    "duration": 240,
    "start_time": "2022-05-06T11:34:36.151Z"
   },
   {
    "duration": 6,
    "start_time": "2022-05-06T11:34:36.393Z"
   },
   {
    "duration": 252,
    "start_time": "2022-05-06T11:34:36.410Z"
   },
   {
    "duration": 189,
    "start_time": "2022-05-06T11:34:36.664Z"
   },
   {
    "duration": 10,
    "start_time": "2022-05-06T11:34:36.855Z"
   },
   {
    "duration": 11,
    "start_time": "2022-05-06T11:34:36.869Z"
   },
   {
    "duration": 70,
    "start_time": "2022-05-06T11:34:36.882Z"
   },
   {
    "duration": 14,
    "start_time": "2022-05-06T11:34:36.954Z"
   },
   {
    "duration": 171,
    "start_time": "2022-05-06T11:38:16.006Z"
   },
   {
    "duration": 1764,
    "start_time": "2022-05-07T06:57:58.687Z"
   },
   {
    "duration": 117,
    "start_time": "2022-05-07T06:58:00.454Z"
   },
   {
    "duration": 34,
    "start_time": "2022-05-07T06:58:00.573Z"
   },
   {
    "duration": 22,
    "start_time": "2022-05-07T06:58:00.611Z"
   },
   {
    "duration": 47,
    "start_time": "2022-05-07T06:58:00.635Z"
   },
   {
    "duration": 24,
    "start_time": "2022-05-07T06:58:00.685Z"
   },
   {
    "duration": 21,
    "start_time": "2022-05-07T06:58:00.711Z"
   },
   {
    "duration": 54,
    "start_time": "2022-05-07T06:58:00.734Z"
   },
   {
    "duration": 414,
    "start_time": "2022-05-07T06:58:00.790Z"
   },
   {
    "duration": 5,
    "start_time": "2022-05-07T06:58:01.208Z"
   },
   {
    "duration": 21,
    "start_time": "2022-05-07T06:58:01.215Z"
   },
   {
    "duration": 319,
    "start_time": "2022-05-07T06:58:01.238Z"
   },
   {
    "duration": 233,
    "start_time": "2022-05-07T06:58:01.559Z"
   },
   {
    "duration": 15,
    "start_time": "2022-05-07T06:58:01.794Z"
   },
   {
    "duration": 457,
    "start_time": "2022-05-07T06:58:01.811Z"
   },
   {
    "duration": 321,
    "start_time": "2022-05-07T06:58:02.271Z"
   },
   {
    "duration": 470,
    "start_time": "2022-05-07T06:58:02.594Z"
   },
   {
    "duration": 332,
    "start_time": "2022-05-07T06:58:03.067Z"
   },
   {
    "duration": 505,
    "start_time": "2022-05-07T06:58:03.401Z"
   },
   {
    "duration": 283,
    "start_time": "2022-05-07T06:58:03.909Z"
   },
   {
    "duration": 9,
    "start_time": "2022-05-07T06:58:04.195Z"
   },
   {
    "duration": 369,
    "start_time": "2022-05-07T06:58:04.207Z"
   },
   {
    "duration": 446,
    "start_time": "2022-05-07T06:58:04.582Z"
   },
   {
    "duration": 8,
    "start_time": "2022-05-07T06:58:05.032Z"
   },
   {
    "duration": 624,
    "start_time": "2022-05-07T06:58:05.043Z"
   },
   {
    "duration": 384,
    "start_time": "2022-05-07T06:58:05.670Z"
   },
   {
    "duration": 29,
    "start_time": "2022-05-07T06:58:06.056Z"
   },
   {
    "duration": 15,
    "start_time": "2022-05-07T06:58:06.090Z"
   },
   {
    "duration": 40,
    "start_time": "2022-05-07T06:58:06.107Z"
   },
   {
    "duration": 20,
    "start_time": "2022-05-07T06:58:06.182Z"
   },
   {
    "duration": 223,
    "start_time": "2022-05-07T06:58:28.454Z"
   },
   {
    "duration": 221,
    "start_time": "2022-05-07T06:58:37.830Z"
   },
   {
    "duration": 294,
    "start_time": "2022-05-07T07:03:32.500Z"
   },
   {
    "duration": 1703,
    "start_time": "2022-05-07T07:03:52.742Z"
   },
   {
    "duration": 224,
    "start_time": "2022-05-07T07:04:06.411Z"
   },
   {
    "duration": 15232,
    "start_time": "2022-05-07T07:04:26.295Z"
   },
   {
    "duration": 233,
    "start_time": "2022-05-07T07:05:06.524Z"
   },
   {
    "duration": 171,
    "start_time": "2022-05-07T07:05:21.812Z"
   },
   {
    "duration": 169,
    "start_time": "2022-05-07T07:05:37.861Z"
   },
   {
    "duration": 171,
    "start_time": "2022-05-07T07:05:46.001Z"
   },
   {
    "duration": 185,
    "start_time": "2022-05-07T07:06:21.080Z"
   },
   {
    "duration": 317,
    "start_time": "2022-05-07T07:07:00.965Z"
   },
   {
    "duration": 190,
    "start_time": "2022-05-07T07:09:17.827Z"
   },
   {
    "duration": 229,
    "start_time": "2022-05-07T07:09:27.036Z"
   },
   {
    "duration": 175,
    "start_time": "2022-05-07T07:09:34.536Z"
   },
   {
    "duration": 249,
    "start_time": "2022-05-07T07:09:45.368Z"
   },
   {
    "duration": 221,
    "start_time": "2022-05-07T07:10:15.418Z"
   },
   {
    "duration": 168,
    "start_time": "2022-05-07T07:11:45.021Z"
   },
   {
    "duration": 168,
    "start_time": "2022-05-07T07:11:58.022Z"
   },
   {
    "duration": 379,
    "start_time": "2022-05-07T07:12:26.646Z"
   },
   {
    "duration": 217,
    "start_time": "2022-05-07T07:12:32.315Z"
   },
   {
    "duration": 226,
    "start_time": "2022-05-07T07:13:21.850Z"
   },
   {
    "duration": 247,
    "start_time": "2022-05-07T07:13:29.705Z"
   },
   {
    "duration": 192,
    "start_time": "2022-05-07T07:13:44.916Z"
   },
   {
    "duration": 199,
    "start_time": "2022-05-07T07:13:54.451Z"
   },
   {
    "duration": 254,
    "start_time": "2022-05-07T07:14:23.380Z"
   },
   {
    "duration": 238,
    "start_time": "2022-05-07T07:14:39.551Z"
   },
   {
    "duration": 147,
    "start_time": "2022-05-07T07:16:40.816Z"
   },
   {
    "duration": 257,
    "start_time": "2022-05-07T07:17:06.085Z"
   },
   {
    "duration": 249,
    "start_time": "2022-05-07T07:17:44.345Z"
   },
   {
    "duration": 228,
    "start_time": "2022-05-07T07:18:08.304Z"
   },
   {
    "duration": 244,
    "start_time": "2022-05-07T07:18:18.122Z"
   },
   {
    "duration": 410,
    "start_time": "2022-05-07T07:20:20.609Z"
   },
   {
    "duration": 228,
    "start_time": "2022-05-07T07:20:26.718Z"
   },
   {
    "duration": 222,
    "start_time": "2022-05-07T07:21:17.670Z"
   },
   {
    "duration": 224,
    "start_time": "2022-05-07T07:25:12.023Z"
   },
   {
    "duration": 224,
    "start_time": "2022-05-07T07:25:42.745Z"
   },
   {
    "duration": 216,
    "start_time": "2022-05-07T07:25:50.566Z"
   },
   {
    "duration": 210,
    "start_time": "2022-05-07T07:25:57.942Z"
   },
   {
    "duration": 207,
    "start_time": "2022-05-07T07:26:04.038Z"
   },
   {
    "duration": 199,
    "start_time": "2022-05-07T07:27:27.829Z"
   },
   {
    "duration": 216,
    "start_time": "2022-05-07T07:27:45.084Z"
   },
   {
    "duration": 298,
    "start_time": "2022-05-07T07:29:28.310Z"
   },
   {
    "duration": 288,
    "start_time": "2022-05-07T07:35:54.976Z"
   },
   {
    "duration": 166,
    "start_time": "2022-05-07T07:36:33.425Z"
   },
   {
    "duration": 304,
    "start_time": "2022-05-07T07:41:05.818Z"
   },
   {
    "duration": 296,
    "start_time": "2022-05-07T07:41:41.744Z"
   },
   {
    "duration": 304,
    "start_time": "2022-05-07T07:43:03.964Z"
   },
   {
    "duration": 322,
    "start_time": "2022-05-07T07:43:23.678Z"
   },
   {
    "duration": 16,
    "start_time": "2022-05-07T07:44:48.945Z"
   },
   {
    "duration": 6,
    "start_time": "2022-05-07T07:54:31.609Z"
   },
   {
    "duration": 28,
    "start_time": "2022-05-07T07:54:33.375Z"
   },
   {
    "duration": 6,
    "start_time": "2022-05-07T07:55:15.418Z"
   },
   {
    "duration": 16,
    "start_time": "2022-05-07T07:55:19.457Z"
   },
   {
    "duration": 39,
    "start_time": "2022-05-07T08:00:15.101Z"
   },
   {
    "duration": 23,
    "start_time": "2022-05-07T08:01:06.526Z"
   },
   {
    "duration": 296,
    "start_time": "2022-05-07T08:07:34.269Z"
   },
   {
    "duration": 15,
    "start_time": "2022-05-07T08:07:41.642Z"
   },
   {
    "duration": 39,
    "start_time": "2022-05-07T08:08:41.480Z"
   },
   {
    "duration": 21,
    "start_time": "2022-05-07T08:09:48.393Z"
   },
   {
    "duration": 1528,
    "start_time": "2022-05-07T08:57:09.003Z"
   },
   {
    "duration": 125,
    "start_time": "2022-05-07T08:57:10.534Z"
   },
   {
    "duration": 63,
    "start_time": "2022-05-07T08:57:10.662Z"
   },
   {
    "duration": 19,
    "start_time": "2022-05-07T08:57:10.728Z"
   },
   {
    "duration": 46,
    "start_time": "2022-05-07T08:57:10.749Z"
   },
   {
    "duration": 23,
    "start_time": "2022-05-07T08:57:10.797Z"
   },
   {
    "duration": 14,
    "start_time": "2022-05-07T08:57:10.822Z"
   },
   {
    "duration": 56,
    "start_time": "2022-05-07T08:57:10.838Z"
   },
   {
    "duration": 410,
    "start_time": "2022-05-07T08:57:10.896Z"
   },
   {
    "duration": 5,
    "start_time": "2022-05-07T08:57:11.310Z"
   },
   {
    "duration": 15,
    "start_time": "2022-05-07T08:57:11.317Z"
   },
   {
    "duration": 363,
    "start_time": "2022-05-07T08:57:11.335Z"
   },
   {
    "duration": 253,
    "start_time": "2022-05-07T08:57:11.701Z"
   },
   {
    "duration": 26,
    "start_time": "2022-05-07T08:57:11.957Z"
   },
   {
    "duration": 686,
    "start_time": "2022-05-07T08:57:11.986Z"
   },
   {
    "duration": 475,
    "start_time": "2022-05-07T08:57:12.674Z"
   },
   {
    "duration": 565,
    "start_time": "2022-05-07T08:57:13.153Z"
   },
   {
    "duration": 496,
    "start_time": "2022-05-07T08:57:13.721Z"
   },
   {
    "duration": 454,
    "start_time": "2022-05-07T08:57:14.219Z"
   },
   {
    "duration": 216,
    "start_time": "2022-05-07T08:57:14.675Z"
   },
   {
    "duration": 7,
    "start_time": "2022-05-07T08:57:14.893Z"
   },
   {
    "duration": 240,
    "start_time": "2022-05-07T08:57:14.902Z"
   },
   {
    "duration": 330,
    "start_time": "2022-05-07T08:57:15.144Z"
   },
   {
    "duration": 9,
    "start_time": "2022-05-07T08:57:15.476Z"
   },
   {
    "duration": 310,
    "start_time": "2022-05-07T08:57:15.488Z"
   },
   {
    "duration": 14,
    "start_time": "2022-05-07T08:57:15.800Z"
   },
   {
    "duration": 5,
    "start_time": "2022-05-07T08:57:15.817Z"
   },
   {
    "duration": 56,
    "start_time": "2022-05-07T08:57:15.826Z"
   },
   {
    "duration": 161,
    "start_time": "2022-05-07T08:57:15.885Z"
   },
   {
    "duration": 0,
    "start_time": "2022-05-07T08:57:16.048Z"
   },
   {
    "duration": 17,
    "start_time": "2022-05-07T08:58:10.758Z"
   },
   {
    "duration": 41,
    "start_time": "2022-05-07T08:59:00.459Z"
   },
   {
    "duration": 20,
    "start_time": "2022-05-07T08:59:08.789Z"
   },
   {
    "duration": 51,
    "start_time": "2022-05-07T18:57:45.184Z"
   },
   {
    "duration": 1358,
    "start_time": "2022-05-07T18:57:50.204Z"
   },
   {
    "duration": 90,
    "start_time": "2022-05-07T18:57:51.565Z"
   },
   {
    "duration": 25,
    "start_time": "2022-05-07T18:57:51.657Z"
   },
   {
    "duration": 21,
    "start_time": "2022-05-07T18:57:51.685Z"
   },
   {
    "duration": 16,
    "start_time": "2022-05-07T18:57:51.708Z"
   },
   {
    "duration": 39,
    "start_time": "2022-05-07T18:57:51.726Z"
   },
   {
    "duration": 7,
    "start_time": "2022-05-07T18:57:51.767Z"
   },
   {
    "duration": 32,
    "start_time": "2022-05-07T18:57:51.776Z"
   },
   {
    "duration": 7,
    "start_time": "2022-05-07T18:57:51.810Z"
   },
   {
    "duration": 309,
    "start_time": "2022-05-07T18:57:51.820Z"
   },
   {
    "duration": 4,
    "start_time": "2022-05-07T18:57:52.131Z"
   },
   {
    "duration": 23,
    "start_time": "2022-05-07T18:57:52.138Z"
   },
   {
    "duration": 285,
    "start_time": "2022-05-07T18:57:52.163Z"
   },
   {
    "duration": 168,
    "start_time": "2022-05-07T18:57:52.454Z"
   },
   {
    "duration": 15,
    "start_time": "2022-05-07T18:57:52.624Z"
   },
   {
    "duration": 285,
    "start_time": "2022-05-07T18:57:52.653Z"
   },
   {
    "duration": 206,
    "start_time": "2022-05-07T18:57:52.940Z"
   },
   {
    "duration": 338,
    "start_time": "2022-05-07T18:57:53.148Z"
   },
   {
    "duration": 374,
    "start_time": "2022-05-07T18:57:53.489Z"
   },
   {
    "duration": 691,
    "start_time": "2022-05-07T18:57:53.865Z"
   },
   {
    "duration": 309,
    "start_time": "2022-05-07T18:57:54.558Z"
   },
   {
    "duration": 5,
    "start_time": "2022-05-07T18:57:54.869Z"
   },
   {
    "duration": 407,
    "start_time": "2022-05-07T18:57:54.875Z"
   },
   {
    "duration": 616,
    "start_time": "2022-05-07T18:57:55.284Z"
   },
   {
    "duration": 7,
    "start_time": "2022-05-07T18:57:55.955Z"
   },
   {
    "duration": 220,
    "start_time": "2022-05-07T18:57:55.965Z"
   },
   {
    "duration": 12,
    "start_time": "2022-05-07T18:57:56.187Z"
   },
   {
    "duration": 5,
    "start_time": "2022-05-07T18:57:56.203Z"
   },
   {
    "duration": 13,
    "start_time": "2022-05-07T18:57:56.210Z"
   },
   {
    "duration": 31,
    "start_time": "2022-05-07T18:57:56.254Z"
   },
   {
    "duration": 18,
    "start_time": "2022-05-07T18:57:56.287Z"
   },
   {
    "duration": 406,
    "start_time": "2022-05-07T19:26:51.910Z"
   },
   {
    "duration": 304,
    "start_time": "2022-05-07T19:26:55.766Z"
   },
   {
    "duration": 1616,
    "start_time": "2022-05-09T08:46:36.389Z"
   },
   {
    "duration": 105,
    "start_time": "2022-05-09T08:46:38.008Z"
   },
   {
    "duration": 47,
    "start_time": "2022-05-09T08:46:38.116Z"
   },
   {
    "duration": 20,
    "start_time": "2022-05-09T08:46:38.166Z"
   },
   {
    "duration": 16,
    "start_time": "2022-05-09T08:46:38.189Z"
   },
   {
    "duration": 55,
    "start_time": "2022-05-09T08:46:38.208Z"
   },
   {
    "duration": 10,
    "start_time": "2022-05-09T08:46:38.266Z"
   },
   {
    "duration": 23,
    "start_time": "2022-05-09T08:46:38.279Z"
   },
   {
    "duration": 48,
    "start_time": "2022-05-09T08:46:38.304Z"
   },
   {
    "duration": 283,
    "start_time": "2022-05-09T08:46:38.356Z"
   },
   {
    "duration": 235,
    "start_time": "2022-05-09T08:46:38.641Z"
   },
   {
    "duration": 21,
    "start_time": "2022-05-09T08:46:38.878Z"
   },
   {
    "duration": 446,
    "start_time": "2022-05-09T08:46:38.901Z"
   },
   {
    "duration": 309,
    "start_time": "2022-05-09T08:46:39.349Z"
   },
   {
    "duration": 423,
    "start_time": "2022-05-09T08:46:39.660Z"
   },
   {
    "duration": 418,
    "start_time": "2022-05-09T08:46:40.085Z"
   },
   {
    "duration": 436,
    "start_time": "2022-05-09T08:46:40.505Z"
   },
   {
    "duration": 231,
    "start_time": "2022-05-09T08:46:40.944Z"
   },
   {
    "duration": 7,
    "start_time": "2022-05-09T08:46:41.177Z"
   },
   {
    "duration": 243,
    "start_time": "2022-05-09T08:46:41.186Z"
   },
   {
    "duration": 229,
    "start_time": "2022-05-09T08:46:41.431Z"
   },
   {
    "duration": 7,
    "start_time": "2022-05-09T08:46:41.663Z"
   },
   {
    "duration": 421,
    "start_time": "2022-05-09T08:46:41.672Z"
   },
   {
    "duration": 14,
    "start_time": "2022-05-09T08:46:42.096Z"
   },
   {
    "duration": 10,
    "start_time": "2022-05-09T08:46:42.113Z"
   },
   {
    "duration": 36,
    "start_time": "2022-05-09T08:46:42.126Z"
   },
   {
    "duration": 39,
    "start_time": "2022-05-09T08:46:42.164Z"
   },
   {
    "duration": 50,
    "start_time": "2022-05-09T08:46:42.207Z"
   },
   {
    "duration": 1363,
    "start_time": "2022-05-09T10:02:18.736Z"
   },
   {
    "duration": 104,
    "start_time": "2022-05-09T10:02:20.102Z"
   },
   {
    "duration": 45,
    "start_time": "2022-05-09T10:02:20.208Z"
   },
   {
    "duration": 31,
    "start_time": "2022-05-09T10:02:20.256Z"
   },
   {
    "duration": 18,
    "start_time": "2022-05-09T10:02:20.290Z"
   },
   {
    "duration": 50,
    "start_time": "2022-05-09T10:02:20.311Z"
   },
   {
    "duration": 12,
    "start_time": "2022-05-09T10:02:20.364Z"
   },
   {
    "duration": 28,
    "start_time": "2022-05-09T10:02:20.378Z"
   },
   {
    "duration": 13,
    "start_time": "2022-05-09T10:02:20.408Z"
   },
   {
    "duration": 291,
    "start_time": "2022-05-09T10:02:20.454Z"
   },
   {
    "duration": 222,
    "start_time": "2022-05-09T10:02:20.748Z"
   },
   {
    "duration": 19,
    "start_time": "2022-05-09T10:02:20.973Z"
   },
   {
    "duration": 455,
    "start_time": "2022-05-09T10:02:20.994Z"
   },
   {
    "duration": 309,
    "start_time": "2022-05-09T10:02:21.453Z"
   },
   {
    "duration": 389,
    "start_time": "2022-05-09T10:02:21.765Z"
   },
   {
    "duration": 304,
    "start_time": "2022-05-09T10:02:22.157Z"
   },
   {
    "duration": 379,
    "start_time": "2022-05-09T10:02:22.464Z"
   },
   {
    "duration": 228,
    "start_time": "2022-05-09T10:02:22.845Z"
   },
   {
    "duration": 7,
    "start_time": "2022-05-09T10:02:23.075Z"
   },
   {
    "duration": 238,
    "start_time": "2022-05-09T10:02:23.084Z"
   },
   {
    "duration": 224,
    "start_time": "2022-05-09T10:02:23.325Z"
   },
   {
    "duration": 7,
    "start_time": "2022-05-09T10:02:23.552Z"
   },
   {
    "duration": 436,
    "start_time": "2022-05-09T10:02:23.562Z"
   },
   {
    "duration": 15,
    "start_time": "2022-05-09T10:02:24.000Z"
   },
   {
    "duration": 5,
    "start_time": "2022-05-09T10:02:24.017Z"
   },
   {
    "duration": 41,
    "start_time": "2022-05-09T10:02:24.024Z"
   },
   {
    "duration": 48,
    "start_time": "2022-05-09T10:02:24.068Z"
   },
   {
    "duration": 39,
    "start_time": "2022-05-09T10:02:24.122Z"
   }
  ],
  "interpreter": {
   "hash": "e7d4d1fdefab968d87dae697830712be305784682ed311731942beb8000e292d"
  },
  "kernelspec": {
   "display_name": "Python 3.10.1 64-bit",
   "language": "python",
   "name": "python3"
  },
  "language_info": {
   "codemirror_mode": {
    "name": "ipython",
    "version": 3
   },
   "file_extension": ".py",
   "mimetype": "text/x-python",
   "name": "python",
   "nbconvert_exporter": "python",
   "pygments_lexer": "ipython3",
   "version": "3.10.1"
  },
  "toc": {
   "base_numbering": 1,
   "nav_menu": {},
   "number_sections": true,
   "sideBar": true,
   "skip_h1_title": true,
   "title_cell": "Table of Contents",
   "title_sidebar": "Contents",
   "toc_cell": false,
   "toc_position": {
    "height": "calc(100% - 180px)",
    "left": "10px",
    "top": "150px",
    "width": "331.391px"
   },
   "toc_section_display": true,
   "toc_window_display": true
  }
 },
 "nbformat": 4,
 "nbformat_minor": 2
}
