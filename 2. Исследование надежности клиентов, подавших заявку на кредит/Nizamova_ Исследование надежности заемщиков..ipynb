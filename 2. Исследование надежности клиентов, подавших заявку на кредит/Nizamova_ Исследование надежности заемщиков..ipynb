{
 "cells": [
  {
   "cell_type": "markdown",
   "id": "d0100789",
   "metadata": {},
   "source": [
    "# Исследование надежности заемщиков."
   ]
  },
  {
   "cell_type": "markdown",
   "id": "00fec5f7",
   "metadata": {},
   "source": [
    "# Описание проекта\n",
    "В вашем распоряжении данные сервиса Яндекс Недвижимость — архив объявлений о продаже квартир в Санкт-Петербурге и соседних населённых пунктах за несколько лет. Нужно научиться определять рыночную стоимость объектов недвижимости. Ваша задача — установить параметры. Это позволит построить автоматизированную систему: она отследит аномалии и мошенническую деятельность.\n",
    "По каждой квартире на продажу доступны два вида данных. Первые вписаны пользователем, вторые — получены автоматически на основе картографических данных. Например, расстояние до центра, аэропорта, ближайшего парка и водоёма."
   ]
  },
  {
   "cell_type": "markdown",
   "id": "29b08d4b",
   "metadata": {},
   "source": [
    "### Шаг 1. Обзор данных"
   ]
  },
  {
   "cell_type": "code",
   "execution_count": 1,
   "id": "317ae250",
   "metadata": {},
   "outputs": [],
   "source": [
    "import pandas as pd"
   ]
  },
  {
   "cell_type": "code",
   "execution_count": 2,
   "id": "e7c7e6b2",
   "metadata": {
    "scrolled": false
   },
   "outputs": [
    {
     "name": "stdout",
     "output_type": "stream",
     "text": [
      "<class 'pandas.core.frame.DataFrame'>\n",
      "RangeIndex: 21525 entries, 0 to 21524\n",
      "Data columns (total 12 columns):\n",
      " #   Column            Non-Null Count  Dtype  \n",
      "---  ------            --------------  -----  \n",
      " 0   children          21525 non-null  int64  \n",
      " 1   days_employed     19351 non-null  float64\n",
      " 2   dob_years         21525 non-null  int64  \n",
      " 3   education         21525 non-null  object \n",
      " 4   education_id      21525 non-null  int64  \n",
      " 5   family_status     21525 non-null  object \n",
      " 6   family_status_id  21525 non-null  int64  \n",
      " 7   gender            21525 non-null  object \n",
      " 8   income_type       21525 non-null  object \n",
      " 9   debt              21525 non-null  int64  \n",
      " 10  total_income      19351 non-null  float64\n",
      " 11  purpose           21525 non-null  object \n",
      "dtypes: float64(2), int64(5), object(5)\n",
      "memory usage: 2.0+ MB\n"
     ]
    }
   ],
   "source": [
    "# открываем файл для просмотра\n",
    "try:\n",
    "    data = pd.read_csv('/datasets/data.csv')\n",
    "except:\n",
    "    data = pd.read_csv('D:\\IT\\courses Python\\yandex_practicum\\\\2_project_preprocessing\\data.csv')\n",
    "\n",
    "data.head()\n",
    "data.info() # есть пропуски в столбцах total_income, days_employed"
   ]
  },
  {
   "cell_type": "markdown",
   "id": "12d54013",
   "metadata": {},
   "source": [
    "Применим цикл для каждого столбца таблицы. Найдем количество всех пропусков. Выведем на экран проценты, поделив на общее количество"
   ]
  },
  {
   "cell_type": "code",
   "execution_count": 3,
   "id": "940f84c1",
   "metadata": {},
   "outputs": [
    {
     "name": "stdout",
     "output_type": "stream",
     "text": [
      "children : 0%\n",
      "days_employed : 10%\n",
      "dob_years : 0%\n",
      "education : 0%\n",
      "education_id : 0%\n",
      "family_status : 0%\n",
      "family_status_id : 0%\n",
      "gender : 0%\n",
      "income_type : 0%\n",
      "debt : 0%\n",
      "total_income : 10%\n",
      "purpose : 0%\n"
     ]
    }
   ],
   "source": [
    "for column in data: \n",
    "    row = data[column].isna().sum()\n",
    "    print('{} : {:.0%}'.format(column, row / len(data))) # 10% составляют пропуски в столбцах days_employed, total_income"
   ]
  },
  {
   "cell_type": "markdown",
   "id": "bc2b8ba0",
   "metadata": {},
   "source": [
    "Доход, который без справки 2ндфл- это тоже самое что пропуск в значениях. Меня больше смущает точный % пропусков в 2х столбцах. Как будто это системная ошибка, хорошо бы уточнить у программистов.\n",
    "\n",
    "Стаж и зарплату правильнее считать по середине данных- медианой. "
   ]
  },
  {
   "cell_type": "code",
   "execution_count": 4,
   "id": "fcf489bb",
   "metadata": {
    "scrolled": false
   },
   "outputs": [
    {
     "data": {
      "text/plain": [
       "0     -8437.673028\n",
       "1     -4024.803754\n",
       "2     -5623.422610\n",
       "3     -4124.747207\n",
       "4    340266.072047\n",
       "Name: days_employed, dtype: float64"
      ]
     },
     "metadata": {},
     "output_type": "display_data"
    }
   ],
   "source": [
    "data['days_employed'] = data['days_employed'].fillna(value=(data['days_employed'].median())) # Заменила все пропуски медианным значением\n",
    "display(data['days_employed'].head())"
   ]
  },
  {
   "cell_type": "code",
   "execution_count": 5,
   "id": "3d11ade7",
   "metadata": {
    "scrolled": true
   },
   "outputs": [
    {
     "data": {
      "text/plain": [
       "0    253875.639453\n",
       "1    112080.014102\n",
       "2    145885.952297\n",
       "3    267628.550329\n",
       "4    158616.077870\n",
       "Name: total_income, dtype: float64"
      ]
     },
     "metadata": {},
     "output_type": "display_data"
    }
   ],
   "source": [
    "data['total_income'] = data['total_income'].fillna(value=(data['total_income'].median())) # Здесь тоже самое\n",
    "display(data['total_income'].head())"
   ]
  },
  {
   "cell_type": "markdown",
   "id": "59c1d98e",
   "metadata": {},
   "source": [
    "### Шаг 2.2 Проверка данных на аномалии и исправления."
   ]
  },
  {
   "cell_type": "markdown",
   "id": "aa2a5cdf",
   "metadata": {},
   "source": [
    "Начну проверку по порядку с первого столбца"
   ]
  },
  {
   "cell_type": "code",
   "execution_count": 6,
   "id": "7e7ce95c",
   "metadata": {},
   "outputs": [],
   "source": [
    "data['children'] = data['children'].abs() # Убираю отрицательное значение в количестве детей"
   ]
  },
  {
   "cell_type": "code",
   "execution_count": 7,
   "id": "6f1b135c",
   "metadata": {
    "scrolled": false
   },
   "outputs": [
    {
     "data": {
      "text/html": [
       "<div>\n",
       "<style scoped>\n",
       "    .dataframe tbody tr th:only-of-type {\n",
       "        vertical-align: middle;\n",
       "    }\n",
       "\n",
       "    .dataframe tbody tr th {\n",
       "        vertical-align: top;\n",
       "    }\n",
       "\n",
       "    .dataframe thead th {\n",
       "        text-align: right;\n",
       "    }\n",
       "</style>\n",
       "<table border=\"1\" class=\"dataframe\">\n",
       "  <thead>\n",
       "    <tr style=\"text-align: right;\">\n",
       "      <th></th>\n",
       "      <th>children</th>\n",
       "      <th>days_employed</th>\n",
       "      <th>dob_years</th>\n",
       "      <th>education</th>\n",
       "      <th>education_id</th>\n",
       "      <th>family_status</th>\n",
       "      <th>family_status_id</th>\n",
       "      <th>gender</th>\n",
       "      <th>income_type</th>\n",
       "      <th>debt</th>\n",
       "      <th>total_income</th>\n",
       "      <th>purpose</th>\n",
       "    </tr>\n",
       "  </thead>\n",
       "  <tbody>\n",
       "    <tr>\n",
       "      <th>0</th>\n",
       "      <td>1</td>\n",
       "      <td>8437.673028</td>\n",
       "      <td>42</td>\n",
       "      <td>высшее</td>\n",
       "      <td>0</td>\n",
       "      <td>женат / замужем</td>\n",
       "      <td>0</td>\n",
       "      <td>F</td>\n",
       "      <td>сотрудник</td>\n",
       "      <td>0</td>\n",
       "      <td>253875.639453</td>\n",
       "      <td>покупка жилья</td>\n",
       "    </tr>\n",
       "    <tr>\n",
       "      <th>1</th>\n",
       "      <td>1</td>\n",
       "      <td>4024.803754</td>\n",
       "      <td>36</td>\n",
       "      <td>среднее</td>\n",
       "      <td>1</td>\n",
       "      <td>женат / замужем</td>\n",
       "      <td>0</td>\n",
       "      <td>F</td>\n",
       "      <td>сотрудник</td>\n",
       "      <td>0</td>\n",
       "      <td>112080.014102</td>\n",
       "      <td>приобретение автомобиля</td>\n",
       "    </tr>\n",
       "    <tr>\n",
       "      <th>2</th>\n",
       "      <td>0</td>\n",
       "      <td>5623.422610</td>\n",
       "      <td>33</td>\n",
       "      <td>Среднее</td>\n",
       "      <td>1</td>\n",
       "      <td>женат / замужем</td>\n",
       "      <td>0</td>\n",
       "      <td>M</td>\n",
       "      <td>сотрудник</td>\n",
       "      <td>0</td>\n",
       "      <td>145885.952297</td>\n",
       "      <td>покупка жилья</td>\n",
       "    </tr>\n",
       "    <tr>\n",
       "      <th>3</th>\n",
       "      <td>3</td>\n",
       "      <td>4124.747207</td>\n",
       "      <td>32</td>\n",
       "      <td>среднее</td>\n",
       "      <td>1</td>\n",
       "      <td>женат / замужем</td>\n",
       "      <td>0</td>\n",
       "      <td>M</td>\n",
       "      <td>сотрудник</td>\n",
       "      <td>0</td>\n",
       "      <td>267628.550329</td>\n",
       "      <td>дополнительное образование</td>\n",
       "    </tr>\n",
       "    <tr>\n",
       "      <th>4</th>\n",
       "      <td>0</td>\n",
       "      <td>340266.072047</td>\n",
       "      <td>53</td>\n",
       "      <td>среднее</td>\n",
       "      <td>1</td>\n",
       "      <td>гражданский брак</td>\n",
       "      <td>1</td>\n",
       "      <td>F</td>\n",
       "      <td>пенсионер</td>\n",
       "      <td>0</td>\n",
       "      <td>158616.077870</td>\n",
       "      <td>сыграть свадьбу</td>\n",
       "    </tr>\n",
       "  </tbody>\n",
       "</table>\n",
       "</div>"
      ],
      "text/plain": [
       "   children  days_employed  dob_years education  education_id  \\\n",
       "0         1    8437.673028         42    высшее             0   \n",
       "1         1    4024.803754         36   среднее             1   \n",
       "2         0    5623.422610         33   Среднее             1   \n",
       "3         3    4124.747207         32   среднее             1   \n",
       "4         0  340266.072047         53   среднее             1   \n",
       "\n",
       "      family_status  family_status_id gender income_type  debt   total_income  \\\n",
       "0   женат / замужем                 0      F   сотрудник     0  253875.639453   \n",
       "1   женат / замужем                 0      F   сотрудник     0  112080.014102   \n",
       "2   женат / замужем                 0      M   сотрудник     0  145885.952297   \n",
       "3   женат / замужем                 0      M   сотрудник     0  267628.550329   \n",
       "4  гражданский брак                 1      F   пенсионер     0  158616.077870   \n",
       "\n",
       "                      purpose  \n",
       "0               покупка жилья  \n",
       "1     приобретение автомобиля  \n",
       "2               покупка жилья  \n",
       "3  дополнительное образование  \n",
       "4             сыграть свадьбу  "
      ]
     },
     "metadata": {},
     "output_type": "display_data"
    }
   ],
   "source": [
    "data['days_employed'] = data['days_employed'].abs() # Преобразую данные стажа в столбце days_employed в положительное значение.\n",
    "display(data.head())"
   ]
  },
  {
   "cell_type": "code",
   "execution_count": 8,
   "id": "f85b696e",
   "metadata": {},
   "outputs": [
    {
     "data": {
      "text/plain": [
       "среднее                13750\n",
       "высшее                  4718\n",
       "СРЕДНЕЕ                  772\n",
       "Среднее                  711\n",
       "неоконченное высшее      668\n",
       "ВЫСШЕЕ                   274\n",
       "Высшее                   268\n",
       "начальное                250\n",
       "Неоконченное высшее       47\n",
       "НЕОКОНЧЕННОЕ ВЫСШЕЕ       29\n",
       "НАЧАЛЬНОЕ                 17\n",
       "Начальное                 15\n",
       "ученая степень             4\n",
       "Ученая степень             1\n",
       "УЧЕНАЯ СТЕПЕНЬ             1\n",
       "Name: education, dtype: int64"
      ]
     },
     "execution_count": 8,
     "metadata": {},
     "output_type": "execute_result"
    }
   ],
   "source": [
    "data['education'].value_counts() # Много одинаковых слов по разному написаны."
   ]
  },
  {
   "cell_type": "code",
   "execution_count": 9,
   "id": "d8fe4787",
   "metadata": {},
   "outputs": [],
   "source": [
    "data['education'] = data['education'].str.lower() # Все привела в нижний регистр и присвоила новые значения"
   ]
  },
  {
   "cell_type": "code",
   "execution_count": 10,
   "id": "3b86b606",
   "metadata": {
    "scrolled": true
   },
   "outputs": [
    {
     "data": {
      "text/plain": [
       "среднее                15233\n",
       "высшее                  5260\n",
       "неоконченное высшее      744\n",
       "начальное                282\n",
       "ученая степень             6\n",
       "Name: education, dtype: int64"
      ]
     },
     "execution_count": 10,
     "metadata": {},
     "output_type": "execute_result"
    }
   ],
   "source": [
    "data['education'].value_counts() # Все ок"
   ]
  },
  {
   "cell_type": "code",
   "execution_count": 11,
   "id": "d114e553",
   "metadata": {
    "scrolled": true
   },
   "outputs": [
    {
     "data": {
      "text/plain": [
       "F      14236\n",
       "M       7288\n",
       "XNA        1\n",
       "Name: gender, dtype: int64"
      ]
     },
     "execution_count": 11,
     "metadata": {},
     "output_type": "execute_result"
    }
   ],
   "source": [
    "data['gender'].value_counts() # Здесь есть одно значение непонятного пола."
   ]
  },
  {
   "cell_type": "code",
   "execution_count": 12,
   "id": "8b11fb85",
   "metadata": {
    "scrolled": true
   },
   "outputs": [],
   "source": [
    "data.loc[data['gender'] == 'XNA', 'gender'] = 'F'  # Заменим значение XNA на F"
   ]
  },
  {
   "cell_type": "code",
   "execution_count": 13,
   "id": "dc25c07d",
   "metadata": {},
   "outputs": [
    {
     "data": {
      "text/plain": [
       "F    14237\n",
       "M     7288\n",
       "Name: gender, dtype: int64"
      ]
     },
     "execution_count": 13,
     "metadata": {},
     "output_type": "execute_result"
    }
   ],
   "source": [
    "data['gender'].value_counts() # Проверяю чистоту. Все ок"
   ]
  },
  {
   "cell_type": "code",
   "execution_count": 14,
   "id": "320c1cff",
   "metadata": {},
   "outputs": [
    {
     "data": {
      "text/plain": [
       "свадьба                                   797\n",
       "на проведение свадьбы                     777\n",
       "сыграть свадьбу                           774\n",
       "операции с недвижимостью                  676\n",
       "покупка коммерческой недвижимости         664\n",
       "покупка жилья для сдачи                   653\n",
       "операции с жильем                         653\n",
       "операции с коммерческой недвижимостью     651\n",
       "покупка жилья                             647\n",
       "жилье                                     647\n",
       "покупка жилья для семьи                   641\n",
       "строительство собственной недвижимости    635\n",
       "недвижимость                              634\n",
       "операции со своей недвижимостью           630\n",
       "строительство жилой недвижимости          626\n",
       "покупка недвижимости                      624\n",
       "строительство недвижимости                620\n",
       "покупка своего жилья                      620\n",
       "ремонт жилью                              612\n",
       "покупка жилой недвижимости                607\n",
       "на покупку своего автомобиля              505\n",
       "заняться высшим образованием              496\n",
       "автомобиль                                495\n",
       "сделка с подержанным автомобилем          489\n",
       "свой автомобиль                           480\n",
       "на покупку подержанного автомобиля        479\n",
       "автомобили                                478\n",
       "на покупку автомобиля                     472\n",
       "дополнительное образование                462\n",
       "приобретение автомобиля                   462\n",
       "сделка с автомобилем                      455\n",
       "высшее образование                        453\n",
       "образование                               447\n",
       "получение дополнительного образования     447\n",
       "получение образования                     443\n",
       "профильное образование                    436\n",
       "получение высшего образования             426\n",
       "заняться образованием                     412\n",
       "Name: purpose, dtype: int64"
      ]
     },
     "execution_count": 14,
     "metadata": {},
     "output_type": "execute_result"
    }
   ],
   "source": [
    "data['purpose'].value_counts() # Здесь много идентичных целей, но написаных поразному. "
   ]
  },
  {
   "cell_type": "markdown",
   "id": "73baaa5d",
   "metadata": {},
   "source": [
    "### Шаг 2.3. Изменение типов данных."
   ]
  },
  {
   "cell_type": "code",
   "execution_count": 15,
   "id": "dcf10621",
   "metadata": {
    "scrolled": true
   },
   "outputs": [],
   "source": [
    "data['total_income'] = data['total_income'].astype('int') # Для получения целых чисел, применила astype()"
   ]
  },
  {
   "cell_type": "code",
   "execution_count": 16,
   "id": "509516a0",
   "metadata": {
    "scrolled": false
   },
   "outputs": [
    {
     "data": {
      "text/html": [
       "<div>\n",
       "<style scoped>\n",
       "    .dataframe tbody tr th:only-of-type {\n",
       "        vertical-align: middle;\n",
       "    }\n",
       "\n",
       "    .dataframe tbody tr th {\n",
       "        vertical-align: top;\n",
       "    }\n",
       "\n",
       "    .dataframe thead th {\n",
       "        text-align: right;\n",
       "    }\n",
       "</style>\n",
       "<table border=\"1\" class=\"dataframe\">\n",
       "  <thead>\n",
       "    <tr style=\"text-align: right;\">\n",
       "      <th></th>\n",
       "      <th>children</th>\n",
       "      <th>days_employed</th>\n",
       "      <th>dob_years</th>\n",
       "      <th>education_id</th>\n",
       "      <th>family_status_id</th>\n",
       "      <th>debt</th>\n",
       "      <th>total_income</th>\n",
       "    </tr>\n",
       "  </thead>\n",
       "  <tbody>\n",
       "    <tr>\n",
       "      <th>count</th>\n",
       "      <td>21525.000000</td>\n",
       "      <td>21525.000000</td>\n",
       "      <td>21525.000000</td>\n",
       "      <td>21525.000000</td>\n",
       "      <td>21525.000000</td>\n",
       "      <td>21525.000000</td>\n",
       "      <td>2.152500e+04</td>\n",
       "    </tr>\n",
       "    <tr>\n",
       "      <th>mean</th>\n",
       "      <td>0.543275</td>\n",
       "      <td>60277.957929</td>\n",
       "      <td>43.293380</td>\n",
       "      <td>0.817236</td>\n",
       "      <td>0.972544</td>\n",
       "      <td>0.080883</td>\n",
       "      <td>1.651589e+05</td>\n",
       "    </tr>\n",
       "    <tr>\n",
       "      <th>std</th>\n",
       "      <td>1.379876</td>\n",
       "      <td>133301.583103</td>\n",
       "      <td>12.574584</td>\n",
       "      <td>0.548138</td>\n",
       "      <td>1.420324</td>\n",
       "      <td>0.272661</td>\n",
       "      <td>9.786608e+04</td>\n",
       "    </tr>\n",
       "    <tr>\n",
       "      <th>min</th>\n",
       "      <td>0.000000</td>\n",
       "      <td>24.141633</td>\n",
       "      <td>0.000000</td>\n",
       "      <td>0.000000</td>\n",
       "      <td>0.000000</td>\n",
       "      <td>0.000000</td>\n",
       "      <td>2.066700e+04</td>\n",
       "    </tr>\n",
       "    <tr>\n",
       "      <th>25%</th>\n",
       "      <td>0.000000</td>\n",
       "      <td>1025.608174</td>\n",
       "      <td>33.000000</td>\n",
       "      <td>1.000000</td>\n",
       "      <td>0.000000</td>\n",
       "      <td>0.000000</td>\n",
       "      <td>1.077980e+05</td>\n",
       "    </tr>\n",
       "    <tr>\n",
       "      <th>50%</th>\n",
       "      <td>0.000000</td>\n",
       "      <td>1808.053434</td>\n",
       "      <td>42.000000</td>\n",
       "      <td>1.000000</td>\n",
       "      <td>0.000000</td>\n",
       "      <td>0.000000</td>\n",
       "      <td>1.450170e+05</td>\n",
       "    </tr>\n",
       "    <tr>\n",
       "      <th>75%</th>\n",
       "      <td>1.000000</td>\n",
       "      <td>4779.587738</td>\n",
       "      <td>53.000000</td>\n",
       "      <td>1.000000</td>\n",
       "      <td>1.000000</td>\n",
       "      <td>0.000000</td>\n",
       "      <td>1.955430e+05</td>\n",
       "    </tr>\n",
       "    <tr>\n",
       "      <th>max</th>\n",
       "      <td>20.000000</td>\n",
       "      <td>401755.400475</td>\n",
       "      <td>75.000000</td>\n",
       "      <td>4.000000</td>\n",
       "      <td>4.000000</td>\n",
       "      <td>1.000000</td>\n",
       "      <td>2.265604e+06</td>\n",
       "    </tr>\n",
       "  </tbody>\n",
       "</table>\n",
       "</div>"
      ],
      "text/plain": [
       "           children  days_employed     dob_years  education_id  \\\n",
       "count  21525.000000   21525.000000  21525.000000  21525.000000   \n",
       "mean       0.543275   60277.957929     43.293380      0.817236   \n",
       "std        1.379876  133301.583103     12.574584      0.548138   \n",
       "min        0.000000      24.141633      0.000000      0.000000   \n",
       "25%        0.000000    1025.608174     33.000000      1.000000   \n",
       "50%        0.000000    1808.053434     42.000000      1.000000   \n",
       "75%        1.000000    4779.587738     53.000000      1.000000   \n",
       "max       20.000000  401755.400475     75.000000      4.000000   \n",
       "\n",
       "       family_status_id          debt  total_income  \n",
       "count      21525.000000  21525.000000  2.152500e+04  \n",
       "mean           0.972544      0.080883  1.651589e+05  \n",
       "std            1.420324      0.272661  9.786608e+04  \n",
       "min            0.000000      0.000000  2.066700e+04  \n",
       "25%            0.000000      0.000000  1.077980e+05  \n",
       "50%            0.000000      0.000000  1.450170e+05  \n",
       "75%            1.000000      0.000000  1.955430e+05  \n",
       "max            4.000000      1.000000  2.265604e+06  "
      ]
     },
     "execution_count": 16,
     "metadata": {},
     "output_type": "execute_result"
    }
   ],
   "source": [
    "data.describe() # Составила статистическую таблицу. Пропусков нет, все значения определены. "
   ]
  },
  {
   "cell_type": "markdown",
   "id": "6b34873e",
   "metadata": {},
   "source": [
    "### Шаг 2.4. Удаление дубликатов."
   ]
  },
  {
   "cell_type": "code",
   "execution_count": 17,
   "id": "b3c84dc6",
   "metadata": {
    "scrolled": true
   },
   "outputs": [
    {
     "data": {
      "text/plain": [
       "71"
      ]
     },
     "execution_count": 17,
     "metadata": {},
     "output_type": "execute_result"
    }
   ],
   "source": [
    "data.duplicated().sum() # Сколько всего дубликатов? 71"
   ]
  },
  {
   "cell_type": "markdown",
   "id": "b5ddf6f7",
   "metadata": {},
   "source": [
    "Пропусков нет. \n",
    "Аномалии обработаны. \n",
    "К единому реестру приведены. \n",
    "Итого 71 дубль. "
   ]
  },
  {
   "cell_type": "code",
   "execution_count": 18,
   "id": "a731002a",
   "metadata": {
    "scrolled": true
   },
   "outputs": [
    {
     "data": {
      "text/plain": [
       "0"
      ]
     },
     "execution_count": 18,
     "metadata": {},
     "output_type": "execute_result"
    }
   ],
   "source": [
    "data = data.drop_duplicates().reset_index(drop=True)   # Удаляю дубликаты. И заменила старый датафрейм на новый без дубликатов.\n",
    "data.duplicated().sum()  "
   ]
  },
  {
   "cell_type": "markdown",
   "id": "6cefe367",
   "metadata": {},
   "source": [
    "### Шаг 2.5. Формирование дополнительных датафреймов словарей, декомпозиция исходного датафрейма."
   ]
  },
  {
   "cell_type": "code",
   "execution_count": 19,
   "id": "1d991b6f",
   "metadata": {
    "scrolled": true
   },
   "outputs": [
    {
     "data": {
      "text/html": [
       "<div>\n",
       "<style scoped>\n",
       "    .dataframe tbody tr th:only-of-type {\n",
       "        vertical-align: middle;\n",
       "    }\n",
       "\n",
       "    .dataframe tbody tr th {\n",
       "        vertical-align: top;\n",
       "    }\n",
       "\n",
       "    .dataframe thead th {\n",
       "        text-align: right;\n",
       "    }\n",
       "</style>\n",
       "<table border=\"1\" class=\"dataframe\">\n",
       "  <thead>\n",
       "    <tr style=\"text-align: right;\">\n",
       "      <th></th>\n",
       "      <th>education_id</th>\n",
       "      <th>education</th>\n",
       "    </tr>\n",
       "  </thead>\n",
       "  <tbody>\n",
       "    <tr>\n",
       "      <th>21449</th>\n",
       "      <td>1</td>\n",
       "      <td>среднее</td>\n",
       "    </tr>\n",
       "    <tr>\n",
       "      <th>21450</th>\n",
       "      <td>1</td>\n",
       "      <td>среднее</td>\n",
       "    </tr>\n",
       "    <tr>\n",
       "      <th>21451</th>\n",
       "      <td>1</td>\n",
       "      <td>среднее</td>\n",
       "    </tr>\n",
       "    <tr>\n",
       "      <th>21452</th>\n",
       "      <td>1</td>\n",
       "      <td>среднее</td>\n",
       "    </tr>\n",
       "    <tr>\n",
       "      <th>21453</th>\n",
       "      <td>1</td>\n",
       "      <td>среднее</td>\n",
       "    </tr>\n",
       "  </tbody>\n",
       "</table>\n",
       "</div>"
      ],
      "text/plain": [
       "       education_id education\n",
       "21449             1   среднее\n",
       "21450             1   среднее\n",
       "21451             1   среднее\n",
       "21452             1   среднее\n",
       "21453             1   среднее"
      ]
     },
     "execution_count": 19,
     "metadata": {},
     "output_type": "execute_result"
    }
   ],
   "source": [
    "data_education = data[['education_id', 'education']]  # Создадим новый датафрейм из двух столбцов\n",
    "data_education.tail()"
   ]
  },
  {
   "cell_type": "code",
   "execution_count": 20,
   "id": "c949e610",
   "metadata": {
    "scrolled": true
   },
   "outputs": [
    {
     "data": {
      "text/html": [
       "<div>\n",
       "<style scoped>\n",
       "    .dataframe tbody tr th:only-of-type {\n",
       "        vertical-align: middle;\n",
       "    }\n",
       "\n",
       "    .dataframe tbody tr th {\n",
       "        vertical-align: top;\n",
       "    }\n",
       "\n",
       "    .dataframe thead th {\n",
       "        text-align: right;\n",
       "    }\n",
       "</style>\n",
       "<table border=\"1\" class=\"dataframe\">\n",
       "  <thead>\n",
       "    <tr style=\"text-align: right;\">\n",
       "      <th></th>\n",
       "      <th>family_status_id</th>\n",
       "      <th>family_status</th>\n",
       "    </tr>\n",
       "  </thead>\n",
       "  <tbody>\n",
       "    <tr>\n",
       "      <th>21449</th>\n",
       "      <td>1</td>\n",
       "      <td>гражданский брак</td>\n",
       "    </tr>\n",
       "    <tr>\n",
       "      <th>21450</th>\n",
       "      <td>0</td>\n",
       "      <td>женат / замужем</td>\n",
       "    </tr>\n",
       "    <tr>\n",
       "      <th>21451</th>\n",
       "      <td>1</td>\n",
       "      <td>гражданский брак</td>\n",
       "    </tr>\n",
       "    <tr>\n",
       "      <th>21452</th>\n",
       "      <td>0</td>\n",
       "      <td>женат / замужем</td>\n",
       "    </tr>\n",
       "    <tr>\n",
       "      <th>21453</th>\n",
       "      <td>0</td>\n",
       "      <td>женат / замужем</td>\n",
       "    </tr>\n",
       "  </tbody>\n",
       "</table>\n",
       "</div>"
      ],
      "text/plain": [
       "       family_status_id     family_status\n",
       "21449                 1  гражданский брак\n",
       "21450                 0   женат / замужем\n",
       "21451                 1  гражданский брак\n",
       "21452                 0   женат / замужем\n",
       "21453                 0   женат / замужем"
      ]
     },
     "execution_count": 20,
     "metadata": {},
     "output_type": "execute_result"
    }
   ],
   "source": [
    "data_family_status = data[['family_status_id', 'family_status']]\n",
    "data_family_status.tail()"
   ]
  },
  {
   "cell_type": "code",
   "execution_count": 21,
   "id": "1453aca7",
   "metadata": {},
   "outputs": [
    {
     "data": {
      "text/html": [
       "<div>\n",
       "<style scoped>\n",
       "    .dataframe tbody tr th:only-of-type {\n",
       "        vertical-align: middle;\n",
       "    }\n",
       "\n",
       "    .dataframe tbody tr th {\n",
       "        vertical-align: top;\n",
       "    }\n",
       "\n",
       "    .dataframe thead th {\n",
       "        text-align: right;\n",
       "    }\n",
       "</style>\n",
       "<table border=\"1\" class=\"dataframe\">\n",
       "  <thead>\n",
       "    <tr style=\"text-align: right;\">\n",
       "      <th></th>\n",
       "      <th>children</th>\n",
       "      <th>days_employed</th>\n",
       "      <th>dob_years</th>\n",
       "      <th>education_id</th>\n",
       "      <th>family_status_id</th>\n",
       "      <th>gender</th>\n",
       "      <th>income_type</th>\n",
       "      <th>debt</th>\n",
       "      <th>total_income</th>\n",
       "      <th>purpose</th>\n",
       "    </tr>\n",
       "  </thead>\n",
       "  <tbody>\n",
       "    <tr>\n",
       "      <th>0</th>\n",
       "      <td>1</td>\n",
       "      <td>8437.673028</td>\n",
       "      <td>42</td>\n",
       "      <td>0</td>\n",
       "      <td>0</td>\n",
       "      <td>F</td>\n",
       "      <td>сотрудник</td>\n",
       "      <td>0</td>\n",
       "      <td>253875</td>\n",
       "      <td>покупка жилья</td>\n",
       "    </tr>\n",
       "    <tr>\n",
       "      <th>1</th>\n",
       "      <td>1</td>\n",
       "      <td>4024.803754</td>\n",
       "      <td>36</td>\n",
       "      <td>1</td>\n",
       "      <td>0</td>\n",
       "      <td>F</td>\n",
       "      <td>сотрудник</td>\n",
       "      <td>0</td>\n",
       "      <td>112080</td>\n",
       "      <td>приобретение автомобиля</td>\n",
       "    </tr>\n",
       "    <tr>\n",
       "      <th>2</th>\n",
       "      <td>0</td>\n",
       "      <td>5623.422610</td>\n",
       "      <td>33</td>\n",
       "      <td>1</td>\n",
       "      <td>0</td>\n",
       "      <td>M</td>\n",
       "      <td>сотрудник</td>\n",
       "      <td>0</td>\n",
       "      <td>145885</td>\n",
       "      <td>покупка жилья</td>\n",
       "    </tr>\n",
       "    <tr>\n",
       "      <th>3</th>\n",
       "      <td>3</td>\n",
       "      <td>4124.747207</td>\n",
       "      <td>32</td>\n",
       "      <td>1</td>\n",
       "      <td>0</td>\n",
       "      <td>M</td>\n",
       "      <td>сотрудник</td>\n",
       "      <td>0</td>\n",
       "      <td>267628</td>\n",
       "      <td>дополнительное образование</td>\n",
       "    </tr>\n",
       "    <tr>\n",
       "      <th>4</th>\n",
       "      <td>0</td>\n",
       "      <td>340266.072047</td>\n",
       "      <td>53</td>\n",
       "      <td>1</td>\n",
       "      <td>1</td>\n",
       "      <td>F</td>\n",
       "      <td>пенсионер</td>\n",
       "      <td>0</td>\n",
       "      <td>158616</td>\n",
       "      <td>сыграть свадьбу</td>\n",
       "    </tr>\n",
       "  </tbody>\n",
       "</table>\n",
       "</div>"
      ],
      "text/plain": [
       "   children  days_employed  dob_years  education_id  family_status_id gender  \\\n",
       "0         1    8437.673028         42             0                 0      F   \n",
       "1         1    4024.803754         36             1                 0      F   \n",
       "2         0    5623.422610         33             1                 0      M   \n",
       "3         3    4124.747207         32             1                 0      M   \n",
       "4         0  340266.072047         53             1                 1      F   \n",
       "\n",
       "  income_type  debt  total_income                     purpose  \n",
       "0   сотрудник     0        253875               покупка жилья  \n",
       "1   сотрудник     0        112080     приобретение автомобиля  \n",
       "2   сотрудник     0        145885               покупка жилья  \n",
       "3   сотрудник     0        267628  дополнительное образование  \n",
       "4   пенсионер     0        158616             сыграть свадьбу  "
      ]
     },
     "execution_count": 21,
     "metadata": {},
     "output_type": "execute_result"
    }
   ],
   "source": [
    "data.drop(['education', 'family_status'], axis=1).head()  # Удаляем столбцы у существующей таблицы и выводим первые 5 строк"
   ]
  },
  {
   "cell_type": "markdown",
   "id": "6a4916c0",
   "metadata": {},
   "source": [
    "### Шаг 2.6. Категоризация дохода."
   ]
  },
  {
   "cell_type": "code",
   "execution_count": 22,
   "id": "9589c39d",
   "metadata": {},
   "outputs": [],
   "source": [
    "def total_income_category(row): # Создали функцию для разбивки доходов по категориям\n",
    "    if row <= 30000:\n",
    "        return 'E'\n",
    "    if row <= 50000:\n",
    "        return 'D'\n",
    "    if row <= 200000:\n",
    "        return 'C'\n",
    "    if row <= 1000000:\n",
    "        return 'B'\n",
    "    return 'A'"
   ]
  },
  {
   "cell_type": "code",
   "execution_count": 23,
   "id": "b86e2832",
   "metadata": {
    "scrolled": true
   },
   "outputs": [
    {
     "data": {
      "text/html": [
       "<div>\n",
       "<style scoped>\n",
       "    .dataframe tbody tr th:only-of-type {\n",
       "        vertical-align: middle;\n",
       "    }\n",
       "\n",
       "    .dataframe tbody tr th {\n",
       "        vertical-align: top;\n",
       "    }\n",
       "\n",
       "    .dataframe thead th {\n",
       "        text-align: right;\n",
       "    }\n",
       "</style>\n",
       "<table border=\"1\" class=\"dataframe\">\n",
       "  <thead>\n",
       "    <tr style=\"text-align: right;\">\n",
       "      <th></th>\n",
       "      <th>children</th>\n",
       "      <th>days_employed</th>\n",
       "      <th>dob_years</th>\n",
       "      <th>education</th>\n",
       "      <th>education_id</th>\n",
       "      <th>family_status</th>\n",
       "      <th>family_status_id</th>\n",
       "      <th>gender</th>\n",
       "      <th>income_type</th>\n",
       "      <th>debt</th>\n",
       "      <th>total_income</th>\n",
       "      <th>purpose</th>\n",
       "      <th>total_income_category</th>\n",
       "    </tr>\n",
       "  </thead>\n",
       "  <tbody>\n",
       "    <tr>\n",
       "      <th>0</th>\n",
       "      <td>1</td>\n",
       "      <td>8437.673028</td>\n",
       "      <td>42</td>\n",
       "      <td>высшее</td>\n",
       "      <td>0</td>\n",
       "      <td>женат / замужем</td>\n",
       "      <td>0</td>\n",
       "      <td>F</td>\n",
       "      <td>сотрудник</td>\n",
       "      <td>0</td>\n",
       "      <td>253875</td>\n",
       "      <td>покупка жилья</td>\n",
       "      <td>B</td>\n",
       "    </tr>\n",
       "    <tr>\n",
       "      <th>1</th>\n",
       "      <td>1</td>\n",
       "      <td>4024.803754</td>\n",
       "      <td>36</td>\n",
       "      <td>среднее</td>\n",
       "      <td>1</td>\n",
       "      <td>женат / замужем</td>\n",
       "      <td>0</td>\n",
       "      <td>F</td>\n",
       "      <td>сотрудник</td>\n",
       "      <td>0</td>\n",
       "      <td>112080</td>\n",
       "      <td>приобретение автомобиля</td>\n",
       "      <td>C</td>\n",
       "    </tr>\n",
       "    <tr>\n",
       "      <th>2</th>\n",
       "      <td>0</td>\n",
       "      <td>5623.422610</td>\n",
       "      <td>33</td>\n",
       "      <td>среднее</td>\n",
       "      <td>1</td>\n",
       "      <td>женат / замужем</td>\n",
       "      <td>0</td>\n",
       "      <td>M</td>\n",
       "      <td>сотрудник</td>\n",
       "      <td>0</td>\n",
       "      <td>145885</td>\n",
       "      <td>покупка жилья</td>\n",
       "      <td>C</td>\n",
       "    </tr>\n",
       "    <tr>\n",
       "      <th>3</th>\n",
       "      <td>3</td>\n",
       "      <td>4124.747207</td>\n",
       "      <td>32</td>\n",
       "      <td>среднее</td>\n",
       "      <td>1</td>\n",
       "      <td>женат / замужем</td>\n",
       "      <td>0</td>\n",
       "      <td>M</td>\n",
       "      <td>сотрудник</td>\n",
       "      <td>0</td>\n",
       "      <td>267628</td>\n",
       "      <td>дополнительное образование</td>\n",
       "      <td>B</td>\n",
       "    </tr>\n",
       "    <tr>\n",
       "      <th>4</th>\n",
       "      <td>0</td>\n",
       "      <td>340266.072047</td>\n",
       "      <td>53</td>\n",
       "      <td>среднее</td>\n",
       "      <td>1</td>\n",
       "      <td>гражданский брак</td>\n",
       "      <td>1</td>\n",
       "      <td>F</td>\n",
       "      <td>пенсионер</td>\n",
       "      <td>0</td>\n",
       "      <td>158616</td>\n",
       "      <td>сыграть свадьбу</td>\n",
       "      <td>C</td>\n",
       "    </tr>\n",
       "    <tr>\n",
       "      <th>5</th>\n",
       "      <td>0</td>\n",
       "      <td>926.185831</td>\n",
       "      <td>27</td>\n",
       "      <td>высшее</td>\n",
       "      <td>0</td>\n",
       "      <td>гражданский брак</td>\n",
       "      <td>1</td>\n",
       "      <td>M</td>\n",
       "      <td>компаньон</td>\n",
       "      <td>0</td>\n",
       "      <td>255763</td>\n",
       "      <td>покупка жилья</td>\n",
       "      <td>B</td>\n",
       "    </tr>\n",
       "  </tbody>\n",
       "</table>\n",
       "</div>"
      ],
      "text/plain": [
       "   children  days_employed  dob_years education  education_id  \\\n",
       "0         1    8437.673028         42    высшее             0   \n",
       "1         1    4024.803754         36   среднее             1   \n",
       "2         0    5623.422610         33   среднее             1   \n",
       "3         3    4124.747207         32   среднее             1   \n",
       "4         0  340266.072047         53   среднее             1   \n",
       "5         0     926.185831         27    высшее             0   \n",
       "\n",
       "      family_status  family_status_id gender income_type  debt  total_income  \\\n",
       "0   женат / замужем                 0      F   сотрудник     0        253875   \n",
       "1   женат / замужем                 0      F   сотрудник     0        112080   \n",
       "2   женат / замужем                 0      M   сотрудник     0        145885   \n",
       "3   женат / замужем                 0      M   сотрудник     0        267628   \n",
       "4  гражданский брак                 1      F   пенсионер     0        158616   \n",
       "5  гражданский брак                 1      M   компаньон     0        255763   \n",
       "\n",
       "                      purpose total_income_category  \n",
       "0               покупка жилья                     B  \n",
       "1     приобретение автомобиля                     C  \n",
       "2               покупка жилья                     C  \n",
       "3  дополнительное образование                     B  \n",
       "4             сыграть свадьбу                     C  \n",
       "5               покупка жилья                     B  "
      ]
     },
     "execution_count": 23,
     "metadata": {},
     "output_type": "execute_result"
    }
   ],
   "source": [
    "data['total_income_category'] = data['total_income'].apply(total_income_category)\n",
    "data.head(6)"
   ]
  },
  {
   "cell_type": "markdown",
   "id": "45e68780",
   "metadata": {},
   "source": [
    "### Шаг 2.7. Категоризация целей кредита."
   ]
  },
  {
   "cell_type": "code",
   "execution_count": 24,
   "id": "e2716507",
   "metadata": {
    "scrolled": true
   },
   "outputs": [],
   "source": [
    "def data_purpose(row):  # Создали функцию для уменьшения дубликатов\n",
    "    if 'недвижимост' in row:\n",
    "        return 'операции с недвижимостью'\n",
    "    if 'образован' in row:\n",
    "        return 'получение образования'\n",
    "    if 'автомобил' in row:\n",
    "        return 'операции с автомобилем'\n",
    "    if 'свадьб' in row:\n",
    "        return 'проведение свадьбы'\n",
    "    return 'операции с недвижимостью'"
   ]
  },
  {
   "cell_type": "code",
   "execution_count": 25,
   "id": "196081ec",
   "metadata": {
    "scrolled": true
   },
   "outputs": [
    {
     "data": {
      "text/html": [
       "<div>\n",
       "<style scoped>\n",
       "    .dataframe tbody tr th:only-of-type {\n",
       "        vertical-align: middle;\n",
       "    }\n",
       "\n",
       "    .dataframe tbody tr th {\n",
       "        vertical-align: top;\n",
       "    }\n",
       "\n",
       "    .dataframe thead th {\n",
       "        text-align: right;\n",
       "    }\n",
       "</style>\n",
       "<table border=\"1\" class=\"dataframe\">\n",
       "  <thead>\n",
       "    <tr style=\"text-align: right;\">\n",
       "      <th></th>\n",
       "      <th>children</th>\n",
       "      <th>days_employed</th>\n",
       "      <th>dob_years</th>\n",
       "      <th>education</th>\n",
       "      <th>education_id</th>\n",
       "      <th>family_status</th>\n",
       "      <th>family_status_id</th>\n",
       "      <th>gender</th>\n",
       "      <th>income_type</th>\n",
       "      <th>debt</th>\n",
       "      <th>total_income</th>\n",
       "      <th>purpose</th>\n",
       "      <th>total_income_category</th>\n",
       "      <th>purpose_category</th>\n",
       "    </tr>\n",
       "  </thead>\n",
       "  <tbody>\n",
       "    <tr>\n",
       "      <th>0</th>\n",
       "      <td>1</td>\n",
       "      <td>8437.673028</td>\n",
       "      <td>42</td>\n",
       "      <td>высшее</td>\n",
       "      <td>0</td>\n",
       "      <td>женат / замужем</td>\n",
       "      <td>0</td>\n",
       "      <td>F</td>\n",
       "      <td>сотрудник</td>\n",
       "      <td>0</td>\n",
       "      <td>253875</td>\n",
       "      <td>покупка жилья</td>\n",
       "      <td>B</td>\n",
       "      <td>операции с недвижимостью</td>\n",
       "    </tr>\n",
       "    <tr>\n",
       "      <th>1</th>\n",
       "      <td>1</td>\n",
       "      <td>4024.803754</td>\n",
       "      <td>36</td>\n",
       "      <td>среднее</td>\n",
       "      <td>1</td>\n",
       "      <td>женат / замужем</td>\n",
       "      <td>0</td>\n",
       "      <td>F</td>\n",
       "      <td>сотрудник</td>\n",
       "      <td>0</td>\n",
       "      <td>112080</td>\n",
       "      <td>приобретение автомобиля</td>\n",
       "      <td>C</td>\n",
       "      <td>операции с автомобилем</td>\n",
       "    </tr>\n",
       "    <tr>\n",
       "      <th>2</th>\n",
       "      <td>0</td>\n",
       "      <td>5623.422610</td>\n",
       "      <td>33</td>\n",
       "      <td>среднее</td>\n",
       "      <td>1</td>\n",
       "      <td>женат / замужем</td>\n",
       "      <td>0</td>\n",
       "      <td>M</td>\n",
       "      <td>сотрудник</td>\n",
       "      <td>0</td>\n",
       "      <td>145885</td>\n",
       "      <td>покупка жилья</td>\n",
       "      <td>C</td>\n",
       "      <td>операции с недвижимостью</td>\n",
       "    </tr>\n",
       "    <tr>\n",
       "      <th>3</th>\n",
       "      <td>3</td>\n",
       "      <td>4124.747207</td>\n",
       "      <td>32</td>\n",
       "      <td>среднее</td>\n",
       "      <td>1</td>\n",
       "      <td>женат / замужем</td>\n",
       "      <td>0</td>\n",
       "      <td>M</td>\n",
       "      <td>сотрудник</td>\n",
       "      <td>0</td>\n",
       "      <td>267628</td>\n",
       "      <td>дополнительное образование</td>\n",
       "      <td>B</td>\n",
       "      <td>получение образования</td>\n",
       "    </tr>\n",
       "    <tr>\n",
       "      <th>4</th>\n",
       "      <td>0</td>\n",
       "      <td>340266.072047</td>\n",
       "      <td>53</td>\n",
       "      <td>среднее</td>\n",
       "      <td>1</td>\n",
       "      <td>гражданский брак</td>\n",
       "      <td>1</td>\n",
       "      <td>F</td>\n",
       "      <td>пенсионер</td>\n",
       "      <td>0</td>\n",
       "      <td>158616</td>\n",
       "      <td>сыграть свадьбу</td>\n",
       "      <td>C</td>\n",
       "      <td>проведение свадьбы</td>\n",
       "    </tr>\n",
       "  </tbody>\n",
       "</table>\n",
       "</div>"
      ],
      "text/plain": [
       "   children  days_employed  dob_years education  education_id  \\\n",
       "0         1    8437.673028         42    высшее             0   \n",
       "1         1    4024.803754         36   среднее             1   \n",
       "2         0    5623.422610         33   среднее             1   \n",
       "3         3    4124.747207         32   среднее             1   \n",
       "4         0  340266.072047         53   среднее             1   \n",
       "\n",
       "      family_status  family_status_id gender income_type  debt  total_income  \\\n",
       "0   женат / замужем                 0      F   сотрудник     0        253875   \n",
       "1   женат / замужем                 0      F   сотрудник     0        112080   \n",
       "2   женат / замужем                 0      M   сотрудник     0        145885   \n",
       "3   женат / замужем                 0      M   сотрудник     0        267628   \n",
       "4  гражданский брак                 1      F   пенсионер     0        158616   \n",
       "\n",
       "                      purpose total_income_category          purpose_category  \n",
       "0               покупка жилья                     B  операции с недвижимостью  \n",
       "1     приобретение автомобиля                     C    операции с автомобилем  \n",
       "2               покупка жилья                     C  операции с недвижимостью  \n",
       "3  дополнительное образование                     B     получение образования  \n",
       "4             сыграть свадьбу                     C        проведение свадьбы  "
      ]
     },
     "execution_count": 25,
     "metadata": {},
     "output_type": "execute_result"
    }
   ],
   "source": [
    "data['purpose_category'] = data['purpose'].apply(data_purpose) # В новом столбце применили функцию\n",
    "data.head()"
   ]
  },
  {
   "cell_type": "code",
   "execution_count": 26,
   "id": "90417862",
   "metadata": {},
   "outputs": [
    {
     "data": {
      "text/plain": [
       "операции с недвижимостью    10811\n",
       "операции с автомобилем       4306\n",
       "получение образования        4013\n",
       "проведение свадьбы           2324\n",
       "Name: purpose_category, dtype: int64"
      ]
     },
     "execution_count": 26,
     "metadata": {},
     "output_type": "execute_result"
    }
   ],
   "source": [
    "data['purpose_category'].value_counts() # Все отсортировано"
   ]
  },
  {
   "cell_type": "markdown",
   "id": "6f0de7bd",
   "metadata": {},
   "source": [
    "### Ответы на вопросы."
   ]
  },
  {
   "cell_type": "markdown",
   "id": "d9287813",
   "metadata": {},
   "source": [
    "1) Есть ли зависимость между количеством детей и возвратом кредита в срок?\n",
    "\n",
    "Создам сводную таблицу. Видно, что при увеличении количества детей, растет доля должников. "
   ]
  },
  {
   "cell_type": "code",
   "execution_count": 27,
   "id": "6f442b91",
   "metadata": {
    "scrolled": true
   },
   "outputs": [
    {
     "data": {
      "text/html": [
       "<div>\n",
       "<style scoped>\n",
       "    .dataframe tbody tr th:only-of-type {\n",
       "        vertical-align: middle;\n",
       "    }\n",
       "\n",
       "    .dataframe tbody tr th {\n",
       "        vertical-align: top;\n",
       "    }\n",
       "\n",
       "    .dataframe thead th {\n",
       "        text-align: right;\n",
       "    }\n",
       "</style>\n",
       "<table border=\"1\" class=\"dataframe\">\n",
       "  <thead>\n",
       "    <tr style=\"text-align: right;\">\n",
       "      <th></th>\n",
       "      <th>count</th>\n",
       "      <th>mean</th>\n",
       "      <th>sum</th>\n",
       "    </tr>\n",
       "    <tr>\n",
       "      <th>children</th>\n",
       "      <th></th>\n",
       "      <th></th>\n",
       "      <th></th>\n",
       "    </tr>\n",
       "  </thead>\n",
       "  <tbody>\n",
       "    <tr>\n",
       "      <th>0</th>\n",
       "      <td>14091</td>\n",
       "      <td>0.075438</td>\n",
       "      <td>1063</td>\n",
       "    </tr>\n",
       "    <tr>\n",
       "      <th>1</th>\n",
       "      <td>4855</td>\n",
       "      <td>0.091658</td>\n",
       "      <td>445</td>\n",
       "    </tr>\n",
       "    <tr>\n",
       "      <th>2</th>\n",
       "      <td>2052</td>\n",
       "      <td>0.094542</td>\n",
       "      <td>194</td>\n",
       "    </tr>\n",
       "    <tr>\n",
       "      <th>3</th>\n",
       "      <td>330</td>\n",
       "      <td>0.081818</td>\n",
       "      <td>27</td>\n",
       "    </tr>\n",
       "    <tr>\n",
       "      <th>4</th>\n",
       "      <td>41</td>\n",
       "      <td>0.097561</td>\n",
       "      <td>4</td>\n",
       "    </tr>\n",
       "    <tr>\n",
       "      <th>5</th>\n",
       "      <td>9</td>\n",
       "      <td>0.000000</td>\n",
       "      <td>0</td>\n",
       "    </tr>\n",
       "    <tr>\n",
       "      <th>20</th>\n",
       "      <td>76</td>\n",
       "      <td>0.105263</td>\n",
       "      <td>8</td>\n",
       "    </tr>\n",
       "  </tbody>\n",
       "</table>\n",
       "</div>"
      ],
      "text/plain": [
       "          count      mean   sum\n",
       "children                       \n",
       "0         14091  0.075438  1063\n",
       "1          4855  0.091658   445\n",
       "2          2052  0.094542   194\n",
       "3           330  0.081818    27\n",
       "4            41  0.097561     4\n",
       "5             9  0.000000     0\n",
       "20           76  0.105263     8"
      ]
     },
     "metadata": {},
     "output_type": "display_data"
    }
   ],
   "source": [
    "data_children_debt = data.pivot_table(index='children', values='debt', aggfunc=('count', 'sum', 'mean')) \n",
    "# С круглыми скобками в aggfunc названия столбцов получается одноуровневыми, без названия значений values.\n",
    "display(data_children_debt)"
   ]
  },
  {
   "cell_type": "code",
   "execution_count": 28,
   "id": "98750d02",
   "metadata": {},
   "outputs": [
    {
     "data": {
      "text/html": [
       "<div>\n",
       "<style scoped>\n",
       "    .dataframe tbody tr th:only-of-type {\n",
       "        vertical-align: middle;\n",
       "    }\n",
       "\n",
       "    .dataframe tbody tr th {\n",
       "        vertical-align: top;\n",
       "    }\n",
       "\n",
       "    .dataframe thead th {\n",
       "        text-align: right;\n",
       "    }\n",
       "</style>\n",
       "<table border=\"1\" class=\"dataframe\">\n",
       "  <thead>\n",
       "    <tr style=\"text-align: right;\">\n",
       "      <th></th>\n",
       "      <th>count</th>\n",
       "      <th>mean</th>\n",
       "      <th>sum</th>\n",
       "      <th>share_deptors</th>\n",
       "    </tr>\n",
       "    <tr>\n",
       "      <th>children</th>\n",
       "      <th></th>\n",
       "      <th></th>\n",
       "      <th></th>\n",
       "      <th></th>\n",
       "    </tr>\n",
       "  </thead>\n",
       "  <tbody>\n",
       "    <tr>\n",
       "      <th>0</th>\n",
       "      <td>14091</td>\n",
       "      <td>0.075438</td>\n",
       "      <td>1063</td>\n",
       "      <td>7.543822</td>\n",
       "    </tr>\n",
       "    <tr>\n",
       "      <th>1</th>\n",
       "      <td>4855</td>\n",
       "      <td>0.091658</td>\n",
       "      <td>445</td>\n",
       "      <td>9.165808</td>\n",
       "    </tr>\n",
       "    <tr>\n",
       "      <th>2</th>\n",
       "      <td>2052</td>\n",
       "      <td>0.094542</td>\n",
       "      <td>194</td>\n",
       "      <td>9.454191</td>\n",
       "    </tr>\n",
       "    <tr>\n",
       "      <th>3</th>\n",
       "      <td>330</td>\n",
       "      <td>0.081818</td>\n",
       "      <td>27</td>\n",
       "      <td>8.181818</td>\n",
       "    </tr>\n",
       "    <tr>\n",
       "      <th>4</th>\n",
       "      <td>41</td>\n",
       "      <td>0.097561</td>\n",
       "      <td>4</td>\n",
       "      <td>9.756098</td>\n",
       "    </tr>\n",
       "    <tr>\n",
       "      <th>5</th>\n",
       "      <td>9</td>\n",
       "      <td>0.000000</td>\n",
       "      <td>0</td>\n",
       "      <td>0.000000</td>\n",
       "    </tr>\n",
       "    <tr>\n",
       "      <th>20</th>\n",
       "      <td>76</td>\n",
       "      <td>0.105263</td>\n",
       "      <td>8</td>\n",
       "      <td>10.526316</td>\n",
       "    </tr>\n",
       "  </tbody>\n",
       "</table>\n",
       "</div>"
      ],
      "text/plain": [
       "          count      mean   sum  share_deptors\n",
       "children                                      \n",
       "0         14091  0.075438  1063       7.543822\n",
       "1          4855  0.091658   445       9.165808\n",
       "2          2052  0.094542   194       9.454191\n",
       "3           330  0.081818    27       8.181818\n",
       "4            41  0.097561     4       9.756098\n",
       "5             9  0.000000     0       0.000000\n",
       "20           76  0.105263     8      10.526316"
      ]
     },
     "metadata": {},
     "output_type": "display_data"
    }
   ],
   "source": [
    "data_children_debt['share_deptors'] = data_children_debt['mean']*100\n",
    "display(data_children_debt) # Наглядная форма подачи. Есть исключение- семьи с 3 детьми более ответственны."
   ]
  },
  {
   "cell_type": "markdown",
   "id": "333df1e9",
   "metadata": {},
   "source": [
    "2) Есть ли зависимость между семейным положением и возвратом кредита в срок?\n",
    "\n",
    "Самые лучшие клиенты- овдовевшие и в разводе. Незарегистрировавшие отношения так же неответственно относятся к кредиту."
   ]
  },
  {
   "cell_type": "code",
   "execution_count": 29,
   "id": "3f9f8601",
   "metadata": {},
   "outputs": [
    {
     "data": {
      "text/html": [
       "<div>\n",
       "<style scoped>\n",
       "    .dataframe tbody tr th:only-of-type {\n",
       "        vertical-align: middle;\n",
       "    }\n",
       "\n",
       "    .dataframe tbody tr th {\n",
       "        vertical-align: top;\n",
       "    }\n",
       "\n",
       "    .dataframe thead th {\n",
       "        text-align: right;\n",
       "    }\n",
       "</style>\n",
       "<table border=\"1\" class=\"dataframe\">\n",
       "  <thead>\n",
       "    <tr style=\"text-align: right;\">\n",
       "      <th></th>\n",
       "      <th>debt</th>\n",
       "    </tr>\n",
       "    <tr>\n",
       "      <th>family_status</th>\n",
       "      <th></th>\n",
       "    </tr>\n",
       "  </thead>\n",
       "  <tbody>\n",
       "    <tr>\n",
       "      <th>Не женат / не замужем</th>\n",
       "      <td>0.097509</td>\n",
       "    </tr>\n",
       "    <tr>\n",
       "      <th>в разводе</th>\n",
       "      <td>0.071130</td>\n",
       "    </tr>\n",
       "    <tr>\n",
       "      <th>вдовец / вдова</th>\n",
       "      <td>0.065693</td>\n",
       "    </tr>\n",
       "    <tr>\n",
       "      <th>гражданский брак</th>\n",
       "      <td>0.093471</td>\n",
       "    </tr>\n",
       "    <tr>\n",
       "      <th>женат / замужем</th>\n",
       "      <td>0.075452</td>\n",
       "    </tr>\n",
       "  </tbody>\n",
       "</table>\n",
       "</div>"
      ],
      "text/plain": [
       "                           debt\n",
       "family_status                  \n",
       "Не женат / не замужем  0.097509\n",
       "в разводе              0.071130\n",
       "вдовец / вдова         0.065693\n",
       "гражданский брак       0.093471\n",
       "женат / замужем        0.075452"
      ]
     },
     "metadata": {},
     "output_type": "display_data"
    }
   ],
   "source": [
    "data_family_debt = data.pivot_table(index='family_status', values='debt') # Без aggfunc считается среднеарифметическое \n",
    "display(data_family_debt)                                                 # значение- mean"
   ]
  },
  {
   "cell_type": "markdown",
   "id": "358a5d5b",
   "metadata": {},
   "source": [
    "3) Есть ли зависимость между уровнем дохода и возвратом кредита в срок?\n",
    "\n",
    "Лучшие плательщики- категории D с зарплатой 30001–50000 рублей. Самая рискованная категория- Е с минимальным доходом."
   ]
  },
  {
   "cell_type": "code",
   "execution_count": 30,
   "id": "bdb2a8aa",
   "metadata": {},
   "outputs": [
    {
     "data": {
      "text/html": [
       "<div>\n",
       "<style scoped>\n",
       "    .dataframe tbody tr th:only-of-type {\n",
       "        vertical-align: middle;\n",
       "    }\n",
       "\n",
       "    .dataframe tbody tr th {\n",
       "        vertical-align: top;\n",
       "    }\n",
       "\n",
       "    .dataframe thead th {\n",
       "        text-align: right;\n",
       "    }\n",
       "</style>\n",
       "<table border=\"1\" class=\"dataframe\">\n",
       "  <thead>\n",
       "    <tr style=\"text-align: right;\">\n",
       "      <th></th>\n",
       "      <th>debt</th>\n",
       "    </tr>\n",
       "    <tr>\n",
       "      <th>total_income_category</th>\n",
       "      <th></th>\n",
       "    </tr>\n",
       "  </thead>\n",
       "  <tbody>\n",
       "    <tr>\n",
       "      <th>A</th>\n",
       "      <td>0.080000</td>\n",
       "    </tr>\n",
       "    <tr>\n",
       "      <th>B</th>\n",
       "      <td>0.070621</td>\n",
       "    </tr>\n",
       "    <tr>\n",
       "      <th>C</th>\n",
       "      <td>0.084915</td>\n",
       "    </tr>\n",
       "    <tr>\n",
       "      <th>D</th>\n",
       "      <td>0.060000</td>\n",
       "    </tr>\n",
       "    <tr>\n",
       "      <th>E</th>\n",
       "      <td>0.090909</td>\n",
       "    </tr>\n",
       "  </tbody>\n",
       "</table>\n",
       "</div>"
      ],
      "text/plain": [
       "                           debt\n",
       "total_income_category          \n",
       "A                      0.080000\n",
       "B                      0.070621\n",
       "C                      0.084915\n",
       "D                      0.060000\n",
       "E                      0.090909"
      ]
     },
     "metadata": {},
     "output_type": "display_data"
    }
   ],
   "source": [
    "data_income_debt = data.pivot_table(index='total_income_category', values='debt')\n",
    "display(data_income_debt)"
   ]
  },
  {
   "cell_type": "markdown",
   "id": "ef181428",
   "metadata": {},
   "source": [
    "4) Как разные цели кредита влияют на его возврат в срок?\n",
    "\n",
    "Лучше всего возвращают кредит с операций с недвижимостью. "
   ]
  },
  {
   "cell_type": "code",
   "execution_count": 31,
   "id": "d6cbcb79",
   "metadata": {},
   "outputs": [
    {
     "data": {
      "text/html": [
       "<div>\n",
       "<style scoped>\n",
       "    .dataframe tbody tr th:only-of-type {\n",
       "        vertical-align: middle;\n",
       "    }\n",
       "\n",
       "    .dataframe tbody tr th {\n",
       "        vertical-align: top;\n",
       "    }\n",
       "\n",
       "    .dataframe thead th {\n",
       "        text-align: right;\n",
       "    }\n",
       "</style>\n",
       "<table border=\"1\" class=\"dataframe\">\n",
       "  <thead>\n",
       "    <tr style=\"text-align: right;\">\n",
       "      <th></th>\n",
       "      <th>debt</th>\n",
       "    </tr>\n",
       "    <tr>\n",
       "      <th>purpose_category</th>\n",
       "      <th></th>\n",
       "    </tr>\n",
       "  </thead>\n",
       "  <tbody>\n",
       "    <tr>\n",
       "      <th>операции с автомобилем</th>\n",
       "      <td>0.093590</td>\n",
       "    </tr>\n",
       "    <tr>\n",
       "      <th>операции с недвижимостью</th>\n",
       "      <td>0.072334</td>\n",
       "    </tr>\n",
       "    <tr>\n",
       "      <th>получение образования</th>\n",
       "      <td>0.092200</td>\n",
       "    </tr>\n",
       "    <tr>\n",
       "      <th>проведение свадьбы</th>\n",
       "      <td>0.080034</td>\n",
       "    </tr>\n",
       "  </tbody>\n",
       "</table>\n",
       "</div>"
      ],
      "text/plain": [
       "                              debt\n",
       "purpose_category                  \n",
       "операции с автомобилем    0.093590\n",
       "операции с недвижимостью  0.072334\n",
       "получение образования     0.092200\n",
       "проведение свадьбы        0.080034"
      ]
     },
     "metadata": {},
     "output_type": "display_data"
    }
   ],
   "source": [
    "data_purpose_debt = data.pivot_table(index='purpose_category', values='debt')\n",
    "display(data_purpose_debt)"
   ]
  },
  {
   "cell_type": "markdown",
   "id": "3d4e25ef",
   "metadata": {},
   "source": [
    "##### Вывод 1:"
   ]
  },
  {
   "cell_type": "markdown",
   "id": "c7707302",
   "metadata": {},
   "source": [
    "Наблюдается зависимость должников от количества детей, семейного положения и цели кредита."
   ]
  },
  {
   "cell_type": "markdown",
   "id": "8829a06d",
   "metadata": {},
   "source": [
    "## Общий вывод:"
   ]
  },
  {
   "cell_type": "markdown",
   "id": "ae6e1458",
   "metadata": {},
   "source": [
    "Получила таблицу с пропусками, аномалиями и множеством дубликатов. \n",
    "Пропуски восстановлены медианным значением. Дубликаты отсортированы и приведены к необходимому виду. Аномалии исправлены. \n",
    "Получилась чистая таблица. Были созданы два новых датафрема, как словари, с которыми можно что-то сделать."
   ]
  },
  {
   "cell_type": "markdown",
   "id": "fa3dc95d",
   "metadata": {},
   "source": [
    "Что могу сказать заказчику?\n",
    "\n",
    "Есть рекомендация самого лучшего клиента для банка - это без детей, в разводе или овдовевший и с уровнем дохода категории D, с целью- недвижимости.\n",
    "И самого невыгодного клиента- это многодетный (4 и более детей), не оформивший отношения, с минимальным уровнем дохода до 30000 руб, с целью- автомобиль."
   ]
  }
 ],
 "metadata": {
  "ExecuteTimeLog": [
   {
    "duration": 365,
    "start_time": "2022-02-10T09:36:37.927Z"
   },
   {
    "duration": 341,
    "start_time": "2022-02-10T09:37:11.374Z"
   },
   {
    "duration": 281,
    "start_time": "2022-02-10T09:43:45.310Z"
   },
   {
    "duration": 286,
    "start_time": "2022-02-10T09:44:31.415Z"
   },
   {
    "duration": 276,
    "start_time": "2022-02-10T09:45:08.486Z"
   },
   {
    "duration": 275,
    "start_time": "2022-02-10T09:46:52.749Z"
   },
   {
    "duration": 563,
    "start_time": "2022-02-10T10:31:00.621Z"
   },
   {
    "duration": 381,
    "start_time": "2022-02-10T10:31:01.186Z"
   },
   {
    "duration": 272,
    "start_time": "2022-02-10T10:31:34.252Z"
   },
   {
    "duration": 528,
    "start_time": "2022-02-10T10:36:40.906Z"
   },
   {
    "duration": 323,
    "start_time": "2022-02-10T10:36:41.436Z"
   },
   {
    "duration": 298,
    "start_time": "2022-02-10T10:41:18.854Z"
   },
   {
    "duration": 314,
    "start_time": "2022-02-10T10:41:37.805Z"
   },
   {
    "duration": 306,
    "start_time": "2022-02-10T10:41:41.745Z"
   },
   {
    "duration": 50,
    "start_time": "2022-02-10T10:43:29.922Z"
   },
   {
    "duration": 14,
    "start_time": "2022-02-10T10:49:39.022Z"
   },
   {
    "duration": 4,
    "start_time": "2022-02-10T11:05:42.115Z"
   },
   {
    "duration": 4,
    "start_time": "2022-02-10T11:05:47.220Z"
   },
   {
    "duration": 13,
    "start_time": "2022-02-10T11:06:21.861Z"
   },
   {
    "duration": 7,
    "start_time": "2022-02-10T11:06:58.860Z"
   },
   {
    "duration": 6,
    "start_time": "2022-02-10T11:08:17.419Z"
   },
   {
    "duration": 5,
    "start_time": "2022-02-10T11:08:28.350Z"
   },
   {
    "duration": 268,
    "start_time": "2022-02-10T11:13:36.691Z"
   },
   {
    "duration": 5,
    "start_time": "2022-02-10T11:14:02.960Z"
   },
   {
    "duration": 6,
    "start_time": "2022-02-10T11:15:24.431Z"
   },
   {
    "duration": 5,
    "start_time": "2022-02-10T11:15:40.592Z"
   },
   {
    "duration": 5,
    "start_time": "2022-02-10T11:16:10.910Z"
   },
   {
    "duration": 4,
    "start_time": "2022-02-10T11:18:18.187Z"
   },
   {
    "duration": 6,
    "start_time": "2022-02-10T11:18:24.652Z"
   },
   {
    "duration": 6,
    "start_time": "2022-02-10T11:18:30.999Z"
   },
   {
    "duration": 4,
    "start_time": "2022-02-10T11:18:36.620Z"
   },
   {
    "duration": 269,
    "start_time": "2022-02-10T11:26:11.532Z"
   },
   {
    "duration": 3,
    "start_time": "2022-02-10T11:26:17.741Z"
   },
   {
    "duration": 3,
    "start_time": "2022-02-10T11:26:26.061Z"
   },
   {
    "duration": 4,
    "start_time": "2022-02-10T11:27:00.073Z"
   },
   {
    "duration": 6,
    "start_time": "2022-02-10T11:27:08.191Z"
   },
   {
    "duration": 4,
    "start_time": "2022-02-10T11:27:59.850Z"
   },
   {
    "duration": 4,
    "start_time": "2022-02-10T11:28:04.151Z"
   },
   {
    "duration": 3,
    "start_time": "2022-02-10T11:28:09.572Z"
   },
   {
    "duration": 5,
    "start_time": "2022-02-10T11:28:46.352Z"
   },
   {
    "duration": 12,
    "start_time": "2022-02-10T11:30:12.357Z"
   },
   {
    "duration": 572,
    "start_time": "2022-02-10T11:33:12.573Z"
   },
   {
    "duration": 55,
    "start_time": "2022-02-10T11:33:13.147Z"
   },
   {
    "duration": 13,
    "start_time": "2022-02-10T11:33:13.204Z"
   },
   {
    "duration": 5,
    "start_time": "2022-02-10T11:33:13.218Z"
   },
   {
    "duration": 4,
    "start_time": "2022-02-10T11:33:13.224Z"
   },
   {
    "duration": 4,
    "start_time": "2022-02-10T11:33:13.229Z"
   },
   {
    "duration": 4,
    "start_time": "2022-02-10T11:33:13.234Z"
   },
   {
    "duration": 42,
    "start_time": "2022-02-10T11:33:13.240Z"
   },
   {
    "duration": 338,
    "start_time": "2022-02-10T11:47:47.785Z"
   },
   {
    "duration": 4,
    "start_time": "2022-02-10T12:05:02.979Z"
   },
   {
    "duration": 274,
    "start_time": "2022-02-10T12:05:21.150Z"
   },
   {
    "duration": 353,
    "start_time": "2022-02-10T12:29:52.049Z"
   },
   {
    "duration": 263,
    "start_time": "2022-02-10T12:30:06.258Z"
   },
   {
    "duration": 276,
    "start_time": "2022-02-10T12:33:19.880Z"
   },
   {
    "duration": 6,
    "start_time": "2022-02-10T12:40:56.138Z"
   },
   {
    "duration": 9,
    "start_time": "2022-02-10T12:42:54.298Z"
   },
   {
    "duration": 5,
    "start_time": "2022-02-10T12:51:47.923Z"
   },
   {
    "duration": 5,
    "start_time": "2022-02-10T12:52:18.388Z"
   },
   {
    "duration": 5,
    "start_time": "2022-02-10T12:53:52.046Z"
   },
   {
    "duration": 277,
    "start_time": "2022-02-10T12:54:41.124Z"
   },
   {
    "duration": 6,
    "start_time": "2022-02-10T12:54:55.266Z"
   },
   {
    "duration": 5,
    "start_time": "2022-02-10T12:54:57.530Z"
   },
   {
    "duration": 11,
    "start_time": "2022-02-10T12:55:03.349Z"
   },
   {
    "duration": 5,
    "start_time": "2022-02-10T12:56:09.739Z"
   },
   {
    "duration": 4,
    "start_time": "2022-02-10T12:57:33.283Z"
   },
   {
    "duration": 5,
    "start_time": "2022-02-10T12:57:54.133Z"
   },
   {
    "duration": 12,
    "start_time": "2022-02-10T12:58:19.039Z"
   },
   {
    "duration": 4,
    "start_time": "2022-02-10T12:59:27.423Z"
   },
   {
    "duration": 5,
    "start_time": "2022-02-10T12:59:28.939Z"
   },
   {
    "duration": 4,
    "start_time": "2022-02-10T12:59:46.839Z"
   },
   {
    "duration": 5,
    "start_time": "2022-02-10T12:59:47.906Z"
   },
   {
    "duration": 4,
    "start_time": "2022-02-10T13:00:10.618Z"
   },
   {
    "duration": 5,
    "start_time": "2022-02-10T13:00:12.334Z"
   },
   {
    "duration": 4,
    "start_time": "2022-02-10T13:00:18.838Z"
   },
   {
    "duration": 5,
    "start_time": "2022-02-10T13:00:19.587Z"
   },
   {
    "duration": 605,
    "start_time": "2022-02-10T13:00:29.848Z"
   },
   {
    "duration": 54,
    "start_time": "2022-02-10T13:00:30.455Z"
   },
   {
    "duration": 13,
    "start_time": "2022-02-10T13:00:30.511Z"
   },
   {
    "duration": 15,
    "start_time": "2022-02-10T13:00:30.525Z"
   },
   {
    "duration": 30,
    "start_time": "2022-02-10T13:00:30.542Z"
   },
   {
    "duration": 25,
    "start_time": "2022-02-10T13:00:30.573Z"
   },
   {
    "duration": 13,
    "start_time": "2022-02-10T13:00:30.599Z"
   },
   {
    "duration": 12,
    "start_time": "2022-02-10T13:10:21.328Z"
   },
   {
    "duration": 9,
    "start_time": "2022-02-10T13:11:52.675Z"
   },
   {
    "duration": 554,
    "start_time": "2022-02-10T13:12:05.187Z"
   },
   {
    "duration": 54,
    "start_time": "2022-02-10T13:12:05.743Z"
   },
   {
    "duration": 13,
    "start_time": "2022-02-10T13:12:05.799Z"
   },
   {
    "duration": 14,
    "start_time": "2022-02-10T13:12:05.815Z"
   },
   {
    "duration": 5,
    "start_time": "2022-02-10T13:12:05.831Z"
   },
   {
    "duration": 8,
    "start_time": "2022-02-10T13:12:05.838Z"
   },
   {
    "duration": 35,
    "start_time": "2022-02-10T13:12:05.848Z"
   },
   {
    "duration": 6,
    "start_time": "2022-02-10T13:12:05.885Z"
   },
   {
    "duration": 400,
    "start_time": "2022-02-11T10:08:09.018Z"
   },
   {
    "duration": 707,
    "start_time": "2022-02-11T10:08:16.588Z"
   },
   {
    "duration": 74,
    "start_time": "2022-02-11T10:08:19.114Z"
   },
   {
    "duration": 57,
    "start_time": "2022-02-11T10:08:21.633Z"
   },
   {
    "duration": 3,
    "start_time": "2022-02-11T10:11:51.114Z"
   },
   {
    "duration": 71,
    "start_time": "2022-02-11T10:11:53.070Z"
   },
   {
    "duration": 18,
    "start_time": "2022-02-11T10:11:55.038Z"
   },
   {
    "duration": 378,
    "start_time": "2022-02-11T10:12:03.642Z"
   },
   {
    "duration": 6,
    "start_time": "2022-02-11T10:12:22.571Z"
   },
   {
    "duration": 6,
    "start_time": "2022-02-11T10:13:00.565Z"
   },
   {
    "duration": 5,
    "start_time": "2022-02-11T10:15:10.477Z"
   },
   {
    "duration": 7,
    "start_time": "2022-02-11T10:15:35.408Z"
   },
   {
    "duration": 45,
    "start_time": "2022-02-11T10:15:39.787Z"
   },
   {
    "duration": 19,
    "start_time": "2022-02-11T10:24:33.447Z"
   },
   {
    "duration": 280,
    "start_time": "2022-02-11T17:00:01.491Z"
   },
   {
    "duration": 581,
    "start_time": "2022-02-11T17:00:07.226Z"
   },
   {
    "duration": 59,
    "start_time": "2022-02-11T17:00:08.050Z"
   },
   {
    "duration": 13,
    "start_time": "2022-02-11T17:00:09.150Z"
   },
   {
    "duration": 223,
    "start_time": "2022-02-11T17:00:13.176Z"
   },
   {
    "duration": 254,
    "start_time": "2022-02-11T17:01:51.667Z"
   },
   {
    "duration": 2,
    "start_time": "2022-02-11T17:01:58.671Z"
   },
   {
    "duration": 56,
    "start_time": "2022-02-11T17:01:59.833Z"
   },
   {
    "duration": 15,
    "start_time": "2022-02-11T17:02:01.306Z"
   },
   {
    "duration": 9,
    "start_time": "2022-02-11T17:02:05.312Z"
   },
   {
    "duration": 191,
    "start_time": "2022-02-11T17:02:26.981Z"
   },
   {
    "duration": 272,
    "start_time": "2022-02-11T17:03:05.169Z"
   },
   {
    "duration": 350,
    "start_time": "2022-02-11T17:03:07.656Z"
   },
   {
    "duration": 202,
    "start_time": "2022-02-11T17:03:13.915Z"
   },
   {
    "duration": 241,
    "start_time": "2022-02-11T17:03:18.633Z"
   },
   {
    "duration": 3,
    "start_time": "2022-02-11T17:03:23.297Z"
   },
   {
    "duration": 55,
    "start_time": "2022-02-11T17:03:23.828Z"
   },
   {
    "duration": 13,
    "start_time": "2022-02-11T17:03:24.785Z"
   },
   {
    "duration": 4,
    "start_time": "2022-02-11T17:03:29.499Z"
   },
   {
    "duration": 11,
    "start_time": "2022-02-11T17:03:31.565Z"
   },
   {
    "duration": 208,
    "start_time": "2022-02-11T17:03:45.838Z"
   },
   {
    "duration": 6,
    "start_time": "2022-02-11T17:04:02.626Z"
   },
   {
    "duration": 17,
    "start_time": "2022-02-11T17:04:21.846Z"
   },
   {
    "duration": 12,
    "start_time": "2022-02-11T17:04:50.145Z"
   },
   {
    "duration": 13,
    "start_time": "2022-02-11T17:05:25.070Z"
   },
   {
    "duration": 4,
    "start_time": "2022-02-11T17:05:31.791Z"
   },
   {
    "duration": 14,
    "start_time": "2022-02-11T17:05:48.630Z"
   },
   {
    "duration": 12,
    "start_time": "2022-02-11T17:07:30.636Z"
   },
   {
    "duration": 14,
    "start_time": "2022-02-11T17:08:27.780Z"
   },
   {
    "duration": 6,
    "start_time": "2022-02-11T17:08:30.508Z"
   },
   {
    "duration": 4,
    "start_time": "2022-02-11T17:08:39.302Z"
   },
   {
    "duration": 7,
    "start_time": "2022-02-11T17:08:52.028Z"
   },
   {
    "duration": 35,
    "start_time": "2022-02-11T17:08:53.050Z"
   },
   {
    "duration": 13,
    "start_time": "2022-02-11T17:11:48.194Z"
   },
   {
    "duration": 6,
    "start_time": "2022-02-11T17:11:54.657Z"
   },
   {
    "duration": 35,
    "start_time": "2022-02-11T17:12:06.700Z"
   },
   {
    "duration": 13,
    "start_time": "2022-02-11T17:12:42.100Z"
   },
   {
    "duration": 4,
    "start_time": "2022-02-11T17:12:46.650Z"
   },
   {
    "duration": 56,
    "start_time": "2022-02-11T17:12:47.200Z"
   },
   {
    "duration": 15,
    "start_time": "2022-02-11T17:12:48.010Z"
   },
   {
    "duration": 205,
    "start_time": "2022-02-11T17:12:52.368Z"
   },
   {
    "duration": 590,
    "start_time": "2022-02-11T17:13:30.033Z"
   },
   {
    "duration": 57,
    "start_time": "2022-02-11T17:13:30.626Z"
   },
   {
    "duration": 33,
    "start_time": "2022-02-11T17:13:30.686Z"
   },
   {
    "duration": 306,
    "start_time": "2022-02-11T17:13:30.721Z"
   },
   {
    "duration": 47,
    "start_time": "2022-02-11T17:13:30.983Z"
   },
   {
    "duration": 46,
    "start_time": "2022-02-11T17:13:30.986Z"
   },
   {
    "duration": 46,
    "start_time": "2022-02-11T17:13:30.988Z"
   },
   {
    "duration": 44,
    "start_time": "2022-02-11T17:13:30.991Z"
   },
   {
    "duration": 229,
    "start_time": "2022-02-11T17:13:55.276Z"
   },
   {
    "duration": 10,
    "start_time": "2022-02-11T17:14:17.990Z"
   },
   {
    "duration": 226,
    "start_time": "2022-02-11T17:14:33.875Z"
   },
   {
    "duration": 208,
    "start_time": "2022-02-11T17:15:24.422Z"
   },
   {
    "duration": 16,
    "start_time": "2022-02-11T17:15:58.653Z"
   },
   {
    "duration": 7,
    "start_time": "2022-02-11T17:16:02.161Z"
   },
   {
    "duration": 217,
    "start_time": "2022-02-11T17:16:21.475Z"
   },
   {
    "duration": 225,
    "start_time": "2022-02-11T17:28:37.898Z"
   },
   {
    "duration": 3,
    "start_time": "2022-02-11T17:28:55.954Z"
   },
   {
    "duration": 58,
    "start_time": "2022-02-11T17:28:56.572Z"
   },
   {
    "duration": 20,
    "start_time": "2022-02-11T17:28:59.993Z"
   },
   {
    "duration": 203,
    "start_time": "2022-02-11T17:29:06.011Z"
   },
   {
    "duration": 15,
    "start_time": "2022-02-11T17:29:24.661Z"
   },
   {
    "duration": 6,
    "start_time": "2022-02-11T17:29:42.188Z"
   },
   {
    "duration": 4,
    "start_time": "2022-02-11T17:29:43.743Z"
   },
   {
    "duration": 249,
    "start_time": "2022-02-11T17:29:51.197Z"
   },
   {
    "duration": 35,
    "start_time": "2022-02-11T17:30:22.539Z"
   },
   {
    "duration": 5,
    "start_time": "2022-02-11T17:31:57.154Z"
   },
   {
    "duration": 6,
    "start_time": "2022-02-11T17:36:52.532Z"
   },
   {
    "duration": 5,
    "start_time": "2022-02-11T17:37:22.348Z"
   },
   {
    "duration": 4,
    "start_time": "2022-02-11T17:38:27.508Z"
   },
   {
    "duration": 5,
    "start_time": "2022-02-11T17:43:04.349Z"
   },
   {
    "duration": 3,
    "start_time": "2022-02-11T17:43:45.657Z"
   },
   {
    "duration": 57,
    "start_time": "2022-02-11T17:43:46.340Z"
   },
   {
    "duration": 17,
    "start_time": "2022-02-11T17:43:47.309Z"
   },
   {
    "duration": 14,
    "start_time": "2022-02-11T17:43:52.133Z"
   },
   {
    "duration": 6,
    "start_time": "2022-02-11T17:43:57.074Z"
   },
   {
    "duration": 8,
    "start_time": "2022-02-11T17:44:42.859Z"
   },
   {
    "duration": 6,
    "start_time": "2022-02-11T17:46:03.754Z"
   },
   {
    "duration": 11,
    "start_time": "2022-02-11T17:46:17.054Z"
   },
   {
    "duration": 32,
    "start_time": "2022-02-11T17:46:28.714Z"
   },
   {
    "duration": 202,
    "start_time": "2022-02-11T17:48:07.505Z"
   },
   {
    "duration": 189,
    "start_time": "2022-02-11T17:48:45.703Z"
   },
   {
    "duration": 5,
    "start_time": "2022-02-11T17:48:56.692Z"
   },
   {
    "duration": 283,
    "start_time": "2022-02-11T17:49:17.950Z"
   },
   {
    "duration": 5,
    "start_time": "2022-02-11T17:49:42.568Z"
   },
   {
    "duration": 619,
    "start_time": "2022-02-12T07:56:41.497Z"
   },
   {
    "duration": 59,
    "start_time": "2022-02-12T07:56:42.118Z"
   },
   {
    "duration": 13,
    "start_time": "2022-02-12T07:56:42.180Z"
   },
   {
    "duration": 29,
    "start_time": "2022-02-12T07:56:42.196Z"
   },
   {
    "duration": 7,
    "start_time": "2022-02-12T07:56:42.228Z"
   },
   {
    "duration": 13,
    "start_time": "2022-02-12T07:56:42.238Z"
   },
   {
    "duration": 254,
    "start_time": "2022-02-12T07:56:42.253Z"
   },
   {
    "duration": -405,
    "start_time": "2022-02-12T07:56:42.914Z"
   },
   {
    "duration": -405,
    "start_time": "2022-02-12T07:56:42.916Z"
   },
   {
    "duration": -406,
    "start_time": "2022-02-12T07:56:42.918Z"
   },
   {
    "duration": 4,
    "start_time": "2022-02-12T08:03:18.934Z"
   },
   {
    "duration": 4,
    "start_time": "2022-02-12T08:03:23.595Z"
   },
   {
    "duration": 5,
    "start_time": "2022-02-12T08:03:27.904Z"
   },
   {
    "duration": 35,
    "start_time": "2022-02-12T08:03:32.137Z"
   },
   {
    "duration": 4,
    "start_time": "2022-02-12T08:11:30.562Z"
   },
   {
    "duration": 35,
    "start_time": "2022-02-12T08:11:31.972Z"
   },
   {
    "duration": 36,
    "start_time": "2022-02-12T09:17:35.512Z"
   },
   {
    "duration": 18,
    "start_time": "2022-02-12T09:18:43.101Z"
   },
   {
    "duration": 26,
    "start_time": "2022-02-12T09:19:28.756Z"
   },
   {
    "duration": 223,
    "start_time": "2022-02-12T09:56:17.119Z"
   },
   {
    "duration": 195,
    "start_time": "2022-02-12T09:56:35.036Z"
   },
   {
    "duration": 8,
    "start_time": "2022-02-12T10:00:14.914Z"
   },
   {
    "duration": 8,
    "start_time": "2022-02-12T10:02:25.116Z"
   },
   {
    "duration": 26,
    "start_time": "2022-02-12T10:19:42.531Z"
   },
   {
    "duration": 21,
    "start_time": "2022-02-12T10:21:56.712Z"
   },
   {
    "duration": 11,
    "start_time": "2022-02-12T10:23:23.653Z"
   },
   {
    "duration": 9,
    "start_time": "2022-02-12T10:23:59.000Z"
   },
   {
    "duration": 18,
    "start_time": "2022-02-12T10:24:08.274Z"
   },
   {
    "duration": 15,
    "start_time": "2022-02-12T10:24:12.545Z"
   },
   {
    "duration": 22,
    "start_time": "2022-02-12T10:25:59.964Z"
   },
   {
    "duration": 9,
    "start_time": "2022-02-12T10:45:18.775Z"
   },
   {
    "duration": 7,
    "start_time": "2022-02-12T10:46:10.901Z"
   },
   {
    "duration": 8,
    "start_time": "2022-02-12T10:46:46.789Z"
   },
   {
    "duration": 9,
    "start_time": "2022-02-12T10:47:14.860Z"
   },
   {
    "duration": 9,
    "start_time": "2022-02-12T10:50:50.821Z"
   },
   {
    "duration": 570,
    "start_time": "2022-02-12T14:37:26.052Z"
   },
   {
    "duration": 54,
    "start_time": "2022-02-12T14:37:26.624Z"
   },
   {
    "duration": 12,
    "start_time": "2022-02-12T14:37:26.680Z"
   },
   {
    "duration": 10,
    "start_time": "2022-02-12T14:37:26.694Z"
   },
   {
    "duration": 6,
    "start_time": "2022-02-12T14:37:26.706Z"
   },
   {
    "duration": 13,
    "start_time": "2022-02-12T14:37:26.713Z"
   },
   {
    "duration": 33,
    "start_time": "2022-02-12T14:37:26.728Z"
   },
   {
    "duration": 7,
    "start_time": "2022-02-12T14:37:26.763Z"
   },
   {
    "duration": 37,
    "start_time": "2022-02-12T14:37:26.772Z"
   },
   {
    "duration": 16,
    "start_time": "2022-02-12T14:37:26.810Z"
   },
   {
    "duration": 7,
    "start_time": "2022-02-12T14:37:26.827Z"
   },
   {
    "duration": 12,
    "start_time": "2022-02-12T14:37:26.859Z"
   },
   {
    "duration": 12,
    "start_time": "2022-02-12T14:37:26.872Z"
   },
   {
    "duration": 18,
    "start_time": "2022-02-12T14:37:26.886Z"
   },
   {
    "duration": 7,
    "start_time": "2022-02-12T14:37:26.906Z"
   },
   {
    "duration": 8,
    "start_time": "2022-02-12T14:37:26.981Z"
   },
   {
    "duration": 593,
    "start_time": "2022-02-13T11:01:18.003Z"
   },
   {
    "duration": 53,
    "start_time": "2022-02-13T11:01:18.597Z"
   },
   {
    "duration": 10,
    "start_time": "2022-02-13T11:01:18.652Z"
   },
   {
    "duration": 10,
    "start_time": "2022-02-13T11:01:18.664Z"
   },
   {
    "duration": 5,
    "start_time": "2022-02-13T11:01:18.675Z"
   },
   {
    "duration": 11,
    "start_time": "2022-02-13T11:01:18.682Z"
   },
   {
    "duration": 3,
    "start_time": "2022-02-13T11:01:18.694Z"
   },
   {
    "duration": 30,
    "start_time": "2022-02-13T11:01:18.699Z"
   },
   {
    "duration": 27,
    "start_time": "2022-02-13T11:01:18.731Z"
   },
   {
    "duration": 14,
    "start_time": "2022-02-13T11:01:18.760Z"
   },
   {
    "duration": 7,
    "start_time": "2022-02-13T11:01:18.775Z"
   },
   {
    "duration": 11,
    "start_time": "2022-02-13T11:01:18.783Z"
   },
   {
    "duration": 34,
    "start_time": "2022-02-13T11:01:18.795Z"
   },
   {
    "duration": 6,
    "start_time": "2022-02-13T11:01:18.830Z"
   },
   {
    "duration": 7,
    "start_time": "2022-02-13T11:01:18.837Z"
   },
   {
    "duration": 315,
    "start_time": "2022-02-13T11:01:18.845Z"
   },
   {
    "duration": 420,
    "start_time": "2022-02-13T11:01:40.141Z"
   },
   {
    "duration": 19,
    "start_time": "2022-02-13T11:01:52.882Z"
   },
   {
    "duration": 7916,
    "start_time": "2022-02-13T11:23:57.631Z"
   },
   {
    "duration": 3,
    "start_time": "2022-02-13T11:24:58.773Z"
   },
   {
    "duration": 4,
    "start_time": "2022-02-13T11:25:16.921Z"
   },
   {
    "duration": 18,
    "start_time": "2022-02-13T11:26:16.562Z"
   },
   {
    "duration": 4,
    "start_time": "2022-02-13T11:26:30.894Z"
   },
   {
    "duration": 4,
    "start_time": "2022-02-13T11:26:39.948Z"
   },
   {
    "duration": 4,
    "start_time": "2022-02-13T11:26:43.018Z"
   },
   {
    "duration": 8,
    "start_time": "2022-02-13T11:26:47.650Z"
   },
   {
    "duration": 4,
    "start_time": "2022-02-13T11:26:51.060Z"
   },
   {
    "duration": 4,
    "start_time": "2022-02-13T11:28:35.759Z"
   },
   {
    "duration": 572,
    "start_time": "2022-02-13T11:28:42.661Z"
   },
   {
    "duration": 58,
    "start_time": "2022-02-13T11:28:43.237Z"
   },
   {
    "duration": 11,
    "start_time": "2022-02-13T11:28:43.297Z"
   },
   {
    "duration": 17,
    "start_time": "2022-02-13T11:28:43.310Z"
   },
   {
    "duration": 8,
    "start_time": "2022-02-13T11:28:43.329Z"
   },
   {
    "duration": 20,
    "start_time": "2022-02-13T11:28:43.339Z"
   },
   {
    "duration": 3,
    "start_time": "2022-02-13T11:28:43.360Z"
   },
   {
    "duration": 5,
    "start_time": "2022-02-13T11:28:43.365Z"
   },
   {
    "duration": 27,
    "start_time": "2022-02-13T11:28:43.372Z"
   },
   {
    "duration": 31,
    "start_time": "2022-02-13T11:28:43.401Z"
   },
   {
    "duration": 11,
    "start_time": "2022-02-13T11:28:43.434Z"
   },
   {
    "duration": 13,
    "start_time": "2022-02-13T11:28:43.447Z"
   },
   {
    "duration": 9,
    "start_time": "2022-02-13T11:28:43.462Z"
   },
   {
    "duration": 9,
    "start_time": "2022-02-13T11:28:43.472Z"
   },
   {
    "duration": 6,
    "start_time": "2022-02-13T11:28:43.482Z"
   },
   {
    "duration": 41,
    "start_time": "2022-02-13T11:28:43.489Z"
   },
   {
    "duration": 15,
    "start_time": "2022-02-13T11:28:43.532Z"
   },
   {
    "duration": 11,
    "start_time": "2022-02-13T11:28:43.549Z"
   },
   {
    "duration": 5,
    "start_time": "2022-02-13T11:28:50.163Z"
   },
   {
    "duration": 5,
    "start_time": "2022-02-13T11:28:58.539Z"
   },
   {
    "duration": 10,
    "start_time": "2022-02-13T11:29:15.340Z"
   },
   {
    "duration": 10,
    "start_time": "2022-02-13T11:29:34.716Z"
   },
   {
    "duration": 358,
    "start_time": "2022-02-13T11:32:09.634Z"
   },
   {
    "duration": 12,
    "start_time": "2022-02-13T11:32:28.135Z"
   },
   {
    "duration": 110,
    "start_time": "2022-02-13T14:09:03.149Z"
   },
   {
    "duration": 399,
    "start_time": "2022-02-13T14:09:39.630Z"
   },
   {
    "duration": 286,
    "start_time": "2022-02-13T14:10:20.609Z"
   },
   {
    "duration": 308,
    "start_time": "2022-02-13T14:11:04.279Z"
   },
   {
    "duration": 6,
    "start_time": "2022-02-13T14:11:14.309Z"
   },
   {
    "duration": 6,
    "start_time": "2022-02-13T14:11:22.982Z"
   },
   {
    "duration": 366,
    "start_time": "2022-02-13T14:15:52.989Z"
   },
   {
    "duration": 834,
    "start_time": "2022-02-13T14:16:13.136Z"
   },
   {
    "duration": 73,
    "start_time": "2022-02-13T14:16:13.973Z"
   },
   {
    "duration": 189,
    "start_time": "2022-02-13T14:16:14.049Z"
   },
   {
    "duration": 315,
    "start_time": "2022-02-13T14:16:14.241Z"
   },
   {
    "duration": 415,
    "start_time": "2022-02-13T14:16:14.559Z"
   },
   {
    "duration": 405,
    "start_time": "2022-02-13T14:16:14.977Z"
   },
   {
    "duration": 317,
    "start_time": "2022-02-13T14:16:15.386Z"
   },
   {
    "duration": 304,
    "start_time": "2022-02-13T14:16:15.706Z"
   },
   {
    "duration": 266,
    "start_time": "2022-02-13T14:16:16.014Z"
   },
   {
    "duration": 319,
    "start_time": "2022-02-13T14:16:16.283Z"
   },
   {
    "duration": 399,
    "start_time": "2022-02-13T14:16:16.604Z"
   },
   {
    "duration": 289,
    "start_time": "2022-02-13T14:16:17.005Z"
   },
   {
    "duration": 194,
    "start_time": "2022-02-13T14:16:17.296Z"
   },
   {
    "duration": 316,
    "start_time": "2022-02-13T14:16:17.492Z"
   },
   {
    "duration": 248,
    "start_time": "2022-02-13T14:16:17.811Z"
   },
   {
    "duration": 268,
    "start_time": "2022-02-13T14:16:18.061Z"
   },
   {
    "duration": 226,
    "start_time": "2022-02-13T14:16:18.332Z"
   },
   {
    "duration": 224,
    "start_time": "2022-02-13T14:16:18.560Z"
   },
   {
    "duration": 328,
    "start_time": "2022-02-13T14:16:18.787Z"
   },
   {
    "duration": 241,
    "start_time": "2022-02-13T14:16:19.118Z"
   },
   {
    "duration": -158,
    "start_time": "2022-02-13T14:16:21.434Z"
   },
   {
    "duration": 1514,
    "start_time": "2022-02-13T14:16:24.038Z"
   },
   {
    "duration": 15,
    "start_time": "2022-02-13T14:21:14.129Z"
   },
   {
    "duration": 16,
    "start_time": "2022-02-13T14:21:33.863Z"
   },
   {
    "duration": 43,
    "start_time": "2022-02-13T14:21:49.700Z"
   },
   {
    "duration": 42,
    "start_time": "2022-02-13T14:21:54.501Z"
   },
   {
    "duration": 821,
    "start_time": "2022-02-13T14:22:01.089Z"
   },
   {
    "duration": 83,
    "start_time": "2022-02-13T14:22:01.915Z"
   },
   {
    "duration": 137,
    "start_time": "2022-02-13T14:22:02.001Z"
   },
   {
    "duration": 299,
    "start_time": "2022-02-13T14:22:02.142Z"
   },
   {
    "duration": 146,
    "start_time": "2022-02-13T14:22:02.444Z"
   },
   {
    "duration": 266,
    "start_time": "2022-02-13T14:22:02.592Z"
   },
   {
    "duration": 316,
    "start_time": "2022-02-13T14:22:02.861Z"
   },
   {
    "duration": 272,
    "start_time": "2022-02-13T14:22:03.183Z"
   },
   {
    "duration": 237,
    "start_time": "2022-02-13T14:22:03.458Z"
   },
   {
    "duration": 149,
    "start_time": "2022-02-13T14:22:03.698Z"
   },
   {
    "duration": 163,
    "start_time": "2022-02-13T14:22:03.849Z"
   },
   {
    "duration": 216,
    "start_time": "2022-02-13T14:22:04.015Z"
   },
   {
    "duration": 194,
    "start_time": "2022-02-13T14:22:04.233Z"
   },
   {
    "duration": 174,
    "start_time": "2022-02-13T14:22:04.430Z"
   },
   {
    "duration": 197,
    "start_time": "2022-02-13T14:22:04.607Z"
   },
   {
    "duration": 201,
    "start_time": "2022-02-13T14:22:04.806Z"
   },
   {
    "duration": 175,
    "start_time": "2022-02-13T14:22:05.009Z"
   },
   {
    "duration": 219,
    "start_time": "2022-02-13T14:22:05.187Z"
   },
   {
    "duration": 316,
    "start_time": "2022-02-13T14:22:05.409Z"
   },
   {
    "duration": 231,
    "start_time": "2022-02-13T14:22:05.727Z"
   },
   {
    "duration": 1842,
    "start_time": "2022-02-13T14:22:05.962Z"
   },
   {
    "duration": 322,
    "start_time": "2022-02-13T14:43:54.051Z"
   },
   {
    "duration": 311,
    "start_time": "2022-02-13T14:44:07.548Z"
   },
   {
    "duration": 299,
    "start_time": "2022-02-13T14:58:49.093Z"
   },
   {
    "duration": 15,
    "start_time": "2022-02-13T15:00:46.034Z"
   },
   {
    "duration": 23,
    "start_time": "2022-02-13T15:00:59.922Z"
   },
   {
    "duration": 304,
    "start_time": "2022-02-13T15:22:34.353Z"
   },
   {
    "duration": 314,
    "start_time": "2022-02-13T15:27:59.486Z"
   },
   {
    "duration": 307,
    "start_time": "2022-02-13T15:28:18.945Z"
   },
   {
    "duration": 17,
    "start_time": "2022-02-13T15:28:51.003Z"
   },
   {
    "duration": 8,
    "start_time": "2022-02-13T15:29:08.841Z"
   },
   {
    "duration": 377,
    "start_time": "2022-02-13T15:30:13.160Z"
   },
   {
    "duration": 13,
    "start_time": "2022-02-13T15:30:36.213Z"
   },
   {
    "duration": 329,
    "start_time": "2022-02-13T15:30:56.877Z"
   },
   {
    "duration": 321,
    "start_time": "2022-02-13T15:33:30.849Z"
   },
   {
    "duration": 30,
    "start_time": "2022-02-13T15:34:02.375Z"
   },
   {
    "duration": 319,
    "start_time": "2022-02-13T15:35:43.466Z"
   },
   {
    "duration": 32,
    "start_time": "2022-02-13T15:35:54.678Z"
   },
   {
    "duration": 297,
    "start_time": "2022-02-13T15:35:56.056Z"
   },
   {
    "duration": 131,
    "start_time": "2022-02-13T15:37:17.473Z"
   },
   {
    "duration": 6,
    "start_time": "2022-02-13T15:37:25.209Z"
   },
   {
    "duration": 40,
    "start_time": "2022-02-13T15:37:29.270Z"
   },
   {
    "duration": 11,
    "start_time": "2022-02-13T15:38:28.334Z"
   },
   {
    "duration": 314,
    "start_time": "2022-02-13T15:39:34.334Z"
   },
   {
    "duration": 21,
    "start_time": "2022-02-13T15:40:15.613Z"
   },
   {
    "duration": 9,
    "start_time": "2022-02-13T15:40:35.530Z"
   },
   {
    "duration": 15,
    "start_time": "2022-02-13T15:41:53.623Z"
   },
   {
    "duration": 313,
    "start_time": "2022-02-13T15:42:07.321Z"
   },
   {
    "duration": 319,
    "start_time": "2022-02-13T15:43:18.134Z"
   },
   {
    "duration": 22,
    "start_time": "2022-02-13T15:44:22.781Z"
   },
   {
    "duration": 802,
    "start_time": "2022-02-13T15:44:47.865Z"
   },
   {
    "duration": 235,
    "start_time": "2022-02-13T15:44:48.670Z"
   },
   {
    "duration": 190,
    "start_time": "2022-02-13T15:44:48.908Z"
   },
   {
    "duration": 332,
    "start_time": "2022-02-13T15:44:49.101Z"
   },
   {
    "duration": 477,
    "start_time": "2022-02-13T15:44:49.436Z"
   },
   {
    "duration": 342,
    "start_time": "2022-02-13T15:44:49.916Z"
   },
   {
    "duration": 283,
    "start_time": "2022-02-13T15:44:50.261Z"
   },
   {
    "duration": 289,
    "start_time": "2022-02-13T15:44:50.549Z"
   },
   {
    "duration": 300,
    "start_time": "2022-02-13T15:44:50.841Z"
   },
   {
    "duration": 271,
    "start_time": "2022-02-13T15:44:51.144Z"
   },
   {
    "duration": 266,
    "start_time": "2022-02-13T15:44:51.417Z"
   },
   {
    "duration": 268,
    "start_time": "2022-02-13T15:44:51.686Z"
   },
   {
    "duration": 201,
    "start_time": "2022-02-13T15:44:51.957Z"
   },
   {
    "duration": 197,
    "start_time": "2022-02-13T15:44:52.161Z"
   },
   {
    "duration": 204,
    "start_time": "2022-02-13T15:44:52.361Z"
   },
   {
    "duration": 230,
    "start_time": "2022-02-13T15:44:52.568Z"
   },
   {
    "duration": 275,
    "start_time": "2022-02-13T15:44:52.800Z"
   },
   {
    "duration": 292,
    "start_time": "2022-02-13T15:44:53.077Z"
   },
   {
    "duration": 614,
    "start_time": "2022-02-13T15:44:53.371Z"
   },
   {
    "duration": -111,
    "start_time": "2022-02-13T15:44:54.098Z"
   },
   {
    "duration": -111,
    "start_time": "2022-02-13T15:44:54.100Z"
   },
   {
    "duration": -112,
    "start_time": "2022-02-13T15:44:54.104Z"
   },
   {
    "duration": -109,
    "start_time": "2022-02-13T15:44:54.106Z"
   },
   {
    "duration": 14,
    "start_time": "2022-02-13T15:46:00.046Z"
   },
   {
    "duration": 11,
    "start_time": "2022-02-13T15:46:13.005Z"
   },
   {
    "duration": 762,
    "start_time": "2022-02-13T15:46:22.321Z"
   },
   {
    "duration": 76,
    "start_time": "2022-02-13T15:46:23.086Z"
   },
   {
    "duration": 256,
    "start_time": "2022-02-13T15:46:23.165Z"
   },
   {
    "duration": 300,
    "start_time": "2022-02-13T15:46:23.423Z"
   },
   {
    "duration": 167,
    "start_time": "2022-02-13T15:46:23.726Z"
   },
   {
    "duration": 302,
    "start_time": "2022-02-13T15:46:23.896Z"
   },
   {
    "duration": 264,
    "start_time": "2022-02-13T15:46:24.204Z"
   },
   {
    "duration": 283,
    "start_time": "2022-02-13T15:46:24.472Z"
   },
   {
    "duration": 363,
    "start_time": "2022-02-13T15:46:24.758Z"
   },
   {
    "duration": 247,
    "start_time": "2022-02-13T15:46:25.123Z"
   },
   {
    "duration": 249,
    "start_time": "2022-02-13T15:46:25.372Z"
   },
   {
    "duration": 345,
    "start_time": "2022-02-13T15:46:25.624Z"
   },
   {
    "duration": 390,
    "start_time": "2022-02-13T15:46:25.972Z"
   },
   {
    "duration": 276,
    "start_time": "2022-02-13T15:46:26.365Z"
   },
   {
    "duration": 202,
    "start_time": "2022-02-13T15:46:26.644Z"
   },
   {
    "duration": 204,
    "start_time": "2022-02-13T15:46:26.849Z"
   },
   {
    "duration": 168,
    "start_time": "2022-02-13T15:46:27.056Z"
   },
   {
    "duration": 319,
    "start_time": "2022-02-13T15:46:27.227Z"
   },
   {
    "duration": 636,
    "start_time": "2022-02-13T15:46:27.548Z"
   },
   {
    "duration": -102,
    "start_time": "2022-02-13T15:46:28.289Z"
   },
   {
    "duration": -105,
    "start_time": "2022-02-13T15:46:28.294Z"
   },
   {
    "duration": -106,
    "start_time": "2022-02-13T15:46:28.296Z"
   },
   {
    "duration": -104,
    "start_time": "2022-02-13T15:46:28.297Z"
   },
   {
    "duration": 11,
    "start_time": "2022-02-13T15:46:41.782Z"
   },
   {
    "duration": 766,
    "start_time": "2022-02-13T15:47:20.624Z"
   },
   {
    "duration": 76,
    "start_time": "2022-02-13T15:47:21.392Z"
   },
   {
    "duration": 198,
    "start_time": "2022-02-13T15:47:21.472Z"
   },
   {
    "duration": 336,
    "start_time": "2022-02-13T15:47:21.673Z"
   },
   {
    "duration": 189,
    "start_time": "2022-02-13T15:47:22.013Z"
   },
   {
    "duration": 247,
    "start_time": "2022-02-13T15:47:22.206Z"
   },
   {
    "duration": 260,
    "start_time": "2022-02-13T15:47:22.456Z"
   },
   {
    "duration": 285,
    "start_time": "2022-02-13T15:47:22.719Z"
   },
   {
    "duration": 358,
    "start_time": "2022-02-13T15:47:23.009Z"
   },
   {
    "duration": 302,
    "start_time": "2022-02-13T15:47:23.370Z"
   },
   {
    "duration": 201,
    "start_time": "2022-02-13T15:47:23.675Z"
   },
   {
    "duration": 395,
    "start_time": "2022-02-13T15:47:23.880Z"
   },
   {
    "duration": 320,
    "start_time": "2022-02-13T15:47:24.277Z"
   },
   {
    "duration": 341,
    "start_time": "2022-02-13T15:47:24.600Z"
   },
   {
    "duration": 359,
    "start_time": "2022-02-13T15:47:24.944Z"
   },
   {
    "duration": 344,
    "start_time": "2022-02-13T15:47:25.306Z"
   },
   {
    "duration": 300,
    "start_time": "2022-02-13T15:47:25.653Z"
   },
   {
    "duration": 317,
    "start_time": "2022-02-13T15:47:25.955Z"
   },
   {
    "duration": 755,
    "start_time": "2022-02-13T15:47:26.275Z"
   },
   {
    "duration": -184,
    "start_time": "2022-02-13T15:47:27.216Z"
   },
   {
    "duration": -183,
    "start_time": "2022-02-13T15:47:27.217Z"
   },
   {
    "duration": -285,
    "start_time": "2022-02-13T15:47:27.321Z"
   },
   {
    "duration": -288,
    "start_time": "2022-02-13T15:47:27.325Z"
   },
   {
    "duration": 102,
    "start_time": "2022-02-13T15:51:53.351Z"
   },
   {
    "duration": 41,
    "start_time": "2022-02-13T15:52:13.211Z"
   },
   {
    "duration": 12,
    "start_time": "2022-02-13T15:52:17.171Z"
   },
   {
    "duration": 10,
    "start_time": "2022-02-13T15:52:22.007Z"
   },
   {
    "duration": 31,
    "start_time": "2022-02-13T15:52:22.887Z"
   },
   {
    "duration": 25,
    "start_time": "2022-02-13T15:53:11.611Z"
   },
   {
    "duration": 36,
    "start_time": "2022-02-13T15:53:38.759Z"
   },
   {
    "duration": 315,
    "start_time": "2022-02-13T15:54:11.254Z"
   },
   {
    "duration": 38,
    "start_time": "2022-02-13T15:55:33.439Z"
   },
   {
    "duration": 28,
    "start_time": "2022-02-13T15:55:45.960Z"
   },
   {
    "duration": 52,
    "start_time": "2022-02-13T15:56:15.463Z"
   },
   {
    "duration": 7,
    "start_time": "2022-02-13T15:56:42.342Z"
   },
   {
    "duration": 10,
    "start_time": "2022-02-13T15:58:52.654Z"
   },
   {
    "duration": 1418,
    "start_time": "2022-02-13T15:59:43.922Z"
   },
   {
    "duration": 776,
    "start_time": "2022-02-13T16:00:51.301Z"
   },
   {
    "duration": 75,
    "start_time": "2022-02-13T16:00:52.081Z"
   },
   {
    "duration": 135,
    "start_time": "2022-02-13T16:00:52.159Z"
   },
   {
    "duration": 210,
    "start_time": "2022-02-13T16:00:52.297Z"
   },
   {
    "duration": 200,
    "start_time": "2022-02-13T16:00:52.510Z"
   },
   {
    "duration": 204,
    "start_time": "2022-02-13T16:00:52.714Z"
   },
   {
    "duration": 207,
    "start_time": "2022-02-13T16:00:52.922Z"
   },
   {
    "duration": 195,
    "start_time": "2022-02-13T16:00:53.132Z"
   },
   {
    "duration": 330,
    "start_time": "2022-02-13T16:00:53.330Z"
   },
   {
    "duration": 178,
    "start_time": "2022-02-13T16:00:53.663Z"
   },
   {
    "duration": 188,
    "start_time": "2022-02-13T16:00:53.844Z"
   },
   {
    "duration": 217,
    "start_time": "2022-02-13T16:00:54.035Z"
   },
   {
    "duration": 224,
    "start_time": "2022-02-13T16:00:54.255Z"
   },
   {
    "duration": 236,
    "start_time": "2022-02-13T16:00:54.482Z"
   },
   {
    "duration": 320,
    "start_time": "2022-02-13T16:00:54.720Z"
   },
   {
    "duration": 238,
    "start_time": "2022-02-13T16:00:55.042Z"
   },
   {
    "duration": 222,
    "start_time": "2022-02-13T16:00:55.282Z"
   },
   {
    "duration": 201,
    "start_time": "2022-02-13T16:00:55.509Z"
   },
   {
    "duration": 255,
    "start_time": "2022-02-13T16:00:55.714Z"
   },
   {
    "duration": 224,
    "start_time": "2022-02-13T16:00:55.972Z"
   },
   {
    "duration": 173,
    "start_time": "2022-02-13T16:00:56.199Z"
   },
   {
    "duration": 1780,
    "start_time": "2022-02-13T16:00:56.375Z"
   },
   {
    "duration": 10,
    "start_time": "2022-02-13T16:03:23.820Z"
   },
   {
    "duration": 503,
    "start_time": "2022-02-13T16:03:50.606Z"
   },
   {
    "duration": 354,
    "start_time": "2022-02-13T16:04:04.747Z"
   },
   {
    "duration": 9,
    "start_time": "2022-02-13T16:07:43.041Z"
   },
   {
    "duration": 10,
    "start_time": "2022-02-13T16:08:13.811Z"
   },
   {
    "duration": 770,
    "start_time": "2022-02-13T16:08:24.426Z"
   },
   {
    "duration": 73,
    "start_time": "2022-02-13T16:08:25.199Z"
   },
   {
    "duration": 165,
    "start_time": "2022-02-13T16:08:25.275Z"
   },
   {
    "duration": 206,
    "start_time": "2022-02-13T16:08:25.442Z"
   },
   {
    "duration": 192,
    "start_time": "2022-02-13T16:08:25.651Z"
   },
   {
    "duration": 214,
    "start_time": "2022-02-13T16:08:25.845Z"
   },
   {
    "duration": 193,
    "start_time": "2022-02-13T16:08:26.062Z"
   },
   {
    "duration": 205,
    "start_time": "2022-02-13T16:08:26.259Z"
   },
   {
    "duration": 300,
    "start_time": "2022-02-13T16:08:26.467Z"
   },
   {
    "duration": 167,
    "start_time": "2022-02-13T16:08:26.770Z"
   },
   {
    "duration": 178,
    "start_time": "2022-02-13T16:08:26.940Z"
   },
   {
    "duration": 258,
    "start_time": "2022-02-13T16:08:27.120Z"
   },
   {
    "duration": 189,
    "start_time": "2022-02-13T16:08:27.381Z"
   },
   {
    "duration": 202,
    "start_time": "2022-02-13T16:08:27.573Z"
   },
   {
    "duration": 181,
    "start_time": "2022-02-13T16:08:27.778Z"
   },
   {
    "duration": 227,
    "start_time": "2022-02-13T16:08:27.961Z"
   },
   {
    "duration": 162,
    "start_time": "2022-02-13T16:08:28.190Z"
   },
   {
    "duration": 176,
    "start_time": "2022-02-13T16:08:28.355Z"
   },
   {
    "duration": 186,
    "start_time": "2022-02-13T16:08:28.534Z"
   },
   {
    "duration": 207,
    "start_time": "2022-02-13T16:08:28.723Z"
   },
   {
    "duration": 168,
    "start_time": "2022-02-13T16:08:28.933Z"
   },
   {
    "duration": 163,
    "start_time": "2022-02-13T16:08:29.104Z"
   },
   {
    "duration": 1651,
    "start_time": "2022-02-13T16:08:29.271Z"
   },
   {
    "duration": 6,
    "start_time": "2022-02-13T16:08:49.144Z"
   },
   {
    "duration": 7,
    "start_time": "2022-02-13T16:08:57.749Z"
   },
   {
    "duration": 12,
    "start_time": "2022-02-13T16:10:06.126Z"
   },
   {
    "duration": 807,
    "start_time": "2022-02-13T16:10:15.059Z"
   },
   {
    "duration": 80,
    "start_time": "2022-02-13T16:10:15.869Z"
   },
   {
    "duration": 105,
    "start_time": "2022-02-13T16:10:15.952Z"
   },
   {
    "duration": 165,
    "start_time": "2022-02-13T16:10:16.060Z"
   },
   {
    "duration": 152,
    "start_time": "2022-02-13T16:10:16.227Z"
   },
   {
    "duration": 221,
    "start_time": "2022-02-13T16:10:16.382Z"
   },
   {
    "duration": 192,
    "start_time": "2022-02-13T16:10:16.606Z"
   },
   {
    "duration": 188,
    "start_time": "2022-02-13T16:10:16.802Z"
   },
   {
    "duration": 217,
    "start_time": "2022-02-13T16:10:16.994Z"
   },
   {
    "duration": 158,
    "start_time": "2022-02-13T16:10:17.214Z"
   },
   {
    "duration": 175,
    "start_time": "2022-02-13T16:10:17.375Z"
   },
   {
    "duration": 208,
    "start_time": "2022-02-13T16:10:17.552Z"
   },
   {
    "duration": 189,
    "start_time": "2022-02-13T16:10:17.764Z"
   },
   {
    "duration": 242,
    "start_time": "2022-02-13T16:10:17.955Z"
   },
   {
    "duration": 197,
    "start_time": "2022-02-13T16:10:18.199Z"
   },
   {
    "duration": 245,
    "start_time": "2022-02-13T16:10:18.399Z"
   },
   {
    "duration": 182,
    "start_time": "2022-02-13T16:10:18.647Z"
   },
   {
    "duration": 261,
    "start_time": "2022-02-13T16:10:18.831Z"
   },
   {
    "duration": 265,
    "start_time": "2022-02-13T16:10:19.094Z"
   },
   {
    "duration": 204,
    "start_time": "2022-02-13T16:10:19.363Z"
   },
   {
    "duration": 225,
    "start_time": "2022-02-13T16:10:19.571Z"
   },
   {
    "duration": 217,
    "start_time": "2022-02-13T16:10:19.799Z"
   },
   {
    "duration": 182,
    "start_time": "2022-02-13T16:10:20.021Z"
   },
   {
    "duration": 1713,
    "start_time": "2022-02-13T16:10:20.206Z"
   },
   {
    "duration": 789,
    "start_time": "2022-02-13T16:11:06.680Z"
   },
   {
    "duration": 76,
    "start_time": "2022-02-13T16:11:07.472Z"
   },
   {
    "duration": 155,
    "start_time": "2022-02-13T16:11:07.551Z"
   },
   {
    "duration": 314,
    "start_time": "2022-02-13T16:11:07.709Z"
   },
   {
    "duration": 292,
    "start_time": "2022-02-13T16:11:08.026Z"
   },
   {
    "duration": 295,
    "start_time": "2022-02-13T16:11:08.321Z"
   },
   {
    "duration": 180,
    "start_time": "2022-02-13T16:11:08.619Z"
   },
   {
    "duration": 175,
    "start_time": "2022-02-13T16:11:08.803Z"
   },
   {
    "duration": 286,
    "start_time": "2022-02-13T16:11:08.981Z"
   },
   {
    "duration": 253,
    "start_time": "2022-02-13T16:11:09.271Z"
   },
   {
    "duration": 257,
    "start_time": "2022-02-13T16:11:09.527Z"
   },
   {
    "duration": 104,
    "start_time": "2022-02-13T16:11:09.787Z"
   },
   {
    "duration": 262,
    "start_time": "2022-02-13T16:11:09.893Z"
   },
   {
    "duration": 355,
    "start_time": "2022-02-13T16:11:10.158Z"
   },
   {
    "duration": 326,
    "start_time": "2022-02-13T16:11:10.515Z"
   },
   {
    "duration": 343,
    "start_time": "2022-02-13T16:11:10.844Z"
   },
   {
    "duration": 330,
    "start_time": "2022-02-13T16:11:11.189Z"
   },
   {
    "duration": 337,
    "start_time": "2022-02-13T16:11:11.522Z"
   },
   {
    "duration": 319,
    "start_time": "2022-02-13T16:11:11.862Z"
   },
   {
    "duration": 193,
    "start_time": "2022-02-13T16:11:12.184Z"
   },
   {
    "duration": 235,
    "start_time": "2022-02-13T16:11:12.380Z"
   },
   {
    "duration": 237,
    "start_time": "2022-02-13T16:11:12.618Z"
   },
   {
    "duration": 219,
    "start_time": "2022-02-13T16:11:12.861Z"
   },
   {
    "duration": 320,
    "start_time": "2022-02-13T16:11:13.082Z"
   },
   {
    "duration": 12,
    "start_time": "2022-02-13T16:12:47.320Z"
   },
   {
    "duration": 9,
    "start_time": "2022-02-13T16:12:57.128Z"
   },
   {
    "duration": 10,
    "start_time": "2022-02-13T16:13:09.524Z"
   },
   {
    "duration": 321,
    "start_time": "2022-02-14T06:50:49.360Z"
   },
   {
    "duration": 633,
    "start_time": "2022-02-14T06:50:59.889Z"
   },
   {
    "duration": 58,
    "start_time": "2022-02-14T06:51:00.524Z"
   },
   {
    "duration": 26,
    "start_time": "2022-02-14T06:51:00.584Z"
   },
   {
    "duration": 12,
    "start_time": "2022-02-14T06:51:00.613Z"
   },
   {
    "duration": 10,
    "start_time": "2022-02-14T06:51:00.627Z"
   },
   {
    "duration": 37,
    "start_time": "2022-02-14T06:51:00.639Z"
   },
   {
    "duration": 9,
    "start_time": "2022-02-14T06:51:00.678Z"
   },
   {
    "duration": 16,
    "start_time": "2022-02-14T06:51:00.690Z"
   },
   {
    "duration": 46,
    "start_time": "2022-02-14T06:51:00.709Z"
   },
   {
    "duration": 18,
    "start_time": "2022-02-14T06:51:00.757Z"
   },
   {
    "duration": 8,
    "start_time": "2022-02-14T06:51:00.777Z"
   },
   {
    "duration": 28,
    "start_time": "2022-02-14T06:51:00.787Z"
   },
   {
    "duration": 29,
    "start_time": "2022-02-14T06:51:00.817Z"
   },
   {
    "duration": 23,
    "start_time": "2022-02-14T06:51:00.848Z"
   },
   {
    "duration": 26,
    "start_time": "2022-02-14T06:51:00.872Z"
   },
   {
    "duration": 24,
    "start_time": "2022-02-14T06:51:00.900Z"
   },
   {
    "duration": 19,
    "start_time": "2022-02-14T06:51:00.925Z"
   },
   {
    "duration": 25,
    "start_time": "2022-02-14T06:51:00.946Z"
   },
   {
    "duration": 9,
    "start_time": "2022-02-14T06:51:00.973Z"
   },
   {
    "duration": 30,
    "start_time": "2022-02-14T06:51:00.984Z"
   },
   {
    "duration": 20,
    "start_time": "2022-02-14T06:51:01.017Z"
   },
   {
    "duration": 9,
    "start_time": "2022-02-14T06:51:01.039Z"
   },
   {
    "duration": 40,
    "start_time": "2022-02-14T06:51:01.051Z"
   },
   {
    "duration": 8,
    "start_time": "2022-02-14T06:51:07.528Z"
   },
   {
    "duration": 5,
    "start_time": "2022-02-14T06:51:09.200Z"
   },
   {
    "duration": 9,
    "start_time": "2022-02-14T06:52:47.040Z"
   },
   {
    "duration": 10,
    "start_time": "2022-02-14T06:52:50.152Z"
   },
   {
    "duration": 288,
    "start_time": "2022-02-14T06:53:05.142Z"
   },
   {
    "duration": 19,
    "start_time": "2022-02-14T06:53:48.492Z"
   },
   {
    "duration": 19,
    "start_time": "2022-02-14T06:54:04.329Z"
   },
   {
    "duration": 317,
    "start_time": "2022-02-14T06:54:15.371Z"
   },
   {
    "duration": 416,
    "start_time": "2022-02-14T06:54:34.519Z"
   },
   {
    "duration": 261,
    "start_time": "2022-02-14T07:11:48.918Z"
   },
   {
    "duration": 4,
    "start_time": "2022-02-14T07:11:51.785Z"
   },
   {
    "duration": 1190,
    "start_time": "2022-02-14T07:11:53.808Z"
   },
   {
    "duration": 4,
    "start_time": "2022-02-14T07:19:47.920Z"
   },
   {
    "duration": 577,
    "start_time": "2022-02-14T07:21:23.063Z"
   },
   {
    "duration": 57,
    "start_time": "2022-02-14T07:21:23.642Z"
   },
   {
    "duration": 18,
    "start_time": "2022-02-14T07:21:23.701Z"
   },
   {
    "duration": 14,
    "start_time": "2022-02-14T07:21:23.722Z"
   },
   {
    "duration": 31,
    "start_time": "2022-02-14T07:21:23.738Z"
   },
   {
    "duration": 16,
    "start_time": "2022-02-14T07:21:23.771Z"
   },
   {
    "duration": 3,
    "start_time": "2022-02-14T07:21:23.790Z"
   },
   {
    "duration": 4,
    "start_time": "2022-02-14T07:21:23.809Z"
   },
   {
    "duration": 36,
    "start_time": "2022-02-14T07:21:23.816Z"
   },
   {
    "duration": 20,
    "start_time": "2022-02-14T07:21:23.854Z"
   },
   {
    "duration": 37,
    "start_time": "2022-02-14T07:21:23.876Z"
   },
   {
    "duration": 22,
    "start_time": "2022-02-14T07:21:23.915Z"
   },
   {
    "duration": 22,
    "start_time": "2022-02-14T07:21:23.939Z"
   },
   {
    "duration": 13,
    "start_time": "2022-02-14T07:21:23.963Z"
   },
   {
    "duration": 11,
    "start_time": "2022-02-14T07:21:23.978Z"
   },
   {
    "duration": 18,
    "start_time": "2022-02-14T07:21:23.992Z"
   },
   {
    "duration": 14,
    "start_time": "2022-02-14T07:21:24.012Z"
   },
   {
    "duration": 25,
    "start_time": "2022-02-14T07:21:24.028Z"
   },
   {
    "duration": 30,
    "start_time": "2022-02-14T07:21:24.055Z"
   },
   {
    "duration": 29,
    "start_time": "2022-02-14T07:21:24.087Z"
   },
   {
    "duration": 9,
    "start_time": "2022-02-14T07:21:24.118Z"
   },
   {
    "duration": 28,
    "start_time": "2022-02-14T07:21:24.130Z"
   },
   {
    "duration": 31,
    "start_time": "2022-02-14T07:21:24.162Z"
   },
   {
    "duration": 20,
    "start_time": "2022-02-14T07:21:24.195Z"
   },
   {
    "duration": 22,
    "start_time": "2022-02-14T07:21:41.877Z"
   },
   {
    "duration": 12,
    "start_time": "2022-02-14T07:24:47.997Z"
   },
   {
    "duration": 10,
    "start_time": "2022-02-14T07:28:16.070Z"
   },
   {
    "duration": 7,
    "start_time": "2022-02-14T07:30:33.143Z"
   },
   {
    "duration": 65,
    "start_time": "2022-02-14T07:38:05.203Z"
   },
   {
    "duration": 75,
    "start_time": "2022-02-14T07:38:10.849Z"
   },
   {
    "duration": 65,
    "start_time": "2022-02-14T07:38:21.911Z"
   },
   {
    "duration": 3,
    "start_time": "2022-02-14T07:38:44.182Z"
   },
   {
    "duration": 5397,
    "start_time": "2022-02-14T07:38:45.979Z"
   },
   {
    "duration": 410,
    "start_time": "2022-02-14T07:38:50.969Z"
   },
   {
    "duration": 3,
    "start_time": "2022-02-14T07:39:31.064Z"
   },
   {
    "duration": 10,
    "start_time": "2022-02-14T07:39:32.538Z"
   },
   {
    "duration": 4,
    "start_time": "2022-02-14T07:40:03.269Z"
   },
   {
    "duration": 9,
    "start_time": "2022-02-14T07:40:05.022Z"
   },
   {
    "duration": 7,
    "start_time": "2022-02-14T07:40:05.831Z"
   },
   {
    "duration": 8,
    "start_time": "2022-02-14T07:40:31.207Z"
   },
   {
    "duration": 655,
    "start_time": "2022-02-14T07:40:37.212Z"
   },
   {
    "duration": 61,
    "start_time": "2022-02-14T07:40:37.869Z"
   },
   {
    "duration": 15,
    "start_time": "2022-02-14T07:40:37.932Z"
   },
   {
    "duration": 16,
    "start_time": "2022-02-14T07:40:37.950Z"
   },
   {
    "duration": 10,
    "start_time": "2022-02-14T07:40:37.969Z"
   },
   {
    "duration": 20,
    "start_time": "2022-02-14T07:40:38.007Z"
   },
   {
    "duration": 19,
    "start_time": "2022-02-14T07:40:38.029Z"
   },
   {
    "duration": 12,
    "start_time": "2022-02-14T07:40:38.052Z"
   },
   {
    "duration": 50,
    "start_time": "2022-02-14T07:40:38.066Z"
   },
   {
    "duration": 19,
    "start_time": "2022-02-14T07:40:38.118Z"
   },
   {
    "duration": 10,
    "start_time": "2022-02-14T07:40:38.139Z"
   },
   {
    "duration": 19,
    "start_time": "2022-02-14T07:40:38.151Z"
   },
   {
    "duration": 13,
    "start_time": "2022-02-14T07:40:38.172Z"
   },
   {
    "duration": 8,
    "start_time": "2022-02-14T07:40:38.209Z"
   },
   {
    "duration": 43,
    "start_time": "2022-02-14T07:40:38.219Z"
   },
   {
    "duration": 28,
    "start_time": "2022-02-14T07:40:38.264Z"
   },
   {
    "duration": 58,
    "start_time": "2022-02-14T07:40:38.294Z"
   },
   {
    "duration": 38,
    "start_time": "2022-02-14T07:40:38.354Z"
   },
   {
    "duration": 29,
    "start_time": "2022-02-14T07:40:38.394Z"
   },
   {
    "duration": 62,
    "start_time": "2022-02-14T07:40:38.425Z"
   },
   {
    "duration": 46,
    "start_time": "2022-02-14T07:40:38.490Z"
   },
   {
    "duration": 40,
    "start_time": "2022-02-14T07:40:38.538Z"
   },
   {
    "duration": 17,
    "start_time": "2022-02-14T07:40:38.582Z"
   },
   {
    "duration": 33,
    "start_time": "2022-02-14T07:40:38.601Z"
   },
   {
    "duration": 13,
    "start_time": "2022-02-14T07:40:38.636Z"
   },
   {
    "duration": 9,
    "start_time": "2022-02-14T07:40:38.652Z"
   },
   {
    "duration": 13,
    "start_time": "2022-02-14T07:40:38.663Z"
   },
   {
    "duration": 31,
    "start_time": "2022-02-14T07:40:38.678Z"
   },
   {
    "duration": 338,
    "start_time": "2022-02-14T07:55:00.772Z"
   },
   {
    "duration": 225,
    "start_time": "2022-02-14T07:55:39.124Z"
   },
   {
    "duration": 307,
    "start_time": "2022-02-14T08:00:01.825Z"
   },
   {
    "duration": 675,
    "start_time": "2022-02-14T08:00:13.505Z"
   },
   {
    "duration": 64,
    "start_time": "2022-02-14T08:00:14.183Z"
   },
   {
    "duration": 16,
    "start_time": "2022-02-14T08:00:14.250Z"
   },
   {
    "duration": 20,
    "start_time": "2022-02-14T08:00:14.269Z"
   },
   {
    "duration": 9,
    "start_time": "2022-02-14T08:00:14.308Z"
   },
   {
    "duration": 22,
    "start_time": "2022-02-14T08:00:14.319Z"
   },
   {
    "duration": 6,
    "start_time": "2022-02-14T08:00:14.343Z"
   },
   {
    "duration": 19,
    "start_time": "2022-02-14T08:00:14.353Z"
   },
   {
    "duration": 75,
    "start_time": "2022-02-14T08:00:14.375Z"
   },
   {
    "duration": 27,
    "start_time": "2022-02-14T08:00:14.453Z"
   },
   {
    "duration": 31,
    "start_time": "2022-02-14T08:00:14.482Z"
   },
   {
    "duration": 24,
    "start_time": "2022-02-14T08:00:14.516Z"
   },
   {
    "duration": 17,
    "start_time": "2022-02-14T08:00:14.543Z"
   },
   {
    "duration": 12,
    "start_time": "2022-02-14T08:00:14.563Z"
   },
   {
    "duration": 34,
    "start_time": "2022-02-14T08:00:14.578Z"
   },
   {
    "duration": 8,
    "start_time": "2022-02-14T08:00:14.614Z"
   },
   {
    "duration": 12,
    "start_time": "2022-02-14T08:00:14.624Z"
   },
   {
    "duration": 16,
    "start_time": "2022-02-14T08:00:14.638Z"
   },
   {
    "duration": 12,
    "start_time": "2022-02-14T08:00:14.656Z"
   },
   {
    "duration": 47,
    "start_time": "2022-02-14T08:00:14.670Z"
   },
   {
    "duration": 4,
    "start_time": "2022-02-14T08:00:14.719Z"
   },
   {
    "duration": 30,
    "start_time": "2022-02-14T08:00:14.724Z"
   },
   {
    "duration": 4,
    "start_time": "2022-02-14T08:00:14.758Z"
   },
   {
    "duration": 66,
    "start_time": "2022-02-14T08:00:14.765Z"
   },
   {
    "duration": 11,
    "start_time": "2022-02-14T08:00:14.834Z"
   },
   {
    "duration": 729,
    "start_time": "2022-02-14T08:00:14.848Z"
   },
   {
    "duration": 390,
    "start_time": "2022-02-14T08:00:15.189Z"
   },
   {
    "duration": 379,
    "start_time": "2022-02-14T08:00:15.201Z"
   },
   {
    "duration": 26,
    "start_time": "2022-02-14T08:00:42.803Z"
   },
   {
    "duration": 40,
    "start_time": "2022-02-14T08:01:16.589Z"
   },
   {
    "duration": 41,
    "start_time": "2022-02-14T08:04:39.714Z"
   },
   {
    "duration": 45,
    "start_time": "2022-02-14T08:05:52.545Z"
   },
   {
    "duration": 155,
    "start_time": "2022-02-14T08:06:46.046Z"
   },
   {
    "duration": 139,
    "start_time": "2022-02-14T08:07:36.635Z"
   },
   {
    "duration": 26,
    "start_time": "2022-02-14T08:08:34.047Z"
   },
   {
    "duration": 336,
    "start_time": "2022-02-14T08:09:46.551Z"
   },
   {
    "duration": 32,
    "start_time": "2022-02-14T08:10:09.114Z"
   },
   {
    "duration": 25,
    "start_time": "2022-02-14T08:12:28.642Z"
   },
   {
    "duration": 214,
    "start_time": "2022-02-14T08:12:47.136Z"
   },
   {
    "duration": 203,
    "start_time": "2022-02-14T08:14:07.203Z"
   },
   {
    "duration": 21,
    "start_time": "2022-02-14T08:15:29.857Z"
   },
   {
    "duration": 18,
    "start_time": "2022-02-14T08:19:40.679Z"
   },
   {
    "duration": 30,
    "start_time": "2022-02-14T08:19:57.138Z"
   },
   {
    "duration": 8,
    "start_time": "2022-02-14T08:35:22.293Z"
   },
   {
    "duration": 13,
    "start_time": "2022-02-14T08:35:38.533Z"
   },
   {
    "duration": 14,
    "start_time": "2022-02-14T08:38:31.921Z"
   },
   {
    "duration": 247,
    "start_time": "2022-02-14T08:39:41.202Z"
   },
   {
    "duration": 15,
    "start_time": "2022-02-14T08:40:05.982Z"
   },
   {
    "duration": 227,
    "start_time": "2022-02-14T08:40:29.169Z"
   },
   {
    "duration": 203,
    "start_time": "2022-02-14T08:40:43.042Z"
   },
   {
    "duration": 8,
    "start_time": "2022-02-14T08:40:55.593Z"
   },
   {
    "duration": 16,
    "start_time": "2022-02-14T08:41:20.255Z"
   },
   {
    "duration": 208,
    "start_time": "2022-02-14T08:41:31.514Z"
   },
   {
    "duration": 12,
    "start_time": "2022-02-14T08:41:44.601Z"
   },
   {
    "duration": 197,
    "start_time": "2022-02-14T08:42:24.678Z"
   },
   {
    "duration": 220,
    "start_time": "2022-02-14T08:42:32.815Z"
   },
   {
    "duration": 216,
    "start_time": "2022-02-14T08:42:41.734Z"
   },
   {
    "duration": 197,
    "start_time": "2022-02-14T08:42:48.133Z"
   },
   {
    "duration": 658,
    "start_time": "2022-02-14T08:46:49.636Z"
   },
   {
    "duration": 27,
    "start_time": "2022-02-14T08:47:07.143Z"
   },
   {
    "duration": 19,
    "start_time": "2022-02-14T08:49:57.414Z"
   },
   {
    "duration": 166,
    "start_time": "2022-02-14T08:55:41.223Z"
   },
   {
    "duration": 67,
    "start_time": "2022-02-14T08:55:55.212Z"
   },
   {
    "duration": 65,
    "start_time": "2022-02-14T08:56:14.354Z"
   },
   {
    "duration": 29,
    "start_time": "2022-02-14T08:57:02.244Z"
   },
   {
    "duration": 835,
    "start_time": "2022-02-14T09:06:44.874Z"
   },
   {
    "duration": 530,
    "start_time": "2022-02-14T09:07:50.403Z"
   },
   {
    "duration": 4464,
    "start_time": "2022-02-14T09:08:15.523Z"
   },
   {
    "duration": 15,
    "start_time": "2022-02-14T09:08:58.195Z"
   },
   {
    "duration": 627,
    "start_time": "2022-02-14T09:09:11.228Z"
   },
   {
    "duration": 62,
    "start_time": "2022-02-14T09:09:11.857Z"
   },
   {
    "duration": 17,
    "start_time": "2022-02-14T09:09:11.922Z"
   },
   {
    "duration": 16,
    "start_time": "2022-02-14T09:09:11.941Z"
   },
   {
    "duration": 9,
    "start_time": "2022-02-14T09:09:11.960Z"
   },
   {
    "duration": 17,
    "start_time": "2022-02-14T09:09:12.009Z"
   },
   {
    "duration": 6,
    "start_time": "2022-02-14T09:09:12.028Z"
   },
   {
    "duration": 6,
    "start_time": "2022-02-14T09:09:12.038Z"
   },
   {
    "duration": 70,
    "start_time": "2022-02-14T09:09:12.046Z"
   },
   {
    "duration": 20,
    "start_time": "2022-02-14T09:09:12.118Z"
   },
   {
    "duration": 9,
    "start_time": "2022-02-14T09:09:12.139Z"
   },
   {
    "duration": 16,
    "start_time": "2022-02-14T09:09:12.149Z"
   },
   {
    "duration": 14,
    "start_time": "2022-02-14T09:09:12.167Z"
   },
   {
    "duration": 10,
    "start_time": "2022-02-14T09:09:12.207Z"
   },
   {
    "duration": 11,
    "start_time": "2022-02-14T09:09:12.219Z"
   },
   {
    "duration": 13,
    "start_time": "2022-02-14T09:09:12.232Z"
   },
   {
    "duration": 12,
    "start_time": "2022-02-14T09:09:12.247Z"
   },
   {
    "duration": 17,
    "start_time": "2022-02-14T09:09:12.261Z"
   },
   {
    "duration": 34,
    "start_time": "2022-02-14T09:09:12.280Z"
   },
   {
    "duration": 27,
    "start_time": "2022-02-14T09:09:12.315Z"
   },
   {
    "duration": 3,
    "start_time": "2022-02-14T09:09:12.345Z"
   },
   {
    "duration": 30,
    "start_time": "2022-02-14T09:09:12.350Z"
   },
   {
    "duration": 3,
    "start_time": "2022-02-14T09:09:12.382Z"
   },
   {
    "duration": 35,
    "start_time": "2022-02-14T09:09:12.387Z"
   },
   {
    "duration": 19,
    "start_time": "2022-02-14T09:09:12.425Z"
   },
   {
    "duration": 32,
    "start_time": "2022-02-14T09:09:12.447Z"
   },
   {
    "duration": 4948,
    "start_time": "2022-02-14T09:09:12.481Z"
   },
   {
    "duration": 421,
    "start_time": "2022-02-14T09:09:17.010Z"
   },
   {
    "duration": 11,
    "start_time": "2022-02-14T09:09:35.870Z"
   },
   {
    "duration": 20,
    "start_time": "2022-02-14T09:09:58.532Z"
   },
   {
    "duration": 4227,
    "start_time": "2022-02-14T09:10:15.629Z"
   },
   {
    "duration": 4073,
    "start_time": "2022-02-14T09:12:01.842Z"
   },
   {
    "duration": 20,
    "start_time": "2022-02-14T10:03:16.976Z"
   },
   {
    "duration": 82,
    "start_time": "2022-02-14T10:11:58.035Z"
   },
   {
    "duration": 65,
    "start_time": "2022-02-14T10:12:22.661Z"
   },
   {
    "duration": 5388,
    "start_time": "2022-02-14T10:13:04.501Z"
   },
   {
    "duration": 5581,
    "start_time": "2022-02-14T10:17:33.652Z"
   },
   {
    "duration": 4004,
    "start_time": "2022-02-14T10:17:58.231Z"
   },
   {
    "duration": 6,
    "start_time": "2022-02-14T10:18:11.272Z"
   },
   {
    "duration": 215,
    "start_time": "2022-02-14T10:18:51.939Z"
   },
   {
    "duration": 10,
    "start_time": "2022-02-14T10:19:10.550Z"
   },
   {
    "duration": 10,
    "start_time": "2022-02-14T10:19:56.886Z"
   },
   {
    "duration": 21,
    "start_time": "2022-02-14T10:20:23.027Z"
   },
   {
    "duration": 10,
    "start_time": "2022-02-14T10:20:24.407Z"
   },
   {
    "duration": 22,
    "start_time": "2022-02-14T10:21:28.347Z"
   },
   {
    "duration": 208,
    "start_time": "2022-02-14T10:22:05.397Z"
   },
   {
    "duration": 23,
    "start_time": "2022-02-14T10:22:43.462Z"
   },
   {
    "duration": 11,
    "start_time": "2022-02-14T10:22:48.528Z"
   },
   {
    "duration": 11,
    "start_time": "2022-02-14T10:31:58.209Z"
   },
   {
    "duration": 20,
    "start_time": "2022-02-14T10:32:11.022Z"
   },
   {
    "duration": 11,
    "start_time": "2022-02-14T10:32:11.862Z"
   },
   {
    "duration": 21,
    "start_time": "2022-02-14T10:34:43.934Z"
   },
   {
    "duration": 77,
    "start_time": "2022-02-14T10:40:38.350Z"
   },
   {
    "duration": 73,
    "start_time": "2022-02-14T10:41:11.638Z"
   },
   {
    "duration": 18,
    "start_time": "2022-02-14T10:41:23.605Z"
   },
   {
    "duration": 23,
    "start_time": "2022-02-14T10:41:29.832Z"
   },
   {
    "duration": 513,
    "start_time": "2022-02-14T10:43:14.714Z"
   },
   {
    "duration": 25,
    "start_time": "2022-02-14T10:44:23.847Z"
   },
   {
    "duration": 4993,
    "start_time": "2022-02-14T10:49:42.991Z"
   },
   {
    "duration": 11,
    "start_time": "2022-02-14T10:50:19.489Z"
   },
   {
    "duration": 23,
    "start_time": "2022-02-14T10:50:27.204Z"
   },
   {
    "duration": 9,
    "start_time": "2022-02-14T10:50:28.382Z"
   },
   {
    "duration": 20,
    "start_time": "2022-02-14T10:50:40.807Z"
   },
   {
    "duration": 9,
    "start_time": "2022-02-14T10:50:42.280Z"
   },
   {
    "duration": 26,
    "start_time": "2022-02-14T10:51:01.302Z"
   },
   {
    "duration": 12,
    "start_time": "2022-02-14T10:51:03.168Z"
   },
   {
    "duration": 194,
    "start_time": "2022-02-14T10:51:37.440Z"
   },
   {
    "duration": 25,
    "start_time": "2022-02-14T10:52:09.549Z"
   },
   {
    "duration": 197,
    "start_time": "2022-02-14T10:52:10.570Z"
   },
   {
    "duration": 227,
    "start_time": "2022-02-14T10:52:44.389Z"
   },
   {
    "duration": 10,
    "start_time": "2022-02-14T10:53:19.171Z"
   },
   {
    "duration": 11,
    "start_time": "2022-02-14T10:56:35.440Z"
   },
   {
    "duration": 205,
    "start_time": "2022-02-14T11:03:05.864Z"
   },
   {
    "duration": 93,
    "start_time": "2022-02-14T11:03:14.163Z"
   },
   {
    "duration": 104,
    "start_time": "2022-02-14T11:03:38.291Z"
   },
   {
    "duration": 53,
    "start_time": "2022-02-14T11:07:14.761Z"
   },
   {
    "duration": 15,
    "start_time": "2022-02-14T11:07:27.599Z"
   },
   {
    "duration": 23,
    "start_time": "2022-02-14T11:07:59.172Z"
   },
   {
    "duration": 211,
    "start_time": "2022-02-14T11:09:06.564Z"
   },
   {
    "duration": 230,
    "start_time": "2022-02-14T11:09:32.537Z"
   },
   {
    "duration": 15,
    "start_time": "2022-02-14T11:10:01.161Z"
   },
   {
    "duration": 24,
    "start_time": "2022-02-14T11:11:47.392Z"
   },
   {
    "duration": 26,
    "start_time": "2022-02-14T11:12:05.806Z"
   },
   {
    "duration": 15,
    "start_time": "2022-02-14T11:13:35.496Z"
   },
   {
    "duration": 6101,
    "start_time": "2022-02-14T11:13:41.225Z"
   },
   {
    "duration": 29,
    "start_time": "2022-02-14T11:22:08.243Z"
   },
   {
    "duration": 7,
    "start_time": "2022-02-14T11:29:26.149Z"
   },
   {
    "duration": 7,
    "start_time": "2022-02-14T11:29:35.767Z"
   },
   {
    "duration": 7,
    "start_time": "2022-02-14T11:31:23.887Z"
   },
   {
    "duration": 549,
    "start_time": "2022-02-22T05:45:33.154Z"
   },
   {
    "duration": 68,
    "start_time": "2022-02-22T05:45:33.706Z"
   },
   {
    "duration": 13,
    "start_time": "2022-02-22T05:45:33.776Z"
   },
   {
    "duration": 11,
    "start_time": "2022-02-22T05:45:33.791Z"
   },
   {
    "duration": 31,
    "start_time": "2022-02-22T05:45:33.803Z"
   },
   {
    "duration": 12,
    "start_time": "2022-02-22T05:45:33.836Z"
   },
   {
    "duration": 3,
    "start_time": "2022-02-22T05:45:33.850Z"
   },
   {
    "duration": 8,
    "start_time": "2022-02-22T05:45:33.855Z"
   },
   {
    "duration": 7,
    "start_time": "2022-02-22T05:45:33.865Z"
   },
   {
    "duration": 7,
    "start_time": "2022-02-22T05:45:33.873Z"
   },
   {
    "duration": 7,
    "start_time": "2022-02-22T05:45:33.881Z"
   },
   {
    "duration": 51,
    "start_time": "2022-02-22T05:45:33.889Z"
   },
   {
    "duration": 9,
    "start_time": "2022-02-22T05:45:33.942Z"
   },
   {
    "duration": 4,
    "start_time": "2022-02-22T05:45:33.952Z"
   },
   {
    "duration": 31,
    "start_time": "2022-02-22T05:45:33.957Z"
   },
   {
    "duration": 43,
    "start_time": "2022-02-22T05:45:33.990Z"
   },
   {
    "duration": 100,
    "start_time": "2022-02-22T05:45:34.034Z"
   },
   {
    "duration": 1593,
    "start_time": "2022-02-22T05:45:32.542Z"
   },
   {
    "duration": 1592,
    "start_time": "2022-02-22T05:45:32.544Z"
   },
   {
    "duration": 1591,
    "start_time": "2022-02-22T05:45:32.546Z"
   },
   {
    "duration": 1590,
    "start_time": "2022-02-22T05:45:32.548Z"
   },
   {
    "duration": 304,
    "start_time": "2022-02-22T05:45:34.389Z"
   },
   {
    "duration": 1648,
    "start_time": "2022-02-22T05:45:33.047Z"
   },
   {
    "duration": 1642,
    "start_time": "2022-02-22T05:45:33.054Z"
   },
   {
    "duration": 1642,
    "start_time": "2022-02-22T05:45:33.055Z"
   },
   {
    "duration": 1640,
    "start_time": "2022-02-22T05:45:33.057Z"
   },
   {
    "duration": 1638,
    "start_time": "2022-02-22T05:45:33.060Z"
   },
   {
    "duration": 1638,
    "start_time": "2022-02-22T05:45:33.061Z"
   },
   {
    "duration": 1637,
    "start_time": "2022-02-22T05:45:33.063Z"
   },
   {
    "duration": 1636,
    "start_time": "2022-02-22T05:45:33.065Z"
   },
   {
    "duration": 7,
    "start_time": "2022-02-22T06:06:44.189Z"
   },
   {
    "duration": 5,
    "start_time": "2022-02-22T06:08:00.818Z"
   },
   {
    "duration": 6,
    "start_time": "2022-02-22T06:11:30.053Z"
   },
   {
    "duration": 7,
    "start_time": "2022-02-22T06:11:49.347Z"
   },
   {
    "duration": 7,
    "start_time": "2022-02-22T06:12:02.825Z"
   },
   {
    "duration": 6,
    "start_time": "2022-02-22T06:12:45.285Z"
   },
   {
    "duration": 166,
    "start_time": "2022-02-22T08:18:42.461Z"
   },
   {
    "duration": 172,
    "start_time": "2022-02-22T08:19:08.694Z"
   },
   {
    "duration": 123,
    "start_time": "2022-02-22T08:19:12.606Z"
   },
   {
    "duration": 519,
    "start_time": "2022-02-22T08:19:23.658Z"
   },
   {
    "duration": 58,
    "start_time": "2022-02-22T08:19:24.179Z"
   },
   {
    "duration": 11,
    "start_time": "2022-02-22T08:19:24.239Z"
   },
   {
    "duration": 12,
    "start_time": "2022-02-22T08:19:24.252Z"
   },
   {
    "duration": 6,
    "start_time": "2022-02-22T08:19:24.265Z"
   },
   {
    "duration": 4,
    "start_time": "2022-02-22T08:19:24.272Z"
   },
   {
    "duration": 17,
    "start_time": "2022-02-22T08:19:24.278Z"
   },
   {
    "duration": 34,
    "start_time": "2022-02-22T08:19:24.297Z"
   },
   {
    "duration": 13,
    "start_time": "2022-02-22T08:19:24.333Z"
   },
   {
    "duration": 9,
    "start_time": "2022-02-22T08:19:24.348Z"
   },
   {
    "duration": 8,
    "start_time": "2022-02-22T08:19:24.359Z"
   },
   {
    "duration": 10,
    "start_time": "2022-02-22T08:19:24.368Z"
   },
   {
    "duration": 199,
    "start_time": "2022-02-22T08:19:24.380Z"
   },
   {
    "duration": 1716,
    "start_time": "2022-02-22T08:19:22.864Z"
   },
   {
    "duration": 1716,
    "start_time": "2022-02-22T08:19:22.866Z"
   },
   {
    "duration": 1714,
    "start_time": "2022-02-22T08:19:22.868Z"
   },
   {
    "duration": 1714,
    "start_time": "2022-02-22T08:19:22.870Z"
   },
   {
    "duration": 1712,
    "start_time": "2022-02-22T08:19:22.873Z"
   },
   {
    "duration": 1710,
    "start_time": "2022-02-22T08:19:22.875Z"
   },
   {
    "duration": 1709,
    "start_time": "2022-02-22T08:19:22.877Z"
   },
   {
    "duration": 1708,
    "start_time": "2022-02-22T08:19:22.879Z"
   },
   {
    "duration": 1707,
    "start_time": "2022-02-22T08:19:22.881Z"
   },
   {
    "duration": 1707,
    "start_time": "2022-02-22T08:19:22.883Z"
   },
   {
    "duration": 1706,
    "start_time": "2022-02-22T08:19:22.885Z"
   },
   {
    "duration": 1704,
    "start_time": "2022-02-22T08:19:22.887Z"
   },
   {
    "duration": 1704,
    "start_time": "2022-02-22T08:19:22.888Z"
   },
   {
    "duration": 1703,
    "start_time": "2022-02-22T08:19:22.890Z"
   },
   {
    "duration": 1702,
    "start_time": "2022-02-22T08:19:22.892Z"
   },
   {
    "duration": 1701,
    "start_time": "2022-02-22T08:19:22.894Z"
   },
   {
    "duration": 1700,
    "start_time": "2022-02-22T08:19:22.896Z"
   },
   {
    "duration": 173,
    "start_time": "2022-02-22T08:19:45.425Z"
   },
   {
    "duration": 168,
    "start_time": "2022-02-22T08:19:50.095Z"
   },
   {
    "duration": 14,
    "start_time": "2022-02-22T08:22:39.188Z"
   },
   {
    "duration": 4020,
    "start_time": "2022-02-22T08:26:47.820Z"
   },
   {
    "duration": 4979,
    "start_time": "2022-02-22T08:26:52.049Z"
   },
   {
    "duration": 5,
    "start_time": "2022-02-22T08:29:02.737Z"
   },
   {
    "duration": 4,
    "start_time": "2022-02-22T08:30:42.676Z"
   },
   {
    "duration": 138,
    "start_time": "2022-02-22T08:31:23.902Z"
   },
   {
    "duration": 137,
    "start_time": "2022-02-22T08:32:10.336Z"
   },
   {
    "duration": 160,
    "start_time": "2022-02-22T08:32:35.096Z"
   },
   {
    "duration": 7,
    "start_time": "2022-02-22T08:32:55.877Z"
   },
   {
    "duration": 7,
    "start_time": "2022-02-22T08:33:22.427Z"
   },
   {
    "duration": 10,
    "start_time": "2022-02-22T08:35:38.246Z"
   },
   {
    "duration": 41,
    "start_time": "2022-02-22T08:35:57.419Z"
   },
   {
    "duration": 9,
    "start_time": "2022-02-22T08:36:03.756Z"
   },
   {
    "duration": 7,
    "start_time": "2022-02-22T08:36:11.079Z"
   },
   {
    "duration": 596,
    "start_time": "2022-02-22T08:37:44.411Z"
   },
   {
    "duration": 59,
    "start_time": "2022-02-22T08:37:45.009Z"
   },
   {
    "duration": 12,
    "start_time": "2022-02-22T08:37:45.070Z"
   },
   {
    "duration": 12,
    "start_time": "2022-02-22T08:37:45.084Z"
   },
   {
    "duration": 6,
    "start_time": "2022-02-22T08:37:45.097Z"
   },
   {
    "duration": 3,
    "start_time": "2022-02-22T08:37:45.105Z"
   },
   {
    "duration": 14,
    "start_time": "2022-02-22T08:37:45.131Z"
   },
   {
    "duration": 7,
    "start_time": "2022-02-22T08:37:45.147Z"
   },
   {
    "duration": 11,
    "start_time": "2022-02-22T08:37:45.156Z"
   },
   {
    "duration": 9,
    "start_time": "2022-02-22T08:37:45.168Z"
   },
   {
    "duration": 9,
    "start_time": "2022-02-22T08:37:45.179Z"
   },
   {
    "duration": 43,
    "start_time": "2022-02-22T08:37:45.190Z"
   },
   {
    "duration": 6,
    "start_time": "2022-02-22T08:37:45.234Z"
   },
   {
    "duration": 11,
    "start_time": "2022-02-22T08:37:45.242Z"
   },
   {
    "duration": 8,
    "start_time": "2022-02-22T08:37:45.255Z"
   },
   {
    "duration": 7,
    "start_time": "2022-02-22T08:37:45.265Z"
   },
   {
    "duration": 33,
    "start_time": "2022-02-22T08:37:45.273Z"
   },
   {
    "duration": 37,
    "start_time": "2022-02-22T08:37:45.308Z"
   },
   {
    "duration": 8,
    "start_time": "2022-02-22T08:37:45.346Z"
   },
   {
    "duration": 9,
    "start_time": "2022-02-22T08:37:45.355Z"
   },
   {
    "duration": 14,
    "start_time": "2022-02-22T08:37:45.365Z"
   },
   {
    "duration": 2,
    "start_time": "2022-02-22T08:37:45.381Z"
   },
   {
    "duration": 45,
    "start_time": "2022-02-22T08:37:45.386Z"
   },
   {
    "duration": 4,
    "start_time": "2022-02-22T08:37:45.433Z"
   },
   {
    "duration": 22,
    "start_time": "2022-02-22T08:37:45.438Z"
   },
   {
    "duration": 9,
    "start_time": "2022-02-22T08:37:45.462Z"
   },
   {
    "duration": 24,
    "start_time": "2022-02-22T08:37:45.473Z"
   },
   {
    "duration": 34,
    "start_time": "2022-02-22T08:37:45.499Z"
   },
   {
    "duration": 14,
    "start_time": "2022-02-22T08:37:45.535Z"
   },
   {
    "duration": 21,
    "start_time": "2022-02-22T08:37:45.550Z"
   },
   {
    "duration": 20,
    "start_time": "2022-02-22T08:37:45.573Z"
   },
   {
    "duration": 7,
    "start_time": "2022-02-22T08:40:06.367Z"
   },
   {
    "duration": 528,
    "start_time": "2022-02-22T08:48:03.677Z"
   },
   {
    "duration": 58,
    "start_time": "2022-02-22T08:48:04.206Z"
   },
   {
    "duration": 12,
    "start_time": "2022-02-22T08:48:04.266Z"
   },
   {
    "duration": 10,
    "start_time": "2022-02-22T08:48:04.280Z"
   },
   {
    "duration": 6,
    "start_time": "2022-02-22T08:48:04.292Z"
   },
   {
    "duration": 3,
    "start_time": "2022-02-22T08:48:04.299Z"
   },
   {
    "duration": 39,
    "start_time": "2022-02-22T08:48:04.303Z"
   },
   {
    "duration": 7,
    "start_time": "2022-02-22T08:48:04.345Z"
   },
   {
    "duration": 8,
    "start_time": "2022-02-22T08:48:04.354Z"
   },
   {
    "duration": 13,
    "start_time": "2022-02-22T08:48:04.363Z"
   },
   {
    "duration": 7,
    "start_time": "2022-02-22T08:48:04.378Z"
   },
   {
    "duration": 7,
    "start_time": "2022-02-22T08:48:04.387Z"
   },
   {
    "duration": 7,
    "start_time": "2022-02-22T08:48:04.430Z"
   },
   {
    "duration": 12,
    "start_time": "2022-02-22T08:48:04.439Z"
   },
   {
    "duration": 8,
    "start_time": "2022-02-22T08:48:04.453Z"
   },
   {
    "duration": 5,
    "start_time": "2022-02-22T08:48:04.463Z"
   },
   {
    "duration": 37,
    "start_time": "2022-02-22T08:48:04.469Z"
   },
   {
    "duration": 34,
    "start_time": "2022-02-22T08:48:04.507Z"
   },
   {
    "duration": 7,
    "start_time": "2022-02-22T08:48:04.543Z"
   },
   {
    "duration": 9,
    "start_time": "2022-02-22T08:48:04.552Z"
   },
   {
    "duration": 13,
    "start_time": "2022-02-22T08:48:04.562Z"
   },
   {
    "duration": 3,
    "start_time": "2022-02-22T08:48:04.576Z"
   },
   {
    "duration": 49,
    "start_time": "2022-02-22T08:48:04.582Z"
   },
   {
    "duration": 2,
    "start_time": "2022-02-22T08:48:04.633Z"
   },
   {
    "duration": 21,
    "start_time": "2022-02-22T08:48:04.637Z"
   },
   {
    "duration": 8,
    "start_time": "2022-02-22T08:48:04.659Z"
   },
   {
    "duration": 24,
    "start_time": "2022-02-22T08:48:04.669Z"
   },
   {
    "duration": 36,
    "start_time": "2022-02-22T08:48:04.695Z"
   },
   {
    "duration": 14,
    "start_time": "2022-02-22T08:48:04.733Z"
   },
   {
    "duration": 23,
    "start_time": "2022-02-22T08:48:04.748Z"
   },
   {
    "duration": 25,
    "start_time": "2022-02-22T08:48:04.774Z"
   },
   {
    "duration": 40,
    "start_time": "2022-02-22T08:52:26.409Z"
   },
   {
    "duration": 30,
    "start_time": "2022-02-22T08:53:15.346Z"
   },
   {
    "duration": 35,
    "start_time": "2022-02-22T08:54:18.275Z"
   },
   {
    "duration": 33,
    "start_time": "2022-02-22T08:54:21.646Z"
   },
   {
    "duration": 2667,
    "start_time": "2022-02-22T08:54:55.587Z"
   },
   {
    "duration": 34,
    "start_time": "2022-02-22T08:55:36.755Z"
   },
   {
    "duration": 36,
    "start_time": "2022-02-22T08:56:38.799Z"
   },
   {
    "duration": 31,
    "start_time": "2022-02-22T09:07:45.225Z"
   },
   {
    "duration": 27,
    "start_time": "2022-02-22T09:19:55.774Z"
   },
   {
    "duration": 27,
    "start_time": "2022-02-22T09:20:28.691Z"
   },
   {
    "duration": 21,
    "start_time": "2022-02-22T09:20:49.872Z"
   },
   {
    "duration": 15,
    "start_time": "2022-02-22T09:29:16.509Z"
   },
   {
    "duration": 26,
    "start_time": "2022-02-22T09:29:41.109Z"
   },
   {
    "duration": 23,
    "start_time": "2022-02-22T09:30:03.509Z"
   },
   {
    "duration": 533,
    "start_time": "2022-02-22T09:55:20.886Z"
   },
   {
    "duration": 54,
    "start_time": "2022-02-22T09:55:21.421Z"
   },
   {
    "duration": 12,
    "start_time": "2022-02-22T09:55:21.477Z"
   },
   {
    "duration": 13,
    "start_time": "2022-02-22T09:55:21.491Z"
   },
   {
    "duration": 26,
    "start_time": "2022-02-22T09:55:21.505Z"
   },
   {
    "duration": 3,
    "start_time": "2022-02-22T09:55:21.533Z"
   },
   {
    "duration": 15,
    "start_time": "2022-02-22T09:55:21.538Z"
   },
   {
    "duration": 8,
    "start_time": "2022-02-22T09:55:21.555Z"
   },
   {
    "duration": 11,
    "start_time": "2022-02-22T09:55:21.567Z"
   },
   {
    "duration": 8,
    "start_time": "2022-02-22T09:55:21.581Z"
   },
   {
    "duration": 44,
    "start_time": "2022-02-22T09:55:21.591Z"
   },
   {
    "duration": 7,
    "start_time": "2022-02-22T09:55:21.637Z"
   },
   {
    "duration": 7,
    "start_time": "2022-02-22T09:55:21.646Z"
   },
   {
    "duration": 9,
    "start_time": "2022-02-22T09:55:21.655Z"
   },
   {
    "duration": 6,
    "start_time": "2022-02-22T09:55:21.666Z"
   },
   {
    "duration": 62,
    "start_time": "2022-02-22T09:55:21.673Z"
   },
   {
    "duration": 18,
    "start_time": "2022-02-22T09:55:21.737Z"
   },
   {
    "duration": 29,
    "start_time": "2022-02-22T09:55:21.756Z"
   },
   {
    "duration": 7,
    "start_time": "2022-02-22T09:55:21.787Z"
   },
   {
    "duration": 35,
    "start_time": "2022-02-22T09:55:21.796Z"
   },
   {
    "duration": 13,
    "start_time": "2022-02-22T09:55:21.833Z"
   },
   {
    "duration": 6,
    "start_time": "2022-02-22T09:55:21.847Z"
   },
   {
    "duration": 25,
    "start_time": "2022-02-22T09:55:21.855Z"
   },
   {
    "duration": 4,
    "start_time": "2022-02-22T09:55:21.881Z"
   },
   {
    "duration": 22,
    "start_time": "2022-02-22T09:55:21.887Z"
   },
   {
    "duration": 24,
    "start_time": "2022-02-22T09:55:21.910Z"
   },
   {
    "duration": 24,
    "start_time": "2022-02-22T09:55:21.937Z"
   },
   {
    "duration": 11,
    "start_time": "2022-02-22T09:55:21.963Z"
   },
   {
    "duration": 13,
    "start_time": "2022-02-22T09:55:21.976Z"
   },
   {
    "duration": 56,
    "start_time": "2022-02-22T09:55:21.990Z"
   },
   {
    "duration": 25,
    "start_time": "2022-02-22T09:55:22.048Z"
   },
   {
    "duration": 15,
    "start_time": "2022-02-22T10:04:55.244Z"
   },
   {
    "duration": 13,
    "start_time": "2022-02-22T10:05:08.422Z"
   },
   {
    "duration": 535,
    "start_time": "2022-02-22T11:45:45.661Z"
   },
   {
    "duration": 53,
    "start_time": "2022-02-22T11:45:46.198Z"
   },
   {
    "duration": 12,
    "start_time": "2022-02-22T11:45:46.253Z"
   },
   {
    "duration": 11,
    "start_time": "2022-02-22T11:45:46.267Z"
   },
   {
    "duration": 7,
    "start_time": "2022-02-22T11:45:46.279Z"
   },
   {
    "duration": 4,
    "start_time": "2022-02-22T11:45:46.287Z"
   },
   {
    "duration": 46,
    "start_time": "2022-02-22T11:45:46.293Z"
   },
   {
    "duration": 8,
    "start_time": "2022-02-22T11:45:46.342Z"
   },
   {
    "duration": 11,
    "start_time": "2022-02-22T11:45:46.352Z"
   },
   {
    "duration": 9,
    "start_time": "2022-02-22T11:45:46.365Z"
   },
   {
    "duration": 11,
    "start_time": "2022-02-22T11:45:46.376Z"
   },
   {
    "duration": 43,
    "start_time": "2022-02-22T11:45:46.389Z"
   },
   {
    "duration": 7,
    "start_time": "2022-02-22T11:45:46.433Z"
   },
   {
    "duration": 10,
    "start_time": "2022-02-22T11:45:46.442Z"
   },
   {
    "duration": 5,
    "start_time": "2022-02-22T11:45:46.454Z"
   },
   {
    "duration": 32,
    "start_time": "2022-02-22T11:45:46.460Z"
   },
   {
    "duration": 49,
    "start_time": "2022-02-22T11:45:46.494Z"
   },
   {
    "duration": 31,
    "start_time": "2022-02-22T11:45:46.545Z"
   },
   {
    "duration": 8,
    "start_time": "2022-02-22T11:45:46.577Z"
   },
   {
    "duration": 9,
    "start_time": "2022-02-22T11:45:46.586Z"
   },
   {
    "duration": 36,
    "start_time": "2022-02-22T11:45:46.596Z"
   },
   {
    "duration": 21,
    "start_time": "2022-02-22T11:45:46.634Z"
   },
   {
    "duration": 20,
    "start_time": "2022-02-22T11:45:46.658Z"
   },
   {
    "duration": 4,
    "start_time": "2022-02-22T11:45:46.680Z"
   },
   {
    "duration": 21,
    "start_time": "2022-02-22T11:45:46.686Z"
   },
   {
    "duration": 26,
    "start_time": "2022-02-22T11:45:46.708Z"
   },
   {
    "duration": 24,
    "start_time": "2022-02-22T11:45:46.735Z"
   },
   {
    "duration": 11,
    "start_time": "2022-02-22T11:45:46.761Z"
   },
   {
    "duration": 15,
    "start_time": "2022-02-22T11:45:46.774Z"
   },
   {
    "duration": 54,
    "start_time": "2022-02-22T11:45:46.790Z"
   },
   {
    "duration": 15,
    "start_time": "2022-02-22T11:45:46.846Z"
   }
  ],
  "kernelspec": {
   "display_name": "Python 3.10.1 64-bit",
   "language": "python",
   "name": "python3"
  },
  "language_info": {
   "codemirror_mode": {
    "name": "ipython",
    "version": 3
   },
   "file_extension": ".py",
   "mimetype": "text/x-python",
   "name": "python",
   "nbconvert_exporter": "python",
   "pygments_lexer": "ipython3",
   "version": "3.10.1"
  },
  "toc": {
   "base_numbering": 1,
   "nav_menu": {},
   "number_sections": true,
   "sideBar": true,
   "skip_h1_title": true,
   "title_cell": "Table of Contents",
   "title_sidebar": "Contents",
   "toc_cell": false,
   "toc_position": {},
   "toc_section_display": true,
   "toc_window_display": false
  },
  "vscode": {
   "interpreter": {
    "hash": "e7d4d1fdefab968d87dae697830712be305784682ed311731942beb8000e292d"
   }
  }
 },
 "nbformat": 4,
 "nbformat_minor": 5
}
