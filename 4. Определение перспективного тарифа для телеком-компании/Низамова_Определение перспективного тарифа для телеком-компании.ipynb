{
 "cells": [
  {
   "cell_type": "markdown",
   "metadata": {},
   "source": [
    "# Определение перспективного тарифа для телеком-компании\n",
    "## Описание проекта\n",
    "Вы аналитик компании «Мегалайн» — федерального оператора сотовой связи. Клиентам предлагают два тарифных плана: «Смарт» и «Ультра». Чтобы скорректировать рекламный бюджет, коммерческий департамент хочет понять, какой тариф приносит больше денег.\n",
    "Вам предстоит сделать предварительный анализ тарифов на небольшой выборке клиентов. В вашем распоряжении данные 500 пользователей «Мегалайна»: кто они, откуда, каким тарифом пользуются, сколько звонков и сообщений каждый отправил за 2018 год. Нужно проанализировать поведение клиентов и сделать вывод — какой тариф лучше.\n",
    "\n",
    "### Описание тарифов\n",
    "\n",
    "#### Тариф «Смарт»\n",
    "Ежемесячная плата: 550 рублей\n",
    "Включено 500 минут разговора, 50 сообщений и 15 Гб интернет-трафика\n",
    "Стоимость услуг сверх тарифного пакета:\n",
    "минута разговора: 3 рубля\n",
    "сообщение: 3 рубля\n",
    "1 Гб интернет-трафика: 200 рублей\n",
    "#### Тариф «Ультра»\n",
    "Ежемесячная плата: 1950 рублей\n",
    "Включено 3000 минут разговора, 1000 сообщений и 30 Гб интернет-трафика\n",
    "Стоимость услуг сверх тарифного пакета:\n",
    "минута разговора: 1 рубль\n",
    "сообщение: 1 рубль\n",
    "1 Гб интернет-трафика: 150 рублей\n",
    "\n",
    "### Примечание:\n",
    "«Мегалайн» всегда округляет секунды до минут, а мегабайты — до гигабайт. Каждый звонок округляется отдельно: даже если он длился всего 1 секунду, будет засчитан как 1 минута.\n",
    "Для веб-трафика отдельные сессии не считаются. Вместо этого общая сумма за месяц округляется в бо́льшую сторону. Если абонент использует 1025 мегабайт в этом месяце, с него возьмут плату за 2 гигабайта.\n",
    "\n",
    "### Описание данных\n",
    "#### Таблица users (информация о пользователях):\n",
    "user_id — уникальный идентификатор пользователя, first_name — имя пользователя, last_name — фамилия пользователя, age — возраст пользователя (годы), reg_date — дата подключения тарифа (день, месяц, год), churn_date — дата прекращения пользования тарифом (если значение пропущено, то тариф ещё действовал на момент выгрузки данных), city — город проживания пользователя, tarif — название тарифного плана\n",
    "#### Таблица calls (информация о звонках):\n",
    "id — уникальный номер звонка, call_date — дата звонка, duration — длительность звонка в минутах, user_id — идентификатор пользователя, сделавшего звонок\n",
    "#### Таблица messages (информация о сообщениях):\n",
    "id — уникальный номер сообщения, message_date — дата сообщения, user_id — идентификатор пользователя, отправившего сообщение\n",
    "#### Таблица internet (информация об интернет-сессиях):\n",
    "id — уникальный номер сессии, mb_used — объём потраченного за сессию интернет-трафика (в мегабайтах), session_date — дата интернет-сессии, user_id — идентификатор пользователя\n",
    "#### Таблица tariffs (информация о тарифах):\n",
    "tariff_name — название тарифа, rub_monthly_fee — ежемесячная абонентская плата в рублях, minutes_included — количество минут разговора в месяц, включённых в абонентскую плату, messages_included — количество сообщений в месяц, включённых в абонентскую плату, mb_per_month_included — объём интернет-трафика, включённого в абонентскую плату (в мегабайтах), rub_per_minute — стоимость минуты разговора сверх тарифного пакета (например, если в тарифе 100 минут разговора в месяц, то со 101 минуты будет взиматься плата), rub_per_message — стоимость отправки сообщения сверх тарифного пакета, rub_per_gb — стоимость дополнительного гигабайта интернет-трафика сверх тарифного пакета (1 гигабайт = 1024 мегабайта)\n",
    "\n",
    "### Примечание. \n",
    "Если объединение таблиц командой merge приводит к ошибке dead kernell, примените join."
   ]
  },
  {
   "cell_type": "markdown",
   "metadata": {},
   "source": [
    "## Откройте файл с данными и изучите общую информацию"
   ]
  },
  {
   "cell_type": "code",
   "execution_count": 1,
   "metadata": {},
   "outputs": [
    {
     "name": "stdout",
     "output_type": "stream",
     "text": [
      "<class 'pandas.core.frame.DataFrame'>\n",
      "RangeIndex: 202607 entries, 0 to 202606\n",
      "Data columns (total 4 columns):\n",
      " #   Column     Non-Null Count   Dtype  \n",
      "---  ------     --------------   -----  \n",
      " 0   id         202607 non-null  object \n",
      " 1   call_date  202607 non-null  object \n",
      " 2   duration   202607 non-null  float64\n",
      " 3   user_id    202607 non-null  int64  \n",
      "dtypes: float64(1), int64(1), object(2)\n",
      "memory usage: 6.2+ MB\n",
      "Дубликатов в calls: 0\n"
     ]
    },
    {
     "data": {
      "text/html": [
       "<div>\n",
       "<style scoped>\n",
       "    .dataframe tbody tr th:only-of-type {\n",
       "        vertical-align: middle;\n",
       "    }\n",
       "\n",
       "    .dataframe tbody tr th {\n",
       "        vertical-align: top;\n",
       "    }\n",
       "\n",
       "    .dataframe thead th {\n",
       "        text-align: right;\n",
       "    }\n",
       "</style>\n",
       "<table border=\"1\" class=\"dataframe\">\n",
       "  <thead>\n",
       "    <tr style=\"text-align: right;\">\n",
       "      <th></th>\n",
       "      <th>id</th>\n",
       "      <th>call_date</th>\n",
       "      <th>duration</th>\n",
       "      <th>user_id</th>\n",
       "    </tr>\n",
       "  </thead>\n",
       "  <tbody>\n",
       "    <tr>\n",
       "      <th>0</th>\n",
       "      <td>1000_0</td>\n",
       "      <td>2018-07-25</td>\n",
       "      <td>0.00</td>\n",
       "      <td>1000</td>\n",
       "    </tr>\n",
       "    <tr>\n",
       "      <th>1</th>\n",
       "      <td>1000_1</td>\n",
       "      <td>2018-08-17</td>\n",
       "      <td>0.00</td>\n",
       "      <td>1000</td>\n",
       "    </tr>\n",
       "    <tr>\n",
       "      <th>2</th>\n",
       "      <td>1000_2</td>\n",
       "      <td>2018-06-11</td>\n",
       "      <td>2.85</td>\n",
       "      <td>1000</td>\n",
       "    </tr>\n",
       "    <tr>\n",
       "      <th>3</th>\n",
       "      <td>1000_3</td>\n",
       "      <td>2018-09-21</td>\n",
       "      <td>13.80</td>\n",
       "      <td>1000</td>\n",
       "    </tr>\n",
       "    <tr>\n",
       "      <th>4</th>\n",
       "      <td>1000_4</td>\n",
       "      <td>2018-12-15</td>\n",
       "      <td>5.18</td>\n",
       "      <td>1000</td>\n",
       "    </tr>\n",
       "  </tbody>\n",
       "</table>\n",
       "</div>"
      ],
      "text/plain": [
       "       id   call_date  duration  user_id\n",
       "0  1000_0  2018-07-25      0.00     1000\n",
       "1  1000_1  2018-08-17      0.00     1000\n",
       "2  1000_2  2018-06-11      2.85     1000\n",
       "3  1000_3  2018-09-21     13.80     1000\n",
       "4  1000_4  2018-12-15      5.18     1000"
      ]
     },
     "metadata": {},
     "output_type": "display_data"
    },
    {
     "name": "stdout",
     "output_type": "stream",
     "text": [
      "<class 'pandas.core.frame.DataFrame'>\n",
      "Int64Index: 149396 entries, 0 to 149395\n",
      "Data columns (total 4 columns):\n",
      " #   Column        Non-Null Count   Dtype  \n",
      "---  ------        --------------   -----  \n",
      " 0   id            149396 non-null  object \n",
      " 1   mb_used       149396 non-null  float64\n",
      " 2   session_date  149396 non-null  object \n",
      " 3   user_id       149396 non-null  int64  \n",
      "dtypes: float64(1), int64(1), object(2)\n",
      "memory usage: 5.7+ MB\n",
      "Дубликатов в internet: 0\n"
     ]
    },
    {
     "data": {
      "text/html": [
       "<div>\n",
       "<style scoped>\n",
       "    .dataframe tbody tr th:only-of-type {\n",
       "        vertical-align: middle;\n",
       "    }\n",
       "\n",
       "    .dataframe tbody tr th {\n",
       "        vertical-align: top;\n",
       "    }\n",
       "\n",
       "    .dataframe thead th {\n",
       "        text-align: right;\n",
       "    }\n",
       "</style>\n",
       "<table border=\"1\" class=\"dataframe\">\n",
       "  <thead>\n",
       "    <tr style=\"text-align: right;\">\n",
       "      <th></th>\n",
       "      <th>id</th>\n",
       "      <th>mb_used</th>\n",
       "      <th>session_date</th>\n",
       "      <th>user_id</th>\n",
       "    </tr>\n",
       "  </thead>\n",
       "  <tbody>\n",
       "    <tr>\n",
       "      <th>0</th>\n",
       "      <td>1000_0</td>\n",
       "      <td>112.95</td>\n",
       "      <td>2018-11-25</td>\n",
       "      <td>1000</td>\n",
       "    </tr>\n",
       "    <tr>\n",
       "      <th>1</th>\n",
       "      <td>1000_1</td>\n",
       "      <td>1052.81</td>\n",
       "      <td>2018-09-07</td>\n",
       "      <td>1000</td>\n",
       "    </tr>\n",
       "    <tr>\n",
       "      <th>2</th>\n",
       "      <td>1000_2</td>\n",
       "      <td>1197.26</td>\n",
       "      <td>2018-06-25</td>\n",
       "      <td>1000</td>\n",
       "    </tr>\n",
       "    <tr>\n",
       "      <th>3</th>\n",
       "      <td>1000_3</td>\n",
       "      <td>550.27</td>\n",
       "      <td>2018-08-22</td>\n",
       "      <td>1000</td>\n",
       "    </tr>\n",
       "    <tr>\n",
       "      <th>4</th>\n",
       "      <td>1000_4</td>\n",
       "      <td>302.56</td>\n",
       "      <td>2018-09-24</td>\n",
       "      <td>1000</td>\n",
       "    </tr>\n",
       "  </tbody>\n",
       "</table>\n",
       "</div>"
      ],
      "text/plain": [
       "       id  mb_used session_date  user_id\n",
       "0  1000_0   112.95   2018-11-25     1000\n",
       "1  1000_1  1052.81   2018-09-07     1000\n",
       "2  1000_2  1197.26   2018-06-25     1000\n",
       "3  1000_3   550.27   2018-08-22     1000\n",
       "4  1000_4   302.56   2018-09-24     1000"
      ]
     },
     "metadata": {},
     "output_type": "display_data"
    },
    {
     "name": "stdout",
     "output_type": "stream",
     "text": [
      "<class 'pandas.core.frame.DataFrame'>\n",
      "RangeIndex: 123036 entries, 0 to 123035\n",
      "Data columns (total 3 columns):\n",
      " #   Column        Non-Null Count   Dtype \n",
      "---  ------        --------------   ----- \n",
      " 0   id            123036 non-null  object\n",
      " 1   message_date  123036 non-null  object\n",
      " 2   user_id       123036 non-null  int64 \n",
      "dtypes: int64(1), object(2)\n",
      "memory usage: 2.8+ MB\n",
      "Дубликатов в messages: 0\n"
     ]
    },
    {
     "data": {
      "text/html": [
       "<div>\n",
       "<style scoped>\n",
       "    .dataframe tbody tr th:only-of-type {\n",
       "        vertical-align: middle;\n",
       "    }\n",
       "\n",
       "    .dataframe tbody tr th {\n",
       "        vertical-align: top;\n",
       "    }\n",
       "\n",
       "    .dataframe thead th {\n",
       "        text-align: right;\n",
       "    }\n",
       "</style>\n",
       "<table border=\"1\" class=\"dataframe\">\n",
       "  <thead>\n",
       "    <tr style=\"text-align: right;\">\n",
       "      <th></th>\n",
       "      <th>id</th>\n",
       "      <th>message_date</th>\n",
       "      <th>user_id</th>\n",
       "    </tr>\n",
       "  </thead>\n",
       "  <tbody>\n",
       "    <tr>\n",
       "      <th>0</th>\n",
       "      <td>1000_0</td>\n",
       "      <td>2018-06-27</td>\n",
       "      <td>1000</td>\n",
       "    </tr>\n",
       "    <tr>\n",
       "      <th>1</th>\n",
       "      <td>1000_1</td>\n",
       "      <td>2018-10-08</td>\n",
       "      <td>1000</td>\n",
       "    </tr>\n",
       "    <tr>\n",
       "      <th>2</th>\n",
       "      <td>1000_2</td>\n",
       "      <td>2018-08-04</td>\n",
       "      <td>1000</td>\n",
       "    </tr>\n",
       "    <tr>\n",
       "      <th>3</th>\n",
       "      <td>1000_3</td>\n",
       "      <td>2018-06-16</td>\n",
       "      <td>1000</td>\n",
       "    </tr>\n",
       "    <tr>\n",
       "      <th>4</th>\n",
       "      <td>1000_4</td>\n",
       "      <td>2018-12-05</td>\n",
       "      <td>1000</td>\n",
       "    </tr>\n",
       "  </tbody>\n",
       "</table>\n",
       "</div>"
      ],
      "text/plain": [
       "       id message_date  user_id\n",
       "0  1000_0   2018-06-27     1000\n",
       "1  1000_1   2018-10-08     1000\n",
       "2  1000_2   2018-08-04     1000\n",
       "3  1000_3   2018-06-16     1000\n",
       "4  1000_4   2018-12-05     1000"
      ]
     },
     "metadata": {},
     "output_type": "display_data"
    },
    {
     "name": "stdout",
     "output_type": "stream",
     "text": [
      "<class 'pandas.core.frame.DataFrame'>\n",
      "RangeIndex: 2 entries, 0 to 1\n",
      "Data columns (total 8 columns):\n",
      " #   Column                 Non-Null Count  Dtype \n",
      "---  ------                 --------------  ----- \n",
      " 0   messages_included      2 non-null      int64 \n",
      " 1   mb_per_month_included  2 non-null      int64 \n",
      " 2   minutes_included       2 non-null      int64 \n",
      " 3   rub_monthly_fee        2 non-null      int64 \n",
      " 4   rub_per_gb             2 non-null      int64 \n",
      " 5   rub_per_message        2 non-null      int64 \n",
      " 6   rub_per_minute         2 non-null      int64 \n",
      " 7   tariff_name            2 non-null      object\n",
      "dtypes: int64(7), object(1)\n",
      "memory usage: 256.0+ bytes\n"
     ]
    },
    {
     "data": {
      "text/html": [
       "<div>\n",
       "<style scoped>\n",
       "    .dataframe tbody tr th:only-of-type {\n",
       "        vertical-align: middle;\n",
       "    }\n",
       "\n",
       "    .dataframe tbody tr th {\n",
       "        vertical-align: top;\n",
       "    }\n",
       "\n",
       "    .dataframe thead th {\n",
       "        text-align: right;\n",
       "    }\n",
       "</style>\n",
       "<table border=\"1\" class=\"dataframe\">\n",
       "  <thead>\n",
       "    <tr style=\"text-align: right;\">\n",
       "      <th></th>\n",
       "      <th>messages_included</th>\n",
       "      <th>mb_per_month_included</th>\n",
       "      <th>minutes_included</th>\n",
       "      <th>rub_monthly_fee</th>\n",
       "      <th>rub_per_gb</th>\n",
       "      <th>rub_per_message</th>\n",
       "      <th>rub_per_minute</th>\n",
       "      <th>tariff_name</th>\n",
       "    </tr>\n",
       "  </thead>\n",
       "  <tbody>\n",
       "    <tr>\n",
       "      <th>0</th>\n",
       "      <td>50</td>\n",
       "      <td>15360</td>\n",
       "      <td>500</td>\n",
       "      <td>550</td>\n",
       "      <td>200</td>\n",
       "      <td>3</td>\n",
       "      <td>3</td>\n",
       "      <td>smart</td>\n",
       "    </tr>\n",
       "    <tr>\n",
       "      <th>1</th>\n",
       "      <td>1000</td>\n",
       "      <td>30720</td>\n",
       "      <td>3000</td>\n",
       "      <td>1950</td>\n",
       "      <td>150</td>\n",
       "      <td>1</td>\n",
       "      <td>1</td>\n",
       "      <td>ultra</td>\n",
       "    </tr>\n",
       "  </tbody>\n",
       "</table>\n",
       "</div>"
      ],
      "text/plain": [
       "   messages_included  mb_per_month_included  minutes_included  \\\n",
       "0                 50                  15360               500   \n",
       "1               1000                  30720              3000   \n",
       "\n",
       "   rub_monthly_fee  rub_per_gb  rub_per_message  rub_per_minute tariff_name  \n",
       "0              550         200                3               3       smart  \n",
       "1             1950         150                1               1       ultra  "
      ]
     },
     "metadata": {},
     "output_type": "display_data"
    },
    {
     "name": "stdout",
     "output_type": "stream",
     "text": [
      "<class 'pandas.core.frame.DataFrame'>\n",
      "RangeIndex: 500 entries, 0 to 499\n",
      "Data columns (total 8 columns):\n",
      " #   Column      Non-Null Count  Dtype \n",
      "---  ------      --------------  ----- \n",
      " 0   user_id     500 non-null    int64 \n",
      " 1   age         500 non-null    int64 \n",
      " 2   churn_date  38 non-null     object\n",
      " 3   city        500 non-null    object\n",
      " 4   first_name  500 non-null    object\n",
      " 5   last_name   500 non-null    object\n",
      " 6   reg_date    500 non-null    object\n",
      " 7   tariff      500 non-null    object\n",
      "dtypes: int64(2), object(6)\n",
      "memory usage: 31.4+ KB\n",
      "Дубликатов в users: 0\n",
      "Количество уникальных пользователей: 500\n"
     ]
    },
    {
     "data": {
      "text/html": [
       "<div>\n",
       "<style scoped>\n",
       "    .dataframe tbody tr th:only-of-type {\n",
       "        vertical-align: middle;\n",
       "    }\n",
       "\n",
       "    .dataframe tbody tr th {\n",
       "        vertical-align: top;\n",
       "    }\n",
       "\n",
       "    .dataframe thead th {\n",
       "        text-align: right;\n",
       "    }\n",
       "</style>\n",
       "<table border=\"1\" class=\"dataframe\">\n",
       "  <thead>\n",
       "    <tr style=\"text-align: right;\">\n",
       "      <th></th>\n",
       "      <th>user_id</th>\n",
       "      <th>age</th>\n",
       "      <th>churn_date</th>\n",
       "      <th>city</th>\n",
       "      <th>first_name</th>\n",
       "      <th>last_name</th>\n",
       "      <th>reg_date</th>\n",
       "      <th>tariff</th>\n",
       "    </tr>\n",
       "  </thead>\n",
       "  <tbody>\n",
       "    <tr>\n",
       "      <th>0</th>\n",
       "      <td>1000</td>\n",
       "      <td>52</td>\n",
       "      <td>NaN</td>\n",
       "      <td>Краснодар</td>\n",
       "      <td>Рафаил</td>\n",
       "      <td>Верещагин</td>\n",
       "      <td>2018-05-25</td>\n",
       "      <td>ultra</td>\n",
       "    </tr>\n",
       "    <tr>\n",
       "      <th>1</th>\n",
       "      <td>1001</td>\n",
       "      <td>41</td>\n",
       "      <td>NaN</td>\n",
       "      <td>Москва</td>\n",
       "      <td>Иван</td>\n",
       "      <td>Ежов</td>\n",
       "      <td>2018-11-01</td>\n",
       "      <td>smart</td>\n",
       "    </tr>\n",
       "    <tr>\n",
       "      <th>2</th>\n",
       "      <td>1002</td>\n",
       "      <td>59</td>\n",
       "      <td>NaN</td>\n",
       "      <td>Стерлитамак</td>\n",
       "      <td>Евгений</td>\n",
       "      <td>Абрамович</td>\n",
       "      <td>2018-06-17</td>\n",
       "      <td>smart</td>\n",
       "    </tr>\n",
       "    <tr>\n",
       "      <th>3</th>\n",
       "      <td>1003</td>\n",
       "      <td>23</td>\n",
       "      <td>NaN</td>\n",
       "      <td>Москва</td>\n",
       "      <td>Белла</td>\n",
       "      <td>Белякова</td>\n",
       "      <td>2018-08-17</td>\n",
       "      <td>ultra</td>\n",
       "    </tr>\n",
       "    <tr>\n",
       "      <th>4</th>\n",
       "      <td>1004</td>\n",
       "      <td>68</td>\n",
       "      <td>NaN</td>\n",
       "      <td>Новокузнецк</td>\n",
       "      <td>Татьяна</td>\n",
       "      <td>Авдеенко</td>\n",
       "      <td>2018-05-14</td>\n",
       "      <td>ultra</td>\n",
       "    </tr>\n",
       "  </tbody>\n",
       "</table>\n",
       "</div>"
      ],
      "text/plain": [
       "   user_id  age churn_date         city first_name  last_name    reg_date  \\\n",
       "0     1000   52        NaN    Краснодар     Рафаил  Верещагин  2018-05-25   \n",
       "1     1001   41        NaN       Москва       Иван       Ежов  2018-11-01   \n",
       "2     1002   59        NaN  Стерлитамак    Евгений  Абрамович  2018-06-17   \n",
       "3     1003   23        NaN       Москва      Белла   Белякова  2018-08-17   \n",
       "4     1004   68        NaN  Новокузнецк    Татьяна   Авдеенко  2018-05-14   \n",
       "\n",
       "  tariff  \n",
       "0  ultra  \n",
       "1  smart  \n",
       "2  smart  \n",
       "3  ultra  \n",
       "4  ultra  "
      ]
     },
     "metadata": {},
     "output_type": "display_data"
    }
   ],
   "source": [
    "import pandas as pd\n",
    "import numpy as np\n",
    "from matplotlib import pyplot as plt\n",
    "from scipy import stats as st\n",
    "\n",
    "try:\n",
    "    calls = pd.read_csv('/datasets/calls.csv', sep=',')\n",
    "    internet = pd.read_csv('/datasets/internet.csv', sep=',', index_col=0)  # без `Unnamed: 0`\n",
    "    messages = pd.read_csv('/datasets/messages.csv', sep=',')\n",
    "    tariffs = pd.read_csv('/datasets/tariffs.csv', sep=',')\n",
    "    users = pd.read_csv('/datasets/users.csv', sep=',')\n",
    "except:\n",
    "    calls = pd.read_csv('D:\\IT\\courses Python\\yandex_practicum\\\\4_project_stats\\\\calls.csv', sep=',')\n",
    "    internet = pd.read_csv('D:\\IT\\courses Python\\yandex_practicum\\\\4_project_stats\\\\internet.csv', sep=',', index_col=0)\n",
    "    messages = pd.read_csv('D:\\IT\\courses Python\\yandex_practicum\\\\4_project_stats\\\\messages.csv', sep=',')\n",
    "    tariffs = pd.read_csv('D:\\IT\\courses Python\\yandex_practicum\\\\4_project_stats\\\\tariffs.csv', sep=',')\n",
    "    users = pd.read_csv('D:\\IT\\courses Python\\yandex_practicum\\\\4_project_stats\\\\users.csv', sep=',')\n",
    "calls.info()\n",
    "print('Дубликатов в calls:', calls.duplicated().sum())\n",
    "display(calls.head())\n",
    "internet.info()\n",
    "print('Дубликатов в internet:', internet.duplicated().sum())\n",
    "display(internet.head())\n",
    "messages.info()\n",
    "print('Дубликатов в messages:', messages.duplicated().sum())\n",
    "display(messages.head())\n",
    "tariffs.info()\n",
    "display(tariffs.head())\n",
    "users.info()\n",
    "print('Дубликатов в users:', users.duplicated().sum())\n",
    "print('Количество уникальных пользователей:', users['user_id'].nunique()) \n",
    "display(users.head())"
   ]
  },
  {
   "cell_type": "markdown",
   "metadata": {},
   "source": [
    "### Вывод\n",
    "Файлы отредактировала в читабельный вид параметром sep.\n",
    "\n",
    "Пропусков нигде нет, кроме таблицы users столбец churn_date.\n",
    "\n",
    "В таблице internet два столбца с индексом.\n",
    "\n",
    "Даты везде типа object.\n",
    "\n",
    "Дубликатов нигде нет."
   ]
  },
  {
   "cell_type": "markdown",
   "metadata": {},
   "source": [
    "## Подготовьте данные\n",
    "1) Приведите данные к нужным типам;\n",
    "2) Найдите и исправьте ошибки в данных, если они есть.\n",
    "Поясните, какие ошибки вы нашли и как их исправили. В данных вы найдёте звонки с нулевой продолжительностью. Это не ошибка: нулями обозначены пропущенные звонки, поэтому их не нужно удалять."
   ]
  },
  {
   "cell_type": "code",
   "execution_count": 2,
   "metadata": {},
   "outputs": [],
   "source": [
    "# Преобразуем в формат даты\n",
    "calls['call_date'] = pd.to_datetime(calls['call_date'], format='%Y-%m-%d')\n",
    "internet['session_date'] = pd.to_datetime(internet['session_date'], format='%Y-%m-%d')\n",
    "messages['message_date'] = pd.to_datetime(messages['message_date'], format='%Y-%m-%d')\n",
    "users['reg_date'] = pd.to_datetime(users['reg_date'], format='%Y-%m-%d')\n",
    "users['churn_date'] = pd.to_datetime(users['churn_date'], format='%Y-%m-%d')\n",
    "\n",
    "# Округлим минуты в звонках\n",
    "calls['duration'] = np.ceil(calls['duration'])\n",
    "\n",
    "# Разобъем по месяцам\n",
    "calls['month'] = calls['call_date'].dt.month\n",
    "internet['month'] = internet['session_date'].dt.month\n",
    "messages['month'] = messages['message_date'].dt.month"
   ]
  },
  {
   "cell_type": "markdown",
   "metadata": {},
   "source": [
    "### Посчитайте для каждого пользователя:\n",
    "- количество сделанных звонков и израсходованных минут разговора по месяцам;\n",
    "- количество отправленных сообщений по месяцам;\n",
    "- объем израсходованного интернет-трафика по месяцам;\n",
    "- помесячную выручку с каждого пользователя (вычтите бесплатный лимит из суммарного количества звонков, сообщений и интернет-трафика; остаток умножьте на значение из тарифного плана; прибавьте абонентскую плату, соответствующую тарифному плану)."
   ]
  },
  {
   "cell_type": "code",
   "execution_count": 3,
   "metadata": {},
   "outputs": [
    {
     "name": "stdout",
     "output_type": "stream",
     "text": [
      "<class 'pandas.core.frame.DataFrame'>\n",
      "RangeIndex: 3174 entries, 0 to 3173\n",
      "Data columns (total 3 columns):\n",
      " #   Column     Non-Null Count  Dtype  \n",
      "---  ------     --------------  -----  \n",
      " 0   user_id    3174 non-null   int64  \n",
      " 1   month      3174 non-null   int64  \n",
      " 2   sum_calls  3174 non-null   float64\n",
      "dtypes: float64(1), int64(2)\n",
      "memory usage: 74.5 KB\n",
      "None\n",
      "\n",
      "<class 'pandas.core.frame.DataFrame'>\n",
      "RangeIndex: 2717 entries, 0 to 2716\n",
      "Data columns (total 3 columns):\n",
      " #   Column          Non-Null Count  Dtype\n",
      "---  ------          --------------  -----\n",
      " 0   user_id         2717 non-null   int64\n",
      " 1   month           2717 non-null   int64\n",
      " 2   count_messages  2717 non-null   int64\n",
      "dtypes: int64(3)\n",
      "memory usage: 63.8 KB\n",
      "None\n",
      "\n",
      "<class 'pandas.core.frame.DataFrame'>\n",
      "RangeIndex: 3203 entries, 0 to 3202\n",
      "Data columns (total 3 columns):\n",
      " #   Column       Non-Null Count  Dtype  \n",
      "---  ------       --------------  -----  \n",
      " 0   user_id      3203 non-null   int64  \n",
      " 1   month        3203 non-null   int64  \n",
      " 2   sum_used_mb  3203 non-null   float64\n",
      "dtypes: float64(1), int64(2)\n",
      "memory usage: 75.2 KB\n",
      "None\n",
      "\n"
     ]
    }
   ],
   "source": [
    "# количество сделанных звонков и израсходованных минут разговора по месяцам\n",
    "calls_quantity = (\n",
    "    calls.pivot_table(index=['user_id', 'month'], values='duration', aggfunc='sum')\n",
    "    .reset_index()\n",
    "    .rename(columns={'duration': 'sum_calls'})\n",
    ")\n",
    "\n",
    "# количество отправленных сообщений по месяцам\n",
    "messages_quantity = (\n",
    "    messages.pivot_table(index=['user_id', 'month'], values='id', aggfunc='count')\n",
    "    .reset_index()\n",
    "    .rename(columns={'id': 'count_messages'})\n",
    ")\n",
    "\n",
    "# объем израсходованного интернет-трафика по месяцам\n",
    "internet_quantity = (\n",
    "    internet.pivot_table(index=['user_id', 'month'], values='mb_used', aggfunc='sum')\n",
    "    .reset_index()\n",
    "    .rename(columns={'mb_used': 'sum_used_mb'})\n",
    ")\n",
    "for data in [calls_quantity, messages_quantity, internet_quantity]: print(data.info(), end='\\n\\n')"
   ]
  },
  {
   "cell_type": "code",
   "execution_count": 4,
   "metadata": {
    "scrolled": true
   },
   "outputs": [
    {
     "name": "stdout",
     "output_type": "stream",
     "text": [
      "<class 'pandas.core.frame.DataFrame'>\n",
      "Int64Index: 3216 entries, 0 to 3215\n",
      "Data columns (total 12 columns):\n",
      " #   Column          Non-Null Count  Dtype         \n",
      "---  ------          --------------  -----         \n",
      " 0   user_id         3216 non-null   int64         \n",
      " 1   month           3214 non-null   float64       \n",
      " 2   sum_calls       3174 non-null   float64       \n",
      " 3   count_messages  2717 non-null   float64       \n",
      " 4   sum_used_mb     3203 non-null   float64       \n",
      " 5   age             3216 non-null   int64         \n",
      " 6   churn_date      189 non-null    datetime64[ns]\n",
      " 7   city            3216 non-null   object        \n",
      " 8   first_name      3216 non-null   object        \n",
      " 9   last_name       3216 non-null   object        \n",
      " 10  reg_date        3216 non-null   datetime64[ns]\n",
      " 11  tariff          3216 non-null   object        \n",
      "dtypes: datetime64[ns](2), float64(4), int64(2), object(4)\n",
      "memory usage: 326.6+ KB\n"
     ]
    },
    {
     "data": {
      "text/html": [
       "<div>\n",
       "<style scoped>\n",
       "    .dataframe tbody tr th:only-of-type {\n",
       "        vertical-align: middle;\n",
       "    }\n",
       "\n",
       "    .dataframe tbody tr th {\n",
       "        vertical-align: top;\n",
       "    }\n",
       "\n",
       "    .dataframe thead th {\n",
       "        text-align: right;\n",
       "    }\n",
       "</style>\n",
       "<table border=\"1\" class=\"dataframe\">\n",
       "  <thead>\n",
       "    <tr style=\"text-align: right;\">\n",
       "      <th></th>\n",
       "      <th>user_id</th>\n",
       "      <th>month</th>\n",
       "      <th>sum_calls</th>\n",
       "      <th>count_messages</th>\n",
       "      <th>sum_used_mb</th>\n",
       "      <th>age</th>\n",
       "      <th>churn_date</th>\n",
       "      <th>city</th>\n",
       "      <th>first_name</th>\n",
       "      <th>last_name</th>\n",
       "      <th>reg_date</th>\n",
       "      <th>tariff</th>\n",
       "    </tr>\n",
       "  </thead>\n",
       "  <tbody>\n",
       "    <tr>\n",
       "      <th>3211</th>\n",
       "      <td>1489</td>\n",
       "      <td>10.0</td>\n",
       "      <td>NaN</td>\n",
       "      <td>21.0</td>\n",
       "      <td>19559.44</td>\n",
       "      <td>35</td>\n",
       "      <td>NaT</td>\n",
       "      <td>Санкт-Петербург</td>\n",
       "      <td>Павел</td>\n",
       "      <td>Гончаров</td>\n",
       "      <td>2018-08-15</td>\n",
       "      <td>smart</td>\n",
       "    </tr>\n",
       "    <tr>\n",
       "      <th>3212</th>\n",
       "      <td>1489</td>\n",
       "      <td>11.0</td>\n",
       "      <td>NaN</td>\n",
       "      <td>20.0</td>\n",
       "      <td>17491.56</td>\n",
       "      <td>35</td>\n",
       "      <td>NaT</td>\n",
       "      <td>Санкт-Петербург</td>\n",
       "      <td>Павел</td>\n",
       "      <td>Гончаров</td>\n",
       "      <td>2018-08-15</td>\n",
       "      <td>smart</td>\n",
       "    </tr>\n",
       "    <tr>\n",
       "      <th>3213</th>\n",
       "      <td>1489</td>\n",
       "      <td>12.0</td>\n",
       "      <td>NaN</td>\n",
       "      <td>35.0</td>\n",
       "      <td>17322.51</td>\n",
       "      <td>35</td>\n",
       "      <td>NaT</td>\n",
       "      <td>Санкт-Петербург</td>\n",
       "      <td>Павел</td>\n",
       "      <td>Гончаров</td>\n",
       "      <td>2018-08-15</td>\n",
       "      <td>smart</td>\n",
       "    </tr>\n",
       "    <tr>\n",
       "      <th>3214</th>\n",
       "      <td>1128</td>\n",
       "      <td>NaN</td>\n",
       "      <td>NaN</td>\n",
       "      <td>NaN</td>\n",
       "      <td>NaN</td>\n",
       "      <td>51</td>\n",
       "      <td>2018-12-23</td>\n",
       "      <td>Волжский</td>\n",
       "      <td>Ксения</td>\n",
       "      <td>Агаева</td>\n",
       "      <td>2018-12-15</td>\n",
       "      <td>ultra</td>\n",
       "    </tr>\n",
       "    <tr>\n",
       "      <th>3215</th>\n",
       "      <td>1371</td>\n",
       "      <td>NaN</td>\n",
       "      <td>NaN</td>\n",
       "      <td>NaN</td>\n",
       "      <td>NaN</td>\n",
       "      <td>50</td>\n",
       "      <td>2018-12-30</td>\n",
       "      <td>Омск</td>\n",
       "      <td>Ириней</td>\n",
       "      <td>Трофимов</td>\n",
       "      <td>2018-12-25</td>\n",
       "      <td>smart</td>\n",
       "    </tr>\n",
       "  </tbody>\n",
       "</table>\n",
       "</div>"
      ],
      "text/plain": [
       "      user_id  month  sum_calls  count_messages  sum_used_mb  age churn_date  \\\n",
       "3211     1489   10.0        NaN            21.0     19559.44   35        NaT   \n",
       "3212     1489   11.0        NaN            20.0     17491.56   35        NaT   \n",
       "3213     1489   12.0        NaN            35.0     17322.51   35        NaT   \n",
       "3214     1128    NaN        NaN             NaN          NaN   51 2018-12-23   \n",
       "3215     1371    NaN        NaN             NaN          NaN   50 2018-12-30   \n",
       "\n",
       "                 city first_name last_name   reg_date tariff  \n",
       "3211  Санкт-Петербург      Павел  Гончаров 2018-08-15  smart  \n",
       "3212  Санкт-Петербург      Павел  Гончаров 2018-08-15  smart  \n",
       "3213  Санкт-Петербург      Павел  Гончаров 2018-08-15  smart  \n",
       "3214         Волжский     Ксения    Агаева 2018-12-15  ultra  \n",
       "3215             Омск     Ириней  Трофимов 2018-12-25  smart  "
      ]
     },
     "execution_count": 4,
     "metadata": {},
     "output_type": "execute_result"
    }
   ],
   "source": [
    "# Вычислим помесячную выручку с каждого пользователя- для этого объединим таблицы по \"внешнему\", чтобы все данные вошли.\n",
    "total_df = (\n",
    "    calls_quantity\n",
    "    .merge(messages_quantity, on=['user_id', 'month'], how='outer')\n",
    "    .merge(internet_quantity, on=['user_id', 'month'], how='outer')\n",
    "    .merge(users, on=['user_id'], how='outer')   \n",
    ")\n",
    "total_df.info()\n",
    "total_df.tail()"
   ]
  },
  {
   "cell_type": "markdown",
   "metadata": {},
   "source": [
    "Есть пропуски в месяцах, звонках, сообщениях, интернет-трафике, возраст и дата окончания. "
   ]
  },
  {
   "cell_type": "code",
   "execution_count": 5,
   "metadata": {},
   "outputs": [
    {
     "name": "stdout",
     "output_type": "stream",
     "text": [
      "<class 'pandas.core.frame.DataFrame'>\n",
      "Int64Index: 3216 entries, 0 to 3215\n",
      "Data columns (total 12 columns):\n",
      " #   Column          Non-Null Count  Dtype         \n",
      "---  ------          --------------  -----         \n",
      " 0   user_id         3216 non-null   int64         \n",
      " 1   month           3216 non-null   float64       \n",
      " 2   sum_calls       3216 non-null   float64       \n",
      " 3   count_messages  3216 non-null   float64       \n",
      " 4   sum_used_mb     3216 non-null   float64       \n",
      " 5   age             3216 non-null   int64         \n",
      " 6   churn_date      189 non-null    datetime64[ns]\n",
      " 7   city            3216 non-null   object        \n",
      " 8   first_name      3216 non-null   object        \n",
      " 9   last_name       3216 non-null   object        \n",
      " 10  reg_date        3216 non-null   datetime64[ns]\n",
      " 11  tariff          3216 non-null   object        \n",
      "dtypes: datetime64[ns](2), float64(4), int64(2), object(4)\n",
      "memory usage: 326.6+ KB\n"
     ]
    },
    {
     "data": {
      "text/html": [
       "<div>\n",
       "<style scoped>\n",
       "    .dataframe tbody tr th:only-of-type {\n",
       "        vertical-align: middle;\n",
       "    }\n",
       "\n",
       "    .dataframe tbody tr th {\n",
       "        vertical-align: top;\n",
       "    }\n",
       "\n",
       "    .dataframe thead th {\n",
       "        text-align: right;\n",
       "    }\n",
       "</style>\n",
       "<table border=\"1\" class=\"dataframe\">\n",
       "  <thead>\n",
       "    <tr style=\"text-align: right;\">\n",
       "      <th></th>\n",
       "      <th>user_id</th>\n",
       "      <th>month</th>\n",
       "      <th>sum_calls</th>\n",
       "      <th>count_messages</th>\n",
       "      <th>sum_used_mb</th>\n",
       "      <th>age</th>\n",
       "      <th>churn_date</th>\n",
       "      <th>city</th>\n",
       "      <th>first_name</th>\n",
       "      <th>last_name</th>\n",
       "      <th>reg_date</th>\n",
       "      <th>tariff</th>\n",
       "    </tr>\n",
       "  </thead>\n",
       "  <tbody>\n",
       "    <tr>\n",
       "      <th>3211</th>\n",
       "      <td>1489</td>\n",
       "      <td>10.0</td>\n",
       "      <td>0.0</td>\n",
       "      <td>21.0</td>\n",
       "      <td>19559.44</td>\n",
       "      <td>35</td>\n",
       "      <td>NaT</td>\n",
       "      <td>Санкт-Петербург</td>\n",
       "      <td>Павел</td>\n",
       "      <td>Гончаров</td>\n",
       "      <td>2018-08-15</td>\n",
       "      <td>smart</td>\n",
       "    </tr>\n",
       "    <tr>\n",
       "      <th>3212</th>\n",
       "      <td>1489</td>\n",
       "      <td>11.0</td>\n",
       "      <td>0.0</td>\n",
       "      <td>20.0</td>\n",
       "      <td>17491.56</td>\n",
       "      <td>35</td>\n",
       "      <td>NaT</td>\n",
       "      <td>Санкт-Петербург</td>\n",
       "      <td>Павел</td>\n",
       "      <td>Гончаров</td>\n",
       "      <td>2018-08-15</td>\n",
       "      <td>smart</td>\n",
       "    </tr>\n",
       "    <tr>\n",
       "      <th>3213</th>\n",
       "      <td>1489</td>\n",
       "      <td>12.0</td>\n",
       "      <td>0.0</td>\n",
       "      <td>35.0</td>\n",
       "      <td>17322.51</td>\n",
       "      <td>35</td>\n",
       "      <td>NaT</td>\n",
       "      <td>Санкт-Петербург</td>\n",
       "      <td>Павел</td>\n",
       "      <td>Гончаров</td>\n",
       "      <td>2018-08-15</td>\n",
       "      <td>smart</td>\n",
       "    </tr>\n",
       "    <tr>\n",
       "      <th>3214</th>\n",
       "      <td>1128</td>\n",
       "      <td>12.0</td>\n",
       "      <td>0.0</td>\n",
       "      <td>0.0</td>\n",
       "      <td>0.00</td>\n",
       "      <td>51</td>\n",
       "      <td>2018-12-23</td>\n",
       "      <td>Волжский</td>\n",
       "      <td>Ксения</td>\n",
       "      <td>Агаева</td>\n",
       "      <td>2018-12-15</td>\n",
       "      <td>ultra</td>\n",
       "    </tr>\n",
       "    <tr>\n",
       "      <th>3215</th>\n",
       "      <td>1371</td>\n",
       "      <td>12.0</td>\n",
       "      <td>0.0</td>\n",
       "      <td>0.0</td>\n",
       "      <td>0.00</td>\n",
       "      <td>50</td>\n",
       "      <td>2018-12-30</td>\n",
       "      <td>Омск</td>\n",
       "      <td>Ириней</td>\n",
       "      <td>Трофимов</td>\n",
       "      <td>2018-12-25</td>\n",
       "      <td>smart</td>\n",
       "    </tr>\n",
       "  </tbody>\n",
       "</table>\n",
       "</div>"
      ],
      "text/plain": [
       "      user_id  month  sum_calls  count_messages  sum_used_mb  age churn_date  \\\n",
       "3211     1489   10.0        0.0            21.0     19559.44   35        NaT   \n",
       "3212     1489   11.0        0.0            20.0     17491.56   35        NaT   \n",
       "3213     1489   12.0        0.0            35.0     17322.51   35        NaT   \n",
       "3214     1128   12.0        0.0             0.0         0.00   51 2018-12-23   \n",
       "3215     1371   12.0        0.0             0.0         0.00   50 2018-12-30   \n",
       "\n",
       "                 city first_name last_name   reg_date tariff  \n",
       "3211  Санкт-Петербург      Павел  Гончаров 2018-08-15  smart  \n",
       "3212  Санкт-Петербург      Павел  Гончаров 2018-08-15  smart  \n",
       "3213  Санкт-Петербург      Павел  Гончаров 2018-08-15  smart  \n",
       "3214         Волжский     Ксения    Агаева 2018-12-15  ultra  \n",
       "3215             Омск     Ириней  Трофимов 2018-12-25  smart  "
      ]
     },
     "execution_count": 5,
     "metadata": {},
     "output_type": "execute_result"
    }
   ],
   "source": [
    "# Обработаем пропуски\n",
    "total_df.loc[total_df['sum_calls'].isna(), 'sum_calls'] = 0\n",
    "total_df.loc[total_df['count_messages'].isna(), 'count_messages'] = 0\n",
    "total_df.loc[total_df['sum_used_mb'].isna(), 'sum_used_mb'] = 0\n",
    "total_df['month'] = total_df['month'].fillna(12)\n",
    "\n",
    "total_df.info()\n",
    "total_df.tail()"
   ]
  },
  {
   "cell_type": "code",
   "execution_count": 6,
   "metadata": {},
   "outputs": [
    {
     "data": {
      "text/html": [
       "<div>\n",
       "<style scoped>\n",
       "    .dataframe tbody tr th:only-of-type {\n",
       "        vertical-align: middle;\n",
       "    }\n",
       "\n",
       "    .dataframe tbody tr th {\n",
       "        vertical-align: top;\n",
       "    }\n",
       "\n",
       "    .dataframe thead th {\n",
       "        text-align: right;\n",
       "    }\n",
       "</style>\n",
       "<table border=\"1\" class=\"dataframe\">\n",
       "  <thead>\n",
       "    <tr style=\"text-align: right;\">\n",
       "      <th></th>\n",
       "      <th>user_id</th>\n",
       "      <th>month</th>\n",
       "      <th>sum_calls</th>\n",
       "      <th>count_messages</th>\n",
       "      <th>sum_used_mb</th>\n",
       "      <th>age</th>\n",
       "      <th>churn_date</th>\n",
       "      <th>city</th>\n",
       "      <th>first_name</th>\n",
       "      <th>last_name</th>\n",
       "      <th>reg_date</th>\n",
       "      <th>tariff</th>\n",
       "      <th>revenue</th>\n",
       "    </tr>\n",
       "  </thead>\n",
       "  <tbody>\n",
       "    <tr>\n",
       "      <th>3206</th>\n",
       "      <td>1473</td>\n",
       "      <td>10.0</td>\n",
       "      <td>0.0</td>\n",
       "      <td>20.0</td>\n",
       "      <td>13688.65</td>\n",
       "      <td>18</td>\n",
       "      <td>NaT</td>\n",
       "      <td>Красноярск</td>\n",
       "      <td>Николай</td>\n",
       "      <td>Лебедев</td>\n",
       "      <td>2018-08-05</td>\n",
       "      <td>ultra</td>\n",
       "      <td>1950</td>\n",
       "    </tr>\n",
       "    <tr>\n",
       "      <th>3207</th>\n",
       "      <td>1473</td>\n",
       "      <td>11.0</td>\n",
       "      <td>0.0</td>\n",
       "      <td>14.0</td>\n",
       "      <td>21673.80</td>\n",
       "      <td>18</td>\n",
       "      <td>NaT</td>\n",
       "      <td>Красноярск</td>\n",
       "      <td>Николай</td>\n",
       "      <td>Лебедев</td>\n",
       "      <td>2018-08-05</td>\n",
       "      <td>ultra</td>\n",
       "      <td>1950</td>\n",
       "    </tr>\n",
       "    <tr>\n",
       "      <th>3208</th>\n",
       "      <td>1473</td>\n",
       "      <td>12.0</td>\n",
       "      <td>0.0</td>\n",
       "      <td>20.0</td>\n",
       "      <td>18418.26</td>\n",
       "      <td>18</td>\n",
       "      <td>NaT</td>\n",
       "      <td>Красноярск</td>\n",
       "      <td>Николай</td>\n",
       "      <td>Лебедев</td>\n",
       "      <td>2018-08-05</td>\n",
       "      <td>ultra</td>\n",
       "      <td>1950</td>\n",
       "    </tr>\n",
       "    <tr>\n",
       "      <th>3209</th>\n",
       "      <td>1489</td>\n",
       "      <td>8.0</td>\n",
       "      <td>0.0</td>\n",
       "      <td>17.0</td>\n",
       "      <td>11050.56</td>\n",
       "      <td>35</td>\n",
       "      <td>NaT</td>\n",
       "      <td>Санкт-Петербург</td>\n",
       "      <td>Павел</td>\n",
       "      <td>Гончаров</td>\n",
       "      <td>2018-08-15</td>\n",
       "      <td>smart</td>\n",
       "      <td>550</td>\n",
       "    </tr>\n",
       "    <tr>\n",
       "      <th>3210</th>\n",
       "      <td>1489</td>\n",
       "      <td>9.0</td>\n",
       "      <td>0.0</td>\n",
       "      <td>32.0</td>\n",
       "      <td>17206.30</td>\n",
       "      <td>35</td>\n",
       "      <td>NaT</td>\n",
       "      <td>Санкт-Петербург</td>\n",
       "      <td>Павел</td>\n",
       "      <td>Гончаров</td>\n",
       "      <td>2018-08-15</td>\n",
       "      <td>smart</td>\n",
       "      <td>950</td>\n",
       "    </tr>\n",
       "    <tr>\n",
       "      <th>3211</th>\n",
       "      <td>1489</td>\n",
       "      <td>10.0</td>\n",
       "      <td>0.0</td>\n",
       "      <td>21.0</td>\n",
       "      <td>19559.44</td>\n",
       "      <td>35</td>\n",
       "      <td>NaT</td>\n",
       "      <td>Санкт-Петербург</td>\n",
       "      <td>Павел</td>\n",
       "      <td>Гончаров</td>\n",
       "      <td>2018-08-15</td>\n",
       "      <td>smart</td>\n",
       "      <td>1550</td>\n",
       "    </tr>\n",
       "    <tr>\n",
       "      <th>3212</th>\n",
       "      <td>1489</td>\n",
       "      <td>11.0</td>\n",
       "      <td>0.0</td>\n",
       "      <td>20.0</td>\n",
       "      <td>17491.56</td>\n",
       "      <td>35</td>\n",
       "      <td>NaT</td>\n",
       "      <td>Санкт-Петербург</td>\n",
       "      <td>Павел</td>\n",
       "      <td>Гончаров</td>\n",
       "      <td>2018-08-15</td>\n",
       "      <td>smart</td>\n",
       "      <td>1150</td>\n",
       "    </tr>\n",
       "    <tr>\n",
       "      <th>3213</th>\n",
       "      <td>1489</td>\n",
       "      <td>12.0</td>\n",
       "      <td>0.0</td>\n",
       "      <td>35.0</td>\n",
       "      <td>17322.51</td>\n",
       "      <td>35</td>\n",
       "      <td>NaT</td>\n",
       "      <td>Санкт-Петербург</td>\n",
       "      <td>Павел</td>\n",
       "      <td>Гончаров</td>\n",
       "      <td>2018-08-15</td>\n",
       "      <td>smart</td>\n",
       "      <td>950</td>\n",
       "    </tr>\n",
       "    <tr>\n",
       "      <th>3214</th>\n",
       "      <td>1128</td>\n",
       "      <td>12.0</td>\n",
       "      <td>0.0</td>\n",
       "      <td>0.0</td>\n",
       "      <td>0.00</td>\n",
       "      <td>51</td>\n",
       "      <td>2018-12-23</td>\n",
       "      <td>Волжский</td>\n",
       "      <td>Ксения</td>\n",
       "      <td>Агаева</td>\n",
       "      <td>2018-12-15</td>\n",
       "      <td>ultra</td>\n",
       "      <td>1950</td>\n",
       "    </tr>\n",
       "    <tr>\n",
       "      <th>3215</th>\n",
       "      <td>1371</td>\n",
       "      <td>12.0</td>\n",
       "      <td>0.0</td>\n",
       "      <td>0.0</td>\n",
       "      <td>0.00</td>\n",
       "      <td>50</td>\n",
       "      <td>2018-12-30</td>\n",
       "      <td>Омск</td>\n",
       "      <td>Ириней</td>\n",
       "      <td>Трофимов</td>\n",
       "      <td>2018-12-25</td>\n",
       "      <td>smart</td>\n",
       "      <td>550</td>\n",
       "    </tr>\n",
       "  </tbody>\n",
       "</table>\n",
       "</div>"
      ],
      "text/plain": [
       "      user_id  month  sum_calls  count_messages  sum_used_mb  age churn_date  \\\n",
       "3206     1473   10.0        0.0            20.0     13688.65   18        NaT   \n",
       "3207     1473   11.0        0.0            14.0     21673.80   18        NaT   \n",
       "3208     1473   12.0        0.0            20.0     18418.26   18        NaT   \n",
       "3209     1489    8.0        0.0            17.0     11050.56   35        NaT   \n",
       "3210     1489    9.0        0.0            32.0     17206.30   35        NaT   \n",
       "3211     1489   10.0        0.0            21.0     19559.44   35        NaT   \n",
       "3212     1489   11.0        0.0            20.0     17491.56   35        NaT   \n",
       "3213     1489   12.0        0.0            35.0     17322.51   35        NaT   \n",
       "3214     1128   12.0        0.0             0.0         0.00   51 2018-12-23   \n",
       "3215     1371   12.0        0.0             0.0         0.00   50 2018-12-30   \n",
       "\n",
       "                 city first_name last_name   reg_date tariff  revenue  \n",
       "3206       Красноярск    Николай   Лебедев 2018-08-05  ultra     1950  \n",
       "3207       Красноярск    Николай   Лебедев 2018-08-05  ultra     1950  \n",
       "3208       Красноярск    Николай   Лебедев 2018-08-05  ultra     1950  \n",
       "3209  Санкт-Петербург      Павел  Гончаров 2018-08-15  smart      550  \n",
       "3210  Санкт-Петербург      Павел  Гончаров 2018-08-15  smart      950  \n",
       "3211  Санкт-Петербург      Павел  Гончаров 2018-08-15  smart     1550  \n",
       "3212  Санкт-Петербург      Павел  Гончаров 2018-08-15  smart     1150  \n",
       "3213  Санкт-Петербург      Павел  Гончаров 2018-08-15  smart      950  \n",
       "3214         Волжский     Ксения    Агаева 2018-12-15  ultra     1950  \n",
       "3215             Омск     Ириней  Трофимов 2018-12-25  smart      550  "
      ]
     },
     "execution_count": 6,
     "metadata": {},
     "output_type": "execute_result"
    }
   ],
   "source": [
    "# вычтите бесплатный лимит из суммарного количества звонков, сообщений и интернет-трафика; остаток умножьте на значение из тарифного плана; прибавьте абонентскую плату, соответствующую тарифному плану\n",
    "\n",
    "def monthly_revenue(row):\n",
    "    messages = row['count_messages']\n",
    "    mb = row['sum_used_mb']\n",
    "    tariff = row['tariff']\n",
    "    calls = row['sum_calls']\n",
    "    \n",
    "    # Для тарифа смарт из таблицы tariffs. Интернет округлим до ГБ\n",
    "    if tariff == 'smart':\n",
    "        over_calls = calls - tariffs.loc[0, 'minutes_included']\n",
    "        over_gb = np.ceil((mb - tariffs.loc[0, 'mb_per_month_included'])/1024)\n",
    "        over_messages = messages - tariffs.loc[0, 'messages_included']\n",
    "        \n",
    "        if over_calls < 0: \n",
    "            over_calls = 0\n",
    "        if over_gb < 0: \n",
    "            over_gb = 0\n",
    "        if over_messages < 0: \n",
    "            over_messages = 0\n",
    "        \n",
    "        return (tariffs.loc[0, 'rub_per_message'] * over_messages + \n",
    "                   tariffs.loc[0, 'rub_per_gb'] * over_gb + \n",
    "                   tariffs.loc[0, 'rub_per_minute'] * over_calls + \n",
    "                   tariffs.loc[0, 'rub_monthly_fee']\n",
    "                  ) \n",
    "    else:\n",
    "        over_calls = calls - tariffs.loc[1, 'minutes_included']        # Рассчет для второго тарифа\n",
    "        over_gb = np.ceil((mb - tariffs.loc[1, 'mb_per_month_included'])/1024)  # Округляем в ГБ в сторону увеличения\n",
    "        over_messages = messages - tariffs.loc[1, 'messages_included']\n",
    "        \n",
    "        if over_calls < 0: \n",
    "            over_calls = 0\n",
    "        if over_gb < 0: \n",
    "            over_gb = 0\n",
    "        if over_messages < 0: \n",
    "            over_messages = 0\n",
    "        \n",
    "        return (tariffs.loc[1, 'rub_per_message'] * over_messages + \n",
    "                   tariffs.loc[1, 'rub_per_gb'] * over_gb + \n",
    "                   tariffs.loc[1, 'rub_per_minute'] * over_calls + \n",
    "                   tariffs.loc[1, 'rub_monthly_fee']\n",
    "                  )\n",
    "\n",
    "total_df['revenue'] = total_df.apply(monthly_revenue, axis=1).astype(int)  # Округлим значения\n",
    "total_df.tail(10)"
   ]
  },
  {
   "cell_type": "code",
   "execution_count": 7,
   "metadata": {},
   "outputs": [
    {
     "data": {
      "text/html": [
       "<div>\n",
       "<style scoped>\n",
       "    .dataframe tbody tr th:only-of-type {\n",
       "        vertical-align: middle;\n",
       "    }\n",
       "\n",
       "    .dataframe tbody tr th {\n",
       "        vertical-align: top;\n",
       "    }\n",
       "\n",
       "    .dataframe thead th {\n",
       "        text-align: right;\n",
       "    }\n",
       "</style>\n",
       "<table border=\"1\" class=\"dataframe\">\n",
       "  <thead>\n",
       "    <tr style=\"text-align: right;\">\n",
       "      <th></th>\n",
       "      <th>messages_included</th>\n",
       "      <th>mb_per_month_included</th>\n",
       "      <th>minutes_included</th>\n",
       "      <th>rub_monthly_fee</th>\n",
       "      <th>rub_per_gb</th>\n",
       "      <th>rub_per_message</th>\n",
       "      <th>rub_per_minute</th>\n",
       "      <th>tariff_name</th>\n",
       "    </tr>\n",
       "  </thead>\n",
       "  <tbody>\n",
       "    <tr>\n",
       "      <th>0</th>\n",
       "      <td>50</td>\n",
       "      <td>15360</td>\n",
       "      <td>500</td>\n",
       "      <td>550</td>\n",
       "      <td>200</td>\n",
       "      <td>3</td>\n",
       "      <td>3</td>\n",
       "      <td>smart</td>\n",
       "    </tr>\n",
       "    <tr>\n",
       "      <th>1</th>\n",
       "      <td>1000</td>\n",
       "      <td>30720</td>\n",
       "      <td>3000</td>\n",
       "      <td>1950</td>\n",
       "      <td>150</td>\n",
       "      <td>1</td>\n",
       "      <td>1</td>\n",
       "      <td>ultra</td>\n",
       "    </tr>\n",
       "  </tbody>\n",
       "</table>\n",
       "</div>"
      ],
      "text/plain": [
       "   messages_included  mb_per_month_included  minutes_included  \\\n",
       "0                 50                  15360               500   \n",
       "1               1000                  30720              3000   \n",
       "\n",
       "   rub_monthly_fee  rub_per_gb  rub_per_message  rub_per_minute tariff_name  \n",
       "0              550         200                3               3       smart  \n",
       "1             1950         150                1               1       ultra  "
      ]
     },
     "execution_count": 7,
     "metadata": {},
     "output_type": "execute_result"
    }
   ],
   "source": [
    "# Посмотрим таблицу тарифов. \n",
    "tariffs"
   ]
  },
  {
   "cell_type": "markdown",
   "metadata": {},
   "source": [
    "## Шаг 3. Проанализируйте данные\n",
    "Опишите поведение клиентов оператора, исходя из выборки. Сколько минут разговора, сколько сообщений и какой объём интернет-трафика требуется пользователям каждого тарифа в месяц? Посчитайте среднее количество, дисперсию и стандартное отклонение. Постройте гистограммы. Опишите распределения."
   ]
  },
  {
   "cell_type": "code",
   "execution_count": 8,
   "metadata": {},
   "outputs": [
    {
     "data": {
      "text/html": [
       "<div>\n",
       "<style scoped>\n",
       "    .dataframe tbody tr th:only-of-type {\n",
       "        vertical-align: middle;\n",
       "    }\n",
       "\n",
       "    .dataframe tbody tr th {\n",
       "        vertical-align: top;\n",
       "    }\n",
       "\n",
       "    .dataframe thead th {\n",
       "        text-align: right;\n",
       "    }\n",
       "</style>\n",
       "<table border=\"1\" class=\"dataframe\">\n",
       "  <thead>\n",
       "    <tr style=\"text-align: right;\">\n",
       "      <th></th>\n",
       "      <th>count_messages</th>\n",
       "      <th>revenue</th>\n",
       "      <th>sum_calls</th>\n",
       "      <th>sum_used_mb</th>\n",
       "      <th>tariff</th>\n",
       "    </tr>\n",
       "    <tr>\n",
       "      <th>user_id</th>\n",
       "      <th></th>\n",
       "      <th></th>\n",
       "      <th></th>\n",
       "      <th></th>\n",
       "      <th></th>\n",
       "    </tr>\n",
       "  </thead>\n",
       "  <tbody>\n",
       "    <tr>\n",
       "      <th>1000</th>\n",
       "      <td>62.0</td>\n",
       "      <td>1950.000000</td>\n",
       "      <td>320.750000</td>\n",
       "      <td>13424.038750</td>\n",
       "      <td>ultra</td>\n",
       "    </tr>\n",
       "    <tr>\n",
       "      <th>1001</th>\n",
       "      <td>0.0</td>\n",
       "      <td>850.000000</td>\n",
       "      <td>422.000000</td>\n",
       "      <td>16233.000000</td>\n",
       "      <td>smart</td>\n",
       "    </tr>\n",
       "    <tr>\n",
       "      <th>1002</th>\n",
       "      <td>10.0</td>\n",
       "      <td>1035.714286</td>\n",
       "      <td>216.714286</td>\n",
       "      <td>16576.645714</td>\n",
       "      <td>smart</td>\n",
       "    </tr>\n",
       "    <tr>\n",
       "      <th>1003</th>\n",
       "      <td>76.0</td>\n",
       "      <td>1950.000000</td>\n",
       "      <td>764.400000</td>\n",
       "      <td>11456.128000</td>\n",
       "      <td>ultra</td>\n",
       "    </tr>\n",
       "    <tr>\n",
       "      <th>1004</th>\n",
       "      <td>149.0</td>\n",
       "      <td>1950.000000</td>\n",
       "      <td>123.375000</td>\n",
       "      <td>18629.935000</td>\n",
       "      <td>ultra</td>\n",
       "    </tr>\n",
       "  </tbody>\n",
       "</table>\n",
       "</div>"
      ],
      "text/plain": [
       "         count_messages      revenue   sum_calls   sum_used_mb tariff\n",
       "user_id                                                              \n",
       "1000               62.0  1950.000000  320.750000  13424.038750  ultra\n",
       "1001                0.0   850.000000  422.000000  16233.000000  smart\n",
       "1002               10.0  1035.714286  216.714286  16576.645714  smart\n",
       "1003               76.0  1950.000000  764.400000  11456.128000  ultra\n",
       "1004              149.0  1950.000000  123.375000  18629.935000  ultra"
      ]
     },
     "execution_count": 8,
     "metadata": {},
     "output_type": "execute_result"
    }
   ],
   "source": [
    "# Посчитаем, сколько в среднем каждому пользователю требуется минут, сообщений и мегабайт в месяц\n",
    "means = (\n",
    "    total_df\n",
    "    .pivot_table(index='user_id', values=['sum_calls', 'count_messages', 'sum_used_mb', 'revenue'])\n",
    ")\n",
    "for user_id in users['user_id']:\n",
    "    means.loc[user_id, 'tariff'] = users.loc[user_id-1000, 'tariff']\n",
    "means.head()"
   ]
  },
  {
   "cell_type": "code",
   "execution_count": 9,
   "metadata": {},
   "outputs": [
    {
     "data": {
      "text/html": [
       "<div>\n",
       "<style scoped>\n",
       "    .dataframe tbody tr th:only-of-type {\n",
       "        vertical-align: middle;\n",
       "    }\n",
       "\n",
       "    .dataframe tbody tr th {\n",
       "        vertical-align: top;\n",
       "    }\n",
       "\n",
       "    .dataframe thead tr th {\n",
       "        text-align: left;\n",
       "    }\n",
       "\n",
       "    .dataframe thead tr:last-of-type th {\n",
       "        text-align: right;\n",
       "    }\n",
       "</style>\n",
       "<table border=\"1\" class=\"dataframe\">\n",
       "  <thead>\n",
       "    <tr>\n",
       "      <th></th>\n",
       "      <th colspan=\"3\" halign=\"left\">mean</th>\n",
       "      <th colspan=\"3\" halign=\"left\">var</th>\n",
       "      <th colspan=\"3\" halign=\"left\">std</th>\n",
       "    </tr>\n",
       "    <tr>\n",
       "      <th></th>\n",
       "      <th>count_messages</th>\n",
       "      <th>sum_calls</th>\n",
       "      <th>sum_used_mb</th>\n",
       "      <th>count_messages</th>\n",
       "      <th>sum_calls</th>\n",
       "      <th>sum_used_mb</th>\n",
       "      <th>count_messages</th>\n",
       "      <th>sum_calls</th>\n",
       "      <th>sum_used_mb</th>\n",
       "    </tr>\n",
       "    <tr>\n",
       "      <th>tariff</th>\n",
       "      <th></th>\n",
       "      <th></th>\n",
       "      <th></th>\n",
       "      <th></th>\n",
       "      <th></th>\n",
       "      <th></th>\n",
       "      <th></th>\n",
       "      <th></th>\n",
       "      <th></th>\n",
       "    </tr>\n",
       "  </thead>\n",
       "  <tbody>\n",
       "    <tr>\n",
       "      <th>smart</th>\n",
       "      <td>33.369058</td>\n",
       "      <td>417.747534</td>\n",
       "      <td>16201.118655</td>\n",
       "      <td>796.955256</td>\n",
       "      <td>36281.393836</td>\n",
       "      <td>3.456484e+07</td>\n",
       "      <td>28.230396</td>\n",
       "      <td>190.476754</td>\n",
       "      <td>5879.187315</td>\n",
       "    </tr>\n",
       "    <tr>\n",
       "      <th>ultra</th>\n",
       "      <td>49.313387</td>\n",
       "      <td>526.089249</td>\n",
       "      <td>19449.059970</td>\n",
       "      <td>2285.417425</td>\n",
       "      <td>101052.493549</td>\n",
       "      <td>1.020321e+08</td>\n",
       "      <td>47.806040</td>\n",
       "      <td>317.887549</td>\n",
       "      <td>10101.095459</td>\n",
       "    </tr>\n",
       "  </tbody>\n",
       "</table>\n",
       "</div>"
      ],
      "text/plain": [
       "                 mean                                      var                 \\\n",
       "       count_messages   sum_calls   sum_used_mb count_messages      sum_calls   \n",
       "tariff                                                                          \n",
       "smart       33.369058  417.747534  16201.118655     796.955256   36281.393836   \n",
       "ultra       49.313387  526.089249  19449.059970    2285.417425  101052.493549   \n",
       "\n",
       "                                std                            \n",
       "         sum_used_mb count_messages   sum_calls   sum_used_mb  \n",
       "tariff                                                         \n",
       "smart   3.456484e+07      28.230396  190.476754   5879.187315  \n",
       "ultra   1.020321e+08      47.806040  317.887549  10101.095459  "
      ]
     },
     "execution_count": 9,
     "metadata": {},
     "output_type": "execute_result"
    }
   ],
   "source": [
    "# Найдем среднее, стандартное отклонение и дисперсию:\n",
    "total_df.pivot_table(index='tariff', values=['sum_calls', 'count_messages', 'sum_used_mb'], aggfunc=['mean', 'var', 'std'])"
   ]
  },
  {
   "cell_type": "code",
   "execution_count": 10,
   "metadata": {},
   "outputs": [
    {
     "data": {
      "text/plain": [
       "<matplotlib.legend.Legend at 0x7f9ac2041280>"
      ]
     },
     "execution_count": 10,
     "metadata": {},
     "output_type": "execute_result"
    },
    {
     "data": {
      "image/png": "[encoded data removed]",
      "text/plain": [
       "<Figure size 432x288 with 1 Axes>"
      ]
     },
     "metadata": {
      "needs_background": "light"
     },
     "output_type": "display_data"
    }
   ],
   "source": [
    "# Построим гистограммы - общее сравнение по тарифам. \n",
    "import seaborn as sns\n",
    "\n",
    "sns.histplot(data=total_df, x='sum_calls', hue='tariff').set(title='Количество минут разговора')\n",
    "plt.legend(['ultra', 'smart'])"
   ]
  },
  {
   "cell_type": "code",
   "execution_count": 11,
   "metadata": {
    "scrolled": true
   },
   "outputs": [
    {
     "data": {
      "text/plain": [
       "<matplotlib.legend.Legend at 0x7f9ac30e00a0>"
      ]
     },
     "execution_count": 11,
     "metadata": {},
     "output_type": "execute_result"
    },
    {
     "data": {
      "image/png": "[encoded data removed]",
      "text/plain": [
       "<Figure size 432x288 with 1 Axes>"
      ]
     },
     "metadata": {
      "needs_background": "light"
     },
     "output_type": "display_data"
    }
   ],
   "source": [
    "sns.histplot(data=total_df, x='count_messages', hue='tariff').set(title='Количество сообщений')\n",
    "plt.legend(['ultra', 'smart'])"
   ]
  },
  {
   "cell_type": "code",
   "execution_count": 12,
   "metadata": {
    "scrolled": false
   },
   "outputs": [
    {
     "data": {
      "text/plain": [
       "<matplotlib.legend.Legend at 0x7f9ac2041a60>"
      ]
     },
     "execution_count": 12,
     "metadata": {},
     "output_type": "execute_result"
    },
    {
     "data": {
      "image/png": "[encoded data removed]",
      "text/plain": [
       "<Figure size 432x288 with 1 Axes>"
      ]
     },
     "metadata": {
      "needs_background": "light"
     },
     "output_type": "display_data"
    }
   ],
   "source": [
    "sns.histplot(data=total_df, x='sum_used_mb', hue='tariff').set(title='Количество интернет-трафика')\n",
    "plt.legend(['ultra', 'smart'])"
   ]
  },
  {
   "cell_type": "markdown",
   "metadata": {},
   "source": [
    "По тарифу смарт средние значения размазаны, в отличие от ультра, где есть пики. График сообщений имеет смещение моды и медианы влево от среднего."
   ]
  },
  {
   "cell_type": "markdown",
   "metadata": {
    "scrolled": true
   },
   "source": [
    "### Вывод\n",
    "По тарифу смарт включено 500 минут разговора, 50 сообщений и 15 Гб интернет-трафика. \n",
    "По тарифу ультра включено 3000 минут разговора, 1000 сообщений и 30 Гб интернет-трафика.\n",
    "\n",
    "- Гистограммы тарифа смарт широкие, пользователям не хватает пакета тарифа. Они переплачивают за минуты, смс и интернет.\n",
    "- В то время, как тариф ультра имеет характерные пики. Количество минут тарифа ультра 500-600 - уходит большинству пользователям в месяц. Никто не наговаривает на 3000, максимальное количество 1750.\n",
    "- Гистограммы сообщений смещены влево. По тарифу ультра максимальное количество укладывается до 50 смс в месяц. Тариф смарт размазан до 100 смс/месяц.\n",
    "- Интернет-трафика не хватает обоим тарифам. Сильнее страдают пользователи тарифа смарт, где ГБ дороже, а нужно им около 30000 мб. По средним показателям, смарт-пользователям нужно больше 16000 мб"
   ]
  },
  {
   "cell_type": "markdown",
   "metadata": {},
   "source": [
    "## Шаг 4. Проверьте гипотезы\n",
    "1) средняя выручка пользователей тарифов «Ультра» и «Смарт» различаются; \n",
    "2) средняя выручка пользователей из Москвы отличается от выручки пользователей из других регионов. \n",
    "Пороговое значение alpha задайте самостоятельно.\n",
    "### Поясните:\n",
    "- как вы формулировали нулевую и альтернативную гипотезы;\n",
    "- какой критерий использовали для проверки гипотез и почему.\n",
    "\n",
    "#### Сформулируем нулевую гипотезу:\n",
    "Первая гипотеза- средняя выручка пользователей тарифов «Ультра» и «Смарт» равна. И вторая гипотеза- средняя выручка пользователей из Москвы равна выручке пользователей из других регионов. \n",
    "#### Альтернативная гипотеза:\n",
    "Вторая гипотеза -средняя выручка пользователей тарифов «Ультра» и «Смарт» не равна. И вторая гипотеза - средняя выручка пользователей из Москвы не равна выручке пользователей из других регионов. "
   ]
  },
  {
   "cell_type": "code",
   "execution_count": 13,
   "metadata": {},
   "outputs": [
    {
     "name": "stderr",
     "output_type": "stream",
     "text": [
      "/opt/conda/lib/python3.9/site-packages/seaborn/distributions.py:2557: FutureWarning: `distplot` is a deprecated function and will be removed in a future version. Please adapt your code to use either `displot` (a figure-level function with similar flexibility) or `histplot` (an axes-level function for histograms).\n",
      "  warnings.warn(msg, FutureWarning)\n",
      "/opt/conda/lib/python3.9/site-packages/seaborn/distributions.py:2557: FutureWarning: `distplot` is a deprecated function and will be removed in a future version. Please adapt your code to use either `displot` (a figure-level function with similar flexibility) or `histplot` (an axes-level function for histograms).\n",
      "  warnings.warn(msg, FutureWarning)\n"
     ]
    },
    {
     "data": {
      "text/plain": [
       "<AxesSubplot:xlabel='revenue', ylabel='Density'>"
      ]
     },
     "execution_count": 13,
     "metadata": {},
     "output_type": "execute_result"
    },
    {
     "data": {
      "image/png": "[encoded data removed]",
      "text/plain": [
       "<Figure size 432x288 with 1 Axes>"
      ]
     },
     "metadata": {
      "needs_background": "light"
     },
     "output_type": "display_data"
    }
   ],
   "source": [
    "# Cтатистический анализ выборок двух генеральных совокупностей на проверку средней выручки по тарифам. \n",
    "# Поскольку вычесленные дисперсии разные, генеральные совокупности не зависят друг от друга и \n",
    "# выборочные средние должны быть нормально распределены. Посмотрим на графике.\n",
    "ultra = total_df.query('tariff == \"ultra\"')['revenue']\n",
    "smart = total_df.query('tariff == \"smart\"')['revenue']\n",
    "sns.distplot(ultra, bins= 30)\n",
    "sns.distplot(smart, bins= 30)"
   ]
  },
  {
   "cell_type": "code",
   "execution_count": 14,
   "metadata": {},
   "outputs": [
    {
     "name": "stdout",
     "output_type": "stream",
     "text": [
      "p-значение:  1.927011394420941e-250\n",
      "Отвергаем нулевую гипотезу\n"
     ]
    }
   ],
   "source": [
    "# Для проверки статистической гипотезы использовала критерий значимости (альфа) равный 5%. \n",
    "# Даже если бы поставила минимальную 1%, все равно бы отвергли нулевую гипотезу.\n",
    "alpha= 0.05\n",
    "results = st.ttest_ind(\n",
    "    smart, \n",
    "    ultra, \n",
    "    equal_var=False\n",
    ")\n",
    "print('p-значение: ', results.pvalue)\n",
    "\n",
    "if results.pvalue < alpha:\n",
    "    print(\"Отвергаем нулевую гипотезу\")\n",
    "else:\n",
    "    print(\"Не получилось отвергнуть нулевую гипотезу\")"
   ]
  },
  {
   "cell_type": "code",
   "execution_count": 15,
   "metadata": {},
   "outputs": [
    {
     "name": "stdout",
     "output_type": "stream",
     "text": [
      "р-значение:  0.5216952110000279\n",
      "Не получилось отвергнуть нулевую гипотезу\n"
     ]
    }
   ],
   "source": [
    "# Проверим вторую гипотезу. Нулевая гипотеза гласит: средняя выручка пользователей из Москвы равна выручке пользователей из других регионов. \n",
    "total_df_moscow = total_df.query('city == \"Москва\"').reset_index(drop=True)\n",
    "total_df_cities = total_df.query('city != \"Москва\"').reset_index(drop=True)\n",
    "alpha= 0.05\n",
    "results = st.ttest_ind(\n",
    "    total_df_moscow['revenue'],\n",
    "    total_df_cities['revenue'],\n",
    "    equal_var=False\n",
    ")\n",
    "print('р-значение: ', results.pvalue)\n",
    "\n",
    "if results.pvalue < alpha:\n",
    "    print('Отвергаем нулевую гипотезу')\n",
    "else:\n",
    "    print('Не получилось отвергнуть нулевую гипотезу')"
   ]
  },
  {
   "cell_type": "code",
   "execution_count": 16,
   "metadata": {
    "scrolled": false
   },
   "outputs": [
    {
     "name": "stdout",
     "output_type": "stream",
     "text": [
      "<class 'pandas.core.frame.DataFrame'>\n",
      "RangeIndex: 611 entries, 0 to 610\n",
      "Data columns (total 13 columns):\n",
      " #   Column          Non-Null Count  Dtype         \n",
      "---  ------          --------------  -----         \n",
      " 0   user_id         611 non-null    int64         \n",
      " 1   month           611 non-null    float64       \n",
      " 2   sum_calls       611 non-null    float64       \n",
      " 3   count_messages  611 non-null    float64       \n",
      " 4   sum_used_mb     611 non-null    float64       \n",
      " 5   age             611 non-null    int64         \n",
      " 6   churn_date      41 non-null     datetime64[ns]\n",
      " 7   city            611 non-null    object        \n",
      " 8   first_name      611 non-null    object        \n",
      " 9   last_name       611 non-null    object        \n",
      " 10  reg_date        611 non-null    datetime64[ns]\n",
      " 11  tariff          611 non-null    object        \n",
      " 12  revenue         611 non-null    int64         \n",
      "dtypes: datetime64[ns](2), float64(4), int64(3), object(4)\n",
      "memory usage: 62.2+ KB\n",
      "<class 'pandas.core.frame.DataFrame'>\n",
      "RangeIndex: 2605 entries, 0 to 2604\n",
      "Data columns (total 13 columns):\n",
      " #   Column          Non-Null Count  Dtype         \n",
      "---  ------          --------------  -----         \n",
      " 0   user_id         2605 non-null   int64         \n",
      " 1   month           2605 non-null   float64       \n",
      " 2   sum_calls       2605 non-null   float64       \n",
      " 3   count_messages  2605 non-null   float64       \n",
      " 4   sum_used_mb     2605 non-null   float64       \n",
      " 5   age             2605 non-null   int64         \n",
      " 6   churn_date      148 non-null    datetime64[ns]\n",
      " 7   city            2605 non-null   object        \n",
      " 8   first_name      2605 non-null   object        \n",
      " 9   last_name       2605 non-null   object        \n",
      " 10  reg_date        2605 non-null   datetime64[ns]\n",
      " 11  tariff          2605 non-null   object        \n",
      " 12  revenue         2605 non-null   int64         \n",
      "dtypes: datetime64[ns](2), float64(4), int64(3), object(4)\n",
      "memory usage: 264.7+ KB\n"
     ]
    }
   ],
   "source": [
    "# Выборки генеральных совокупностей не зависят друг от друга и имеют разный размер 611 и 2605. \n",
    "# Поэтому будем счиатать, что дисперсии не равны (equal_var=False).\n",
    "total_df_moscow.info()\n",
    "total_df_cities.info()"
   ]
  },
  {
   "cell_type": "markdown",
   "metadata": {},
   "source": [
    "### Вывод.\n",
    "Первую нулевую гипотезу отвергаем. Вторую нулевую гипотезу не получилось отвергнуть."
   ]
  },
  {
   "cell_type": "markdown",
   "metadata": {},
   "source": [
    "## Общий вывод\n",
    "Данные таблицах отредактированы. Пропусков и дубликатов нет.\n",
    "\n",
    "Данные приведены в нужный формат: тип object в датах, мегабайты в гигабайты, разбиты по месяцам.\n",
    "\n",
    "Собраны сводные таблицы по звонкам, сообщениям и гигабайтам по месяцам. Объединили их в одну с таблицей пользователей. \n",
    "Вычислили помесячную выручку с помощью цикла.\n",
    "\n",
    "Отдельно по каждому тарифу проанализировала звонки, сообщения и интернет-трафик по месяцам. Все они нормально распределены. График сообщений смещен влево- медиана будет меньше среднего. \n",
    "\n",
    "По тарифу смарт идет превышение по всем показателям в месяц. По тарифу ультра- звонки и сообщения не используются в полном объеме, в то время как интернет-трафика не хватает.\n",
    "\n",
    "<b>Тариф ультра приносит больше денег. Но он не используется в своем максимуме. Тариф смарт имеет небольшой объем единиц и людям его не хватает, переплачивают. Здесь нет лучшего тарифа для людей. Есть выгодный для бизнеса.\n",
    "    Есть предложение нового тарифа- с интернетом в 30 гб, звонками- 600 звонков, 150 сообщений.\n",
    "\n",
    "Проверены гипотезы. \n",
    "- Средняя выручка пользователей тарифов «Ультра» и «Смарт» не равна.\n",
    "- Средняя выручка пользователей из Москвы равна выручке пользователей из других регионов. "
   ]
  },
  {
   "cell_type": "code",
   "execution_count": null,
   "metadata": {},
   "outputs": [],
   "source": []
  }
 ],
 "metadata": {
  "ExecuteTimeLog": [
   {
    "duration": 1691,
    "start_time": "2022-03-12T11:01:52.280Z"
   },
   {
    "duration": 200,
    "start_time": "2022-03-12T11:01:53.987Z"
   },
   {
    "duration": 120,
    "start_time": "2022-03-12T11:01:54.190Z"
   },
   {
    "duration": 55,
    "start_time": "2022-03-12T11:01:54.313Z"
   },
   {
    "duration": 297,
    "start_time": "2022-03-12T11:01:54.371Z"
   },
   {
    "duration": 1302,
    "start_time": "2022-03-12T11:01:54.670Z"
   },
   {
    "duration": 695,
    "start_time": "2022-03-12T11:01:55.975Z"
   },
   {
    "duration": 371,
    "start_time": "2022-03-12T11:13:39.444Z"
   },
   {
    "duration": 1711,
    "start_time": "2022-03-12T11:14:36.151Z"
   },
   {
    "duration": 210,
    "start_time": "2022-03-12T11:14:37.865Z"
   },
   {
    "duration": 123,
    "start_time": "2022-03-12T11:14:38.077Z"
   },
   {
    "duration": 53,
    "start_time": "2022-03-12T11:14:38.202Z"
   },
   {
    "duration": 293,
    "start_time": "2022-03-12T11:14:38.257Z"
   },
   {
    "duration": 1274,
    "start_time": "2022-03-12T11:14:38.553Z"
   },
   {
    "duration": 678,
    "start_time": "2022-03-12T11:14:39.829Z"
   },
   {
    "duration": 371,
    "start_time": "2022-03-12T11:14:40.510Z"
   },
   {
    "duration": 11,
    "start_time": "2022-03-12T11:17:21.538Z"
   },
   {
    "duration": 12,
    "start_time": "2022-03-12T11:17:39.755Z"
   },
   {
    "duration": 44,
    "start_time": "2022-03-12T11:27:46.837Z"
   },
   {
    "duration": 45,
    "start_time": "2022-03-12T11:29:01.586Z"
   },
   {
    "duration": 48,
    "start_time": "2022-03-12T11:29:10.798Z"
   },
   {
    "duration": 51,
    "start_time": "2022-03-12T11:29:26.741Z"
   },
   {
    "duration": 43,
    "start_time": "2022-03-12T11:29:40.466Z"
   },
   {
    "duration": 65,
    "start_time": "2022-03-12T11:29:48.907Z"
   },
   {
    "duration": 50,
    "start_time": "2022-03-12T11:29:59.009Z"
   },
   {
    "duration": 48,
    "start_time": "2022-03-12T11:30:16.775Z"
   },
   {
    "duration": 58,
    "start_time": "2022-03-12T11:30:48.775Z"
   },
   {
    "duration": 63,
    "start_time": "2022-03-12T11:31:19.347Z"
   },
   {
    "duration": 1581,
    "start_time": "2022-03-12T11:34:09.049Z"
   },
   {
    "duration": 1711,
    "start_time": "2022-03-12T11:34:24.615Z"
   },
   {
    "duration": 1762,
    "start_time": "2022-03-12T11:34:36.459Z"
   },
   {
    "duration": 2293,
    "start_time": "2022-03-12T11:34:57.138Z"
   },
   {
    "duration": 1687,
    "start_time": "2022-03-12T11:35:05.743Z"
   },
   {
    "duration": 1707,
    "start_time": "2022-03-12T11:35:15.057Z"
   },
   {
    "duration": 2589,
    "start_time": "2022-03-12T11:35:32.540Z"
   },
   {
    "duration": 1444,
    "start_time": "2022-03-12T11:35:46.403Z"
   },
   {
    "duration": 1504,
    "start_time": "2022-03-12T11:36:09.475Z"
   },
   {
    "duration": 1289,
    "start_time": "2022-03-12T11:36:23.476Z"
   },
   {
    "duration": 46,
    "start_time": "2022-03-12T11:37:53.453Z"
   },
   {
    "duration": 1600,
    "start_time": "2022-03-12T11:40:09.965Z"
   },
   {
    "duration": 293,
    "start_time": "2022-03-12T11:42:11.566Z"
   },
   {
    "duration": 731,
    "start_time": "2022-03-12T11:44:53.483Z"
   },
   {
    "duration": 745,
    "start_time": "2022-03-12T11:45:45.477Z"
   },
   {
    "duration": 1724,
    "start_time": "2022-03-12T11:45:58.865Z"
   },
   {
    "duration": 202,
    "start_time": "2022-03-12T11:46:00.591Z"
   },
   {
    "duration": 126,
    "start_time": "2022-03-12T11:46:00.796Z"
   },
   {
    "duration": 70,
    "start_time": "2022-03-12T11:46:00.925Z"
   },
   {
    "duration": 294,
    "start_time": "2022-03-12T11:46:00.998Z"
   },
   {
    "duration": 908,
    "start_time": "2022-03-12T11:46:01.295Z"
   },
   {
    "duration": 549,
    "start_time": "2022-03-12T11:46:01.657Z"
   },
   {
    "duration": 549,
    "start_time": "2022-03-12T11:46:01.658Z"
   },
   {
    "duration": 550,
    "start_time": "2022-03-12T11:46:01.659Z"
   },
   {
    "duration": 1356,
    "start_time": "2022-03-12T11:47:10.260Z"
   },
   {
    "duration": 1423,
    "start_time": "2022-03-12T11:47:29.648Z"
   },
   {
    "duration": 104,
    "start_time": "2022-03-12T11:49:28.128Z"
   },
   {
    "duration": 88,
    "start_time": "2022-03-12T11:49:35.729Z"
   },
   {
    "duration": 1324,
    "start_time": "2022-03-12T11:50:21.708Z"
   },
   {
    "duration": 47,
    "start_time": "2022-03-12T11:50:26.426Z"
   },
   {
    "duration": 46,
    "start_time": "2022-03-12T11:51:11.873Z"
   },
   {
    "duration": 1885,
    "start_time": "2022-03-12T11:53:16.074Z"
   },
   {
    "duration": 350,
    "start_time": "2022-03-12T11:53:24.654Z"
   },
   {
    "duration": 47,
    "start_time": "2022-03-12T11:53:49.653Z"
   },
   {
    "duration": 1521,
    "start_time": "2022-03-12T11:55:46.989Z"
   },
   {
    "duration": 1475,
    "start_time": "2022-03-12T11:56:31.991Z"
   },
   {
    "duration": 1606,
    "start_time": "2022-03-12T13:46:22.705Z"
   },
   {
    "duration": 1475,
    "start_time": "2022-03-12T13:47:08.072Z"
   },
   {
    "duration": 2485,
    "start_time": "2022-03-12T13:47:32.537Z"
   },
   {
    "duration": 4419,
    "start_time": "2022-03-12T13:49:02.256Z"
   },
   {
    "duration": 2711,
    "start_time": "2022-03-12T13:49:25.488Z"
   },
   {
    "duration": 3037,
    "start_time": "2022-03-12T13:49:37.712Z"
   },
   {
    "duration": 928,
    "start_time": "2022-03-12T13:53:19.977Z"
   },
   {
    "duration": 322,
    "start_time": "2022-03-12T13:54:36.357Z"
   },
   {
    "duration": 1773,
    "start_time": "2022-03-12T13:54:53.536Z"
   },
   {
    "duration": 199,
    "start_time": "2022-03-12T13:54:55.311Z"
   },
   {
    "duration": 132,
    "start_time": "2022-03-12T13:54:55.514Z"
   },
   {
    "duration": 74,
    "start_time": "2022-03-12T13:54:55.649Z"
   },
   {
    "duration": 311,
    "start_time": "2022-03-12T13:54:55.726Z"
   },
   {
    "duration": 388,
    "start_time": "2022-03-12T13:54:56.040Z"
   },
   {
    "duration": 603,
    "start_time": "2022-03-12T13:54:55.828Z"
   },
   {
    "duration": 603,
    "start_time": "2022-03-12T13:54:55.830Z"
   },
   {
    "duration": 599,
    "start_time": "2022-03-12T13:54:55.836Z"
   },
   {
    "duration": 411,
    "start_time": "2022-03-12T13:55:13.763Z"
   },
   {
    "duration": 46,
    "start_time": "2022-03-12T13:55:17.355Z"
   },
   {
    "duration": 342,
    "start_time": "2022-03-12T13:55:26.938Z"
   },
   {
    "duration": 866,
    "start_time": "2022-03-12T13:55:49.276Z"
   },
   {
    "duration": 298,
    "start_time": "2022-03-12T13:55:57.359Z"
   },
   {
    "duration": 299,
    "start_time": "2022-03-12T13:56:19.681Z"
   },
   {
    "duration": 337,
    "start_time": "2022-03-12T13:56:33.313Z"
   },
   {
    "duration": 370,
    "start_time": "2022-03-12T13:57:09.533Z"
   },
   {
    "duration": 667,
    "start_time": "2022-03-12T13:58:04.647Z"
   },
   {
    "duration": 617,
    "start_time": "2022-03-12T13:58:32.103Z"
   },
   {
    "duration": 652,
    "start_time": "2022-03-12T13:58:52.012Z"
   },
   {
    "duration": 774,
    "start_time": "2022-03-12T13:59:00.352Z"
   },
   {
    "duration": 848,
    "start_time": "2022-03-12T13:59:06.883Z"
   },
   {
    "duration": 930,
    "start_time": "2022-03-12T14:00:46.728Z"
   },
   {
    "duration": 2609,
    "start_time": "2022-03-12T14:01:21.246Z"
   },
   {
    "duration": 2701,
    "start_time": "2022-03-12T14:01:39.918Z"
   },
   {
    "duration": 5304,
    "start_time": "2022-03-12T14:02:37.583Z"
   },
   {
    "duration": 6153,
    "start_time": "2022-03-12T14:03:07.698Z"
   },
   {
    "duration": 5388,
    "start_time": "2022-03-12T14:03:30.320Z"
   },
   {
    "duration": 5546,
    "start_time": "2022-03-12T14:07:32.705Z"
   },
   {
    "duration": 1412,
    "start_time": "2022-03-12T14:08:18.631Z"
   },
   {
    "duration": 5616,
    "start_time": "2022-03-12T14:11:50.193Z"
   },
   {
    "duration": 5746,
    "start_time": "2022-03-12T14:12:03.308Z"
   },
   {
    "duration": 213,
    "start_time": "2022-03-12T15:42:15.777Z"
   },
   {
    "duration": 1342,
    "start_time": "2022-03-12T15:42:23.879Z"
   },
   {
    "duration": 145,
    "start_time": "2022-03-12T15:42:25.223Z"
   },
   {
    "duration": 93,
    "start_time": "2022-03-12T15:42:25.370Z"
   },
   {
    "duration": 36,
    "start_time": "2022-03-12T15:42:25.465Z"
   },
   {
    "duration": 180,
    "start_time": "2022-03-12T15:42:25.503Z"
   },
   {
    "duration": 2977,
    "start_time": "2022-03-12T15:42:25.686Z"
   },
   {
    "duration": 112,
    "start_time": "2022-03-12T15:42:28.664Z"
   },
   {
    "duration": 3836,
    "start_time": "2022-03-12T15:42:28.778Z"
   },
   {
    "duration": 49,
    "start_time": "2022-03-12T15:42:32.617Z"
   },
   {
    "duration": 3150,
    "start_time": "2022-03-12T15:45:10.778Z"
   },
   {
    "duration": 2394,
    "start_time": "2022-03-12T15:51:15.373Z"
   },
   {
    "duration": 2383,
    "start_time": "2022-03-12T15:51:38.922Z"
   },
   {
    "duration": 3795,
    "start_time": "2022-03-12T15:52:07.799Z"
   },
   {
    "duration": 3102,
    "start_time": "2022-03-12T15:58:42.961Z"
   },
   {
    "duration": 3372,
    "start_time": "2022-03-12T16:26:25.543Z"
   },
   {
    "duration": 214,
    "start_time": "2022-03-13T13:24:18.336Z"
   },
   {
    "duration": 1888,
    "start_time": "2022-03-13T13:24:23.649Z"
   },
   {
    "duration": 136,
    "start_time": "2022-03-13T13:24:25.539Z"
   },
   {
    "duration": 92,
    "start_time": "2022-03-13T13:24:25.677Z"
   },
   {
    "duration": 34,
    "start_time": "2022-03-13T13:24:25.771Z"
   },
   {
    "duration": 176,
    "start_time": "2022-03-13T13:24:25.807Z"
   },
   {
    "duration": 2926,
    "start_time": "2022-03-13T13:24:25.984Z"
   },
   {
    "duration": 42,
    "start_time": "2022-03-13T13:24:28.912Z"
   },
   {
    "duration": 3015,
    "start_time": "2022-03-13T13:24:28.956Z"
   },
   {
    "duration": 29,
    "start_time": "2022-03-13T13:24:31.974Z"
   },
   {
    "duration": 204,
    "start_time": "2022-03-13T13:24:32.005Z"
   },
   {
    "duration": 588,
    "start_time": "2022-03-13T13:26:56.510Z"
   },
   {
    "duration": 130,
    "start_time": "2022-03-13T13:27:02.688Z"
   },
   {
    "duration": 133,
    "start_time": "2022-03-13T13:28:04.229Z"
   },
   {
    "duration": 262,
    "start_time": "2022-03-13T13:29:11.471Z"
   },
   {
    "duration": 361,
    "start_time": "2022-03-13T13:31:59.112Z"
   },
   {
    "duration": 309,
    "start_time": "2022-03-13T13:32:31.028Z"
   },
   {
    "duration": 288,
    "start_time": "2022-03-13T13:33:22.002Z"
   },
   {
    "duration": 387,
    "start_time": "2022-03-13T15:38:40.540Z"
   },
   {
    "duration": 2495,
    "start_time": "2022-03-13T15:38:49.490Z"
   },
   {
    "duration": 2424,
    "start_time": "2022-03-13T15:39:02.086Z"
   },
   {
    "duration": 215,
    "start_time": "2022-03-13T15:39:04.512Z"
   },
   {
    "duration": 140,
    "start_time": "2022-03-13T15:39:04.733Z"
   },
   {
    "duration": 59,
    "start_time": "2022-03-13T15:39:04.875Z"
   },
   {
    "duration": 315,
    "start_time": "2022-03-13T15:39:04.936Z"
   },
   {
    "duration": 5514,
    "start_time": "2022-03-13T15:39:05.254Z"
   },
   {
    "duration": 44,
    "start_time": "2022-03-13T15:39:10.774Z"
   },
   {
    "duration": 5533,
    "start_time": "2022-03-13T15:39:10.821Z"
   },
   {
    "duration": 53,
    "start_time": "2022-03-13T15:39:16.356Z"
   },
   {
    "duration": 1006,
    "start_time": "2022-03-13T15:39:16.412Z"
   },
   {
    "duration": 627,
    "start_time": "2022-03-13T15:40:14.924Z"
   },
   {
    "duration": 12,
    "start_time": "2022-03-13T15:53:08.812Z"
   },
   {
    "duration": 2370,
    "start_time": "2022-03-13T15:53:29.532Z"
   },
   {
    "duration": 207,
    "start_time": "2022-03-13T15:53:31.905Z"
   },
   {
    "duration": 130,
    "start_time": "2022-03-13T15:53:32.115Z"
   },
   {
    "duration": 69,
    "start_time": "2022-03-13T15:53:32.247Z"
   },
   {
    "duration": 299,
    "start_time": "2022-03-13T15:53:32.319Z"
   },
   {
    "duration": 5445,
    "start_time": "2022-03-13T15:53:32.621Z"
   },
   {
    "duration": 47,
    "start_time": "2022-03-13T15:53:38.069Z"
   },
   {
    "duration": 5472,
    "start_time": "2022-03-13T15:53:38.119Z"
   },
   {
    "duration": 47,
    "start_time": "2022-03-13T15:53:43.594Z"
   },
   {
    "duration": 37,
    "start_time": "2022-03-13T15:53:43.644Z"
   },
   {
    "duration": 5,
    "start_time": "2022-03-13T15:54:38.974Z"
   },
   {
    "duration": 5874,
    "start_time": "2022-03-13T15:54:50.996Z"
   },
   {
    "duration": 7,
    "start_time": "2022-03-13T15:55:08.542Z"
   },
   {
    "duration": 467,
    "start_time": "2022-03-13T15:55:26.834Z"
   },
   {
    "duration": 13,
    "start_time": "2022-03-13T15:58:21.074Z"
   },
   {
    "duration": 10,
    "start_time": "2022-03-13T15:58:24.407Z"
   },
   {
    "duration": 12,
    "start_time": "2022-03-13T16:00:26.233Z"
   },
   {
    "duration": 12,
    "start_time": "2022-03-13T16:00:40.046Z"
   },
   {
    "duration": 20,
    "start_time": "2022-03-13T16:01:34.492Z"
   },
   {
    "duration": 10,
    "start_time": "2022-03-13T16:02:19.507Z"
   },
   {
    "duration": 11,
    "start_time": "2022-03-13T16:02:23.664Z"
   },
   {
    "duration": 6,
    "start_time": "2022-03-13T16:03:08.245Z"
   },
   {
    "duration": 8,
    "start_time": "2022-03-13T16:04:01.302Z"
   },
   {
    "duration": 13,
    "start_time": "2022-03-13T16:04:17.566Z"
   },
   {
    "duration": 337,
    "start_time": "2022-03-13T16:06:52.899Z"
   },
   {
    "duration": 421,
    "start_time": "2022-03-13T16:07:16.818Z"
   },
   {
    "duration": 360,
    "start_time": "2022-03-13T16:07:48.190Z"
   },
   {
    "duration": 331,
    "start_time": "2022-03-13T16:07:51.902Z"
   },
   {
    "duration": 377,
    "start_time": "2022-03-13T16:08:10.102Z"
   },
   {
    "duration": 2404,
    "start_time": "2022-03-13T16:08:19.430Z"
   },
   {
    "duration": 223,
    "start_time": "2022-03-13T16:08:21.836Z"
   },
   {
    "duration": 128,
    "start_time": "2022-03-13T16:08:22.062Z"
   },
   {
    "duration": 62,
    "start_time": "2022-03-13T16:08:22.193Z"
   },
   {
    "duration": 304,
    "start_time": "2022-03-13T16:08:22.258Z"
   },
   {
    "duration": 5654,
    "start_time": "2022-03-13T16:08:22.564Z"
   },
   {
    "duration": 67,
    "start_time": "2022-03-13T16:08:28.221Z"
   },
   {
    "duration": 5442,
    "start_time": "2022-03-13T16:08:28.290Z"
   },
   {
    "duration": 63,
    "start_time": "2022-03-13T16:08:33.736Z"
   },
   {
    "duration": 10,
    "start_time": "2022-03-13T16:08:33.801Z"
   },
   {
    "duration": 22,
    "start_time": "2022-03-13T16:08:33.814Z"
   },
   {
    "duration": 214,
    "start_time": "2022-03-24T10:15:15.861Z"
   },
   {
    "duration": 2016,
    "start_time": "2022-03-24T10:15:29.942Z"
   },
   {
    "duration": 154,
    "start_time": "2022-03-24T10:15:31.960Z"
   },
   {
    "duration": 87,
    "start_time": "2022-03-24T10:15:32.115Z"
   },
   {
    "duration": 33,
    "start_time": "2022-03-24T10:15:32.205Z"
   },
   {
    "duration": 179,
    "start_time": "2022-03-24T10:15:32.240Z"
   },
   {
    "duration": 2947,
    "start_time": "2022-03-24T10:15:32.421Z"
   },
   {
    "duration": 44,
    "start_time": "2022-03-24T10:15:35.369Z"
   },
   {
    "duration": 3868,
    "start_time": "2022-03-24T10:15:35.415Z"
   },
   {
    "duration": 38,
    "start_time": "2022-03-24T10:15:39.285Z"
   },
   {
    "duration": 11,
    "start_time": "2022-03-24T10:15:39.326Z"
   },
   {
    "duration": 450,
    "start_time": "2022-03-24T10:15:39.339Z"
   },
   {
    "duration": 6,
    "start_time": "2022-03-24T10:15:39.791Z"
   },
   {
    "duration": 12,
    "start_time": "2022-03-24T10:15:39.798Z"
   },
   {
    "duration": 112,
    "start_time": "2022-03-24T10:15:39.811Z"
   },
   {
    "duration": 0,
    "start_time": "2022-03-24T10:15:39.924Z"
   },
   {
    "duration": 182,
    "start_time": "2022-03-24T11:02:02.018Z"
   },
   {
    "duration": 210,
    "start_time": "2022-03-24T11:02:23.430Z"
   },
   {
    "duration": 352,
    "start_time": "2022-03-24T11:02:36.761Z"
   },
   {
    "duration": 213,
    "start_time": "2022-03-24T11:03:01.628Z"
   },
   {
    "duration": 228,
    "start_time": "2022-03-24T11:05:16.724Z"
   },
   {
    "duration": 202,
    "start_time": "2022-03-24T11:05:21.274Z"
   },
   {
    "duration": 249,
    "start_time": "2022-03-24T11:11:14.333Z"
   },
   {
    "duration": 2,
    "start_time": "2022-03-24T11:11:20.622Z"
   },
   {
    "duration": 348,
    "start_time": "2022-03-24T11:11:20.866Z"
   },
   {
    "duration": 9,
    "start_time": "2022-03-24T11:13:06.468Z"
   },
   {
    "duration": 1887,
    "start_time": "2022-03-24T11:13:23.906Z"
   },
   {
    "duration": 140,
    "start_time": "2022-03-24T11:13:25.795Z"
   },
   {
    "duration": 79,
    "start_time": "2022-03-24T11:13:25.937Z"
   },
   {
    "duration": 32,
    "start_time": "2022-03-24T11:13:26.018Z"
   },
   {
    "duration": 105,
    "start_time": "2022-03-24T11:13:26.052Z"
   },
   {
    "duration": 2044,
    "start_time": "2022-03-24T11:13:26.158Z"
   },
   {
    "duration": 26,
    "start_time": "2022-03-24T11:13:28.204Z"
   },
   {
    "duration": 2477,
    "start_time": "2022-03-24T11:13:28.232Z"
   },
   {
    "duration": 27,
    "start_time": "2022-03-24T11:13:30.711Z"
   },
   {
    "duration": 37,
    "start_time": "2022-03-24T11:13:30.740Z"
   },
   {
    "duration": 258,
    "start_time": "2022-03-24T11:13:30.779Z"
   },
   {
    "duration": 6,
    "start_time": "2022-03-24T11:13:31.038Z"
   },
   {
    "duration": 31,
    "start_time": "2022-03-24T11:13:31.045Z"
   },
   {
    "duration": 151,
    "start_time": "2022-03-24T11:13:31.078Z"
   },
   {
    "duration": 0,
    "start_time": "2022-03-24T11:13:31.232Z"
   },
   {
    "duration": 183,
    "start_time": "2022-03-24T11:25:57.443Z"
   },
   {
    "duration": 1834,
    "start_time": "2022-03-24T12:01:30.895Z"
   },
   {
    "duration": 155,
    "start_time": "2022-03-24T12:01:32.730Z"
   },
   {
    "duration": 76,
    "start_time": "2022-03-24T12:01:32.889Z"
   },
   {
    "duration": 48,
    "start_time": "2022-03-24T12:01:32.967Z"
   },
   {
    "duration": 117,
    "start_time": "2022-03-24T12:01:33.017Z"
   },
   {
    "duration": 2120,
    "start_time": "2022-03-24T12:01:33.136Z"
   },
   {
    "duration": 40,
    "start_time": "2022-03-24T12:01:35.258Z"
   },
   {
    "duration": 2236,
    "start_time": "2022-03-24T12:01:35.300Z"
   },
   {
    "duration": 41,
    "start_time": "2022-03-24T12:01:37.540Z"
   },
   {
    "duration": 9,
    "start_time": "2022-03-24T12:01:37.583Z"
   },
   {
    "duration": 258,
    "start_time": "2022-03-24T12:01:37.594Z"
   },
   {
    "duration": 5,
    "start_time": "2022-03-24T12:01:37.854Z"
   },
   {
    "duration": 26,
    "start_time": "2022-03-24T12:01:37.860Z"
   },
   {
    "duration": 105,
    "start_time": "2022-03-24T12:01:37.888Z"
   },
   {
    "duration": 0,
    "start_time": "2022-03-24T12:01:37.994Z"
   },
   {
    "duration": 65,
    "start_time": "2022-03-24T12:45:14.872Z"
   },
   {
    "duration": 2075,
    "start_time": "2022-03-24T12:45:21.930Z"
   },
   {
    "duration": 159,
    "start_time": "2022-03-24T12:45:24.007Z"
   },
   {
    "duration": 77,
    "start_time": "2022-03-24T12:45:24.167Z"
   },
   {
    "duration": 41,
    "start_time": "2022-03-24T12:45:24.246Z"
   },
   {
    "duration": 242,
    "start_time": "2022-03-24T12:45:24.289Z"
   },
   {
    "duration": 2303,
    "start_time": "2022-03-24T12:45:24.534Z"
   },
   {
    "duration": 26,
    "start_time": "2022-03-24T12:45:26.838Z"
   },
   {
    "duration": 2268,
    "start_time": "2022-03-24T12:45:26.865Z"
   },
   {
    "duration": 26,
    "start_time": "2022-03-24T12:45:29.134Z"
   },
   {
    "duration": 29,
    "start_time": "2022-03-24T12:45:29.162Z"
   },
   {
    "duration": 274,
    "start_time": "2022-03-24T12:45:29.192Z"
   },
   {
    "duration": 5,
    "start_time": "2022-03-24T12:45:29.468Z"
   },
   {
    "duration": 18,
    "start_time": "2022-03-24T12:45:29.485Z"
   },
   {
    "duration": 105,
    "start_time": "2022-03-24T12:45:29.504Z"
   },
   {
    "duration": 0,
    "start_time": "2022-03-24T12:45:29.611Z"
   },
   {
    "duration": 49,
    "start_time": "2022-03-24T12:47:57.130Z"
   },
   {
    "duration": 45,
    "start_time": "2022-03-24T12:48:20.628Z"
   },
   {
    "duration": 706,
    "start_time": "2022-03-24T12:48:39.716Z"
   },
   {
    "duration": 136,
    "start_time": "2022-03-24T12:48:43.554Z"
   },
   {
    "duration": 178,
    "start_time": "2022-03-24T12:50:42.647Z"
   },
   {
    "duration": 53,
    "start_time": "2022-03-24T12:50:56.879Z"
   },
   {
    "duration": 701,
    "start_time": "2022-03-24T12:51:02.107Z"
   },
   {
    "duration": 149,
    "start_time": "2022-03-24T12:51:07.067Z"
   },
   {
    "duration": 43,
    "start_time": "2022-03-24T12:52:48.901Z"
   },
   {
    "duration": 44,
    "start_time": "2022-03-24T12:52:52.919Z"
   },
   {
    "duration": 715,
    "start_time": "2022-03-24T12:52:56.895Z"
   },
   {
    "duration": 140,
    "start_time": "2022-03-24T12:53:00.949Z"
   },
   {
    "duration": 180,
    "start_time": "2022-03-24T12:55:19.925Z"
   },
   {
    "duration": 113,
    "start_time": "2022-03-24T12:55:54.988Z"
   },
   {
    "duration": 56,
    "start_time": "2022-03-24T13:05:04.050Z"
   },
   {
    "duration": 5640,
    "start_time": "2022-03-24T13:05:11.011Z"
   },
   {
    "duration": 213,
    "start_time": "2022-03-24T13:05:16.653Z"
   },
   {
    "duration": 229,
    "start_time": "2022-03-24T13:05:16.869Z"
   },
   {
    "duration": 0,
    "start_time": "2022-03-24T13:05:17.100Z"
   },
   {
    "duration": 0,
    "start_time": "2022-03-24T13:05:17.102Z"
   },
   {
    "duration": 0,
    "start_time": "2022-03-24T13:05:17.104Z"
   },
   {
    "duration": 0,
    "start_time": "2022-03-24T13:05:17.105Z"
   },
   {
    "duration": 0,
    "start_time": "2022-03-24T13:05:17.106Z"
   },
   {
    "duration": 0,
    "start_time": "2022-03-24T13:05:17.107Z"
   },
   {
    "duration": 0,
    "start_time": "2022-03-24T13:05:17.108Z"
   },
   {
    "duration": 0,
    "start_time": "2022-03-24T13:05:17.109Z"
   },
   {
    "duration": 0,
    "start_time": "2022-03-24T13:05:17.111Z"
   },
   {
    "duration": 0,
    "start_time": "2022-03-24T13:05:17.112Z"
   },
   {
    "duration": 0,
    "start_time": "2022-03-24T13:05:17.113Z"
   },
   {
    "duration": 0,
    "start_time": "2022-03-24T13:05:17.114Z"
   },
   {
    "duration": 0,
    "start_time": "2022-03-24T13:05:17.115Z"
   },
   {
    "duration": 70,
    "start_time": "2022-03-24T13:07:50.405Z"
   },
   {
    "duration": 6,
    "start_time": "2022-03-24T13:08:29.564Z"
   },
   {
    "duration": 98,
    "start_time": "2022-03-24T13:08:56.962Z"
   },
   {
    "duration": 43,
    "start_time": "2022-03-24T13:09:00.065Z"
   },
   {
    "duration": 23,
    "start_time": "2022-03-24T13:11:14.009Z"
   },
   {
    "duration": 31,
    "start_time": "2022-03-24T13:11:24.048Z"
   },
   {
    "duration": 25,
    "start_time": "2022-03-24T13:11:49.897Z"
   },
   {
    "duration": 755,
    "start_time": "2022-03-24T13:12:23.042Z"
   },
   {
    "duration": 755,
    "start_time": "2022-03-24T13:12:38.475Z"
   },
   {
    "duration": 740,
    "start_time": "2022-03-24T13:14:15.804Z"
   },
   {
    "duration": 758,
    "start_time": "2022-03-24T13:14:46.143Z"
   },
   {
    "duration": 17,
    "start_time": "2022-03-24T13:15:59.318Z"
   },
   {
    "duration": 31,
    "start_time": "2022-03-24T13:17:19.356Z"
   },
   {
    "duration": 29,
    "start_time": "2022-03-24T13:18:01.871Z"
   },
   {
    "duration": 42,
    "start_time": "2022-03-24T13:18:59.869Z"
   },
   {
    "duration": 36,
    "start_time": "2022-03-24T13:51:12.112Z"
   },
   {
    "duration": 74,
    "start_time": "2022-03-24T14:14:05.542Z"
   },
   {
    "duration": 41,
    "start_time": "2022-03-24T14:14:47.874Z"
   },
   {
    "duration": 43,
    "start_time": "2022-03-24T14:15:17.463Z"
   },
   {
    "duration": 53,
    "start_time": "2022-03-24T14:18:00.273Z"
   },
   {
    "duration": 42,
    "start_time": "2022-03-24T14:18:24.682Z"
   },
   {
    "duration": 42,
    "start_time": "2022-03-24T14:21:42.132Z"
   },
   {
    "duration": 52,
    "start_time": "2022-03-24T14:33:20.174Z"
   },
   {
    "duration": 1861,
    "start_time": "2022-03-24T14:39:38.164Z"
   },
   {
    "duration": 155,
    "start_time": "2022-03-24T14:39:40.028Z"
   },
   {
    "duration": 82,
    "start_time": "2022-03-24T14:39:40.185Z"
   },
   {
    "duration": 45,
    "start_time": "2022-03-24T14:39:40.268Z"
   },
   {
    "duration": 5,
    "start_time": "2022-03-24T14:39:40.316Z"
   },
   {
    "duration": 3017,
    "start_time": "2022-03-24T14:39:40.322Z"
   },
   {
    "duration": 0,
    "start_time": "2022-03-24T14:39:43.341Z"
   },
   {
    "duration": 0,
    "start_time": "2022-03-24T14:39:43.342Z"
   },
   {
    "duration": 0,
    "start_time": "2022-03-24T14:39:43.343Z"
   },
   {
    "duration": 0,
    "start_time": "2022-03-24T14:39:43.344Z"
   },
   {
    "duration": 0,
    "start_time": "2022-03-24T14:39:43.345Z"
   },
   {
    "duration": 0,
    "start_time": "2022-03-24T14:39:43.346Z"
   },
   {
    "duration": 0,
    "start_time": "2022-03-24T14:39:43.347Z"
   },
   {
    "duration": 0,
    "start_time": "2022-03-24T14:39:43.348Z"
   },
   {
    "duration": 0,
    "start_time": "2022-03-24T14:39:43.349Z"
   },
   {
    "duration": 0,
    "start_time": "2022-03-24T14:39:43.349Z"
   },
   {
    "duration": 96,
    "start_time": "2022-03-24T14:42:15.975Z"
   },
   {
    "duration": 32,
    "start_time": "2022-03-24T14:49:14.633Z"
   },
   {
    "duration": 113,
    "start_time": "2022-03-24T14:51:23.959Z"
   },
   {
    "duration": 34,
    "start_time": "2022-03-24T14:51:28.874Z"
   },
   {
    "duration": 6,
    "start_time": "2022-03-24T14:51:45.813Z"
   },
   {
    "duration": 2655,
    "start_time": "2022-03-24T14:51:47.434Z"
   },
   {
    "duration": 18,
    "start_time": "2022-03-24T14:52:20.417Z"
   },
   {
    "duration": 2058,
    "start_time": "2022-03-24T15:00:32.954Z"
   },
   {
    "duration": 132,
    "start_time": "2022-03-24T15:00:35.014Z"
   },
   {
    "duration": 89,
    "start_time": "2022-03-24T15:00:35.148Z"
   },
   {
    "duration": 23,
    "start_time": "2022-03-24T15:00:35.239Z"
   },
   {
    "duration": 26,
    "start_time": "2022-03-24T15:00:35.264Z"
   },
   {
    "duration": 2788,
    "start_time": "2022-03-24T15:00:35.292Z"
   },
   {
    "duration": 0,
    "start_time": "2022-03-24T15:00:38.082Z"
   },
   {
    "duration": 0,
    "start_time": "2022-03-24T15:00:38.083Z"
   },
   {
    "duration": 0,
    "start_time": "2022-03-24T15:00:38.084Z"
   },
   {
    "duration": 0,
    "start_time": "2022-03-24T15:00:38.085Z"
   },
   {
    "duration": 0,
    "start_time": "2022-03-24T15:00:38.086Z"
   },
   {
    "duration": 0,
    "start_time": "2022-03-24T15:00:38.087Z"
   },
   {
    "duration": 0,
    "start_time": "2022-03-24T15:00:38.088Z"
   },
   {
    "duration": 0,
    "start_time": "2022-03-24T15:00:38.089Z"
   },
   {
    "duration": 0,
    "start_time": "2022-03-24T15:00:38.090Z"
   },
   {
    "duration": 0,
    "start_time": "2022-03-24T15:00:38.091Z"
   },
   {
    "duration": 71,
    "start_time": "2022-03-25T05:52:17.242Z"
   },
   {
    "duration": 3657,
    "start_time": "2022-03-25T05:52:26.359Z"
   },
   {
    "duration": 284,
    "start_time": "2022-03-25T05:52:30.020Z"
   },
   {
    "duration": 168,
    "start_time": "2022-03-25T05:52:30.307Z"
   },
   {
    "duration": 55,
    "start_time": "2022-03-25T05:52:30.483Z"
   },
   {
    "duration": 51,
    "start_time": "2022-03-25T05:52:30.541Z"
   },
   {
    "duration": 2325,
    "start_time": "2022-03-25T05:52:30.595Z"
   },
   {
    "duration": 0,
    "start_time": "2022-03-25T05:52:32.923Z"
   },
   {
    "duration": 0,
    "start_time": "2022-03-25T05:52:32.925Z"
   },
   {
    "duration": 0,
    "start_time": "2022-03-25T05:52:32.927Z"
   },
   {
    "duration": 0,
    "start_time": "2022-03-25T05:52:32.929Z"
   },
   {
    "duration": 0,
    "start_time": "2022-03-25T05:52:32.930Z"
   },
   {
    "duration": 0,
    "start_time": "2022-03-25T05:52:32.931Z"
   },
   {
    "duration": 1,
    "start_time": "2022-03-25T05:52:32.932Z"
   },
   {
    "duration": 0,
    "start_time": "2022-03-25T05:52:32.934Z"
   },
   {
    "duration": 0,
    "start_time": "2022-03-25T05:52:32.936Z"
   },
   {
    "duration": 0,
    "start_time": "2022-03-25T05:52:32.937Z"
   },
   {
    "duration": 96,
    "start_time": "2022-03-25T05:53:02.625Z"
   },
   {
    "duration": 117,
    "start_time": "2022-03-25T05:56:08.476Z"
   },
   {
    "duration": 3019,
    "start_time": "2022-03-25T08:58:57.568Z"
   },
   {
    "duration": 274,
    "start_time": "2022-03-25T08:59:00.590Z"
   },
   {
    "duration": 154,
    "start_time": "2022-03-25T08:59:00.867Z"
   },
   {
    "duration": 59,
    "start_time": "2022-03-25T08:59:01.025Z"
   },
   {
    "duration": 22,
    "start_time": "2022-03-25T08:59:01.087Z"
   },
   {
    "duration": 2390,
    "start_time": "2022-03-25T08:59:01.112Z"
   },
   {
    "duration": 0,
    "start_time": "2022-03-25T08:59:03.505Z"
   },
   {
    "duration": 0,
    "start_time": "2022-03-25T08:59:03.506Z"
   },
   {
    "duration": 0,
    "start_time": "2022-03-25T08:59:03.508Z"
   },
   {
    "duration": 0,
    "start_time": "2022-03-25T08:59:03.509Z"
   },
   {
    "duration": 0,
    "start_time": "2022-03-25T08:59:03.511Z"
   },
   {
    "duration": 0,
    "start_time": "2022-03-25T08:59:03.513Z"
   },
   {
    "duration": 0,
    "start_time": "2022-03-25T08:59:03.514Z"
   },
   {
    "duration": 0,
    "start_time": "2022-03-25T08:59:03.516Z"
   },
   {
    "duration": 0,
    "start_time": "2022-03-25T08:59:03.518Z"
   },
   {
    "duration": 0,
    "start_time": "2022-03-25T08:59:03.519Z"
   },
   {
    "duration": 957,
    "start_time": "2022-03-25T09:00:10.996Z"
   },
   {
    "duration": 36,
    "start_time": "2022-03-25T09:02:59.540Z"
   },
   {
    "duration": 154,
    "start_time": "2022-03-25T09:03:10.120Z"
   },
   {
    "duration": 979,
    "start_time": "2022-03-25T09:03:25.760Z"
   },
   {
    "duration": 181,
    "start_time": "2022-03-25T09:03:29.052Z"
   },
   {
    "duration": 274,
    "start_time": "2022-03-25T09:03:32.081Z"
   },
   {
    "duration": 138,
    "start_time": "2022-03-25T09:06:11.167Z"
   },
   {
    "duration": 128,
    "start_time": "2022-03-25T09:06:24.995Z"
   },
   {
    "duration": 237,
    "start_time": "2022-03-25T09:08:16.270Z"
   },
   {
    "duration": 124,
    "start_time": "2022-03-25T09:09:21.038Z"
   },
   {
    "duration": 2764,
    "start_time": "2022-03-25T09:09:31.872Z"
   },
   {
    "duration": 216,
    "start_time": "2022-03-25T09:09:34.641Z"
   },
   {
    "duration": 151,
    "start_time": "2022-03-25T09:09:34.859Z"
   },
   {
    "duration": 46,
    "start_time": "2022-03-25T09:09:35.015Z"
   },
   {
    "duration": 24,
    "start_time": "2022-03-25T09:09:35.084Z"
   },
   {
    "duration": 2342,
    "start_time": "2022-03-25T09:09:35.112Z"
   },
   {
    "duration": 0,
    "start_time": "2022-03-25T09:09:37.459Z"
   },
   {
    "duration": 0,
    "start_time": "2022-03-25T09:09:37.461Z"
   },
   {
    "duration": 0,
    "start_time": "2022-03-25T09:09:37.463Z"
   },
   {
    "duration": 0,
    "start_time": "2022-03-25T09:09:37.465Z"
   },
   {
    "duration": 0,
    "start_time": "2022-03-25T09:09:37.467Z"
   },
   {
    "duration": 0,
    "start_time": "2022-03-25T09:09:37.469Z"
   },
   {
    "duration": 0,
    "start_time": "2022-03-25T09:09:37.471Z"
   },
   {
    "duration": 0,
    "start_time": "2022-03-25T09:09:37.473Z"
   },
   {
    "duration": 0,
    "start_time": "2022-03-25T09:09:37.475Z"
   },
   {
    "duration": 0,
    "start_time": "2022-03-25T09:09:37.477Z"
   },
   {
    "duration": 980,
    "start_time": "2022-03-25T09:10:05.334Z"
   },
   {
    "duration": 248,
    "start_time": "2022-03-25T09:10:08.961Z"
   },
   {
    "duration": 185,
    "start_time": "2022-03-25T09:10:12.884Z"
   },
   {
    "duration": 121,
    "start_time": "2022-03-25T09:10:56.715Z"
   },
   {
    "duration": 72,
    "start_time": "2022-03-25T09:12:10.416Z"
   },
   {
    "duration": 3340,
    "start_time": "2022-03-25T09:22:00.561Z"
   },
   {
    "duration": 206,
    "start_time": "2022-03-25T09:22:03.905Z"
   },
   {
    "duration": 149,
    "start_time": "2022-03-25T09:22:04.113Z"
   },
   {
    "duration": 88,
    "start_time": "2022-03-25T09:22:04.266Z"
   },
   {
    "duration": 50,
    "start_time": "2022-03-25T09:22:04.358Z"
   },
   {
    "duration": 2338,
    "start_time": "2022-03-25T09:22:04.412Z"
   },
   {
    "duration": 0,
    "start_time": "2022-03-25T09:22:06.754Z"
   },
   {
    "duration": 0,
    "start_time": "2022-03-25T09:22:06.756Z"
   },
   {
    "duration": 0,
    "start_time": "2022-03-25T09:22:06.759Z"
   },
   {
    "duration": 0,
    "start_time": "2022-03-25T09:22:06.761Z"
   },
   {
    "duration": 0,
    "start_time": "2022-03-25T09:22:06.764Z"
   },
   {
    "duration": 0,
    "start_time": "2022-03-25T09:22:06.765Z"
   },
   {
    "duration": 0,
    "start_time": "2022-03-25T09:22:06.767Z"
   },
   {
    "duration": 0,
    "start_time": "2022-03-25T09:22:06.768Z"
   },
   {
    "duration": 0,
    "start_time": "2022-03-25T09:22:06.770Z"
   },
   {
    "duration": 0,
    "start_time": "2022-03-25T09:22:06.771Z"
   },
   {
    "duration": 109,
    "start_time": "2022-03-25T09:22:36.575Z"
   },
   {
    "duration": 74,
    "start_time": "2022-03-25T09:23:38.065Z"
   },
   {
    "duration": 141,
    "start_time": "2022-03-25T09:26:22.061Z"
   },
   {
    "duration": 124,
    "start_time": "2022-03-25T09:26:30.416Z"
   },
   {
    "duration": 1128,
    "start_time": "2022-03-25T09:27:11.488Z"
   },
   {
    "duration": 191,
    "start_time": "2022-03-25T09:27:16.206Z"
   },
   {
    "duration": 129,
    "start_time": "2022-03-25T09:27:21.213Z"
   },
   {
    "duration": 75,
    "start_time": "2022-03-25T09:27:26.874Z"
   },
   {
    "duration": 27,
    "start_time": "2022-03-25T09:39:50.846Z"
   },
   {
    "duration": 2586,
    "start_time": "2022-03-25T09:41:29.147Z"
   },
   {
    "duration": 299,
    "start_time": "2022-03-25T09:41:31.736Z"
   },
   {
    "duration": 234,
    "start_time": "2022-03-25T09:41:32.039Z"
   },
   {
    "duration": 54,
    "start_time": "2022-03-25T09:41:32.284Z"
   },
   {
    "duration": 232,
    "start_time": "2022-03-25T09:41:32.341Z"
   },
   {
    "duration": 0,
    "start_time": "2022-03-25T09:41:32.583Z"
   },
   {
    "duration": 0,
    "start_time": "2022-03-25T09:41:32.585Z"
   },
   {
    "duration": 0,
    "start_time": "2022-03-25T09:41:32.587Z"
   },
   {
    "duration": 0,
    "start_time": "2022-03-25T09:41:32.589Z"
   },
   {
    "duration": 0,
    "start_time": "2022-03-25T09:41:32.591Z"
   },
   {
    "duration": 0,
    "start_time": "2022-03-25T09:41:32.593Z"
   },
   {
    "duration": 0,
    "start_time": "2022-03-25T09:41:32.595Z"
   },
   {
    "duration": 0,
    "start_time": "2022-03-25T09:41:32.597Z"
   },
   {
    "duration": 0,
    "start_time": "2022-03-25T09:41:32.599Z"
   },
   {
    "duration": 0,
    "start_time": "2022-03-25T09:41:32.604Z"
   },
   {
    "duration": 0,
    "start_time": "2022-03-25T09:41:32.606Z"
   },
   {
    "duration": 102,
    "start_time": "2022-03-25T09:42:15.824Z"
   },
   {
    "duration": 23,
    "start_time": "2022-03-25T09:42:44.966Z"
   },
   {
    "duration": 1268,
    "start_time": "2022-03-25T09:43:12.829Z"
   },
   {
    "duration": 191,
    "start_time": "2022-03-25T09:43:18.286Z"
   },
   {
    "duration": 179,
    "start_time": "2022-03-25T09:43:23.437Z"
   },
   {
    "duration": 68,
    "start_time": "2022-03-25T09:43:43.522Z"
   },
   {
    "duration": 40,
    "start_time": "2022-03-25T09:43:54.604Z"
   },
   {
    "duration": 11,
    "start_time": "2022-03-25T09:44:47.987Z"
   },
   {
    "duration": 34,
    "start_time": "2022-03-25T09:45:04.588Z"
   },
   {
    "duration": 77,
    "start_time": "2022-03-25T09:45:55.926Z"
   },
   {
    "duration": 108,
    "start_time": "2022-03-25T09:53:06.301Z"
   },
   {
    "duration": 59,
    "start_time": "2022-03-25T09:53:54.233Z"
   },
   {
    "duration": 60,
    "start_time": "2022-03-25T10:00:31.820Z"
   },
   {
    "duration": 77,
    "start_time": "2022-03-25T10:00:43.665Z"
   },
   {
    "duration": 56,
    "start_time": "2022-03-25T10:02:41.747Z"
   },
   {
    "duration": 135,
    "start_time": "2022-03-25T10:06:52.540Z"
   },
   {
    "duration": 21,
    "start_time": "2022-03-25T10:07:15.896Z"
   },
   {
    "duration": 18,
    "start_time": "2022-03-25T10:07:45.249Z"
   },
   {
    "duration": 18,
    "start_time": "2022-03-25T10:08:04.268Z"
   },
   {
    "duration": 79,
    "start_time": "2022-03-25T10:08:37.717Z"
   },
   {
    "duration": 27,
    "start_time": "2022-03-25T10:21:07.974Z"
   },
   {
    "duration": 5091,
    "start_time": "2022-03-25T10:22:31.158Z"
   },
   {
    "duration": 144,
    "start_time": "2022-03-25T10:29:32.171Z"
   },
   {
    "duration": 158,
    "start_time": "2022-03-25T10:30:06.356Z"
   },
   {
    "duration": 54,
    "start_time": "2022-03-25T10:30:20.265Z"
   },
   {
    "duration": 74,
    "start_time": "2022-03-25T10:30:45.543Z"
   },
   {
    "duration": 48,
    "start_time": "2022-03-25T10:35:17.127Z"
   },
   {
    "duration": 1956,
    "start_time": "2022-03-25T10:54:23.154Z"
   },
   {
    "duration": 2506,
    "start_time": "2022-03-25T11:01:51.029Z"
   },
   {
    "duration": 299,
    "start_time": "2022-03-25T11:01:53.539Z"
   },
   {
    "duration": 214,
    "start_time": "2022-03-25T11:01:53.840Z"
   },
   {
    "duration": 100,
    "start_time": "2022-03-25T11:01:54.059Z"
   },
   {
    "duration": 63,
    "start_time": "2022-03-25T11:01:54.162Z"
   },
   {
    "duration": 2404,
    "start_time": "2022-03-25T11:01:54.228Z"
   },
   {
    "duration": 0,
    "start_time": "2022-03-25T11:01:56.636Z"
   },
   {
    "duration": 0,
    "start_time": "2022-03-25T11:01:56.639Z"
   },
   {
    "duration": 0,
    "start_time": "2022-03-25T11:01:56.641Z"
   },
   {
    "duration": 0,
    "start_time": "2022-03-25T11:01:56.643Z"
   },
   {
    "duration": 0,
    "start_time": "2022-03-25T11:01:56.645Z"
   },
   {
    "duration": 0,
    "start_time": "2022-03-25T11:01:56.647Z"
   },
   {
    "duration": 0,
    "start_time": "2022-03-25T11:01:56.649Z"
   },
   {
    "duration": 0,
    "start_time": "2022-03-25T11:01:56.651Z"
   },
   {
    "duration": 0,
    "start_time": "2022-03-25T11:01:56.653Z"
   },
   {
    "duration": 0,
    "start_time": "2022-03-25T11:01:56.655Z"
   },
   {
    "duration": 524,
    "start_time": "2022-03-25T11:03:03.102Z"
   },
   {
    "duration": 531,
    "start_time": "2022-03-25T11:03:47.036Z"
   },
   {
    "duration": 862,
    "start_time": "2022-03-25T11:05:34.177Z"
   },
   {
    "duration": 509,
    "start_time": "2022-03-25T11:06:15.265Z"
   },
   {
    "duration": 881,
    "start_time": "2022-03-25T11:10:56.310Z"
   },
   {
    "duration": 46,
    "start_time": "2022-03-25T11:11:52.740Z"
   },
   {
    "duration": 2555,
    "start_time": "2022-03-25T11:12:06.338Z"
   },
   {
    "duration": 201,
    "start_time": "2022-03-25T11:12:08.897Z"
   },
   {
    "duration": 161,
    "start_time": "2022-03-25T11:12:09.101Z"
   },
   {
    "duration": 69,
    "start_time": "2022-03-25T11:12:09.265Z"
   },
   {
    "duration": 86,
    "start_time": "2022-03-25T11:12:09.337Z"
   },
   {
    "duration": 529,
    "start_time": "2022-03-25T11:12:09.426Z"
   },
   {
    "duration": 2831,
    "start_time": "2022-03-25T11:12:09.958Z"
   },
   {
    "duration": 0,
    "start_time": "2022-03-25T11:12:12.793Z"
   },
   {
    "duration": 0,
    "start_time": "2022-03-25T11:12:12.795Z"
   },
   {
    "duration": 0,
    "start_time": "2022-03-25T11:12:12.796Z"
   },
   {
    "duration": 0,
    "start_time": "2022-03-25T11:12:12.799Z"
   },
   {
    "duration": 0,
    "start_time": "2022-03-25T11:12:12.801Z"
   },
   {
    "duration": 0,
    "start_time": "2022-03-25T11:12:12.803Z"
   },
   {
    "duration": 0,
    "start_time": "2022-03-25T11:12:12.807Z"
   },
   {
    "duration": 0,
    "start_time": "2022-03-25T11:12:12.809Z"
   },
   {
    "duration": 0,
    "start_time": "2022-03-25T11:12:12.812Z"
   },
   {
    "duration": 2694,
    "start_time": "2022-03-25T11:14:08.425Z"
   },
   {
    "duration": 2771,
    "start_time": "2022-03-25T16:13:41.770Z"
   },
   {
    "duration": 216,
    "start_time": "2022-03-25T16:13:44.544Z"
   },
   {
    "duration": 142,
    "start_time": "2022-03-25T16:13:44.763Z"
   },
   {
    "duration": 75,
    "start_time": "2022-03-25T16:13:44.909Z"
   },
   {
    "duration": 43,
    "start_time": "2022-03-25T16:13:44.987Z"
   },
   {
    "duration": 542,
    "start_time": "2022-03-25T16:13:45.033Z"
   },
   {
    "duration": 2837,
    "start_time": "2022-03-25T16:13:45.585Z"
   },
   {
    "duration": 0,
    "start_time": "2022-03-25T16:13:48.425Z"
   },
   {
    "duration": 0,
    "start_time": "2022-03-25T16:13:48.427Z"
   },
   {
    "duration": 0,
    "start_time": "2022-03-25T16:13:48.429Z"
   },
   {
    "duration": 0,
    "start_time": "2022-03-25T16:13:48.431Z"
   },
   {
    "duration": 0,
    "start_time": "2022-03-25T16:13:48.432Z"
   },
   {
    "duration": 0,
    "start_time": "2022-03-25T16:13:48.434Z"
   },
   {
    "duration": 0,
    "start_time": "2022-03-25T16:13:48.435Z"
   },
   {
    "duration": 0,
    "start_time": "2022-03-25T16:13:48.437Z"
   },
   {
    "duration": 0,
    "start_time": "2022-03-25T16:13:48.439Z"
   },
   {
    "duration": 43,
    "start_time": "2022-03-25T16:14:45.141Z"
   },
   {
    "duration": 1893,
    "start_time": "2022-03-26T06:10:36.189Z"
   },
   {
    "duration": 118,
    "start_time": "2022-03-26T06:10:38.083Z"
   },
   {
    "duration": 84,
    "start_time": "2022-03-26T06:10:38.203Z"
   },
   {
    "duration": 32,
    "start_time": "2022-03-26T06:10:38.288Z"
   },
   {
    "duration": 21,
    "start_time": "2022-03-26T06:10:38.322Z"
   },
   {
    "duration": 257,
    "start_time": "2022-03-26T06:10:38.344Z"
   },
   {
    "duration": 90,
    "start_time": "2022-03-26T06:10:38.602Z"
   },
   {
    "duration": 0,
    "start_time": "2022-03-26T06:10:38.693Z"
   },
   {
    "duration": 0,
    "start_time": "2022-03-26T06:10:38.694Z"
   },
   {
    "duration": 0,
    "start_time": "2022-03-26T06:10:38.695Z"
   },
   {
    "duration": 0,
    "start_time": "2022-03-26T06:10:38.696Z"
   },
   {
    "duration": 0,
    "start_time": "2022-03-26T06:10:38.697Z"
   },
   {
    "duration": 16,
    "start_time": "2022-03-26T06:16:38.508Z"
   },
   {
    "duration": 106,
    "start_time": "2022-03-26T06:18:34.710Z"
   },
   {
    "duration": 5,
    "start_time": "2022-03-26T06:22:16.521Z"
   },
   {
    "duration": 13,
    "start_time": "2022-03-26T06:22:26.481Z"
   },
   {
    "duration": 143,
    "start_time": "2022-03-26T06:22:51.238Z"
   },
   {
    "duration": 146,
    "start_time": "2022-03-26T06:23:17.771Z"
   },
   {
    "duration": 10,
    "start_time": "2022-03-26T06:23:38.768Z"
   },
   {
    "duration": 23,
    "start_time": "2022-03-26T06:33:31.406Z"
   },
   {
    "duration": 19,
    "start_time": "2022-03-26T06:33:55.558Z"
   },
   {
    "duration": 16,
    "start_time": "2022-03-26T06:35:38.505Z"
   },
   {
    "duration": 14,
    "start_time": "2022-03-26T06:35:44.066Z"
   },
   {
    "duration": 24,
    "start_time": "2022-03-26T06:36:00.580Z"
   },
   {
    "duration": 24,
    "start_time": "2022-03-26T06:36:42.074Z"
   },
   {
    "duration": 103,
    "start_time": "2022-03-26T06:39:22.285Z"
   },
   {
    "duration": 16,
    "start_time": "2022-03-26T06:41:09.114Z"
   },
   {
    "duration": 13,
    "start_time": "2022-03-26T06:41:58.635Z"
   },
   {
    "duration": 126,
    "start_time": "2022-03-26T06:42:01.434Z"
   },
   {
    "duration": 13,
    "start_time": "2022-03-26T06:42:06.545Z"
   },
   {
    "duration": 16,
    "start_time": "2022-03-26T06:42:34.994Z"
   },
   {
    "duration": 16,
    "start_time": "2022-03-26T06:43:26.690Z"
   },
   {
    "duration": 120,
    "start_time": "2022-03-26T06:44:06.565Z"
   },
   {
    "duration": 26,
    "start_time": "2022-03-26T06:44:08.242Z"
   },
   {
    "duration": 1757,
    "start_time": "2022-03-26T07:00:41.943Z"
   },
   {
    "duration": 124,
    "start_time": "2022-03-26T07:00:43.701Z"
   },
   {
    "duration": 85,
    "start_time": "2022-03-26T07:00:43.827Z"
   },
   {
    "duration": 31,
    "start_time": "2022-03-26T07:00:43.914Z"
   },
   {
    "duration": 46,
    "start_time": "2022-03-26T07:00:43.947Z"
   },
   {
    "duration": 241,
    "start_time": "2022-03-26T07:00:43.995Z"
   },
   {
    "duration": 113,
    "start_time": "2022-03-26T07:00:44.237Z"
   },
   {
    "duration": 34,
    "start_time": "2022-03-26T07:00:44.351Z"
   },
   {
    "duration": 140,
    "start_time": "2022-03-26T07:00:44.387Z"
   },
   {
    "duration": 0,
    "start_time": "2022-03-26T07:00:44.528Z"
   },
   {
    "duration": 0,
    "start_time": "2022-03-26T07:00:44.529Z"
   },
   {
    "duration": 0,
    "start_time": "2022-03-26T07:00:44.530Z"
   },
   {
    "duration": 0,
    "start_time": "2022-03-26T07:00:44.531Z"
   },
   {
    "duration": 9,
    "start_time": "2022-03-26T07:05:09.005Z"
   },
   {
    "duration": 760,
    "start_time": "2022-03-26T07:05:20.405Z"
   },
   {
    "duration": 880,
    "start_time": "2022-03-26T07:09:51.586Z"
   },
   {
    "duration": 667,
    "start_time": "2022-03-26T09:15:34.882Z"
   },
   {
    "duration": 849,
    "start_time": "2022-03-26T09:16:08.933Z"
   },
   {
    "duration": 672,
    "start_time": "2022-03-26T09:16:19.211Z"
   },
   {
    "duration": 216,
    "start_time": "2022-03-26T09:18:30.316Z"
   },
   {
    "duration": 12,
    "start_time": "2022-03-26T09:20:56.059Z"
   },
   {
    "duration": 469,
    "start_time": "2022-03-26T09:24:23.347Z"
   },
   {
    "duration": 14,
    "start_time": "2022-03-26T09:28:40.300Z"
   },
   {
    "duration": 70562,
    "start_time": "2022-03-26T09:28:49.810Z"
   },
   {
    "duration": 124,
    "start_time": "2022-03-26T09:44:03.359Z"
   },
   {
    "duration": 209,
    "start_time": "2022-03-26T09:44:18.565Z"
   },
   {
    "duration": 170,
    "start_time": "2022-03-26T09:45:03.264Z"
   },
   {
    "duration": 165,
    "start_time": "2022-03-26T09:45:22.801Z"
   },
   {
    "duration": 6924,
    "start_time": "2022-03-26T09:50:31.098Z"
   },
   {
    "duration": 1524,
    "start_time": "2022-03-26T09:55:53.722Z"
   },
   {
    "duration": 27,
    "start_time": "2022-03-26T10:03:36.192Z"
   },
   {
    "duration": 766,
    "start_time": "2022-03-26T10:09:51.976Z"
   },
   {
    "duration": 104,
    "start_time": "2022-03-26T10:10:34.807Z"
   },
   {
    "duration": 625,
    "start_time": "2022-03-26T10:11:12.899Z"
   },
   {
    "duration": 424,
    "start_time": "2022-03-26T10:13:46.469Z"
   },
   {
    "duration": 1512,
    "start_time": "2022-03-26T10:18:41.027Z"
   },
   {
    "duration": 2647,
    "start_time": "2022-03-26T11:55:18.069Z"
   },
   {
    "duration": 207,
    "start_time": "2022-03-26T11:55:20.719Z"
   },
   {
    "duration": 139,
    "start_time": "2022-03-26T11:55:20.928Z"
   },
   {
    "duration": 65,
    "start_time": "2022-03-26T11:55:21.070Z"
   },
   {
    "duration": 57,
    "start_time": "2022-03-26T11:55:21.137Z"
   },
   {
    "duration": 531,
    "start_time": "2022-03-26T11:55:21.196Z"
   },
   {
    "duration": 233,
    "start_time": "2022-03-26T11:55:21.729Z"
   },
   {
    "duration": 62,
    "start_time": "2022-03-26T11:55:21.964Z"
   },
   {
    "duration": 312,
    "start_time": "2022-03-26T11:55:22.028Z"
   },
   {
    "duration": 0,
    "start_time": "2022-03-26T11:55:22.342Z"
   },
   {
    "duration": 0,
    "start_time": "2022-03-26T11:55:22.344Z"
   },
   {
    "duration": 0,
    "start_time": "2022-03-26T11:55:22.346Z"
   },
   {
    "duration": 0,
    "start_time": "2022-03-26T11:55:22.347Z"
   },
   {
    "duration": 0,
    "start_time": "2022-03-26T11:55:22.348Z"
   },
   {
    "duration": 0,
    "start_time": "2022-03-26T11:55:22.350Z"
   },
   {
    "duration": 1156,
    "start_time": "2022-03-26T11:57:29.915Z"
   },
   {
    "duration": 311,
    "start_time": "2022-03-26T11:58:56.949Z"
   },
   {
    "duration": 353,
    "start_time": "2022-03-26T12:00:57.444Z"
   },
   {
    "duration": 367,
    "start_time": "2022-03-26T12:15:18.523Z"
   },
   {
    "duration": 23,
    "start_time": "2022-03-26T12:18:56.887Z"
   },
   {
    "duration": 21,
    "start_time": "2022-03-26T12:19:58.347Z"
   },
   {
    "duration": 22,
    "start_time": "2022-03-26T12:20:31.457Z"
   },
   {
    "duration": 305,
    "start_time": "2022-03-26T12:20:52.487Z"
   },
   {
    "duration": 321,
    "start_time": "2022-03-26T12:21:20.170Z"
   },
   {
    "duration": 280,
    "start_time": "2022-03-26T12:21:32.008Z"
   },
   {
    "duration": 287,
    "start_time": "2022-03-26T12:22:29.746Z"
   },
   {
    "duration": 386,
    "start_time": "2022-03-26T12:37:13.709Z"
   },
   {
    "duration": 566,
    "start_time": "2022-03-26T12:38:52.021Z"
   },
   {
    "duration": 723,
    "start_time": "2022-03-26T12:39:58.563Z"
   },
   {
    "duration": 818,
    "start_time": "2022-03-26T12:40:24.723Z"
   },
   {
    "duration": 620,
    "start_time": "2022-03-26T12:51:57.700Z"
   },
   {
    "duration": 534,
    "start_time": "2022-03-26T12:52:21.773Z"
   },
   {
    "duration": 393,
    "start_time": "2022-03-26T12:53:03.872Z"
   },
   {
    "duration": 510,
    "start_time": "2022-03-26T12:54:03.927Z"
   },
   {
    "duration": 408,
    "start_time": "2022-03-26T12:54:12.792Z"
   },
   {
    "duration": 552,
    "start_time": "2022-03-26T12:54:31.411Z"
   },
   {
    "duration": 450,
    "start_time": "2022-03-26T12:55:11.312Z"
   },
   {
    "duration": 399,
    "start_time": "2022-03-26T12:57:00.240Z"
   },
   {
    "duration": 462,
    "start_time": "2022-03-26T12:57:21.282Z"
   },
   {
    "duration": 404,
    "start_time": "2022-03-26T12:58:13.232Z"
   },
   {
    "duration": 414,
    "start_time": "2022-03-26T12:58:27.973Z"
   },
   {
    "duration": 410,
    "start_time": "2022-03-26T12:58:31.253Z"
   },
   {
    "duration": 476,
    "start_time": "2022-03-26T12:58:33.230Z"
   },
   {
    "duration": 250,
    "start_time": "2022-03-26T13:27:42.112Z"
   },
   {
    "duration": 243,
    "start_time": "2022-03-26T13:28:08.012Z"
   },
   {
    "duration": 588,
    "start_time": "2022-03-26T13:56:02.078Z"
   },
   {
    "duration": 411,
    "start_time": "2022-03-26T13:56:21.917Z"
   },
   {
    "duration": 2487,
    "start_time": "2022-03-26T13:56:41.416Z"
   },
   {
    "duration": 199,
    "start_time": "2022-03-26T13:56:43.906Z"
   },
   {
    "duration": 144,
    "start_time": "2022-03-26T13:56:44.107Z"
   },
   {
    "duration": 69,
    "start_time": "2022-03-26T13:56:44.254Z"
   },
   {
    "duration": 59,
    "start_time": "2022-03-26T13:56:44.325Z"
   },
   {
    "duration": 503,
    "start_time": "2022-03-26T13:56:44.386Z"
   },
   {
    "duration": 211,
    "start_time": "2022-03-26T13:56:44.891Z"
   },
   {
    "duration": 46,
    "start_time": "2022-03-26T13:56:45.104Z"
   },
   {
    "duration": 482,
    "start_time": "2022-03-26T13:56:45.153Z"
   },
   {
    "duration": 165,
    "start_time": "2022-03-26T13:56:45.638Z"
   },
   {
    "duration": 0,
    "start_time": "2022-03-26T13:56:45.805Z"
   },
   {
    "duration": 0,
    "start_time": "2022-03-26T13:56:45.807Z"
   },
   {
    "duration": 0,
    "start_time": "2022-03-26T13:56:45.809Z"
   },
   {
    "duration": 0,
    "start_time": "2022-03-26T13:56:45.810Z"
   },
   {
    "duration": 0,
    "start_time": "2022-03-26T13:56:45.812Z"
   },
   {
    "duration": 0,
    "start_time": "2022-03-26T13:56:45.814Z"
   },
   {
    "duration": 0,
    "start_time": "2022-03-26T13:56:45.816Z"
   },
   {
    "duration": 411,
    "start_time": "2022-03-26T13:57:08.265Z"
   },
   {
    "duration": 331,
    "start_time": "2022-03-26T13:57:11.425Z"
   },
   {
    "duration": 204,
    "start_time": "2022-03-26T14:32:37.501Z"
   },
   {
    "duration": 355,
    "start_time": "2022-03-26T14:32:49.707Z"
   },
   {
    "duration": 14,
    "start_time": "2022-03-26T14:38:25.475Z"
   },
   {
    "duration": 298,
    "start_time": "2022-03-26T14:40:15.247Z"
   },
   {
    "duration": 4,
    "start_time": "2022-03-26T14:40:38.475Z"
   },
   {
    "duration": 14,
    "start_time": "2022-03-26T14:40:59.020Z"
   },
   {
    "duration": 476,
    "start_time": "2022-03-26T14:42:31.752Z"
   },
   {
    "duration": 8,
    "start_time": "2022-03-26T14:42:58.753Z"
   },
   {
    "duration": 16,
    "start_time": "2022-03-26T14:43:18.091Z"
   },
   {
    "duration": 16,
    "start_time": "2022-03-26T14:43:35.240Z"
   },
   {
    "duration": 32,
    "start_time": "2022-03-26T14:44:01.406Z"
   },
   {
    "duration": 30,
    "start_time": "2022-03-26T14:44:56.197Z"
   },
   {
    "duration": 2478,
    "start_time": "2022-03-26T14:58:32.912Z"
   },
   {
    "duration": 193,
    "start_time": "2022-03-26T14:58:35.392Z"
   },
   {
    "duration": 143,
    "start_time": "2022-03-26T14:58:35.587Z"
   },
   {
    "duration": 68,
    "start_time": "2022-03-26T14:58:35.733Z"
   },
   {
    "duration": 39,
    "start_time": "2022-03-26T14:58:35.804Z"
   },
   {
    "duration": 512,
    "start_time": "2022-03-26T14:58:35.846Z"
   },
   {
    "duration": 217,
    "start_time": "2022-03-26T14:58:36.360Z"
   },
   {
    "duration": 46,
    "start_time": "2022-03-26T14:58:36.579Z"
   },
   {
    "duration": 561,
    "start_time": "2022-03-26T14:58:36.627Z"
   },
   {
    "duration": 356,
    "start_time": "2022-03-26T14:58:37.191Z"
   },
   {
    "duration": 416,
    "start_time": "2022-03-26T14:58:37.549Z"
   },
   {
    "duration": 373,
    "start_time": "2022-03-26T14:58:37.968Z"
   },
   {
    "duration": 7,
    "start_time": "2022-03-26T14:58:38.343Z"
   },
   {
    "duration": 35,
    "start_time": "2022-03-26T14:58:38.354Z"
   },
   {
    "duration": 33,
    "start_time": "2022-03-26T14:58:38.391Z"
   },
   {
    "duration": 2540,
    "start_time": "2022-03-26T15:01:47.385Z"
   },
   {
    "duration": 205,
    "start_time": "2022-03-26T15:01:49.928Z"
   },
   {
    "duration": 140,
    "start_time": "2022-03-26T15:01:50.136Z"
   },
   {
    "duration": 57,
    "start_time": "2022-03-26T15:01:50.283Z"
   },
   {
    "duration": 59,
    "start_time": "2022-03-26T15:01:50.342Z"
   },
   {
    "duration": 504,
    "start_time": "2022-03-26T15:01:50.403Z"
   },
   {
    "duration": 258,
    "start_time": "2022-03-26T15:01:50.909Z"
   },
   {
    "duration": 53,
    "start_time": "2022-03-26T15:01:51.170Z"
   },
   {
    "duration": 582,
    "start_time": "2022-03-26T15:01:51.226Z"
   },
   {
    "duration": 359,
    "start_time": "2022-03-26T15:01:51.811Z"
   },
   {
    "duration": 420,
    "start_time": "2022-03-26T15:01:52.172Z"
   },
   {
    "duration": 378,
    "start_time": "2022-03-26T15:01:52.595Z"
   },
   {
    "duration": 12,
    "start_time": "2022-03-26T15:01:52.975Z"
   },
   {
    "duration": 23,
    "start_time": "2022-03-26T15:01:52.989Z"
   },
   {
    "duration": 46,
    "start_time": "2022-03-26T15:01:53.014Z"
   },
   {
    "duration": 2546,
    "start_time": "2022-03-26T15:08:50.749Z"
   },
   {
    "duration": 209,
    "start_time": "2022-03-26T15:08:53.298Z"
   },
   {
    "duration": 149,
    "start_time": "2022-03-26T15:08:53.509Z"
   },
   {
    "duration": 72,
    "start_time": "2022-03-26T15:08:53.662Z"
   },
   {
    "duration": 59,
    "start_time": "2022-03-26T15:08:53.736Z"
   },
   {
    "duration": 532,
    "start_time": "2022-03-26T15:08:53.798Z"
   },
   {
    "duration": 259,
    "start_time": "2022-03-26T15:08:54.333Z"
   },
   {
    "duration": 51,
    "start_time": "2022-03-26T15:08:54.594Z"
   },
   {
    "duration": 476,
    "start_time": "2022-03-26T15:08:54.647Z"
   },
   {
    "duration": 356,
    "start_time": "2022-03-26T15:08:55.127Z"
   },
   {
    "duration": 425,
    "start_time": "2022-03-26T15:08:55.486Z"
   },
   {
    "duration": 376,
    "start_time": "2022-03-26T15:08:55.913Z"
   },
   {
    "duration": 8,
    "start_time": "2022-03-26T15:08:56.291Z"
   },
   {
    "duration": 33,
    "start_time": "2022-03-26T15:08:56.302Z"
   },
   {
    "duration": 44,
    "start_time": "2022-03-26T15:08:56.337Z"
   },
   {
    "duration": 2753,
    "start_time": "2022-03-27T07:26:03.223Z"
   },
   {
    "duration": 13,
    "start_time": "2022-03-27T07:26:43.212Z"
   },
   {
    "duration": 7,
    "start_time": "2022-03-27T07:26:55.824Z"
   },
   {
    "duration": 11,
    "start_time": "2022-03-27T07:27:00.340Z"
   },
   {
    "duration": 2513,
    "start_time": "2022-03-27T07:27:15.160Z"
   },
   {
    "duration": 201,
    "start_time": "2022-03-27T07:27:17.676Z"
   },
   {
    "duration": 137,
    "start_time": "2022-03-27T07:27:17.880Z"
   },
   {
    "duration": 63,
    "start_time": "2022-03-27T07:27:18.022Z"
   },
   {
    "duration": 58,
    "start_time": "2022-03-27T07:27:18.088Z"
   },
   {
    "duration": 482,
    "start_time": "2022-03-27T07:27:18.148Z"
   },
   {
    "duration": 225,
    "start_time": "2022-03-27T07:27:18.632Z"
   },
   {
    "duration": 53,
    "start_time": "2022-03-27T07:27:18.859Z"
   },
   {
    "duration": 614,
    "start_time": "2022-03-27T07:27:18.915Z"
   },
   {
    "duration": 468,
    "start_time": "2022-03-27T07:27:19.542Z"
   },
   {
    "duration": 575,
    "start_time": "2022-03-27T07:27:20.013Z"
   },
   {
    "duration": 381,
    "start_time": "2022-03-27T07:27:20.591Z"
   },
   {
    "duration": 7,
    "start_time": "2022-03-27T07:27:20.975Z"
   },
   {
    "duration": 16,
    "start_time": "2022-03-27T07:27:20.984Z"
   },
   {
    "duration": 58,
    "start_time": "2022-03-27T07:27:21.003Z"
   },
   {
    "duration": 2508,
    "start_time": "2022-03-27T08:21:48.052Z"
   },
   {
    "duration": 191,
    "start_time": "2022-03-27T08:21:50.563Z"
   },
   {
    "duration": 141,
    "start_time": "2022-03-27T08:21:50.756Z"
   },
   {
    "duration": 66,
    "start_time": "2022-03-27T08:21:50.901Z"
   },
   {
    "duration": 38,
    "start_time": "2022-03-27T08:21:50.969Z"
   },
   {
    "duration": 493,
    "start_time": "2022-03-27T08:21:51.009Z"
   },
   {
    "duration": 211,
    "start_time": "2022-03-27T08:21:51.505Z"
   },
   {
    "duration": 55,
    "start_time": "2022-03-27T08:21:51.719Z"
   },
   {
    "duration": 614,
    "start_time": "2022-03-27T08:21:51.776Z"
   },
   {
    "duration": 475,
    "start_time": "2022-03-27T08:21:52.394Z"
   },
   {
    "duration": 417,
    "start_time": "2022-03-27T08:21:52.873Z"
   },
   {
    "duration": 363,
    "start_time": "2022-03-27T08:21:53.292Z"
   },
   {
    "duration": 7,
    "start_time": "2022-03-27T08:21:53.658Z"
   },
   {
    "duration": 21,
    "start_time": "2022-03-27T08:21:53.668Z"
   },
   {
    "duration": 61,
    "start_time": "2022-03-27T08:21:53.692Z"
   },
   {
    "duration": 2510,
    "start_time": "2022-03-27T08:24:21.276Z"
   },
   {
    "duration": 202,
    "start_time": "2022-03-27T08:24:23.789Z"
   },
   {
    "duration": 148,
    "start_time": "2022-03-27T08:24:23.994Z"
   },
   {
    "duration": 62,
    "start_time": "2022-03-27T08:24:24.147Z"
   },
   {
    "duration": 76,
    "start_time": "2022-03-27T08:24:24.212Z"
   },
   {
    "duration": 522,
    "start_time": "2022-03-27T08:24:24.291Z"
   },
   {
    "duration": 213,
    "start_time": "2022-03-27T08:24:24.816Z"
   },
   {
    "duration": 51,
    "start_time": "2022-03-27T08:24:25.032Z"
   },
   {
    "duration": 735,
    "start_time": "2022-03-27T08:24:25.086Z"
   },
   {
    "duration": 346,
    "start_time": "2022-03-27T08:24:25.826Z"
   },
   {
    "duration": 423,
    "start_time": "2022-03-27T08:24:26.175Z"
   },
   {
    "duration": 506,
    "start_time": "2022-03-27T08:24:26.600Z"
   },
   {
    "duration": 9,
    "start_time": "2022-03-27T08:24:27.109Z"
   },
   {
    "duration": 36,
    "start_time": "2022-03-27T08:24:27.121Z"
   },
   {
    "duration": 37,
    "start_time": "2022-03-27T08:24:27.160Z"
   },
   {
    "duration": 48,
    "start_time": "2022-03-27T13:10:58.514Z"
   },
   {
    "duration": 1983,
    "start_time": "2022-03-27T13:11:04.623Z"
   },
   {
    "duration": 134,
    "start_time": "2022-03-27T13:11:14.518Z"
   },
   {
    "duration": 96,
    "start_time": "2022-03-27T13:11:19.991Z"
   },
   {
    "duration": 34,
    "start_time": "2022-03-27T13:11:41.864Z"
   },
   {
    "duration": 31,
    "start_time": "2022-03-27T13:13:08.217Z"
   },
   {
    "duration": 28,
    "start_time": "2022-03-27T13:13:16.460Z"
   },
   {
    "duration": 9598,
    "start_time": "2022-03-27T13:14:31.958Z"
   },
   {
    "duration": 10901,
    "start_time": "2022-03-27T13:15:12.279Z"
   },
   {
    "duration": 1699,
    "start_time": "2022-03-27T13:16:10.984Z"
   },
   {
    "duration": 142,
    "start_time": "2022-03-27T13:16:12.684Z"
   },
   {
    "duration": 96,
    "start_time": "2022-03-27T13:16:12.828Z"
   },
   {
    "duration": 38,
    "start_time": "2022-03-27T13:16:12.939Z"
   },
   {
    "duration": 33,
    "start_time": "2022-03-27T13:16:12.979Z"
   },
   {
    "duration": 10756,
    "start_time": "2022-03-27T13:16:13.014Z"
   },
   {
    "duration": 0,
    "start_time": "2022-03-27T13:16:23.772Z"
   },
   {
    "duration": 0,
    "start_time": "2022-03-27T13:16:23.773Z"
   },
   {
    "duration": 0,
    "start_time": "2022-03-27T13:16:23.774Z"
   },
   {
    "duration": 0,
    "start_time": "2022-03-27T13:16:23.775Z"
   },
   {
    "duration": 0,
    "start_time": "2022-03-27T13:16:23.776Z"
   },
   {
    "duration": 0,
    "start_time": "2022-03-27T13:16:23.778Z"
   },
   {
    "duration": 0,
    "start_time": "2022-03-27T13:16:23.780Z"
   },
   {
    "duration": 0,
    "start_time": "2022-03-27T13:16:23.781Z"
   },
   {
    "duration": 0,
    "start_time": "2022-03-27T13:16:23.782Z"
   },
   {
    "duration": 8,
    "start_time": "2022-03-27T13:18:17.555Z"
   },
   {
    "duration": 10523,
    "start_time": "2022-03-27T13:25:24.674Z"
   },
   {
    "duration": 11015,
    "start_time": "2022-03-27T13:33:47.914Z"
   },
   {
    "duration": 30,
    "start_time": "2022-03-27T13:36:13.320Z"
   },
   {
    "duration": 30,
    "start_time": "2022-03-27T13:38:22.519Z"
   },
   {
    "duration": 10730,
    "start_time": "2022-03-27T13:43:27.386Z"
   },
   {
    "duration": 2192,
    "start_time": "2022-03-28T05:56:53.817Z"
   },
   {
    "duration": 145,
    "start_time": "2022-03-28T05:56:56.011Z"
   },
   {
    "duration": 108,
    "start_time": "2022-03-28T05:56:56.158Z"
   },
   {
    "duration": 39,
    "start_time": "2022-03-28T05:56:56.269Z"
   },
   {
    "duration": 42,
    "start_time": "2022-03-28T05:56:56.310Z"
   },
   {
    "duration": 7,
    "start_time": "2022-03-28T05:56:56.353Z"
   },
   {
    "duration": 12585,
    "start_time": "2022-03-28T05:56:56.362Z"
   },
   {
    "duration": 0,
    "start_time": "2022-03-28T05:57:08.949Z"
   },
   {
    "duration": 0,
    "start_time": "2022-03-28T05:57:08.950Z"
   },
   {
    "duration": 0,
    "start_time": "2022-03-28T05:57:08.952Z"
   },
   {
    "duration": 0,
    "start_time": "2022-03-28T05:57:08.953Z"
   },
   {
    "duration": 0,
    "start_time": "2022-03-28T05:57:08.954Z"
   },
   {
    "duration": 0,
    "start_time": "2022-03-28T05:57:08.954Z"
   },
   {
    "duration": 0,
    "start_time": "2022-03-28T05:57:08.955Z"
   },
   {
    "duration": 0,
    "start_time": "2022-03-28T05:57:08.956Z"
   },
   {
    "duration": 0,
    "start_time": "2022-03-28T05:57:08.957Z"
   },
   {
    "duration": 10,
    "start_time": "2022-03-28T05:59:44.642Z"
   },
   {
    "duration": 2142,
    "start_time": "2022-03-28T05:59:51.996Z"
   },
   {
    "duration": 149,
    "start_time": "2022-03-28T05:59:54.140Z"
   },
   {
    "duration": 108,
    "start_time": "2022-03-28T05:59:54.291Z"
   },
   {
    "duration": 47,
    "start_time": "2022-03-28T05:59:54.401Z"
   },
   {
    "duration": 29,
    "start_time": "2022-03-28T05:59:54.450Z"
   },
   {
    "duration": 116,
    "start_time": "2022-03-28T05:59:54.481Z"
   },
   {
    "duration": 0,
    "start_time": "2022-03-28T05:59:54.600Z"
   },
   {
    "duration": 0,
    "start_time": "2022-03-28T05:59:54.602Z"
   },
   {
    "duration": 0,
    "start_time": "2022-03-28T05:59:54.602Z"
   },
   {
    "duration": 0,
    "start_time": "2022-03-28T05:59:54.604Z"
   },
   {
    "duration": 0,
    "start_time": "2022-03-28T05:59:54.605Z"
   },
   {
    "duration": 0,
    "start_time": "2022-03-28T05:59:54.606Z"
   },
   {
    "duration": 0,
    "start_time": "2022-03-28T05:59:54.608Z"
   },
   {
    "duration": 0,
    "start_time": "2022-03-28T05:59:54.609Z"
   },
   {
    "duration": 0,
    "start_time": "2022-03-28T05:59:54.631Z"
   },
   {
    "duration": 0,
    "start_time": "2022-03-28T05:59:54.633Z"
   },
   {
    "duration": 5,
    "start_time": "2022-03-28T06:01:03.366Z"
   },
   {
    "duration": 12815,
    "start_time": "2022-03-28T06:01:38.601Z"
   },
   {
    "duration": 9,
    "start_time": "2022-03-28T06:02:00.302Z"
   },
   {
    "duration": 282,
    "start_time": "2022-03-28T06:23:30.146Z"
   },
   {
    "duration": 155,
    "start_time": "2022-03-28T06:23:51.206Z"
   },
   {
    "duration": 32,
    "start_time": "2022-03-28T06:23:54.410Z"
   },
   {
    "duration": 34,
    "start_time": "2022-03-28T06:25:33.664Z"
   },
   {
    "duration": 403,
    "start_time": "2022-03-28T06:27:40.644Z"
   },
   {
    "duration": 297,
    "start_time": "2022-03-28T06:27:45.108Z"
   },
   {
    "duration": 401,
    "start_time": "2022-03-28T06:27:46.748Z"
   },
   {
    "duration": 344,
    "start_time": "2022-03-28T06:30:06.897Z"
   },
   {
    "duration": 316,
    "start_time": "2022-03-28T06:30:21.253Z"
   },
   {
    "duration": 305,
    "start_time": "2022-03-28T06:30:24.723Z"
   },
   {
    "duration": 336,
    "start_time": "2022-03-28T06:30:31.014Z"
   },
   {
    "duration": 2008,
    "start_time": "2022-03-28T07:01:17.310Z"
   },
   {
    "duration": 136,
    "start_time": "2022-03-28T07:01:19.331Z"
   },
   {
    "duration": 106,
    "start_time": "2022-03-28T07:01:19.469Z"
   },
   {
    "duration": 38,
    "start_time": "2022-03-28T07:01:19.578Z"
   },
   {
    "duration": 40,
    "start_time": "2022-03-28T07:01:19.618Z"
   },
   {
    "duration": 8,
    "start_time": "2022-03-28T07:01:19.660Z"
   },
   {
    "duration": 171,
    "start_time": "2022-03-28T07:01:19.670Z"
   },
   {
    "duration": 0,
    "start_time": "2022-03-28T07:01:19.844Z"
   },
   {
    "duration": 0,
    "start_time": "2022-03-28T07:01:19.845Z"
   },
   {
    "duration": 0,
    "start_time": "2022-03-28T07:01:19.846Z"
   },
   {
    "duration": 0,
    "start_time": "2022-03-28T07:01:19.847Z"
   },
   {
    "duration": 0,
    "start_time": "2022-03-28T07:01:19.848Z"
   },
   {
    "duration": 0,
    "start_time": "2022-03-28T07:01:19.849Z"
   },
   {
    "duration": 0,
    "start_time": "2022-03-28T07:01:19.850Z"
   },
   {
    "duration": 0,
    "start_time": "2022-03-28T07:01:19.851Z"
   },
   {
    "duration": 0,
    "start_time": "2022-03-28T07:01:19.852Z"
   },
   {
    "duration": 144,
    "start_time": "2022-03-28T07:03:11.627Z"
   },
   {
    "duration": 2435,
    "start_time": "2022-03-28T07:06:28.003Z"
   },
   {
    "duration": 32,
    "start_time": "2022-03-28T07:09:50.972Z"
   },
   {
    "duration": 1843,
    "start_time": "2022-03-28T07:13:30.769Z"
   },
   {
    "duration": 2102,
    "start_time": "2022-03-28T07:29:13.561Z"
   },
   {
    "duration": 161,
    "start_time": "2022-03-28T07:29:15.665Z"
   },
   {
    "duration": 124,
    "start_time": "2022-03-28T07:29:15.828Z"
   },
   {
    "duration": 37,
    "start_time": "2022-03-28T07:29:15.954Z"
   },
   {
    "duration": 43,
    "start_time": "2022-03-28T07:29:15.993Z"
   },
   {
    "duration": 11,
    "start_time": "2022-03-28T07:29:16.038Z"
   },
   {
    "duration": 130,
    "start_time": "2022-03-28T07:29:16.051Z"
   },
   {
    "duration": 0,
    "start_time": "2022-03-28T07:29:16.183Z"
   },
   {
    "duration": 0,
    "start_time": "2022-03-28T07:29:16.184Z"
   },
   {
    "duration": 0,
    "start_time": "2022-03-28T07:29:16.185Z"
   },
   {
    "duration": 0,
    "start_time": "2022-03-28T07:29:16.186Z"
   },
   {
    "duration": 0,
    "start_time": "2022-03-28T07:29:16.187Z"
   },
   {
    "duration": 0,
    "start_time": "2022-03-28T07:29:16.188Z"
   },
   {
    "duration": 0,
    "start_time": "2022-03-28T07:29:16.189Z"
   },
   {
    "duration": 0,
    "start_time": "2022-03-28T07:29:16.190Z"
   },
   {
    "duration": 266,
    "start_time": "2022-03-28T07:30:57.014Z"
   },
   {
    "duration": 142,
    "start_time": "2022-03-28T07:31:10.316Z"
   },
   {
    "duration": 43,
    "start_time": "2022-03-28T07:31:20.092Z"
   },
   {
    "duration": 383,
    "start_time": "2022-03-28T07:35:27.663Z"
   },
   {
    "duration": 331,
    "start_time": "2022-03-28T07:35:41.382Z"
   },
   {
    "duration": 287,
    "start_time": "2022-03-28T07:35:47.671Z"
   },
   {
    "duration": 308,
    "start_time": "2022-03-28T07:35:49.672Z"
   },
   {
    "duration": 434,
    "start_time": "2022-03-28T07:37:19.452Z"
   },
   {
    "duration": 291,
    "start_time": "2022-03-28T07:37:22.323Z"
   },
   {
    "duration": 4763,
    "start_time": "2022-03-28T07:45:17.446Z"
   },
   {
    "duration": 149,
    "start_time": "2022-03-28T07:45:22.211Z"
   },
   {
    "duration": 111,
    "start_time": "2022-03-28T07:45:22.362Z"
   },
   {
    "duration": 39,
    "start_time": "2022-03-28T07:45:22.475Z"
   },
   {
    "duration": 29,
    "start_time": "2022-03-28T07:45:22.532Z"
   },
   {
    "duration": 297,
    "start_time": "2022-03-28T07:45:22.562Z"
   },
   {
    "duration": 8,
    "start_time": "2022-03-28T07:45:22.861Z"
   },
   {
    "duration": 123,
    "start_time": "2022-03-28T07:45:22.870Z"
   },
   {
    "duration": 42,
    "start_time": "2022-03-28T07:45:22.995Z"
   },
   {
    "duration": 399,
    "start_time": "2022-03-28T07:45:23.040Z"
   },
   {
    "duration": 294,
    "start_time": "2022-03-28T07:45:23.440Z"
   },
   {
    "duration": 338,
    "start_time": "2022-03-28T07:45:23.736Z"
   },
   {
    "duration": 263,
    "start_time": "2022-03-28T07:45:24.076Z"
   },
   {
    "duration": 6,
    "start_time": "2022-03-28T07:45:24.341Z"
   },
   {
    "duration": 28,
    "start_time": "2022-03-28T07:45:24.348Z"
   },
   {
    "duration": 27,
    "start_time": "2022-03-28T07:45:24.377Z"
   },
   {
    "duration": 401,
    "start_time": "2022-03-28T07:49:41.707Z"
   },
   {
    "duration": 291,
    "start_time": "2022-03-28T07:49:43.319Z"
   },
   {
    "duration": 310,
    "start_time": "2022-03-28T07:49:45.080Z"
   },
   {
    "duration": 1865,
    "start_time": "2022-03-28T09:12:45.096Z"
   },
   {
    "duration": 117,
    "start_time": "2022-03-28T09:12:46.980Z"
   },
   {
    "duration": 90,
    "start_time": "2022-03-28T09:12:47.099Z"
   },
   {
    "duration": 33,
    "start_time": "2022-03-28T09:12:47.191Z"
   },
   {
    "duration": 23,
    "start_time": "2022-03-28T09:12:47.226Z"
   },
   {
    "duration": 267,
    "start_time": "2022-03-28T09:12:47.251Z"
   },
   {
    "duration": 7,
    "start_time": "2022-03-28T09:12:47.520Z"
   },
   {
    "duration": 125,
    "start_time": "2022-03-28T09:12:47.529Z"
   },
   {
    "duration": 35,
    "start_time": "2022-03-28T09:12:47.656Z"
   },
   {
    "duration": 324,
    "start_time": "2022-03-28T09:12:47.694Z"
   },
   {
    "duration": 234,
    "start_time": "2022-03-28T09:12:48.020Z"
   },
   {
    "duration": 243,
    "start_time": "2022-03-28T09:12:48.256Z"
   },
   {
    "duration": 257,
    "start_time": "2022-03-28T09:12:48.500Z"
   },
   {
    "duration": 5,
    "start_time": "2022-03-28T09:12:48.758Z"
   },
   {
    "duration": 21,
    "start_time": "2022-03-28T09:12:48.764Z"
   },
   {
    "duration": 20,
    "start_time": "2022-03-28T09:12:48.786Z"
   },
   {
    "duration": 201,
    "start_time": "2022-03-28T09:15:03.777Z"
   },
   {
    "duration": 202,
    "start_time": "2022-03-28T09:16:41.671Z"
   },
   {
    "duration": 210,
    "start_time": "2022-03-28T09:18:23.142Z"
   },
   {
    "duration": 205,
    "start_time": "2022-03-28T09:18:32.401Z"
   },
   {
    "duration": 92,
    "start_time": "2022-03-28T09:28:03.242Z"
   },
   {
    "duration": 26,
    "start_time": "2022-03-28T09:28:12.750Z"
   },
   {
    "duration": 5,
    "start_time": "2022-03-28T09:28:41.124Z"
   },
   {
    "duration": 10,
    "start_time": "2022-03-28T09:35:02.876Z"
   },
   {
    "duration": 249,
    "start_time": "2022-03-28T09:35:36.136Z"
   },
   {
    "duration": 224,
    "start_time": "2022-03-28T09:35:41.045Z"
   },
   {
    "duration": 251,
    "start_time": "2022-03-28T09:35:44.565Z"
   },
   {
    "duration": 1894,
    "start_time": "2022-03-28T09:35:54.098Z"
   },
   {
    "duration": 125,
    "start_time": "2022-03-28T09:35:55.994Z"
   },
   {
    "duration": 90,
    "start_time": "2022-03-28T09:35:56.121Z"
   },
   {
    "duration": 32,
    "start_time": "2022-03-28T09:35:56.212Z"
   },
   {
    "duration": 40,
    "start_time": "2022-03-28T09:35:56.246Z"
   },
   {
    "duration": 254,
    "start_time": "2022-03-28T09:35:56.287Z"
   },
   {
    "duration": 7,
    "start_time": "2022-03-28T09:35:56.542Z"
   },
   {
    "duration": 115,
    "start_time": "2022-03-28T09:35:56.550Z"
   },
   {
    "duration": 37,
    "start_time": "2022-03-28T09:35:56.666Z"
   },
   {
    "duration": 341,
    "start_time": "2022-03-28T09:35:56.704Z"
   },
   {
    "duration": 229,
    "start_time": "2022-03-28T09:35:57.047Z"
   },
   {
    "duration": 318,
    "start_time": "2022-03-28T09:35:57.277Z"
   },
   {
    "duration": 201,
    "start_time": "2022-03-28T09:35:57.596Z"
   },
   {
    "duration": 5,
    "start_time": "2022-03-28T09:35:57.800Z"
   },
   {
    "duration": 34,
    "start_time": "2022-03-28T09:35:57.807Z"
   },
   {
    "duration": 54,
    "start_time": "2022-03-28T09:35:57.843Z"
   },
   {
    "duration": 441,
    "start_time": "2022-03-28T09:43:04.587Z"
   },
   {
    "duration": 246,
    "start_time": "2022-03-28T09:43:28.022Z"
   },
   {
    "duration": 246,
    "start_time": "2022-03-28T09:44:16.196Z"
   },
   {
    "duration": 102,
    "start_time": "2022-03-28T09:44:54.177Z"
   },
   {
    "duration": 208,
    "start_time": "2022-03-28T09:45:16.585Z"
   },
   {
    "duration": 5,
    "start_time": "2022-03-28T09:45:24.678Z"
   },
   {
    "duration": 11,
    "start_time": "2022-03-28T09:45:26.903Z"
   },
   {
    "duration": 18,
    "start_time": "2022-03-28T09:45:35.048Z"
   },
   {
    "duration": 1735,
    "start_time": "2022-03-28T10:04:37.046Z"
   },
   {
    "duration": 124,
    "start_time": "2022-03-28T10:04:38.783Z"
   },
   {
    "duration": 89,
    "start_time": "2022-03-28T10:04:38.909Z"
   },
   {
    "duration": 31,
    "start_time": "2022-03-28T10:04:39.001Z"
   },
   {
    "duration": 21,
    "start_time": "2022-03-28T10:04:39.033Z"
   },
   {
    "duration": 265,
    "start_time": "2022-03-28T10:04:39.056Z"
   },
   {
    "duration": 6,
    "start_time": "2022-03-28T10:04:39.322Z"
   },
   {
    "duration": 120,
    "start_time": "2022-03-28T10:04:39.329Z"
   },
   {
    "duration": 35,
    "start_time": "2022-03-28T10:04:39.450Z"
   },
   {
    "duration": 328,
    "start_time": "2022-03-28T10:04:39.487Z"
   },
   {
    "duration": 223,
    "start_time": "2022-03-28T10:04:39.816Z"
   },
   {
    "duration": 259,
    "start_time": "2022-03-28T10:04:40.040Z"
   },
   {
    "duration": 197,
    "start_time": "2022-03-28T10:04:40.301Z"
   },
   {
    "duration": 4,
    "start_time": "2022-03-28T10:04:40.500Z"
   },
   {
    "duration": 11,
    "start_time": "2022-03-28T10:04:40.505Z"
   },
   {
    "duration": 16,
    "start_time": "2022-03-28T10:04:40.517Z"
   },
   {
    "duration": 2600,
    "start_time": "2022-03-28T17:22:08.139Z"
   },
   {
    "duration": 210,
    "start_time": "2022-03-28T17:22:10.742Z"
   },
   {
    "duration": 140,
    "start_time": "2022-03-28T17:22:10.955Z"
   },
   {
    "duration": 70,
    "start_time": "2022-03-28T17:22:11.097Z"
   },
   {
    "duration": 43,
    "start_time": "2022-03-28T17:22:11.170Z"
   },
   {
    "duration": 513,
    "start_time": "2022-03-28T17:22:11.216Z"
   },
   {
    "duration": 10,
    "start_time": "2022-03-28T17:22:11.732Z"
   },
   {
    "duration": 241,
    "start_time": "2022-03-28T17:22:11.745Z"
   },
   {
    "duration": 81,
    "start_time": "2022-03-28T17:22:11.989Z"
   },
   {
    "duration": 567,
    "start_time": "2022-03-28T17:22:12.074Z"
   },
   {
    "duration": 406,
    "start_time": "2022-03-28T17:22:12.643Z"
   },
   {
    "duration": 479,
    "start_time": "2022-03-28T17:22:13.051Z"
   },
   {
    "duration": 373,
    "start_time": "2022-03-28T17:22:13.532Z"
   },
   {
    "duration": 8,
    "start_time": "2022-03-28T17:22:13.908Z"
   },
   {
    "duration": 16,
    "start_time": "2022-03-28T17:22:13.918Z"
   },
   {
    "duration": 52,
    "start_time": "2022-03-28T17:22:13.937Z"
   },
   {
    "duration": 2265,
    "start_time": "2022-03-28T17:29:41.129Z"
   },
   {
    "duration": 183,
    "start_time": "2022-03-28T17:29:45.480Z"
   },
   {
    "duration": 126,
    "start_time": "2022-03-28T17:29:49.324Z"
   },
   {
    "duration": 61,
    "start_time": "2022-03-28T17:29:54.016Z"
   },
   {
    "duration": 41,
    "start_time": "2022-03-28T17:29:59.481Z"
   },
   {
    "duration": 2311,
    "start_time": "2022-03-28T17:31:30.963Z"
   },
   {
    "duration": 190,
    "start_time": "2022-03-28T17:31:33.277Z"
   },
   {
    "duration": 124,
    "start_time": "2022-03-28T17:31:34.539Z"
   },
   {
    "duration": 55,
    "start_time": "2022-03-28T17:31:35.313Z"
   },
   {
    "duration": 42,
    "start_time": "2022-03-28T17:31:38.025Z"
   },
   {
    "duration": 489,
    "start_time": "2022-03-28T17:31:41.051Z"
   },
   {
    "duration": 2425,
    "start_time": "2022-03-28T17:32:18.764Z"
   },
   {
    "duration": 224,
    "start_time": "2022-03-28T17:32:21.192Z"
   },
   {
    "duration": 143,
    "start_time": "2022-03-28T17:32:22.262Z"
   },
   {
    "duration": 56,
    "start_time": "2022-03-28T17:32:25.165Z"
   },
   {
    "duration": 41,
    "start_time": "2022-03-28T17:32:27.099Z"
   },
   {
    "duration": 500,
    "start_time": "2022-03-28T17:32:29.805Z"
   },
   {
    "duration": 11,
    "start_time": "2022-03-28T17:32:30.712Z"
   },
   {
    "duration": 77,
    "start_time": "2022-03-28T17:33:33.545Z"
   },
   {
    "duration": 2403,
    "start_time": "2022-03-28T17:33:40.631Z"
   },
   {
    "duration": 201,
    "start_time": "2022-03-28T17:33:43.036Z"
   },
   {
    "duration": 130,
    "start_time": "2022-03-28T17:33:44.125Z"
   },
   {
    "duration": 56,
    "start_time": "2022-03-28T17:33:46.163Z"
   },
   {
    "duration": 41,
    "start_time": "2022-03-28T17:33:48.365Z"
   },
   {
    "duration": 580,
    "start_time": "2022-03-28T17:33:50.825Z"
   },
   {
    "duration": 11,
    "start_time": "2022-03-28T17:33:55.681Z"
   },
   {
    "duration": 959,
    "start_time": "2022-03-28T17:33:57.735Z"
   },
   {
    "duration": 17558,
    "start_time": "2022-03-28T17:34:40.719Z"
   },
   {
    "duration": 2353,
    "start_time": "2022-03-28T17:41:36.997Z"
   },
   {
    "duration": 229,
    "start_time": "2022-03-28T17:41:39.352Z"
   },
   {
    "duration": 127,
    "start_time": "2022-03-28T17:41:40.330Z"
   },
   {
    "duration": 58,
    "start_time": "2022-03-28T17:41:40.845Z"
   },
   {
    "duration": 43,
    "start_time": "2022-03-28T17:41:43.325Z"
   },
   {
    "duration": 492,
    "start_time": "2022-03-28T17:41:45.721Z"
   },
   {
    "duration": 11,
    "start_time": "2022-03-28T17:41:48.295Z"
   },
   {
    "duration": 1302,
    "start_time": "2022-03-28T17:41:52.006Z"
   },
   {
    "duration": 1110,
    "start_time": "2022-03-28T17:42:50.374Z"
   },
   {
    "duration": 10,
    "start_time": "2022-03-28T18:23:43.778Z"
   },
   {
    "duration": 118,
    "start_time": "2022-03-28T18:24:04.299Z"
   },
   {
    "duration": 5,
    "start_time": "2022-03-28T18:24:06.669Z"
   },
   {
    "duration": 12,
    "start_time": "2022-03-28T18:24:11.192Z"
   },
   {
    "duration": 11,
    "start_time": "2022-03-28T18:24:14.003Z"
   },
   {
    "duration": 8,
    "start_time": "2022-03-28T18:24:17.143Z"
   },
   {
    "duration": 8,
    "start_time": "2022-03-28T18:24:37.149Z"
   },
   {
    "duration": 190,
    "start_time": "2022-03-28T18:25:48.481Z"
   },
   {
    "duration": 2076,
    "start_time": "2022-03-28T18:51:35.923Z"
   },
   {
    "duration": 141,
    "start_time": "2022-03-28T18:51:38.001Z"
   },
   {
    "duration": 92,
    "start_time": "2022-03-28T18:51:46.164Z"
   },
   {
    "duration": 35,
    "start_time": "2022-03-28T18:51:47.351Z"
   },
   {
    "duration": 26,
    "start_time": "2022-03-28T18:51:52.128Z"
   },
   {
    "duration": 259,
    "start_time": "2022-03-28T18:52:00.043Z"
   },
   {
    "duration": 7,
    "start_time": "2022-03-28T18:52:03.430Z"
   },
   {
    "duration": 95,
    "start_time": "2022-03-28T18:52:07.063Z"
   },
   {
    "duration": 5,
    "start_time": "2022-03-28T18:52:33.604Z"
   },
   {
    "duration": 11,
    "start_time": "2022-03-28T18:52:36.722Z"
   },
   {
    "duration": 1364,
    "start_time": "2022-03-28T18:53:17.779Z"
   },
   {
    "duration": 9,
    "start_time": "2022-03-28T19:05:05.172Z"
   },
   {
    "duration": 2483,
    "start_time": "2022-03-28T19:05:22.474Z"
   },
   {
    "duration": 1795,
    "start_time": "2022-03-28T21:01:53.179Z"
   },
   {
    "duration": 137,
    "start_time": "2022-03-28T21:01:54.976Z"
   },
   {
    "duration": 94,
    "start_time": "2022-03-28T21:01:55.115Z"
   },
   {
    "duration": 46,
    "start_time": "2022-03-28T21:01:55.211Z"
   },
   {
    "duration": 25,
    "start_time": "2022-03-28T21:01:55.259Z"
   },
   {
    "duration": 267,
    "start_time": "2022-03-28T21:01:55.285Z"
   },
   {
    "duration": 7,
    "start_time": "2022-03-28T21:01:55.554Z"
   },
   {
    "duration": 134,
    "start_time": "2022-03-28T21:01:55.563Z"
   },
   {
    "duration": 49,
    "start_time": "2022-03-28T21:01:55.698Z"
   },
   {
    "duration": 330,
    "start_time": "2022-03-28T21:01:55.749Z"
   },
   {
    "duration": 239,
    "start_time": "2022-03-28T21:01:56.081Z"
   },
   {
    "duration": 280,
    "start_time": "2022-03-28T21:01:56.322Z"
   },
   {
    "duration": 212,
    "start_time": "2022-03-28T21:01:56.603Z"
   },
   {
    "duration": 5,
    "start_time": "2022-03-28T21:01:56.816Z"
   },
   {
    "duration": 18,
    "start_time": "2022-03-28T21:01:56.822Z"
   },
   {
    "duration": 27,
    "start_time": "2022-03-28T21:01:56.842Z"
   }
  ],
  "kernelspec": {
   "display_name": "Python 3.10.1 64-bit ('venv': venv)",
   "language": "python",
   "name": "python3"
  },
  "language_info": {
   "codemirror_mode": {
    "name": "ipython",
    "version": 3
   },
   "file_extension": ".py",
   "mimetype": "text/x-python",
   "name": "python",
   "nbconvert_exporter": "python",
   "pygments_lexer": "ipython3",
   "version": "3.10.1"
  },
  "toc": {
   "base_numbering": 1,
   "nav_menu": {},
   "number_sections": true,
   "sideBar": true,
   "skip_h1_title": true,
   "title_cell": "Table of Contents",
   "title_sidebar": "Contents",
   "toc_cell": false,
   "toc_position": {
    "height": "calc(100% - 180px)",
    "left": "10px",
    "top": "150px",
    "width": "337.986px"
   },
   "toc_section_display": true,
   "toc_window_display": true
  },
  "vscode": {
   "interpreter": {
    "hash": "b728008b457fd3d02fab073571b37fb05cb879c3fbb4ef78bbaac1eebc95e744"
   }
  }
 },
 "nbformat": 4,
 "nbformat_minor": 2
}
