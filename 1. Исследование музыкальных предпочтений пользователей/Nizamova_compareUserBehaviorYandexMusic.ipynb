{
 "cells": [
  {
   "cell_type": "markdown",
   "metadata": {
    "id": "E0vqbgi9ay0H"
   },
   "source": [
    "# Яндекс.Музыка"
   ]
  },
  {
   "cell_type": "markdown",
   "metadata": {
    "id": "VUC88oWjTJw2"
   },
   "source": [
    "Сравнение Москвы и Петербурга окружено мифами. Например:\n",
    " * Москва — мегаполис, подчинённый жёсткому ритму рабочей недели;\n",
    " * Петербург — культурная столица, со своими вкусами.\n",
    "\n",
    "На данных Яндекс.Музыки вы сравните поведение пользователей двух столиц.\n",
    "\n",
    "**Цель исследования** — проверьте три гипотезы:\n",
    "1. Активность пользователей зависит от дня недели. Причём в Москве и Петербурге это проявляется по-разному.\n",
    "2. В понедельник утром в Москве преобладают одни жанры, а в Петербурге — другие. Так же и вечером пятницы преобладают разные жанры — в зависимости от города. \n",
    "3. Москва и Петербург предпочитают разные жанры музыки. В Москве чаще слушают поп-музыку, в Петербурге — русский рэп.\n",
    "\n",
    "**Ход исследования**\n",
    "\n",
    "Данные о поведении пользователей вы получите из файла `yandex_music_project.csv`. О качестве данных ничего не известно. Поэтому перед проверкой гипотез понадобится обзор данных. \n",
    "\n",
    "Вы проверите данные на ошибки и оцените их влияние на исследование. Затем, на этапе предобработки вы поищете возможность исправить самые критичные ошибки данных.\n",
    " \n",
    "Таким образом, исследование пройдёт в три этапа:\n",
    " 1. Обзор данных.\n",
    " 2. Предобработка данных.\n",
    " 3. Проверка гипотез.\n",
    "\n"
   ]
  },
  {
   "cell_type": "markdown",
   "metadata": {
    "id": "Ml1hmfXC_Zcs"
   },
   "source": [
    "## Обзор данных\n",
    "\n",
    "Составьте первое представление о данных Яндекс.Музыки.\n",
    "\n",
    "\n"
   ]
  },
  {
   "cell_type": "markdown",
   "metadata": {
    "id": "57eAOGIz_Zcs"
   },
   "source": [
    "Основной инструмент аналитика — `pandas`. Импортируйте эту библиотеку."
   ]
  },
  {
   "cell_type": "code",
   "execution_count": 4,
   "metadata": {
    "id": "AXN7PHPN_Zcs"
   },
   "outputs": [],
   "source": [
    "import pandas as pd # импорт библиотеки pandas"
   ]
  },
  {
   "cell_type": "markdown",
   "metadata": {
    "id": "SG23P8tt_Zcs"
   },
   "source": [
    "Прочитайте файл `yandex_music_project.csv` из папки `/datasets` и сохраните его в переменной `df`:"
   ]
  },
  {
   "cell_type": "code",
   "execution_count": 5,
   "metadata": {
    "id": "fFVu7vqh_Zct"
   },
   "outputs": [],
   "source": [
    "df=pd.read_csv(\"yandex_music_project.csv\") # чтение файла с данными и сохранение в df"
   ]
  },
  {
   "cell_type": "markdown",
   "metadata": {
    "id": "rDoOMd3uTqnZ"
   },
   "source": [
    "Выведите на экран первые десять строк таблицы:"
   ]
  },
  {
   "cell_type": "code",
   "execution_count": 6,
   "metadata": {
    "id": "oWTVX3gW_Zct"
   },
   "outputs": [
    {
     "data": {
      "text/html": [
       "<div>\n",
       "<style scoped>\n",
       "    .dataframe tbody tr th:only-of-type {\n",
       "        vertical-align: middle;\n",
       "    }\n",
       "\n",
       "    .dataframe tbody tr th {\n",
       "        vertical-align: top;\n",
       "    }\n",
       "\n",
       "    .dataframe thead th {\n",
       "        text-align: right;\n",
       "    }\n",
       "</style>\n",
       "<table border=\"1\" class=\"dataframe\">\n",
       "  <thead>\n",
       "    <tr style=\"text-align: right;\">\n",
       "      <th></th>\n",
       "      <th>userID</th>\n",
       "      <th>Track</th>\n",
       "      <th>artist</th>\n",
       "      <th>genre</th>\n",
       "      <th>City</th>\n",
       "      <th>time</th>\n",
       "      <th>Day</th>\n",
       "    </tr>\n",
       "  </thead>\n",
       "  <tbody>\n",
       "    <tr>\n",
       "      <th>0</th>\n",
       "      <td>FFB692EC</td>\n",
       "      <td>Kamigata To Boots</td>\n",
       "      <td>The Mass Missile</td>\n",
       "      <td>rock</td>\n",
       "      <td>Saint-Petersburg</td>\n",
       "      <td>20:28:33</td>\n",
       "      <td>Wednesday</td>\n",
       "    </tr>\n",
       "    <tr>\n",
       "      <th>1</th>\n",
       "      <td>55204538</td>\n",
       "      <td>Delayed Because of Accident</td>\n",
       "      <td>Andreas Rönnberg</td>\n",
       "      <td>rock</td>\n",
       "      <td>Moscow</td>\n",
       "      <td>14:07:09</td>\n",
       "      <td>Friday</td>\n",
       "    </tr>\n",
       "    <tr>\n",
       "      <th>2</th>\n",
       "      <td>20EC38</td>\n",
       "      <td>Funiculì funiculà</td>\n",
       "      <td>Mario Lanza</td>\n",
       "      <td>pop</td>\n",
       "      <td>Saint-Petersburg</td>\n",
       "      <td>20:58:07</td>\n",
       "      <td>Wednesday</td>\n",
       "    </tr>\n",
       "    <tr>\n",
       "      <th>3</th>\n",
       "      <td>A3DD03C9</td>\n",
       "      <td>Dragons in the Sunset</td>\n",
       "      <td>Fire + Ice</td>\n",
       "      <td>folk</td>\n",
       "      <td>Saint-Petersburg</td>\n",
       "      <td>08:37:09</td>\n",
       "      <td>Monday</td>\n",
       "    </tr>\n",
       "    <tr>\n",
       "      <th>4</th>\n",
       "      <td>E2DC1FAE</td>\n",
       "      <td>Soul People</td>\n",
       "      <td>Space Echo</td>\n",
       "      <td>dance</td>\n",
       "      <td>Moscow</td>\n",
       "      <td>08:34:34</td>\n",
       "      <td>Monday</td>\n",
       "    </tr>\n",
       "    <tr>\n",
       "      <th>5</th>\n",
       "      <td>842029A1</td>\n",
       "      <td>Преданная</td>\n",
       "      <td>IMPERVTOR</td>\n",
       "      <td>rusrap</td>\n",
       "      <td>Saint-Petersburg</td>\n",
       "      <td>13:09:41</td>\n",
       "      <td>Friday</td>\n",
       "    </tr>\n",
       "    <tr>\n",
       "      <th>6</th>\n",
       "      <td>4CB90AA5</td>\n",
       "      <td>True</td>\n",
       "      <td>Roman Messer</td>\n",
       "      <td>dance</td>\n",
       "      <td>Moscow</td>\n",
       "      <td>13:00:07</td>\n",
       "      <td>Wednesday</td>\n",
       "    </tr>\n",
       "    <tr>\n",
       "      <th>7</th>\n",
       "      <td>F03E1C1F</td>\n",
       "      <td>Feeling This Way</td>\n",
       "      <td>Polina Griffith</td>\n",
       "      <td>dance</td>\n",
       "      <td>Moscow</td>\n",
       "      <td>20:47:49</td>\n",
       "      <td>Wednesday</td>\n",
       "    </tr>\n",
       "    <tr>\n",
       "      <th>8</th>\n",
       "      <td>8FA1D3BE</td>\n",
       "      <td>И вновь продолжается бой</td>\n",
       "      <td>NaN</td>\n",
       "      <td>ruspop</td>\n",
       "      <td>Moscow</td>\n",
       "      <td>09:17:40</td>\n",
       "      <td>Friday</td>\n",
       "    </tr>\n",
       "    <tr>\n",
       "      <th>9</th>\n",
       "      <td>E772D5C0</td>\n",
       "      <td>Pessimist</td>\n",
       "      <td>NaN</td>\n",
       "      <td>dance</td>\n",
       "      <td>Saint-Petersburg</td>\n",
       "      <td>21:20:49</td>\n",
       "      <td>Wednesday</td>\n",
       "    </tr>\n",
       "  </tbody>\n",
       "</table>\n",
       "</div>"
      ],
      "text/plain": [
       "     userID                        Track            artist   genre  \\\n",
       "0  FFB692EC            Kamigata To Boots  The Mass Missile    rock   \n",
       "1  55204538  Delayed Because of Accident  Andreas Rönnberg    rock   \n",
       "2    20EC38            Funiculì funiculà       Mario Lanza     pop   \n",
       "3  A3DD03C9        Dragons in the Sunset        Fire + Ice    folk   \n",
       "4  E2DC1FAE                  Soul People        Space Echo   dance   \n",
       "5  842029A1                    Преданная         IMPERVTOR  rusrap   \n",
       "6  4CB90AA5                         True      Roman Messer   dance   \n",
       "7  F03E1C1F             Feeling This Way   Polina Griffith   dance   \n",
       "8  8FA1D3BE     И вновь продолжается бой               NaN  ruspop   \n",
       "9  E772D5C0                    Pessimist               NaN   dance   \n",
       "\n",
       "             City        time        Day  \n",
       "0  Saint-Petersburg  20:28:33  Wednesday  \n",
       "1            Moscow  14:07:09     Friday  \n",
       "2  Saint-Petersburg  20:58:07  Wednesday  \n",
       "3  Saint-Petersburg  08:37:09     Monday  \n",
       "4            Moscow  08:34:34     Monday  \n",
       "5  Saint-Petersburg  13:09:41     Friday  \n",
       "6            Moscow  13:00:07  Wednesday  \n",
       "7            Moscow  20:47:49  Wednesday  \n",
       "8            Moscow  09:17:40     Friday  \n",
       "9  Saint-Petersburg  21:20:49  Wednesday  "
      ]
     },
     "execution_count": 6,
     "metadata": {},
     "output_type": "execute_result"
    }
   ],
   "source": [
    "df.head(10) # получение первых 10 строк таблицы df"
   ]
  },
  {
   "cell_type": "markdown",
   "metadata": {
    "id": "EO73Kwic_Zct"
   },
   "source": [
    "Одной командой получить общую информацию о таблице:"
   ]
  },
  {
   "cell_type": "code",
   "execution_count": 7,
   "metadata": {
    "id": "DSf2kIb-_Zct"
   },
   "outputs": [
    {
     "name": "stdout",
     "output_type": "stream",
     "text": [
      "<class 'pandas.core.frame.DataFrame'>\n",
      "RangeIndex: 65079 entries, 0 to 65078\n",
      "Data columns (total 7 columns):\n",
      " #   Column    Non-Null Count  Dtype \n",
      "---  ------    --------------  ----- \n",
      " 0     userID  65079 non-null  object\n",
      " 1   Track     63848 non-null  object\n",
      " 2   artist    57876 non-null  object\n",
      " 3   genre     63881 non-null  object\n",
      " 4     City    65079 non-null  object\n",
      " 5   time      65079 non-null  object\n",
      " 6   Day       65079 non-null  object\n",
      "dtypes: object(7)\n",
      "memory usage: 3.5+ MB\n"
     ]
    }
   ],
   "source": [
    "df.info() # получение общей информации о данных в таблице df"
   ]
  },
  {
   "cell_type": "markdown",
   "metadata": {
    "id": "TaQ2Iwbr_Zct"
   },
   "source": [
    "Итак, в таблице семь столбцов. Тип данных во всех столбцах — `object`.\n",
    "\n",
    "Согласно документации к данным:\n",
    "* `userID` — идентификатор пользователя;\n",
    "* `Track` — название трека;  \n",
    "* `artist` — имя исполнителя;\n",
    "* `genre` — название жанра;\n",
    "* `City` — город пользователя;\n",
    "* `time` — время начала прослушивания;\n",
    "* `Day` — день недели.\n",
    "\n",
    "В названиях колонок видны три нарушения стиля:\n",
    "1. Строчные буквы сочетаются с прописными.\n",
    "2. Встречаются пробелы.\n",
    "3. Найдите ещё одну проблему в названии колонок и опишите её в этом пункте.\n",
    "В названии userID разделить два слова нижним подчеркиванием- змеиный регистр.\n",
    "\n",
    "\n",
    "\n",
    "Количество значений в столбцах различается. Значит, в данных есть пропущенные значения.\n"
   ]
  },
  {
   "cell_type": "markdown",
   "metadata": {
    "id": "MCB6-dXG_Zct"
   },
   "source": [
    "**Выводы**\n",
    "\n",
    "В каждой строке таблицы — данные о прослушанном треке. Часть колонок описывает саму композицию: название, исполнителя и жанр. Остальные данные рассказывают о пользователе: из какого он города, когда он слушал музыку. \n",
    "\n",
    "Предварительно можно утверждать, что, данных достаточно для проверки гипотез. Но встречаются пропуски в данных, а в названиях колонок — расхождения с хорошим стилем.\n",
    "\n",
    "Чтобы двигаться дальше, нужно устранить проблемы в данных."
   ]
  },
  {
   "cell_type": "markdown",
   "metadata": {
    "id": "SjYF6Ub9_Zct"
   },
   "source": [
    "## Предобработка данных\n",
    "Исправьте стиль в заголовках столбцов, исключите пропуски. Затем проверьте данные на дубликаты."
   ]
  },
  {
   "cell_type": "markdown",
   "metadata": {
    "id": "dIaKXr29_Zct"
   },
   "source": [
    "### Стиль заголовков\n",
    "Выведите на экран названия столбцов:"
   ]
  },
  {
   "cell_type": "code",
   "execution_count": 8,
   "metadata": {
    "id": "oKOTdF_Q_Zct",
    "scrolled": false
   },
   "outputs": [
    {
     "data": {
      "text/plain": [
       "Index(['  userID', 'Track', 'artist', 'genre', '  City  ', 'time', 'Day'], dtype='object')"
      ]
     },
     "execution_count": 8,
     "metadata": {},
     "output_type": "execute_result"
    }
   ],
   "source": [
    " # перечень названий столбцов таблицы df\n",
    "df.columns"
   ]
  },
  {
   "cell_type": "markdown",
   "metadata": {
    "id": "zj5534cv_Zct"
   },
   "source": [
    "Приведите названия в соответствие с хорошим стилем:\n",
    "* несколько слов в названии запишите в «змеином_регистре»,\n",
    "* все символы сделайте строчными,\n",
    "* устраните пробелы.\n",
    "\n",
    "Для этого переименуйте колонки так:\n",
    "* `'  userID'` → `'user_id'`;\n",
    "* `'Track'` → `'track'`;\n",
    "* `'  City  '` → `'city'`;\n",
    "* `'Day'` → `'day'`."
   ]
  },
  {
   "cell_type": "code",
   "execution_count": 9,
   "metadata": {
    "id": "ISlFqs5y_Zct"
   },
   "outputs": [],
   "source": [
    "df = df.rename(columns={'  userID': 'user_id', 'Track': 'track', '  City  ': 'city', 'Day': 'day'}) # переименование столбцов"
   ]
  },
  {
   "cell_type": "markdown",
   "metadata": {
    "id": "1dqbh00J_Zct"
   },
   "source": [
    "Проверьте результат. Для этого ещё раз выведите на экран названия столбцов:"
   ]
  },
  {
   "cell_type": "code",
   "execution_count": 10,
   "metadata": {
    "id": "d4NOAmTW_Zct"
   },
   "outputs": [
    {
     "data": {
      "text/plain": [
       "Index(['user_id', 'track', 'artist', 'genre', 'city', 'time', 'day'], dtype='object')"
      ]
     },
     "execution_count": 10,
     "metadata": {},
     "output_type": "execute_result"
    }
   ],
   "source": [
    "df.columns # проверка результатов - перечень названий столбцов"
   ]
  },
  {
   "cell_type": "markdown",
   "metadata": {
    "id": "5ISfbcfY_Zct"
   },
   "source": [
    "### Пропуски значений\n",
    "Сначала посчитайте, сколько в таблице пропущенных значений. Для этого достаточно двух методов `pandas`:"
   ]
  },
  {
   "cell_type": "code",
   "execution_count": 11,
   "metadata": {
    "id": "RskX29qr_Zct"
   },
   "outputs": [
    {
     "data": {
      "text/plain": [
       "user_id       0\n",
       "track      1231\n",
       "artist     7203\n",
       "genre      1198\n",
       "city          0\n",
       "time          0\n",
       "day           0\n",
       "dtype: int64"
      ]
     },
     "execution_count": 11,
     "metadata": {},
     "output_type": "execute_result"
    }
   ],
   "source": [
    "df.isna().sum() # подсчёт пропусков"
   ]
  },
  {
   "cell_type": "markdown",
   "metadata": {
    "id": "qubhgnlO_Zct"
   },
   "source": [
    "Не все пропущенные значения влияют на исследование. Так в `track` и `artist` пропуски не важны для вашей работы. Достаточно заменить их явными обозначениями.\n",
    "\n",
    "Но пропуски в `genre` могут помешать сравнению музыкальных вкусов в Москве и Санкт-Петербурге. На практике было бы правильно установить причину пропусков и восстановить данные. Такой возможности нет в учебном проекте. Придётся:\n",
    "* заполнить и эти пропуски явными обозначениями,\n",
    "* оценить, насколько они повредят расчётам. "
   ]
  },
  {
   "cell_type": "markdown",
   "metadata": {
    "id": "fSv2laPA_Zct"
   },
   "source": [
    "Замените пропущенные значения в столбцах `track`, `artist` и `genre` на строку `'unknown'`. Для этого создайте список `columns_to_replace`, переберите его элементы циклом `for` и для каждого столбца выполните замену пропущенных значений:"
   ]
  },
  {
   "cell_type": "code",
   "execution_count": 12,
   "metadata": {
    "id": "KplB5qWs_Zct"
   },
   "outputs": [],
   "source": [
    "columns_to_replace = [\"track\", \"artist\", \"genre\"] # перебор названий столбцов в цикле и замена пропущенных значений на 'unknown'\n",
    "for column in columns_to_replace:\n",
    "    df[column] = df[column].fillna('unknown')"
   ]
  },
  {
   "cell_type": "markdown",
   "metadata": {
    "id": "Ilsm-MZo_Zct"
   },
   "source": [
    "Убедитесь, что в таблице не осталось пропусков. Для этого ещё раз посчитайте пропущенные значения."
   ]
  },
  {
   "cell_type": "code",
   "execution_count": 13,
   "metadata": {
    "id": "Tq4nYRX4_Zct"
   },
   "outputs": [
    {
     "data": {
      "text/plain": [
       "user_id    0\n",
       "track      0\n",
       "artist     0\n",
       "genre      0\n",
       "city       0\n",
       "time       0\n",
       "day        0\n",
       "dtype: int64"
      ]
     },
     "execution_count": 13,
     "metadata": {},
     "output_type": "execute_result"
    }
   ],
   "source": [
    "df.isna().sum() # подсчёт пропусков"
   ]
  },
  {
   "cell_type": "markdown",
   "metadata": {
    "id": "BWKRtBJ3_Zct"
   },
   "source": [
    "### Дубликаты\n",
    "Посчитайте явные дубликаты в таблице одной командой:"
   ]
  },
  {
   "cell_type": "code",
   "execution_count": 14,
   "metadata": {
    "id": "36eES_S0_Zct"
   },
   "outputs": [
    {
     "data": {
      "text/plain": [
       "3826"
      ]
     },
     "execution_count": 14,
     "metadata": {},
     "output_type": "execute_result"
    }
   ],
   "source": [
    "# подсчёт явных дубликатов\n",
    "df.duplicated().sum()"
   ]
  },
  {
   "cell_type": "markdown",
   "metadata": {
    "id": "Ot25h6XR_Zct"
   },
   "source": [
    "Вызовите специальный метод `pandas`, чтобы удалить явные дубликаты:"
   ]
  },
  {
   "cell_type": "code",
   "execution_count": 15,
   "metadata": {
    "id": "exFHq6tt_Zct"
   },
   "outputs": [],
   "source": [
    "# удаление явных дубликатов (с удалением старых индексов и формированием новых)\n",
    "df=df.drop_duplicates().reset_index(drop=True)"
   ]
  },
  {
   "cell_type": "markdown",
   "metadata": {
    "id": "Im2YwBEG_Zct"
   },
   "source": [
    "Ещё раз посчитайте явные дубликаты в таблице — убедитесь, что полностью от них избавились:"
   ]
  },
  {
   "cell_type": "code",
   "execution_count": 16,
   "metadata": {
    "id": "-8PuNWQ0_Zct"
   },
   "outputs": [
    {
     "data": {
      "text/plain": [
       "0"
      ]
     },
     "execution_count": 16,
     "metadata": {},
     "output_type": "execute_result"
    }
   ],
   "source": [
    "# проверка на отсутствие дубликатов\n",
    "df.duplicated().sum()"
   ]
  },
  {
   "cell_type": "markdown",
   "metadata": {
    "id": "QlFBsxAr_Zct"
   },
   "source": [
    "Теперь избавьтесь от неявных дубликатов в колонке `genre`. Например, название одного и того же жанра может быть записано немного по-разному. Такие ошибки тоже повлияют на результат исследования."
   ]
  },
  {
   "cell_type": "markdown",
   "metadata": {
    "id": "eSjWwsOh_Zct"
   },
   "source": [
    "Выведите на экран список уникальных названий жанров, отсортированный в алфавитном порядке. Для этого:\n",
    "* извлеките нужный столбец датафрейма, \n",
    "* примените к нему метод сортировки,\n",
    "* для отсортированного столбца вызовите метод, который вернёт уникальные значения из столбца."
   ]
  },
  {
   "cell_type": "code",
   "execution_count": 17,
   "metadata": {
    "id": "JIUcqzZN_Zct",
    "scrolled": false
   },
   "outputs": [
    {
     "data": {
      "text/plain": [
       "array(['acid', 'acoustic', 'action', 'adult', 'africa', 'afrikaans',\n",
       "       'alternative', 'alternativepunk', 'ambient', 'americana',\n",
       "       'animated', 'anime', 'arabesk', 'arabic', 'arena',\n",
       "       'argentinetango', 'art', 'audiobook', 'author', 'avantgarde',\n",
       "       'axé', 'baile', 'balkan', 'beats', 'bigroom', 'black', 'bluegrass',\n",
       "       'blues', 'bollywood', 'bossa', 'brazilian', 'breakbeat', 'breaks',\n",
       "       'broadway', 'cantautori', 'cantopop', 'canzone', 'caribbean',\n",
       "       'caucasian', 'celtic', 'chamber', 'chanson', 'children', 'chill',\n",
       "       'chinese', 'choral', 'christian', 'christmas', 'classical',\n",
       "       'classicmetal', 'club', 'colombian', 'comedy', 'conjazz',\n",
       "       'contemporary', 'country', 'cuban', 'dance', 'dancehall',\n",
       "       'dancepop', 'dark', 'death', 'deep', 'deutschrock', 'deutschspr',\n",
       "       'dirty', 'disco', 'dnb', 'documentary', 'downbeat', 'downtempo',\n",
       "       'drum', 'dub', 'dubstep', 'eastern', 'easy', 'electronic',\n",
       "       'electropop', 'emo', 'entehno', 'epicmetal', 'estrada', 'ethnic',\n",
       "       'eurofolk', 'european', 'experimental', 'extrememetal', 'fado',\n",
       "       'fairytail', 'film', 'fitness', 'flamenco', 'folk', 'folklore',\n",
       "       'folkmetal', 'folkrock', 'folktronica', 'forró', 'frankreich',\n",
       "       'französisch', 'french', 'funk', 'future', 'gangsta', 'garage',\n",
       "       'german', 'ghazal', 'gitarre', 'glitch', 'gospel', 'gothic',\n",
       "       'grime', 'grunge', 'gypsy', 'handsup', \"hard'n'heavy\", 'hardcore',\n",
       "       'hardstyle', 'hardtechno', 'hip', 'hip-hop', 'hiphop',\n",
       "       'historisch', 'holiday', 'hop', 'horror', 'house', 'hymn', 'idm',\n",
       "       'independent', 'indian', 'indie', 'indipop', 'industrial',\n",
       "       'inspirational', 'instrumental', 'international', 'irish', 'jam',\n",
       "       'japanese', 'jazz', 'jewish', 'jpop', 'jungle', 'k-pop',\n",
       "       'karadeniz', 'karaoke', 'kayokyoku', 'korean', 'laiko', 'latin',\n",
       "       'latino', 'leftfield', 'local', 'lounge', 'loungeelectronic',\n",
       "       'lovers', 'malaysian', 'mandopop', 'marschmusik', 'meditative',\n",
       "       'mediterranean', 'melodic', 'metal', 'metalcore', 'mexican',\n",
       "       'middle', 'minimal', 'miscellaneous', 'modern', 'mood', 'mpb',\n",
       "       'muslim', 'native', 'neoklassik', 'neue', 'new', 'newage',\n",
       "       'newwave', 'nu', 'nujazz', 'numetal', 'oceania', 'old', 'opera',\n",
       "       'orchestral', 'other', 'piano', 'podcasts', 'pop', 'popdance',\n",
       "       'popelectronic', 'popeurodance', 'poprussian', 'post',\n",
       "       'posthardcore', 'postrock', 'power', 'progmetal', 'progressive',\n",
       "       'psychedelic', 'punjabi', 'punk', 'quebecois', 'ragga', 'ram',\n",
       "       'rancheras', 'rap', 'rave', 'reggae', 'reggaeton', 'regional',\n",
       "       'relax', 'religious', 'retro', 'rhythm', 'rnb', 'rnr', 'rock',\n",
       "       'rockabilly', 'rockalternative', 'rockindie', 'rockother',\n",
       "       'romance', 'roots', 'ruspop', 'rusrap', 'rusrock', 'russian',\n",
       "       'salsa', 'samba', 'scenic', 'schlager', 'self', 'sertanejo',\n",
       "       'shanson', 'shoegazing', 'showtunes', 'singer', 'ska', 'skarock',\n",
       "       'slow', 'smooth', 'soft', 'soul', 'soulful', 'sound', 'soundtrack',\n",
       "       'southern', 'specialty', 'speech', 'spiritual', 'sport',\n",
       "       'stonerrock', 'surf', 'swing', 'synthpop', 'synthrock',\n",
       "       'sängerportrait', 'tango', 'tanzorchester', 'taraftar', 'tatar',\n",
       "       'tech', 'techno', 'teen', 'thrash', 'top', 'traditional',\n",
       "       'tradjazz', 'trance', 'tribal', 'trip', 'triphop', 'tropical',\n",
       "       'türk', 'türkçe', 'ukrrock', 'unknown', 'urban', 'uzbek',\n",
       "       'variété', 'vi', 'videogame', 'vocal', 'western', 'world',\n",
       "       'worldbeat', 'ïîï', 'электроника'], dtype=object)"
      ]
     },
     "execution_count": 17,
     "metadata": {},
     "output_type": "execute_result"
    }
   ],
   "source": [
    "# Просмотр уникальных названий жанров\n",
    "df['genre'].sort_values().unique()"
   ]
  },
  {
   "cell_type": "markdown",
   "metadata": {
    "id": "qej-Qmuo_Zct"
   },
   "source": [
    "Просмотрите список и найдите неявные дубликаты названия `hiphop`. Это могут быть названия с ошибками или альтернативные названия того же жанра.\n",
    "\n",
    "Вы увидите следующие неявные дубликаты:\n",
    "* *hip*,\n",
    "* *hop*,\n",
    "* *hip-hop*.\n",
    "\n",
    "Чтобы очистить от них таблицу, напишите функцию `replace_wrong_genres()` с двумя параметрами: \n",
    "* `wrong_genres` — список дубликатов,\n",
    "* `correct_genre` — строка с правильным значением.\n",
    "\n",
    "Функция должна исправить колонку `genre` в таблице `df`: заменить каждое значение из списка `wrong_genres` на значение из `correct_genre`."
   ]
  },
  {
   "cell_type": "code",
   "execution_count": 18,
   "metadata": {
    "id": "ErNDkmns_Zct"
   },
   "outputs": [],
   "source": [
    "# Функция для замены неявных дубликатов\n",
    "def replace_wrong_genres(wrong_genres, correct_genre):\n",
    "    for wrong_genre in wrong_genres:\n",
    "        df[\"genre\"] = df[\"genre\"].replace(wrong_genre, correct_genre)"
   ]
  },
  {
   "cell_type": "markdown",
   "metadata": {
    "id": "aDoBJxbA_Zct"
   },
   "source": [
    "Вызовите `replace_wrong_genres()` и передайте ей такие аргументы, чтобы она устранила неявные дубликаты: вместо `hip`, `hop` и `hip-hop` в таблице должно быть значение `hiphop`:"
   ]
  },
  {
   "cell_type": "code",
   "execution_count": 19,
   "metadata": {
    "id": "YN5i2hpmSo09",
    "scrolled": true
   },
   "outputs": [],
   "source": [
    "# Устранение неявных дубликатов\n",
    "replace_wrong_genres(['hip', 'hop', 'hip-hop'], 'hiphop')"
   ]
  },
  {
   "cell_type": "markdown",
   "metadata": {
    "id": "zQKF16_RG15m"
   },
   "source": [
    "Проверьте, что заменили неправильные названия:\n",
    "\n",
    "*   hip\n",
    "*   hop\n",
    "*   hip-hop\n",
    "\n",
    "Выведите отсортированный список уникальных значений столбца `genre`:"
   ]
  },
  {
   "cell_type": "code",
   "execution_count": 20,
   "metadata": {
    "id": "wvixALnFG15m"
   },
   "outputs": [
    {
     "data": {
      "text/plain": [
       "array(['acid', 'acoustic', 'action', 'adult', 'africa', 'afrikaans',\n",
       "       'alternative', 'alternativepunk', 'ambient', 'americana',\n",
       "       'animated', 'anime', 'arabesk', 'arabic', 'arena',\n",
       "       'argentinetango', 'art', 'audiobook', 'author', 'avantgarde',\n",
       "       'axé', 'baile', 'balkan', 'beats', 'bigroom', 'black', 'bluegrass',\n",
       "       'blues', 'bollywood', 'bossa', 'brazilian', 'breakbeat', 'breaks',\n",
       "       'broadway', 'cantautori', 'cantopop', 'canzone', 'caribbean',\n",
       "       'caucasian', 'celtic', 'chamber', 'chanson', 'children', 'chill',\n",
       "       'chinese', 'choral', 'christian', 'christmas', 'classical',\n",
       "       'classicmetal', 'club', 'colombian', 'comedy', 'conjazz',\n",
       "       'contemporary', 'country', 'cuban', 'dance', 'dancehall',\n",
       "       'dancepop', 'dark', 'death', 'deep', 'deutschrock', 'deutschspr',\n",
       "       'dirty', 'disco', 'dnb', 'documentary', 'downbeat', 'downtempo',\n",
       "       'drum', 'dub', 'dubstep', 'eastern', 'easy', 'electronic',\n",
       "       'electropop', 'emo', 'entehno', 'epicmetal', 'estrada', 'ethnic',\n",
       "       'eurofolk', 'european', 'experimental', 'extrememetal', 'fado',\n",
       "       'fairytail', 'film', 'fitness', 'flamenco', 'folk', 'folklore',\n",
       "       'folkmetal', 'folkrock', 'folktronica', 'forró', 'frankreich',\n",
       "       'französisch', 'french', 'funk', 'future', 'gangsta', 'garage',\n",
       "       'german', 'ghazal', 'gitarre', 'glitch', 'gospel', 'gothic',\n",
       "       'grime', 'grunge', 'gypsy', 'handsup', \"hard'n'heavy\", 'hardcore',\n",
       "       'hardstyle', 'hardtechno', 'hiphop', 'historisch', 'holiday',\n",
       "       'horror', 'house', 'hymn', 'idm', 'independent', 'indian', 'indie',\n",
       "       'indipop', 'industrial', 'inspirational', 'instrumental',\n",
       "       'international', 'irish', 'jam', 'japanese', 'jazz', 'jewish',\n",
       "       'jpop', 'jungle', 'k-pop', 'karadeniz', 'karaoke', 'kayokyoku',\n",
       "       'korean', 'laiko', 'latin', 'latino', 'leftfield', 'local',\n",
       "       'lounge', 'loungeelectronic', 'lovers', 'malaysian', 'mandopop',\n",
       "       'marschmusik', 'meditative', 'mediterranean', 'melodic', 'metal',\n",
       "       'metalcore', 'mexican', 'middle', 'minimal', 'miscellaneous',\n",
       "       'modern', 'mood', 'mpb', 'muslim', 'native', 'neoklassik', 'neue',\n",
       "       'new', 'newage', 'newwave', 'nu', 'nujazz', 'numetal', 'oceania',\n",
       "       'old', 'opera', 'orchestral', 'other', 'piano', 'podcasts', 'pop',\n",
       "       'popdance', 'popelectronic', 'popeurodance', 'poprussian', 'post',\n",
       "       'posthardcore', 'postrock', 'power', 'progmetal', 'progressive',\n",
       "       'psychedelic', 'punjabi', 'punk', 'quebecois', 'ragga', 'ram',\n",
       "       'rancheras', 'rap', 'rave', 'reggae', 'reggaeton', 'regional',\n",
       "       'relax', 'religious', 'retro', 'rhythm', 'rnb', 'rnr', 'rock',\n",
       "       'rockabilly', 'rockalternative', 'rockindie', 'rockother',\n",
       "       'romance', 'roots', 'ruspop', 'rusrap', 'rusrock', 'russian',\n",
       "       'salsa', 'samba', 'scenic', 'schlager', 'self', 'sertanejo',\n",
       "       'shanson', 'shoegazing', 'showtunes', 'singer', 'ska', 'skarock',\n",
       "       'slow', 'smooth', 'soft', 'soul', 'soulful', 'sound', 'soundtrack',\n",
       "       'southern', 'specialty', 'speech', 'spiritual', 'sport',\n",
       "       'stonerrock', 'surf', 'swing', 'synthpop', 'synthrock',\n",
       "       'sängerportrait', 'tango', 'tanzorchester', 'taraftar', 'tatar',\n",
       "       'tech', 'techno', 'teen', 'thrash', 'top', 'traditional',\n",
       "       'tradjazz', 'trance', 'tribal', 'trip', 'triphop', 'tropical',\n",
       "       'türk', 'türkçe', 'ukrrock', 'unknown', 'urban', 'uzbek',\n",
       "       'variété', 'vi', 'videogame', 'vocal', 'western', 'world',\n",
       "       'worldbeat', 'ïîï', 'электроника'], dtype=object)"
      ]
     },
     "execution_count": 20,
     "metadata": {},
     "output_type": "execute_result"
    }
   ],
   "source": [
    "# Проверка на неявные дубликаты\n",
    "df['genre'].sort_values().unique()"
   ]
  },
  {
   "cell_type": "markdown",
   "metadata": {
    "id": "jz6a9-7HQUDd"
   },
   "source": [
    "**Выводы**\n",
    "\n",
    "Предобработка обнаружила три проблемы в данных:\n",
    "\n",
    "- нарушения в стиле заголовков,\n",
    "- пропущенные значения,\n",
    "- дубликаты — явные и неявные.\n",
    "\n",
    "Исправили заголовки, чтобы упростить работу с таблицей. Без дубликатов исследование станет более точным.\n",
    "\n",
    "Пропущенные значения вы заменили на `'unknown'`. Ещё предстоит увидеть, не повредят ли исследованию пропуски в колонке `genre`.\n",
    "\n",
    "Теперь можно перейти к проверке гипотез. "
   ]
  },
  {
   "cell_type": "markdown",
   "metadata": {
    "id": "WttZHXH0SqKk"
   },
   "source": [
    "## Проверка гипотез"
   ]
  },
  {
   "cell_type": "markdown",
   "metadata": {
    "id": "Im936VVi_Zcu"
   },
   "source": [
    "### Сравнение поведения пользователей двух столиц"
   ]
  },
  {
   "cell_type": "markdown",
   "metadata": {
    "id": "nwt_MuaL_Zcu"
   },
   "source": [
    "Первая гипотеза утверждает, что пользователи по-разному слушают музыку в Москве и Санкт-Петербурге. Проверьте это предположение по данным о трёх днях недели — понедельнике, среде и пятнице. Для этого:\n",
    "\n",
    "* Разделите пользователей Москвы и Санкт-Петербурга\n",
    "* Сравните, сколько треков послушала каждая группа пользователей в понедельник, среду и пятницу.\n"
   ]
  },
  {
   "cell_type": "markdown",
   "metadata": {
    "id": "8Dw_YMmT_Zcu"
   },
   "source": [
    "Для тренировки сначала выполните каждый из расчётов по отдельности. \n",
    "\n",
    "Оцените активность пользователей в каждом городе. Сгруппируйте данные по городу и посчитайте прослушивания в каждой группе.\n",
    "\n"
   ]
  },
  {
   "cell_type": "code",
   "execution_count": 21,
   "metadata": {
    "id": "0_Qs96oh_Zcu"
   },
   "outputs": [
    {
     "data": {
      "text/plain": [
       "city\n",
       "Moscow              42741\n",
       "Saint-Petersburg    18512\n",
       "Name: user_id, dtype: int64"
      ]
     },
     "execution_count": 21,
     "metadata": {},
     "output_type": "execute_result"
    }
   ],
   "source": [
    "# Подсчёт прослушиваний в каждом городе\n",
    "df.groupby(\"city\")[\"user_id\"].count()"
   ]
  },
  {
   "cell_type": "markdown",
   "metadata": {
    "id": "dzli3w8o_Zcu"
   },
   "source": [
    "В Москве прослушиваний больше, чем в Петербурге. Из этого не следует, что московские пользователи чаще слушают музыку. Просто самих пользователей в Москве больше.\n",
    "\n",
    "Теперь сгруппируйте данные по дню недели и подсчитайте прослушивания в понедельник, среду и пятницу. Учтите, что в данных есть информация только о прослушиваниях только за эти дни.\n"
   ]
  },
  {
   "cell_type": "code",
   "execution_count": 22,
   "metadata": {
    "id": "uZMKjiJz_Zcu"
   },
   "outputs": [
    {
     "data": {
      "text/plain": [
       "day\n",
       "Friday       21840\n",
       "Monday       21354\n",
       "Wednesday    18059\n",
       "Name: user_id, dtype: int64"
      ]
     },
     "execution_count": 22,
     "metadata": {},
     "output_type": "execute_result"
    }
   ],
   "source": [
    "# Подсчёт прослушиваний в каждый из трёх дней\n",
    "df.groupby(\"day\")[\"user_id\"].count()"
   ]
  },
  {
   "cell_type": "markdown",
   "metadata": {
    "id": "cC2tNrlL_Zcu"
   },
   "source": [
    "В среднем пользователи из двух городов менее активны по средам. Но картина может измениться, если рассмотреть каждый город в отдельности."
   ]
  },
  {
   "cell_type": "markdown",
   "metadata": {
    "id": "POzs8bGa_Zcu"
   },
   "source": [
    "Вы видели, как работает группировка по городу и по дням недели. Теперь напишите функцию, которая объединит два эти расчёта.\n",
    "\n",
    "Создайте функцию `number_tracks()`, которая посчитает прослушивания для заданного дня и города. Ей понадобятся два параметра:\n",
    "* день недели,\n",
    "* название города.\n",
    "\n",
    "В функции сохраните в переменную строки исходной таблицы, у которых значение:\n",
    "  * в колонке `day` равно параметру `day`,\n",
    "  * в колонке `city` равно параметру `city`.\n",
    "\n",
    "Для этого примените последовательную фильтрацию с логической индексацией.\n",
    "\n",
    "Затем посчитайте значения в столбце `user_id` получившейся таблицы. Результат сохраните в новую переменную. Верните эту переменную из функции."
   ]
  },
  {
   "cell_type": "code",
   "execution_count": 23,
   "metadata": {
    "id": "Nz3GdQB1_Zcu"
   },
   "outputs": [],
   "source": [
    "# <создание функции number_tracks()>\n",
    "# Объявляется функция с двумя параметрами: day, city.\n",
    "# В переменной track_list сохраняются те строки таблицы df, для которых \n",
    "# значение в столбце 'day' равно параметру day и одновременно значение\n",
    "# в столбце 'city' равно параметру city (используйте последовательную фильтрацию\n",
    "# с помощью логической индексации).\n",
    "# В переменной track_list_count сохраняется число значений столбца 'user_id',\n",
    "# рассчитанное методом count() для таблицы track_list.\n",
    "# Функция возвращает число - значение track_list_count.\n",
    "\n",
    "def number_tracks(day, city):\n",
    "    track_list = df[(df[\"day\"] == day) & (df[\"city\"] == city)]\n",
    "    track_list_count = track_list[\"user_id\"].count()\n",
    "    return track_list_count\n",
    "    \n",
    "# Функция для подсчёта прослушиваний для конкретного города и дня.\n",
    "# С помощью последовательной фильтрации с логической индексацией она \n",
    "# сначала получит из исходной таблицы строки с нужным днём,\n",
    "# затем из результата отфильтрует строки с нужным городом,\n",
    "# методом count() посчитает количество значений в колонке user_id. \n",
    "# Это количество функция вернёт в качестве результата"
   ]
  },
  {
   "cell_type": "markdown",
   "metadata": {
    "id": "ytf7xFrFJQ2r"
   },
   "source": [
    "Вызовите `number_tracks()` шесть раз, меняя значение параметров — так, чтобы получить данные для каждого города в каждый из трёх дней."
   ]
  },
  {
   "cell_type": "code",
   "execution_count": 24,
   "metadata": {
    "id": "rJcRATNQ_Zcu",
    "scrolled": false
   },
   "outputs": [
    {
     "data": {
      "text/plain": [
       "15740"
      ]
     },
     "execution_count": 24,
     "metadata": {},
     "output_type": "execute_result"
    }
   ],
   "source": [
    "# количество прослушиваний в Москве по понедельникам\n",
    "number_tracks('Monday', 'Moscow')"
   ]
  },
  {
   "cell_type": "code",
   "execution_count": 25,
   "metadata": {
    "id": "hq_ncZ5T_Zcu"
   },
   "outputs": [
    {
     "data": {
      "text/plain": [
       "5614"
      ]
     },
     "execution_count": 25,
     "metadata": {},
     "output_type": "execute_result"
    }
   ],
   "source": [
    "# количество прослушиваний в Санкт-Петербурге по понедельникам\n",
    "number_tracks(\"Monday\", \"Saint-Petersburg\")"
   ]
  },
  {
   "cell_type": "code",
   "execution_count": 26,
   "metadata": {
    "id": "_NTy2VPU_Zcu"
   },
   "outputs": [
    {
     "data": {
      "text/plain": [
       "11056"
      ]
     },
     "execution_count": 26,
     "metadata": {},
     "output_type": "execute_result"
    }
   ],
   "source": [
    "# количество прослушиваний в Москве по средам\n",
    "number_tracks(\"Wednesday\", \"Moscow\")"
   ]
  },
  {
   "cell_type": "code",
   "execution_count": 27,
   "metadata": {
    "id": "j2y3TAwo_Zcu"
   },
   "outputs": [
    {
     "data": {
      "text/plain": [
       "7003"
      ]
     },
     "execution_count": 27,
     "metadata": {},
     "output_type": "execute_result"
    }
   ],
   "source": [
    "# количество прослушиваний в Санкт-Петербурге по средам\n",
    "number_tracks(\"Wednesday\", \"Saint-Petersburg\")"
   ]
  },
  {
   "cell_type": "code",
   "execution_count": 28,
   "metadata": {
    "id": "vYDw5u_K_Zcu"
   },
   "outputs": [
    {
     "data": {
      "text/plain": [
       "15945"
      ]
     },
     "execution_count": 28,
     "metadata": {},
     "output_type": "execute_result"
    }
   ],
   "source": [
    "# количество прослушиваний в Москве по пятницам\n",
    "number_tracks(\"Friday\", \"Moscow\")"
   ]
  },
  {
   "cell_type": "code",
   "execution_count": 29,
   "metadata": {
    "id": "8_yzFtW3_Zcu"
   },
   "outputs": [
    {
     "data": {
      "text/plain": [
       "5895"
      ]
     },
     "execution_count": 29,
     "metadata": {},
     "output_type": "execute_result"
    }
   ],
   "source": [
    "# количество прослушиваний в Санкт-Петербурге по пятницам\n",
    "number_tracks(\"Friday\", \"Saint-Petersburg\")"
   ]
  },
  {
   "cell_type": "markdown",
   "metadata": {
    "id": "7QXffbO-_Zcu"
   },
   "source": [
    "Создайте c помощью конструктора `pd.DataFrame` таблицу, где\n",
    "* названия колонок — `['city', 'monday', 'wednesday', 'friday']`;\n",
    "* данные — результаты, которые вы получили с помощью `number_tracks`."
   ]
  },
  {
   "cell_type": "code",
   "execution_count": 30,
   "metadata": {
    "id": "APAcLpOr_Zcu"
   },
   "outputs": [
    {
     "data": {
      "text/html": [
       "<div>\n",
       "<style scoped>\n",
       "    .dataframe tbody tr th:only-of-type {\n",
       "        vertical-align: middle;\n",
       "    }\n",
       "\n",
       "    .dataframe tbody tr th {\n",
       "        vertical-align: top;\n",
       "    }\n",
       "\n",
       "    .dataframe thead th {\n",
       "        text-align: right;\n",
       "    }\n",
       "</style>\n",
       "<table border=\"1\" class=\"dataframe\">\n",
       "  <thead>\n",
       "    <tr style=\"text-align: right;\">\n",
       "      <th></th>\n",
       "      <th>city</th>\n",
       "      <th>monday</th>\n",
       "      <th>wednesday</th>\n",
       "      <th>friday</th>\n",
       "    </tr>\n",
       "  </thead>\n",
       "  <tbody>\n",
       "    <tr>\n",
       "      <th>0</th>\n",
       "      <td>Moscow</td>\n",
       "      <td>15740</td>\n",
       "      <td>11056</td>\n",
       "      <td>15945</td>\n",
       "    </tr>\n",
       "    <tr>\n",
       "      <th>1</th>\n",
       "      <td>Saint-Petersburg</td>\n",
       "      <td>5614</td>\n",
       "      <td>7003</td>\n",
       "      <td>5895</td>\n",
       "    </tr>\n",
       "  </tbody>\n",
       "</table>\n",
       "</div>"
      ],
      "text/plain": [
       "               city  monday  wednesday  friday\n",
       "0            Moscow   15740      11056   15945\n",
       "1  Saint-Petersburg    5614       7003    5895"
      ]
     },
     "metadata": {},
     "output_type": "display_data"
    }
   ],
   "source": [
    "# Таблица с результатами\n",
    "table = pd.DataFrame(data=[[\"Moscow\", 15740, 11056, 15945], [\"Saint-Petersburg\", 5614, 7003, 5895]], columns=['city', 'monday', 'wednesday', 'friday'])\n",
    "display(table)"
   ]
  },
  {
   "cell_type": "markdown",
   "metadata": {
    "id": "-EgPIHYu_Zcu"
   },
   "source": [
    "**Выводы**\n",
    "\n",
    "Данные показывают разницу поведения пользователей:\n",
    "\n",
    "- В Москве пик прослушиваний приходится на понедельник и пятницу, а в среду заметен спад.\n",
    "- В Петербурге, наоборот, больше слушают музыку по средам. Активность в понедельник и пятницу здесь почти в равной мере уступает среде.\n",
    "\n",
    "Значит, данные говорят в пользу первой гипотезы."
   ]
  },
  {
   "cell_type": "markdown",
   "metadata": {
    "id": "atZAxtq4_Zcu"
   },
   "source": [
    "### Музыка в начале и в конце недели"
   ]
  },
  {
   "cell_type": "markdown",
   "metadata": {
    "id": "eXrQqXFH_Zcu"
   },
   "source": [
    "Согласно второй гипотезе, утром в понедельник в Москве преобладают одни жанры, а в Петербурге — другие. Так же и вечером пятницы преобладают разные жанры — в зависимости от города."
   ]
  },
  {
   "cell_type": "markdown",
   "metadata": {
    "id": "S8UcW6Hw_Zcu"
   },
   "source": [
    "Сохраните таблицы с данными в две переменные:\n",
    "* по Москве — в `moscow_general`;\n",
    "* по Санкт-Петербургу — в `spb_general`."
   ]
  },
  {
   "cell_type": "code",
   "execution_count": 31,
   "metadata": {
    "id": "qeaFfM_P_Zcu"
   },
   "outputs": [
    {
     "data": {
      "text/html": [
       "<div>\n",
       "<style scoped>\n",
       "    .dataframe tbody tr th:only-of-type {\n",
       "        vertical-align: middle;\n",
       "    }\n",
       "\n",
       "    .dataframe tbody tr th {\n",
       "        vertical-align: top;\n",
       "    }\n",
       "\n",
       "    .dataframe thead th {\n",
       "        text-align: right;\n",
       "    }\n",
       "</style>\n",
       "<table border=\"1\" class=\"dataframe\">\n",
       "  <thead>\n",
       "    <tr style=\"text-align: right;\">\n",
       "      <th></th>\n",
       "      <th>user_id</th>\n",
       "      <th>track</th>\n",
       "      <th>artist</th>\n",
       "      <th>genre</th>\n",
       "      <th>city</th>\n",
       "      <th>time</th>\n",
       "      <th>day</th>\n",
       "    </tr>\n",
       "  </thead>\n",
       "  <tbody>\n",
       "    <tr>\n",
       "      <th>1</th>\n",
       "      <td>55204538</td>\n",
       "      <td>Delayed Because of Accident</td>\n",
       "      <td>Andreas Rönnberg</td>\n",
       "      <td>rock</td>\n",
       "      <td>Moscow</td>\n",
       "      <td>14:07:09</td>\n",
       "      <td>Friday</td>\n",
       "    </tr>\n",
       "    <tr>\n",
       "      <th>4</th>\n",
       "      <td>E2DC1FAE</td>\n",
       "      <td>Soul People</td>\n",
       "      <td>Space Echo</td>\n",
       "      <td>dance</td>\n",
       "      <td>Moscow</td>\n",
       "      <td>08:34:34</td>\n",
       "      <td>Monday</td>\n",
       "    </tr>\n",
       "    <tr>\n",
       "      <th>6</th>\n",
       "      <td>4CB90AA5</td>\n",
       "      <td>True</td>\n",
       "      <td>Roman Messer</td>\n",
       "      <td>dance</td>\n",
       "      <td>Moscow</td>\n",
       "      <td>13:00:07</td>\n",
       "      <td>Wednesday</td>\n",
       "    </tr>\n",
       "    <tr>\n",
       "      <th>7</th>\n",
       "      <td>F03E1C1F</td>\n",
       "      <td>Feeling This Way</td>\n",
       "      <td>Polina Griffith</td>\n",
       "      <td>dance</td>\n",
       "      <td>Moscow</td>\n",
       "      <td>20:47:49</td>\n",
       "      <td>Wednesday</td>\n",
       "    </tr>\n",
       "    <tr>\n",
       "      <th>8</th>\n",
       "      <td>8FA1D3BE</td>\n",
       "      <td>И вновь продолжается бой</td>\n",
       "      <td>unknown</td>\n",
       "      <td>ruspop</td>\n",
       "      <td>Moscow</td>\n",
       "      <td>09:17:40</td>\n",
       "      <td>Friday</td>\n",
       "    </tr>\n",
       "    <tr>\n",
       "      <th>...</th>\n",
       "      <td>...</td>\n",
       "      <td>...</td>\n",
       "      <td>...</td>\n",
       "      <td>...</td>\n",
       "      <td>...</td>\n",
       "      <td>...</td>\n",
       "      <td>...</td>\n",
       "    </tr>\n",
       "    <tr>\n",
       "      <th>61247</th>\n",
       "      <td>83A474E7</td>\n",
       "      <td>I Worship Only What You Bleed</td>\n",
       "      <td>The Black Dahlia Murder</td>\n",
       "      <td>extrememetal</td>\n",
       "      <td>Moscow</td>\n",
       "      <td>21:07:12</td>\n",
       "      <td>Monday</td>\n",
       "    </tr>\n",
       "    <tr>\n",
       "      <th>61248</th>\n",
       "      <td>729CBB09</td>\n",
       "      <td>My Name</td>\n",
       "      <td>McLean</td>\n",
       "      <td>rnb</td>\n",
       "      <td>Moscow</td>\n",
       "      <td>13:32:28</td>\n",
       "      <td>Wednesday</td>\n",
       "    </tr>\n",
       "    <tr>\n",
       "      <th>61250</th>\n",
       "      <td>C5E3A0D5</td>\n",
       "      <td>Jalopiina</td>\n",
       "      <td>unknown</td>\n",
       "      <td>industrial</td>\n",
       "      <td>Moscow</td>\n",
       "      <td>20:09:26</td>\n",
       "      <td>Friday</td>\n",
       "    </tr>\n",
       "    <tr>\n",
       "      <th>61251</th>\n",
       "      <td>321D0506</td>\n",
       "      <td>Freight Train</td>\n",
       "      <td>Chas McDevitt</td>\n",
       "      <td>rock</td>\n",
       "      <td>Moscow</td>\n",
       "      <td>21:43:59</td>\n",
       "      <td>Friday</td>\n",
       "    </tr>\n",
       "    <tr>\n",
       "      <th>61252</th>\n",
       "      <td>3A64EF84</td>\n",
       "      <td>Tell Me Sweet Little Lies</td>\n",
       "      <td>Monica Lopez</td>\n",
       "      <td>country</td>\n",
       "      <td>Moscow</td>\n",
       "      <td>21:59:46</td>\n",
       "      <td>Friday</td>\n",
       "    </tr>\n",
       "  </tbody>\n",
       "</table>\n",
       "<p>42741 rows × 7 columns</p>\n",
       "</div>"
      ],
      "text/plain": [
       "        user_id                          track                   artist  \\\n",
       "1      55204538    Delayed Because of Accident         Andreas Rönnberg   \n",
       "4      E2DC1FAE                    Soul People               Space Echo   \n",
       "6      4CB90AA5                           True             Roman Messer   \n",
       "7      F03E1C1F               Feeling This Way          Polina Griffith   \n",
       "8      8FA1D3BE       И вновь продолжается бой                  unknown   \n",
       "...         ...                            ...                      ...   \n",
       "61247  83A474E7  I Worship Only What You Bleed  The Black Dahlia Murder   \n",
       "61248  729CBB09                        My Name                   McLean   \n",
       "61250  C5E3A0D5                      Jalopiina                  unknown   \n",
       "61251  321D0506                  Freight Train            Chas McDevitt   \n",
       "61252  3A64EF84      Tell Me Sweet Little Lies             Monica Lopez   \n",
       "\n",
       "              genre    city      time        day  \n",
       "1              rock  Moscow  14:07:09     Friday  \n",
       "4             dance  Moscow  08:34:34     Monday  \n",
       "6             dance  Moscow  13:00:07  Wednesday  \n",
       "7             dance  Moscow  20:47:49  Wednesday  \n",
       "8            ruspop  Moscow  09:17:40     Friday  \n",
       "...             ...     ...       ...        ...  \n",
       "61247  extrememetal  Moscow  21:07:12     Monday  \n",
       "61248           rnb  Moscow  13:32:28  Wednesday  \n",
       "61250    industrial  Moscow  20:09:26     Friday  \n",
       "61251          rock  Moscow  21:43:59     Friday  \n",
       "61252       country  Moscow  21:59:46     Friday  \n",
       "\n",
       "[42741 rows x 7 columns]"
      ]
     },
     "metadata": {},
     "output_type": "display_data"
    }
   ],
   "source": [
    "# получение таблицы moscow_general из тех строк таблицы df, \n",
    "# для которых значение в столбце 'city' равно 'Moscow'\n",
    "moscow_general = df[df[\"city\"] == \"Moscow\"]\n",
    "display(moscow_general)"
   ]
  },
  {
   "cell_type": "code",
   "execution_count": 32,
   "metadata": {
    "id": "ORaVRKto_Zcu"
   },
   "outputs": [
    {
     "data": {
      "text/html": [
       "<div>\n",
       "<style scoped>\n",
       "    .dataframe tbody tr th:only-of-type {\n",
       "        vertical-align: middle;\n",
       "    }\n",
       "\n",
       "    .dataframe tbody tr th {\n",
       "        vertical-align: top;\n",
       "    }\n",
       "\n",
       "    .dataframe thead th {\n",
       "        text-align: right;\n",
       "    }\n",
       "</style>\n",
       "<table border=\"1\" class=\"dataframe\">\n",
       "  <thead>\n",
       "    <tr style=\"text-align: right;\">\n",
       "      <th></th>\n",
       "      <th>user_id</th>\n",
       "      <th>track</th>\n",
       "      <th>artist</th>\n",
       "      <th>genre</th>\n",
       "      <th>city</th>\n",
       "      <th>time</th>\n",
       "      <th>day</th>\n",
       "    </tr>\n",
       "  </thead>\n",
       "  <tbody>\n",
       "    <tr>\n",
       "      <th>0</th>\n",
       "      <td>FFB692EC</td>\n",
       "      <td>Kamigata To Boots</td>\n",
       "      <td>The Mass Missile</td>\n",
       "      <td>rock</td>\n",
       "      <td>Saint-Petersburg</td>\n",
       "      <td>20:28:33</td>\n",
       "      <td>Wednesday</td>\n",
       "    </tr>\n",
       "    <tr>\n",
       "      <th>2</th>\n",
       "      <td>20EC38</td>\n",
       "      <td>Funiculì funiculà</td>\n",
       "      <td>Mario Lanza</td>\n",
       "      <td>pop</td>\n",
       "      <td>Saint-Petersburg</td>\n",
       "      <td>20:58:07</td>\n",
       "      <td>Wednesday</td>\n",
       "    </tr>\n",
       "    <tr>\n",
       "      <th>3</th>\n",
       "      <td>A3DD03C9</td>\n",
       "      <td>Dragons in the Sunset</td>\n",
       "      <td>Fire + Ice</td>\n",
       "      <td>folk</td>\n",
       "      <td>Saint-Petersburg</td>\n",
       "      <td>08:37:09</td>\n",
       "      <td>Monday</td>\n",
       "    </tr>\n",
       "    <tr>\n",
       "      <th>5</th>\n",
       "      <td>842029A1</td>\n",
       "      <td>Преданная</td>\n",
       "      <td>IMPERVTOR</td>\n",
       "      <td>rusrap</td>\n",
       "      <td>Saint-Petersburg</td>\n",
       "      <td>13:09:41</td>\n",
       "      <td>Friday</td>\n",
       "    </tr>\n",
       "    <tr>\n",
       "      <th>9</th>\n",
       "      <td>E772D5C0</td>\n",
       "      <td>Pessimist</td>\n",
       "      <td>unknown</td>\n",
       "      <td>dance</td>\n",
       "      <td>Saint-Petersburg</td>\n",
       "      <td>21:20:49</td>\n",
       "      <td>Wednesday</td>\n",
       "    </tr>\n",
       "    <tr>\n",
       "      <th>...</th>\n",
       "      <td>...</td>\n",
       "      <td>...</td>\n",
       "      <td>...</td>\n",
       "      <td>...</td>\n",
       "      <td>...</td>\n",
       "      <td>...</td>\n",
       "      <td>...</td>\n",
       "    </tr>\n",
       "    <tr>\n",
       "      <th>61239</th>\n",
       "      <td>D94F810B</td>\n",
       "      <td>Theme from the Walking Dead</td>\n",
       "      <td>Proyecto Halloween</td>\n",
       "      <td>film</td>\n",
       "      <td>Saint-Petersburg</td>\n",
       "      <td>21:14:40</td>\n",
       "      <td>Monday</td>\n",
       "    </tr>\n",
       "    <tr>\n",
       "      <th>61240</th>\n",
       "      <td>BC8EC5CF</td>\n",
       "      <td>Red Lips: Gta (Rover Rework)</td>\n",
       "      <td>Rover</td>\n",
       "      <td>electronic</td>\n",
       "      <td>Saint-Petersburg</td>\n",
       "      <td>21:06:50</td>\n",
       "      <td>Monday</td>\n",
       "    </tr>\n",
       "    <tr>\n",
       "      <th>61241</th>\n",
       "      <td>29E04611</td>\n",
       "      <td>Bre Petrunko</td>\n",
       "      <td>Perunika Trio</td>\n",
       "      <td>world</td>\n",
       "      <td>Saint-Petersburg</td>\n",
       "      <td>13:56:00</td>\n",
       "      <td>Monday</td>\n",
       "    </tr>\n",
       "    <tr>\n",
       "      <th>61242</th>\n",
       "      <td>1B91C621</td>\n",
       "      <td>(Hello) Cloud Mountain</td>\n",
       "      <td>sleepmakeswaves</td>\n",
       "      <td>postrock</td>\n",
       "      <td>Saint-Petersburg</td>\n",
       "      <td>09:22:13</td>\n",
       "      <td>Monday</td>\n",
       "    </tr>\n",
       "    <tr>\n",
       "      <th>61249</th>\n",
       "      <td>D08D4A55</td>\n",
       "      <td>Maybe One Day (feat. Black Spade)</td>\n",
       "      <td>Blu &amp; Exile</td>\n",
       "      <td>hiphop</td>\n",
       "      <td>Saint-Petersburg</td>\n",
       "      <td>10:00:00</td>\n",
       "      <td>Monday</td>\n",
       "    </tr>\n",
       "  </tbody>\n",
       "</table>\n",
       "<p>18512 rows × 7 columns</p>\n",
       "</div>"
      ],
      "text/plain": [
       "        user_id                              track              artist  \\\n",
       "0      FFB692EC                  Kamigata To Boots    The Mass Missile   \n",
       "2        20EC38                  Funiculì funiculà         Mario Lanza   \n",
       "3      A3DD03C9              Dragons in the Sunset          Fire + Ice   \n",
       "5      842029A1                          Преданная           IMPERVTOR   \n",
       "9      E772D5C0                          Pessimist             unknown   \n",
       "...         ...                                ...                 ...   \n",
       "61239  D94F810B        Theme from the Walking Dead  Proyecto Halloween   \n",
       "61240  BC8EC5CF       Red Lips: Gta (Rover Rework)               Rover   \n",
       "61241  29E04611                       Bre Petrunko       Perunika Trio   \n",
       "61242  1B91C621             (Hello) Cloud Mountain     sleepmakeswaves   \n",
       "61249  D08D4A55  Maybe One Day (feat. Black Spade)         Blu & Exile   \n",
       "\n",
       "            genre              city      time        day  \n",
       "0            rock  Saint-Petersburg  20:28:33  Wednesday  \n",
       "2             pop  Saint-Petersburg  20:58:07  Wednesday  \n",
       "3            folk  Saint-Petersburg  08:37:09     Monday  \n",
       "5          rusrap  Saint-Petersburg  13:09:41     Friday  \n",
       "9           dance  Saint-Petersburg  21:20:49  Wednesday  \n",
       "...           ...               ...       ...        ...  \n",
       "61239        film  Saint-Petersburg  21:14:40     Monday  \n",
       "61240  electronic  Saint-Petersburg  21:06:50     Monday  \n",
       "61241       world  Saint-Petersburg  13:56:00     Monday  \n",
       "61242    postrock  Saint-Petersburg  09:22:13     Monday  \n",
       "61249      hiphop  Saint-Petersburg  10:00:00     Monday  \n",
       "\n",
       "[18512 rows x 7 columns]"
      ]
     },
     "metadata": {},
     "output_type": "display_data"
    }
   ],
   "source": [
    "# получение таблицы spb_general из тех строк таблицы df,\n",
    "# для которых значение в столбце 'city' равно 'Saint-Petersburg'\n",
    "spb_general = df[df[\"city\"] == \"Saint-Petersburg\"]\n",
    "display(spb_general)"
   ]
  },
  {
   "cell_type": "markdown",
   "metadata": {
    "id": "MEJV-CX2_Zcu"
   },
   "source": [
    "Создайте функцию `genre_weekday()` с четырьмя параметрами:\n",
    "* таблица (датафрейм) с данными,\n",
    "* день недели,\n",
    "* начальная временная метка в формате 'hh:mm', \n",
    "* последняя временная метка в формате 'hh:mm'.\n",
    "\n",
    "Функция должна вернуть информацию о топ-10 жанров тех треков, которые прослушивали в указанный день, в промежутке между двумя отметками времени."
   ]
  },
  {
   "cell_type": "code",
   "execution_count": 33,
   "metadata": {
    "id": "laJT9BYl_Zcu"
   },
   "outputs": [],
   "source": [
    "# Объявление функции genre_weekday() с параметрами table, day, time1, time2,\n",
    "# которая возвращает информацию о самых популярных жанрах в указанный день в\n",
    "# заданное время:\n",
    "# 1) в переменную genre_df сохраняются те строки переданного датафрейма table, для\n",
    "#    которых одновременно:\n",
    "#    - значение в столбце day равно значению аргумента day\n",
    "#    - значение в столбце time больше значения аргумента time1\n",
    "#    - значение в столбце time меньше значения аргумента time2\n",
    "#    Используйте последовательную фильтрацию с помощью логической индексации.\n",
    "# 2) сгруппировать датафрейм genre_df по столбцу genre, взять один из его\n",
    "#    столбцов и посчитать методом count() количество записей для каждого из\n",
    "#    присутствующих жанров, получившийся Series записать в переменную\n",
    "#    genre_df_count\n",
    "# 3) отсортировать genre_df_count по убыванию встречаемости и сохранить\n",
    "#    в переменную genre_df_sorted\n",
    "# 4) вернуть Series из 10 первых значений genre_df_sorted, это будут топ-10\n",
    "#    популярных жанров (в указанный день, в заданное время)\n",
    "\n",
    "def genre_weekday(table, day, time1, time2):\n",
    "    genre_df = table[(table['day'] == day) & (table['time'] > time1) & (table['time'] < time2)]\n",
    "    genre_df_count = genre_df.groupby(\"genre\")[\"user_id\"].count()\n",
    "    genre_df_sorted = genre_df_count.sort_values(ascending=False)\n",
    "    return genre_df_sorted.head(10)\n"
   ]
  },
  {
   "cell_type": "markdown",
   "metadata": {
    "id": "la2s2_PF_Zcu"
   },
   "source": [
    "Cравните результаты функции `genre_weekday()` для Москвы и Санкт-Петербурга в понедельник утром (с 7:00 до 11:00) и в пятницу вечером (с 17:00 до 23:00):"
   ]
  },
  {
   "cell_type": "code",
   "execution_count": 34,
   "metadata": {
    "id": "yz7itPUQ_Zcu"
   },
   "outputs": [
    {
     "data": {
      "text/plain": [
       "genre\n",
       "pop            781\n",
       "dance          549\n",
       "electronic     480\n",
       "rock           474\n",
       "hiphop         286\n",
       "ruspop         186\n",
       "world          181\n",
       "rusrap         175\n",
       "alternative    164\n",
       "unknown        161\n",
       "Name: user_id, dtype: int64"
      ]
     },
     "execution_count": 34,
     "metadata": {},
     "output_type": "execute_result"
    }
   ],
   "source": [
    "# вызов функции для утра понедельника в Москве (вместо df — таблица moscow_general)\n",
    "# объекты, хранящие время, являются строками и сравниваются как строки\n",
    "# пример вызова: genre_weekday(moscow_general, 'Monday', '07:00', '11:00')\n",
    "genre_weekday(moscow_general, \"Monday\", \"07:00\", \"11:00\") "
   ]
  },
  {
   "cell_type": "code",
   "execution_count": 35,
   "metadata": {
    "id": "kwUcHPdy_Zcu"
   },
   "outputs": [
    {
     "data": {
      "text/plain": [
       "genre\n",
       "pop            218\n",
       "dance          182\n",
       "rock           162\n",
       "electronic     147\n",
       "hiphop          80\n",
       "ruspop          64\n",
       "alternative     58\n",
       "rusrap          55\n",
       "jazz            44\n",
       "classical       40\n",
       "Name: user_id, dtype: int64"
      ]
     },
     "execution_count": 35,
     "metadata": {},
     "output_type": "execute_result"
    }
   ],
   "source": [
    "# вызов функции для утра понедельника в Петербурге (вместо df — таблица spb_general)\n",
    "genre_weekday(spb_general, \"Monday\", \"07:00\", \"11:00\")"
   ]
  },
  {
   "cell_type": "code",
   "execution_count": 36,
   "metadata": {
    "id": "EzXVRE1o_Zcu"
   },
   "outputs": [
    {
     "data": {
      "text/plain": [
       "genre\n",
       "pop            713\n",
       "rock           517\n",
       "dance          495\n",
       "electronic     482\n",
       "hiphop         273\n",
       "world          208\n",
       "ruspop         170\n",
       "alternative    163\n",
       "classical      163\n",
       "rusrap         142\n",
       "Name: user_id, dtype: int64"
      ]
     },
     "execution_count": 36,
     "metadata": {},
     "output_type": "execute_result"
    }
   ],
   "source": [
    "# вызов функции для вечера пятницы в Москве\n",
    "genre_weekday(moscow_general, \"Friday\", \"17:00\", \"23:00\")"
   ]
  },
  {
   "cell_type": "code",
   "execution_count": 37,
   "metadata": {
    "id": "JZaEKu5v_Zcu"
   },
   "outputs": [
    {
     "data": {
      "text/plain": [
       "genre\n",
       "pop            256\n",
       "electronic     216\n",
       "rock           216\n",
       "dance          210\n",
       "hiphop          97\n",
       "alternative     63\n",
       "jazz            61\n",
       "classical       60\n",
       "rusrap          59\n",
       "world           54\n",
       "Name: user_id, dtype: int64"
      ]
     },
     "execution_count": 37,
     "metadata": {},
     "output_type": "execute_result"
    }
   ],
   "source": [
    "# вызов функции для вечера пятницы в Петербурге\n",
    "genre_weekday(spb_general, \"Friday\", \"17:00\", \"23:00\")"
   ]
  },
  {
   "cell_type": "markdown",
   "metadata": {
    "id": "wrCe4MNX_Zcu"
   },
   "source": [
    "**Выводы**\n",
    "\n",
    "Если сравнить топ-10 жанров в понедельник утром, можно сделать такие выводы:\n",
    "\n",
    "1. В Москве и Петербурге слушают похожую музыку. Единственное отличие — в московский рейтинг вошёл жанр “world”, а в петербургский — джаз и классика.\n",
    "\n",
    "2. В Москве пропущенных значений оказалось так много, что значение `'unknown'` заняло десятое место среди самых популярных жанров. Значит, пропущенные значения занимают существенную долю в данных и угрожают достоверности исследования.\n",
    "\n",
    "Вечер пятницы не меняет эту картину. Некоторые жанры поднимаются немного выше, другие спускаются, но в целом топ-10 остаётся тем же самым.\n",
    "\n",
    "Таким образом, вторая гипотеза подтвердилась лишь частично:\n",
    "* Пользователи слушают похожую музыку в начале недели и в конце.\n",
    "* Разница между Москвой и Петербургом не слишком выражена. В Москве чаще слушают русскую популярную музыку, в Петербурге — джаз.\n",
    "\n",
    "Однако пропуски в данных ставят под сомнение этот результат. В Москве их так много, что рейтинг топ-10 мог бы выглядеть иначе, если бы не утерянные  данные о жанрах."
   ]
  },
  {
   "cell_type": "markdown",
   "metadata": {
    "id": "JolODAqr_Zcu"
   },
   "source": [
    "### Жанровые предпочтения в Москве и Петербурге\n",
    "\n",
    "Гипотеза: Петербург — столица рэпа, музыку этого жанра там слушают чаще, чем в Москве.  А Москва — город контрастов, в котором, тем не менее, преобладает поп-музыка."
   ]
  },
  {
   "cell_type": "markdown",
   "metadata": {
    "id": "DlegSvaT_Zcu"
   },
   "source": [
    "Сгруппируйте таблицу `moscow_general` по жанру и посчитайте прослушивания треков каждого жанра методом `count()`. Затем отсортируйте результат в порядке убывания и сохраните его в таблице `moscow_genres`."
   ]
  },
  {
   "cell_type": "code",
   "execution_count": 38,
   "metadata": {
    "id": "r19lIPke_Zcu"
   },
   "outputs": [],
   "source": [
    "# одной строкой: группировка таблицы moscow_general по столбцу 'genre', \n",
    "# подсчёт числа значений 'genre' в этой группировке методом count(), \n",
    "# сортировка получившегося Series в порядке убывания и сохранение в moscow_genres\n",
    "moscow_genres = moscow_general.groupby(\"genre\")[\"genre\"].count().sort_values(ascending=False)"
   ]
  },
  {
   "cell_type": "markdown",
   "metadata": {
    "id": "6kMuomxTiIr8"
   },
   "source": [
    "Выведите на экран первые десять строк `moscow_genres`:"
   ]
  },
  {
   "cell_type": "code",
   "execution_count": 39,
   "metadata": {
    "id": "WhCSooF8_Zcv"
   },
   "outputs": [
    {
     "data": {
      "text/plain": [
       "genre\n",
       "pop            5892\n",
       "dance          4435\n",
       "rock           3965\n",
       "electronic     3786\n",
       "hiphop         2096\n",
       "classical      1616\n",
       "world          1432\n",
       "alternative    1379\n",
       "ruspop         1372\n",
       "rusrap         1161\n",
       "Name: genre, dtype: int64"
      ]
     },
     "execution_count": 39,
     "metadata": {},
     "output_type": "execute_result"
    }
   ],
   "source": [
    "# просмотр первых 10 строк moscow_genres\n",
    "moscow_genres.head(10)"
   ]
  },
  {
   "cell_type": "markdown",
   "metadata": {
    "id": "cnPG2vnN_Zcv"
   },
   "source": [
    "Теперь повторите то же и для Петербурга.\n",
    "\n",
    "Сгруппируйте таблицу `spb_general` по жанру. Посчитайте прослушивания треков каждого жанра. Результат отсортируйте в порядке убывания и сохраните в таблице `spb_genres`:\n"
   ]
  },
  {
   "cell_type": "code",
   "execution_count": 40,
   "metadata": {
    "id": "gluLIpE7_Zcv"
   },
   "outputs": [],
   "source": [
    "# одной строкой: группировка таблицы spb_general по столбцу 'genre', \n",
    "# подсчёт числа значений 'genre' в этой группировке методом count(), \n",
    "# сортировка получившегося Series в порядке убывания и сохранение в spb_genres\n",
    "spb_genres = spb_general.groupby(\"genre\")[\"genre\"].count().sort_values(ascending=False)"
   ]
  },
  {
   "cell_type": "markdown",
   "metadata": {
    "id": "5Doha_ODgyQ8"
   },
   "source": [
    "Выведите на экран первые десять строк `spb_genres`:"
   ]
  },
  {
   "cell_type": "code",
   "execution_count": 41,
   "metadata": {
    "id": "uaGJHjVU_Zcv"
   },
   "outputs": [
    {
     "data": {
      "text/plain": [
       "genre\n",
       "pop            2431\n",
       "dance          1932\n",
       "rock           1879\n",
       "electronic     1736\n",
       "hiphop          960\n",
       "alternative     649\n",
       "classical       646\n",
       "rusrap          564\n",
       "ruspop          538\n",
       "world           515\n",
       "Name: genre, dtype: int64"
      ]
     },
     "execution_count": 41,
     "metadata": {},
     "output_type": "execute_result"
    }
   ],
   "source": [
    "# просмотр первых 10 строк spb_genres\n",
    "spb_genres.head(10)"
   ]
  },
  {
   "cell_type": "markdown",
   "metadata": {
    "id": "RY51YJYu_Zcv"
   },
   "source": [
    "**Выводы**"
   ]
  },
  {
   "cell_type": "markdown",
   "metadata": {
    "id": "nVhnJEm__Zcv"
   },
   "source": [
    "Гипотеза частично подтвердилась:\n",
    "* Поп-музыка — самый популярный жанр в Москве, как и предполагала гипотеза. Более того, в топ-10 жанров встречается близкий жанр — русская популярная музыка.\n",
    "* Вопреки ожиданиям, рэп одинаково популярен в Москве и Петербурге. \n"
   ]
  },
  {
   "cell_type": "markdown",
   "metadata": {
    "id": "ykKQ0N65_Zcv"
   },
   "source": [
    "## Итоги исследования"
   ]
  },
  {
   "cell_type": "markdown",
   "metadata": {
    "id": "tjUwbHb3_Zcv"
   },
   "source": [
    "Вы проверили три гипотезы и установили:\n",
    "\n",
    "1. День недели по-разному влияет на активность пользователей в Москве и Петербурге. \n",
    "\n",
    "Первая гипотеза полностью подтвердилась.\n",
    "\n",
    "2. Музыкальные предпочтения не сильно меняются в течение недели — будь то Москва или Петербург. Небольшие различия заметны в начале недели, по понедельникам:\n",
    "* в Москве слушают музыку жанра “world”,\n",
    "* в Петербурге — джаз и классику.\n",
    "\n",
    "Таким образом, вторая гипотеза подтвердилась лишь отчасти. Этот результат мог оказаться иным, если бы не пропуски в данных.\n",
    "\n",
    "3. Во вкусах пользователей Москвы и Петербурга больше общего чем различий. Вопреки ожиданиям, предпочтения жанров в Петербурге напоминают московские.\n",
    "\n",
    "Третья гипотеза не подтвердилась. Если различия в предпочтениях и существуют, на основной массе пользователей они незаметны.\n",
    "\n",
    "**На практике исследования содержат проверки статистических гипотез.**\n",
    "Из данных одного сервиса не всегда можно сделать вывод о всех жителях города.\n",
    "Проверки статистических гипотез покажут, насколько они достоверны, исходя из имеющихся данных. "
   ]
  }
 ],
 "metadata": {
  "ExecuteTimeLog": [
   {
    "duration": 368,
    "start_time": "2022-01-24T12:01:23.929Z"
   },
   {
    "duration": 415,
    "start_time": "2022-01-24T12:01:31.246Z"
   },
   {
    "duration": 312,
    "start_time": "2022-01-24T12:07:44.620Z"
   },
   {
    "duration": 836,
    "start_time": "2022-01-24T12:08:52.147Z"
   },
   {
    "duration": 183,
    "start_time": "2022-01-24T12:08:58.860Z"
   },
   {
    "duration": 25,
    "start_time": "2022-01-24T12:09:02.996Z"
   },
   {
    "duration": 32,
    "start_time": "2022-01-24T12:09:57.127Z"
   },
   {
    "duration": 27,
    "start_time": "2022-01-24T12:20:28.259Z"
   },
   {
    "duration": 29,
    "start_time": "2022-01-24T13:15:05.055Z"
   },
   {
    "duration": 8,
    "start_time": "2022-01-24T13:16:53.923Z"
   },
   {
    "duration": 335,
    "start_time": "2022-01-24T13:16:58.037Z"
   },
   {
    "duration": 345,
    "start_time": "2022-01-24T13:18:16.376Z"
   },
   {
    "duration": 373,
    "start_time": "2022-01-24T13:18:20.358Z"
   },
   {
    "duration": 483,
    "start_time": "2022-01-24T13:18:51.862Z"
   },
   {
    "duration": 678,
    "start_time": "2022-01-24T13:19:00.297Z"
   },
   {
    "duration": 412,
    "start_time": "2022-01-24T13:19:14.314Z"
   },
   {
    "duration": 385,
    "start_time": "2022-01-24T13:19:37.476Z"
   },
   {
    "duration": 306,
    "start_time": "2022-01-24T13:22:29.195Z"
   },
   {
    "duration": 360,
    "start_time": "2022-01-24T13:23:59.682Z"
   },
   {
    "duration": 315,
    "start_time": "2022-01-24T13:24:19.234Z"
   },
   {
    "duration": 301,
    "start_time": "2022-01-24T13:26:21.627Z"
   },
   {
    "duration": 3,
    "start_time": "2022-01-24T13:28:20.434Z"
   },
   {
    "duration": 298,
    "start_time": "2022-01-24T13:28:32.401Z"
   },
   {
    "duration": 308,
    "start_time": "2022-01-24T13:30:27.497Z"
   },
   {
    "duration": 7,
    "start_time": "2022-01-24T13:37:12.823Z"
   },
   {
    "duration": 298,
    "start_time": "2022-01-24T13:37:43.352Z"
   },
   {
    "duration": 374,
    "start_time": "2022-01-24T13:40:39.338Z"
   },
   {
    "duration": 638,
    "start_time": "2022-01-24T13:41:10.990Z"
   },
   {
    "duration": 329,
    "start_time": "2022-01-24T13:41:14.758Z"
   },
   {
    "duration": 536,
    "start_time": "2022-01-24T13:58:52.546Z"
   },
   {
    "duration": 390,
    "start_time": "2022-01-24T13:59:50.335Z"
   },
   {
    "duration": 879,
    "start_time": "2022-01-24T14:00:15.569Z"
   },
   {
    "duration": 184,
    "start_time": "2022-01-24T14:00:16.451Z"
   },
   {
    "duration": 25,
    "start_time": "2022-01-24T14:00:16.638Z"
   },
   {
    "duration": 43,
    "start_time": "2022-01-24T14:00:16.666Z"
   },
   {
    "duration": 12,
    "start_time": "2022-01-24T14:00:16.712Z"
   },
   {
    "duration": 40,
    "start_time": "2022-01-24T14:00:16.726Z"
   },
   {
    "duration": 20,
    "start_time": "2022-01-24T14:00:16.768Z"
   },
   {
    "duration": 44,
    "start_time": "2022-01-24T14:00:16.791Z"
   },
   {
    "duration": 332,
    "start_time": "2022-01-24T14:00:16.839Z"
   },
   {
    "duration": 744,
    "start_time": "2022-01-24T14:00:16.431Z"
   },
   {
    "duration": 744,
    "start_time": "2022-01-24T14:00:16.433Z"
   },
   {
    "duration": 738,
    "start_time": "2022-01-24T14:00:16.440Z"
   },
   {
    "duration": 737,
    "start_time": "2022-01-24T14:00:16.443Z"
   },
   {
    "duration": 736,
    "start_time": "2022-01-24T14:00:16.446Z"
   },
   {
    "duration": 724,
    "start_time": "2022-01-24T14:00:16.459Z"
   },
   {
    "duration": 715,
    "start_time": "2022-01-24T14:00:16.469Z"
   },
   {
    "duration": 585,
    "start_time": "2022-01-24T14:00:16.601Z"
   },
   {
    "duration": 571,
    "start_time": "2022-01-24T14:00:16.616Z"
   },
   {
    "duration": 570,
    "start_time": "2022-01-24T14:00:16.619Z"
   },
   {
    "duration": 568,
    "start_time": "2022-01-24T14:00:16.622Z"
   },
   {
    "duration": 567,
    "start_time": "2022-01-24T14:00:16.624Z"
   },
   {
    "duration": 566,
    "start_time": "2022-01-24T14:00:16.627Z"
   },
   {
    "duration": 564,
    "start_time": "2022-01-24T14:00:16.630Z"
   },
   {
    "duration": 562,
    "start_time": "2022-01-24T14:00:16.633Z"
   },
   {
    "duration": 561,
    "start_time": "2022-01-24T14:00:16.636Z"
   },
   {
    "duration": 560,
    "start_time": "2022-01-24T14:00:16.638Z"
   },
   {
    "duration": 560,
    "start_time": "2022-01-24T14:00:16.640Z"
   },
   {
    "duration": 559,
    "start_time": "2022-01-24T14:00:16.642Z"
   },
   {
    "duration": 559,
    "start_time": "2022-01-24T14:00:16.644Z"
   },
   {
    "duration": 557,
    "start_time": "2022-01-24T14:00:16.647Z"
   },
   {
    "duration": 551,
    "start_time": "2022-01-24T14:00:16.655Z"
   },
   {
    "duration": 550,
    "start_time": "2022-01-24T14:00:16.657Z"
   },
   {
    "duration": 549,
    "start_time": "2022-01-24T14:00:16.659Z"
   },
   {
    "duration": 549,
    "start_time": "2022-01-24T14:00:16.661Z"
   },
   {
    "duration": 548,
    "start_time": "2022-01-24T14:00:16.663Z"
   },
   {
    "duration": 547,
    "start_time": "2022-01-24T14:00:16.665Z"
   },
   {
    "duration": 546,
    "start_time": "2022-01-24T14:00:16.667Z"
   },
   {
    "duration": 589,
    "start_time": "2022-01-24T14:00:16.670Z"
   },
   {
    "duration": 23180,
    "start_time": "2022-01-24T14:10:32.865Z"
   },
   {
    "duration": 849,
    "start_time": "2022-01-24T14:10:55.200Z"
   },
   {
    "duration": 109,
    "start_time": "2022-01-24T14:11:50.581Z"
   },
   {
    "duration": 7749,
    "start_time": "2022-01-24T14:12:02.554Z"
   },
   {
    "duration": 24,
    "start_time": "2022-01-24T14:16:03.586Z"
   },
   {
    "duration": 29,
    "start_time": "2022-01-24T14:16:33.154Z"
   },
   {
    "duration": 5,
    "start_time": "2022-01-24T14:16:39.157Z"
   },
   {
    "duration": 31,
    "start_time": "2022-01-24T14:17:11.083Z"
   },
   {
    "duration": 317,
    "start_time": "2022-01-24T14:18:06.233Z"
   },
   {
    "duration": 87,
    "start_time": "2022-01-24T14:18:30.043Z"
   },
   {
    "duration": 100,
    "start_time": "2022-01-24T14:19:54.620Z"
   },
   {
    "duration": 78,
    "start_time": "2022-01-24T14:20:36.656Z"
   },
   {
    "duration": 14,
    "start_time": "2022-01-24T14:22:14.969Z"
   },
   {
    "duration": 335,
    "start_time": "2022-01-24T14:40:58.580Z"
   },
   {
    "duration": 4,
    "start_time": "2022-01-24T14:41:22.163Z"
   },
   {
    "duration": 665,
    "start_time": "2022-01-24T14:45:57.121Z"
   },
   {
    "duration": 4,
    "start_time": "2022-01-24T14:46:05.972Z"
   },
   {
    "duration": 5,
    "start_time": "2022-01-24T14:46:27.672Z"
   },
   {
    "duration": 812,
    "start_time": "2022-01-24T14:46:40.126Z"
   },
   {
    "duration": 9,
    "start_time": "2022-01-24T14:47:30.561Z"
   },
   {
    "duration": 5,
    "start_time": "2022-01-25T08:31:57.283Z"
   },
   {
    "duration": 371,
    "start_time": "2022-01-25T08:37:40.743Z"
   },
   {
    "duration": 320,
    "start_time": "2022-01-25T08:38:21.872Z"
   },
   {
    "duration": 755,
    "start_time": "2022-01-25T08:38:52.517Z"
   },
   {
    "duration": 195,
    "start_time": "2022-01-25T08:38:53.275Z"
   },
   {
    "duration": 29,
    "start_time": "2022-01-25T08:38:53.474Z"
   },
   {
    "duration": 55,
    "start_time": "2022-01-25T08:38:53.506Z"
   },
   {
    "duration": 7,
    "start_time": "2022-01-25T08:38:53.565Z"
   },
   {
    "duration": 28,
    "start_time": "2022-01-25T08:38:53.574Z"
   },
   {
    "duration": 7,
    "start_time": "2022-01-25T08:38:53.604Z"
   },
   {
    "duration": 68,
    "start_time": "2022-01-25T08:38:53.613Z"
   },
   {
    "duration": 23,
    "start_time": "2022-01-25T08:38:53.685Z"
   },
   {
    "duration": 50,
    "start_time": "2022-01-25T08:38:53.711Z"
   },
   {
    "duration": 103,
    "start_time": "2022-01-25T08:38:53.765Z"
   },
   {
    "duration": 114,
    "start_time": "2022-01-25T08:38:53.871Z"
   },
   {
    "duration": 82,
    "start_time": "2022-01-25T08:38:53.987Z"
   },
   {
    "duration": 11,
    "start_time": "2022-01-25T08:38:54.072Z"
   },
   {
    "duration": 7,
    "start_time": "2022-01-25T08:38:54.085Z"
   },
   {
    "duration": 8900,
    "start_time": "2022-01-25T08:38:54.095Z"
   },
   {
    "duration": 1041,
    "start_time": "2022-01-25T08:39:01.957Z"
   },
   {
    "duration": 1040,
    "start_time": "2022-01-25T08:39:01.960Z"
   },
   {
    "duration": 1036,
    "start_time": "2022-01-25T08:39:01.965Z"
   },
   {
    "duration": 1023,
    "start_time": "2022-01-25T08:39:01.980Z"
   },
   {
    "duration": 1019,
    "start_time": "2022-01-25T08:39:01.986Z"
   },
   {
    "duration": 997,
    "start_time": "2022-01-25T08:39:02.009Z"
   },
   {
    "duration": 995,
    "start_time": "2022-01-25T08:39:02.013Z"
   },
   {
    "duration": 993,
    "start_time": "2022-01-25T08:39:02.016Z"
   },
   {
    "duration": 986,
    "start_time": "2022-01-25T08:39:02.025Z"
   },
   {
    "duration": 985,
    "start_time": "2022-01-25T08:39:02.027Z"
   },
   {
    "duration": 984,
    "start_time": "2022-01-25T08:39:02.030Z"
   },
   {
    "duration": 983,
    "start_time": "2022-01-25T08:39:02.032Z"
   },
   {
    "duration": 977,
    "start_time": "2022-01-25T08:39:02.040Z"
   },
   {
    "duration": 975,
    "start_time": "2022-01-25T08:39:02.043Z"
   },
   {
    "duration": 973,
    "start_time": "2022-01-25T08:39:02.046Z"
   },
   {
    "duration": 973,
    "start_time": "2022-01-25T08:39:02.048Z"
   },
   {
    "duration": 966,
    "start_time": "2022-01-25T08:39:02.057Z"
   },
   {
    "duration": 964,
    "start_time": "2022-01-25T08:39:02.060Z"
   },
   {
    "duration": 964,
    "start_time": "2022-01-25T08:39:02.062Z"
   },
   {
    "duration": 963,
    "start_time": "2022-01-25T08:39:02.064Z"
   },
   {
    "duration": 962,
    "start_time": "2022-01-25T08:39:02.066Z"
   },
   {
    "duration": 954,
    "start_time": "2022-01-25T08:39:02.075Z"
   },
   {
    "duration": 10,
    "start_time": "2022-01-25T08:39:35.272Z"
   },
   {
    "duration": 14,
    "start_time": "2022-01-25T08:41:09.972Z"
   },
   {
    "duration": 14,
    "start_time": "2022-01-25T08:41:55.699Z"
   },
   {
    "duration": 4,
    "start_time": "2022-01-25T08:42:25.010Z"
   },
   {
    "duration": 738,
    "start_time": "2022-01-25T08:42:30.421Z"
   },
   {
    "duration": 4,
    "start_time": "2022-01-25T08:46:01.685Z"
   },
   {
    "duration": 750,
    "start_time": "2022-01-25T08:46:04.843Z"
   },
   {
    "duration": 15,
    "start_time": "2022-01-25T08:46:11.892Z"
   },
   {
    "duration": 781,
    "start_time": "2022-01-25T08:46:36.702Z"
   },
   {
    "duration": 193,
    "start_time": "2022-01-25T08:46:37.486Z"
   },
   {
    "duration": 25,
    "start_time": "2022-01-25T08:46:37.682Z"
   },
   {
    "duration": 57,
    "start_time": "2022-01-25T08:46:37.710Z"
   },
   {
    "duration": 6,
    "start_time": "2022-01-25T08:46:37.769Z"
   },
   {
    "duration": 26,
    "start_time": "2022-01-25T08:46:37.777Z"
   },
   {
    "duration": 9,
    "start_time": "2022-01-25T08:46:37.806Z"
   },
   {
    "duration": 70,
    "start_time": "2022-01-25T08:46:37.818Z"
   },
   {
    "duration": 21,
    "start_time": "2022-01-25T08:46:37.892Z"
   },
   {
    "duration": 54,
    "start_time": "2022-01-25T08:46:37.916Z"
   },
   {
    "duration": 104,
    "start_time": "2022-01-25T08:46:37.973Z"
   },
   {
    "duration": 118,
    "start_time": "2022-01-25T08:46:38.079Z"
   },
   {
    "duration": 85,
    "start_time": "2022-01-25T08:46:38.199Z"
   },
   {
    "duration": 14,
    "start_time": "2022-01-25T08:46:38.286Z"
   },
   {
    "duration": 4,
    "start_time": "2022-01-25T08:46:38.303Z"
   },
   {
    "duration": 987,
    "start_time": "2022-01-25T08:46:38.310Z"
   },
   {
    "duration": 1077,
    "start_time": "2022-01-25T08:46:38.224Z"
   },
   {
    "duration": 1072,
    "start_time": "2022-01-25T08:46:38.230Z"
   },
   {
    "duration": 1072,
    "start_time": "2022-01-25T08:46:38.232Z"
   },
   {
    "duration": 1070,
    "start_time": "2022-01-25T08:46:38.235Z"
   },
   {
    "duration": 1069,
    "start_time": "2022-01-25T08:46:38.238Z"
   },
   {
    "duration": 1069,
    "start_time": "2022-01-25T08:46:38.240Z"
   },
   {
    "duration": 1069,
    "start_time": "2022-01-25T08:46:38.242Z"
   },
   {
    "duration": 1068,
    "start_time": "2022-01-25T08:46:38.245Z"
   },
   {
    "duration": 1064,
    "start_time": "2022-01-25T08:46:38.251Z"
   },
   {
    "duration": 1062,
    "start_time": "2022-01-25T08:46:38.254Z"
   },
   {
    "duration": 1061,
    "start_time": "2022-01-25T08:46:38.256Z"
   },
   {
    "duration": 1061,
    "start_time": "2022-01-25T08:46:38.258Z"
   },
   {
    "duration": 1060,
    "start_time": "2022-01-25T08:46:38.260Z"
   },
   {
    "duration": 1060,
    "start_time": "2022-01-25T08:46:38.262Z"
   },
   {
    "duration": 1058,
    "start_time": "2022-01-25T08:46:38.265Z"
   },
   {
    "duration": 1057,
    "start_time": "2022-01-25T08:46:38.267Z"
   },
   {
    "duration": 1052,
    "start_time": "2022-01-25T08:46:38.274Z"
   },
   {
    "duration": 1046,
    "start_time": "2022-01-25T08:46:38.281Z"
   },
   {
    "duration": 1040,
    "start_time": "2022-01-25T08:46:38.288Z"
   },
   {
    "duration": 1036,
    "start_time": "2022-01-25T08:46:38.294Z"
   },
   {
    "duration": 1029,
    "start_time": "2022-01-25T08:46:38.303Z"
   },
   {
    "duration": 1027,
    "start_time": "2022-01-25T08:46:38.306Z"
   },
   {
    "duration": 14,
    "start_time": "2022-01-25T08:47:46.948Z"
   },
   {
    "duration": 4,
    "start_time": "2022-01-25T09:35:06.406Z"
   },
   {
    "duration": 4083,
    "start_time": "2022-01-25T09:35:10.153Z"
   },
   {
    "duration": 702,
    "start_time": "2022-01-25T09:36:29.330Z"
   },
   {
    "duration": 62,
    "start_time": "2022-01-25T09:38:08.360Z"
   },
   {
    "duration": 15,
    "start_time": "2022-01-25T09:46:52.431Z"
   },
   {
    "duration": 435,
    "start_time": "2022-01-25T09:50:38.559Z"
   },
   {
    "duration": 73,
    "start_time": "2022-01-25T09:54:40.605Z"
   },
   {
    "duration": 10,
    "start_time": "2022-01-25T10:02:57.499Z"
   },
   {
    "duration": 30,
    "start_time": "2022-01-25T10:04:49.557Z"
   },
   {
    "duration": 17,
    "start_time": "2022-01-25T10:04:57.154Z"
   },
   {
    "duration": 18,
    "start_time": "2022-01-25T10:05:51.245Z"
   },
   {
    "duration": 401,
    "start_time": "2022-01-25T10:07:34.494Z"
   },
   {
    "duration": 16,
    "start_time": "2022-01-25T10:07:55.122Z"
   },
   {
    "duration": 5,
    "start_time": "2022-01-25T10:18:00.103Z"
   },
   {
    "duration": 374,
    "start_time": "2022-01-25T10:19:51.756Z"
   },
   {
    "duration": 7,
    "start_time": "2022-01-25T10:26:36.983Z"
   },
   {
    "duration": 312,
    "start_time": "2022-01-25T10:26:41.915Z"
   },
   {
    "duration": 5,
    "start_time": "2022-01-25T10:28:34.425Z"
   },
   {
    "duration": 306,
    "start_time": "2022-01-25T10:28:38.179Z"
   },
   {
    "duration": 341,
    "start_time": "2022-01-25T10:29:36.083Z"
   },
   {
    "duration": 6,
    "start_time": "2022-01-25T10:29:43.575Z"
   },
   {
    "duration": 506,
    "start_time": "2022-01-25T10:29:47.293Z"
   },
   {
    "duration": 845,
    "start_time": "2022-01-25T10:30:05.833Z"
   },
   {
    "duration": 212,
    "start_time": "2022-01-25T10:30:06.681Z"
   },
   {
    "duration": 38,
    "start_time": "2022-01-25T10:30:06.897Z"
   },
   {
    "duration": 68,
    "start_time": "2022-01-25T10:30:06.938Z"
   },
   {
    "duration": 7,
    "start_time": "2022-01-25T10:30:07.009Z"
   },
   {
    "duration": 27,
    "start_time": "2022-01-25T10:30:07.018Z"
   },
   {
    "duration": 17,
    "start_time": "2022-01-25T10:30:07.048Z"
   },
   {
    "duration": 53,
    "start_time": "2022-01-25T10:30:07.072Z"
   },
   {
    "duration": 23,
    "start_time": "2022-01-25T10:30:07.129Z"
   },
   {
    "duration": 45,
    "start_time": "2022-01-25T10:30:07.154Z"
   },
   {
    "duration": 117,
    "start_time": "2022-01-25T10:30:07.202Z"
   },
   {
    "duration": 112,
    "start_time": "2022-01-25T10:30:07.322Z"
   },
   {
    "duration": 92,
    "start_time": "2022-01-25T10:30:07.436Z"
   },
   {
    "duration": 14,
    "start_time": "2022-01-25T10:30:07.531Z"
   },
   {
    "duration": 12,
    "start_time": "2022-01-25T10:30:07.547Z"
   },
   {
    "duration": 20,
    "start_time": "2022-01-25T10:30:07.561Z"
   },
   {
    "duration": 21,
    "start_time": "2022-01-25T10:30:07.583Z"
   },
   {
    "duration": 15,
    "start_time": "2022-01-25T10:30:07.607Z"
   },
   {
    "duration": 65,
    "start_time": "2022-01-25T10:30:07.625Z"
   },
   {
    "duration": 5,
    "start_time": "2022-01-25T10:30:07.692Z"
   },
   {
    "duration": 420,
    "start_time": "2022-01-25T10:30:07.700Z"
   },
   {
    "duration": -59,
    "start_time": "2022-01-25T10:30:08.183Z"
   },
   {
    "duration": -61,
    "start_time": "2022-01-25T10:30:08.186Z"
   },
   {
    "duration": -61,
    "start_time": "2022-01-25T10:30:08.188Z"
   },
   {
    "duration": -80,
    "start_time": "2022-01-25T10:30:08.208Z"
   },
   {
    "duration": -90,
    "start_time": "2022-01-25T10:30:08.220Z"
   },
   {
    "duration": -91,
    "start_time": "2022-01-25T10:30:08.222Z"
   },
   {
    "duration": -92,
    "start_time": "2022-01-25T10:30:08.225Z"
   },
   {
    "duration": -92,
    "start_time": "2022-01-25T10:30:08.227Z"
   },
   {
    "duration": -93,
    "start_time": "2022-01-25T10:30:08.229Z"
   },
   {
    "duration": -94,
    "start_time": "2022-01-25T10:30:08.232Z"
   },
   {
    "duration": -94,
    "start_time": "2022-01-25T10:30:08.234Z"
   },
   {
    "duration": -95,
    "start_time": "2022-01-25T10:30:08.236Z"
   },
   {
    "duration": -96,
    "start_time": "2022-01-25T10:30:08.239Z"
   },
   {
    "duration": -97,
    "start_time": "2022-01-25T10:30:08.241Z"
   },
   {
    "duration": -97,
    "start_time": "2022-01-25T10:30:08.243Z"
   },
   {
    "duration": -98,
    "start_time": "2022-01-25T10:30:08.246Z"
   },
   {
    "duration": -103,
    "start_time": "2022-01-25T10:30:08.253Z"
   },
   {
    "duration": 5,
    "start_time": "2022-01-25T10:30:21.346Z"
   },
   {
    "duration": 5,
    "start_time": "2022-01-25T10:31:47.680Z"
   },
   {
    "duration": 326,
    "start_time": "2022-01-25T10:31:50.968Z"
   },
   {
    "duration": 4,
    "start_time": "2022-01-25T10:32:05.973Z"
   },
   {
    "duration": 321,
    "start_time": "2022-01-25T10:32:10.694Z"
   },
   {
    "duration": 669,
    "start_time": "2022-01-25T10:33:23.427Z"
   },
   {
    "duration": 5,
    "start_time": "2022-01-25T12:12:56.906Z"
   },
   {
    "duration": 35,
    "start_time": "2022-01-25T12:12:57.581Z"
   },
   {
    "duration": 709,
    "start_time": "2022-01-25T12:13:02.480Z"
   },
   {
    "duration": 5,
    "start_time": "2022-01-25T12:14:58.937Z"
   },
   {
    "duration": 832,
    "start_time": "2022-01-25T12:15:02.845Z"
   },
   {
    "duration": 1023,
    "start_time": "2022-01-25T12:24:44.273Z"
   },
   {
    "duration": 229,
    "start_time": "2022-01-25T12:24:45.299Z"
   },
   {
    "duration": 49,
    "start_time": "2022-01-25T12:24:45.532Z"
   },
   {
    "duration": 56,
    "start_time": "2022-01-25T12:24:45.585Z"
   },
   {
    "duration": 8,
    "start_time": "2022-01-25T12:24:45.663Z"
   },
   {
    "duration": 47,
    "start_time": "2022-01-25T12:24:45.675Z"
   },
   {
    "duration": 7,
    "start_time": "2022-01-25T12:24:45.725Z"
   },
   {
    "duration": 82,
    "start_time": "2022-01-25T12:24:45.736Z"
   },
   {
    "duration": 40,
    "start_time": "2022-01-25T12:24:45.823Z"
   },
   {
    "duration": 50,
    "start_time": "2022-01-25T12:24:45.866Z"
   },
   {
    "duration": 134,
    "start_time": "2022-01-25T12:24:45.919Z"
   },
   {
    "duration": 162,
    "start_time": "2022-01-25T12:24:46.055Z"
   },
   {
    "duration": 105,
    "start_time": "2022-01-25T12:24:46.220Z"
   },
   {
    "duration": 16,
    "start_time": "2022-01-25T12:24:46.328Z"
   },
   {
    "duration": 17,
    "start_time": "2022-01-25T12:24:46.349Z"
   },
   {
    "duration": 32,
    "start_time": "2022-01-25T12:24:46.369Z"
   },
   {
    "duration": 17,
    "start_time": "2022-01-25T12:24:46.404Z"
   },
   {
    "duration": 42,
    "start_time": "2022-01-25T12:24:46.424Z"
   },
   {
    "duration": 22,
    "start_time": "2022-01-25T12:24:46.470Z"
   },
   {
    "duration": 5,
    "start_time": "2022-01-25T12:24:46.495Z"
   },
   {
    "duration": 1405,
    "start_time": "2022-01-25T12:24:46.504Z"
   },
   {
    "duration": 13,
    "start_time": "2022-01-25T12:24:47.901Z"
   },
   {
    "duration": 3,
    "start_time": "2022-01-25T12:24:47.912Z"
   },
   {
    "duration": 2,
    "start_time": "2022-01-25T12:24:47.915Z"
   },
   {
    "duration": 1,
    "start_time": "2022-01-25T12:24:47.918Z"
   },
   {
    "duration": 0,
    "start_time": "2022-01-25T12:24:47.920Z"
   },
   {
    "duration": -1,
    "start_time": "2022-01-25T12:24:47.923Z"
   },
   {
    "duration": -2,
    "start_time": "2022-01-25T12:24:47.926Z"
   },
   {
    "duration": -3,
    "start_time": "2022-01-25T12:24:47.929Z"
   },
   {
    "duration": -8,
    "start_time": "2022-01-25T12:24:47.935Z"
   },
   {
    "duration": -8,
    "start_time": "2022-01-25T12:24:47.937Z"
   },
   {
    "duration": -7,
    "start_time": "2022-01-25T12:24:47.939Z"
   },
   {
    "duration": -8,
    "start_time": "2022-01-25T12:24:47.942Z"
   },
   {
    "duration": -9,
    "start_time": "2022-01-25T12:24:47.944Z"
   },
   {
    "duration": -10,
    "start_time": "2022-01-25T12:24:47.947Z"
   },
   {
    "duration": -15,
    "start_time": "2022-01-25T12:24:47.953Z"
   },
   {
    "duration": -16,
    "start_time": "2022-01-25T12:24:47.956Z"
   },
   {
    "duration": -16,
    "start_time": "2022-01-25T12:24:47.958Z"
   },
   {
    "duration": 4,
    "start_time": "2022-01-25T12:29:23.601Z"
   },
   {
    "duration": 15,
    "start_time": "2022-01-25T12:29:26.298Z"
   },
   {
    "duration": 6,
    "start_time": "2022-01-25T12:33:10.125Z"
   },
   {
    "duration": 757,
    "start_time": "2022-01-25T12:33:16.711Z"
   },
   {
    "duration": 5,
    "start_time": "2022-01-25T12:34:34.949Z"
   },
   {
    "duration": 690,
    "start_time": "2022-01-25T12:34:37.945Z"
   },
   {
    "duration": 1561,
    "start_time": "2022-01-25T12:36:19.587Z"
   },
   {
    "duration": 684,
    "start_time": "2022-01-25T12:38:09.383Z"
   },
   {
    "duration": 7,
    "start_time": "2022-01-25T12:38:43.859Z"
   },
   {
    "duration": 23,
    "start_time": "2022-01-25T12:38:47.414Z"
   },
   {
    "duration": 28,
    "start_time": "2022-01-25T12:38:51.672Z"
   },
   {
    "duration": 28,
    "start_time": "2022-01-25T12:38:52.172Z"
   },
   {
    "duration": 19,
    "start_time": "2022-01-25T12:38:53.112Z"
   },
   {
    "duration": 22,
    "start_time": "2022-01-25T12:38:54.105Z"
   },
   {
    "duration": 18,
    "start_time": "2022-01-25T12:38:54.999Z"
   },
   {
    "duration": 379,
    "start_time": "2022-01-25T12:42:29.012Z"
   },
   {
    "duration": 412,
    "start_time": "2022-01-25T12:42:46.780Z"
   },
   {
    "duration": 491,
    "start_time": "2022-01-25T12:43:31.101Z"
   },
   {
    "duration": 6,
    "start_time": "2022-01-25T12:44:47.639Z"
   },
   {
    "duration": 7,
    "start_time": "2022-01-25T12:44:51.987Z"
   },
   {
    "duration": 15,
    "start_time": "2022-01-25T12:52:06.605Z"
   },
   {
    "duration": 13,
    "start_time": "2022-01-25T12:52:09.168Z"
   },
   {
    "duration": 26,
    "start_time": "2022-01-25T12:52:39.948Z"
   },
   {
    "duration": 16,
    "start_time": "2022-01-25T12:53:07.912Z"
   },
   {
    "duration": 7,
    "start_time": "2022-01-25T13:13:03.883Z"
   },
   {
    "duration": 10460,
    "start_time": "2022-01-25T13:13:07.029Z"
   },
   {
    "duration": 22,
    "start_time": "2022-01-25T13:15:26.956Z"
   },
   {
    "duration": 37,
    "start_time": "2022-01-25T13:15:56.340Z"
   },
   {
    "duration": 36,
    "start_time": "2022-01-25T13:16:53.983Z"
   },
   {
    "duration": 5,
    "start_time": "2022-01-25T13:58:37.781Z"
   },
   {
    "duration": 9555,
    "start_time": "2022-01-25T13:58:40.347Z"
   },
   {
    "duration": 5,
    "start_time": "2022-01-25T14:00:49.234Z"
   },
   {
    "duration": 9135,
    "start_time": "2022-01-25T14:00:52.569Z"
   },
   {
    "duration": 5,
    "start_time": "2022-01-25T14:01:34.687Z"
   },
   {
    "duration": 9,
    "start_time": "2022-01-25T14:01:41.105Z"
   },
   {
    "duration": 11592,
    "start_time": "2022-01-25T14:01:43.628Z"
   },
   {
    "duration": 5,
    "start_time": "2022-01-25T14:03:09.943Z"
   },
   {
    "duration": 11595,
    "start_time": "2022-01-25T14:03:14.028Z"
   },
   {
    "duration": 6,
    "start_time": "2022-01-25T14:07:21.433Z"
   },
   {
    "duration": 9183,
    "start_time": "2022-01-25T14:07:25.787Z"
   },
   {
    "duration": 11,
    "start_time": "2022-01-25T14:15:18.408Z"
   },
   {
    "duration": 403,
    "start_time": "2022-01-25T14:15:41.304Z"
   },
   {
    "duration": 39,
    "start_time": "2022-01-25T14:16:17.841Z"
   },
   {
    "duration": 32,
    "start_time": "2022-01-25T14:16:28.281Z"
   },
   {
    "duration": 8,
    "start_time": "2022-01-25T14:17:45.561Z"
   },
   {
    "duration": 6,
    "start_time": "2022-01-25T14:18:20.999Z"
   },
   {
    "duration": 6,
    "start_time": "2022-01-25T14:18:25.486Z"
   },
   {
    "duration": 6,
    "start_time": "2022-01-25T14:18:31.016Z"
   },
   {
    "duration": 339,
    "start_time": "2022-01-25T14:18:44.771Z"
   },
   {
    "duration": 6,
    "start_time": "2022-01-25T14:19:04.131Z"
   },
   {
    "duration": 9091,
    "start_time": "2022-01-25T14:19:07.342Z"
   },
   {
    "duration": 7,
    "start_time": "2022-01-25T14:20:52.767Z"
   },
   {
    "duration": 30,
    "start_time": "2022-01-25T14:20:55.541Z"
   },
   {
    "duration": 18,
    "start_time": "2022-01-25T14:21:17.872Z"
   },
   {
    "duration": 23,
    "start_time": "2022-01-25T14:21:21.383Z"
   },
   {
    "duration": 21,
    "start_time": "2022-01-25T14:21:22.256Z"
   },
   {
    "duration": 338,
    "start_time": "2022-01-25T14:21:46.077Z"
   },
   {
    "duration": 396,
    "start_time": "2022-01-25T14:22:00.756Z"
   },
   {
    "duration": 357,
    "start_time": "2022-01-25T14:22:11.593Z"
   },
   {
    "duration": 7,
    "start_time": "2022-01-25T14:23:45.552Z"
   },
   {
    "duration": 8,
    "start_time": "2022-01-25T14:23:50.351Z"
   },
   {
    "duration": 362,
    "start_time": "2022-01-25T14:23:52.872Z"
   },
   {
    "duration": 7,
    "start_time": "2022-01-25T14:24:41.051Z"
   },
   {
    "duration": 7,
    "start_time": "2022-01-25T14:24:44.036Z"
   },
   {
    "duration": 442,
    "start_time": "2022-01-25T14:26:26.676Z"
   },
   {
    "duration": 17,
    "start_time": "2022-01-25T14:28:05.590Z"
   },
   {
    "duration": 7,
    "start_time": "2022-01-25T14:28:12.704Z"
   },
   {
    "duration": 13,
    "start_time": "2022-01-25T14:28:40.273Z"
   },
   {
    "duration": 19,
    "start_time": "2022-01-25T14:30:04.138Z"
   },
   {
    "duration": 18,
    "start_time": "2022-01-25T14:30:06.060Z"
   },
   {
    "duration": 343,
    "start_time": "2022-01-25T14:31:19.126Z"
   },
   {
    "duration": 398,
    "start_time": "2022-01-25T14:32:00.800Z"
   },
   {
    "duration": 1199,
    "start_time": "2022-01-25T14:35:43.610Z"
   },
   {
    "duration": 331,
    "start_time": "2022-01-25T14:37:25.885Z"
   },
   {
    "duration": 7,
    "start_time": "2022-01-25T14:37:40.480Z"
   },
   {
    "duration": 10,
    "start_time": "2022-01-25T14:37:44.956Z"
   },
   {
    "duration": 379,
    "start_time": "2022-01-25T14:39:23.151Z"
   },
   {
    "duration": 336,
    "start_time": "2022-01-25T14:45:47.915Z"
   },
   {
    "duration": 7,
    "start_time": "2022-01-25T14:46:24.950Z"
   },
   {
    "duration": 6,
    "start_time": "2022-01-25T14:46:29.375Z"
   },
   {
    "duration": 8,
    "start_time": "2022-01-25T14:47:49.415Z"
   },
   {
    "duration": 7,
    "start_time": "2022-01-25T14:47:53.233Z"
   },
   {
    "duration": 349,
    "start_time": "2022-01-25T14:48:25.586Z"
   },
   {
    "duration": 317,
    "start_time": "2022-01-25T14:50:19.580Z"
   },
   {
    "duration": 786,
    "start_time": "2022-01-25T14:50:33.190Z"
   },
   {
    "duration": 195,
    "start_time": "2022-01-25T14:50:33.979Z"
   },
   {
    "duration": 27,
    "start_time": "2022-01-25T14:50:34.177Z"
   },
   {
    "duration": 53,
    "start_time": "2022-01-25T14:50:34.206Z"
   },
   {
    "duration": 5,
    "start_time": "2022-01-25T14:50:34.262Z"
   },
   {
    "duration": 25,
    "start_time": "2022-01-25T14:50:34.270Z"
   },
   {
    "duration": 5,
    "start_time": "2022-01-25T14:50:34.298Z"
   },
   {
    "duration": 63,
    "start_time": "2022-01-25T14:50:34.306Z"
   },
   {
    "duration": 28,
    "start_time": "2022-01-25T14:50:34.374Z"
   },
   {
    "duration": 62,
    "start_time": "2022-01-25T14:50:34.406Z"
   },
   {
    "duration": 132,
    "start_time": "2022-01-25T14:50:34.472Z"
   },
   {
    "duration": 142,
    "start_time": "2022-01-25T14:50:34.607Z"
   },
   {
    "duration": 110,
    "start_time": "2022-01-25T14:50:34.752Z"
   },
   {
    "duration": 20,
    "start_time": "2022-01-25T14:50:34.865Z"
   },
   {
    "duration": 5,
    "start_time": "2022-01-25T14:50:34.887Z"
   },
   {
    "duration": 21,
    "start_time": "2022-01-25T14:50:34.895Z"
   },
   {
    "duration": 44,
    "start_time": "2022-01-25T14:50:34.919Z"
   },
   {
    "duration": 17,
    "start_time": "2022-01-25T14:50:34.966Z"
   },
   {
    "duration": 17,
    "start_time": "2022-01-25T14:50:34.986Z"
   },
   {
    "duration": 5,
    "start_time": "2022-01-25T14:50:35.006Z"
   },
   {
    "duration": 67,
    "start_time": "2022-01-25T14:50:35.013Z"
   },
   {
    "duration": 20,
    "start_time": "2022-01-25T14:50:35.083Z"
   },
   {
    "duration": 20,
    "start_time": "2022-01-25T14:50:35.106Z"
   },
   {
    "duration": 18,
    "start_time": "2022-01-25T14:50:35.159Z"
   },
   {
    "duration": 22,
    "start_time": "2022-01-25T14:50:35.179Z"
   },
   {
    "duration": 20,
    "start_time": "2022-01-25T14:50:35.204Z"
   },
   {
    "duration": 13,
    "start_time": "2022-01-25T14:50:35.263Z"
   },
   {
    "duration": 31,
    "start_time": "2022-01-25T14:50:35.278Z"
   },
   {
    "duration": 72,
    "start_time": "2022-01-25T14:50:35.312Z"
   },
   {
    "duration": 6,
    "start_time": "2022-01-25T14:50:35.387Z"
   },
   {
    "duration": 29,
    "start_time": "2022-01-25T14:50:35.396Z"
   },
   {
    "duration": 44,
    "start_time": "2022-01-25T14:50:35.427Z"
   },
   {
    "duration": 25,
    "start_time": "2022-01-25T14:50:35.474Z"
   },
   {
    "duration": 17,
    "start_time": "2022-01-25T14:50:35.502Z"
   },
   {
    "duration": 16,
    "start_time": "2022-01-25T14:50:35.561Z"
   },
   {
    "duration": 8,
    "start_time": "2022-01-25T14:50:35.580Z"
   },
   {
    "duration": 10,
    "start_time": "2022-01-25T14:50:35.591Z"
   },
   {
    "duration": 8,
    "start_time": "2022-01-25T14:50:35.604Z"
   },
   {
    "duration": 570,
    "start_time": "2022-02-02T13:48:46.824Z"
   },
   {
    "duration": 150,
    "start_time": "2022-02-02T13:48:47.396Z"
   },
   {
    "duration": 26,
    "start_time": "2022-02-02T13:48:47.549Z"
   },
   {
    "duration": 31,
    "start_time": "2022-02-02T13:48:47.578Z"
   },
   {
    "duration": 6,
    "start_time": "2022-02-02T13:48:47.611Z"
   },
   {
    "duration": 44,
    "start_time": "2022-02-02T13:48:47.619Z"
   },
   {
    "duration": 5,
    "start_time": "2022-02-02T13:48:47.665Z"
   },
   {
    "duration": 49,
    "start_time": "2022-02-02T13:48:47.673Z"
   },
   {
    "duration": 33,
    "start_time": "2022-02-02T13:48:47.724Z"
   },
   {
    "duration": 29,
    "start_time": "2022-02-02T13:48:47.759Z"
   },
   {
    "duration": 69,
    "start_time": "2022-02-02T13:48:47.790Z"
   },
   {
    "duration": 72,
    "start_time": "2022-02-02T13:48:47.861Z"
   },
   {
    "duration": 69,
    "start_time": "2022-02-02T13:48:47.935Z"
   },
   {
    "duration": 9,
    "start_time": "2022-02-02T13:48:48.006Z"
   },
   {
    "duration": 2,
    "start_time": "2022-02-02T13:48:48.017Z"
   },
   {
    "duration": 38,
    "start_time": "2022-02-02T13:48:48.021Z"
   },
   {
    "duration": 10,
    "start_time": "2022-02-02T13:48:48.061Z"
   },
   {
    "duration": 12,
    "start_time": "2022-02-02T13:48:48.073Z"
   },
   {
    "duration": 20,
    "start_time": "2022-02-02T13:48:48.087Z"
   },
   {
    "duration": 25,
    "start_time": "2022-02-02T13:48:48.109Z"
   },
   {
    "duration": 24,
    "start_time": "2022-02-02T13:48:48.136Z"
   },
   {
    "duration": 14,
    "start_time": "2022-02-02T13:48:48.161Z"
   },
   {
    "duration": 15,
    "start_time": "2022-02-02T13:48:48.178Z"
   },
   {
    "duration": 14,
    "start_time": "2022-02-02T13:48:48.195Z"
   },
   {
    "duration": 49,
    "start_time": "2022-02-02T13:48:48.211Z"
   },
   {
    "duration": 15,
    "start_time": "2022-02-02T13:48:48.262Z"
   },
   {
    "duration": 8,
    "start_time": "2022-02-02T13:48:48.279Z"
   },
   {
    "duration": 23,
    "start_time": "2022-02-02T13:48:48.288Z"
   },
   {
    "duration": 17,
    "start_time": "2022-02-02T13:48:48.312Z"
   },
   {
    "duration": 31,
    "start_time": "2022-02-02T13:48:48.331Z"
   },
   {
    "duration": 36,
    "start_time": "2022-02-02T13:48:48.365Z"
   },
   {
    "duration": 14,
    "start_time": "2022-02-02T13:48:48.403Z"
   },
   {
    "duration": 18,
    "start_time": "2022-02-02T13:48:48.419Z"
   },
   {
    "duration": 15,
    "start_time": "2022-02-02T13:48:48.460Z"
   },
   {
    "duration": 13,
    "start_time": "2022-02-02T13:48:48.477Z"
   },
   {
    "duration": 5,
    "start_time": "2022-02-02T13:48:48.492Z"
   },
   {
    "duration": 7,
    "start_time": "2022-02-02T13:48:48.498Z"
   },
   {
    "duration": 6,
    "start_time": "2022-02-02T13:48:48.507Z"
   },
   {
    "duration": 241,
    "start_time": "2022-02-02T14:45:35.260Z"
   },
   {
    "duration": 348,
    "start_time": "2022-02-02T14:46:03.324Z"
   },
   {
    "duration": 204,
    "start_time": "2022-02-02T14:46:41.538Z"
   },
   {
    "duration": 217,
    "start_time": "2022-02-02T14:47:19.814Z"
   },
   {
    "duration": 95,
    "start_time": "2022-02-02T14:48:55.817Z"
   },
   {
    "duration": 258,
    "start_time": "2022-02-02T14:51:21.186Z"
   },
   {
    "duration": 66,
    "start_time": "2022-02-02T15:03:48.564Z"
   },
   {
    "duration": 243,
    "start_time": "2022-02-02T15:06:26.506Z"
   },
   {
    "duration": 7,
    "start_time": "2022-02-02T15:08:27.149Z"
   },
   {
    "duration": 764,
    "start_time": "2022-02-02T15:11:47.614Z"
   },
   {
    "duration": 144,
    "start_time": "2022-02-02T15:11:48.381Z"
   },
   {
    "duration": 17,
    "start_time": "2022-02-02T15:11:48.527Z"
   },
   {
    "duration": 36,
    "start_time": "2022-02-02T15:11:48.546Z"
   },
   {
    "duration": 5,
    "start_time": "2022-02-02T15:11:48.584Z"
   },
   {
    "duration": 39,
    "start_time": "2022-02-02T15:11:48.591Z"
   },
   {
    "duration": 7,
    "start_time": "2022-02-02T15:11:48.632Z"
   },
   {
    "duration": 41,
    "start_time": "2022-02-02T15:11:48.643Z"
   },
   {
    "duration": 45,
    "start_time": "2022-02-02T15:11:48.688Z"
   },
   {
    "duration": 41,
    "start_time": "2022-02-02T15:11:48.735Z"
   },
   {
    "duration": 78,
    "start_time": "2022-02-02T15:11:48.777Z"
   },
   {
    "duration": 83,
    "start_time": "2022-02-02T15:11:48.856Z"
   },
   {
    "duration": 85,
    "start_time": "2022-02-02T15:11:48.941Z"
   },
   {
    "duration": 72,
    "start_time": "2022-02-02T15:11:49.028Z"
   },
   {
    "duration": 17,
    "start_time": "2022-02-02T15:11:49.102Z"
   },
   {
    "duration": 18,
    "start_time": "2022-02-02T15:11:49.121Z"
   },
   {
    "duration": 78,
    "start_time": "2022-02-02T15:11:49.141Z"
   },
   {
    "duration": 10,
    "start_time": "2022-02-02T15:11:49.221Z"
   },
   {
    "duration": 12,
    "start_time": "2022-02-02T15:11:49.233Z"
   },
   {
    "duration": 3,
    "start_time": "2022-02-02T15:11:49.247Z"
   },
   {
    "duration": 31,
    "start_time": "2022-02-02T15:11:49.252Z"
   },
   {
    "duration": 33,
    "start_time": "2022-02-02T15:11:49.285Z"
   },
   {
    "duration": 22,
    "start_time": "2022-02-02T15:11:49.323Z"
   },
   {
    "duration": 14,
    "start_time": "2022-02-02T15:11:49.347Z"
   },
   {
    "duration": 17,
    "start_time": "2022-02-02T15:11:49.362Z"
   },
   {
    "duration": 41,
    "start_time": "2022-02-02T15:11:49.381Z"
   },
   {
    "duration": 9,
    "start_time": "2022-02-02T15:11:49.424Z"
   },
   {
    "duration": 41,
    "start_time": "2022-02-02T15:11:49.435Z"
   },
   {
    "duration": 37,
    "start_time": "2022-02-02T15:11:49.480Z"
   },
   {
    "duration": 3,
    "start_time": "2022-02-02T15:11:49.520Z"
   },
   {
    "duration": 24,
    "start_time": "2022-02-02T15:11:49.525Z"
   },
   {
    "duration": 26,
    "start_time": "2022-02-02T15:11:49.551Z"
   },
   {
    "duration": 47,
    "start_time": "2022-02-02T15:11:49.579Z"
   },
   {
    "duration": 19,
    "start_time": "2022-02-02T15:11:49.629Z"
   },
   {
    "duration": 18,
    "start_time": "2022-02-02T15:11:49.651Z"
   },
   {
    "duration": 7,
    "start_time": "2022-02-02T15:11:49.671Z"
   },
   {
    "duration": 12,
    "start_time": "2022-02-02T15:11:49.680Z"
   },
   {
    "duration": 12,
    "start_time": "2022-02-02T15:11:49.693Z"
   },
   {
    "duration": 652,
    "start_time": "2022-02-02T15:20:43.623Z"
   },
   {
    "duration": 159,
    "start_time": "2022-02-02T15:20:44.277Z"
   },
   {
    "duration": 27,
    "start_time": "2022-02-02T15:20:44.439Z"
   },
   {
    "duration": 59,
    "start_time": "2022-02-02T15:20:44.469Z"
   },
   {
    "duration": 5,
    "start_time": "2022-02-02T15:20:44.531Z"
   },
   {
    "duration": 25,
    "start_time": "2022-02-02T15:20:44.537Z"
   },
   {
    "duration": 7,
    "start_time": "2022-02-02T15:20:44.564Z"
   },
   {
    "duration": 46,
    "start_time": "2022-02-02T15:20:44.574Z"
   },
   {
    "duration": 21,
    "start_time": "2022-02-02T15:20:44.622Z"
   },
   {
    "duration": 43,
    "start_time": "2022-02-02T15:20:44.646Z"
   },
   {
    "duration": 114,
    "start_time": "2022-02-02T15:20:44.691Z"
   },
   {
    "duration": 78,
    "start_time": "2022-02-02T15:20:44.818Z"
   },
   {
    "duration": 68,
    "start_time": "2022-02-02T15:20:44.898Z"
   },
   {
    "duration": 51,
    "start_time": "2022-02-02T15:20:44.968Z"
   },
   {
    "duration": 3,
    "start_time": "2022-02-02T15:20:45.022Z"
   },
   {
    "duration": 22,
    "start_time": "2022-02-02T15:20:45.027Z"
   },
   {
    "duration": 45,
    "start_time": "2022-02-02T15:20:45.051Z"
   },
   {
    "duration": 12,
    "start_time": "2022-02-02T15:20:45.118Z"
   },
   {
    "duration": 11,
    "start_time": "2022-02-02T15:20:45.132Z"
   },
   {
    "duration": 6,
    "start_time": "2022-02-02T15:20:45.145Z"
   },
   {
    "duration": 27,
    "start_time": "2022-02-02T15:20:45.153Z"
   },
   {
    "duration": 41,
    "start_time": "2022-02-02T15:20:45.182Z"
   },
   {
    "duration": 19,
    "start_time": "2022-02-02T15:20:45.228Z"
   },
   {
    "duration": 18,
    "start_time": "2022-02-02T15:20:45.249Z"
   },
   {
    "duration": 17,
    "start_time": "2022-02-02T15:20:45.269Z"
   },
   {
    "duration": 40,
    "start_time": "2022-02-02T15:20:45.288Z"
   },
   {
    "duration": 15,
    "start_time": "2022-02-02T15:20:45.330Z"
   },
   {
    "duration": 23,
    "start_time": "2022-02-02T15:20:45.348Z"
   },
   {
    "duration": 47,
    "start_time": "2022-02-02T15:20:45.373Z"
   },
   {
    "duration": 5,
    "start_time": "2022-02-02T15:20:45.422Z"
   },
   {
    "duration": 24,
    "start_time": "2022-02-02T15:20:45.429Z"
   },
   {
    "duration": 14,
    "start_time": "2022-02-02T15:20:45.455Z"
   },
   {
    "duration": 19,
    "start_time": "2022-02-02T15:20:45.471Z"
   },
   {
    "duration": 41,
    "start_time": "2022-02-02T15:20:45.492Z"
   },
   {
    "duration": 17,
    "start_time": "2022-02-02T15:20:45.535Z"
   },
   {
    "duration": 7,
    "start_time": "2022-02-02T15:20:45.554Z"
   },
   {
    "duration": 9,
    "start_time": "2022-02-02T15:20:45.563Z"
   },
   {
    "duration": 7,
    "start_time": "2022-02-02T15:20:45.574Z"
   }
  ],
  "colab": {
   "collapsed_sections": [
    "E0vqbgi9ay0H",
    "VUC88oWjTJw2"
   ],
   "name": "yandex_music_project_2021.2.ipynb",
   "provenance": []
  },
  "interpreter": {
   "hash": "e7d4d1fdefab968d87dae697830712be305784682ed311731942beb8000e292d"
  },
  "kernelspec": {
   "display_name": "Python 3.10.1 64-bit",
   "language": "python",
   "name": "python3"
  },
  "language_info": {
   "codemirror_mode": {
    "name": "ipython",
    "version": 3
   },
   "file_extension": ".py",
   "mimetype": "text/x-python",
   "name": "python",
   "nbconvert_exporter": "python",
   "pygments_lexer": "ipython3",
   "version": "3.10.1"
  },
  "toc": {
   "base_numbering": 1,
   "nav_menu": {},
   "number_sections": true,
   "sideBar": true,
   "skip_h1_title": true,
   "title_cell": "Table of Contents",
   "title_sidebar": "Contents",
   "toc_cell": false,
   "toc_position": {
    "height": "calc(100% - 180px)",
    "left": "10px",
    "top": "150px",
    "width": "302.391px"
   },
   "toc_section_display": true,
   "toc_window_display": true
  }
 },
 "nbformat": 4,
 "nbformat_minor": 1
}
